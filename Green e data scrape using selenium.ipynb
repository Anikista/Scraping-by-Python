{
 "cells": [
  {
   "cell_type": "code",
   "execution_count": 1,
   "id": "c5c21cce",
   "metadata": {
    "scrolled": true
   },
   "outputs": [
    {
     "name": "stdout",
     "output_type": "stream",
     "text": [
      "\n"
     ]
    },
    {
     "name": "stderr",
     "output_type": "stream",
     "text": [
      "[WDM] - ====== WebDriver manager ======\n",
      "[WDM] - Current google-chrome version is 103.0.5060\n",
      "[WDM] - Get LATEST chromedriver version for 103.0.5060 google-chrome\n",
      "[WDM] - Driver [C:\\Users\\USER\\.wdm\\drivers\\chromedriver\\win32\\103.0.5060.53\\chromedriver.exe] found in cache\n",
      "C:\\Users\\USER\\AppData\\Local\\Temp\\ipykernel_11352\\4070367007.py:18: DeprecationWarning: executable_path has been deprecated, please pass in a Service object\n",
      "  driver = webdriver.Chrome(ChromeDriverManager().install())\n"
     ]
    }
   ],
   "source": [
    "import selenium                                                \n",
    "import pandas as pd \n",
    "import re\n",
    "from selenium import webdriver\n",
    "from selenium.common.exceptions import NoSuchElementException\n",
    "from selenium.common.exceptions import TimeoutException\n",
    "from selenium.webdriver.support import expected_conditions as EC\n",
    "from selenium.webdriver.support.ui import WebDriverWait\n",
    "from selenium.webdriver.chrome.options import Options\n",
    "from selenium.webdriver.common.by import By\n",
    "import time\n",
    "from selenium.webdriver.common.action_chains import ActionChains\n",
    "import string\n",
    "import os, platform\n",
    "import requests\n",
    "from bs4 import BeautifulSoup\n",
    "from webdriver_manager.chrome import ChromeDriverManager      \n",
    "driver = webdriver.Chrome(ChromeDriverManager().install())\n",
    "#driver = webdriver.Chrome(executable_path='/Users/USER/Desktop/Pcodes/chorom')\n",
    "driver.maximize_window()"
   ]
  },
  {
   "cell_type": "code",
   "execution_count": 2,
   "id": "bf32b08e",
   "metadata": {},
   "outputs": [
    {
     "name": "stdout",
     "output_type": "stream",
     "text": [
      "https://www.green-e.org/certified-resources\n"
     ]
    }
   ],
   "source": [
    "url = 'https://www.green-e.org/certified-resources '\n",
    "driver.get(url)"
   ]
  },
  {
   "cell_type": "code",
   "execution_count": 3,
   "id": "9485458f",
   "metadata": {},
   "outputs": [],
   "source": [
    "#cc = driver.find_elements(By.CSS_SELECTOR, \"#block-views-resources-block-resources-res > div > div > div.view-content > table > tbody > tr > td:nth-child(1) > a\")\n",
    "#cc =cc[5].text\n",
    "#cc"
   ]
  },
  {
   "cell_type": "code",
   "execution_count": 4,
   "id": "b061ba24",
   "metadata": {},
   "outputs": [],
   "source": [
    "#ll = len(cc)\n",
    "#ll"
   ]
  },
  {
   "cell_type": "code",
   "execution_count": 5,
   "id": "593b05fc",
   "metadata": {},
   "outputs": [],
   "source": [
    "#clk = driver.find_elements(By.CSS_SELECTOR, \"#block-views-resources-block-resources-res > div > div > div.view-content > table > tbody > tr > td:nth-child(1) > a\")\n",
    "#clk = clk[1]\n",
    "#driver.execute_script(\"arguments[0].click();\", clk)#"
   ]
  },
  {
   "cell_type": "code",
   "execution_count": 6,
   "id": "702be032",
   "metadata": {},
   "outputs": [],
   "source": [
    "#web = driver.find_element(By.CSS_SELECTOR,'#provider-detail > div.row.clearfix.content > div > div:nth-child(2) > div > span:nth-child(2) > a')\n",
    "#web = web.text\n",
    "#web"
   ]
  },
  {
   "cell_type": "code",
   "execution_count": 4,
   "id": "8f6617f9",
   "metadata": {},
   "outputs": [
    {
     "data": {
      "text/html": [
       "<div>\n",
       "<style scoped>\n",
       "    .dataframe tbody tr th:only-of-type {\n",
       "        vertical-align: middle;\n",
       "    }\n",
       "\n",
       "    .dataframe tbody tr th {\n",
       "        vertical-align: top;\n",
       "    }\n",
       "\n",
       "    .dataframe thead th {\n",
       "        text-align: right;\n",
       "    }\n",
       "</style>\n",
       "<table border=\"1\" class=\"dataframe\">\n",
       "  <thead>\n",
       "    <tr style=\"text-align: right;\">\n",
       "      <th></th>\n",
       "      <th>Company</th>\n",
       "      <th>Website</th>\n",
       "    </tr>\n",
       "  </thead>\n",
       "  <tbody>\n",
       "    <tr>\n",
       "      <th>0</th>\n",
       "      <td>NaN</td>\n",
       "      <td>NaN</td>\n",
       "    </tr>\n",
       "  </tbody>\n",
       "</table>\n",
       "</div>"
      ],
      "text/plain": [
       "  Company Website\n",
       "0     NaN     NaN"
      ]
     },
     "execution_count": 4,
     "metadata": {},
     "output_type": "execute_result"
    }
   ],
   "source": [
    "Dic = {}\n",
    "gc= pd.DataFrame(data=Dic,index=[0], \n",
    "                columns=['Company',\n",
    "                        'Website'])\n",
    "gc"
   ]
  },
  {
   "cell_type": "code",
   "execution_count": 5,
   "id": "e3adee28",
   "metadata": {},
   "outputs": [
    {
     "name": "stderr",
     "output_type": "stream",
     "text": [
      "C:\\Users\\USER\\AppData\\Local\\Temp\\ipykernel_17652\\3827693980.py:19: FutureWarning: The frame.append method is deprecated and will be removed from pandas in a future version. Use pandas.concat instead.\n",
      "  gc = gc.append(Dic, ignore_index=True)\n"
     ]
    },
    {
     "name": "stdout",
     "output_type": "stream",
     "text": [
      "         Company                   Website\n",
      "0            NaN                       NaN\n",
      "1  3Degrees Inc.  https://3degreesinc.com/\n"
     ]
    },
    {
     "name": "stderr",
     "output_type": "stream",
     "text": [
      "C:\\Users\\USER\\AppData\\Local\\Temp\\ipykernel_17652\\3827693980.py:19: FutureWarning: The frame.append method is deprecated and will be removed from pandas in a future version. Use pandas.concat instead.\n",
      "  gc = gc.append(Dic, ignore_index=True)\n"
     ]
    },
    {
     "name": "stdout",
     "output_type": "stream",
     "text": [
      "         Company                   Website\n",
      "0            NaN                       NaN\n",
      "1  3Degrees Inc.  https://3degreesinc.com/\n",
      "2  3Degrees Inc.  https://3degreesinc.com/\n"
     ]
    },
    {
     "name": "stderr",
     "output_type": "stream",
     "text": [
      "C:\\Users\\USER\\AppData\\Local\\Temp\\ipykernel_17652\\3827693980.py:19: FutureWarning: The frame.append method is deprecated and will be removed from pandas in a future version. Use pandas.concat instead.\n",
      "  gc = gc.append(Dic, ignore_index=True)\n"
     ]
    },
    {
     "name": "stdout",
     "output_type": "stream",
     "text": [
      "              Company                            Website\n",
      "0                 NaN                                NaN\n",
      "1       3Degrees Inc.           https://3degreesinc.com/\n",
      "2       3Degrees Inc.           https://3degreesinc.com/\n",
      "3  3Phases Renewables  http://www.3phasesrenewables.com/\n"
     ]
    },
    {
     "name": "stderr",
     "output_type": "stream",
     "text": [
      "C:\\Users\\USER\\AppData\\Local\\Temp\\ipykernel_17652\\3827693980.py:19: FutureWarning: The frame.append method is deprecated and will be removed from pandas in a future version. Use pandas.concat instead.\n",
      "  gc = gc.append(Dic, ignore_index=True)\n"
     ]
    },
    {
     "name": "stdout",
     "output_type": "stream",
     "text": [
      "              Company                            Website\n",
      "0                 NaN                                NaN\n",
      "1       3Degrees Inc.           https://3degreesinc.com/\n",
      "2       3Degrees Inc.           https://3degreesinc.com/\n",
      "3  3Phases Renewables  http://www.3phasesrenewables.com/\n",
      "4  3Phases Renewables  http://www.3phasesrenewables.com/\n"
     ]
    },
    {
     "name": "stderr",
     "output_type": "stream",
     "text": [
      "C:\\Users\\USER\\AppData\\Local\\Temp\\ipykernel_17652\\3827693980.py:19: FutureWarning: The frame.append method is deprecated and will be removed from pandas in a future version. Use pandas.concat instead.\n",
      "  gc = gc.append(Dic, ignore_index=True)\n"
     ]
    },
    {
     "name": "stdout",
     "output_type": "stream",
     "text": [
      "              Company                            Website\n",
      "0                 NaN                                NaN\n",
      "1       3Degrees Inc.           https://3degreesinc.com/\n",
      "2       3Degrees Inc.           https://3degreesinc.com/\n",
      "3  3Phases Renewables  http://www.3phasesrenewables.com/\n",
      "4  3Phases Renewables  http://www.3phasesrenewables.com/\n",
      "5  3Phases Renewables  http://www.3phasesrenewables.com/\n"
     ]
    },
    {
     "name": "stderr",
     "output_type": "stream",
     "text": [
      "C:\\Users\\USER\\AppData\\Local\\Temp\\ipykernel_17652\\3827693980.py:19: FutureWarning: The frame.append method is deprecated and will be removed from pandas in a future version. Use pandas.concat instead.\n",
      "  gc = gc.append(Dic, ignore_index=True)\n"
     ]
    },
    {
     "name": "stdout",
     "output_type": "stream",
     "text": [
      "              Company                            Website\n",
      "0                 NaN                                NaN\n",
      "1       3Degrees Inc.           https://3degreesinc.com/\n",
      "2       3Degrees Inc.           https://3degreesinc.com/\n",
      "3  3Phases Renewables  http://www.3phasesrenewables.com/\n",
      "4  3Phases Renewables  http://www.3phasesrenewables.com/\n",
      "5  3Phases Renewables  http://www.3phasesrenewables.com/\n",
      "6  3Phases Renewables  http://www.3phasesrenewables.com/\n"
     ]
    },
    {
     "name": "stderr",
     "output_type": "stream",
     "text": [
      "C:\\Users\\USER\\AppData\\Local\\Temp\\ipykernel_17652\\3827693980.py:19: FutureWarning: The frame.append method is deprecated and will be removed from pandas in a future version. Use pandas.concat instead.\n",
      "  gc = gc.append(Dic, ignore_index=True)\n"
     ]
    },
    {
     "name": "stdout",
     "output_type": "stream",
     "text": [
      "                 Company                            Website\n",
      "0                    NaN                                NaN\n",
      "1          3Degrees Inc.           https://3degreesinc.com/\n",
      "2          3Degrees Inc.           https://3degreesinc.com/\n",
      "3     3Phases Renewables  http://www.3phasesrenewables.com/\n",
      "4     3Phases Renewables  http://www.3phasesrenewables.com/\n",
      "5     3Phases Renewables  http://www.3phasesrenewables.com/\n",
      "6     3Phases Renewables  http://www.3phasesrenewables.com/\n",
      "7  ACT Commodities, Inc.    https://www.actcommodities.com/\n"
     ]
    },
    {
     "name": "stderr",
     "output_type": "stream",
     "text": [
      "C:\\Users\\USER\\AppData\\Local\\Temp\\ipykernel_17652\\3827693980.py:19: FutureWarning: The frame.append method is deprecated and will be removed from pandas in a future version. Use pandas.concat instead.\n",
      "  gc = gc.append(Dic, ignore_index=True)\n"
     ]
    },
    {
     "name": "stdout",
     "output_type": "stream",
     "text": [
      "                 Company                            Website\n",
      "0                    NaN                                NaN\n",
      "1          3Degrees Inc.           https://3degreesinc.com/\n",
      "2          3Degrees Inc.           https://3degreesinc.com/\n",
      "3     3Phases Renewables  http://www.3phasesrenewables.com/\n",
      "4     3Phases Renewables  http://www.3phasesrenewables.com/\n",
      "5     3Phases Renewables  http://www.3phasesrenewables.com/\n",
      "6     3Phases Renewables  http://www.3phasesrenewables.com/\n",
      "7  ACT Commodities, Inc.    https://www.actcommodities.com/\n",
      "8  ACT Commodities, Inc.    https://www.actcommodities.com/\n"
     ]
    },
    {
     "name": "stderr",
     "output_type": "stream",
     "text": [
      "C:\\Users\\USER\\AppData\\Local\\Temp\\ipykernel_17652\\3827693980.py:19: FutureWarning: The frame.append method is deprecated and will be removed from pandas in a future version. Use pandas.concat instead.\n",
      "  gc = gc.append(Dic, ignore_index=True)\n"
     ]
    },
    {
     "name": "stdout",
     "output_type": "stream",
     "text": [
      "                 Company                            Website\n",
      "0                    NaN                                NaN\n",
      "1          3Degrees Inc.           https://3degreesinc.com/\n",
      "2          3Degrees Inc.           https://3degreesinc.com/\n",
      "3     3Phases Renewables  http://www.3phasesrenewables.com/\n",
      "4     3Phases Renewables  http://www.3phasesrenewables.com/\n",
      "5     3Phases Renewables  http://www.3phasesrenewables.com/\n",
      "6     3Phases Renewables  http://www.3phasesrenewables.com/\n",
      "7  ACT Commodities, Inc.    https://www.actcommodities.com/\n",
      "8  ACT Commodities, Inc.    https://www.actcommodities.com/\n",
      "9       AEP Energy, Inc.         https://www.aepenergy.com/\n"
     ]
    },
    {
     "name": "stderr",
     "output_type": "stream",
     "text": [
      "C:\\Users\\USER\\AppData\\Local\\Temp\\ipykernel_17652\\3827693980.py:19: FutureWarning: The frame.append method is deprecated and will be removed from pandas in a future version. Use pandas.concat instead.\n",
      "  gc = gc.append(Dic, ignore_index=True)\n"
     ]
    },
    {
     "name": "stdout",
     "output_type": "stream",
     "text": [
      "                  Company                            Website\n",
      "0                     NaN                                NaN\n",
      "1           3Degrees Inc.           https://3degreesinc.com/\n",
      "2           3Degrees Inc.           https://3degreesinc.com/\n",
      "3      3Phases Renewables  http://www.3phasesrenewables.com/\n",
      "4      3Phases Renewables  http://www.3phasesrenewables.com/\n",
      "5      3Phases Renewables  http://www.3phasesrenewables.com/\n",
      "6      3Phases Renewables  http://www.3phasesrenewables.com/\n",
      "7   ACT Commodities, Inc.    https://www.actcommodities.com/\n",
      "8   ACT Commodities, Inc.    https://www.actcommodities.com/\n",
      "9        AEP Energy, Inc.         https://www.aepenergy.com/\n",
      "10       AEP Energy, Inc.         https://www.aepenergy.com/\n"
     ]
    },
    {
     "name": "stderr",
     "output_type": "stream",
     "text": [
      "C:\\Users\\USER\\AppData\\Local\\Temp\\ipykernel_17652\\3827693980.py:19: FutureWarning: The frame.append method is deprecated and will be removed from pandas in a future version. Use pandas.concat instead.\n",
      "  gc = gc.append(Dic, ignore_index=True)\n"
     ]
    },
    {
     "name": "stdout",
     "output_type": "stream",
     "text": [
      "                  Company                            Website\n",
      "0                     NaN                                NaN\n",
      "1           3Degrees Inc.           https://3degreesinc.com/\n",
      "2           3Degrees Inc.           https://3degreesinc.com/\n",
      "3      3Phases Renewables  http://www.3phasesrenewables.com/\n",
      "4      3Phases Renewables  http://www.3phasesrenewables.com/\n",
      "5      3Phases Renewables  http://www.3phasesrenewables.com/\n",
      "6      3Phases Renewables  http://www.3phasesrenewables.com/\n",
      "7   ACT Commodities, Inc.    https://www.actcommodities.com/\n",
      "8   ACT Commodities, Inc.    https://www.actcommodities.com/\n",
      "9        AEP Energy, Inc.         https://www.aepenergy.com/\n",
      "10       AEP Energy, Inc.         https://www.aepenergy.com/\n",
      "11            Agendi Inc.                 https://agendi.co/\n"
     ]
    },
    {
     "name": "stderr",
     "output_type": "stream",
     "text": [
      "C:\\Users\\USER\\AppData\\Local\\Temp\\ipykernel_17652\\3827693980.py:19: FutureWarning: The frame.append method is deprecated and will be removed from pandas in a future version. Use pandas.concat instead.\n",
      "  gc = gc.append(Dic, ignore_index=True)\n"
     ]
    },
    {
     "name": "stdout",
     "output_type": "stream",
     "text": [
      "                  Company                            Website\n",
      "0                     NaN                                NaN\n",
      "1           3Degrees Inc.           https://3degreesinc.com/\n",
      "2           3Degrees Inc.           https://3degreesinc.com/\n",
      "3      3Phases Renewables  http://www.3phasesrenewables.com/\n",
      "4      3Phases Renewables  http://www.3phasesrenewables.com/\n",
      "5      3Phases Renewables  http://www.3phasesrenewables.com/\n",
      "6      3Phases Renewables  http://www.3phasesrenewables.com/\n",
      "7   ACT Commodities, Inc.    https://www.actcommodities.com/\n",
      "8   ACT Commodities, Inc.    https://www.actcommodities.com/\n",
      "9        AEP Energy, Inc.         https://www.aepenergy.com/\n",
      "10       AEP Energy, Inc.         https://www.aepenergy.com/\n",
      "11            Agendi Inc.                 https://agendi.co/\n",
      "12      Aggressive Energy       http://www.aggressiveny.com/\n"
     ]
    },
    {
     "name": "stderr",
     "output_type": "stream",
     "text": [
      "C:\\Users\\USER\\AppData\\Local\\Temp\\ipykernel_17652\\3827693980.py:19: FutureWarning: The frame.append method is deprecated and will be removed from pandas in a future version. Use pandas.concat instead.\n",
      "  gc = gc.append(Dic, ignore_index=True)\n"
     ]
    },
    {
     "name": "stdout",
     "output_type": "stream",
     "text": [
      "                    Company                            Website\n",
      "0                       NaN                                NaN\n",
      "1             3Degrees Inc.           https://3degreesinc.com/\n",
      "2             3Degrees Inc.           https://3degreesinc.com/\n",
      "3        3Phases Renewables  http://www.3phasesrenewables.com/\n",
      "4        3Phases Renewables  http://www.3phasesrenewables.com/\n",
      "5        3Phases Renewables  http://www.3phasesrenewables.com/\n",
      "6        3Phases Renewables  http://www.3phasesrenewables.com/\n",
      "7     ACT Commodities, Inc.    https://www.actcommodities.com/\n",
      "8     ACT Commodities, Inc.    https://www.actcommodities.com/\n",
      "9          AEP Energy, Inc.         https://www.aepenergy.com/\n",
      "10         AEP Energy, Inc.         https://www.aepenergy.com/\n",
      "11              Agendi Inc.                 https://agendi.co/\n",
      "12        Aggressive Energy       http://www.aggressiveny.com/\n",
      "13  Alameda Municipal Power          http://www.alamedamp.com/\n"
     ]
    },
    {
     "name": "stderr",
     "output_type": "stream",
     "text": [
      "C:\\Users\\USER\\AppData\\Local\\Temp\\ipykernel_17652\\3827693980.py:19: FutureWarning: The frame.append method is deprecated and will be removed from pandas in a future version. Use pandas.concat instead.\n",
      "  gc = gc.append(Dic, ignore_index=True)\n"
     ]
    },
    {
     "name": "stdout",
     "output_type": "stream",
     "text": [
      "                    Company                            Website\n",
      "0                       NaN                                NaN\n",
      "1             3Degrees Inc.           https://3degreesinc.com/\n",
      "2             3Degrees Inc.           https://3degreesinc.com/\n",
      "3        3Phases Renewables  http://www.3phasesrenewables.com/\n",
      "4        3Phases Renewables  http://www.3phasesrenewables.com/\n",
      "5        3Phases Renewables  http://www.3phasesrenewables.com/\n",
      "6        3Phases Renewables  http://www.3phasesrenewables.com/\n",
      "7     ACT Commodities, Inc.    https://www.actcommodities.com/\n",
      "8     ACT Commodities, Inc.    https://www.actcommodities.com/\n",
      "9          AEP Energy, Inc.         https://www.aepenergy.com/\n",
      "10         AEP Energy, Inc.         https://www.aepenergy.com/\n",
      "11              Agendi Inc.                 https://agendi.co/\n",
      "12        Aggressive Energy       http://www.aggressiveny.com/\n",
      "13  Alameda Municipal Power          http://www.alamedamp.com/\n",
      "14  Alameda Municipal Power          http://www.alamedamp.com/\n"
     ]
    },
    {
     "name": "stderr",
     "output_type": "stream",
     "text": [
      "C:\\Users\\USER\\AppData\\Local\\Temp\\ipykernel_17652\\3827693980.py:19: FutureWarning: The frame.append method is deprecated and will be removed from pandas in a future version. Use pandas.concat instead.\n",
      "  gc = gc.append(Dic, ignore_index=True)\n"
     ]
    },
    {
     "name": "stdout",
     "output_type": "stream",
     "text": [
      "                    Company                            Website\n",
      "0                       NaN                                NaN\n",
      "1             3Degrees Inc.           https://3degreesinc.com/\n",
      "2             3Degrees Inc.           https://3degreesinc.com/\n",
      "3        3Phases Renewables  http://www.3phasesrenewables.com/\n",
      "4        3Phases Renewables  http://www.3phasesrenewables.com/\n",
      "5        3Phases Renewables  http://www.3phasesrenewables.com/\n",
      "6        3Phases Renewables  http://www.3phasesrenewables.com/\n",
      "7     ACT Commodities, Inc.    https://www.actcommodities.com/\n",
      "8     ACT Commodities, Inc.    https://www.actcommodities.com/\n",
      "9          AEP Energy, Inc.         https://www.aepenergy.com/\n",
      "10         AEP Energy, Inc.         https://www.aepenergy.com/\n",
      "11              Agendi Inc.                 https://agendi.co/\n",
      "12        Aggressive Energy       http://www.aggressiveny.com/\n",
      "13  Alameda Municipal Power          http://www.alamedamp.com/\n",
      "14  Alameda Municipal Power          http://www.alamedamp.com/\n",
      "15          Algonquin Power        https://algonquinpower.com/\n"
     ]
    },
    {
     "name": "stderr",
     "output_type": "stream",
     "text": [
      "C:\\Users\\USER\\AppData\\Local\\Temp\\ipykernel_17652\\3827693980.py:19: FutureWarning: The frame.append method is deprecated and will be removed from pandas in a future version. Use pandas.concat instead.\n",
      "  gc = gc.append(Dic, ignore_index=True)\n"
     ]
    },
    {
     "name": "stdout",
     "output_type": "stream",
     "text": [
      "                    Company                            Website\n",
      "0                       NaN                                NaN\n",
      "1             3Degrees Inc.           https://3degreesinc.com/\n",
      "2             3Degrees Inc.           https://3degreesinc.com/\n",
      "3        3Phases Renewables  http://www.3phasesrenewables.com/\n",
      "4        3Phases Renewables  http://www.3phasesrenewables.com/\n",
      "5        3Phases Renewables  http://www.3phasesrenewables.com/\n",
      "6        3Phases Renewables  http://www.3phasesrenewables.com/\n",
      "7     ACT Commodities, Inc.    https://www.actcommodities.com/\n",
      "8     ACT Commodities, Inc.    https://www.actcommodities.com/\n",
      "9          AEP Energy, Inc.         https://www.aepenergy.com/\n",
      "10         AEP Energy, Inc.         https://www.aepenergy.com/\n",
      "11              Agendi Inc.                 https://agendi.co/\n",
      "12        Aggressive Energy       http://www.aggressiveny.com/\n",
      "13  Alameda Municipal Power          http://www.alamedamp.com/\n",
      "14  Alameda Municipal Power          http://www.alamedamp.com/\n",
      "15          Algonquin Power        https://algonquinpower.com/\n",
      "16      ALLETE Clean Energy      http://alletecleanenergy.com/\n"
     ]
    },
    {
     "name": "stderr",
     "output_type": "stream",
     "text": [
      "C:\\Users\\USER\\AppData\\Local\\Temp\\ipykernel_17652\\3827693980.py:19: FutureWarning: The frame.append method is deprecated and will be removed from pandas in a future version. Use pandas.concat instead.\n",
      "  gc = gc.append(Dic, ignore_index=True)\n"
     ]
    },
    {
     "name": "stdout",
     "output_type": "stream",
     "text": [
      "                    Company                            Website\n",
      "0                       NaN                                NaN\n",
      "1             3Degrees Inc.           https://3degreesinc.com/\n",
      "2             3Degrees Inc.           https://3degreesinc.com/\n",
      "3        3Phases Renewables  http://www.3phasesrenewables.com/\n",
      "4        3Phases Renewables  http://www.3phasesrenewables.com/\n",
      "5        3Phases Renewables  http://www.3phasesrenewables.com/\n",
      "6        3Phases Renewables  http://www.3phasesrenewables.com/\n",
      "7     ACT Commodities, Inc.    https://www.actcommodities.com/\n",
      "8     ACT Commodities, Inc.    https://www.actcommodities.com/\n",
      "9          AEP Energy, Inc.         https://www.aepenergy.com/\n",
      "10         AEP Energy, Inc.         https://www.aepenergy.com/\n",
      "11              Agendi Inc.                 https://agendi.co/\n",
      "12        Aggressive Energy       http://www.aggressiveny.com/\n",
      "13  Alameda Municipal Power          http://www.alamedamp.com/\n",
      "14  Alameda Municipal Power          http://www.alamedamp.com/\n",
      "15          Algonquin Power        https://algonquinpower.com/\n",
      "16      ALLETE Clean Energy      http://alletecleanenergy.com/\n",
      "17           Alliant Energy     https://www.alliantenergy.com/\n"
     ]
    },
    {
     "name": "stderr",
     "output_type": "stream",
     "text": [
      "C:\\Users\\USER\\AppData\\Local\\Temp\\ipykernel_17652\\3827693980.py:19: FutureWarning: The frame.append method is deprecated and will be removed from pandas in a future version. Use pandas.concat instead.\n",
      "  gc = gc.append(Dic, ignore_index=True)\n"
     ]
    },
    {
     "name": "stdout",
     "output_type": "stream",
     "text": [
      "                    Company                            Website\n",
      "0                       NaN                                NaN\n",
      "1             3Degrees Inc.           https://3degreesinc.com/\n",
      "2             3Degrees Inc.           https://3degreesinc.com/\n",
      "3        3Phases Renewables  http://www.3phasesrenewables.com/\n",
      "4        3Phases Renewables  http://www.3phasesrenewables.com/\n",
      "5        3Phases Renewables  http://www.3phasesrenewables.com/\n",
      "6        3Phases Renewables  http://www.3phasesrenewables.com/\n",
      "7     ACT Commodities, Inc.    https://www.actcommodities.com/\n",
      "8     ACT Commodities, Inc.    https://www.actcommodities.com/\n",
      "9          AEP Energy, Inc.         https://www.aepenergy.com/\n",
      "10         AEP Energy, Inc.         https://www.aepenergy.com/\n",
      "11              Agendi Inc.                 https://agendi.co/\n",
      "12        Aggressive Energy       http://www.aggressiveny.com/\n",
      "13  Alameda Municipal Power          http://www.alamedamp.com/\n",
      "14  Alameda Municipal Power          http://www.alamedamp.com/\n",
      "15          Algonquin Power        https://algonquinpower.com/\n",
      "16      ALLETE Clean Energy      http://alletecleanenergy.com/\n",
      "17           Alliant Energy     https://www.alliantenergy.com/\n",
      "18           Alliant Energy     https://www.alliantenergy.com/\n"
     ]
    },
    {
     "name": "stderr",
     "output_type": "stream",
     "text": [
      "C:\\Users\\USER\\AppData\\Local\\Temp\\ipykernel_17652\\3827693980.py:19: FutureWarning: The frame.append method is deprecated and will be removed from pandas in a future version. Use pandas.concat instead.\n",
      "  gc = gc.append(Dic, ignore_index=True)\n"
     ]
    },
    {
     "name": "stdout",
     "output_type": "stream",
     "text": [
      "                    Company                              Website\n",
      "0                       NaN                                  NaN\n",
      "1             3Degrees Inc.             https://3degreesinc.com/\n",
      "2             3Degrees Inc.             https://3degreesinc.com/\n",
      "3        3Phases Renewables    http://www.3phasesrenewables.com/\n",
      "4        3Phases Renewables    http://www.3phasesrenewables.com/\n",
      "5        3Phases Renewables    http://www.3phasesrenewables.com/\n",
      "6        3Phases Renewables    http://www.3phasesrenewables.com/\n",
      "7     ACT Commodities, Inc.      https://www.actcommodities.com/\n",
      "8     ACT Commodities, Inc.      https://www.actcommodities.com/\n",
      "9          AEP Energy, Inc.           https://www.aepenergy.com/\n",
      "10         AEP Energy, Inc.           https://www.aepenergy.com/\n",
      "11              Agendi Inc.                   https://agendi.co/\n",
      "12        Aggressive Energy         http://www.aggressiveny.com/\n",
      "13  Alameda Municipal Power            http://www.alamedamp.com/\n",
      "14  Alameda Municipal Power            http://www.alamedamp.com/\n",
      "15          Algonquin Power          https://algonquinpower.com/\n",
      "16      ALLETE Clean Energy        http://alletecleanenergy.com/\n",
      "17           Alliant Energy       https://www.alliantenergy.com/\n",
      "18           Alliant Energy       https://www.alliantenergy.com/\n",
      "19     Alpha Gas & Electric  http://www.alphagasandelectric.com/\n"
     ]
    },
    {
     "name": "stderr",
     "output_type": "stream",
     "text": [
      "C:\\Users\\USER\\AppData\\Local\\Temp\\ipykernel_17652\\3827693980.py:19: FutureWarning: The frame.append method is deprecated and will be removed from pandas in a future version. Use pandas.concat instead.\n",
      "  gc = gc.append(Dic, ignore_index=True)\n"
     ]
    },
    {
     "name": "stdout",
     "output_type": "stream",
     "text": [
      "                    Company                              Website\n",
      "0                       NaN                                  NaN\n",
      "1             3Degrees Inc.             https://3degreesinc.com/\n",
      "2             3Degrees Inc.             https://3degreesinc.com/\n",
      "3        3Phases Renewables    http://www.3phasesrenewables.com/\n",
      "4        3Phases Renewables    http://www.3phasesrenewables.com/\n",
      "5        3Phases Renewables    http://www.3phasesrenewables.com/\n",
      "6        3Phases Renewables    http://www.3phasesrenewables.com/\n",
      "7     ACT Commodities, Inc.      https://www.actcommodities.com/\n",
      "8     ACT Commodities, Inc.      https://www.actcommodities.com/\n",
      "9          AEP Energy, Inc.           https://www.aepenergy.com/\n",
      "10         AEP Energy, Inc.           https://www.aepenergy.com/\n",
      "11              Agendi Inc.                   https://agendi.co/\n",
      "12        Aggressive Energy         http://www.aggressiveny.com/\n",
      "13  Alameda Municipal Power            http://www.alamedamp.com/\n",
      "14  Alameda Municipal Power            http://www.alamedamp.com/\n",
      "15          Algonquin Power          https://algonquinpower.com/\n",
      "16      ALLETE Clean Energy        http://alletecleanenergy.com/\n",
      "17           Alliant Energy       https://www.alliantenergy.com/\n",
      "18           Alliant Energy       https://www.alliantenergy.com/\n",
      "19     Alpha Gas & Electric  http://www.alphagasandelectric.com/\n",
      "20     Alpha Gas & Electric  http://www.alphagasandelectric.com/\n"
     ]
    },
    {
     "name": "stderr",
     "output_type": "stream",
     "text": [
      "C:\\Users\\USER\\AppData\\Local\\Temp\\ipykernel_17652\\3827693980.py:19: FutureWarning: The frame.append method is deprecated and will be removed from pandas in a future version. Use pandas.concat instead.\n",
      "  gc = gc.append(Dic, ignore_index=True)\n"
     ]
    },
    {
     "name": "stdout",
     "output_type": "stream",
     "text": [
      "                      Company                              Website\n",
      "0                         NaN                                  NaN\n",
      "1               3Degrees Inc.             https://3degreesinc.com/\n",
      "2               3Degrees Inc.             https://3degreesinc.com/\n",
      "3          3Phases Renewables    http://www.3phasesrenewables.com/\n",
      "4          3Phases Renewables    http://www.3phasesrenewables.com/\n",
      "5          3Phases Renewables    http://www.3phasesrenewables.com/\n",
      "6          3Phases Renewables    http://www.3phasesrenewables.com/\n",
      "7       ACT Commodities, Inc.      https://www.actcommodities.com/\n",
      "8       ACT Commodities, Inc.      https://www.actcommodities.com/\n",
      "9            AEP Energy, Inc.           https://www.aepenergy.com/\n",
      "10           AEP Energy, Inc.           https://www.aepenergy.com/\n",
      "11                Agendi Inc.                   https://agendi.co/\n",
      "12          Aggressive Energy         http://www.aggressiveny.com/\n",
      "13    Alameda Municipal Power            http://www.alamedamp.com/\n",
      "14    Alameda Municipal Power            http://www.alamedamp.com/\n",
      "15            Algonquin Power          https://algonquinpower.com/\n",
      "16        ALLETE Clean Energy        http://alletecleanenergy.com/\n",
      "17             Alliant Energy       https://www.alliantenergy.com/\n",
      "18             Alliant Energy       https://www.alliantenergy.com/\n",
      "19       Alpha Gas & Electric  http://www.alphagasandelectric.com/\n",
      "20       Alpha Gas & Electric  http://www.alphagasandelectric.com/\n",
      "21  Ambit Energy Holdings LLC          http://www.ambitenergy.com/\n"
     ]
    },
    {
     "name": "stderr",
     "output_type": "stream",
     "text": [
      "C:\\Users\\USER\\AppData\\Local\\Temp\\ipykernel_17652\\3827693980.py:19: FutureWarning: The frame.append method is deprecated and will be removed from pandas in a future version. Use pandas.concat instead.\n",
      "  gc = gc.append(Dic, ignore_index=True)\n"
     ]
    },
    {
     "name": "stdout",
     "output_type": "stream",
     "text": [
      "                      Company                              Website\n",
      "0                         NaN                                  NaN\n",
      "1               3Degrees Inc.             https://3degreesinc.com/\n",
      "2               3Degrees Inc.             https://3degreesinc.com/\n",
      "3          3Phases Renewables    http://www.3phasesrenewables.com/\n",
      "4          3Phases Renewables    http://www.3phasesrenewables.com/\n",
      "5          3Phases Renewables    http://www.3phasesrenewables.com/\n",
      "6          3Phases Renewables    http://www.3phasesrenewables.com/\n",
      "7       ACT Commodities, Inc.      https://www.actcommodities.com/\n",
      "8       ACT Commodities, Inc.      https://www.actcommodities.com/\n",
      "9            AEP Energy, Inc.           https://www.aepenergy.com/\n",
      "10           AEP Energy, Inc.           https://www.aepenergy.com/\n",
      "11                Agendi Inc.                   https://agendi.co/\n",
      "12          Aggressive Energy         http://www.aggressiveny.com/\n",
      "13    Alameda Municipal Power            http://www.alamedamp.com/\n",
      "14    Alameda Municipal Power            http://www.alamedamp.com/\n",
      "15            Algonquin Power          https://algonquinpower.com/\n",
      "16        ALLETE Clean Energy        http://alletecleanenergy.com/\n",
      "17             Alliant Energy       https://www.alliantenergy.com/\n",
      "18             Alliant Energy       https://www.alliantenergy.com/\n",
      "19       Alpha Gas & Electric  http://www.alphagasandelectric.com/\n",
      "20       Alpha Gas & Electric  http://www.alphagasandelectric.com/\n",
      "21  Ambit Energy Holdings LLC          http://www.ambitenergy.com/\n",
      "22  Ambit Energy Holdings LLC          http://www.ambitenergy.com/\n"
     ]
    },
    {
     "name": "stderr",
     "output_type": "stream",
     "text": [
      "C:\\Users\\USER\\AppData\\Local\\Temp\\ipykernel_17652\\3827693980.py:19: FutureWarning: The frame.append method is deprecated and will be removed from pandas in a future version. Use pandas.concat instead.\n",
      "  gc = gc.append(Dic, ignore_index=True)\n"
     ]
    },
    {
     "name": "stdout",
     "output_type": "stream",
     "text": [
      "                      Company                              Website\n",
      "0                         NaN                                  NaN\n",
      "1               3Degrees Inc.             https://3degreesinc.com/\n",
      "2               3Degrees Inc.             https://3degreesinc.com/\n",
      "3          3Phases Renewables    http://www.3phasesrenewables.com/\n",
      "4          3Phases Renewables    http://www.3phasesrenewables.com/\n",
      "5          3Phases Renewables    http://www.3phasesrenewables.com/\n",
      "6          3Phases Renewables    http://www.3phasesrenewables.com/\n",
      "7       ACT Commodities, Inc.      https://www.actcommodities.com/\n",
      "8       ACT Commodities, Inc.      https://www.actcommodities.com/\n",
      "9            AEP Energy, Inc.           https://www.aepenergy.com/\n",
      "10           AEP Energy, Inc.           https://www.aepenergy.com/\n",
      "11                Agendi Inc.                   https://agendi.co/\n",
      "12          Aggressive Energy         http://www.aggressiveny.com/\n",
      "13    Alameda Municipal Power            http://www.alamedamp.com/\n",
      "14    Alameda Municipal Power            http://www.alamedamp.com/\n",
      "15            Algonquin Power          https://algonquinpower.com/\n",
      "16        ALLETE Clean Energy        http://alletecleanenergy.com/\n",
      "17             Alliant Energy       https://www.alliantenergy.com/\n",
      "18             Alliant Energy       https://www.alliantenergy.com/\n",
      "19       Alpha Gas & Electric  http://www.alphagasandelectric.com/\n",
      "20       Alpha Gas & Electric  http://www.alphagasandelectric.com/\n",
      "21  Ambit Energy Holdings LLC          http://www.ambitenergy.com/\n",
      "22  Ambit Energy Holdings LLC          http://www.ambitenergy.com/\n",
      "23  Ambit Energy Holdings LLC          http://www.ambitenergy.com/\n"
     ]
    },
    {
     "name": "stderr",
     "output_type": "stream",
     "text": [
      "C:\\Users\\USER\\AppData\\Local\\Temp\\ipykernel_17652\\3827693980.py:19: FutureWarning: The frame.append method is deprecated and will be removed from pandas in a future version. Use pandas.concat instead.\n",
      "  gc = gc.append(Dic, ignore_index=True)\n"
     ]
    },
    {
     "name": "stdout",
     "output_type": "stream",
     "text": [
      "                      Company                              Website\n",
      "0                         NaN                                  NaN\n",
      "1               3Degrees Inc.             https://3degreesinc.com/\n",
      "2               3Degrees Inc.             https://3degreesinc.com/\n",
      "3          3Phases Renewables    http://www.3phasesrenewables.com/\n",
      "4          3Phases Renewables    http://www.3phasesrenewables.com/\n",
      "5          3Phases Renewables    http://www.3phasesrenewables.com/\n",
      "6          3Phases Renewables    http://www.3phasesrenewables.com/\n",
      "7       ACT Commodities, Inc.      https://www.actcommodities.com/\n",
      "8       ACT Commodities, Inc.      https://www.actcommodities.com/\n",
      "9            AEP Energy, Inc.           https://www.aepenergy.com/\n",
      "10           AEP Energy, Inc.           https://www.aepenergy.com/\n",
      "11                Agendi Inc.                   https://agendi.co/\n",
      "12          Aggressive Energy         http://www.aggressiveny.com/\n",
      "13    Alameda Municipal Power            http://www.alamedamp.com/\n",
      "14    Alameda Municipal Power            http://www.alamedamp.com/\n",
      "15            Algonquin Power          https://algonquinpower.com/\n",
      "16        ALLETE Clean Energy        http://alletecleanenergy.com/\n",
      "17             Alliant Energy       https://www.alliantenergy.com/\n",
      "18             Alliant Energy       https://www.alliantenergy.com/\n",
      "19       Alpha Gas & Electric  http://www.alphagasandelectric.com/\n",
      "20       Alpha Gas & Electric  http://www.alphagasandelectric.com/\n",
      "21  Ambit Energy Holdings LLC          http://www.ambitenergy.com/\n",
      "22  Ambit Energy Holdings LLC          http://www.ambitenergy.com/\n",
      "23  Ambit Energy Holdings LLC          http://www.ambitenergy.com/\n",
      "24  Ambit Energy Holdings LLC          http://www.ambitenergy.com/\n"
     ]
    },
    {
     "name": "stderr",
     "output_type": "stream",
     "text": [
      "C:\\Users\\USER\\AppData\\Local\\Temp\\ipykernel_17652\\3827693980.py:19: FutureWarning: The frame.append method is deprecated and will be removed from pandas in a future version. Use pandas.concat instead.\n",
      "  gc = gc.append(Dic, ignore_index=True)\n"
     ]
    },
    {
     "name": "stdout",
     "output_type": "stream",
     "text": [
      "                       Company                              Website\n",
      "0                          NaN                                  NaN\n",
      "1                3Degrees Inc.             https://3degreesinc.com/\n",
      "2                3Degrees Inc.             https://3degreesinc.com/\n",
      "3           3Phases Renewables    http://www.3phasesrenewables.com/\n",
      "4           3Phases Renewables    http://www.3phasesrenewables.com/\n",
      "5           3Phases Renewables    http://www.3phasesrenewables.com/\n",
      "6           3Phases Renewables    http://www.3phasesrenewables.com/\n",
      "7        ACT Commodities, Inc.      https://www.actcommodities.com/\n",
      "8        ACT Commodities, Inc.      https://www.actcommodities.com/\n",
      "9             AEP Energy, Inc.           https://www.aepenergy.com/\n",
      "10            AEP Energy, Inc.           https://www.aepenergy.com/\n",
      "11                 Agendi Inc.                   https://agendi.co/\n",
      "12           Aggressive Energy         http://www.aggressiveny.com/\n",
      "13     Alameda Municipal Power            http://www.alamedamp.com/\n",
      "14     Alameda Municipal Power            http://www.alamedamp.com/\n",
      "15             Algonquin Power          https://algonquinpower.com/\n",
      "16         ALLETE Clean Energy        http://alletecleanenergy.com/\n",
      "17              Alliant Energy       https://www.alliantenergy.com/\n",
      "18              Alliant Energy       https://www.alliantenergy.com/\n",
      "19        Alpha Gas & Electric  http://www.alphagasandelectric.com/\n",
      "20        Alpha Gas & Electric  http://www.alphagasandelectric.com/\n",
      "21   Ambit Energy Holdings LLC          http://www.ambitenergy.com/\n",
      "22   Ambit Energy Holdings LLC          http://www.ambitenergy.com/\n",
      "23   Ambit Energy Holdings LLC          http://www.ambitenergy.com/\n",
      "24   Ambit Energy Holdings LLC          http://www.ambitenergy.com/\n",
      "25  Ambit Energy Holdings, LLC          http://www.ambitenergy.com/\n"
     ]
    },
    {
     "name": "stderr",
     "output_type": "stream",
     "text": [
      "C:\\Users\\USER\\AppData\\Local\\Temp\\ipykernel_17652\\3827693980.py:19: FutureWarning: The frame.append method is deprecated and will be removed from pandas in a future version. Use pandas.concat instead.\n",
      "  gc = gc.append(Dic, ignore_index=True)\n"
     ]
    },
    {
     "name": "stdout",
     "output_type": "stream",
     "text": [
      "                       Company                              Website\n",
      "0                          NaN                                  NaN\n",
      "1                3Degrees Inc.             https://3degreesinc.com/\n",
      "2                3Degrees Inc.             https://3degreesinc.com/\n",
      "3           3Phases Renewables    http://www.3phasesrenewables.com/\n",
      "4           3Phases Renewables    http://www.3phasesrenewables.com/\n",
      "5           3Phases Renewables    http://www.3phasesrenewables.com/\n",
      "6           3Phases Renewables    http://www.3phasesrenewables.com/\n",
      "7        ACT Commodities, Inc.      https://www.actcommodities.com/\n",
      "8        ACT Commodities, Inc.      https://www.actcommodities.com/\n",
      "9             AEP Energy, Inc.           https://www.aepenergy.com/\n",
      "10            AEP Energy, Inc.           https://www.aepenergy.com/\n",
      "11                 Agendi Inc.                   https://agendi.co/\n",
      "12           Aggressive Energy         http://www.aggressiveny.com/\n",
      "13     Alameda Municipal Power            http://www.alamedamp.com/\n",
      "14     Alameda Municipal Power            http://www.alamedamp.com/\n",
      "15             Algonquin Power          https://algonquinpower.com/\n",
      "16         ALLETE Clean Energy        http://alletecleanenergy.com/\n",
      "17              Alliant Energy       https://www.alliantenergy.com/\n",
      "18              Alliant Energy       https://www.alliantenergy.com/\n",
      "19        Alpha Gas & Electric  http://www.alphagasandelectric.com/\n",
      "20        Alpha Gas & Electric  http://www.alphagasandelectric.com/\n",
      "21   Ambit Energy Holdings LLC          http://www.ambitenergy.com/\n",
      "22   Ambit Energy Holdings LLC          http://www.ambitenergy.com/\n",
      "23   Ambit Energy Holdings LLC          http://www.ambitenergy.com/\n",
      "24   Ambit Energy Holdings LLC          http://www.ambitenergy.com/\n",
      "25  Ambit Energy Holdings, LLC          http://www.ambitenergy.com/\n",
      "26  Ambit Energy Holdings, LLC          http://www.ambitenergy.com/\n"
     ]
    },
    {
     "name": "stderr",
     "output_type": "stream",
     "text": [
      "C:\\Users\\USER\\AppData\\Local\\Temp\\ipykernel_17652\\3827693980.py:19: FutureWarning: The frame.append method is deprecated and will be removed from pandas in a future version. Use pandas.concat instead.\n",
      "  gc = gc.append(Dic, ignore_index=True)\n"
     ]
    },
    {
     "name": "stdout",
     "output_type": "stream",
     "text": [
      "                       Company                              Website\n",
      "0                          NaN                                  NaN\n",
      "1                3Degrees Inc.             https://3degreesinc.com/\n",
      "2                3Degrees Inc.             https://3degreesinc.com/\n",
      "3           3Phases Renewables    http://www.3phasesrenewables.com/\n",
      "4           3Phases Renewables    http://www.3phasesrenewables.com/\n",
      "5           3Phases Renewables    http://www.3phasesrenewables.com/\n",
      "6           3Phases Renewables    http://www.3phasesrenewables.com/\n",
      "7        ACT Commodities, Inc.      https://www.actcommodities.com/\n",
      "8        ACT Commodities, Inc.      https://www.actcommodities.com/\n",
      "9             AEP Energy, Inc.           https://www.aepenergy.com/\n",
      "10            AEP Energy, Inc.           https://www.aepenergy.com/\n",
      "11                 Agendi Inc.                   https://agendi.co/\n",
      "12           Aggressive Energy         http://www.aggressiveny.com/\n",
      "13     Alameda Municipal Power            http://www.alamedamp.com/\n",
      "14     Alameda Municipal Power            http://www.alamedamp.com/\n",
      "15             Algonquin Power          https://algonquinpower.com/\n",
      "16         ALLETE Clean Energy        http://alletecleanenergy.com/\n",
      "17              Alliant Energy       https://www.alliantenergy.com/\n",
      "18              Alliant Energy       https://www.alliantenergy.com/\n",
      "19        Alpha Gas & Electric  http://www.alphagasandelectric.com/\n",
      "20        Alpha Gas & Electric  http://www.alphagasandelectric.com/\n",
      "21   Ambit Energy Holdings LLC          http://www.ambitenergy.com/\n",
      "22   Ambit Energy Holdings LLC          http://www.ambitenergy.com/\n",
      "23   Ambit Energy Holdings LLC          http://www.ambitenergy.com/\n",
      "24   Ambit Energy Holdings LLC          http://www.ambitenergy.com/\n",
      "25  Ambit Energy Holdings, LLC          http://www.ambitenergy.com/\n",
      "26  Ambit Energy Holdings, LLC          http://www.ambitenergy.com/\n",
      "27  Ambit Energy Holdings, LLC          http://www.ambitenergy.com/\n"
     ]
    },
    {
     "name": "stderr",
     "output_type": "stream",
     "text": [
      "C:\\Users\\USER\\AppData\\Local\\Temp\\ipykernel_17652\\3827693980.py:19: FutureWarning: The frame.append method is deprecated and will be removed from pandas in a future version. Use pandas.concat instead.\n",
      "  gc = gc.append(Dic, ignore_index=True)\n"
     ]
    },
    {
     "name": "stdout",
     "output_type": "stream",
     "text": [
      "                       Company                              Website\n",
      "0                          NaN                                  NaN\n",
      "1                3Degrees Inc.             https://3degreesinc.com/\n",
      "2                3Degrees Inc.             https://3degreesinc.com/\n",
      "3           3Phases Renewables    http://www.3phasesrenewables.com/\n",
      "4           3Phases Renewables    http://www.3phasesrenewables.com/\n",
      "5           3Phases Renewables    http://www.3phasesrenewables.com/\n",
      "6           3Phases Renewables    http://www.3phasesrenewables.com/\n",
      "7        ACT Commodities, Inc.      https://www.actcommodities.com/\n",
      "8        ACT Commodities, Inc.      https://www.actcommodities.com/\n",
      "9             AEP Energy, Inc.           https://www.aepenergy.com/\n",
      "10            AEP Energy, Inc.           https://www.aepenergy.com/\n",
      "11                 Agendi Inc.                   https://agendi.co/\n",
      "12           Aggressive Energy         http://www.aggressiveny.com/\n",
      "13     Alameda Municipal Power            http://www.alamedamp.com/\n",
      "14     Alameda Municipal Power            http://www.alamedamp.com/\n",
      "15             Algonquin Power          https://algonquinpower.com/\n",
      "16         ALLETE Clean Energy        http://alletecleanenergy.com/\n",
      "17              Alliant Energy       https://www.alliantenergy.com/\n",
      "18              Alliant Energy       https://www.alliantenergy.com/\n",
      "19        Alpha Gas & Electric  http://www.alphagasandelectric.com/\n",
      "20        Alpha Gas & Electric  http://www.alphagasandelectric.com/\n",
      "21   Ambit Energy Holdings LLC          http://www.ambitenergy.com/\n",
      "22   Ambit Energy Holdings LLC          http://www.ambitenergy.com/\n",
      "23   Ambit Energy Holdings LLC          http://www.ambitenergy.com/\n",
      "24   Ambit Energy Holdings LLC          http://www.ambitenergy.com/\n",
      "25  Ambit Energy Holdings, LLC          http://www.ambitenergy.com/\n",
      "26  Ambit Energy Holdings, LLC          http://www.ambitenergy.com/\n",
      "27  Ambit Energy Holdings, LLC          http://www.ambitenergy.com/\n",
      "28  Ambit Energy Holdings, LLC          http://www.ambitenergy.com/\n",
      "                       Company                              Website\n",
      "0                          NaN                                  NaN\n",
      "1                3Degrees Inc.             https://3degreesinc.com/\n",
      "2                3Degrees Inc.             https://3degreesinc.com/\n",
      "3           3Phases Renewables    http://www.3phasesrenewables.com/\n",
      "4           3Phases Renewables    http://www.3phasesrenewables.com/\n",
      "5           3Phases Renewables    http://www.3phasesrenewables.com/\n",
      "6           3Phases Renewables    http://www.3phasesrenewables.com/\n",
      "7        ACT Commodities, Inc.      https://www.actcommodities.com/\n",
      "8        ACT Commodities, Inc.      https://www.actcommodities.com/\n",
      "9             AEP Energy, Inc.           https://www.aepenergy.com/\n",
      "10            AEP Energy, Inc.           https://www.aepenergy.com/\n",
      "11                 Agendi Inc.                   https://agendi.co/\n",
      "12           Aggressive Energy         http://www.aggressiveny.com/\n",
      "13     Alameda Municipal Power            http://www.alamedamp.com/\n",
      "14     Alameda Municipal Power            http://www.alamedamp.com/\n",
      "15             Algonquin Power          https://algonquinpower.com/\n",
      "16         ALLETE Clean Energy        http://alletecleanenergy.com/\n",
      "17              Alliant Energy       https://www.alliantenergy.com/\n",
      "18              Alliant Energy       https://www.alliantenergy.com/\n",
      "19        Alpha Gas & Electric  http://www.alphagasandelectric.com/\n",
      "20        Alpha Gas & Electric  http://www.alphagasandelectric.com/\n",
      "21   Ambit Energy Holdings LLC          http://www.ambitenergy.com/\n",
      "22   Ambit Energy Holdings LLC          http://www.ambitenergy.com/\n",
      "23   Ambit Energy Holdings LLC          http://www.ambitenergy.com/\n",
      "24   Ambit Energy Holdings LLC          http://www.ambitenergy.com/\n",
      "25  Ambit Energy Holdings, LLC          http://www.ambitenergy.com/\n",
      "26  Ambit Energy Holdings, LLC          http://www.ambitenergy.com/\n",
      "27  Ambit Energy Holdings, LLC          http://www.ambitenergy.com/\n",
      "28  Ambit Energy Holdings, LLC          http://www.ambitenergy.com/\n",
      "29             Ameren Missouri      http://www.ameren.com/PurePower\n"
     ]
    },
    {
     "name": "stderr",
     "output_type": "stream",
     "text": [
      "C:\\Users\\USER\\AppData\\Local\\Temp\\ipykernel_17652\\3827693980.py:19: FutureWarning: The frame.append method is deprecated and will be removed from pandas in a future version. Use pandas.concat instead.\n",
      "  gc = gc.append(Dic, ignore_index=True)\n",
      "C:\\Users\\USER\\AppData\\Local\\Temp\\ipykernel_17652\\3827693980.py:19: FutureWarning: The frame.append method is deprecated and will be removed from pandas in a future version. Use pandas.concat instead.\n",
      "  gc = gc.append(Dic, ignore_index=True)\n"
     ]
    },
    {
     "name": "stdout",
     "output_type": "stream",
     "text": [
      "                       Company                              Website\n",
      "0                          NaN                                  NaN\n",
      "1                3Degrees Inc.             https://3degreesinc.com/\n",
      "2                3Degrees Inc.             https://3degreesinc.com/\n",
      "3           3Phases Renewables    http://www.3phasesrenewables.com/\n",
      "4           3Phases Renewables    http://www.3phasesrenewables.com/\n",
      "5           3Phases Renewables    http://www.3phasesrenewables.com/\n",
      "6           3Phases Renewables    http://www.3phasesrenewables.com/\n",
      "7        ACT Commodities, Inc.      https://www.actcommodities.com/\n",
      "8        ACT Commodities, Inc.      https://www.actcommodities.com/\n",
      "9             AEP Energy, Inc.           https://www.aepenergy.com/\n",
      "10            AEP Energy, Inc.           https://www.aepenergy.com/\n",
      "11                 Agendi Inc.                   https://agendi.co/\n",
      "12           Aggressive Energy         http://www.aggressiveny.com/\n",
      "13     Alameda Municipal Power            http://www.alamedamp.com/\n",
      "14     Alameda Municipal Power            http://www.alamedamp.com/\n",
      "15             Algonquin Power          https://algonquinpower.com/\n",
      "16         ALLETE Clean Energy        http://alletecleanenergy.com/\n",
      "17              Alliant Energy       https://www.alliantenergy.com/\n",
      "18              Alliant Energy       https://www.alliantenergy.com/\n",
      "19        Alpha Gas & Electric  http://www.alphagasandelectric.com/\n",
      "20        Alpha Gas & Electric  http://www.alphagasandelectric.com/\n",
      "21   Ambit Energy Holdings LLC          http://www.ambitenergy.com/\n",
      "22   Ambit Energy Holdings LLC          http://www.ambitenergy.com/\n",
      "23   Ambit Energy Holdings LLC          http://www.ambitenergy.com/\n",
      "24   Ambit Energy Holdings LLC          http://www.ambitenergy.com/\n",
      "25  Ambit Energy Holdings, LLC          http://www.ambitenergy.com/\n",
      "26  Ambit Energy Holdings, LLC          http://www.ambitenergy.com/\n",
      "27  Ambit Energy Holdings, LLC          http://www.ambitenergy.com/\n",
      "28  Ambit Energy Holdings, LLC          http://www.ambitenergy.com/\n",
      "29             Ameren Missouri      http://www.ameren.com/PurePower\n",
      "30             Ameren Missouri      http://www.ameren.com/PurePower\n"
     ]
    },
    {
     "name": "stderr",
     "output_type": "stream",
     "text": [
      "C:\\Users\\USER\\AppData\\Local\\Temp\\ipykernel_17652\\3827693980.py:19: FutureWarning: The frame.append method is deprecated and will be removed from pandas in a future version. Use pandas.concat instead.\n",
      "  gc = gc.append(Dic, ignore_index=True)\n"
     ]
    },
    {
     "name": "stdout",
     "output_type": "stream",
     "text": [
      "                       Company                              Website\n",
      "0                          NaN                                  NaN\n",
      "1                3Degrees Inc.             https://3degreesinc.com/\n",
      "2                3Degrees Inc.             https://3degreesinc.com/\n",
      "3           3Phases Renewables    http://www.3phasesrenewables.com/\n",
      "4           3Phases Renewables    http://www.3phasesrenewables.com/\n",
      "5           3Phases Renewables    http://www.3phasesrenewables.com/\n",
      "6           3Phases Renewables    http://www.3phasesrenewables.com/\n",
      "7        ACT Commodities, Inc.      https://www.actcommodities.com/\n",
      "8        ACT Commodities, Inc.      https://www.actcommodities.com/\n",
      "9             AEP Energy, Inc.           https://www.aepenergy.com/\n",
      "10            AEP Energy, Inc.           https://www.aepenergy.com/\n",
      "11                 Agendi Inc.                   https://agendi.co/\n",
      "12           Aggressive Energy         http://www.aggressiveny.com/\n",
      "13     Alameda Municipal Power            http://www.alamedamp.com/\n",
      "14     Alameda Municipal Power            http://www.alamedamp.com/\n",
      "15             Algonquin Power          https://algonquinpower.com/\n",
      "16         ALLETE Clean Energy        http://alletecleanenergy.com/\n",
      "17              Alliant Energy       https://www.alliantenergy.com/\n",
      "18              Alliant Energy       https://www.alliantenergy.com/\n",
      "19        Alpha Gas & Electric  http://www.alphagasandelectric.com/\n",
      "20        Alpha Gas & Electric  http://www.alphagasandelectric.com/\n",
      "21   Ambit Energy Holdings LLC          http://www.ambitenergy.com/\n",
      "22   Ambit Energy Holdings LLC          http://www.ambitenergy.com/\n",
      "23   Ambit Energy Holdings LLC          http://www.ambitenergy.com/\n",
      "24   Ambit Energy Holdings LLC          http://www.ambitenergy.com/\n",
      "25  Ambit Energy Holdings, LLC          http://www.ambitenergy.com/\n",
      "26  Ambit Energy Holdings, LLC          http://www.ambitenergy.com/\n",
      "27  Ambit Energy Holdings, LLC          http://www.ambitenergy.com/\n",
      "28  Ambit Energy Holdings, LLC          http://www.ambitenergy.com/\n",
      "29             Ameren Missouri      http://www.ameren.com/PurePower\n",
      "30             Ameren Missouri      http://www.ameren.com/PurePower\n",
      "31           American PowerNet    https://www.americanpowernet.com/\n"
     ]
    },
    {
     "name": "stderr",
     "output_type": "stream",
     "text": [
      "C:\\Users\\USER\\AppData\\Local\\Temp\\ipykernel_17652\\3827693980.py:19: FutureWarning: The frame.append method is deprecated and will be removed from pandas in a future version. Use pandas.concat instead.\n",
      "  gc = gc.append(Dic, ignore_index=True)\n"
     ]
    },
    {
     "name": "stdout",
     "output_type": "stream",
     "text": [
      "                       Company                              Website\n",
      "0                          NaN                                  NaN\n",
      "1                3Degrees Inc.             https://3degreesinc.com/\n",
      "2                3Degrees Inc.             https://3degreesinc.com/\n",
      "3           3Phases Renewables    http://www.3phasesrenewables.com/\n",
      "4           3Phases Renewables    http://www.3phasesrenewables.com/\n",
      "5           3Phases Renewables    http://www.3phasesrenewables.com/\n",
      "6           3Phases Renewables    http://www.3phasesrenewables.com/\n",
      "7        ACT Commodities, Inc.      https://www.actcommodities.com/\n",
      "8        ACT Commodities, Inc.      https://www.actcommodities.com/\n",
      "9             AEP Energy, Inc.           https://www.aepenergy.com/\n",
      "10            AEP Energy, Inc.           https://www.aepenergy.com/\n",
      "11                 Agendi Inc.                   https://agendi.co/\n",
      "12           Aggressive Energy         http://www.aggressiveny.com/\n",
      "13     Alameda Municipal Power            http://www.alamedamp.com/\n",
      "14     Alameda Municipal Power            http://www.alamedamp.com/\n",
      "15             Algonquin Power          https://algonquinpower.com/\n",
      "16         ALLETE Clean Energy        http://alletecleanenergy.com/\n",
      "17              Alliant Energy       https://www.alliantenergy.com/\n",
      "18              Alliant Energy       https://www.alliantenergy.com/\n",
      "19        Alpha Gas & Electric  http://www.alphagasandelectric.com/\n",
      "20        Alpha Gas & Electric  http://www.alphagasandelectric.com/\n",
      "21   Ambit Energy Holdings LLC          http://www.ambitenergy.com/\n",
      "22   Ambit Energy Holdings LLC          http://www.ambitenergy.com/\n",
      "23   Ambit Energy Holdings LLC          http://www.ambitenergy.com/\n",
      "24   Ambit Energy Holdings LLC          http://www.ambitenergy.com/\n",
      "25  Ambit Energy Holdings, LLC          http://www.ambitenergy.com/\n",
      "26  Ambit Energy Holdings, LLC          http://www.ambitenergy.com/\n",
      "27  Ambit Energy Holdings, LLC          http://www.ambitenergy.com/\n",
      "28  Ambit Energy Holdings, LLC          http://www.ambitenergy.com/\n",
      "29             Ameren Missouri      http://www.ameren.com/PurePower\n",
      "30             Ameren Missouri      http://www.ameren.com/PurePower\n",
      "31           American PowerNet    https://www.americanpowernet.com/\n",
      "32           American PowerNet    https://www.americanpowernet.com/\n"
     ]
    },
    {
     "name": "stderr",
     "output_type": "stream",
     "text": [
      "C:\\Users\\USER\\AppData\\Local\\Temp\\ipykernel_17652\\3827693980.py:19: FutureWarning: The frame.append method is deprecated and will be removed from pandas in a future version. Use pandas.concat instead.\n",
      "  gc = gc.append(Dic, ignore_index=True)\n"
     ]
    },
    {
     "name": "stdout",
     "output_type": "stream",
     "text": [
      "                       Company                              Website\n",
      "0                          NaN                                  NaN\n",
      "1                3Degrees Inc.             https://3degreesinc.com/\n",
      "2                3Degrees Inc.             https://3degreesinc.com/\n",
      "3           3Phases Renewables    http://www.3phasesrenewables.com/\n",
      "4           3Phases Renewables    http://www.3phasesrenewables.com/\n",
      "5           3Phases Renewables    http://www.3phasesrenewables.com/\n",
      "6           3Phases Renewables    http://www.3phasesrenewables.com/\n",
      "7        ACT Commodities, Inc.      https://www.actcommodities.com/\n",
      "8        ACT Commodities, Inc.      https://www.actcommodities.com/\n",
      "9             AEP Energy, Inc.           https://www.aepenergy.com/\n",
      "10            AEP Energy, Inc.           https://www.aepenergy.com/\n",
      "11                 Agendi Inc.                   https://agendi.co/\n",
      "12           Aggressive Energy         http://www.aggressiveny.com/\n",
      "13     Alameda Municipal Power            http://www.alamedamp.com/\n",
      "14     Alameda Municipal Power            http://www.alamedamp.com/\n",
      "15             Algonquin Power          https://algonquinpower.com/\n",
      "16         ALLETE Clean Energy        http://alletecleanenergy.com/\n",
      "17              Alliant Energy       https://www.alliantenergy.com/\n",
      "18              Alliant Energy       https://www.alliantenergy.com/\n",
      "19        Alpha Gas & Electric  http://www.alphagasandelectric.com/\n",
      "20        Alpha Gas & Electric  http://www.alphagasandelectric.com/\n",
      "21   Ambit Energy Holdings LLC          http://www.ambitenergy.com/\n",
      "22   Ambit Energy Holdings LLC          http://www.ambitenergy.com/\n",
      "23   Ambit Energy Holdings LLC          http://www.ambitenergy.com/\n",
      "24   Ambit Energy Holdings LLC          http://www.ambitenergy.com/\n",
      "25  Ambit Energy Holdings, LLC          http://www.ambitenergy.com/\n",
      "26  Ambit Energy Holdings, LLC          http://www.ambitenergy.com/\n",
      "27  Ambit Energy Holdings, LLC          http://www.ambitenergy.com/\n",
      "28  Ambit Energy Holdings, LLC          http://www.ambitenergy.com/\n",
      "29             Ameren Missouri      http://www.ameren.com/PurePower\n",
      "30             Ameren Missouri      http://www.ameren.com/PurePower\n",
      "31           American PowerNet    https://www.americanpowernet.com/\n",
      "32           American PowerNet    https://www.americanpowernet.com/\n",
      "33       Anza Electricity Coop                                 None\n"
     ]
    },
    {
     "name": "stderr",
     "output_type": "stream",
     "text": [
      "C:\\Users\\USER\\AppData\\Local\\Temp\\ipykernel_17652\\3827693980.py:19: FutureWarning: The frame.append method is deprecated and will be removed from pandas in a future version. Use pandas.concat instead.\n",
      "  gc = gc.append(Dic, ignore_index=True)\n"
     ]
    },
    {
     "name": "stdout",
     "output_type": "stream",
     "text": [
      "                       Company  \\\n",
      "0                          NaN   \n",
      "1                3Degrees Inc.   \n",
      "2                3Degrees Inc.   \n",
      "3           3Phases Renewables   \n",
      "4           3Phases Renewables   \n",
      "5           3Phases Renewables   \n",
      "6           3Phases Renewables   \n",
      "7        ACT Commodities, Inc.   \n",
      "8        ACT Commodities, Inc.   \n",
      "9             AEP Energy, Inc.   \n",
      "10            AEP Energy, Inc.   \n",
      "11                 Agendi Inc.   \n",
      "12           Aggressive Energy   \n",
      "13     Alameda Municipal Power   \n",
      "14     Alameda Municipal Power   \n",
      "15             Algonquin Power   \n",
      "16         ALLETE Clean Energy   \n",
      "17              Alliant Energy   \n",
      "18              Alliant Energy   \n",
      "19        Alpha Gas & Electric   \n",
      "20        Alpha Gas & Electric   \n",
      "21   Ambit Energy Holdings LLC   \n",
      "22   Ambit Energy Holdings LLC   \n",
      "23   Ambit Energy Holdings LLC   \n",
      "24   Ambit Energy Holdings LLC   \n",
      "25  Ambit Energy Holdings, LLC   \n",
      "26  Ambit Energy Holdings, LLC   \n",
      "27  Ambit Energy Holdings, LLC   \n",
      "28  Ambit Energy Holdings, LLC   \n",
      "29             Ameren Missouri   \n",
      "30             Ameren Missouri   \n",
      "31           American PowerNet   \n",
      "32           American PowerNet   \n",
      "33       Anza Electricity Coop   \n",
      "34               Austin Energy   \n",
      "\n",
      "                                              Website  \n",
      "0                                                 NaN  \n",
      "1                            https://3degreesinc.com/  \n",
      "2                            https://3degreesinc.com/  \n",
      "3                   http://www.3phasesrenewables.com/  \n",
      "4                   http://www.3phasesrenewables.com/  \n",
      "5                   http://www.3phasesrenewables.com/  \n",
      "6                   http://www.3phasesrenewables.com/  \n",
      "7                     https://www.actcommodities.com/  \n",
      "8                     https://www.actcommodities.com/  \n",
      "9                          https://www.aepenergy.com/  \n",
      "10                         https://www.aepenergy.com/  \n",
      "11                                 https://agendi.co/  \n",
      "12                       http://www.aggressiveny.com/  \n",
      "13                          http://www.alamedamp.com/  \n",
      "14                          http://www.alamedamp.com/  \n",
      "15                        https://algonquinpower.com/  \n",
      "16                      http://alletecleanenergy.com/  \n",
      "17                     https://www.alliantenergy.com/  \n",
      "18                     https://www.alliantenergy.com/  \n",
      "19                http://www.alphagasandelectric.com/  \n",
      "20                http://www.alphagasandelectric.com/  \n",
      "21                        http://www.ambitenergy.com/  \n",
      "22                        http://www.ambitenergy.com/  \n",
      "23                        http://www.ambitenergy.com/  \n",
      "24                        http://www.ambitenergy.com/  \n",
      "25                        http://www.ambitenergy.com/  \n",
      "26                        http://www.ambitenergy.com/  \n",
      "27                        http://www.ambitenergy.com/  \n",
      "28                        http://www.ambitenergy.com/  \n",
      "29                    http://www.ameren.com/PurePower  \n",
      "30                    http://www.ameren.com/PurePower  \n",
      "31                  https://www.americanpowernet.com/  \n",
      "32                  https://www.americanpowernet.com/  \n",
      "33                                               None  \n",
      "34  http://www.austinenergy.com/Energy%20Efficienc...  \n"
     ]
    },
    {
     "name": "stderr",
     "output_type": "stream",
     "text": [
      "C:\\Users\\USER\\AppData\\Local\\Temp\\ipykernel_17652\\3827693980.py:19: FutureWarning: The frame.append method is deprecated and will be removed from pandas in a future version. Use pandas.concat instead.\n",
      "  gc = gc.append(Dic, ignore_index=True)\n"
     ]
    },
    {
     "name": "stdout",
     "output_type": "stream",
     "text": [
      "                       Company  \\\n",
      "0                          NaN   \n",
      "1                3Degrees Inc.   \n",
      "2                3Degrees Inc.   \n",
      "3           3Phases Renewables   \n",
      "4           3Phases Renewables   \n",
      "5           3Phases Renewables   \n",
      "6           3Phases Renewables   \n",
      "7        ACT Commodities, Inc.   \n",
      "8        ACT Commodities, Inc.   \n",
      "9             AEP Energy, Inc.   \n",
      "10            AEP Energy, Inc.   \n",
      "11                 Agendi Inc.   \n",
      "12           Aggressive Energy   \n",
      "13     Alameda Municipal Power   \n",
      "14     Alameda Municipal Power   \n",
      "15             Algonquin Power   \n",
      "16         ALLETE Clean Energy   \n",
      "17              Alliant Energy   \n",
      "18              Alliant Energy   \n",
      "19        Alpha Gas & Electric   \n",
      "20        Alpha Gas & Electric   \n",
      "21   Ambit Energy Holdings LLC   \n",
      "22   Ambit Energy Holdings LLC   \n",
      "23   Ambit Energy Holdings LLC   \n",
      "24   Ambit Energy Holdings LLC   \n",
      "25  Ambit Energy Holdings, LLC   \n",
      "26  Ambit Energy Holdings, LLC   \n",
      "27  Ambit Energy Holdings, LLC   \n",
      "28  Ambit Energy Holdings, LLC   \n",
      "29             Ameren Missouri   \n",
      "30             Ameren Missouri   \n",
      "31           American PowerNet   \n",
      "32           American PowerNet   \n",
      "33       Anza Electricity Coop   \n",
      "34               Austin Energy   \n",
      "35               Austin Energy   \n",
      "\n",
      "                                              Website  \n",
      "0                                                 NaN  \n",
      "1                            https://3degreesinc.com/  \n",
      "2                            https://3degreesinc.com/  \n",
      "3                   http://www.3phasesrenewables.com/  \n",
      "4                   http://www.3phasesrenewables.com/  \n",
      "5                   http://www.3phasesrenewables.com/  \n",
      "6                   http://www.3phasesrenewables.com/  \n",
      "7                     https://www.actcommodities.com/  \n",
      "8                     https://www.actcommodities.com/  \n",
      "9                          https://www.aepenergy.com/  \n",
      "10                         https://www.aepenergy.com/  \n",
      "11                                 https://agendi.co/  \n",
      "12                       http://www.aggressiveny.com/  \n",
      "13                          http://www.alamedamp.com/  \n",
      "14                          http://www.alamedamp.com/  \n",
      "15                        https://algonquinpower.com/  \n",
      "16                      http://alletecleanenergy.com/  \n",
      "17                     https://www.alliantenergy.com/  \n",
      "18                     https://www.alliantenergy.com/  \n",
      "19                http://www.alphagasandelectric.com/  \n",
      "20                http://www.alphagasandelectric.com/  \n",
      "21                        http://www.ambitenergy.com/  \n",
      "22                        http://www.ambitenergy.com/  \n",
      "23                        http://www.ambitenergy.com/  \n",
      "24                        http://www.ambitenergy.com/  \n",
      "25                        http://www.ambitenergy.com/  \n",
      "26                        http://www.ambitenergy.com/  \n",
      "27                        http://www.ambitenergy.com/  \n",
      "28                        http://www.ambitenergy.com/  \n",
      "29                    http://www.ameren.com/PurePower  \n",
      "30                    http://www.ameren.com/PurePower  \n",
      "31                  https://www.americanpowernet.com/  \n",
      "32                  https://www.americanpowernet.com/  \n",
      "33                                               None  \n",
      "34  http://www.austinenergy.com/Energy%20Efficienc...  \n",
      "35  http://www.austinenergy.com/Energy%20Efficienc...  \n"
     ]
    },
    {
     "name": "stderr",
     "output_type": "stream",
     "text": [
      "C:\\Users\\USER\\AppData\\Local\\Temp\\ipykernel_17652\\3827693980.py:19: FutureWarning: The frame.append method is deprecated and will be removed from pandas in a future version. Use pandas.concat instead.\n",
      "  gc = gc.append(Dic, ignore_index=True)\n"
     ]
    },
    {
     "name": "stdout",
     "output_type": "stream",
     "text": [
      "                       Company  \\\n",
      "0                          NaN   \n",
      "1                3Degrees Inc.   \n",
      "2                3Degrees Inc.   \n",
      "3           3Phases Renewables   \n",
      "4           3Phases Renewables   \n",
      "5           3Phases Renewables   \n",
      "6           3Phases Renewables   \n",
      "7        ACT Commodities, Inc.   \n",
      "8        ACT Commodities, Inc.   \n",
      "9             AEP Energy, Inc.   \n",
      "10            AEP Energy, Inc.   \n",
      "11                 Agendi Inc.   \n",
      "12           Aggressive Energy   \n",
      "13     Alameda Municipal Power   \n",
      "14     Alameda Municipal Power   \n",
      "15             Algonquin Power   \n",
      "16         ALLETE Clean Energy   \n",
      "17              Alliant Energy   \n",
      "18              Alliant Energy   \n",
      "19        Alpha Gas & Electric   \n",
      "20        Alpha Gas & Electric   \n",
      "21   Ambit Energy Holdings LLC   \n",
      "22   Ambit Energy Holdings LLC   \n",
      "23   Ambit Energy Holdings LLC   \n",
      "24   Ambit Energy Holdings LLC   \n",
      "25  Ambit Energy Holdings, LLC   \n",
      "26  Ambit Energy Holdings, LLC   \n",
      "27  Ambit Energy Holdings, LLC   \n",
      "28  Ambit Energy Holdings, LLC   \n",
      "29             Ameren Missouri   \n",
      "30             Ameren Missouri   \n",
      "31           American PowerNet   \n",
      "32           American PowerNet   \n",
      "33       Anza Electricity Coop   \n",
      "34               Austin Energy   \n",
      "35               Austin Energy   \n",
      "36               Austin Energy   \n",
      "\n",
      "                                              Website  \n",
      "0                                                 NaN  \n",
      "1                            https://3degreesinc.com/  \n",
      "2                            https://3degreesinc.com/  \n",
      "3                   http://www.3phasesrenewables.com/  \n",
      "4                   http://www.3phasesrenewables.com/  \n",
      "5                   http://www.3phasesrenewables.com/  \n",
      "6                   http://www.3phasesrenewables.com/  \n",
      "7                     https://www.actcommodities.com/  \n",
      "8                     https://www.actcommodities.com/  \n",
      "9                          https://www.aepenergy.com/  \n",
      "10                         https://www.aepenergy.com/  \n",
      "11                                 https://agendi.co/  \n",
      "12                       http://www.aggressiveny.com/  \n",
      "13                          http://www.alamedamp.com/  \n",
      "14                          http://www.alamedamp.com/  \n",
      "15                        https://algonquinpower.com/  \n",
      "16                      http://alletecleanenergy.com/  \n",
      "17                     https://www.alliantenergy.com/  \n",
      "18                     https://www.alliantenergy.com/  \n",
      "19                http://www.alphagasandelectric.com/  \n",
      "20                http://www.alphagasandelectric.com/  \n",
      "21                        http://www.ambitenergy.com/  \n",
      "22                        http://www.ambitenergy.com/  \n",
      "23                        http://www.ambitenergy.com/  \n",
      "24                        http://www.ambitenergy.com/  \n",
      "25                        http://www.ambitenergy.com/  \n",
      "26                        http://www.ambitenergy.com/  \n",
      "27                        http://www.ambitenergy.com/  \n",
      "28                        http://www.ambitenergy.com/  \n",
      "29                    http://www.ameren.com/PurePower  \n",
      "30                    http://www.ameren.com/PurePower  \n",
      "31                  https://www.americanpowernet.com/  \n",
      "32                  https://www.americanpowernet.com/  \n",
      "33                                               None  \n",
      "34  http://www.austinenergy.com/Energy%20Efficienc...  \n",
      "35  http://www.austinenergy.com/Energy%20Efficienc...  \n",
      "36  http://www.austinenergy.com/Energy%20Efficienc...  \n"
     ]
    },
    {
     "name": "stderr",
     "output_type": "stream",
     "text": [
      "C:\\Users\\USER\\AppData\\Local\\Temp\\ipykernel_17652\\3827693980.py:19: FutureWarning: The frame.append method is deprecated and will be removed from pandas in a future version. Use pandas.concat instead.\n",
      "  gc = gc.append(Dic, ignore_index=True)\n"
     ]
    },
    {
     "name": "stdout",
     "output_type": "stream",
     "text": [
      "                       Company  \\\n",
      "0                          NaN   \n",
      "1                3Degrees Inc.   \n",
      "2                3Degrees Inc.   \n",
      "3           3Phases Renewables   \n",
      "4           3Phases Renewables   \n",
      "5           3Phases Renewables   \n",
      "6           3Phases Renewables   \n",
      "7        ACT Commodities, Inc.   \n",
      "8        ACT Commodities, Inc.   \n",
      "9             AEP Energy, Inc.   \n",
      "10            AEP Energy, Inc.   \n",
      "11                 Agendi Inc.   \n",
      "12           Aggressive Energy   \n",
      "13     Alameda Municipal Power   \n",
      "14     Alameda Municipal Power   \n",
      "15             Algonquin Power   \n",
      "16         ALLETE Clean Energy   \n",
      "17              Alliant Energy   \n",
      "18              Alliant Energy   \n",
      "19        Alpha Gas & Electric   \n",
      "20        Alpha Gas & Electric   \n",
      "21   Ambit Energy Holdings LLC   \n",
      "22   Ambit Energy Holdings LLC   \n",
      "23   Ambit Energy Holdings LLC   \n",
      "24   Ambit Energy Holdings LLC   \n",
      "25  Ambit Energy Holdings, LLC   \n",
      "26  Ambit Energy Holdings, LLC   \n",
      "27  Ambit Energy Holdings, LLC   \n",
      "28  Ambit Energy Holdings, LLC   \n",
      "29             Ameren Missouri   \n",
      "30             Ameren Missouri   \n",
      "31           American PowerNet   \n",
      "32           American PowerNet   \n",
      "33       Anza Electricity Coop   \n",
      "34               Austin Energy   \n",
      "35               Austin Energy   \n",
      "36               Austin Energy   \n",
      "37         Avangrid Renewables   \n",
      "\n",
      "                                              Website  \n",
      "0                                                 NaN  \n",
      "1                            https://3degreesinc.com/  \n",
      "2                            https://3degreesinc.com/  \n",
      "3                   http://www.3phasesrenewables.com/  \n",
      "4                   http://www.3phasesrenewables.com/  \n",
      "5                   http://www.3phasesrenewables.com/  \n",
      "6                   http://www.3phasesrenewables.com/  \n",
      "7                     https://www.actcommodities.com/  \n",
      "8                     https://www.actcommodities.com/  \n",
      "9                          https://www.aepenergy.com/  \n",
      "10                         https://www.aepenergy.com/  \n",
      "11                                 https://agendi.co/  \n",
      "12                       http://www.aggressiveny.com/  \n",
      "13                          http://www.alamedamp.com/  \n",
      "14                          http://www.alamedamp.com/  \n",
      "15                        https://algonquinpower.com/  \n",
      "16                      http://alletecleanenergy.com/  \n",
      "17                     https://www.alliantenergy.com/  \n",
      "18                     https://www.alliantenergy.com/  \n",
      "19                http://www.alphagasandelectric.com/  \n",
      "20                http://www.alphagasandelectric.com/  \n",
      "21                        http://www.ambitenergy.com/  \n",
      "22                        http://www.ambitenergy.com/  \n",
      "23                        http://www.ambitenergy.com/  \n",
      "24                        http://www.ambitenergy.com/  \n",
      "25                        http://www.ambitenergy.com/  \n",
      "26                        http://www.ambitenergy.com/  \n",
      "27                        http://www.ambitenergy.com/  \n",
      "28                        http://www.ambitenergy.com/  \n",
      "29                    http://www.ameren.com/PurePower  \n",
      "30                    http://www.ameren.com/PurePower  \n",
      "31                  https://www.americanpowernet.com/  \n",
      "32                  https://www.americanpowernet.com/  \n",
      "33                                               None  \n",
      "34  http://www.austinenergy.com/Energy%20Efficienc...  \n",
      "35  http://www.austinenergy.com/Energy%20Efficienc...  \n",
      "36  http://www.austinenergy.com/Energy%20Efficienc...  \n",
      "37                https://www.avangridrenewables.com/  \n"
     ]
    },
    {
     "name": "stderr",
     "output_type": "stream",
     "text": [
      "C:\\Users\\USER\\AppData\\Local\\Temp\\ipykernel_17652\\3827693980.py:19: FutureWarning: The frame.append method is deprecated and will be removed from pandas in a future version. Use pandas.concat instead.\n",
      "  gc = gc.append(Dic, ignore_index=True)\n"
     ]
    },
    {
     "name": "stdout",
     "output_type": "stream",
     "text": [
      "                       Company  \\\n",
      "0                          NaN   \n",
      "1                3Degrees Inc.   \n",
      "2                3Degrees Inc.   \n",
      "3           3Phases Renewables   \n",
      "4           3Phases Renewables   \n",
      "5           3Phases Renewables   \n",
      "6           3Phases Renewables   \n",
      "7        ACT Commodities, Inc.   \n",
      "8        ACT Commodities, Inc.   \n",
      "9             AEP Energy, Inc.   \n",
      "10            AEP Energy, Inc.   \n",
      "11                 Agendi Inc.   \n",
      "12           Aggressive Energy   \n",
      "13     Alameda Municipal Power   \n",
      "14     Alameda Municipal Power   \n",
      "15             Algonquin Power   \n",
      "16         ALLETE Clean Energy   \n",
      "17              Alliant Energy   \n",
      "18              Alliant Energy   \n",
      "19        Alpha Gas & Electric   \n",
      "20        Alpha Gas & Electric   \n",
      "21   Ambit Energy Holdings LLC   \n",
      "22   Ambit Energy Holdings LLC   \n",
      "23   Ambit Energy Holdings LLC   \n",
      "24   Ambit Energy Holdings LLC   \n",
      "25  Ambit Energy Holdings, LLC   \n",
      "26  Ambit Energy Holdings, LLC   \n",
      "27  Ambit Energy Holdings, LLC   \n",
      "28  Ambit Energy Holdings, LLC   \n",
      "29             Ameren Missouri   \n",
      "30             Ameren Missouri   \n",
      "31           American PowerNet   \n",
      "32           American PowerNet   \n",
      "33       Anza Electricity Coop   \n",
      "34               Austin Energy   \n",
      "35               Austin Energy   \n",
      "36               Austin Energy   \n",
      "37         Avangrid Renewables   \n",
      "38         Avangrid Renewables   \n",
      "\n",
      "                                              Website  \n",
      "0                                                 NaN  \n",
      "1                            https://3degreesinc.com/  \n",
      "2                            https://3degreesinc.com/  \n",
      "3                   http://www.3phasesrenewables.com/  \n",
      "4                   http://www.3phasesrenewables.com/  \n",
      "5                   http://www.3phasesrenewables.com/  \n",
      "6                   http://www.3phasesrenewables.com/  \n",
      "7                     https://www.actcommodities.com/  \n",
      "8                     https://www.actcommodities.com/  \n",
      "9                          https://www.aepenergy.com/  \n",
      "10                         https://www.aepenergy.com/  \n",
      "11                                 https://agendi.co/  \n",
      "12                       http://www.aggressiveny.com/  \n",
      "13                          http://www.alamedamp.com/  \n",
      "14                          http://www.alamedamp.com/  \n",
      "15                        https://algonquinpower.com/  \n",
      "16                      http://alletecleanenergy.com/  \n",
      "17                     https://www.alliantenergy.com/  \n",
      "18                     https://www.alliantenergy.com/  \n",
      "19                http://www.alphagasandelectric.com/  \n",
      "20                http://www.alphagasandelectric.com/  \n",
      "21                        http://www.ambitenergy.com/  \n",
      "22                        http://www.ambitenergy.com/  \n",
      "23                        http://www.ambitenergy.com/  \n",
      "24                        http://www.ambitenergy.com/  \n",
      "25                        http://www.ambitenergy.com/  \n",
      "26                        http://www.ambitenergy.com/  \n",
      "27                        http://www.ambitenergy.com/  \n",
      "28                        http://www.ambitenergy.com/  \n",
      "29                    http://www.ameren.com/PurePower  \n",
      "30                    http://www.ameren.com/PurePower  \n",
      "31                  https://www.americanpowernet.com/  \n",
      "32                  https://www.americanpowernet.com/  \n",
      "33                                               None  \n",
      "34  http://www.austinenergy.com/Energy%20Efficienc...  \n",
      "35  http://www.austinenergy.com/Energy%20Efficienc...  \n",
      "36  http://www.austinenergy.com/Energy%20Efficienc...  \n",
      "37                https://www.avangridrenewables.com/  \n",
      "38                https://www.avangridrenewables.com/  \n"
     ]
    },
    {
     "name": "stderr",
     "output_type": "stream",
     "text": [
      "C:\\Users\\USER\\AppData\\Local\\Temp\\ipykernel_17652\\3827693980.py:19: FutureWarning: The frame.append method is deprecated and will be removed from pandas in a future version. Use pandas.concat instead.\n",
      "  gc = gc.append(Dic, ignore_index=True)\n"
     ]
    },
    {
     "name": "stdout",
     "output_type": "stream",
     "text": [
      "                       Company  \\\n",
      "0                          NaN   \n",
      "1                3Degrees Inc.   \n",
      "2                3Degrees Inc.   \n",
      "3           3Phases Renewables   \n",
      "4           3Phases Renewables   \n",
      "5           3Phases Renewables   \n",
      "6           3Phases Renewables   \n",
      "7        ACT Commodities, Inc.   \n",
      "8        ACT Commodities, Inc.   \n",
      "9             AEP Energy, Inc.   \n",
      "10            AEP Energy, Inc.   \n",
      "11                 Agendi Inc.   \n",
      "12           Aggressive Energy   \n",
      "13     Alameda Municipal Power   \n",
      "14     Alameda Municipal Power   \n",
      "15             Algonquin Power   \n",
      "16         ALLETE Clean Energy   \n",
      "17              Alliant Energy   \n",
      "18              Alliant Energy   \n",
      "19        Alpha Gas & Electric   \n",
      "20        Alpha Gas & Electric   \n",
      "21   Ambit Energy Holdings LLC   \n",
      "22   Ambit Energy Holdings LLC   \n",
      "23   Ambit Energy Holdings LLC   \n",
      "24   Ambit Energy Holdings LLC   \n",
      "25  Ambit Energy Holdings, LLC   \n",
      "26  Ambit Energy Holdings, LLC   \n",
      "27  Ambit Energy Holdings, LLC   \n",
      "28  Ambit Energy Holdings, LLC   \n",
      "29             Ameren Missouri   \n",
      "30             Ameren Missouri   \n",
      "31           American PowerNet   \n",
      "32           American PowerNet   \n",
      "33       Anza Electricity Coop   \n",
      "34               Austin Energy   \n",
      "35               Austin Energy   \n",
      "36               Austin Energy   \n",
      "37         Avangrid Renewables   \n",
      "38         Avangrid Renewables   \n",
      "39           Azalea Solar, LLC   \n",
      "\n",
      "                                              Website  \n",
      "0                                                 NaN  \n",
      "1                            https://3degreesinc.com/  \n",
      "2                            https://3degreesinc.com/  \n",
      "3                   http://www.3phasesrenewables.com/  \n",
      "4                   http://www.3phasesrenewables.com/  \n",
      "5                   http://www.3phasesrenewables.com/  \n",
      "6                   http://www.3phasesrenewables.com/  \n",
      "7                     https://www.actcommodities.com/  \n",
      "8                     https://www.actcommodities.com/  \n",
      "9                          https://www.aepenergy.com/  \n",
      "10                         https://www.aepenergy.com/  \n",
      "11                                 https://agendi.co/  \n",
      "12                       http://www.aggressiveny.com/  \n",
      "13                          http://www.alamedamp.com/  \n",
      "14                          http://www.alamedamp.com/  \n",
      "15                        https://algonquinpower.com/  \n",
      "16                      http://alletecleanenergy.com/  \n",
      "17                     https://www.alliantenergy.com/  \n",
      "18                     https://www.alliantenergy.com/  \n",
      "19                http://www.alphagasandelectric.com/  \n",
      "20                http://www.alphagasandelectric.com/  \n",
      "21                        http://www.ambitenergy.com/  \n",
      "22                        http://www.ambitenergy.com/  \n",
      "23                        http://www.ambitenergy.com/  \n",
      "24                        http://www.ambitenergy.com/  \n",
      "25                        http://www.ambitenergy.com/  \n",
      "26                        http://www.ambitenergy.com/  \n",
      "27                        http://www.ambitenergy.com/  \n",
      "28                        http://www.ambitenergy.com/  \n",
      "29                    http://www.ameren.com/PurePower  \n",
      "30                    http://www.ameren.com/PurePower  \n",
      "31                  https://www.americanpowernet.com/  \n",
      "32                  https://www.americanpowernet.com/  \n",
      "33                                               None  \n",
      "34  http://www.austinenergy.com/Energy%20Efficienc...  \n",
      "35  http://www.austinenergy.com/Energy%20Efficienc...  \n",
      "36  http://www.austinenergy.com/Energy%20Efficienc...  \n",
      "37                https://www.avangridrenewables.com/  \n",
      "38                https://www.avangridrenewables.com/  \n",
      "39  https://www.dominionenergy.com/about-us/making...  \n"
     ]
    },
    {
     "name": "stderr",
     "output_type": "stream",
     "text": [
      "C:\\Users\\USER\\AppData\\Local\\Temp\\ipykernel_17652\\3827693980.py:19: FutureWarning: The frame.append method is deprecated and will be removed from pandas in a future version. Use pandas.concat instead.\n",
      "  gc = gc.append(Dic, ignore_index=True)\n"
     ]
    },
    {
     "name": "stdout",
     "output_type": "stream",
     "text": [
      "                       Company  \\\n",
      "0                          NaN   \n",
      "1                3Degrees Inc.   \n",
      "2                3Degrees Inc.   \n",
      "3           3Phases Renewables   \n",
      "4           3Phases Renewables   \n",
      "5           3Phases Renewables   \n",
      "6           3Phases Renewables   \n",
      "7        ACT Commodities, Inc.   \n",
      "8        ACT Commodities, Inc.   \n",
      "9             AEP Energy, Inc.   \n",
      "10            AEP Energy, Inc.   \n",
      "11                 Agendi Inc.   \n",
      "12           Aggressive Energy   \n",
      "13     Alameda Municipal Power   \n",
      "14     Alameda Municipal Power   \n",
      "15             Algonquin Power   \n",
      "16         ALLETE Clean Energy   \n",
      "17              Alliant Energy   \n",
      "18              Alliant Energy   \n",
      "19        Alpha Gas & Electric   \n",
      "20        Alpha Gas & Electric   \n",
      "21   Ambit Energy Holdings LLC   \n",
      "22   Ambit Energy Holdings LLC   \n",
      "23   Ambit Energy Holdings LLC   \n",
      "24   Ambit Energy Holdings LLC   \n",
      "25  Ambit Energy Holdings, LLC   \n",
      "26  Ambit Energy Holdings, LLC   \n",
      "27  Ambit Energy Holdings, LLC   \n",
      "28  Ambit Energy Holdings, LLC   \n",
      "29             Ameren Missouri   \n",
      "30             Ameren Missouri   \n",
      "31           American PowerNet   \n",
      "32           American PowerNet   \n",
      "33       Anza Electricity Coop   \n",
      "34               Austin Energy   \n",
      "35               Austin Energy   \n",
      "36               Austin Energy   \n",
      "37         Avangrid Renewables   \n",
      "38         Avangrid Renewables   \n",
      "39           Azalea Solar, LLC   \n",
      "40           Blue Delta Energy   \n",
      "\n",
      "                                              Website  \n",
      "0                                                 NaN  \n",
      "1                            https://3degreesinc.com/  \n",
      "2                            https://3degreesinc.com/  \n",
      "3                   http://www.3phasesrenewables.com/  \n",
      "4                   http://www.3phasesrenewables.com/  \n",
      "5                   http://www.3phasesrenewables.com/  \n",
      "6                   http://www.3phasesrenewables.com/  \n",
      "7                     https://www.actcommodities.com/  \n",
      "8                     https://www.actcommodities.com/  \n",
      "9                          https://www.aepenergy.com/  \n",
      "10                         https://www.aepenergy.com/  \n",
      "11                                 https://agendi.co/  \n",
      "12                       http://www.aggressiveny.com/  \n",
      "13                          http://www.alamedamp.com/  \n",
      "14                          http://www.alamedamp.com/  \n",
      "15                        https://algonquinpower.com/  \n",
      "16                      http://alletecleanenergy.com/  \n",
      "17                     https://www.alliantenergy.com/  \n",
      "18                     https://www.alliantenergy.com/  \n",
      "19                http://www.alphagasandelectric.com/  \n",
      "20                http://www.alphagasandelectric.com/  \n",
      "21                        http://www.ambitenergy.com/  \n",
      "22                        http://www.ambitenergy.com/  \n",
      "23                        http://www.ambitenergy.com/  \n",
      "24                        http://www.ambitenergy.com/  \n",
      "25                        http://www.ambitenergy.com/  \n",
      "26                        http://www.ambitenergy.com/  \n",
      "27                        http://www.ambitenergy.com/  \n",
      "28                        http://www.ambitenergy.com/  \n",
      "29                    http://www.ameren.com/PurePower  \n",
      "30                    http://www.ameren.com/PurePower  \n",
      "31                  https://www.americanpowernet.com/  \n",
      "32                  https://www.americanpowernet.com/  \n",
      "33                                               None  \n",
      "34  http://www.austinenergy.com/Energy%20Efficienc...  \n",
      "35  http://www.austinenergy.com/Energy%20Efficienc...  \n",
      "36  http://www.austinenergy.com/Energy%20Efficienc...  \n",
      "37                https://www.avangridrenewables.com/  \n",
      "38                https://www.avangridrenewables.com/  \n",
      "39  https://www.dominionenergy.com/about-us/making...  \n",
      "40                    http://www.bluedeltaenergy.com/  \n"
     ]
    },
    {
     "name": "stderr",
     "output_type": "stream",
     "text": [
      "C:\\Users\\USER\\AppData\\Local\\Temp\\ipykernel_17652\\3827693980.py:19: FutureWarning: The frame.append method is deprecated and will be removed from pandas in a future version. Use pandas.concat instead.\n",
      "  gc = gc.append(Dic, ignore_index=True)\n"
     ]
    },
    {
     "name": "stdout",
     "output_type": "stream",
     "text": [
      "                       Company  \\\n",
      "0                          NaN   \n",
      "1                3Degrees Inc.   \n",
      "2                3Degrees Inc.   \n",
      "3           3Phases Renewables   \n",
      "4           3Phases Renewables   \n",
      "5           3Phases Renewables   \n",
      "6           3Phases Renewables   \n",
      "7        ACT Commodities, Inc.   \n",
      "8        ACT Commodities, Inc.   \n",
      "9             AEP Energy, Inc.   \n",
      "10            AEP Energy, Inc.   \n",
      "11                 Agendi Inc.   \n",
      "12           Aggressive Energy   \n",
      "13     Alameda Municipal Power   \n",
      "14     Alameda Municipal Power   \n",
      "15             Algonquin Power   \n",
      "16         ALLETE Clean Energy   \n",
      "17              Alliant Energy   \n",
      "18              Alliant Energy   \n",
      "19        Alpha Gas & Electric   \n",
      "20        Alpha Gas & Electric   \n",
      "21   Ambit Energy Holdings LLC   \n",
      "22   Ambit Energy Holdings LLC   \n",
      "23   Ambit Energy Holdings LLC   \n",
      "24   Ambit Energy Holdings LLC   \n",
      "25  Ambit Energy Holdings, LLC   \n",
      "26  Ambit Energy Holdings, LLC   \n",
      "27  Ambit Energy Holdings, LLC   \n",
      "28  Ambit Energy Holdings, LLC   \n",
      "29             Ameren Missouri   \n",
      "30             Ameren Missouri   \n",
      "31           American PowerNet   \n",
      "32           American PowerNet   \n",
      "33       Anza Electricity Coop   \n",
      "34               Austin Energy   \n",
      "35               Austin Energy   \n",
      "36               Austin Energy   \n",
      "37         Avangrid Renewables   \n",
      "38         Avangrid Renewables   \n",
      "39           Azalea Solar, LLC   \n",
      "40           Blue Delta Energy   \n",
      "41           Blue Delta Energy   \n",
      "\n",
      "                                              Website  \n",
      "0                                                 NaN  \n",
      "1                            https://3degreesinc.com/  \n",
      "2                            https://3degreesinc.com/  \n",
      "3                   http://www.3phasesrenewables.com/  \n",
      "4                   http://www.3phasesrenewables.com/  \n",
      "5                   http://www.3phasesrenewables.com/  \n",
      "6                   http://www.3phasesrenewables.com/  \n",
      "7                     https://www.actcommodities.com/  \n",
      "8                     https://www.actcommodities.com/  \n",
      "9                          https://www.aepenergy.com/  \n",
      "10                         https://www.aepenergy.com/  \n",
      "11                                 https://agendi.co/  \n",
      "12                       http://www.aggressiveny.com/  \n",
      "13                          http://www.alamedamp.com/  \n",
      "14                          http://www.alamedamp.com/  \n",
      "15                        https://algonquinpower.com/  \n",
      "16                      http://alletecleanenergy.com/  \n",
      "17                     https://www.alliantenergy.com/  \n",
      "18                     https://www.alliantenergy.com/  \n",
      "19                http://www.alphagasandelectric.com/  \n",
      "20                http://www.alphagasandelectric.com/  \n",
      "21                        http://www.ambitenergy.com/  \n",
      "22                        http://www.ambitenergy.com/  \n",
      "23                        http://www.ambitenergy.com/  \n",
      "24                        http://www.ambitenergy.com/  \n",
      "25                        http://www.ambitenergy.com/  \n",
      "26                        http://www.ambitenergy.com/  \n",
      "27                        http://www.ambitenergy.com/  \n",
      "28                        http://www.ambitenergy.com/  \n",
      "29                    http://www.ameren.com/PurePower  \n",
      "30                    http://www.ameren.com/PurePower  \n",
      "31                  https://www.americanpowernet.com/  \n",
      "32                  https://www.americanpowernet.com/  \n",
      "33                                               None  \n",
      "34  http://www.austinenergy.com/Energy%20Efficienc...  \n",
      "35  http://www.austinenergy.com/Energy%20Efficienc...  \n",
      "36  http://www.austinenergy.com/Energy%20Efficienc...  \n",
      "37                https://www.avangridrenewables.com/  \n",
      "38                https://www.avangridrenewables.com/  \n",
      "39  https://www.dominionenergy.com/about-us/making...  \n",
      "40                    http://www.bluedeltaenergy.com/  \n",
      "41                    http://www.bluedeltaenergy.com/  \n"
     ]
    },
    {
     "name": "stderr",
     "output_type": "stream",
     "text": [
      "C:\\Users\\USER\\AppData\\Local\\Temp\\ipykernel_17652\\3827693980.py:19: FutureWarning: The frame.append method is deprecated and will be removed from pandas in a future version. Use pandas.concat instead.\n",
      "  gc = gc.append(Dic, ignore_index=True)\n"
     ]
    },
    {
     "name": "stdout",
     "output_type": "stream",
     "text": [
      "                       Company  \\\n",
      "0                          NaN   \n",
      "1                3Degrees Inc.   \n",
      "2                3Degrees Inc.   \n",
      "3           3Phases Renewables   \n",
      "4           3Phases Renewables   \n",
      "5           3Phases Renewables   \n",
      "6           3Phases Renewables   \n",
      "7        ACT Commodities, Inc.   \n",
      "8        ACT Commodities, Inc.   \n",
      "9             AEP Energy, Inc.   \n",
      "10            AEP Energy, Inc.   \n",
      "11                 Agendi Inc.   \n",
      "12           Aggressive Energy   \n",
      "13     Alameda Municipal Power   \n",
      "14     Alameda Municipal Power   \n",
      "15             Algonquin Power   \n",
      "16         ALLETE Clean Energy   \n",
      "17              Alliant Energy   \n",
      "18              Alliant Energy   \n",
      "19        Alpha Gas & Electric   \n",
      "20        Alpha Gas & Electric   \n",
      "21   Ambit Energy Holdings LLC   \n",
      "22   Ambit Energy Holdings LLC   \n",
      "23   Ambit Energy Holdings LLC   \n",
      "24   Ambit Energy Holdings LLC   \n",
      "25  Ambit Energy Holdings, LLC   \n",
      "26  Ambit Energy Holdings, LLC   \n",
      "27  Ambit Energy Holdings, LLC   \n",
      "28  Ambit Energy Holdings, LLC   \n",
      "29             Ameren Missouri   \n",
      "30             Ameren Missouri   \n",
      "31           American PowerNet   \n",
      "32           American PowerNet   \n",
      "33       Anza Electricity Coop   \n",
      "34               Austin Energy   \n",
      "35               Austin Energy   \n",
      "36               Austin Energy   \n",
      "37         Avangrid Renewables   \n",
      "38         Avangrid Renewables   \n",
      "39           Azalea Solar, LLC   \n",
      "40           Blue Delta Energy   \n",
      "41           Blue Delta Energy   \n",
      "42            Blue Source, LLC   \n",
      "\n",
      "                                              Website  \n",
      "0                                                 NaN  \n",
      "1                            https://3degreesinc.com/  \n",
      "2                            https://3degreesinc.com/  \n",
      "3                   http://www.3phasesrenewables.com/  \n",
      "4                   http://www.3phasesrenewables.com/  \n",
      "5                   http://www.3phasesrenewables.com/  \n",
      "6                   http://www.3phasesrenewables.com/  \n",
      "7                     https://www.actcommodities.com/  \n",
      "8                     https://www.actcommodities.com/  \n",
      "9                          https://www.aepenergy.com/  \n",
      "10                         https://www.aepenergy.com/  \n",
      "11                                 https://agendi.co/  \n",
      "12                       http://www.aggressiveny.com/  \n",
      "13                          http://www.alamedamp.com/  \n",
      "14                          http://www.alamedamp.com/  \n",
      "15                        https://algonquinpower.com/  \n",
      "16                      http://alletecleanenergy.com/  \n",
      "17                     https://www.alliantenergy.com/  \n",
      "18                     https://www.alliantenergy.com/  \n",
      "19                http://www.alphagasandelectric.com/  \n",
      "20                http://www.alphagasandelectric.com/  \n",
      "21                        http://www.ambitenergy.com/  \n",
      "22                        http://www.ambitenergy.com/  \n",
      "23                        http://www.ambitenergy.com/  \n",
      "24                        http://www.ambitenergy.com/  \n",
      "25                        http://www.ambitenergy.com/  \n",
      "26                        http://www.ambitenergy.com/  \n",
      "27                        http://www.ambitenergy.com/  \n",
      "28                        http://www.ambitenergy.com/  \n",
      "29                    http://www.ameren.com/PurePower  \n",
      "30                    http://www.ameren.com/PurePower  \n",
      "31                  https://www.americanpowernet.com/  \n",
      "32                  https://www.americanpowernet.com/  \n",
      "33                                               None  \n",
      "34  http://www.austinenergy.com/Energy%20Efficienc...  \n",
      "35  http://www.austinenergy.com/Energy%20Efficienc...  \n",
      "36  http://www.austinenergy.com/Energy%20Efficienc...  \n",
      "37                https://www.avangridrenewables.com/  \n",
      "38                https://www.avangridrenewables.com/  \n",
      "39  https://www.dominionenergy.com/about-us/making...  \n",
      "40                    http://www.bluedeltaenergy.com/  \n",
      "41                    http://www.bluedeltaenergy.com/  \n",
      "42                        https://www.bluesource.com/  \n"
     ]
    },
    {
     "name": "stderr",
     "output_type": "stream",
     "text": [
      "C:\\Users\\USER\\AppData\\Local\\Temp\\ipykernel_17652\\3827693980.py:19: FutureWarning: The frame.append method is deprecated and will be removed from pandas in a future version. Use pandas.concat instead.\n",
      "  gc = gc.append(Dic, ignore_index=True)\n"
     ]
    },
    {
     "name": "stdout",
     "output_type": "stream",
     "text": [
      "                       Company  \\\n",
      "0                          NaN   \n",
      "1                3Degrees Inc.   \n",
      "2                3Degrees Inc.   \n",
      "3           3Phases Renewables   \n",
      "4           3Phases Renewables   \n",
      "5           3Phases Renewables   \n",
      "6           3Phases Renewables   \n",
      "7        ACT Commodities, Inc.   \n",
      "8        ACT Commodities, Inc.   \n",
      "9             AEP Energy, Inc.   \n",
      "10            AEP Energy, Inc.   \n",
      "11                 Agendi Inc.   \n",
      "12           Aggressive Energy   \n",
      "13     Alameda Municipal Power   \n",
      "14     Alameda Municipal Power   \n",
      "15             Algonquin Power   \n",
      "16         ALLETE Clean Energy   \n",
      "17              Alliant Energy   \n",
      "18              Alliant Energy   \n",
      "19        Alpha Gas & Electric   \n",
      "20        Alpha Gas & Electric   \n",
      "21   Ambit Energy Holdings LLC   \n",
      "22   Ambit Energy Holdings LLC   \n",
      "23   Ambit Energy Holdings LLC   \n",
      "24   Ambit Energy Holdings LLC   \n",
      "25  Ambit Energy Holdings, LLC   \n",
      "26  Ambit Energy Holdings, LLC   \n",
      "27  Ambit Energy Holdings, LLC   \n",
      "28  Ambit Energy Holdings, LLC   \n",
      "29             Ameren Missouri   \n",
      "30             Ameren Missouri   \n",
      "31           American PowerNet   \n",
      "32           American PowerNet   \n",
      "33       Anza Electricity Coop   \n",
      "34               Austin Energy   \n",
      "35               Austin Energy   \n",
      "36               Austin Energy   \n",
      "37         Avangrid Renewables   \n",
      "38         Avangrid Renewables   \n",
      "39           Azalea Solar, LLC   \n",
      "40           Blue Delta Energy   \n",
      "41           Blue Delta Energy   \n",
      "42            Blue Source, LLC   \n",
      "43    Bombard Renewable Energy   \n",
      "\n",
      "                                              Website  \n",
      "0                                                 NaN  \n",
      "1                            https://3degreesinc.com/  \n",
      "2                            https://3degreesinc.com/  \n",
      "3                   http://www.3phasesrenewables.com/  \n",
      "4                   http://www.3phasesrenewables.com/  \n",
      "5                   http://www.3phasesrenewables.com/  \n",
      "6                   http://www.3phasesrenewables.com/  \n",
      "7                     https://www.actcommodities.com/  \n",
      "8                     https://www.actcommodities.com/  \n",
      "9                          https://www.aepenergy.com/  \n",
      "10                         https://www.aepenergy.com/  \n",
      "11                                 https://agendi.co/  \n",
      "12                       http://www.aggressiveny.com/  \n",
      "13                          http://www.alamedamp.com/  \n",
      "14                          http://www.alamedamp.com/  \n",
      "15                        https://algonquinpower.com/  \n",
      "16                      http://alletecleanenergy.com/  \n",
      "17                     https://www.alliantenergy.com/  \n",
      "18                     https://www.alliantenergy.com/  \n",
      "19                http://www.alphagasandelectric.com/  \n",
      "20                http://www.alphagasandelectric.com/  \n",
      "21                        http://www.ambitenergy.com/  \n",
      "22                        http://www.ambitenergy.com/  \n",
      "23                        http://www.ambitenergy.com/  \n",
      "24                        http://www.ambitenergy.com/  \n",
      "25                        http://www.ambitenergy.com/  \n",
      "26                        http://www.ambitenergy.com/  \n",
      "27                        http://www.ambitenergy.com/  \n",
      "28                        http://www.ambitenergy.com/  \n",
      "29                    http://www.ameren.com/PurePower  \n",
      "30                    http://www.ameren.com/PurePower  \n",
      "31                  https://www.americanpowernet.com/  \n",
      "32                  https://www.americanpowernet.com/  \n",
      "33                                               None  \n",
      "34  http://www.austinenergy.com/Energy%20Efficienc...  \n",
      "35  http://www.austinenergy.com/Energy%20Efficienc...  \n",
      "36  http://www.austinenergy.com/Energy%20Efficienc...  \n",
      "37                https://www.avangridrenewables.com/  \n",
      "38                https://www.avangridrenewables.com/  \n",
      "39  https://www.dominionenergy.com/about-us/making...  \n",
      "40                    http://www.bluedeltaenergy.com/  \n",
      "41                    http://www.bluedeltaenergy.com/  \n",
      "42                        https://www.bluesource.com/  \n",
      "43                                               None  \n"
     ]
    },
    {
     "name": "stderr",
     "output_type": "stream",
     "text": [
      "C:\\Users\\USER\\AppData\\Local\\Temp\\ipykernel_17652\\3827693980.py:19: FutureWarning: The frame.append method is deprecated and will be removed from pandas in a future version. Use pandas.concat instead.\n",
      "  gc = gc.append(Dic, ignore_index=True)\n"
     ]
    },
    {
     "name": "stdout",
     "output_type": "stream",
     "text": [
      "                                      Company  \\\n",
      "0                                         NaN   \n",
      "1                               3Degrees Inc.   \n",
      "2                               3Degrees Inc.   \n",
      "3                          3Phases Renewables   \n",
      "4                          3Phases Renewables   \n",
      "5                          3Phases Renewables   \n",
      "6                          3Phases Renewables   \n",
      "7                       ACT Commodities, Inc.   \n",
      "8                       ACT Commodities, Inc.   \n",
      "9                            AEP Energy, Inc.   \n",
      "10                           AEP Energy, Inc.   \n",
      "11                                Agendi Inc.   \n",
      "12                          Aggressive Energy   \n",
      "13                    Alameda Municipal Power   \n",
      "14                    Alameda Municipal Power   \n",
      "15                            Algonquin Power   \n",
      "16                        ALLETE Clean Energy   \n",
      "17                             Alliant Energy   \n",
      "18                             Alliant Energy   \n",
      "19                       Alpha Gas & Electric   \n",
      "20                       Alpha Gas & Electric   \n",
      "21                  Ambit Energy Holdings LLC   \n",
      "22                  Ambit Energy Holdings LLC   \n",
      "23                  Ambit Energy Holdings LLC   \n",
      "24                  Ambit Energy Holdings LLC   \n",
      "25                 Ambit Energy Holdings, LLC   \n",
      "26                 Ambit Energy Holdings, LLC   \n",
      "27                 Ambit Energy Holdings, LLC   \n",
      "28                 Ambit Energy Holdings, LLC   \n",
      "29                            Ameren Missouri   \n",
      "30                            Ameren Missouri   \n",
      "31                          American PowerNet   \n",
      "32                          American PowerNet   \n",
      "33                      Anza Electricity Coop   \n",
      "34                              Austin Energy   \n",
      "35                              Austin Energy   \n",
      "36                              Austin Energy   \n",
      "37                        Avangrid Renewables   \n",
      "38                        Avangrid Renewables   \n",
      "39                          Azalea Solar, LLC   \n",
      "40                          Blue Delta Energy   \n",
      "41                          Blue Delta Energy   \n",
      "42                           Blue Source, LLC   \n",
      "43                   Bombard Renewable Energy   \n",
      "44  Bonneville Environmental Foundation (BEF)   \n",
      "\n",
      "                                              Website  \n",
      "0                                                 NaN  \n",
      "1                            https://3degreesinc.com/  \n",
      "2                            https://3degreesinc.com/  \n",
      "3                   http://www.3phasesrenewables.com/  \n",
      "4                   http://www.3phasesrenewables.com/  \n",
      "5                   http://www.3phasesrenewables.com/  \n",
      "6                   http://www.3phasesrenewables.com/  \n",
      "7                     https://www.actcommodities.com/  \n",
      "8                     https://www.actcommodities.com/  \n",
      "9                          https://www.aepenergy.com/  \n",
      "10                         https://www.aepenergy.com/  \n",
      "11                                 https://agendi.co/  \n",
      "12                       http://www.aggressiveny.com/  \n",
      "13                          http://www.alamedamp.com/  \n",
      "14                          http://www.alamedamp.com/  \n",
      "15                        https://algonquinpower.com/  \n",
      "16                      http://alletecleanenergy.com/  \n",
      "17                     https://www.alliantenergy.com/  \n",
      "18                     https://www.alliantenergy.com/  \n",
      "19                http://www.alphagasandelectric.com/  \n",
      "20                http://www.alphagasandelectric.com/  \n",
      "21                        http://www.ambitenergy.com/  \n",
      "22                        http://www.ambitenergy.com/  \n",
      "23                        http://www.ambitenergy.com/  \n",
      "24                        http://www.ambitenergy.com/  \n",
      "25                        http://www.ambitenergy.com/  \n",
      "26                        http://www.ambitenergy.com/  \n",
      "27                        http://www.ambitenergy.com/  \n",
      "28                        http://www.ambitenergy.com/  \n",
      "29                    http://www.ameren.com/PurePower  \n",
      "30                    http://www.ameren.com/PurePower  \n",
      "31                  https://www.americanpowernet.com/  \n",
      "32                  https://www.americanpowernet.com/  \n",
      "33                                               None  \n",
      "34  http://www.austinenergy.com/Energy%20Efficienc...  \n",
      "35  http://www.austinenergy.com/Energy%20Efficienc...  \n",
      "36  http://www.austinenergy.com/Energy%20Efficienc...  \n",
      "37                https://www.avangridrenewables.com/  \n",
      "38                https://www.avangridrenewables.com/  \n",
      "39  https://www.dominionenergy.com/about-us/making...  \n",
      "40                    http://www.bluedeltaenergy.com/  \n",
      "41                    http://www.bluedeltaenergy.com/  \n",
      "42                        https://www.bluesource.com/  \n",
      "43                                               None  \n",
      "44                              http://www.b-e-f.org/  \n"
     ]
    },
    {
     "name": "stderr",
     "output_type": "stream",
     "text": [
      "C:\\Users\\USER\\AppData\\Local\\Temp\\ipykernel_17652\\3827693980.py:19: FutureWarning: The frame.append method is deprecated and will be removed from pandas in a future version. Use pandas.concat instead.\n",
      "  gc = gc.append(Dic, ignore_index=True)\n"
     ]
    },
    {
     "name": "stdout",
     "output_type": "stream",
     "text": [
      "                                      Company  \\\n",
      "0                                         NaN   \n",
      "1                               3Degrees Inc.   \n",
      "2                               3Degrees Inc.   \n",
      "3                          3Phases Renewables   \n",
      "4                          3Phases Renewables   \n",
      "5                          3Phases Renewables   \n",
      "6                          3Phases Renewables   \n",
      "7                       ACT Commodities, Inc.   \n",
      "8                       ACT Commodities, Inc.   \n",
      "9                            AEP Energy, Inc.   \n",
      "10                           AEP Energy, Inc.   \n",
      "11                                Agendi Inc.   \n",
      "12                          Aggressive Energy   \n",
      "13                    Alameda Municipal Power   \n",
      "14                    Alameda Municipal Power   \n",
      "15                            Algonquin Power   \n",
      "16                        ALLETE Clean Energy   \n",
      "17                             Alliant Energy   \n",
      "18                             Alliant Energy   \n",
      "19                       Alpha Gas & Electric   \n",
      "20                       Alpha Gas & Electric   \n",
      "21                  Ambit Energy Holdings LLC   \n",
      "22                  Ambit Energy Holdings LLC   \n",
      "23                  Ambit Energy Holdings LLC   \n",
      "24                  Ambit Energy Holdings LLC   \n",
      "25                 Ambit Energy Holdings, LLC   \n",
      "26                 Ambit Energy Holdings, LLC   \n",
      "27                 Ambit Energy Holdings, LLC   \n",
      "28                 Ambit Energy Holdings, LLC   \n",
      "29                            Ameren Missouri   \n",
      "30                            Ameren Missouri   \n",
      "31                          American PowerNet   \n",
      "32                          American PowerNet   \n",
      "33                      Anza Electricity Coop   \n",
      "34                              Austin Energy   \n",
      "35                              Austin Energy   \n",
      "36                              Austin Energy   \n",
      "37                        Avangrid Renewables   \n",
      "38                        Avangrid Renewables   \n",
      "39                          Azalea Solar, LLC   \n",
      "40                          Blue Delta Energy   \n",
      "41                          Blue Delta Energy   \n",
      "42                           Blue Source, LLC   \n",
      "43                   Bombard Renewable Energy   \n",
      "44  Bonneville Environmental Foundation (BEF)   \n",
      "45  Bonneville Environmental Foundation (BEF)   \n",
      "\n",
      "                                              Website  \n",
      "0                                                 NaN  \n",
      "1                            https://3degreesinc.com/  \n",
      "2                            https://3degreesinc.com/  \n",
      "3                   http://www.3phasesrenewables.com/  \n",
      "4                   http://www.3phasesrenewables.com/  \n",
      "5                   http://www.3phasesrenewables.com/  \n",
      "6                   http://www.3phasesrenewables.com/  \n",
      "7                     https://www.actcommodities.com/  \n",
      "8                     https://www.actcommodities.com/  \n",
      "9                          https://www.aepenergy.com/  \n",
      "10                         https://www.aepenergy.com/  \n",
      "11                                 https://agendi.co/  \n",
      "12                       http://www.aggressiveny.com/  \n",
      "13                          http://www.alamedamp.com/  \n",
      "14                          http://www.alamedamp.com/  \n",
      "15                        https://algonquinpower.com/  \n",
      "16                      http://alletecleanenergy.com/  \n",
      "17                     https://www.alliantenergy.com/  \n",
      "18                     https://www.alliantenergy.com/  \n",
      "19                http://www.alphagasandelectric.com/  \n",
      "20                http://www.alphagasandelectric.com/  \n",
      "21                        http://www.ambitenergy.com/  \n",
      "22                        http://www.ambitenergy.com/  \n",
      "23                        http://www.ambitenergy.com/  \n",
      "24                        http://www.ambitenergy.com/  \n",
      "25                        http://www.ambitenergy.com/  \n",
      "26                        http://www.ambitenergy.com/  \n",
      "27                        http://www.ambitenergy.com/  \n",
      "28                        http://www.ambitenergy.com/  \n",
      "29                    http://www.ameren.com/PurePower  \n",
      "30                    http://www.ameren.com/PurePower  \n",
      "31                  https://www.americanpowernet.com/  \n",
      "32                  https://www.americanpowernet.com/  \n",
      "33                                               None  \n",
      "34  http://www.austinenergy.com/Energy%20Efficienc...  \n",
      "35  http://www.austinenergy.com/Energy%20Efficienc...  \n",
      "36  http://www.austinenergy.com/Energy%20Efficienc...  \n",
      "37                https://www.avangridrenewables.com/  \n",
      "38                https://www.avangridrenewables.com/  \n",
      "39  https://www.dominionenergy.com/about-us/making...  \n",
      "40                    http://www.bluedeltaenergy.com/  \n",
      "41                    http://www.bluedeltaenergy.com/  \n",
      "42                        https://www.bluesource.com/  \n",
      "43                                               None  \n",
      "44                              http://www.b-e-f.org/  \n",
      "45                              http://www.b-e-f.org/  \n"
     ]
    },
    {
     "name": "stderr",
     "output_type": "stream",
     "text": [
      "C:\\Users\\USER\\AppData\\Local\\Temp\\ipykernel_17652\\3827693980.py:19: FutureWarning: The frame.append method is deprecated and will be removed from pandas in a future version. Use pandas.concat instead.\n",
      "  gc = gc.append(Dic, ignore_index=True)\n"
     ]
    },
    {
     "name": "stdout",
     "output_type": "stream",
     "text": [
      "                                      Company  \\\n",
      "0                                         NaN   \n",
      "1                               3Degrees Inc.   \n",
      "2                               3Degrees Inc.   \n",
      "3                          3Phases Renewables   \n",
      "4                          3Phases Renewables   \n",
      "5                          3Phases Renewables   \n",
      "6                          3Phases Renewables   \n",
      "7                       ACT Commodities, Inc.   \n",
      "8                       ACT Commodities, Inc.   \n",
      "9                            AEP Energy, Inc.   \n",
      "10                           AEP Energy, Inc.   \n",
      "11                                Agendi Inc.   \n",
      "12                          Aggressive Energy   \n",
      "13                    Alameda Municipal Power   \n",
      "14                    Alameda Municipal Power   \n",
      "15                            Algonquin Power   \n",
      "16                        ALLETE Clean Energy   \n",
      "17                             Alliant Energy   \n",
      "18                             Alliant Energy   \n",
      "19                       Alpha Gas & Electric   \n",
      "20                       Alpha Gas & Electric   \n",
      "21                  Ambit Energy Holdings LLC   \n",
      "22                  Ambit Energy Holdings LLC   \n",
      "23                  Ambit Energy Holdings LLC   \n",
      "24                  Ambit Energy Holdings LLC   \n",
      "25                 Ambit Energy Holdings, LLC   \n",
      "26                 Ambit Energy Holdings, LLC   \n",
      "27                 Ambit Energy Holdings, LLC   \n",
      "28                 Ambit Energy Holdings, LLC   \n",
      "29                            Ameren Missouri   \n",
      "30                            Ameren Missouri   \n",
      "31                          American PowerNet   \n",
      "32                          American PowerNet   \n",
      "33                      Anza Electricity Coop   \n",
      "34                              Austin Energy   \n",
      "35                              Austin Energy   \n",
      "36                              Austin Energy   \n",
      "37                        Avangrid Renewables   \n",
      "38                        Avangrid Renewables   \n",
      "39                          Azalea Solar, LLC   \n",
      "40                          Blue Delta Energy   \n",
      "41                          Blue Delta Energy   \n",
      "42                           Blue Source, LLC   \n",
      "43                   Bombard Renewable Energy   \n",
      "44  Bonneville Environmental Foundation (BEF)   \n",
      "45  Bonneville Environmental Foundation (BEF)   \n",
      "46  Bonneville Environmental Foundation (BEF)   \n",
      "\n",
      "                                              Website  \n",
      "0                                                 NaN  \n",
      "1                            https://3degreesinc.com/  \n",
      "2                            https://3degreesinc.com/  \n",
      "3                   http://www.3phasesrenewables.com/  \n",
      "4                   http://www.3phasesrenewables.com/  \n",
      "5                   http://www.3phasesrenewables.com/  \n",
      "6                   http://www.3phasesrenewables.com/  \n",
      "7                     https://www.actcommodities.com/  \n",
      "8                     https://www.actcommodities.com/  \n",
      "9                          https://www.aepenergy.com/  \n",
      "10                         https://www.aepenergy.com/  \n",
      "11                                 https://agendi.co/  \n",
      "12                       http://www.aggressiveny.com/  \n",
      "13                          http://www.alamedamp.com/  \n",
      "14                          http://www.alamedamp.com/  \n",
      "15                        https://algonquinpower.com/  \n",
      "16                      http://alletecleanenergy.com/  \n",
      "17                     https://www.alliantenergy.com/  \n",
      "18                     https://www.alliantenergy.com/  \n",
      "19                http://www.alphagasandelectric.com/  \n",
      "20                http://www.alphagasandelectric.com/  \n",
      "21                        http://www.ambitenergy.com/  \n",
      "22                        http://www.ambitenergy.com/  \n",
      "23                        http://www.ambitenergy.com/  \n",
      "24                        http://www.ambitenergy.com/  \n",
      "25                        http://www.ambitenergy.com/  \n",
      "26                        http://www.ambitenergy.com/  \n",
      "27                        http://www.ambitenergy.com/  \n",
      "28                        http://www.ambitenergy.com/  \n",
      "29                    http://www.ameren.com/PurePower  \n",
      "30                    http://www.ameren.com/PurePower  \n",
      "31                  https://www.americanpowernet.com/  \n",
      "32                  https://www.americanpowernet.com/  \n",
      "33                                               None  \n",
      "34  http://www.austinenergy.com/Energy%20Efficienc...  \n",
      "35  http://www.austinenergy.com/Energy%20Efficienc...  \n",
      "36  http://www.austinenergy.com/Energy%20Efficienc...  \n",
      "37                https://www.avangridrenewables.com/  \n",
      "38                https://www.avangridrenewables.com/  \n",
      "39  https://www.dominionenergy.com/about-us/making...  \n",
      "40                    http://www.bluedeltaenergy.com/  \n",
      "41                    http://www.bluedeltaenergy.com/  \n",
      "42                        https://www.bluesource.com/  \n",
      "43                                               None  \n",
      "44                              http://www.b-e-f.org/  \n",
      "45                              http://www.b-e-f.org/  \n",
      "46                              http://www.b-e-f.org/  \n"
     ]
    },
    {
     "name": "stderr",
     "output_type": "stream",
     "text": [
      "C:\\Users\\USER\\AppData\\Local\\Temp\\ipykernel_17652\\3827693980.py:19: FutureWarning: The frame.append method is deprecated and will be removed from pandas in a future version. Use pandas.concat instead.\n",
      "  gc = gc.append(Dic, ignore_index=True)\n"
     ]
    },
    {
     "name": "stdout",
     "output_type": "stream",
     "text": [
      "                                      Company  \\\n",
      "0                                         NaN   \n",
      "1                               3Degrees Inc.   \n",
      "2                               3Degrees Inc.   \n",
      "3                          3Phases Renewables   \n",
      "4                          3Phases Renewables   \n",
      "5                          3Phases Renewables   \n",
      "6                          3Phases Renewables   \n",
      "7                       ACT Commodities, Inc.   \n",
      "8                       ACT Commodities, Inc.   \n",
      "9                            AEP Energy, Inc.   \n",
      "10                           AEP Energy, Inc.   \n",
      "11                                Agendi Inc.   \n",
      "12                          Aggressive Energy   \n",
      "13                    Alameda Municipal Power   \n",
      "14                    Alameda Municipal Power   \n",
      "15                            Algonquin Power   \n",
      "16                        ALLETE Clean Energy   \n",
      "17                             Alliant Energy   \n",
      "18                             Alliant Energy   \n",
      "19                       Alpha Gas & Electric   \n",
      "20                       Alpha Gas & Electric   \n",
      "21                  Ambit Energy Holdings LLC   \n",
      "22                  Ambit Energy Holdings LLC   \n",
      "23                  Ambit Energy Holdings LLC   \n",
      "24                  Ambit Energy Holdings LLC   \n",
      "25                 Ambit Energy Holdings, LLC   \n",
      "26                 Ambit Energy Holdings, LLC   \n",
      "27                 Ambit Energy Holdings, LLC   \n",
      "28                 Ambit Energy Holdings, LLC   \n",
      "29                            Ameren Missouri   \n",
      "30                            Ameren Missouri   \n",
      "31                          American PowerNet   \n",
      "32                          American PowerNet   \n",
      "33                      Anza Electricity Coop   \n",
      "34                              Austin Energy   \n",
      "35                              Austin Energy   \n",
      "36                              Austin Energy   \n",
      "37                        Avangrid Renewables   \n",
      "38                        Avangrid Renewables   \n",
      "39                          Azalea Solar, LLC   \n",
      "40                          Blue Delta Energy   \n",
      "41                          Blue Delta Energy   \n",
      "42                           Blue Source, LLC   \n",
      "43                   Bombard Renewable Energy   \n",
      "44  Bonneville Environmental Foundation (BEF)   \n",
      "45  Bonneville Environmental Foundation (BEF)   \n",
      "46  Bonneville Environmental Foundation (BEF)   \n",
      "47  Bonneville Environmental Foundation (BEF)   \n",
      "\n",
      "                                              Website  \n",
      "0                                                 NaN  \n",
      "1                            https://3degreesinc.com/  \n",
      "2                            https://3degreesinc.com/  \n",
      "3                   http://www.3phasesrenewables.com/  \n",
      "4                   http://www.3phasesrenewables.com/  \n",
      "5                   http://www.3phasesrenewables.com/  \n",
      "6                   http://www.3phasesrenewables.com/  \n",
      "7                     https://www.actcommodities.com/  \n",
      "8                     https://www.actcommodities.com/  \n",
      "9                          https://www.aepenergy.com/  \n",
      "10                         https://www.aepenergy.com/  \n",
      "11                                 https://agendi.co/  \n",
      "12                       http://www.aggressiveny.com/  \n",
      "13                          http://www.alamedamp.com/  \n",
      "14                          http://www.alamedamp.com/  \n",
      "15                        https://algonquinpower.com/  \n",
      "16                      http://alletecleanenergy.com/  \n",
      "17                     https://www.alliantenergy.com/  \n",
      "18                     https://www.alliantenergy.com/  \n",
      "19                http://www.alphagasandelectric.com/  \n",
      "20                http://www.alphagasandelectric.com/  \n",
      "21                        http://www.ambitenergy.com/  \n",
      "22                        http://www.ambitenergy.com/  \n",
      "23                        http://www.ambitenergy.com/  \n",
      "24                        http://www.ambitenergy.com/  \n",
      "25                        http://www.ambitenergy.com/  \n",
      "26                        http://www.ambitenergy.com/  \n",
      "27                        http://www.ambitenergy.com/  \n",
      "28                        http://www.ambitenergy.com/  \n",
      "29                    http://www.ameren.com/PurePower  \n",
      "30                    http://www.ameren.com/PurePower  \n",
      "31                  https://www.americanpowernet.com/  \n",
      "32                  https://www.americanpowernet.com/  \n",
      "33                                               None  \n",
      "34  http://www.austinenergy.com/Energy%20Efficienc...  \n",
      "35  http://www.austinenergy.com/Energy%20Efficienc...  \n",
      "36  http://www.austinenergy.com/Energy%20Efficienc...  \n",
      "37                https://www.avangridrenewables.com/  \n",
      "38                https://www.avangridrenewables.com/  \n",
      "39  https://www.dominionenergy.com/about-us/making...  \n",
      "40                    http://www.bluedeltaenergy.com/  \n",
      "41                    http://www.bluedeltaenergy.com/  \n",
      "42                        https://www.bluesource.com/  \n",
      "43                                               None  \n",
      "44                              http://www.b-e-f.org/  \n",
      "45                              http://www.b-e-f.org/  \n",
      "46                              http://www.b-e-f.org/  \n",
      "47                              http://www.b-e-f.org/  \n"
     ]
    },
    {
     "name": "stderr",
     "output_type": "stream",
     "text": [
      "C:\\Users\\USER\\AppData\\Local\\Temp\\ipykernel_17652\\3827693980.py:19: FutureWarning: The frame.append method is deprecated and will be removed from pandas in a future version. Use pandas.concat instead.\n",
      "  gc = gc.append(Dic, ignore_index=True)\n"
     ]
    },
    {
     "name": "stdout",
     "output_type": "stream",
     "text": [
      "                                      Company  \\\n",
      "0                                         NaN   \n",
      "1                               3Degrees Inc.   \n",
      "2                               3Degrees Inc.   \n",
      "3                          3Phases Renewables   \n",
      "4                          3Phases Renewables   \n",
      "5                          3Phases Renewables   \n",
      "6                          3Phases Renewables   \n",
      "7                       ACT Commodities, Inc.   \n",
      "8                       ACT Commodities, Inc.   \n",
      "9                            AEP Energy, Inc.   \n",
      "10                           AEP Energy, Inc.   \n",
      "11                                Agendi Inc.   \n",
      "12                          Aggressive Energy   \n",
      "13                    Alameda Municipal Power   \n",
      "14                    Alameda Municipal Power   \n",
      "15                            Algonquin Power   \n",
      "16                        ALLETE Clean Energy   \n",
      "17                             Alliant Energy   \n",
      "18                             Alliant Energy   \n",
      "19                       Alpha Gas & Electric   \n",
      "20                       Alpha Gas & Electric   \n",
      "21                  Ambit Energy Holdings LLC   \n",
      "22                  Ambit Energy Holdings LLC   \n",
      "23                  Ambit Energy Holdings LLC   \n",
      "24                  Ambit Energy Holdings LLC   \n",
      "25                 Ambit Energy Holdings, LLC   \n",
      "26                 Ambit Energy Holdings, LLC   \n",
      "27                 Ambit Energy Holdings, LLC   \n",
      "28                 Ambit Energy Holdings, LLC   \n",
      "29                            Ameren Missouri   \n",
      "30                            Ameren Missouri   \n",
      "31                          American PowerNet   \n",
      "32                          American PowerNet   \n",
      "33                      Anza Electricity Coop   \n",
      "34                              Austin Energy   \n",
      "35                              Austin Energy   \n",
      "36                              Austin Energy   \n",
      "37                        Avangrid Renewables   \n",
      "38                        Avangrid Renewables   \n",
      "39                          Azalea Solar, LLC   \n",
      "40                          Blue Delta Energy   \n",
      "41                          Blue Delta Energy   \n",
      "42                           Blue Source, LLC   \n",
      "43                   Bombard Renewable Energy   \n",
      "44  Bonneville Environmental Foundation (BEF)   \n",
      "45  Bonneville Environmental Foundation (BEF)   \n",
      "46  Bonneville Environmental Foundation (BEF)   \n",
      "47  Bonneville Environmental Foundation (BEF)   \n",
      "48                          BP Energy Company   \n",
      "\n",
      "                                              Website  \n",
      "0                                                 NaN  \n",
      "1                            https://3degreesinc.com/  \n",
      "2                            https://3degreesinc.com/  \n",
      "3                   http://www.3phasesrenewables.com/  \n",
      "4                   http://www.3phasesrenewables.com/  \n",
      "5                   http://www.3phasesrenewables.com/  \n",
      "6                   http://www.3phasesrenewables.com/  \n",
      "7                     https://www.actcommodities.com/  \n",
      "8                     https://www.actcommodities.com/  \n",
      "9                          https://www.aepenergy.com/  \n",
      "10                         https://www.aepenergy.com/  \n",
      "11                                 https://agendi.co/  \n",
      "12                       http://www.aggressiveny.com/  \n",
      "13                          http://www.alamedamp.com/  \n",
      "14                          http://www.alamedamp.com/  \n",
      "15                        https://algonquinpower.com/  \n",
      "16                      http://alletecleanenergy.com/  \n",
      "17                     https://www.alliantenergy.com/  \n",
      "18                     https://www.alliantenergy.com/  \n",
      "19                http://www.alphagasandelectric.com/  \n",
      "20                http://www.alphagasandelectric.com/  \n",
      "21                        http://www.ambitenergy.com/  \n",
      "22                        http://www.ambitenergy.com/  \n",
      "23                        http://www.ambitenergy.com/  \n",
      "24                        http://www.ambitenergy.com/  \n",
      "25                        http://www.ambitenergy.com/  \n",
      "26                        http://www.ambitenergy.com/  \n",
      "27                        http://www.ambitenergy.com/  \n",
      "28                        http://www.ambitenergy.com/  \n",
      "29                    http://www.ameren.com/PurePower  \n",
      "30                    http://www.ameren.com/PurePower  \n",
      "31                  https://www.americanpowernet.com/  \n",
      "32                  https://www.americanpowernet.com/  \n",
      "33                                               None  \n",
      "34  http://www.austinenergy.com/Energy%20Efficienc...  \n",
      "35  http://www.austinenergy.com/Energy%20Efficienc...  \n",
      "36  http://www.austinenergy.com/Energy%20Efficienc...  \n",
      "37                https://www.avangridrenewables.com/  \n",
      "38                https://www.avangridrenewables.com/  \n",
      "39  https://www.dominionenergy.com/about-us/making...  \n",
      "40                    http://www.bluedeltaenergy.com/  \n",
      "41                    http://www.bluedeltaenergy.com/  \n",
      "42                        https://www.bluesource.com/  \n",
      "43                                               None  \n",
      "44                              http://www.b-e-f.org/  \n",
      "45                              http://www.b-e-f.org/  \n",
      "46                              http://www.b-e-f.org/  \n",
      "47                              http://www.b-e-f.org/  \n",
      "48                                https://www.bp.com/  \n"
     ]
    },
    {
     "name": "stderr",
     "output_type": "stream",
     "text": [
      "C:\\Users\\USER\\AppData\\Local\\Temp\\ipykernel_17652\\3827693980.py:19: FutureWarning: The frame.append method is deprecated and will be removed from pandas in a future version. Use pandas.concat instead.\n",
      "  gc = gc.append(Dic, ignore_index=True)\n"
     ]
    },
    {
     "name": "stdout",
     "output_type": "stream",
     "text": [
      "                                      Company  \\\n",
      "0                                         NaN   \n",
      "1                               3Degrees Inc.   \n",
      "2                               3Degrees Inc.   \n",
      "3                          3Phases Renewables   \n",
      "4                          3Phases Renewables   \n",
      "5                          3Phases Renewables   \n",
      "6                          3Phases Renewables   \n",
      "7                       ACT Commodities, Inc.   \n",
      "8                       ACT Commodities, Inc.   \n",
      "9                            AEP Energy, Inc.   \n",
      "10                           AEP Energy, Inc.   \n",
      "11                                Agendi Inc.   \n",
      "12                          Aggressive Energy   \n",
      "13                    Alameda Municipal Power   \n",
      "14                    Alameda Municipal Power   \n",
      "15                            Algonquin Power   \n",
      "16                        ALLETE Clean Energy   \n",
      "17                             Alliant Energy   \n",
      "18                             Alliant Energy   \n",
      "19                       Alpha Gas & Electric   \n",
      "20                       Alpha Gas & Electric   \n",
      "21                  Ambit Energy Holdings LLC   \n",
      "22                  Ambit Energy Holdings LLC   \n",
      "23                  Ambit Energy Holdings LLC   \n",
      "24                  Ambit Energy Holdings LLC   \n",
      "25                 Ambit Energy Holdings, LLC   \n",
      "26                 Ambit Energy Holdings, LLC   \n",
      "27                 Ambit Energy Holdings, LLC   \n",
      "28                 Ambit Energy Holdings, LLC   \n",
      "29                            Ameren Missouri   \n",
      "30                            Ameren Missouri   \n",
      "31                          American PowerNet   \n",
      "32                          American PowerNet   \n",
      "33                      Anza Electricity Coop   \n",
      "34                              Austin Energy   \n",
      "35                              Austin Energy   \n",
      "36                              Austin Energy   \n",
      "37                        Avangrid Renewables   \n",
      "38                        Avangrid Renewables   \n",
      "39                          Azalea Solar, LLC   \n",
      "40                          Blue Delta Energy   \n",
      "41                          Blue Delta Energy   \n",
      "42                           Blue Source, LLC   \n",
      "43                   Bombard Renewable Energy   \n",
      "44  Bonneville Environmental Foundation (BEF)   \n",
      "45  Bonneville Environmental Foundation (BEF)   \n",
      "46  Bonneville Environmental Foundation (BEF)   \n",
      "47  Bonneville Environmental Foundation (BEF)   \n",
      "48                          BP Energy Company   \n",
      "49                          BP Energy Company   \n",
      "\n",
      "                                              Website  \n",
      "0                                                 NaN  \n",
      "1                            https://3degreesinc.com/  \n",
      "2                            https://3degreesinc.com/  \n",
      "3                   http://www.3phasesrenewables.com/  \n",
      "4                   http://www.3phasesrenewables.com/  \n",
      "5                   http://www.3phasesrenewables.com/  \n",
      "6                   http://www.3phasesrenewables.com/  \n",
      "7                     https://www.actcommodities.com/  \n",
      "8                     https://www.actcommodities.com/  \n",
      "9                          https://www.aepenergy.com/  \n",
      "10                         https://www.aepenergy.com/  \n",
      "11                                 https://agendi.co/  \n",
      "12                       http://www.aggressiveny.com/  \n",
      "13                          http://www.alamedamp.com/  \n",
      "14                          http://www.alamedamp.com/  \n",
      "15                        https://algonquinpower.com/  \n",
      "16                      http://alletecleanenergy.com/  \n",
      "17                     https://www.alliantenergy.com/  \n",
      "18                     https://www.alliantenergy.com/  \n",
      "19                http://www.alphagasandelectric.com/  \n",
      "20                http://www.alphagasandelectric.com/  \n",
      "21                        http://www.ambitenergy.com/  \n",
      "22                        http://www.ambitenergy.com/  \n",
      "23                        http://www.ambitenergy.com/  \n",
      "24                        http://www.ambitenergy.com/  \n",
      "25                        http://www.ambitenergy.com/  \n",
      "26                        http://www.ambitenergy.com/  \n",
      "27                        http://www.ambitenergy.com/  \n",
      "28                        http://www.ambitenergy.com/  \n",
      "29                    http://www.ameren.com/PurePower  \n",
      "30                    http://www.ameren.com/PurePower  \n",
      "31                  https://www.americanpowernet.com/  \n",
      "32                  https://www.americanpowernet.com/  \n",
      "33                                               None  \n",
      "34  http://www.austinenergy.com/Energy%20Efficienc...  \n",
      "35  http://www.austinenergy.com/Energy%20Efficienc...  \n",
      "36  http://www.austinenergy.com/Energy%20Efficienc...  \n",
      "37                https://www.avangridrenewables.com/  \n",
      "38                https://www.avangridrenewables.com/  \n",
      "39  https://www.dominionenergy.com/about-us/making...  \n",
      "40                    http://www.bluedeltaenergy.com/  \n",
      "41                    http://www.bluedeltaenergy.com/  \n",
      "42                        https://www.bluesource.com/  \n",
      "43                                               None  \n",
      "44                              http://www.b-e-f.org/  \n",
      "45                              http://www.b-e-f.org/  \n",
      "46                              http://www.b-e-f.org/  \n",
      "47                              http://www.b-e-f.org/  \n",
      "48                                https://www.bp.com/  \n",
      "49                                https://www.bp.com/  \n"
     ]
    },
    {
     "name": "stderr",
     "output_type": "stream",
     "text": [
      "C:\\Users\\USER\\AppData\\Local\\Temp\\ipykernel_17652\\3827693980.py:19: FutureWarning: The frame.append method is deprecated and will be removed from pandas in a future version. Use pandas.concat instead.\n",
      "  gc = gc.append(Dic, ignore_index=True)\n"
     ]
    },
    {
     "name": "stdout",
     "output_type": "stream",
     "text": [
      "                                      Company  \\\n",
      "0                                         NaN   \n",
      "1                               3Degrees Inc.   \n",
      "2                               3Degrees Inc.   \n",
      "3                          3Phases Renewables   \n",
      "4                          3Phases Renewables   \n",
      "5                          3Phases Renewables   \n",
      "6                          3Phases Renewables   \n",
      "7                       ACT Commodities, Inc.   \n",
      "8                       ACT Commodities, Inc.   \n",
      "9                            AEP Energy, Inc.   \n",
      "10                           AEP Energy, Inc.   \n",
      "11                                Agendi Inc.   \n",
      "12                          Aggressive Energy   \n",
      "13                    Alameda Municipal Power   \n",
      "14                    Alameda Municipal Power   \n",
      "15                            Algonquin Power   \n",
      "16                        ALLETE Clean Energy   \n",
      "17                             Alliant Energy   \n",
      "18                             Alliant Energy   \n",
      "19                       Alpha Gas & Electric   \n",
      "20                       Alpha Gas & Electric   \n",
      "21                  Ambit Energy Holdings LLC   \n",
      "22                  Ambit Energy Holdings LLC   \n",
      "23                  Ambit Energy Holdings LLC   \n",
      "24                  Ambit Energy Holdings LLC   \n",
      "25                 Ambit Energy Holdings, LLC   \n",
      "26                 Ambit Energy Holdings, LLC   \n",
      "27                 Ambit Energy Holdings, LLC   \n",
      "28                 Ambit Energy Holdings, LLC   \n",
      "29                            Ameren Missouri   \n",
      "30                            Ameren Missouri   \n",
      "31                          American PowerNet   \n",
      "32                          American PowerNet   \n",
      "33                      Anza Electricity Coop   \n",
      "34                              Austin Energy   \n",
      "35                              Austin Energy   \n",
      "36                              Austin Energy   \n",
      "37                        Avangrid Renewables   \n",
      "38                        Avangrid Renewables   \n",
      "39                          Azalea Solar, LLC   \n",
      "40                          Blue Delta Energy   \n",
      "41                          Blue Delta Energy   \n",
      "42                           Blue Source, LLC   \n",
      "43                   Bombard Renewable Energy   \n",
      "44  Bonneville Environmental Foundation (BEF)   \n",
      "45  Bonneville Environmental Foundation (BEF)   \n",
      "46  Bonneville Environmental Foundation (BEF)   \n",
      "47  Bonneville Environmental Foundation (BEF)   \n",
      "48                          BP Energy Company   \n",
      "49                          BP Energy Company   \n",
      "50                  Bridge to Renewables, LLC   \n",
      "\n",
      "                                              Website  \n",
      "0                                                 NaN  \n",
      "1                            https://3degreesinc.com/  \n",
      "2                            https://3degreesinc.com/  \n",
      "3                   http://www.3phasesrenewables.com/  \n",
      "4                   http://www.3phasesrenewables.com/  \n",
      "5                   http://www.3phasesrenewables.com/  \n",
      "6                   http://www.3phasesrenewables.com/  \n",
      "7                     https://www.actcommodities.com/  \n",
      "8                     https://www.actcommodities.com/  \n",
      "9                          https://www.aepenergy.com/  \n",
      "10                         https://www.aepenergy.com/  \n",
      "11                                 https://agendi.co/  \n",
      "12                       http://www.aggressiveny.com/  \n",
      "13                          http://www.alamedamp.com/  \n",
      "14                          http://www.alamedamp.com/  \n",
      "15                        https://algonquinpower.com/  \n",
      "16                      http://alletecleanenergy.com/  \n",
      "17                     https://www.alliantenergy.com/  \n",
      "18                     https://www.alliantenergy.com/  \n",
      "19                http://www.alphagasandelectric.com/  \n",
      "20                http://www.alphagasandelectric.com/  \n",
      "21                        http://www.ambitenergy.com/  \n",
      "22                        http://www.ambitenergy.com/  \n",
      "23                        http://www.ambitenergy.com/  \n",
      "24                        http://www.ambitenergy.com/  \n",
      "25                        http://www.ambitenergy.com/  \n",
      "26                        http://www.ambitenergy.com/  \n",
      "27                        http://www.ambitenergy.com/  \n",
      "28                        http://www.ambitenergy.com/  \n",
      "29                    http://www.ameren.com/PurePower  \n",
      "30                    http://www.ameren.com/PurePower  \n",
      "31                  https://www.americanpowernet.com/  \n",
      "32                  https://www.americanpowernet.com/  \n",
      "33                                               None  \n",
      "34  http://www.austinenergy.com/Energy%20Efficienc...  \n",
      "35  http://www.austinenergy.com/Energy%20Efficienc...  \n",
      "36  http://www.austinenergy.com/Energy%20Efficienc...  \n",
      "37                https://www.avangridrenewables.com/  \n",
      "38                https://www.avangridrenewables.com/  \n",
      "39  https://www.dominionenergy.com/about-us/making...  \n",
      "40                    http://www.bluedeltaenergy.com/  \n",
      "41                    http://www.bluedeltaenergy.com/  \n",
      "42                        https://www.bluesource.com/  \n",
      "43                                               None  \n",
      "44                              http://www.b-e-f.org/  \n",
      "45                              http://www.b-e-f.org/  \n",
      "46                              http://www.b-e-f.org/  \n",
      "47                              http://www.b-e-f.org/  \n",
      "48                                https://www.bp.com/  \n",
      "49                                https://www.bp.com/  \n",
      "50                                               None  \n"
     ]
    },
    {
     "name": "stderr",
     "output_type": "stream",
     "text": [
      "C:\\Users\\USER\\AppData\\Local\\Temp\\ipykernel_17652\\3827693980.py:19: FutureWarning: The frame.append method is deprecated and will be removed from pandas in a future version. Use pandas.concat instead.\n",
      "  gc = gc.append(Dic, ignore_index=True)\n"
     ]
    },
    {
     "name": "stdout",
     "output_type": "stream",
     "text": [
      "                                      Company  \\\n",
      "0                                         NaN   \n",
      "1                               3Degrees Inc.   \n",
      "2                               3Degrees Inc.   \n",
      "3                          3Phases Renewables   \n",
      "4                          3Phases Renewables   \n",
      "5                          3Phases Renewables   \n",
      "6                          3Phases Renewables   \n",
      "7                       ACT Commodities, Inc.   \n",
      "8                       ACT Commodities, Inc.   \n",
      "9                            AEP Energy, Inc.   \n",
      "10                           AEP Energy, Inc.   \n",
      "11                                Agendi Inc.   \n",
      "12                          Aggressive Energy   \n",
      "13                    Alameda Municipal Power   \n",
      "14                    Alameda Municipal Power   \n",
      "15                            Algonquin Power   \n",
      "16                        ALLETE Clean Energy   \n",
      "17                             Alliant Energy   \n",
      "18                             Alliant Energy   \n",
      "19                       Alpha Gas & Electric   \n",
      "20                       Alpha Gas & Electric   \n",
      "21                  Ambit Energy Holdings LLC   \n",
      "22                  Ambit Energy Holdings LLC   \n",
      "23                  Ambit Energy Holdings LLC   \n",
      "24                  Ambit Energy Holdings LLC   \n",
      "25                 Ambit Energy Holdings, LLC   \n",
      "26                 Ambit Energy Holdings, LLC   \n",
      "27                 Ambit Energy Holdings, LLC   \n",
      "28                 Ambit Energy Holdings, LLC   \n",
      "29                            Ameren Missouri   \n",
      "30                            Ameren Missouri   \n",
      "31                          American PowerNet   \n",
      "32                          American PowerNet   \n",
      "33                      Anza Electricity Coop   \n",
      "34                              Austin Energy   \n",
      "35                              Austin Energy   \n",
      "36                              Austin Energy   \n",
      "37                        Avangrid Renewables   \n",
      "38                        Avangrid Renewables   \n",
      "39                          Azalea Solar, LLC   \n",
      "40                          Blue Delta Energy   \n",
      "41                          Blue Delta Energy   \n",
      "42                           Blue Source, LLC   \n",
      "43                   Bombard Renewable Energy   \n",
      "44  Bonneville Environmental Foundation (BEF)   \n",
      "45  Bonneville Environmental Foundation (BEF)   \n",
      "46  Bonneville Environmental Foundation (BEF)   \n",
      "47  Bonneville Environmental Foundation (BEF)   \n",
      "48                          BP Energy Company   \n",
      "49                          BP Energy Company   \n",
      "50                  Bridge to Renewables, LLC   \n",
      "51                       Brookfield Renewable   \n",
      "\n",
      "                                              Website  \n",
      "0                                                 NaN  \n",
      "1                            https://3degreesinc.com/  \n",
      "2                            https://3degreesinc.com/  \n",
      "3                   http://www.3phasesrenewables.com/  \n",
      "4                   http://www.3phasesrenewables.com/  \n",
      "5                   http://www.3phasesrenewables.com/  \n",
      "6                   http://www.3phasesrenewables.com/  \n",
      "7                     https://www.actcommodities.com/  \n",
      "8                     https://www.actcommodities.com/  \n",
      "9                          https://www.aepenergy.com/  \n",
      "10                         https://www.aepenergy.com/  \n",
      "11                                 https://agendi.co/  \n",
      "12                       http://www.aggressiveny.com/  \n",
      "13                          http://www.alamedamp.com/  \n",
      "14                          http://www.alamedamp.com/  \n",
      "15                        https://algonquinpower.com/  \n",
      "16                      http://alletecleanenergy.com/  \n",
      "17                     https://www.alliantenergy.com/  \n",
      "18                     https://www.alliantenergy.com/  \n",
      "19                http://www.alphagasandelectric.com/  \n",
      "20                http://www.alphagasandelectric.com/  \n",
      "21                        http://www.ambitenergy.com/  \n",
      "22                        http://www.ambitenergy.com/  \n",
      "23                        http://www.ambitenergy.com/  \n",
      "24                        http://www.ambitenergy.com/  \n",
      "25                        http://www.ambitenergy.com/  \n",
      "26                        http://www.ambitenergy.com/  \n",
      "27                        http://www.ambitenergy.com/  \n",
      "28                        http://www.ambitenergy.com/  \n",
      "29                    http://www.ameren.com/PurePower  \n",
      "30                    http://www.ameren.com/PurePower  \n",
      "31                  https://www.americanpowernet.com/  \n",
      "32                  https://www.americanpowernet.com/  \n",
      "33                                               None  \n",
      "34  http://www.austinenergy.com/Energy%20Efficienc...  \n",
      "35  http://www.austinenergy.com/Energy%20Efficienc...  \n",
      "36  http://www.austinenergy.com/Energy%20Efficienc...  \n",
      "37                https://www.avangridrenewables.com/  \n",
      "38                https://www.avangridrenewables.com/  \n",
      "39  https://www.dominionenergy.com/about-us/making...  \n",
      "40                    http://www.bluedeltaenergy.com/  \n",
      "41                    http://www.bluedeltaenergy.com/  \n",
      "42                        https://www.bluesource.com/  \n",
      "43                                               None  \n",
      "44                              http://www.b-e-f.org/  \n",
      "45                              http://www.b-e-f.org/  \n",
      "46                              http://www.b-e-f.org/  \n",
      "47                              http://www.b-e-f.org/  \n",
      "48                                https://www.bp.com/  \n",
      "49                                https://www.bp.com/  \n",
      "50                                               None  \n",
      "51                        https://bep.brookfield.com/  \n"
     ]
    },
    {
     "name": "stderr",
     "output_type": "stream",
     "text": [
      "C:\\Users\\USER\\AppData\\Local\\Temp\\ipykernel_17652\\3827693980.py:19: FutureWarning: The frame.append method is deprecated and will be removed from pandas in a future version. Use pandas.concat instead.\n",
      "  gc = gc.append(Dic, ignore_index=True)\n"
     ]
    },
    {
     "name": "stdout",
     "output_type": "stream",
     "text": [
      "                                      Company  \\\n",
      "0                                         NaN   \n",
      "1                               3Degrees Inc.   \n",
      "2                               3Degrees Inc.   \n",
      "3                          3Phases Renewables   \n",
      "4                          3Phases Renewables   \n",
      "5                          3Phases Renewables   \n",
      "6                          3Phases Renewables   \n",
      "7                       ACT Commodities, Inc.   \n",
      "8                       ACT Commodities, Inc.   \n",
      "9                            AEP Energy, Inc.   \n",
      "10                           AEP Energy, Inc.   \n",
      "11                                Agendi Inc.   \n",
      "12                          Aggressive Energy   \n",
      "13                    Alameda Municipal Power   \n",
      "14                    Alameda Municipal Power   \n",
      "15                            Algonquin Power   \n",
      "16                        ALLETE Clean Energy   \n",
      "17                             Alliant Energy   \n",
      "18                             Alliant Energy   \n",
      "19                       Alpha Gas & Electric   \n",
      "20                       Alpha Gas & Electric   \n",
      "21                  Ambit Energy Holdings LLC   \n",
      "22                  Ambit Energy Holdings LLC   \n",
      "23                  Ambit Energy Holdings LLC   \n",
      "24                  Ambit Energy Holdings LLC   \n",
      "25                 Ambit Energy Holdings, LLC   \n",
      "26                 Ambit Energy Holdings, LLC   \n",
      "27                 Ambit Energy Holdings, LLC   \n",
      "28                 Ambit Energy Holdings, LLC   \n",
      "29                            Ameren Missouri   \n",
      "30                            Ameren Missouri   \n",
      "31                          American PowerNet   \n",
      "32                          American PowerNet   \n",
      "33                      Anza Electricity Coop   \n",
      "34                              Austin Energy   \n",
      "35                              Austin Energy   \n",
      "36                              Austin Energy   \n",
      "37                        Avangrid Renewables   \n",
      "38                        Avangrid Renewables   \n",
      "39                          Azalea Solar, LLC   \n",
      "40                          Blue Delta Energy   \n",
      "41                          Blue Delta Energy   \n",
      "42                           Blue Source, LLC   \n",
      "43                   Bombard Renewable Energy   \n",
      "44  Bonneville Environmental Foundation (BEF)   \n",
      "45  Bonneville Environmental Foundation (BEF)   \n",
      "46  Bonneville Environmental Foundation (BEF)   \n",
      "47  Bonneville Environmental Foundation (BEF)   \n",
      "48                          BP Energy Company   \n",
      "49                          BP Energy Company   \n",
      "50                  Bridge to Renewables, LLC   \n",
      "51                       Brookfield Renewable   \n",
      "52                          Callective Energy   \n",
      "\n",
      "                                              Website  \n",
      "0                                                 NaN  \n",
      "1                            https://3degreesinc.com/  \n",
      "2                            https://3degreesinc.com/  \n",
      "3                   http://www.3phasesrenewables.com/  \n",
      "4                   http://www.3phasesrenewables.com/  \n",
      "5                   http://www.3phasesrenewables.com/  \n",
      "6                   http://www.3phasesrenewables.com/  \n",
      "7                     https://www.actcommodities.com/  \n",
      "8                     https://www.actcommodities.com/  \n",
      "9                          https://www.aepenergy.com/  \n",
      "10                         https://www.aepenergy.com/  \n",
      "11                                 https://agendi.co/  \n",
      "12                       http://www.aggressiveny.com/  \n",
      "13                          http://www.alamedamp.com/  \n",
      "14                          http://www.alamedamp.com/  \n",
      "15                        https://algonquinpower.com/  \n",
      "16                      http://alletecleanenergy.com/  \n",
      "17                     https://www.alliantenergy.com/  \n",
      "18                     https://www.alliantenergy.com/  \n",
      "19                http://www.alphagasandelectric.com/  \n",
      "20                http://www.alphagasandelectric.com/  \n",
      "21                        http://www.ambitenergy.com/  \n",
      "22                        http://www.ambitenergy.com/  \n",
      "23                        http://www.ambitenergy.com/  \n",
      "24                        http://www.ambitenergy.com/  \n",
      "25                        http://www.ambitenergy.com/  \n",
      "26                        http://www.ambitenergy.com/  \n",
      "27                        http://www.ambitenergy.com/  \n",
      "28                        http://www.ambitenergy.com/  \n",
      "29                    http://www.ameren.com/PurePower  \n",
      "30                    http://www.ameren.com/PurePower  \n",
      "31                  https://www.americanpowernet.com/  \n",
      "32                  https://www.americanpowernet.com/  \n",
      "33                                               None  \n",
      "34  http://www.austinenergy.com/Energy%20Efficienc...  \n",
      "35  http://www.austinenergy.com/Energy%20Efficienc...  \n",
      "36  http://www.austinenergy.com/Energy%20Efficienc...  \n",
      "37                https://www.avangridrenewables.com/  \n",
      "38                https://www.avangridrenewables.com/  \n",
      "39  https://www.dominionenergy.com/about-us/making...  \n",
      "40                    http://www.bluedeltaenergy.com/  \n",
      "41                    http://www.bluedeltaenergy.com/  \n",
      "42                        https://www.bluesource.com/  \n",
      "43                                               None  \n",
      "44                              http://www.b-e-f.org/  \n",
      "45                              http://www.b-e-f.org/  \n",
      "46                              http://www.b-e-f.org/  \n",
      "47                              http://www.b-e-f.org/  \n",
      "48                                https://www.bp.com/  \n",
      "49                                https://www.bp.com/  \n",
      "50                                               None  \n",
      "51                        https://bep.brookfield.com/  \n",
      "52                                               None  \n"
     ]
    },
    {
     "name": "stderr",
     "output_type": "stream",
     "text": [
      "C:\\Users\\USER\\AppData\\Local\\Temp\\ipykernel_17652\\3827693980.py:19: FutureWarning: The frame.append method is deprecated and will be removed from pandas in a future version. Use pandas.concat instead.\n",
      "  gc = gc.append(Dic, ignore_index=True)\n"
     ]
    },
    {
     "name": "stdout",
     "output_type": "stream",
     "text": [
      "                                      Company  \\\n",
      "0                                         NaN   \n",
      "1                               3Degrees Inc.   \n",
      "2                               3Degrees Inc.   \n",
      "3                          3Phases Renewables   \n",
      "4                          3Phases Renewables   \n",
      "5                          3Phases Renewables   \n",
      "6                          3Phases Renewables   \n",
      "7                       ACT Commodities, Inc.   \n",
      "8                       ACT Commodities, Inc.   \n",
      "9                            AEP Energy, Inc.   \n",
      "10                           AEP Energy, Inc.   \n",
      "11                                Agendi Inc.   \n",
      "12                          Aggressive Energy   \n",
      "13                    Alameda Municipal Power   \n",
      "14                    Alameda Municipal Power   \n",
      "15                            Algonquin Power   \n",
      "16                        ALLETE Clean Energy   \n",
      "17                             Alliant Energy   \n",
      "18                             Alliant Energy   \n",
      "19                       Alpha Gas & Electric   \n",
      "20                       Alpha Gas & Electric   \n",
      "21                  Ambit Energy Holdings LLC   \n",
      "22                  Ambit Energy Holdings LLC   \n",
      "23                  Ambit Energy Holdings LLC   \n",
      "24                  Ambit Energy Holdings LLC   \n",
      "25                 Ambit Energy Holdings, LLC   \n",
      "26                 Ambit Energy Holdings, LLC   \n",
      "27                 Ambit Energy Holdings, LLC   \n",
      "28                 Ambit Energy Holdings, LLC   \n",
      "29                            Ameren Missouri   \n",
      "30                            Ameren Missouri   \n",
      "31                          American PowerNet   \n",
      "32                          American PowerNet   \n",
      "33                      Anza Electricity Coop   \n",
      "34                              Austin Energy   \n",
      "35                              Austin Energy   \n",
      "36                              Austin Energy   \n",
      "37                        Avangrid Renewables   \n",
      "38                        Avangrid Renewables   \n",
      "39                          Azalea Solar, LLC   \n",
      "40                          Blue Delta Energy   \n",
      "41                          Blue Delta Energy   \n",
      "42                           Blue Source, LLC   \n",
      "43                   Bombard Renewable Energy   \n",
      "44  Bonneville Environmental Foundation (BEF)   \n",
      "45  Bonneville Environmental Foundation (BEF)   \n",
      "46  Bonneville Environmental Foundation (BEF)   \n",
      "47  Bonneville Environmental Foundation (BEF)   \n",
      "48                          BP Energy Company   \n",
      "49                          BP Energy Company   \n",
      "50                  Bridge to Renewables, LLC   \n",
      "51                       Brookfield Renewable   \n",
      "52                          Callective Energy   \n",
      "53              Calpine Energy Solutions, LLC   \n",
      "\n",
      "                                              Website  \n",
      "0                                                 NaN  \n",
      "1                            https://3degreesinc.com/  \n",
      "2                            https://3degreesinc.com/  \n",
      "3                   http://www.3phasesrenewables.com/  \n",
      "4                   http://www.3phasesrenewables.com/  \n",
      "5                   http://www.3phasesrenewables.com/  \n",
      "6                   http://www.3phasesrenewables.com/  \n",
      "7                     https://www.actcommodities.com/  \n",
      "8                     https://www.actcommodities.com/  \n",
      "9                          https://www.aepenergy.com/  \n",
      "10                         https://www.aepenergy.com/  \n",
      "11                                 https://agendi.co/  \n",
      "12                       http://www.aggressiveny.com/  \n",
      "13                          http://www.alamedamp.com/  \n",
      "14                          http://www.alamedamp.com/  \n",
      "15                        https://algonquinpower.com/  \n",
      "16                      http://alletecleanenergy.com/  \n",
      "17                     https://www.alliantenergy.com/  \n",
      "18                     https://www.alliantenergy.com/  \n",
      "19                http://www.alphagasandelectric.com/  \n",
      "20                http://www.alphagasandelectric.com/  \n",
      "21                        http://www.ambitenergy.com/  \n",
      "22                        http://www.ambitenergy.com/  \n",
      "23                        http://www.ambitenergy.com/  \n",
      "24                        http://www.ambitenergy.com/  \n",
      "25                        http://www.ambitenergy.com/  \n",
      "26                        http://www.ambitenergy.com/  \n",
      "27                        http://www.ambitenergy.com/  \n",
      "28                        http://www.ambitenergy.com/  \n",
      "29                    http://www.ameren.com/PurePower  \n",
      "30                    http://www.ameren.com/PurePower  \n",
      "31                  https://www.americanpowernet.com/  \n",
      "32                  https://www.americanpowernet.com/  \n",
      "33                                               None  \n",
      "34  http://www.austinenergy.com/Energy%20Efficienc...  \n",
      "35  http://www.austinenergy.com/Energy%20Efficienc...  \n",
      "36  http://www.austinenergy.com/Energy%20Efficienc...  \n",
      "37                https://www.avangridrenewables.com/  \n",
      "38                https://www.avangridrenewables.com/  \n",
      "39  https://www.dominionenergy.com/about-us/making...  \n",
      "40                    http://www.bluedeltaenergy.com/  \n",
      "41                    http://www.bluedeltaenergy.com/  \n",
      "42                        https://www.bluesource.com/  \n",
      "43                                               None  \n",
      "44                              http://www.b-e-f.org/  \n",
      "45                              http://www.b-e-f.org/  \n",
      "46                              http://www.b-e-f.org/  \n",
      "47                              http://www.b-e-f.org/  \n",
      "48                                https://www.bp.com/  \n",
      "49                                https://www.bp.com/  \n",
      "50                                               None  \n",
      "51                        https://bep.brookfield.com/  \n",
      "52                                               None  \n",
      "53                   http://www.calpinesolutions.com/  \n"
     ]
    },
    {
     "name": "stderr",
     "output_type": "stream",
     "text": [
      "C:\\Users\\USER\\AppData\\Local\\Temp\\ipykernel_17652\\3827693980.py:19: FutureWarning: The frame.append method is deprecated and will be removed from pandas in a future version. Use pandas.concat instead.\n",
      "  gc = gc.append(Dic, ignore_index=True)\n"
     ]
    },
    {
     "name": "stdout",
     "output_type": "stream",
     "text": [
      "                                      Company  \\\n",
      "0                                         NaN   \n",
      "1                               3Degrees Inc.   \n",
      "2                               3Degrees Inc.   \n",
      "3                          3Phases Renewables   \n",
      "4                          3Phases Renewables   \n",
      "5                          3Phases Renewables   \n",
      "6                          3Phases Renewables   \n",
      "7                       ACT Commodities, Inc.   \n",
      "8                       ACT Commodities, Inc.   \n",
      "9                            AEP Energy, Inc.   \n",
      "10                           AEP Energy, Inc.   \n",
      "11                                Agendi Inc.   \n",
      "12                          Aggressive Energy   \n",
      "13                    Alameda Municipal Power   \n",
      "14                    Alameda Municipal Power   \n",
      "15                            Algonquin Power   \n",
      "16                        ALLETE Clean Energy   \n",
      "17                             Alliant Energy   \n",
      "18                             Alliant Energy   \n",
      "19                       Alpha Gas & Electric   \n",
      "20                       Alpha Gas & Electric   \n",
      "21                  Ambit Energy Holdings LLC   \n",
      "22                  Ambit Energy Holdings LLC   \n",
      "23                  Ambit Energy Holdings LLC   \n",
      "24                  Ambit Energy Holdings LLC   \n",
      "25                 Ambit Energy Holdings, LLC   \n",
      "26                 Ambit Energy Holdings, LLC   \n",
      "27                 Ambit Energy Holdings, LLC   \n",
      "28                 Ambit Energy Holdings, LLC   \n",
      "29                            Ameren Missouri   \n",
      "30                            Ameren Missouri   \n",
      "31                          American PowerNet   \n",
      "32                          American PowerNet   \n",
      "33                      Anza Electricity Coop   \n",
      "34                              Austin Energy   \n",
      "35                              Austin Energy   \n",
      "36                              Austin Energy   \n",
      "37                        Avangrid Renewables   \n",
      "38                        Avangrid Renewables   \n",
      "39                          Azalea Solar, LLC   \n",
      "40                          Blue Delta Energy   \n",
      "41                          Blue Delta Energy   \n",
      "42                           Blue Source, LLC   \n",
      "43                   Bombard Renewable Energy   \n",
      "44  Bonneville Environmental Foundation (BEF)   \n",
      "45  Bonneville Environmental Foundation (BEF)   \n",
      "46  Bonneville Environmental Foundation (BEF)   \n",
      "47  Bonneville Environmental Foundation (BEF)   \n",
      "48                          BP Energy Company   \n",
      "49                          BP Energy Company   \n",
      "50                  Bridge to Renewables, LLC   \n",
      "51                       Brookfield Renewable   \n",
      "52                          Callective Energy   \n",
      "53              Calpine Energy Solutions, LLC   \n",
      "54              Calpine Energy Solutions, LLC   \n",
      "\n",
      "                                              Website  \n",
      "0                                                 NaN  \n",
      "1                            https://3degreesinc.com/  \n",
      "2                            https://3degreesinc.com/  \n",
      "3                   http://www.3phasesrenewables.com/  \n",
      "4                   http://www.3phasesrenewables.com/  \n",
      "5                   http://www.3phasesrenewables.com/  \n",
      "6                   http://www.3phasesrenewables.com/  \n",
      "7                     https://www.actcommodities.com/  \n",
      "8                     https://www.actcommodities.com/  \n",
      "9                          https://www.aepenergy.com/  \n",
      "10                         https://www.aepenergy.com/  \n",
      "11                                 https://agendi.co/  \n",
      "12                       http://www.aggressiveny.com/  \n",
      "13                          http://www.alamedamp.com/  \n",
      "14                          http://www.alamedamp.com/  \n",
      "15                        https://algonquinpower.com/  \n",
      "16                      http://alletecleanenergy.com/  \n",
      "17                     https://www.alliantenergy.com/  \n",
      "18                     https://www.alliantenergy.com/  \n",
      "19                http://www.alphagasandelectric.com/  \n",
      "20                http://www.alphagasandelectric.com/  \n",
      "21                        http://www.ambitenergy.com/  \n",
      "22                        http://www.ambitenergy.com/  \n",
      "23                        http://www.ambitenergy.com/  \n",
      "24                        http://www.ambitenergy.com/  \n",
      "25                        http://www.ambitenergy.com/  \n",
      "26                        http://www.ambitenergy.com/  \n",
      "27                        http://www.ambitenergy.com/  \n",
      "28                        http://www.ambitenergy.com/  \n",
      "29                    http://www.ameren.com/PurePower  \n",
      "30                    http://www.ameren.com/PurePower  \n",
      "31                  https://www.americanpowernet.com/  \n",
      "32                  https://www.americanpowernet.com/  \n",
      "33                                               None  \n",
      "34  http://www.austinenergy.com/Energy%20Efficienc...  \n",
      "35  http://www.austinenergy.com/Energy%20Efficienc...  \n",
      "36  http://www.austinenergy.com/Energy%20Efficienc...  \n",
      "37                https://www.avangridrenewables.com/  \n",
      "38                https://www.avangridrenewables.com/  \n",
      "39  https://www.dominionenergy.com/about-us/making...  \n",
      "40                    http://www.bluedeltaenergy.com/  \n",
      "41                    http://www.bluedeltaenergy.com/  \n",
      "42                        https://www.bluesource.com/  \n",
      "43                                               None  \n",
      "44                              http://www.b-e-f.org/  \n",
      "45                              http://www.b-e-f.org/  \n",
      "46                              http://www.b-e-f.org/  \n",
      "47                              http://www.b-e-f.org/  \n",
      "48                                https://www.bp.com/  \n",
      "49                                https://www.bp.com/  \n",
      "50                                               None  \n",
      "51                        https://bep.brookfield.com/  \n",
      "52                                               None  \n",
      "53                   http://www.calpinesolutions.com/  \n",
      "54                   http://www.calpinesolutions.com/  \n"
     ]
    },
    {
     "name": "stderr",
     "output_type": "stream",
     "text": [
      "C:\\Users\\USER\\AppData\\Local\\Temp\\ipykernel_17652\\3827693980.py:19: FutureWarning: The frame.append method is deprecated and will be removed from pandas in a future version. Use pandas.concat instead.\n",
      "  gc = gc.append(Dic, ignore_index=True)\n"
     ]
    },
    {
     "name": "stdout",
     "output_type": "stream",
     "text": [
      "                                      Company  \\\n",
      "0                                         NaN   \n",
      "1                               3Degrees Inc.   \n",
      "2                               3Degrees Inc.   \n",
      "3                          3Phases Renewables   \n",
      "4                          3Phases Renewables   \n",
      "5                          3Phases Renewables   \n",
      "6                          3Phases Renewables   \n",
      "7                       ACT Commodities, Inc.   \n",
      "8                       ACT Commodities, Inc.   \n",
      "9                            AEP Energy, Inc.   \n",
      "10                           AEP Energy, Inc.   \n",
      "11                                Agendi Inc.   \n",
      "12                          Aggressive Energy   \n",
      "13                    Alameda Municipal Power   \n",
      "14                    Alameda Municipal Power   \n",
      "15                            Algonquin Power   \n",
      "16                        ALLETE Clean Energy   \n",
      "17                             Alliant Energy   \n",
      "18                             Alliant Energy   \n",
      "19                       Alpha Gas & Electric   \n",
      "20                       Alpha Gas & Electric   \n",
      "21                  Ambit Energy Holdings LLC   \n",
      "22                  Ambit Energy Holdings LLC   \n",
      "23                  Ambit Energy Holdings LLC   \n",
      "24                  Ambit Energy Holdings LLC   \n",
      "25                 Ambit Energy Holdings, LLC   \n",
      "26                 Ambit Energy Holdings, LLC   \n",
      "27                 Ambit Energy Holdings, LLC   \n",
      "28                 Ambit Energy Holdings, LLC   \n",
      "29                            Ameren Missouri   \n",
      "30                            Ameren Missouri   \n",
      "31                          American PowerNet   \n",
      "32                          American PowerNet   \n",
      "33                      Anza Electricity Coop   \n",
      "34                              Austin Energy   \n",
      "35                              Austin Energy   \n",
      "36                              Austin Energy   \n",
      "37                        Avangrid Renewables   \n",
      "38                        Avangrid Renewables   \n",
      "39                          Azalea Solar, LLC   \n",
      "40                          Blue Delta Energy   \n",
      "41                          Blue Delta Energy   \n",
      "42                           Blue Source, LLC   \n",
      "43                   Bombard Renewable Energy   \n",
      "44  Bonneville Environmental Foundation (BEF)   \n",
      "45  Bonneville Environmental Foundation (BEF)   \n",
      "46  Bonneville Environmental Foundation (BEF)   \n",
      "47  Bonneville Environmental Foundation (BEF)   \n",
      "48                          BP Energy Company   \n",
      "49                          BP Energy Company   \n",
      "50                  Bridge to Renewables, LLC   \n",
      "51                       Brookfield Renewable   \n",
      "52                          Callective Energy   \n",
      "53              Calpine Energy Solutions, LLC   \n",
      "54              Calpine Energy Solutions, LLC   \n",
      "55               Carbon Solutions Group (CSG)   \n",
      "\n",
      "                                              Website  \n",
      "0                                                 NaN  \n",
      "1                            https://3degreesinc.com/  \n",
      "2                            https://3degreesinc.com/  \n",
      "3                   http://www.3phasesrenewables.com/  \n",
      "4                   http://www.3phasesrenewables.com/  \n",
      "5                   http://www.3phasesrenewables.com/  \n",
      "6                   http://www.3phasesrenewables.com/  \n",
      "7                     https://www.actcommodities.com/  \n",
      "8                     https://www.actcommodities.com/  \n",
      "9                          https://www.aepenergy.com/  \n",
      "10                         https://www.aepenergy.com/  \n",
      "11                                 https://agendi.co/  \n",
      "12                       http://www.aggressiveny.com/  \n",
      "13                          http://www.alamedamp.com/  \n",
      "14                          http://www.alamedamp.com/  \n",
      "15                        https://algonquinpower.com/  \n",
      "16                      http://alletecleanenergy.com/  \n",
      "17                     https://www.alliantenergy.com/  \n",
      "18                     https://www.alliantenergy.com/  \n",
      "19                http://www.alphagasandelectric.com/  \n",
      "20                http://www.alphagasandelectric.com/  \n",
      "21                        http://www.ambitenergy.com/  \n",
      "22                        http://www.ambitenergy.com/  \n",
      "23                        http://www.ambitenergy.com/  \n",
      "24                        http://www.ambitenergy.com/  \n",
      "25                        http://www.ambitenergy.com/  \n",
      "26                        http://www.ambitenergy.com/  \n",
      "27                        http://www.ambitenergy.com/  \n",
      "28                        http://www.ambitenergy.com/  \n",
      "29                    http://www.ameren.com/PurePower  \n",
      "30                    http://www.ameren.com/PurePower  \n",
      "31                  https://www.americanpowernet.com/  \n",
      "32                  https://www.americanpowernet.com/  \n",
      "33                                               None  \n",
      "34  http://www.austinenergy.com/Energy%20Efficienc...  \n",
      "35  http://www.austinenergy.com/Energy%20Efficienc...  \n",
      "36  http://www.austinenergy.com/Energy%20Efficienc...  \n",
      "37                https://www.avangridrenewables.com/  \n",
      "38                https://www.avangridrenewables.com/  \n",
      "39  https://www.dominionenergy.com/about-us/making...  \n",
      "40                    http://www.bluedeltaenergy.com/  \n",
      "41                    http://www.bluedeltaenergy.com/  \n",
      "42                        https://www.bluesource.com/  \n",
      "43                                               None  \n",
      "44                              http://www.b-e-f.org/  \n",
      "45                              http://www.b-e-f.org/  \n",
      "46                              http://www.b-e-f.org/  \n",
      "47                              http://www.b-e-f.org/  \n",
      "48                                https://www.bp.com/  \n",
      "49                                https://www.bp.com/  \n",
      "50                                               None  \n",
      "51                        https://bep.brookfield.com/  \n",
      "52                                               None  \n",
      "53                   http://www.calpinesolutions.com/  \n",
      "54                   http://www.calpinesolutions.com/  \n",
      "55               http://www.carbonsolutionsgroup.com/  \n"
     ]
    },
    {
     "name": "stderr",
     "output_type": "stream",
     "text": [
      "C:\\Users\\USER\\AppData\\Local\\Temp\\ipykernel_17652\\3827693980.py:19: FutureWarning: The frame.append method is deprecated and will be removed from pandas in a future version. Use pandas.concat instead.\n",
      "  gc = gc.append(Dic, ignore_index=True)\n"
     ]
    },
    {
     "name": "stdout",
     "output_type": "stream",
     "text": [
      "                                      Company  \\\n",
      "0                                         NaN   \n",
      "1                               3Degrees Inc.   \n",
      "2                               3Degrees Inc.   \n",
      "3                          3Phases Renewables   \n",
      "4                          3Phases Renewables   \n",
      "5                          3Phases Renewables   \n",
      "6                          3Phases Renewables   \n",
      "7                       ACT Commodities, Inc.   \n",
      "8                       ACT Commodities, Inc.   \n",
      "9                            AEP Energy, Inc.   \n",
      "10                           AEP Energy, Inc.   \n",
      "11                                Agendi Inc.   \n",
      "12                          Aggressive Energy   \n",
      "13                    Alameda Municipal Power   \n",
      "14                    Alameda Municipal Power   \n",
      "15                            Algonquin Power   \n",
      "16                        ALLETE Clean Energy   \n",
      "17                             Alliant Energy   \n",
      "18                             Alliant Energy   \n",
      "19                       Alpha Gas & Electric   \n",
      "20                       Alpha Gas & Electric   \n",
      "21                  Ambit Energy Holdings LLC   \n",
      "22                  Ambit Energy Holdings LLC   \n",
      "23                  Ambit Energy Holdings LLC   \n",
      "24                  Ambit Energy Holdings LLC   \n",
      "25                 Ambit Energy Holdings, LLC   \n",
      "26                 Ambit Energy Holdings, LLC   \n",
      "27                 Ambit Energy Holdings, LLC   \n",
      "28                 Ambit Energy Holdings, LLC   \n",
      "29                            Ameren Missouri   \n",
      "30                            Ameren Missouri   \n",
      "31                          American PowerNet   \n",
      "32                          American PowerNet   \n",
      "33                      Anza Electricity Coop   \n",
      "34                              Austin Energy   \n",
      "35                              Austin Energy   \n",
      "36                              Austin Energy   \n",
      "37                        Avangrid Renewables   \n",
      "38                        Avangrid Renewables   \n",
      "39                          Azalea Solar, LLC   \n",
      "40                          Blue Delta Energy   \n",
      "41                          Blue Delta Energy   \n",
      "42                           Blue Source, LLC   \n",
      "43                   Bombard Renewable Energy   \n",
      "44  Bonneville Environmental Foundation (BEF)   \n",
      "45  Bonneville Environmental Foundation (BEF)   \n",
      "46  Bonneville Environmental Foundation (BEF)   \n",
      "47  Bonneville Environmental Foundation (BEF)   \n",
      "48                          BP Energy Company   \n",
      "49                          BP Energy Company   \n",
      "50                  Bridge to Renewables, LLC   \n",
      "51                       Brookfield Renewable   \n",
      "52                          Callective Energy   \n",
      "53              Calpine Energy Solutions, LLC   \n",
      "54              Calpine Energy Solutions, LLC   \n",
      "55               Carbon Solutions Group (CSG)   \n",
      "56               Carbon Solutions Group (CSG)   \n",
      "\n",
      "                                              Website  \n",
      "0                                                 NaN  \n",
      "1                            https://3degreesinc.com/  \n",
      "2                            https://3degreesinc.com/  \n",
      "3                   http://www.3phasesrenewables.com/  \n",
      "4                   http://www.3phasesrenewables.com/  \n",
      "5                   http://www.3phasesrenewables.com/  \n",
      "6                   http://www.3phasesrenewables.com/  \n",
      "7                     https://www.actcommodities.com/  \n",
      "8                     https://www.actcommodities.com/  \n",
      "9                          https://www.aepenergy.com/  \n",
      "10                         https://www.aepenergy.com/  \n",
      "11                                 https://agendi.co/  \n",
      "12                       http://www.aggressiveny.com/  \n",
      "13                          http://www.alamedamp.com/  \n",
      "14                          http://www.alamedamp.com/  \n",
      "15                        https://algonquinpower.com/  \n",
      "16                      http://alletecleanenergy.com/  \n",
      "17                     https://www.alliantenergy.com/  \n",
      "18                     https://www.alliantenergy.com/  \n",
      "19                http://www.alphagasandelectric.com/  \n",
      "20                http://www.alphagasandelectric.com/  \n",
      "21                        http://www.ambitenergy.com/  \n",
      "22                        http://www.ambitenergy.com/  \n",
      "23                        http://www.ambitenergy.com/  \n",
      "24                        http://www.ambitenergy.com/  \n",
      "25                        http://www.ambitenergy.com/  \n",
      "26                        http://www.ambitenergy.com/  \n",
      "27                        http://www.ambitenergy.com/  \n",
      "28                        http://www.ambitenergy.com/  \n",
      "29                    http://www.ameren.com/PurePower  \n",
      "30                    http://www.ameren.com/PurePower  \n",
      "31                  https://www.americanpowernet.com/  \n",
      "32                  https://www.americanpowernet.com/  \n",
      "33                                               None  \n",
      "34  http://www.austinenergy.com/Energy%20Efficienc...  \n",
      "35  http://www.austinenergy.com/Energy%20Efficienc...  \n",
      "36  http://www.austinenergy.com/Energy%20Efficienc...  \n",
      "37                https://www.avangridrenewables.com/  \n",
      "38                https://www.avangridrenewables.com/  \n",
      "39  https://www.dominionenergy.com/about-us/making...  \n",
      "40                    http://www.bluedeltaenergy.com/  \n",
      "41                    http://www.bluedeltaenergy.com/  \n",
      "42                        https://www.bluesource.com/  \n",
      "43                                               None  \n",
      "44                              http://www.b-e-f.org/  \n",
      "45                              http://www.b-e-f.org/  \n",
      "46                              http://www.b-e-f.org/  \n",
      "47                              http://www.b-e-f.org/  \n",
      "48                                https://www.bp.com/  \n",
      "49                                https://www.bp.com/  \n",
      "50                                               None  \n",
      "51                        https://bep.brookfield.com/  \n",
      "52                                               None  \n",
      "53                   http://www.calpinesolutions.com/  \n",
      "54                   http://www.calpinesolutions.com/  \n",
      "55               http://www.carbonsolutionsgroup.com/  \n",
      "56               http://www.carbonsolutionsgroup.com/  \n"
     ]
    },
    {
     "name": "stderr",
     "output_type": "stream",
     "text": [
      "C:\\Users\\USER\\AppData\\Local\\Temp\\ipykernel_17652\\3827693980.py:19: FutureWarning: The frame.append method is deprecated and will be removed from pandas in a future version. Use pandas.concat instead.\n",
      "  gc = gc.append(Dic, ignore_index=True)\n"
     ]
    },
    {
     "name": "stdout",
     "output_type": "stream",
     "text": [
      "                                      Company  \\\n",
      "0                                         NaN   \n",
      "1                               3Degrees Inc.   \n",
      "2                               3Degrees Inc.   \n",
      "3                          3Phases Renewables   \n",
      "4                          3Phases Renewables   \n",
      "5                          3Phases Renewables   \n",
      "6                          3Phases Renewables   \n",
      "7                       ACT Commodities, Inc.   \n",
      "8                       ACT Commodities, Inc.   \n",
      "9                            AEP Energy, Inc.   \n",
      "10                           AEP Energy, Inc.   \n",
      "11                                Agendi Inc.   \n",
      "12                          Aggressive Energy   \n",
      "13                    Alameda Municipal Power   \n",
      "14                    Alameda Municipal Power   \n",
      "15                            Algonquin Power   \n",
      "16                        ALLETE Clean Energy   \n",
      "17                             Alliant Energy   \n",
      "18                             Alliant Energy   \n",
      "19                       Alpha Gas & Electric   \n",
      "20                       Alpha Gas & Electric   \n",
      "21                  Ambit Energy Holdings LLC   \n",
      "22                  Ambit Energy Holdings LLC   \n",
      "23                  Ambit Energy Holdings LLC   \n",
      "24                  Ambit Energy Holdings LLC   \n",
      "25                 Ambit Energy Holdings, LLC   \n",
      "26                 Ambit Energy Holdings, LLC   \n",
      "27                 Ambit Energy Holdings, LLC   \n",
      "28                 Ambit Energy Holdings, LLC   \n",
      "29                            Ameren Missouri   \n",
      "30                            Ameren Missouri   \n",
      "31                          American PowerNet   \n",
      "32                          American PowerNet   \n",
      "33                      Anza Electricity Coop   \n",
      "34                              Austin Energy   \n",
      "35                              Austin Energy   \n",
      "36                              Austin Energy   \n",
      "37                        Avangrid Renewables   \n",
      "38                        Avangrid Renewables   \n",
      "39                          Azalea Solar, LLC   \n",
      "40                          Blue Delta Energy   \n",
      "41                          Blue Delta Energy   \n",
      "42                           Blue Source, LLC   \n",
      "43                   Bombard Renewable Energy   \n",
      "44  Bonneville Environmental Foundation (BEF)   \n",
      "45  Bonneville Environmental Foundation (BEF)   \n",
      "46  Bonneville Environmental Foundation (BEF)   \n",
      "47  Bonneville Environmental Foundation (BEF)   \n",
      "48                          BP Energy Company   \n",
      "49                          BP Energy Company   \n",
      "50                  Bridge to Renewables, LLC   \n",
      "51                       Brookfield Renewable   \n",
      "52                          Callective Energy   \n",
      "53              Calpine Energy Solutions, LLC   \n",
      "54              Calpine Energy Solutions, LLC   \n",
      "55               Carbon Solutions Group (CSG)   \n",
      "56               Carbon Solutions Group (CSG)   \n",
      "57             Champion Energy Marketing, LLC   \n",
      "\n",
      "                                              Website  \n",
      "0                                                 NaN  \n",
      "1                            https://3degreesinc.com/  \n",
      "2                            https://3degreesinc.com/  \n",
      "3                   http://www.3phasesrenewables.com/  \n",
      "4                   http://www.3phasesrenewables.com/  \n",
      "5                   http://www.3phasesrenewables.com/  \n",
      "6                   http://www.3phasesrenewables.com/  \n",
      "7                     https://www.actcommodities.com/  \n",
      "8                     https://www.actcommodities.com/  \n",
      "9                          https://www.aepenergy.com/  \n",
      "10                         https://www.aepenergy.com/  \n",
      "11                                 https://agendi.co/  \n",
      "12                       http://www.aggressiveny.com/  \n",
      "13                          http://www.alamedamp.com/  \n",
      "14                          http://www.alamedamp.com/  \n",
      "15                        https://algonquinpower.com/  \n",
      "16                      http://alletecleanenergy.com/  \n",
      "17                     https://www.alliantenergy.com/  \n",
      "18                     https://www.alliantenergy.com/  \n",
      "19                http://www.alphagasandelectric.com/  \n",
      "20                http://www.alphagasandelectric.com/  \n",
      "21                        http://www.ambitenergy.com/  \n",
      "22                        http://www.ambitenergy.com/  \n",
      "23                        http://www.ambitenergy.com/  \n",
      "24                        http://www.ambitenergy.com/  \n",
      "25                        http://www.ambitenergy.com/  \n",
      "26                        http://www.ambitenergy.com/  \n",
      "27                        http://www.ambitenergy.com/  \n",
      "28                        http://www.ambitenergy.com/  \n",
      "29                    http://www.ameren.com/PurePower  \n",
      "30                    http://www.ameren.com/PurePower  \n",
      "31                  https://www.americanpowernet.com/  \n",
      "32                  https://www.americanpowernet.com/  \n",
      "33                                               None  \n",
      "34  http://www.austinenergy.com/Energy%20Efficienc...  \n",
      "35  http://www.austinenergy.com/Energy%20Efficienc...  \n",
      "36  http://www.austinenergy.com/Energy%20Efficienc...  \n",
      "37                https://www.avangridrenewables.com/  \n",
      "38                https://www.avangridrenewables.com/  \n",
      "39  https://www.dominionenergy.com/about-us/making...  \n",
      "40                    http://www.bluedeltaenergy.com/  \n",
      "41                    http://www.bluedeltaenergy.com/  \n",
      "42                        https://www.bluesource.com/  \n",
      "43                                               None  \n",
      "44                              http://www.b-e-f.org/  \n",
      "45                              http://www.b-e-f.org/  \n",
      "46                              http://www.b-e-f.org/  \n",
      "47                              http://www.b-e-f.org/  \n",
      "48                                https://www.bp.com/  \n",
      "49                                https://www.bp.com/  \n",
      "50                                               None  \n",
      "51                        https://bep.brookfield.com/  \n",
      "52                                               None  \n",
      "53                   http://www.calpinesolutions.com/  \n",
      "54                   http://www.calpinesolutions.com/  \n",
      "55               http://www.carbonsolutionsgroup.com/  \n",
      "56               http://www.carbonsolutionsgroup.com/  \n",
      "57            https://www.championenergyservices.com/  \n"
     ]
    },
    {
     "name": "stderr",
     "output_type": "stream",
     "text": [
      "C:\\Users\\USER\\AppData\\Local\\Temp\\ipykernel_17652\\3827693980.py:19: FutureWarning: The frame.append method is deprecated and will be removed from pandas in a future version. Use pandas.concat instead.\n",
      "  gc = gc.append(Dic, ignore_index=True)\n"
     ]
    },
    {
     "name": "stdout",
     "output_type": "stream",
     "text": [
      "                                      Company  \\\n",
      "0                                         NaN   \n",
      "1                               3Degrees Inc.   \n",
      "2                               3Degrees Inc.   \n",
      "3                          3Phases Renewables   \n",
      "4                          3Phases Renewables   \n",
      "5                          3Phases Renewables   \n",
      "6                          3Phases Renewables   \n",
      "7                       ACT Commodities, Inc.   \n",
      "8                       ACT Commodities, Inc.   \n",
      "9                            AEP Energy, Inc.   \n",
      "10                           AEP Energy, Inc.   \n",
      "11                                Agendi Inc.   \n",
      "12                          Aggressive Energy   \n",
      "13                    Alameda Municipal Power   \n",
      "14                    Alameda Municipal Power   \n",
      "15                            Algonquin Power   \n",
      "16                        ALLETE Clean Energy   \n",
      "17                             Alliant Energy   \n",
      "18                             Alliant Energy   \n",
      "19                       Alpha Gas & Electric   \n",
      "20                       Alpha Gas & Electric   \n",
      "21                  Ambit Energy Holdings LLC   \n",
      "22                  Ambit Energy Holdings LLC   \n",
      "23                  Ambit Energy Holdings LLC   \n",
      "24                  Ambit Energy Holdings LLC   \n",
      "25                 Ambit Energy Holdings, LLC   \n",
      "26                 Ambit Energy Holdings, LLC   \n",
      "27                 Ambit Energy Holdings, LLC   \n",
      "28                 Ambit Energy Holdings, LLC   \n",
      "29                            Ameren Missouri   \n",
      "30                            Ameren Missouri   \n",
      "31                          American PowerNet   \n",
      "32                          American PowerNet   \n",
      "33                      Anza Electricity Coop   \n",
      "34                              Austin Energy   \n",
      "35                              Austin Energy   \n",
      "36                              Austin Energy   \n",
      "37                        Avangrid Renewables   \n",
      "38                        Avangrid Renewables   \n",
      "39                          Azalea Solar, LLC   \n",
      "40                          Blue Delta Energy   \n",
      "41                          Blue Delta Energy   \n",
      "42                           Blue Source, LLC   \n",
      "43                   Bombard Renewable Energy   \n",
      "44  Bonneville Environmental Foundation (BEF)   \n",
      "45  Bonneville Environmental Foundation (BEF)   \n",
      "46  Bonneville Environmental Foundation (BEF)   \n",
      "47  Bonneville Environmental Foundation (BEF)   \n",
      "48                          BP Energy Company   \n",
      "49                          BP Energy Company   \n",
      "50                  Bridge to Renewables, LLC   \n",
      "51                       Brookfield Renewable   \n",
      "52                          Callective Energy   \n",
      "53              Calpine Energy Solutions, LLC   \n",
      "54              Calpine Energy Solutions, LLC   \n",
      "55               Carbon Solutions Group (CSG)   \n",
      "56               Carbon Solutions Group (CSG)   \n",
      "57             Champion Energy Marketing, LLC   \n",
      "58             Champion Energy Marketing, LLC   \n",
      "\n",
      "                                              Website  \n",
      "0                                                 NaN  \n",
      "1                            https://3degreesinc.com/  \n",
      "2                            https://3degreesinc.com/  \n",
      "3                   http://www.3phasesrenewables.com/  \n",
      "4                   http://www.3phasesrenewables.com/  \n",
      "5                   http://www.3phasesrenewables.com/  \n",
      "6                   http://www.3phasesrenewables.com/  \n",
      "7                     https://www.actcommodities.com/  \n",
      "8                     https://www.actcommodities.com/  \n",
      "9                          https://www.aepenergy.com/  \n",
      "10                         https://www.aepenergy.com/  \n",
      "11                                 https://agendi.co/  \n",
      "12                       http://www.aggressiveny.com/  \n",
      "13                          http://www.alamedamp.com/  \n",
      "14                          http://www.alamedamp.com/  \n",
      "15                        https://algonquinpower.com/  \n",
      "16                      http://alletecleanenergy.com/  \n",
      "17                     https://www.alliantenergy.com/  \n",
      "18                     https://www.alliantenergy.com/  \n",
      "19                http://www.alphagasandelectric.com/  \n",
      "20                http://www.alphagasandelectric.com/  \n",
      "21                        http://www.ambitenergy.com/  \n",
      "22                        http://www.ambitenergy.com/  \n",
      "23                        http://www.ambitenergy.com/  \n",
      "24                        http://www.ambitenergy.com/  \n",
      "25                        http://www.ambitenergy.com/  \n",
      "26                        http://www.ambitenergy.com/  \n",
      "27                        http://www.ambitenergy.com/  \n",
      "28                        http://www.ambitenergy.com/  \n",
      "29                    http://www.ameren.com/PurePower  \n",
      "30                    http://www.ameren.com/PurePower  \n",
      "31                  https://www.americanpowernet.com/  \n",
      "32                  https://www.americanpowernet.com/  \n",
      "33                                               None  \n",
      "34  http://www.austinenergy.com/Energy%20Efficienc...  \n",
      "35  http://www.austinenergy.com/Energy%20Efficienc...  \n",
      "36  http://www.austinenergy.com/Energy%20Efficienc...  \n",
      "37                https://www.avangridrenewables.com/  \n",
      "38                https://www.avangridrenewables.com/  \n",
      "39  https://www.dominionenergy.com/about-us/making...  \n",
      "40                    http://www.bluedeltaenergy.com/  \n",
      "41                    http://www.bluedeltaenergy.com/  \n",
      "42                        https://www.bluesource.com/  \n",
      "43                                               None  \n",
      "44                              http://www.b-e-f.org/  \n",
      "45                              http://www.b-e-f.org/  \n",
      "46                              http://www.b-e-f.org/  \n",
      "47                              http://www.b-e-f.org/  \n",
      "48                                https://www.bp.com/  \n",
      "49                                https://www.bp.com/  \n",
      "50                                               None  \n",
      "51                        https://bep.brookfield.com/  \n",
      "52                                               None  \n",
      "53                   http://www.calpinesolutions.com/  \n",
      "54                   http://www.calpinesolutions.com/  \n",
      "55               http://www.carbonsolutionsgroup.com/  \n",
      "56               http://www.carbonsolutionsgroup.com/  \n",
      "57            https://www.championenergyservices.com/  \n",
      "58            https://www.championenergyservices.com/  \n"
     ]
    },
    {
     "name": "stderr",
     "output_type": "stream",
     "text": [
      "C:\\Users\\USER\\AppData\\Local\\Temp\\ipykernel_17652\\3827693980.py:19: FutureWarning: The frame.append method is deprecated and will be removed from pandas in a future version. Use pandas.concat instead.\n",
      "  gc = gc.append(Dic, ignore_index=True)\n"
     ]
    },
    {
     "name": "stdout",
     "output_type": "stream",
     "text": [
      "                                      Company  \\\n",
      "0                                         NaN   \n",
      "1                               3Degrees Inc.   \n",
      "2                               3Degrees Inc.   \n",
      "3                          3Phases Renewables   \n",
      "4                          3Phases Renewables   \n",
      "5                          3Phases Renewables   \n",
      "6                          3Phases Renewables   \n",
      "7                       ACT Commodities, Inc.   \n",
      "8                       ACT Commodities, Inc.   \n",
      "9                            AEP Energy, Inc.   \n",
      "10                           AEP Energy, Inc.   \n",
      "11                                Agendi Inc.   \n",
      "12                          Aggressive Energy   \n",
      "13                    Alameda Municipal Power   \n",
      "14                    Alameda Municipal Power   \n",
      "15                            Algonquin Power   \n",
      "16                        ALLETE Clean Energy   \n",
      "17                             Alliant Energy   \n",
      "18                             Alliant Energy   \n",
      "19                       Alpha Gas & Electric   \n",
      "20                       Alpha Gas & Electric   \n",
      "21                  Ambit Energy Holdings LLC   \n",
      "22                  Ambit Energy Holdings LLC   \n",
      "23                  Ambit Energy Holdings LLC   \n",
      "24                  Ambit Energy Holdings LLC   \n",
      "25                 Ambit Energy Holdings, LLC   \n",
      "26                 Ambit Energy Holdings, LLC   \n",
      "27                 Ambit Energy Holdings, LLC   \n",
      "28                 Ambit Energy Holdings, LLC   \n",
      "29                            Ameren Missouri   \n",
      "30                            Ameren Missouri   \n",
      "31                          American PowerNet   \n",
      "32                          American PowerNet   \n",
      "33                      Anza Electricity Coop   \n",
      "34                              Austin Energy   \n",
      "35                              Austin Energy   \n",
      "36                              Austin Energy   \n",
      "37                        Avangrid Renewables   \n",
      "38                        Avangrid Renewables   \n",
      "39                          Azalea Solar, LLC   \n",
      "40                          Blue Delta Energy   \n",
      "41                          Blue Delta Energy   \n",
      "42                           Blue Source, LLC   \n",
      "43                   Bombard Renewable Energy   \n",
      "44  Bonneville Environmental Foundation (BEF)   \n",
      "45  Bonneville Environmental Foundation (BEF)   \n",
      "46  Bonneville Environmental Foundation (BEF)   \n",
      "47  Bonneville Environmental Foundation (BEF)   \n",
      "48                          BP Energy Company   \n",
      "49                          BP Energy Company   \n",
      "50                  Bridge to Renewables, LLC   \n",
      "51                       Brookfield Renewable   \n",
      "52                          Callective Energy   \n",
      "53              Calpine Energy Solutions, LLC   \n",
      "54              Calpine Energy Solutions, LLC   \n",
      "55               Carbon Solutions Group (CSG)   \n",
      "56               Carbon Solutions Group (CSG)   \n",
      "57             Champion Energy Marketing, LLC   \n",
      "58             Champion Energy Marketing, LLC   \n",
      "59                          City of Las Vegas   \n",
      "\n",
      "                                              Website  \n",
      "0                                                 NaN  \n",
      "1                            https://3degreesinc.com/  \n",
      "2                            https://3degreesinc.com/  \n",
      "3                   http://www.3phasesrenewables.com/  \n",
      "4                   http://www.3phasesrenewables.com/  \n",
      "5                   http://www.3phasesrenewables.com/  \n",
      "6                   http://www.3phasesrenewables.com/  \n",
      "7                     https://www.actcommodities.com/  \n",
      "8                     https://www.actcommodities.com/  \n",
      "9                          https://www.aepenergy.com/  \n",
      "10                         https://www.aepenergy.com/  \n",
      "11                                 https://agendi.co/  \n",
      "12                       http://www.aggressiveny.com/  \n",
      "13                          http://www.alamedamp.com/  \n",
      "14                          http://www.alamedamp.com/  \n",
      "15                        https://algonquinpower.com/  \n",
      "16                      http://alletecleanenergy.com/  \n",
      "17                     https://www.alliantenergy.com/  \n",
      "18                     https://www.alliantenergy.com/  \n",
      "19                http://www.alphagasandelectric.com/  \n",
      "20                http://www.alphagasandelectric.com/  \n",
      "21                        http://www.ambitenergy.com/  \n",
      "22                        http://www.ambitenergy.com/  \n",
      "23                        http://www.ambitenergy.com/  \n",
      "24                        http://www.ambitenergy.com/  \n",
      "25                        http://www.ambitenergy.com/  \n",
      "26                        http://www.ambitenergy.com/  \n",
      "27                        http://www.ambitenergy.com/  \n",
      "28                        http://www.ambitenergy.com/  \n",
      "29                    http://www.ameren.com/PurePower  \n",
      "30                    http://www.ameren.com/PurePower  \n",
      "31                  https://www.americanpowernet.com/  \n",
      "32                  https://www.americanpowernet.com/  \n",
      "33                                               None  \n",
      "34  http://www.austinenergy.com/Energy%20Efficienc...  \n",
      "35  http://www.austinenergy.com/Energy%20Efficienc...  \n",
      "36  http://www.austinenergy.com/Energy%20Efficienc...  \n",
      "37                https://www.avangridrenewables.com/  \n",
      "38                https://www.avangridrenewables.com/  \n",
      "39  https://www.dominionenergy.com/about-us/making...  \n",
      "40                    http://www.bluedeltaenergy.com/  \n",
      "41                    http://www.bluedeltaenergy.com/  \n",
      "42                        https://www.bluesource.com/  \n",
      "43                                               None  \n",
      "44                              http://www.b-e-f.org/  \n",
      "45                              http://www.b-e-f.org/  \n",
      "46                              http://www.b-e-f.org/  \n",
      "47                              http://www.b-e-f.org/  \n",
      "48                                https://www.bp.com/  \n",
      "49                                https://www.bp.com/  \n",
      "50                                               None  \n",
      "51                        https://bep.brookfield.com/  \n",
      "52                                               None  \n",
      "53                   http://www.calpinesolutions.com/  \n",
      "54                   http://www.calpinesolutions.com/  \n",
      "55               http://www.carbonsolutionsgroup.com/  \n",
      "56               http://www.carbonsolutionsgroup.com/  \n",
      "57            https://www.championenergyservices.com/  \n",
      "58            https://www.championenergyservices.com/  \n",
      "59                                               None  \n"
     ]
    },
    {
     "name": "stderr",
     "output_type": "stream",
     "text": [
      "C:\\Users\\USER\\AppData\\Local\\Temp\\ipykernel_17652\\3827693980.py:19: FutureWarning: The frame.append method is deprecated and will be removed from pandas in a future version. Use pandas.concat instead.\n",
      "  gc = gc.append(Dic, ignore_index=True)\n"
     ]
    },
    {
     "name": "stdout",
     "output_type": "stream",
     "text": [
      "                           Company                                  Website\n",
      "0                              NaN                                      NaN\n",
      "1                    3Degrees Inc.                 https://3degreesinc.com/\n",
      "2                    3Degrees Inc.                 https://3degreesinc.com/\n",
      "3               3Phases Renewables        http://www.3phasesrenewables.com/\n",
      "4               3Phases Renewables        http://www.3phasesrenewables.com/\n",
      "..                             ...                                      ...\n",
      "56    Carbon Solutions Group (CSG)     http://www.carbonsolutionsgroup.com/\n",
      "57  Champion Energy Marketing, LLC  https://www.championenergyservices.com/\n",
      "58  Champion Energy Marketing, LLC  https://www.championenergyservices.com/\n",
      "59               City of Las Vegas                                     None\n",
      "60     City of Palo Alto Utilities                     http://www.cpau.com/\n",
      "\n",
      "[61 rows x 2 columns]\n"
     ]
    },
    {
     "name": "stderr",
     "output_type": "stream",
     "text": [
      "C:\\Users\\USER\\AppData\\Local\\Temp\\ipykernel_17652\\3827693980.py:19: FutureWarning: The frame.append method is deprecated and will be removed from pandas in a future version. Use pandas.concat instead.\n",
      "  gc = gc.append(Dic, ignore_index=True)\n"
     ]
    },
    {
     "name": "stdout",
     "output_type": "stream",
     "text": [
      "                           Company                                  Website\n",
      "0                              NaN                                      NaN\n",
      "1                    3Degrees Inc.                 https://3degreesinc.com/\n",
      "2                    3Degrees Inc.                 https://3degreesinc.com/\n",
      "3               3Phases Renewables        http://www.3phasesrenewables.com/\n",
      "4               3Phases Renewables        http://www.3phasesrenewables.com/\n",
      "..                             ...                                      ...\n",
      "57  Champion Energy Marketing, LLC  https://www.championenergyservices.com/\n",
      "58  Champion Energy Marketing, LLC  https://www.championenergyservices.com/\n",
      "59               City of Las Vegas                                     None\n",
      "60     City of Palo Alto Utilities                     http://www.cpau.com/\n",
      "61            Clean Power Alliance          https://cleanpoweralliance.org/\n",
      "\n",
      "[62 rows x 2 columns]\n"
     ]
    },
    {
     "name": "stderr",
     "output_type": "stream",
     "text": [
      "C:\\Users\\USER\\AppData\\Local\\Temp\\ipykernel_17652\\3827693980.py:19: FutureWarning: The frame.append method is deprecated and will be removed from pandas in a future version. Use pandas.concat instead.\n",
      "  gc = gc.append(Dic, ignore_index=True)\n"
     ]
    },
    {
     "name": "stdout",
     "output_type": "stream",
     "text": [
      "                           Company                                  Website\n",
      "0                              NaN                                      NaN\n",
      "1                    3Degrees Inc.                 https://3degreesinc.com/\n",
      "2                    3Degrees Inc.                 https://3degreesinc.com/\n",
      "3               3Phases Renewables        http://www.3phasesrenewables.com/\n",
      "4               3Phases Renewables        http://www.3phasesrenewables.com/\n",
      "..                             ...                                      ...\n",
      "58  Champion Energy Marketing, LLC  https://www.championenergyservices.com/\n",
      "59               City of Las Vegas                                     None\n",
      "60     City of Palo Alto Utilities                     http://www.cpau.com/\n",
      "61            Clean Power Alliance          https://cleanpoweralliance.org/\n",
      "62                     CleanFuture                                     None\n",
      "\n",
      "[63 rows x 2 columns]\n"
     ]
    },
    {
     "name": "stderr",
     "output_type": "stream",
     "text": [
      "C:\\Users\\USER\\AppData\\Local\\Temp\\ipykernel_17652\\3827693980.py:19: FutureWarning: The frame.append method is deprecated and will be removed from pandas in a future version. Use pandas.concat instead.\n",
      "  gc = gc.append(Dic, ignore_index=True)\n"
     ]
    },
    {
     "name": "stdout",
     "output_type": "stream",
     "text": [
      "                        Company                            Website\n",
      "0                           NaN                                NaN\n",
      "1                 3Degrees Inc.           https://3degreesinc.com/\n",
      "2                 3Degrees Inc.           https://3degreesinc.com/\n",
      "3            3Phases Renewables  http://www.3phasesrenewables.com/\n",
      "4            3Phases Renewables  http://www.3phasesrenewables.com/\n",
      "..                          ...                                ...\n",
      "59            City of Las Vegas                               None\n",
      "60  City of Palo Alto Utilities               http://www.cpau.com/\n",
      "61         Clean Power Alliance    https://cleanpoweralliance.org/\n",
      "62                  CleanFuture                               None\n",
      "63                  CleanFuture                               None\n",
      "\n",
      "[64 rows x 2 columns]\n"
     ]
    },
    {
     "name": "stderr",
     "output_type": "stream",
     "text": [
      "C:\\Users\\USER\\AppData\\Local\\Temp\\ipykernel_17652\\3827693980.py:19: FutureWarning: The frame.append method is deprecated and will be removed from pandas in a future version. Use pandas.concat instead.\n",
      "  gc = gc.append(Dic, ignore_index=True)\n"
     ]
    },
    {
     "name": "stdout",
     "output_type": "stream",
     "text": [
      "                        Company                                  Website\n",
      "0                           NaN                                      NaN\n",
      "1                 3Degrees Inc.                 https://3degreesinc.com/\n",
      "2                 3Degrees Inc.                 https://3degreesinc.com/\n",
      "3            3Phases Renewables        http://www.3phasesrenewables.com/\n",
      "4            3Phases Renewables        http://www.3phasesrenewables.com/\n",
      "..                          ...                                      ...\n",
      "60  City of Palo Alto Utilities                     http://www.cpau.com/\n",
      "61         Clean Power Alliance          https://cleanpoweralliance.org/\n",
      "62                  CleanFuture                                     None\n",
      "63                  CleanFuture                                     None\n",
      "64                 CleanPowerSF  https://sfwater.org/index.aspx?page=748\n",
      "\n",
      "[65 rows x 2 columns]\n"
     ]
    },
    {
     "name": "stderr",
     "output_type": "stream",
     "text": [
      "C:\\Users\\USER\\AppData\\Local\\Temp\\ipykernel_17652\\3827693980.py:19: FutureWarning: The frame.append method is deprecated and will be removed from pandas in a future version. Use pandas.concat instead.\n",
      "  gc = gc.append(Dic, ignore_index=True)\n"
     ]
    },
    {
     "name": "stdout",
     "output_type": "stream",
     "text": [
      "                                    Company  \\\n",
      "0                                       NaN   \n",
      "1                             3Degrees Inc.   \n",
      "2                             3Degrees Inc.   \n",
      "3                        3Phases Renewables   \n",
      "4                        3Phases Renewables   \n",
      "..                                      ...   \n",
      "61                     Clean Power Alliance   \n",
      "62                              CleanFuture   \n",
      "63                              CleanFuture   \n",
      "64                             CleanPowerSF   \n",
      "65  Clear Energy Brokerage & Consulting LLC   \n",
      "\n",
      "                                    Website  \n",
      "0                                       NaN  \n",
      "1                  https://3degreesinc.com/  \n",
      "2                  https://3degreesinc.com/  \n",
      "3         http://www.3phasesrenewables.com/  \n",
      "4         http://www.3phasesrenewables.com/  \n",
      "..                                      ...  \n",
      "61          https://cleanpoweralliance.org/  \n",
      "62                                     None  \n",
      "63                                     None  \n",
      "64  https://sfwater.org/index.aspx?page=748  \n",
      "65     http://www.clearenergybrokerage.com/  \n",
      "\n",
      "[66 rows x 2 columns]\n"
     ]
    },
    {
     "name": "stderr",
     "output_type": "stream",
     "text": [
      "C:\\Users\\USER\\AppData\\Local\\Temp\\ipykernel_17652\\3827693980.py:19: FutureWarning: The frame.append method is deprecated and will be removed from pandas in a future version. Use pandas.concat instead.\n",
      "  gc = gc.append(Dic, ignore_index=True)\n"
     ]
    },
    {
     "name": "stdout",
     "output_type": "stream",
     "text": [
      "                                    Company  \\\n",
      "0                                       NaN   \n",
      "1                             3Degrees Inc.   \n",
      "2                             3Degrees Inc.   \n",
      "3                        3Phases Renewables   \n",
      "4                        3Phases Renewables   \n",
      "..                                      ...   \n",
      "62                              CleanFuture   \n",
      "63                              CleanFuture   \n",
      "64                             CleanPowerSF   \n",
      "65  Clear Energy Brokerage & Consulting LLC   \n",
      "66                    Clearway Energy Group   \n",
      "\n",
      "                                    Website  \n",
      "0                                       NaN  \n",
      "1                  https://3degreesinc.com/  \n",
      "2                  https://3degreesinc.com/  \n",
      "3         http://www.3phasesrenewables.com/  \n",
      "4         http://www.3phasesrenewables.com/  \n",
      "..                                      ...  \n",
      "62                                     None  \n",
      "63                                     None  \n",
      "64  https://sfwater.org/index.aspx?page=748  \n",
      "65     http://www.clearenergybrokerage.com/  \n",
      "66     https://www.clearwayenergygroup.com/  \n",
      "\n",
      "[67 rows x 2 columns]\n"
     ]
    },
    {
     "name": "stderr",
     "output_type": "stream",
     "text": [
      "C:\\Users\\USER\\AppData\\Local\\Temp\\ipykernel_17652\\3827693980.py:19: FutureWarning: The frame.append method is deprecated and will be removed from pandas in a future version. Use pandas.concat instead.\n",
      "  gc = gc.append(Dic, ignore_index=True)\n"
     ]
    },
    {
     "name": "stdout",
     "output_type": "stream",
     "text": [
      "                                    Company  \\\n",
      "0                                       NaN   \n",
      "1                             3Degrees Inc.   \n",
      "2                             3Degrees Inc.   \n",
      "3                        3Phases Renewables   \n",
      "4                        3Phases Renewables   \n",
      "..                                      ...   \n",
      "63                              CleanFuture   \n",
      "64                             CleanPowerSF   \n",
      "65  Clear Energy Brokerage & Consulting LLC   \n",
      "66                    Clearway Energy Group   \n",
      "67                       Clearway Renew LLC   \n",
      "\n",
      "                                    Website  \n",
      "0                                       NaN  \n",
      "1                  https://3degreesinc.com/  \n",
      "2                  https://3degreesinc.com/  \n",
      "3         http://www.3phasesrenewables.com/  \n",
      "4         http://www.3phasesrenewables.com/  \n",
      "..                                      ...  \n",
      "63                                     None  \n",
      "64  https://sfwater.org/index.aspx?page=748  \n",
      "65     http://www.clearenergybrokerage.com/  \n",
      "66     https://www.clearwayenergygroup.com/  \n",
      "67                                     None  \n",
      "\n",
      "[68 rows x 2 columns]\n"
     ]
    },
    {
     "name": "stderr",
     "output_type": "stream",
     "text": [
      "C:\\Users\\USER\\AppData\\Local\\Temp\\ipykernel_17652\\3827693980.py:19: FutureWarning: The frame.append method is deprecated and will be removed from pandas in a future version. Use pandas.concat instead.\n",
      "  gc = gc.append(Dic, ignore_index=True)\n"
     ]
    },
    {
     "name": "stdout",
     "output_type": "stream",
     "text": [
      "                                    Company  \\\n",
      "0                                       NaN   \n",
      "1                             3Degrees Inc.   \n",
      "2                             3Degrees Inc.   \n",
      "3                        3Phases Renewables   \n",
      "4                        3Phases Renewables   \n",
      "..                                      ...   \n",
      "64                             CleanPowerSF   \n",
      "65  Clear Energy Brokerage & Consulting LLC   \n",
      "66                    Clearway Energy Group   \n",
      "67                       Clearway Renew LLC   \n",
      "68                       Clearway Renew LLC   \n",
      "\n",
      "                                    Website  \n",
      "0                                       NaN  \n",
      "1                  https://3degreesinc.com/  \n",
      "2                  https://3degreesinc.com/  \n",
      "3         http://www.3phasesrenewables.com/  \n",
      "4         http://www.3phasesrenewables.com/  \n",
      "..                                      ...  \n",
      "64  https://sfwater.org/index.aspx?page=748  \n",
      "65     http://www.clearenergybrokerage.com/  \n",
      "66     https://www.clearwayenergygroup.com/  \n",
      "67                                     None  \n",
      "68                                     None  \n",
      "\n",
      "[69 rows x 2 columns]\n"
     ]
    },
    {
     "name": "stderr",
     "output_type": "stream",
     "text": [
      "C:\\Users\\USER\\AppData\\Local\\Temp\\ipykernel_17652\\3827693980.py:19: FutureWarning: The frame.append method is deprecated and will be removed from pandas in a future version. Use pandas.concat instead.\n",
      "  gc = gc.append(Dic, ignore_index=True)\n"
     ]
    },
    {
     "name": "stdout",
     "output_type": "stream",
     "text": [
      "                                    Company  \\\n",
      "0                                       NaN   \n",
      "1                             3Degrees Inc.   \n",
      "2                             3Degrees Inc.   \n",
      "3                        3Phases Renewables   \n",
      "4                        3Phases Renewables   \n",
      "..                                      ...   \n",
      "65  Clear Energy Brokerage & Consulting LLC   \n",
      "66                    Clearway Energy Group   \n",
      "67                       Clearway Renew LLC   \n",
      "68                       Clearway Renew LLC   \n",
      "69                      ClimeCo Corporation   \n",
      "\n",
      "                                 Website  \n",
      "0                                    NaN  \n",
      "1               https://3degreesinc.com/  \n",
      "2               https://3degreesinc.com/  \n",
      "3      http://www.3phasesrenewables.com/  \n",
      "4      http://www.3phasesrenewables.com/  \n",
      "..                                   ...  \n",
      "65  http://www.clearenergybrokerage.com/  \n",
      "66  https://www.clearwayenergygroup.com/  \n",
      "67                                  None  \n",
      "68                                  None  \n",
      "69                  https://climeco.com/  \n",
      "\n",
      "[70 rows x 2 columns]\n"
     ]
    },
    {
     "name": "stderr",
     "output_type": "stream",
     "text": [
      "C:\\Users\\USER\\AppData\\Local\\Temp\\ipykernel_17652\\3827693980.py:19: FutureWarning: The frame.append method is deprecated and will be removed from pandas in a future version. Use pandas.concat instead.\n",
      "  gc = gc.append(Dic, ignore_index=True)\n"
     ]
    },
    {
     "name": "stdout",
     "output_type": "stream",
     "text": [
      "                  Company                               Website\n",
      "0                     NaN                                   NaN\n",
      "1           3Degrees Inc.              https://3degreesinc.com/\n",
      "2           3Degrees Inc.              https://3degreesinc.com/\n",
      "3      3Phases Renewables     http://www.3phasesrenewables.com/\n",
      "4      3Phases Renewables     http://www.3phasesrenewables.com/\n",
      "..                    ...                                   ...\n",
      "66  Clearway Energy Group  https://www.clearwayenergygroup.com/\n",
      "67     Clearway Renew LLC                                  None\n",
      "68     Clearway Renew LLC                                  None\n",
      "69    ClimeCo Corporation                  https://climeco.com/\n",
      "70    ClimeCo Corporation                  https://climeco.com/\n",
      "\n",
      "[71 rows x 2 columns]\n"
     ]
    },
    {
     "name": "stderr",
     "output_type": "stream",
     "text": [
      "C:\\Users\\USER\\AppData\\Local\\Temp\\ipykernel_17652\\3827693980.py:19: FutureWarning: The frame.append method is deprecated and will be removed from pandas in a future version. Use pandas.concat instead.\n",
      "  gc = gc.append(Dic, ignore_index=True)\n"
     ]
    },
    {
     "name": "stdout",
     "output_type": "stream",
     "text": [
      "                                   Company  \\\n",
      "0                                      NaN   \n",
      "1                            3Degrees Inc.   \n",
      "2                            3Degrees Inc.   \n",
      "3                       3Phases Renewables   \n",
      "4                       3Phases Renewables   \n",
      "..                                     ...   \n",
      "67                      Clearway Renew LLC   \n",
      "68                      Clearway Renew LLC   \n",
      "69                     ClimeCo Corporation   \n",
      "70                     ClimeCo Corporation   \n",
      "71  CMS Energy Resource Management Company   \n",
      "\n",
      "                                              Website  \n",
      "0                                                 NaN  \n",
      "1                            https://3degreesinc.com/  \n",
      "2                            https://3degreesinc.com/  \n",
      "3                   http://www.3phasesrenewables.com/  \n",
      "4                   http://www.3phasesrenewables.com/  \n",
      "..                                                ...  \n",
      "67                                               None  \n",
      "68                                               None  \n",
      "69                               https://climeco.com/  \n",
      "70                               https://climeco.com/  \n",
      "71  https://www.cmsenergy.com/Search-Results/defau...  \n",
      "\n",
      "[72 rows x 2 columns]\n"
     ]
    },
    {
     "name": "stderr",
     "output_type": "stream",
     "text": [
      "C:\\Users\\USER\\AppData\\Local\\Temp\\ipykernel_17652\\3827693980.py:19: FutureWarning: The frame.append method is deprecated and will be removed from pandas in a future version. Use pandas.concat instead.\n",
      "  gc = gc.append(Dic, ignore_index=True)\n"
     ]
    },
    {
     "name": "stdout",
     "output_type": "stream",
     "text": [
      "                                   Company  \\\n",
      "0                                      NaN   \n",
      "1                            3Degrees Inc.   \n",
      "2                            3Degrees Inc.   \n",
      "3                       3Phases Renewables   \n",
      "4                       3Phases Renewables   \n",
      "..                                     ...   \n",
      "68                      Clearway Renew LLC   \n",
      "69                     ClimeCo Corporation   \n",
      "70                     ClimeCo Corporation   \n",
      "71  CMS Energy Resource Management Company   \n",
      "72  CMS Energy Resource Management Company   \n",
      "\n",
      "                                              Website  \n",
      "0                                                 NaN  \n",
      "1                            https://3degreesinc.com/  \n",
      "2                            https://3degreesinc.com/  \n",
      "3                   http://www.3phasesrenewables.com/  \n",
      "4                   http://www.3phasesrenewables.com/  \n",
      "..                                                ...  \n",
      "68                                               None  \n",
      "69                               https://climeco.com/  \n",
      "70                               https://climeco.com/  \n",
      "71  https://www.cmsenergy.com/Search-Results/defau...  \n",
      "72  https://www.cmsenergy.com/Search-Results/defau...  \n",
      "\n",
      "[73 rows x 2 columns]\n"
     ]
    },
    {
     "name": "stderr",
     "output_type": "stream",
     "text": [
      "C:\\Users\\USER\\AppData\\Local\\Temp\\ipykernel_17652\\3827693980.py:19: FutureWarning: The frame.append method is deprecated and will be removed from pandas in a future version. Use pandas.concat instead.\n",
      "  gc = gc.append(Dic, ignore_index=True)\n"
     ]
    },
    {
     "name": "stdout",
     "output_type": "stream",
     "text": [
      "                                   Company  \\\n",
      "0                                      NaN   \n",
      "1                            3Degrees Inc.   \n",
      "2                            3Degrees Inc.   \n",
      "3                       3Phases Renewables   \n",
      "4                       3Phases Renewables   \n",
      "..                                     ...   \n",
      "69                     ClimeCo Corporation   \n",
      "70                     ClimeCo Corporation   \n",
      "71  CMS Energy Resource Management Company   \n",
      "72  CMS Energy Resource Management Company   \n",
      "73              Colorado Springs Utilities   \n",
      "\n",
      "                                              Website  \n",
      "0                                                 NaN  \n",
      "1                            https://3degreesinc.com/  \n",
      "2                            https://3degreesinc.com/  \n",
      "3                   http://www.3phasesrenewables.com/  \n",
      "4                   http://www.3phasesrenewables.com/  \n",
      "..                                                ...  \n",
      "69                               https://climeco.com/  \n",
      "70                               https://climeco.com/  \n",
      "71  https://www.cmsenergy.com/Search-Results/defau...  \n",
      "72  https://www.cmsenergy.com/Search-Results/defau...  \n",
      "73                                               None  \n",
      "\n",
      "[74 rows x 2 columns]\n"
     ]
    },
    {
     "name": "stderr",
     "output_type": "stream",
     "text": [
      "C:\\Users\\USER\\AppData\\Local\\Temp\\ipykernel_17652\\3827693980.py:19: FutureWarning: The frame.append method is deprecated and will be removed from pandas in a future version. Use pandas.concat instead.\n",
      "  gc = gc.append(Dic, ignore_index=True)\n"
     ]
    },
    {
     "name": "stdout",
     "output_type": "stream",
     "text": [
      "                                   Company  \\\n",
      "0                                      NaN   \n",
      "1                            3Degrees Inc.   \n",
      "2                            3Degrees Inc.   \n",
      "3                       3Phases Renewables   \n",
      "4                       3Phases Renewables   \n",
      "..                                     ...   \n",
      "70                     ClimeCo Corporation   \n",
      "71  CMS Energy Resource Management Company   \n",
      "72  CMS Energy Resource Management Company   \n",
      "73              Colorado Springs Utilities   \n",
      "74              Colorado Springs Utilities   \n",
      "\n",
      "                                              Website  \n",
      "0                                                 NaN  \n",
      "1                            https://3degreesinc.com/  \n",
      "2                            https://3degreesinc.com/  \n",
      "3                   http://www.3phasesrenewables.com/  \n",
      "4                   http://www.3phasesrenewables.com/  \n",
      "..                                                ...  \n",
      "70                               https://climeco.com/  \n",
      "71  https://www.cmsenergy.com/Search-Results/defau...  \n",
      "72  https://www.cmsenergy.com/Search-Results/defau...  \n",
      "73                                               None  \n",
      "74                                               None  \n",
      "\n",
      "[75 rows x 2 columns]\n"
     ]
    },
    {
     "name": "stderr",
     "output_type": "stream",
     "text": [
      "C:\\Users\\USER\\AppData\\Local\\Temp\\ipykernel_17652\\3827693980.py:19: FutureWarning: The frame.append method is deprecated and will be removed from pandas in a future version. Use pandas.concat instead.\n",
      "  gc = gc.append(Dic, ignore_index=True)\n"
     ]
    },
    {
     "name": "stdout",
     "output_type": "stream",
     "text": [
      "                                   Company  \\\n",
      "0                                      NaN   \n",
      "1                            3Degrees Inc.   \n",
      "2                            3Degrees Inc.   \n",
      "3                       3Phases Renewables   \n",
      "4                       3Phases Renewables   \n",
      "..                                     ...   \n",
      "71  CMS Energy Resource Management Company   \n",
      "72  CMS Energy Resource Management Company   \n",
      "73              Colorado Springs Utilities   \n",
      "74              Colorado Springs Utilities   \n",
      "75                           Concha y Toro   \n",
      "\n",
      "                                              Website  \n",
      "0                                                 NaN  \n",
      "1                            https://3degreesinc.com/  \n",
      "2                            https://3degreesinc.com/  \n",
      "3                   http://www.3phasesrenewables.com/  \n",
      "4                   http://www.3phasesrenewables.com/  \n",
      "..                                                ...  \n",
      "71  https://www.cmsenergy.com/Search-Results/defau...  \n",
      "72  https://www.cmsenergy.com/Search-Results/defau...  \n",
      "73                                               None  \n",
      "74                                               None  \n",
      "75                        https://conchaytoro.com/en/  \n",
      "\n",
      "[76 rows x 2 columns]\n"
     ]
    },
    {
     "name": "stderr",
     "output_type": "stream",
     "text": [
      "C:\\Users\\USER\\AppData\\Local\\Temp\\ipykernel_17652\\3827693980.py:19: FutureWarning: The frame.append method is deprecated and will be removed from pandas in a future version. Use pandas.concat instead.\n",
      "  gc = gc.append(Dic, ignore_index=True)\n"
     ]
    },
    {
     "name": "stdout",
     "output_type": "stream",
     "text": [
      "                                   Company  \\\n",
      "0                                      NaN   \n",
      "1                            3Degrees Inc.   \n",
      "2                            3Degrees Inc.   \n",
      "3                       3Phases Renewables   \n",
      "4                       3Phases Renewables   \n",
      "..                                     ...   \n",
      "72  CMS Energy Resource Management Company   \n",
      "73              Colorado Springs Utilities   \n",
      "74              Colorado Springs Utilities   \n",
      "75                           Concha y Toro   \n",
      "76                 Constellation NewEnergy   \n",
      "\n",
      "                                              Website  \n",
      "0                                                 NaN  \n",
      "1                            https://3degreesinc.com/  \n",
      "2                            https://3degreesinc.com/  \n",
      "3                   http://www.3phasesrenewables.com/  \n",
      "4                   http://www.3phasesrenewables.com/  \n",
      "..                                                ...  \n",
      "72  https://www.cmsenergy.com/Search-Results/defau...  \n",
      "73                                               None  \n",
      "74                                               None  \n",
      "75                        https://conchaytoro.com/en/  \n",
      "76                      http://www.constellation.com/  \n",
      "\n",
      "[77 rows x 2 columns]\n"
     ]
    },
    {
     "name": "stderr",
     "output_type": "stream",
     "text": [
      "C:\\Users\\USER\\AppData\\Local\\Temp\\ipykernel_17652\\3827693980.py:19: FutureWarning: The frame.append method is deprecated and will be removed from pandas in a future version. Use pandas.concat instead.\n",
      "  gc = gc.append(Dic, ignore_index=True)\n"
     ]
    },
    {
     "name": "stdout",
     "output_type": "stream",
     "text": [
      "                       Company                            Website\n",
      "0                          NaN                                NaN\n",
      "1                3Degrees Inc.           https://3degreesinc.com/\n",
      "2                3Degrees Inc.           https://3degreesinc.com/\n",
      "3           3Phases Renewables  http://www.3phasesrenewables.com/\n",
      "4           3Phases Renewables  http://www.3phasesrenewables.com/\n",
      "..                         ...                                ...\n",
      "73  Colorado Springs Utilities                               None\n",
      "74  Colorado Springs Utilities                               None\n",
      "75               Concha y Toro        https://conchaytoro.com/en/\n",
      "76     Constellation NewEnergy      http://www.constellation.com/\n",
      "77     Constellation NewEnergy      http://www.constellation.com/\n",
      "\n",
      "[78 rows x 2 columns]\n"
     ]
    },
    {
     "name": "stderr",
     "output_type": "stream",
     "text": [
      "C:\\Users\\USER\\AppData\\Local\\Temp\\ipykernel_17652\\3827693980.py:19: FutureWarning: The frame.append method is deprecated and will be removed from pandas in a future version. Use pandas.concat instead.\n",
      "  gc = gc.append(Dic, ignore_index=True)\n"
     ]
    },
    {
     "name": "stdout",
     "output_type": "stream",
     "text": [
      "                       Company                            Website\n",
      "0                          NaN                                NaN\n",
      "1                3Degrees Inc.           https://3degreesinc.com/\n",
      "2                3Degrees Inc.           https://3degreesinc.com/\n",
      "3           3Phases Renewables  http://www.3phasesrenewables.com/\n",
      "4           3Phases Renewables  http://www.3phasesrenewables.com/\n",
      "..                         ...                                ...\n",
      "74  Colorado Springs Utilities                               None\n",
      "75               Concha y Toro        https://conchaytoro.com/en/\n",
      "76     Constellation NewEnergy      http://www.constellation.com/\n",
      "77     Constellation NewEnergy      http://www.constellation.com/\n",
      "78    Cypress Creek Renewables               https://ccrenew.com/\n",
      "\n",
      "[79 rows x 2 columns]\n"
     ]
    },
    {
     "name": "stderr",
     "output_type": "stream",
     "text": [
      "C:\\Users\\USER\\AppData\\Local\\Temp\\ipykernel_17652\\3827693980.py:19: FutureWarning: The frame.append method is deprecated and will be removed from pandas in a future version. Use pandas.concat instead.\n",
      "  gc = gc.append(Dic, ignore_index=True)\n"
     ]
    },
    {
     "name": "stdout",
     "output_type": "stream",
     "text": [
      "                     Company                            Website\n",
      "0                        NaN                                NaN\n",
      "1              3Degrees Inc.           https://3degreesinc.com/\n",
      "2              3Degrees Inc.           https://3degreesinc.com/\n",
      "3         3Phases Renewables  http://www.3phasesrenewables.com/\n",
      "4         3Phases Renewables  http://www.3phasesrenewables.com/\n",
      "..                       ...                                ...\n",
      "75             Concha y Toro        https://conchaytoro.com/en/\n",
      "76   Constellation NewEnergy      http://www.constellation.com/\n",
      "77   Constellation NewEnergy      http://www.constellation.com/\n",
      "78  Cypress Creek Renewables               https://ccrenew.com/\n",
      "79  Cypress Creek Renewables                               None\n",
      "\n",
      "[80 rows x 2 columns]\n"
     ]
    },
    {
     "name": "stderr",
     "output_type": "stream",
     "text": [
      "C:\\Users\\USER\\AppData\\Local\\Temp\\ipykernel_17652\\3827693980.py:19: FutureWarning: The frame.append method is deprecated and will be removed from pandas in a future version. Use pandas.concat instead.\n",
      "  gc = gc.append(Dic, ignore_index=True)\n"
     ]
    },
    {
     "name": "stdout",
     "output_type": "stream",
     "text": [
      "                     Company                            Website\n",
      "0                        NaN                                NaN\n",
      "1              3Degrees Inc.           https://3degreesinc.com/\n",
      "2              3Degrees Inc.           https://3degreesinc.com/\n",
      "3         3Phases Renewables  http://www.3phasesrenewables.com/\n",
      "4         3Phases Renewables  http://www.3phasesrenewables.com/\n",
      "..                       ...                                ...\n",
      "76   Constellation NewEnergy      http://www.constellation.com/\n",
      "77   Constellation NewEnergy      http://www.constellation.com/\n",
      "78  Cypress Creek Renewables               https://ccrenew.com/\n",
      "79  Cypress Creek Renewables                               None\n",
      "80             Direct Energy       http://www.directenergy.com/\n",
      "\n",
      "[81 rows x 2 columns]\n"
     ]
    },
    {
     "name": "stderr",
     "output_type": "stream",
     "text": [
      "C:\\Users\\USER\\AppData\\Local\\Temp\\ipykernel_17652\\3827693980.py:19: FutureWarning: The frame.append method is deprecated and will be removed from pandas in a future version. Use pandas.concat instead.\n",
      "  gc = gc.append(Dic, ignore_index=True)\n"
     ]
    },
    {
     "name": "stdout",
     "output_type": "stream",
     "text": [
      "                     Company                            Website\n",
      "0                        NaN                                NaN\n",
      "1              3Degrees Inc.           https://3degreesinc.com/\n",
      "2              3Degrees Inc.           https://3degreesinc.com/\n",
      "3         3Phases Renewables  http://www.3phasesrenewables.com/\n",
      "4         3Phases Renewables  http://www.3phasesrenewables.com/\n",
      "..                       ...                                ...\n",
      "77   Constellation NewEnergy      http://www.constellation.com/\n",
      "78  Cypress Creek Renewables               https://ccrenew.com/\n",
      "79  Cypress Creek Renewables                               None\n",
      "80             Direct Energy       http://www.directenergy.com/\n",
      "81  Dominion Energy Virginia                http://www.dom.com/\n",
      "\n",
      "[82 rows x 2 columns]\n"
     ]
    },
    {
     "name": "stderr",
     "output_type": "stream",
     "text": [
      "C:\\Users\\USER\\AppData\\Local\\Temp\\ipykernel_17652\\3827693980.py:19: FutureWarning: The frame.append method is deprecated and will be removed from pandas in a future version. Use pandas.concat instead.\n",
      "  gc = gc.append(Dic, ignore_index=True)\n"
     ]
    },
    {
     "name": "stdout",
     "output_type": "stream",
     "text": [
      "                     Company                            Website\n",
      "0                        NaN                                NaN\n",
      "1              3Degrees Inc.           https://3degreesinc.com/\n",
      "2              3Degrees Inc.           https://3degreesinc.com/\n",
      "3         3Phases Renewables  http://www.3phasesrenewables.com/\n",
      "4         3Phases Renewables  http://www.3phasesrenewables.com/\n",
      "..                       ...                                ...\n",
      "78  Cypress Creek Renewables               https://ccrenew.com/\n",
      "79  Cypress Creek Renewables                               None\n",
      "80             Direct Energy       http://www.directenergy.com/\n",
      "81  Dominion Energy Virginia                http://www.dom.com/\n",
      "82  Dominion Energy Virginia                http://www.dom.com/\n",
      "\n",
      "[83 rows x 2 columns]\n"
     ]
    },
    {
     "name": "stderr",
     "output_type": "stream",
     "text": [
      "C:\\Users\\USER\\AppData\\Local\\Temp\\ipykernel_17652\\3827693980.py:19: FutureWarning: The frame.append method is deprecated and will be removed from pandas in a future version. Use pandas.concat instead.\n",
      "  gc = gc.append(Dic, ignore_index=True)\n"
     ]
    },
    {
     "name": "stdout",
     "output_type": "stream",
     "text": [
      "                     Company                            Website\n",
      "0                        NaN                                NaN\n",
      "1              3Degrees Inc.           https://3degreesinc.com/\n",
      "2              3Degrees Inc.           https://3degreesinc.com/\n",
      "3         3Phases Renewables  http://www.3phasesrenewables.com/\n",
      "4         3Phases Renewables  http://www.3phasesrenewables.com/\n",
      "..                       ...                                ...\n",
      "79  Cypress Creek Renewables                               None\n",
      "80             Direct Energy       http://www.directenergy.com/\n",
      "81  Dominion Energy Virginia                http://www.dom.com/\n",
      "82  Dominion Energy Virginia                http://www.dom.com/\n",
      "83  Dominion Energy Virginia                http://www.dom.com/\n",
      "\n",
      "[84 rows x 2 columns]\n"
     ]
    },
    {
     "name": "stderr",
     "output_type": "stream",
     "text": [
      "C:\\Users\\USER\\AppData\\Local\\Temp\\ipykernel_17652\\3827693980.py:19: FutureWarning: The frame.append method is deprecated and will be removed from pandas in a future version. Use pandas.concat instead.\n",
      "  gc = gc.append(Dic, ignore_index=True)\n"
     ]
    },
    {
     "name": "stdout",
     "output_type": "stream",
     "text": [
      "                     Company  \\\n",
      "0                        NaN   \n",
      "1              3Degrees Inc.   \n",
      "2              3Degrees Inc.   \n",
      "3         3Phases Renewables   \n",
      "4         3Phases Renewables   \n",
      "..                       ...   \n",
      "80             Direct Energy   \n",
      "81  Dominion Energy Virginia   \n",
      "82  Dominion Energy Virginia   \n",
      "83  Dominion Energy Virginia   \n",
      "84              DTE Electric   \n",
      "\n",
      "                                              Website  \n",
      "0                                                 NaN  \n",
      "1                            https://3degreesinc.com/  \n",
      "2                            https://3degreesinc.com/  \n",
      "3                   http://www.3phasesrenewables.com/  \n",
      "4                   http://www.3phasesrenewables.com/  \n",
      "..                                                ...  \n",
      "80                       http://www.directenergy.com/  \n",
      "81                                http://www.dom.com/  \n",
      "82                                http://www.dom.com/  \n",
      "83                                http://www.dom.com/  \n",
      "84  https://www.newlook.dteenergy.com/wps/wcm/conn...  \n",
      "\n",
      "[85 rows x 2 columns]\n"
     ]
    },
    {
     "name": "stderr",
     "output_type": "stream",
     "text": [
      "C:\\Users\\USER\\AppData\\Local\\Temp\\ipykernel_17652\\3827693980.py:19: FutureWarning: The frame.append method is deprecated and will be removed from pandas in a future version. Use pandas.concat instead.\n",
      "  gc = gc.append(Dic, ignore_index=True)\n"
     ]
    },
    {
     "name": "stdout",
     "output_type": "stream",
     "text": [
      "                     Company  \\\n",
      "0                        NaN   \n",
      "1              3Degrees Inc.   \n",
      "2              3Degrees Inc.   \n",
      "3         3Phases Renewables   \n",
      "4         3Phases Renewables   \n",
      "..                       ...   \n",
      "81  Dominion Energy Virginia   \n",
      "82  Dominion Energy Virginia   \n",
      "83  Dominion Energy Virginia   \n",
      "84              DTE Electric   \n",
      "85              DTE Electric   \n",
      "\n",
      "                                              Website  \n",
      "0                                                 NaN  \n",
      "1                            https://3degreesinc.com/  \n",
      "2                            https://3degreesinc.com/  \n",
      "3                   http://www.3phasesrenewables.com/  \n",
      "4                   http://www.3phasesrenewables.com/  \n",
      "..                                                ...  \n",
      "81                                http://www.dom.com/  \n",
      "82                                http://www.dom.com/  \n",
      "83                                http://www.dom.com/  \n",
      "84  https://www.newlook.dteenergy.com/wps/wcm/conn...  \n",
      "85  https://www.newlook.dteenergy.com/wps/wcm/conn...  \n",
      "\n",
      "[86 rows x 2 columns]\n"
     ]
    },
    {
     "name": "stderr",
     "output_type": "stream",
     "text": [
      "C:\\Users\\USER\\AppData\\Local\\Temp\\ipykernel_17652\\3827693980.py:19: FutureWarning: The frame.append method is deprecated and will be removed from pandas in a future version. Use pandas.concat instead.\n",
      "  gc = gc.append(Dic, ignore_index=True)\n"
     ]
    },
    {
     "name": "stdout",
     "output_type": "stream",
     "text": [
      "                     Company  \\\n",
      "0                        NaN   \n",
      "1              3Degrees Inc.   \n",
      "2              3Degrees Inc.   \n",
      "3         3Phases Renewables   \n",
      "4         3Phases Renewables   \n",
      "..                       ...   \n",
      "82  Dominion Energy Virginia   \n",
      "83  Dominion Energy Virginia   \n",
      "84              DTE Electric   \n",
      "85              DTE Electric   \n",
      "86              DTE Electric   \n",
      "\n",
      "                                              Website  \n",
      "0                                                 NaN  \n",
      "1                            https://3degreesinc.com/  \n",
      "2                            https://3degreesinc.com/  \n",
      "3                   http://www.3phasesrenewables.com/  \n",
      "4                   http://www.3phasesrenewables.com/  \n",
      "..                                                ...  \n",
      "82                                http://www.dom.com/  \n",
      "83                                http://www.dom.com/  \n",
      "84  https://www.newlook.dteenergy.com/wps/wcm/conn...  \n",
      "85  https://www.newlook.dteenergy.com/wps/wcm/conn...  \n",
      "86  https://www.newlook.dteenergy.com/wps/wcm/conn...  \n",
      "\n",
      "[87 rows x 2 columns]\n"
     ]
    },
    {
     "name": "stderr",
     "output_type": "stream",
     "text": [
      "C:\\Users\\USER\\AppData\\Local\\Temp\\ipykernel_17652\\3827693980.py:19: FutureWarning: The frame.append method is deprecated and will be removed from pandas in a future version. Use pandas.concat instead.\n",
      "  gc = gc.append(Dic, ignore_index=True)\n"
     ]
    },
    {
     "name": "stdout",
     "output_type": "stream",
     "text": [
      "                     Company  \\\n",
      "0                        NaN   \n",
      "1              3Degrees Inc.   \n",
      "2              3Degrees Inc.   \n",
      "3         3Phases Renewables   \n",
      "4         3Phases Renewables   \n",
      "..                       ...   \n",
      "83  Dominion Energy Virginia   \n",
      "84              DTE Electric   \n",
      "85              DTE Electric   \n",
      "86              DTE Electric   \n",
      "87               Duke Energy   \n",
      "\n",
      "                                              Website  \n",
      "0                                                 NaN  \n",
      "1                            https://3degreesinc.com/  \n",
      "2                            https://3degreesinc.com/  \n",
      "3                   http://www.3phasesrenewables.com/  \n",
      "4                   http://www.3phasesrenewables.com/  \n",
      "..                                                ...  \n",
      "83                                http://www.dom.com/  \n",
      "84  https://www.newlook.dteenergy.com/wps/wcm/conn...  \n",
      "85  https://www.newlook.dteenergy.com/wps/wcm/conn...  \n",
      "86  https://www.newlook.dteenergy.com/wps/wcm/conn...  \n",
      "87                                               None  \n",
      "\n",
      "[88 rows x 2 columns]\n"
     ]
    },
    {
     "name": "stderr",
     "output_type": "stream",
     "text": [
      "C:\\Users\\USER\\AppData\\Local\\Temp\\ipykernel_17652\\3827693980.py:19: FutureWarning: The frame.append method is deprecated and will be removed from pandas in a future version. Use pandas.concat instead.\n",
      "  gc = gc.append(Dic, ignore_index=True)\n"
     ]
    },
    {
     "name": "stdout",
     "output_type": "stream",
     "text": [
      "               Company                                            Website\n",
      "0                  NaN                                                NaN\n",
      "1        3Degrees Inc.                           https://3degreesinc.com/\n",
      "2        3Degrees Inc.                           https://3degreesinc.com/\n",
      "3   3Phases Renewables                  http://www.3phasesrenewables.com/\n",
      "4   3Phases Renewables                  http://www.3phasesrenewables.com/\n",
      "..                 ...                                                ...\n",
      "84        DTE Electric  https://www.newlook.dteenergy.com/wps/wcm/conn...\n",
      "85        DTE Electric  https://www.newlook.dteenergy.com/wps/wcm/conn...\n",
      "86        DTE Electric  https://www.newlook.dteenergy.com/wps/wcm/conn...\n",
      "87         Duke Energy                                               None\n",
      "88         Duke Energy                                               None\n",
      "\n",
      "[89 rows x 2 columns]\n"
     ]
    },
    {
     "name": "stderr",
     "output_type": "stream",
     "text": [
      "C:\\Users\\USER\\AppData\\Local\\Temp\\ipykernel_17652\\3827693980.py:19: FutureWarning: The frame.append method is deprecated and will be removed from pandas in a future version. Use pandas.concat instead.\n",
      "  gc = gc.append(Dic, ignore_index=True)\n"
     ]
    },
    {
     "name": "stdout",
     "output_type": "stream",
     "text": [
      "               Company                                            Website\n",
      "0                  NaN                                                NaN\n",
      "1        3Degrees Inc.                           https://3degreesinc.com/\n",
      "2        3Degrees Inc.                           https://3degreesinc.com/\n",
      "3   3Phases Renewables                  http://www.3phasesrenewables.com/\n",
      "4   3Phases Renewables                  http://www.3phasesrenewables.com/\n",
      "..                 ...                                                ...\n",
      "85        DTE Electric  https://www.newlook.dteenergy.com/wps/wcm/conn...\n",
      "86        DTE Electric  https://www.newlook.dteenergy.com/wps/wcm/conn...\n",
      "87         Duke Energy                                               None\n",
      "88         Duke Energy                                               None\n",
      "89         Duke Energy                                               None\n",
      "\n",
      "[90 rows x 2 columns]\n"
     ]
    },
    {
     "name": "stderr",
     "output_type": "stream",
     "text": [
      "C:\\Users\\USER\\AppData\\Local\\Temp\\ipykernel_17652\\3827693980.py:19: FutureWarning: The frame.append method is deprecated and will be removed from pandas in a future version. Use pandas.concat instead.\n",
      "  gc = gc.append(Dic, ignore_index=True)\n"
     ]
    },
    {
     "name": "stdout",
     "output_type": "stream",
     "text": [
      "                   Company                                            Website\n",
      "0                      NaN                                                NaN\n",
      "1            3Degrees Inc.                           https://3degreesinc.com/\n",
      "2            3Degrees Inc.                           https://3degreesinc.com/\n",
      "3       3Phases Renewables                  http://www.3phasesrenewables.com/\n",
      "4       3Phases Renewables                  http://www.3phasesrenewables.com/\n",
      "..                     ...                                                ...\n",
      "86            DTE Electric  https://www.newlook.dteenergy.com/wps/wcm/conn...\n",
      "87             Duke Energy                                               None\n",
      "88             Duke Energy                                               None\n",
      "89             Duke Energy                                               None\n",
      "90  Dynegy Energy Services                            https://www.dynegy.com/\n",
      "\n",
      "[91 rows x 2 columns]\n"
     ]
    },
    {
     "name": "stderr",
     "output_type": "stream",
     "text": [
      "C:\\Users\\USER\\AppData\\Local\\Temp\\ipykernel_17652\\3827693980.py:19: FutureWarning: The frame.append method is deprecated and will be removed from pandas in a future version. Use pandas.concat instead.\n",
      "  gc = gc.append(Dic, ignore_index=True)\n"
     ]
    },
    {
     "name": "stdout",
     "output_type": "stream",
     "text": [
      "                             Company                            Website\n",
      "0                                NaN                                NaN\n",
      "1                      3Degrees Inc.           https://3degreesinc.com/\n",
      "2                      3Degrees Inc.           https://3degreesinc.com/\n",
      "3                 3Phases Renewables  http://www.3phasesrenewables.com/\n",
      "4                 3Phases Renewables  http://www.3phasesrenewables.com/\n",
      "..                               ...                                ...\n",
      "87                       Duke Energy                               None\n",
      "88                       Duke Energy                               None\n",
      "89                       Duke Energy                               None\n",
      "90            Dynegy Energy Services            https://www.dynegy.com/\n",
      "91  East Bay Community Energy (EBCE)                  https://ebce.org/\n",
      "\n",
      "[92 rows x 2 columns]\n"
     ]
    },
    {
     "name": "stderr",
     "output_type": "stream",
     "text": [
      "C:\\Users\\USER\\AppData\\Local\\Temp\\ipykernel_17652\\3827693980.py:19: FutureWarning: The frame.append method is deprecated and will be removed from pandas in a future version. Use pandas.concat instead.\n",
      "  gc = gc.append(Dic, ignore_index=True)\n"
     ]
    },
    {
     "name": "stdout",
     "output_type": "stream",
     "text": [
      "                             Company                            Website\n",
      "0                                NaN                                NaN\n",
      "1                      3Degrees Inc.           https://3degreesinc.com/\n",
      "2                      3Degrees Inc.           https://3degreesinc.com/\n",
      "3                 3Phases Renewables  http://www.3phasesrenewables.com/\n",
      "4                 3Phases Renewables  http://www.3phasesrenewables.com/\n",
      "..                               ...                                ...\n",
      "88                       Duke Energy                               None\n",
      "89                       Duke Energy                               None\n",
      "90            Dynegy Energy Services            https://www.dynegy.com/\n",
      "91  East Bay Community Energy (EBCE)                  https://ebce.org/\n",
      "92                             ECOHZ             https://www.ecohz.com/\n",
      "\n",
      "[93 rows x 2 columns]\n"
     ]
    },
    {
     "name": "stderr",
     "output_type": "stream",
     "text": [
      "C:\\Users\\USER\\AppData\\Local\\Temp\\ipykernel_17652\\3827693980.py:19: FutureWarning: The frame.append method is deprecated and will be removed from pandas in a future version. Use pandas.concat instead.\n",
      "  gc = gc.append(Dic, ignore_index=True)\n"
     ]
    },
    {
     "name": "stdout",
     "output_type": "stream",
     "text": [
      "                             Company                            Website\n",
      "0                                NaN                                NaN\n",
      "1                      3Degrees Inc.           https://3degreesinc.com/\n",
      "2                      3Degrees Inc.           https://3degreesinc.com/\n",
      "3                 3Phases Renewables  http://www.3phasesrenewables.com/\n",
      "4                 3Phases Renewables  http://www.3phasesrenewables.com/\n",
      "..                               ...                                ...\n",
      "89                       Duke Energy                               None\n",
      "90            Dynegy Energy Services            https://www.dynegy.com/\n",
      "91  East Bay Community Energy (EBCE)                  https://ebce.org/\n",
      "92                             ECOHZ             https://www.ecohz.com/\n",
      "93               EDF Energy Services                               None\n",
      "\n",
      "[94 rows x 2 columns]\n"
     ]
    },
    {
     "name": "stderr",
     "output_type": "stream",
     "text": [
      "C:\\Users\\USER\\AppData\\Local\\Temp\\ipykernel_17652\\3827693980.py:19: FutureWarning: The frame.append method is deprecated and will be removed from pandas in a future version. Use pandas.concat instead.\n",
      "  gc = gc.append(Dic, ignore_index=True)\n"
     ]
    },
    {
     "name": "stdout",
     "output_type": "stream",
     "text": [
      "                             Company                            Website\n",
      "0                                NaN                                NaN\n",
      "1                      3Degrees Inc.           https://3degreesinc.com/\n",
      "2                      3Degrees Inc.           https://3degreesinc.com/\n",
      "3                 3Phases Renewables  http://www.3phasesrenewables.com/\n",
      "4                 3Phases Renewables  http://www.3phasesrenewables.com/\n",
      "..                               ...                                ...\n",
      "90            Dynegy Energy Services            https://www.dynegy.com/\n",
      "91  East Bay Community Energy (EBCE)                  https://ebce.org/\n",
      "92                             ECOHZ             https://www.ecohz.com/\n",
      "93               EDF Energy Services                               None\n",
      "94           Elm Branch Solar 1, LLC                               None\n",
      "\n",
      "[95 rows x 2 columns]\n"
     ]
    },
    {
     "name": "stderr",
     "output_type": "stream",
     "text": [
      "C:\\Users\\USER\\AppData\\Local\\Temp\\ipykernel_17652\\3827693980.py:19: FutureWarning: The frame.append method is deprecated and will be removed from pandas in a future version. Use pandas.concat instead.\n",
      "  gc = gc.append(Dic, ignore_index=True)\n"
     ]
    },
    {
     "name": "stdout",
     "output_type": "stream",
     "text": [
      "                             Company                            Website\n",
      "0                                NaN                                NaN\n",
      "1                      3Degrees Inc.           https://3degreesinc.com/\n",
      "2                      3Degrees Inc.           https://3degreesinc.com/\n",
      "3                 3Phases Renewables  http://www.3phasesrenewables.com/\n",
      "4                 3Phases Renewables  http://www.3phasesrenewables.com/\n",
      "..                               ...                                ...\n",
      "91  East Bay Community Energy (EBCE)                  https://ebce.org/\n",
      "92                             ECOHZ             https://www.ecohz.com/\n",
      "93               EDF Energy Services                               None\n",
      "94           Elm Branch Solar 1, LLC                               None\n",
      "95                            Enel X       https://www.enelx.com/n-a/en\n",
      "\n",
      "[96 rows x 2 columns]\n"
     ]
    },
    {
     "name": "stderr",
     "output_type": "stream",
     "text": [
      "C:\\Users\\USER\\AppData\\Local\\Temp\\ipykernel_17652\\3827693980.py:19: FutureWarning: The frame.append method is deprecated and will be removed from pandas in a future version. Use pandas.concat instead.\n",
      "  gc = gc.append(Dic, ignore_index=True)\n"
     ]
    },
    {
     "name": "stdout",
     "output_type": "stream",
     "text": [
      "                    Company                            Website\n",
      "0                       NaN                                NaN\n",
      "1             3Degrees Inc.           https://3degreesinc.com/\n",
      "2             3Degrees Inc.           https://3degreesinc.com/\n",
      "3        3Phases Renewables  http://www.3phasesrenewables.com/\n",
      "4        3Phases Renewables  http://www.3phasesrenewables.com/\n",
      "..                      ...                                ...\n",
      "92                    ECOHZ             https://www.ecohz.com/\n",
      "93      EDF Energy Services                               None\n",
      "94  Elm Branch Solar 1, LLC                               None\n",
      "95                   Enel X       https://www.enelx.com/n-a/en\n",
      "96                   Enel X       https://www.enelx.com/n-a/en\n",
      "\n",
      "[97 rows x 2 columns]\n"
     ]
    },
    {
     "name": "stderr",
     "output_type": "stream",
     "text": [
      "C:\\Users\\USER\\AppData\\Local\\Temp\\ipykernel_17652\\3827693980.py:19: FutureWarning: The frame.append method is deprecated and will be removed from pandas in a future version. Use pandas.concat instead.\n",
      "  gc = gc.append(Dic, ignore_index=True)\n"
     ]
    },
    {
     "name": "stdout",
     "output_type": "stream",
     "text": [
      "                      Company                            Website\n",
      "0                         NaN                                NaN\n",
      "1               3Degrees Inc.           https://3degreesinc.com/\n",
      "2               3Degrees Inc.           https://3degreesinc.com/\n",
      "3          3Phases Renewables  http://www.3phasesrenewables.com/\n",
      "4          3Phases Renewables  http://www.3phasesrenewables.com/\n",
      "..                        ...                                ...\n",
      "93        EDF Energy Services                               None\n",
      "94    Elm Branch Solar 1, LLC                               None\n",
      "95                     Enel X       https://www.enelx.com/n-a/en\n",
      "96                     Enel X       https://www.enelx.com/n-a/en\n",
      "97  Engie Energy Marketing NA                               None\n",
      "\n",
      "[98 rows x 2 columns]\n"
     ]
    },
    {
     "name": "stderr",
     "output_type": "stream",
     "text": [
      "C:\\Users\\USER\\AppData\\Local\\Temp\\ipykernel_17652\\3827693980.py:19: FutureWarning: The frame.append method is deprecated and will be removed from pandas in a future version. Use pandas.concat instead.\n",
      "  gc = gc.append(Dic, ignore_index=True)\n"
     ]
    },
    {
     "name": "stdout",
     "output_type": "stream",
     "text": [
      "                      Company                            Website\n",
      "0                         NaN                                NaN\n",
      "1               3Degrees Inc.           https://3degreesinc.com/\n",
      "2               3Degrees Inc.           https://3degreesinc.com/\n",
      "3          3Phases Renewables  http://www.3phasesrenewables.com/\n",
      "4          3Phases Renewables  http://www.3phasesrenewables.com/\n",
      "..                        ...                                ...\n",
      "94    Elm Branch Solar 1, LLC                               None\n",
      "95                     Enel X       https://www.enelx.com/n-a/en\n",
      "96                     Enel X       https://www.enelx.com/n-a/en\n",
      "97  Engie Energy Marketing NA                               None\n",
      "98  Engie Energy Marketing NA                               None\n",
      "\n",
      "[99 rows x 2 columns]\n"
     ]
    },
    {
     "name": "stderr",
     "output_type": "stream",
     "text": [
      "C:\\Users\\USER\\AppData\\Local\\Temp\\ipykernel_17652\\3827693980.py:19: FutureWarning: The frame.append method is deprecated and will be removed from pandas in a future version. Use pandas.concat instead.\n",
      "  gc = gc.append(Dic, ignore_index=True)\n"
     ]
    },
    {
     "name": "stdout",
     "output_type": "stream",
     "text": [
      "                               Company                            Website\n",
      "0                                  NaN                                NaN\n",
      "1                        3Degrees Inc.           https://3degreesinc.com/\n",
      "2                        3Degrees Inc.           https://3degreesinc.com/\n",
      "3                   3Phases Renewables  http://www.3phasesrenewables.com/\n",
      "4                   3Phases Renewables  http://www.3phasesrenewables.com/\n",
      "..                                 ...                                ...\n",
      "95                              Enel X       https://www.enelx.com/n-a/en\n",
      "96                              Enel X       https://www.enelx.com/n-a/en\n",
      "97           Engie Energy Marketing NA                               None\n",
      "98           Engie Energy Marketing NA                               None\n",
      "99  ENGIE Generation North America LLC           http://www.engie-na.com/\n",
      "\n",
      "[100 rows x 2 columns]\n"
     ]
    },
    {
     "name": "stderr",
     "output_type": "stream",
     "text": [
      "C:\\Users\\USER\\AppData\\Local\\Temp\\ipykernel_17652\\3827693980.py:19: FutureWarning: The frame.append method is deprecated and will be removed from pandas in a future version. Use pandas.concat instead.\n",
      "  gc = gc.append(Dic, ignore_index=True)\n"
     ]
    },
    {
     "name": "stdout",
     "output_type": "stream",
     "text": [
      "                                Company                            Website\n",
      "0                                   NaN                                NaN\n",
      "1                         3Degrees Inc.           https://3degreesinc.com/\n",
      "2                         3Degrees Inc.           https://3degreesinc.com/\n",
      "3                    3Phases Renewables  http://www.3phasesrenewables.com/\n",
      "4                    3Phases Renewables  http://www.3phasesrenewables.com/\n",
      "..                                  ...                                ...\n",
      "96                               Enel X       https://www.enelx.com/n-a/en\n",
      "97            Engie Energy Marketing NA                               None\n",
      "98            Engie Energy Marketing NA                               None\n",
      "99   ENGIE Generation North America LLC           http://www.engie-na.com/\n",
      "100  ENGIE Generation North America LLC           http://www.engie-na.com/\n",
      "\n",
      "[101 rows x 2 columns]\n"
     ]
    },
    {
     "name": "stderr",
     "output_type": "stream",
     "text": [
      "C:\\Users\\USER\\AppData\\Local\\Temp\\ipykernel_17652\\3827693980.py:19: FutureWarning: The frame.append method is deprecated and will be removed from pandas in a future version. Use pandas.concat instead.\n",
      "  gc = gc.append(Dic, ignore_index=True)\n"
     ]
    },
    {
     "name": "stdout",
     "output_type": "stream",
     "text": [
      "                                Company                            Website\n",
      "0                                   NaN                                NaN\n",
      "1                         3Degrees Inc.           https://3degreesinc.com/\n",
      "2                         3Degrees Inc.           https://3degreesinc.com/\n",
      "3                    3Phases Renewables  http://www.3phasesrenewables.com/\n",
      "4                    3Phases Renewables  http://www.3phasesrenewables.com/\n",
      "..                                  ...                                ...\n",
      "97            Engie Energy Marketing NA                               None\n",
      "98            Engie Energy Marketing NA                               None\n",
      "99   ENGIE Generation North America LLC           http://www.engie-na.com/\n",
      "100  ENGIE Generation North America LLC           http://www.engie-na.com/\n",
      "101          ENGIE Portfolio Management           http://www.engie-na.com/\n",
      "\n",
      "[102 rows x 2 columns]\n"
     ]
    },
    {
     "name": "stderr",
     "output_type": "stream",
     "text": [
      "C:\\Users\\USER\\AppData\\Local\\Temp\\ipykernel_17652\\3827693980.py:19: FutureWarning: The frame.append method is deprecated and will be removed from pandas in a future version. Use pandas.concat instead.\n",
      "  gc = gc.append(Dic, ignore_index=True)\n"
     ]
    },
    {
     "name": "stdout",
     "output_type": "stream",
     "text": [
      "                                Company                            Website\n",
      "0                                   NaN                                NaN\n",
      "1                         3Degrees Inc.           https://3degreesinc.com/\n",
      "2                         3Degrees Inc.           https://3degreesinc.com/\n",
      "3                    3Phases Renewables  http://www.3phasesrenewables.com/\n",
      "4                    3Phases Renewables  http://www.3phasesrenewables.com/\n",
      "..                                  ...                                ...\n",
      "98            Engie Energy Marketing NA                               None\n",
      "99   ENGIE Generation North America LLC           http://www.engie-na.com/\n",
      "100  ENGIE Generation North America LLC           http://www.engie-na.com/\n",
      "101          ENGIE Portfolio Management           http://www.engie-na.com/\n",
      "102          ENGIE Portfolio Management           http://www.engie-na.com/\n",
      "\n",
      "[103 rows x 2 columns]\n"
     ]
    },
    {
     "name": "stderr",
     "output_type": "stream",
     "text": [
      "C:\\Users\\USER\\AppData\\Local\\Temp\\ipykernel_17652\\3827693980.py:19: FutureWarning: The frame.append method is deprecated and will be removed from pandas in a future version. Use pandas.concat instead.\n",
      "  gc = gc.append(Dic, ignore_index=True)\n"
     ]
    },
    {
     "name": "stdout",
     "output_type": "stream",
     "text": [
      "                                               Company  \\\n",
      "0                                                  NaN   \n",
      "1                                        3Degrees Inc.   \n",
      "2                                        3Degrees Inc.   \n",
      "3                                   3Phases Renewables   \n",
      "4                                   3Phases Renewables   \n",
      "..                                                 ...   \n",
      "99                  ENGIE Generation North America LLC   \n",
      "100                 ENGIE Generation North America LLC   \n",
      "101                         ENGIE Portfolio Management   \n",
      "102                         ENGIE Portfolio Management   \n",
      "103  ENGIE Resources (formerly Suez Energy Resource...   \n",
      "\n",
      "                               Website  \n",
      "0                                  NaN  \n",
      "1             https://3degreesinc.com/  \n",
      "2             https://3degreesinc.com/  \n",
      "3    http://www.3phasesrenewables.com/  \n",
      "4    http://www.3phasesrenewables.com/  \n",
      "..                                 ...  \n",
      "99            http://www.engie-na.com/  \n",
      "100           http://www.engie-na.com/  \n",
      "101           http://www.engie-na.com/  \n",
      "102           http://www.engie-na.com/  \n",
      "103       http://www.suezenergyna.com/  \n",
      "\n",
      "[104 rows x 2 columns]\n"
     ]
    },
    {
     "name": "stderr",
     "output_type": "stream",
     "text": [
      "C:\\Users\\USER\\AppData\\Local\\Temp\\ipykernel_17652\\3827693980.py:19: FutureWarning: The frame.append method is deprecated and will be removed from pandas in a future version. Use pandas.concat instead.\n",
      "  gc = gc.append(Dic, ignore_index=True)\n"
     ]
    },
    {
     "name": "stdout",
     "output_type": "stream",
     "text": [
      "                                               Company  \\\n",
      "0                                                  NaN   \n",
      "1                                        3Degrees Inc.   \n",
      "2                                        3Degrees Inc.   \n",
      "3                                   3Phases Renewables   \n",
      "4                                   3Phases Renewables   \n",
      "..                                                 ...   \n",
      "100                 ENGIE Generation North America LLC   \n",
      "101                         ENGIE Portfolio Management   \n",
      "102                         ENGIE Portfolio Management   \n",
      "103  ENGIE Resources (formerly Suez Energy Resource...   \n",
      "104                                Entergy New Orleans   \n",
      "\n",
      "                               Website  \n",
      "0                                  NaN  \n",
      "1             https://3degreesinc.com/  \n",
      "2             https://3degreesinc.com/  \n",
      "3    http://www.3phasesrenewables.com/  \n",
      "4    http://www.3phasesrenewables.com/  \n",
      "..                                 ...  \n",
      "100           http://www.engie-na.com/  \n",
      "101           http://www.engie-na.com/  \n",
      "102           http://www.engie-na.com/  \n",
      "103       http://www.suezenergyna.com/  \n",
      "104                               None  \n",
      "\n",
      "[105 rows x 2 columns]\n"
     ]
    },
    {
     "name": "stderr",
     "output_type": "stream",
     "text": [
      "C:\\Users\\USER\\AppData\\Local\\Temp\\ipykernel_17652\\3827693980.py:19: FutureWarning: The frame.append method is deprecated and will be removed from pandas in a future version. Use pandas.concat instead.\n",
      "  gc = gc.append(Dic, ignore_index=True)\n"
     ]
    },
    {
     "name": "stdout",
     "output_type": "stream",
     "text": [
      "                                               Company  \\\n",
      "0                                                  NaN   \n",
      "1                                        3Degrees Inc.   \n",
      "2                                        3Degrees Inc.   \n",
      "3                                   3Phases Renewables   \n",
      "4                                   3Phases Renewables   \n",
      "..                                                 ...   \n",
      "101                         ENGIE Portfolio Management   \n",
      "102                         ENGIE Portfolio Management   \n",
      "103  ENGIE Resources (formerly Suez Energy Resource...   \n",
      "104                                Entergy New Orleans   \n",
      "105                                     Fern Solar LLC   \n",
      "\n",
      "                               Website  \n",
      "0                                  NaN  \n",
      "1             https://3degreesinc.com/  \n",
      "2             https://3degreesinc.com/  \n",
      "3    http://www.3phasesrenewables.com/  \n",
      "4    http://www.3phasesrenewables.com/  \n",
      "..                                 ...  \n",
      "101           http://www.engie-na.com/  \n",
      "102           http://www.engie-na.com/  \n",
      "103       http://www.suezenergyna.com/  \n",
      "104                               None  \n",
      "105                               None  \n",
      "\n",
      "[106 rows x 2 columns]\n"
     ]
    },
    {
     "name": "stderr",
     "output_type": "stream",
     "text": [
      "C:\\Users\\USER\\AppData\\Local\\Temp\\ipykernel_17652\\3827693980.py:19: FutureWarning: The frame.append method is deprecated and will be removed from pandas in a future version. Use pandas.concat instead.\n",
      "  gc = gc.append(Dic, ignore_index=True)\n"
     ]
    },
    {
     "name": "stdout",
     "output_type": "stream",
     "text": [
      "                                               Company  \\\n",
      "0                                                  NaN   \n",
      "1                                        3Degrees Inc.   \n",
      "2                                        3Degrees Inc.   \n",
      "3                                   3Phases Renewables   \n",
      "4                                   3Phases Renewables   \n",
      "..                                                 ...   \n",
      "102                         ENGIE Portfolio Management   \n",
      "103  ENGIE Resources (formerly Suez Energy Resource...   \n",
      "104                                Entergy New Orleans   \n",
      "105                                     Fern Solar LLC   \n",
      "106                           First Climate Markets AG   \n",
      "\n",
      "                               Website  \n",
      "0                                  NaN  \n",
      "1             https://3degreesinc.com/  \n",
      "2             https://3degreesinc.com/  \n",
      "3    http://www.3phasesrenewables.com/  \n",
      "4    http://www.3phasesrenewables.com/  \n",
      "..                                 ...  \n",
      "102           http://www.engie-na.com/  \n",
      "103       http://www.suezenergyna.com/  \n",
      "104                               None  \n",
      "105                               None  \n",
      "106                               None  \n",
      "\n",
      "[107 rows x 2 columns]\n"
     ]
    },
    {
     "name": "stderr",
     "output_type": "stream",
     "text": [
      "C:\\Users\\USER\\AppData\\Local\\Temp\\ipykernel_17652\\3827693980.py:19: FutureWarning: The frame.append method is deprecated and will be removed from pandas in a future version. Use pandas.concat instead.\n",
      "  gc = gc.append(Dic, ignore_index=True)\n"
     ]
    },
    {
     "name": "stdout",
     "output_type": "stream",
     "text": [
      "                                               Company  \\\n",
      "0                                                  NaN   \n",
      "1                                        3Degrees Inc.   \n",
      "2                                        3Degrees Inc.   \n",
      "3                                   3Phases Renewables   \n",
      "4                                   3Phases Renewables   \n",
      "..                                                 ...   \n",
      "103  ENGIE Resources (formerly Suez Energy Resource...   \n",
      "104                                Entergy New Orleans   \n",
      "105                                     Fern Solar LLC   \n",
      "106                           First Climate Markets AG   \n",
      "107                           First Climate Markets AG   \n",
      "\n",
      "                               Website  \n",
      "0                                  NaN  \n",
      "1             https://3degreesinc.com/  \n",
      "2             https://3degreesinc.com/  \n",
      "3    http://www.3phasesrenewables.com/  \n",
      "4    http://www.3phasesrenewables.com/  \n",
      "..                                 ...  \n",
      "103       http://www.suezenergyna.com/  \n",
      "104                               None  \n",
      "105                               None  \n",
      "106                               None  \n",
      "107                               None  \n",
      "\n",
      "[108 rows x 2 columns]\n"
     ]
    },
    {
     "name": "stderr",
     "output_type": "stream",
     "text": [
      "C:\\Users\\USER\\AppData\\Local\\Temp\\ipykernel_17652\\3827693980.py:19: FutureWarning: The frame.append method is deprecated and will be removed from pandas in a future version. Use pandas.concat instead.\n",
      "  gc = gc.append(Dic, ignore_index=True)\n"
     ]
    },
    {
     "name": "stdout",
     "output_type": "stream",
     "text": [
      "                         Company                            Website\n",
      "0                            NaN                                NaN\n",
      "1                  3Degrees Inc.           https://3degreesinc.com/\n",
      "2                  3Degrees Inc.           https://3degreesinc.com/\n",
      "3             3Phases Renewables  http://www.3phasesrenewables.com/\n",
      "4             3Phases Renewables  http://www.3phasesrenewables.com/\n",
      "..                           ...                                ...\n",
      "104          Entergy New Orleans                               None\n",
      "105               Fern Solar LLC                               None\n",
      "106     First Climate Markets AG                               None\n",
      "107     First Climate Markets AG                               None\n",
      "108  FirstEnergy Solutions Corp.               https://www.fes.com/\n",
      "\n",
      "[109 rows x 2 columns]\n"
     ]
    },
    {
     "name": "stderr",
     "output_type": "stream",
     "text": [
      "C:\\Users\\USER\\AppData\\Local\\Temp\\ipykernel_17652\\3827693980.py:19: FutureWarning: The frame.append method is deprecated and will be removed from pandas in a future version. Use pandas.concat instead.\n",
      "  gc = gc.append(Dic, ignore_index=True)\n"
     ]
    },
    {
     "name": "stdout",
     "output_type": "stream",
     "text": [
      "                         Company                            Website\n",
      "0                            NaN                                NaN\n",
      "1                  3Degrees Inc.           https://3degreesinc.com/\n",
      "2                  3Degrees Inc.           https://3degreesinc.com/\n",
      "3             3Phases Renewables  http://www.3phasesrenewables.com/\n",
      "4             3Phases Renewables  http://www.3phasesrenewables.com/\n",
      "..                           ...                                ...\n",
      "105               Fern Solar LLC                               None\n",
      "106     First Climate Markets AG                               None\n",
      "107     First Climate Markets AG                               None\n",
      "108  FirstEnergy Solutions Corp.               https://www.fes.com/\n",
      "109  FirstEnergy Solutions Corp.               https://www.fes.com/\n",
      "\n",
      "[110 rows x 2 columns]\n"
     ]
    },
    {
     "name": "stderr",
     "output_type": "stream",
     "text": [
      "C:\\Users\\USER\\AppData\\Local\\Temp\\ipykernel_17652\\3827693980.py:19: FutureWarning: The frame.append method is deprecated and will be removed from pandas in a future version. Use pandas.concat instead.\n",
      "  gc = gc.append(Dic, ignore_index=True)\n"
     ]
    },
    {
     "name": "stdout",
     "output_type": "stream",
     "text": [
      "                         Company                            Website\n",
      "0                            NaN                                NaN\n",
      "1                  3Degrees Inc.           https://3degreesinc.com/\n",
      "2                  3Degrees Inc.           https://3degreesinc.com/\n",
      "3             3Phases Renewables  http://www.3phasesrenewables.com/\n",
      "4             3Phases Renewables  http://www.3phasesrenewables.com/\n",
      "..                           ...                                ...\n",
      "106     First Climate Markets AG                               None\n",
      "107     First Climate Markets AG                               None\n",
      "108  FirstEnergy Solutions Corp.               https://www.fes.com/\n",
      "109  FirstEnergy Solutions Corp.               https://www.fes.com/\n",
      "110  FirstEnergy Solutions Corp.               https://www.fes.com/\n",
      "\n",
      "[111 rows x 2 columns]\n"
     ]
    },
    {
     "name": "stderr",
     "output_type": "stream",
     "text": [
      "C:\\Users\\USER\\AppData\\Local\\Temp\\ipykernel_17652\\3827693980.py:19: FutureWarning: The frame.append method is deprecated and will be removed from pandas in a future version. Use pandas.concat instead.\n",
      "  gc = gc.append(Dic, ignore_index=True)\n"
     ]
    },
    {
     "name": "stdout",
     "output_type": "stream",
     "text": [
      "                         Company                            Website\n",
      "0                            NaN                                NaN\n",
      "1                  3Degrees Inc.           https://3degreesinc.com/\n",
      "2                  3Degrees Inc.           https://3degreesinc.com/\n",
      "3             3Phases Renewables  http://www.3phasesrenewables.com/\n",
      "4             3Phases Renewables  http://www.3phasesrenewables.com/\n",
      "..                           ...                                ...\n",
      "107     First Climate Markets AG                               None\n",
      "108  FirstEnergy Solutions Corp.               https://www.fes.com/\n",
      "109  FirstEnergy Solutions Corp.               https://www.fes.com/\n",
      "110  FirstEnergy Solutions Corp.               https://www.fes.com/\n",
      "111   Frontier Windpower II, LLC                               None\n",
      "\n",
      "[112 rows x 2 columns]\n"
     ]
    },
    {
     "name": "stderr",
     "output_type": "stream",
     "text": [
      "C:\\Users\\USER\\AppData\\Local\\Temp\\ipykernel_17652\\3827693980.py:19: FutureWarning: The frame.append method is deprecated and will be removed from pandas in a future version. Use pandas.concat instead.\n",
      "  gc = gc.append(Dic, ignore_index=True)\n"
     ]
    },
    {
     "name": "stdout",
     "output_type": "stream",
     "text": [
      "                         Company                            Website\n",
      "0                            NaN                                NaN\n",
      "1                  3Degrees Inc.           https://3degreesinc.com/\n",
      "2                  3Degrees Inc.           https://3degreesinc.com/\n",
      "3             3Phases Renewables  http://www.3phasesrenewables.com/\n",
      "4             3Phases Renewables  http://www.3phasesrenewables.com/\n",
      "..                           ...                                ...\n",
      "108  FirstEnergy Solutions Corp.               https://www.fes.com/\n",
      "109  FirstEnergy Solutions Corp.               https://www.fes.com/\n",
      "110  FirstEnergy Solutions Corp.               https://www.fes.com/\n",
      "111   Frontier Windpower II, LLC                               None\n",
      "112                  GO2 Markets           https://go2-markets.com/\n",
      "\n",
      "[113 rows x 2 columns]\n"
     ]
    },
    {
     "name": "stderr",
     "output_type": "stream",
     "text": [
      "C:\\Users\\USER\\AppData\\Local\\Temp\\ipykernel_17652\\3827693980.py:19: FutureWarning: The frame.append method is deprecated and will be removed from pandas in a future version. Use pandas.concat instead.\n",
      "  gc = gc.append(Dic, ignore_index=True)\n"
     ]
    },
    {
     "name": "stdout",
     "output_type": "stream",
     "text": [
      "                         Company                            Website\n",
      "0                            NaN                                NaN\n",
      "1                  3Degrees Inc.           https://3degreesinc.com/\n",
      "2                  3Degrees Inc.           https://3degreesinc.com/\n",
      "3             3Phases Renewables  http://www.3phasesrenewables.com/\n",
      "4             3Phases Renewables  http://www.3phasesrenewables.com/\n",
      "..                           ...                                ...\n",
      "109  FirstEnergy Solutions Corp.               https://www.fes.com/\n",
      "110  FirstEnergy Solutions Corp.               https://www.fes.com/\n",
      "111   Frontier Windpower II, LLC                               None\n",
      "112                  GO2 Markets           https://go2-markets.com/\n",
      "113                  GO2 Markets           https://go2-markets.com/\n",
      "\n",
      "[114 rows x 2 columns]\n"
     ]
    },
    {
     "name": "stderr",
     "output_type": "stream",
     "text": [
      "C:\\Users\\USER\\AppData\\Local\\Temp\\ipykernel_17652\\3827693980.py:19: FutureWarning: The frame.append method is deprecated and will be removed from pandas in a future version. Use pandas.concat instead.\n",
      "  gc = gc.append(Dic, ignore_index=True)\n"
     ]
    },
    {
     "name": "stdout",
     "output_type": "stream",
     "text": [
      "                         Company                              Website\n",
      "0                            NaN                                  NaN\n",
      "1                  3Degrees Inc.             https://3degreesinc.com/\n",
      "2                  3Degrees Inc.             https://3degreesinc.com/\n",
      "3             3Phases Renewables    http://www.3phasesrenewables.com/\n",
      "4             3Phases Renewables    http://www.3phasesrenewables.com/\n",
      "..                           ...                                  ...\n",
      "110  FirstEnergy Solutions Corp.                 https://www.fes.com/\n",
      "111   Frontier Windpower II, LLC                                 None\n",
      "112                  GO2 Markets             https://go2-markets.com/\n",
      "113                  GO2 Markets             https://go2-markets.com/\n",
      "114        Green Mountain Energy  http://www.greenmountainenergy.com/\n",
      "\n",
      "[115 rows x 2 columns]\n"
     ]
    },
    {
     "name": "stderr",
     "output_type": "stream",
     "text": [
      "C:\\Users\\USER\\AppData\\Local\\Temp\\ipykernel_17652\\3827693980.py:19: FutureWarning: The frame.append method is deprecated and will be removed from pandas in a future version. Use pandas.concat instead.\n",
      "  gc = gc.append(Dic, ignore_index=True)\n"
     ]
    },
    {
     "name": "stdout",
     "output_type": "stream",
     "text": [
      "                        Company                              Website\n",
      "0                           NaN                                  NaN\n",
      "1                 3Degrees Inc.             https://3degreesinc.com/\n",
      "2                 3Degrees Inc.             https://3degreesinc.com/\n",
      "3            3Phases Renewables    http://www.3phasesrenewables.com/\n",
      "4            3Phases Renewables    http://www.3phasesrenewables.com/\n",
      "..                          ...                                  ...\n",
      "111  Frontier Windpower II, LLC                                 None\n",
      "112                 GO2 Markets             https://go2-markets.com/\n",
      "113                 GO2 Markets             https://go2-markets.com/\n",
      "114       Green Mountain Energy  http://www.greenmountainenergy.com/\n",
      "115       Green Mountain Energy  http://www.greenmountainenergy.com/\n",
      "\n",
      "[116 rows x 2 columns]\n"
     ]
    },
    {
     "name": "stderr",
     "output_type": "stream",
     "text": [
      "C:\\Users\\USER\\AppData\\Local\\Temp\\ipykernel_17652\\3827693980.py:19: FutureWarning: The frame.append method is deprecated and will be removed from pandas in a future version. Use pandas.concat instead.\n",
      "  gc = gc.append(Dic, ignore_index=True)\n"
     ]
    },
    {
     "name": "stdout",
     "output_type": "stream",
     "text": [
      "                   Company                              Website\n",
      "0                      NaN                                  NaN\n",
      "1            3Degrees Inc.             https://3degreesinc.com/\n",
      "2            3Degrees Inc.             https://3degreesinc.com/\n",
      "3       3Phases Renewables    http://www.3phasesrenewables.com/\n",
      "4       3Phases Renewables    http://www.3phasesrenewables.com/\n",
      "..                     ...                                  ...\n",
      "112            GO2 Markets             https://go2-markets.com/\n",
      "113            GO2 Markets             https://go2-markets.com/\n",
      "114  Green Mountain Energy  http://www.greenmountainenergy.com/\n",
      "115  Green Mountain Energy  http://www.greenmountainenergy.com/\n",
      "116  Green Mountain Energy  http://www.greenmountainenergy.com/\n",
      "\n",
      "[117 rows x 2 columns]\n"
     ]
    },
    {
     "name": "stderr",
     "output_type": "stream",
     "text": [
      "C:\\Users\\USER\\AppData\\Local\\Temp\\ipykernel_17652\\3827693980.py:19: FutureWarning: The frame.append method is deprecated and will be removed from pandas in a future version. Use pandas.concat instead.\n",
      "  gc = gc.append(Dic, ignore_index=True)\n"
     ]
    },
    {
     "name": "stdout",
     "output_type": "stream",
     "text": [
      "                   Company                              Website\n",
      "0                      NaN                                  NaN\n",
      "1            3Degrees Inc.             https://3degreesinc.com/\n",
      "2            3Degrees Inc.             https://3degreesinc.com/\n",
      "3       3Phases Renewables    http://www.3phasesrenewables.com/\n",
      "4       3Phases Renewables    http://www.3phasesrenewables.com/\n",
      "..                     ...                                  ...\n",
      "113            GO2 Markets             https://go2-markets.com/\n",
      "114  Green Mountain Energy  http://www.greenmountainenergy.com/\n",
      "115  Green Mountain Energy  http://www.greenmountainenergy.com/\n",
      "116  Green Mountain Energy  http://www.greenmountainenergy.com/\n",
      "117  Green Mountain Energy  http://www.greenmountainenergy.com/\n",
      "\n",
      "[118 rows x 2 columns]\n"
     ]
    },
    {
     "name": "stderr",
     "output_type": "stream",
     "text": [
      "C:\\Users\\USER\\AppData\\Local\\Temp\\ipykernel_17652\\3827693980.py:19: FutureWarning: The frame.append method is deprecated and will be removed from pandas in a future version. Use pandas.concat instead.\n",
      "  gc = gc.append(Dic, ignore_index=True)\n"
     ]
    },
    {
     "name": "stdout",
     "output_type": "stream",
     "text": [
      "                   Company                              Website\n",
      "0                      NaN                                  NaN\n",
      "1            3Degrees Inc.             https://3degreesinc.com/\n",
      "2            3Degrees Inc.             https://3degreesinc.com/\n",
      "3       3Phases Renewables    http://www.3phasesrenewables.com/\n",
      "4       3Phases Renewables    http://www.3phasesrenewables.com/\n",
      "..                     ...                                  ...\n",
      "114  Green Mountain Energy  http://www.greenmountainenergy.com/\n",
      "115  Green Mountain Energy  http://www.greenmountainenergy.com/\n",
      "116  Green Mountain Energy  http://www.greenmountainenergy.com/\n",
      "117  Green Mountain Energy  http://www.greenmountainenergy.com/\n",
      "118  Green Mountain Energy  http://www.greenmountainenergy.com/\n",
      "\n",
      "[119 rows x 2 columns]\n"
     ]
    },
    {
     "name": "stderr",
     "output_type": "stream",
     "text": [
      "C:\\Users\\USER\\AppData\\Local\\Temp\\ipykernel_17652\\3827693980.py:19: FutureWarning: The frame.append method is deprecated and will be removed from pandas in a future version. Use pandas.concat instead.\n",
      "  gc = gc.append(Dic, ignore_index=True)\n"
     ]
    },
    {
     "name": "stdout",
     "output_type": "stream",
     "text": [
      "                   Company                              Website\n",
      "0                      NaN                                  NaN\n",
      "1            3Degrees Inc.             https://3degreesinc.com/\n",
      "2            3Degrees Inc.             https://3degreesinc.com/\n",
      "3       3Phases Renewables    http://www.3phasesrenewables.com/\n",
      "4       3Phases Renewables    http://www.3phasesrenewables.com/\n",
      "..                     ...                                  ...\n",
      "115  Green Mountain Energy  http://www.greenmountainenergy.com/\n",
      "116  Green Mountain Energy  http://www.greenmountainenergy.com/\n",
      "117  Green Mountain Energy  http://www.greenmountainenergy.com/\n",
      "118  Green Mountain Energy  http://www.greenmountainenergy.com/\n",
      "119        Green Power EMC        http://www.greenpoweremc.com/\n",
      "\n",
      "[120 rows x 2 columns]\n"
     ]
    },
    {
     "name": "stderr",
     "output_type": "stream",
     "text": [
      "C:\\Users\\USER\\AppData\\Local\\Temp\\ipykernel_17652\\3827693980.py:19: FutureWarning: The frame.append method is deprecated and will be removed from pandas in a future version. Use pandas.concat instead.\n",
      "  gc = gc.append(Dic, ignore_index=True)\n"
     ]
    },
    {
     "name": "stdout",
     "output_type": "stream",
     "text": [
      "                   Company                              Website\n",
      "0                      NaN                                  NaN\n",
      "1            3Degrees Inc.             https://3degreesinc.com/\n",
      "2            3Degrees Inc.             https://3degreesinc.com/\n",
      "3       3Phases Renewables    http://www.3phasesrenewables.com/\n",
      "4       3Phases Renewables    http://www.3phasesrenewables.com/\n",
      "..                     ...                                  ...\n",
      "116  Green Mountain Energy  http://www.greenmountainenergy.com/\n",
      "117  Green Mountain Energy  http://www.greenmountainenergy.com/\n",
      "118  Green Mountain Energy  http://www.greenmountainenergy.com/\n",
      "119        Green Power EMC        http://www.greenpoweremc.com/\n",
      "120        Green Power EMC        http://www.greenpoweremc.com/\n",
      "\n",
      "[121 rows x 2 columns]\n"
     ]
    },
    {
     "name": "stderr",
     "output_type": "stream",
     "text": [
      "C:\\Users\\USER\\AppData\\Local\\Temp\\ipykernel_17652\\3827693980.py:19: FutureWarning: The frame.append method is deprecated and will be removed from pandas in a future version. Use pandas.concat instead.\n",
      "  gc = gc.append(Dic, ignore_index=True)\n"
     ]
    },
    {
     "name": "stdout",
     "output_type": "stream",
     "text": [
      "                   Company                              Website\n",
      "0                      NaN                                  NaN\n",
      "1            3Degrees Inc.             https://3degreesinc.com/\n",
      "2            3Degrees Inc.             https://3degreesinc.com/\n",
      "3       3Phases Renewables    http://www.3phasesrenewables.com/\n",
      "4       3Phases Renewables    http://www.3phasesrenewables.com/\n",
      "..                     ...                                  ...\n",
      "117  Green Mountain Energy  http://www.greenmountainenergy.com/\n",
      "118  Green Mountain Energy  http://www.greenmountainenergy.com/\n",
      "119        Green Power EMC        http://www.greenpoweremc.com/\n",
      "120        Green Power EMC        http://www.greenpoweremc.com/\n",
      "121        Green Power EMC        http://www.greenpoweremc.com/\n",
      "\n",
      "[122 rows x 2 columns]\n"
     ]
    },
    {
     "name": "stderr",
     "output_type": "stream",
     "text": [
      "C:\\Users\\USER\\AppData\\Local\\Temp\\ipykernel_17652\\3827693980.py:19: FutureWarning: The frame.append method is deprecated and will be removed from pandas in a future version. Use pandas.concat instead.\n",
      "  gc = gc.append(Dic, ignore_index=True)\n"
     ]
    },
    {
     "name": "stdout",
     "output_type": "stream",
     "text": [
      "                   Company                              Website\n",
      "0                      NaN                                  NaN\n",
      "1            3Degrees Inc.             https://3degreesinc.com/\n",
      "2            3Degrees Inc.             https://3degreesinc.com/\n",
      "3       3Phases Renewables    http://www.3phasesrenewables.com/\n",
      "4       3Phases Renewables    http://www.3phasesrenewables.com/\n",
      "..                     ...                                  ...\n",
      "118  Green Mountain Energy  http://www.greenmountainenergy.com/\n",
      "119        Green Power EMC        http://www.greenpoweremc.com/\n",
      "120        Green Power EMC        http://www.greenpoweremc.com/\n",
      "121        Green Power EMC        http://www.greenpoweremc.com/\n",
      "122        Green Power EMC        http://www.greenpoweremc.com/\n",
      "\n",
      "[123 rows x 2 columns]\n"
     ]
    },
    {
     "name": "stderr",
     "output_type": "stream",
     "text": [
      "C:\\Users\\USER\\AppData\\Local\\Temp\\ipykernel_17652\\3827693980.py:19: FutureWarning: The frame.append method is deprecated and will be removed from pandas in a future version. Use pandas.concat instead.\n",
      "  gc = gc.append(Dic, ignore_index=True)\n"
     ]
    },
    {
     "name": "stdout",
     "output_type": "stream",
     "text": [
      "                Company                            Website\n",
      "0                   NaN                                NaN\n",
      "1         3Degrees Inc.           https://3degreesinc.com/\n",
      "2         3Degrees Inc.           https://3degreesinc.com/\n",
      "3    3Phases Renewables  http://www.3phasesrenewables.com/\n",
      "4    3Phases Renewables  http://www.3phasesrenewables.com/\n",
      "..                  ...                                ...\n",
      "119     Green Power EMC      http://www.greenpoweremc.com/\n",
      "120     Green Power EMC      http://www.greenpoweremc.com/\n",
      "121     Green Power EMC      http://www.greenpoweremc.com/\n",
      "122     Green Power EMC      http://www.greenpoweremc.com/\n",
      "123     Green Power EMC      http://www.greenpoweremc.com/\n",
      "\n",
      "[124 rows x 2 columns]\n"
     ]
    },
    {
     "name": "stderr",
     "output_type": "stream",
     "text": [
      "C:\\Users\\USER\\AppData\\Local\\Temp\\ipykernel_17652\\3827693980.py:19: FutureWarning: The frame.append method is deprecated and will be removed from pandas in a future version. Use pandas.concat instead.\n",
      "  gc = gc.append(Dic, ignore_index=True)\n"
     ]
    },
    {
     "name": "stdout",
     "output_type": "stream",
     "text": [
      "                Company                            Website\n",
      "0                   NaN                                NaN\n",
      "1         3Degrees Inc.           https://3degreesinc.com/\n",
      "2         3Degrees Inc.           https://3degreesinc.com/\n",
      "3    3Phases Renewables  http://www.3phasesrenewables.com/\n",
      "4    3Phases Renewables  http://www.3phasesrenewables.com/\n",
      "..                  ...                                ...\n",
      "120     Green Power EMC      http://www.greenpoweremc.com/\n",
      "121     Green Power EMC      http://www.greenpoweremc.com/\n",
      "122     Green Power EMC      http://www.greenpoweremc.com/\n",
      "123     Green Power EMC      http://www.greenpoweremc.com/\n",
      "124     GreenEnergy GPO        https://greenenergygpo.com/\n",
      "\n",
      "[125 rows x 2 columns]\n"
     ]
    },
    {
     "name": "stderr",
     "output_type": "stream",
     "text": [
      "C:\\Users\\USER\\AppData\\Local\\Temp\\ipykernel_17652\\3827693980.py:19: FutureWarning: The frame.append method is deprecated and will be removed from pandas in a future version. Use pandas.concat instead.\n",
      "  gc = gc.append(Dic, ignore_index=True)\n"
     ]
    },
    {
     "name": "stdout",
     "output_type": "stream",
     "text": [
      "                         Company                            Website\n",
      "0                            NaN                                NaN\n",
      "1                  3Degrees Inc.           https://3degreesinc.com/\n",
      "2                  3Degrees Inc.           https://3degreesinc.com/\n",
      "3             3Phases Renewables  http://www.3phasesrenewables.com/\n",
      "4             3Phases Renewables  http://www.3phasesrenewables.com/\n",
      "..                           ...                                ...\n",
      "121              Green Power EMC      http://www.greenpoweremc.com/\n",
      "122              Green Power EMC      http://www.greenpoweremc.com/\n",
      "123              Green Power EMC      http://www.greenpoweremc.com/\n",
      "124              GreenEnergy GPO        https://greenenergygpo.com/\n",
      "125  Greenlight Energy Group LLC          http://www.gltenergy.com/\n",
      "\n",
      "[126 rows x 2 columns]\n"
     ]
    },
    {
     "name": "stderr",
     "output_type": "stream",
     "text": [
      "C:\\Users\\USER\\AppData\\Local\\Temp\\ipykernel_17652\\3827693980.py:19: FutureWarning: The frame.append method is deprecated and will be removed from pandas in a future version. Use pandas.concat instead.\n",
      "  gc = gc.append(Dic, ignore_index=True)\n"
     ]
    },
    {
     "name": "stdout",
     "output_type": "stream",
     "text": [
      "                         Company                            Website\n",
      "0                            NaN                                NaN\n",
      "1                  3Degrees Inc.           https://3degreesinc.com/\n",
      "2                  3Degrees Inc.           https://3degreesinc.com/\n",
      "3             3Phases Renewables  http://www.3phasesrenewables.com/\n",
      "4             3Phases Renewables  http://www.3phasesrenewables.com/\n",
      "..                           ...                                ...\n",
      "122              Green Power EMC      http://www.greenpoweremc.com/\n",
      "123              Green Power EMC      http://www.greenpoweremc.com/\n",
      "124              GreenEnergy GPO        https://greenenergygpo.com/\n",
      "125  Greenlight Energy Group LLC          http://www.gltenergy.com/\n",
      "126  Greenlight Energy Group LLC          http://www.gltenergy.com/\n",
      "\n",
      "[127 rows x 2 columns]\n"
     ]
    },
    {
     "name": "stderr",
     "output_type": "stream",
     "text": [
      "C:\\Users\\USER\\AppData\\Local\\Temp\\ipykernel_17652\\3827693980.py:19: FutureWarning: The frame.append method is deprecated and will be removed from pandas in a future version. Use pandas.concat instead.\n",
      "  gc = gc.append(Dic, ignore_index=True)\n"
     ]
    },
    {
     "name": "stdout",
     "output_type": "stream",
     "text": [
      "                         Company                            Website\n",
      "0                            NaN                                NaN\n",
      "1                  3Degrees Inc.           https://3degreesinc.com/\n",
      "2                  3Degrees Inc.           https://3degreesinc.com/\n",
      "3             3Phases Renewables  http://www.3phasesrenewables.com/\n",
      "4             3Phases Renewables  http://www.3phasesrenewables.com/\n",
      "..                           ...                                ...\n",
      "123              Green Power EMC      http://www.greenpoweremc.com/\n",
      "124              GreenEnergy GPO        https://greenenergygpo.com/\n",
      "125  Greenlight Energy Group LLC          http://www.gltenergy.com/\n",
      "126  Greenlight Energy Group LLC          http://www.gltenergy.com/\n",
      "127                   Hero Power           https://myheropower.com/\n",
      "\n",
      "[128 rows x 2 columns]\n"
     ]
    },
    {
     "name": "stderr",
     "output_type": "stream",
     "text": [
      "C:\\Users\\USER\\AppData\\Local\\Temp\\ipykernel_17652\\3827693980.py:19: FutureWarning: The frame.append method is deprecated and will be removed from pandas in a future version. Use pandas.concat instead.\n",
      "  gc = gc.append(Dic, ignore_index=True)\n"
     ]
    },
    {
     "name": "stdout",
     "output_type": "stream",
     "text": [
      "                         Company                            Website\n",
      "0                            NaN                                NaN\n",
      "1                  3Degrees Inc.           https://3degreesinc.com/\n",
      "2                  3Degrees Inc.           https://3degreesinc.com/\n",
      "3             3Phases Renewables  http://www.3phasesrenewables.com/\n",
      "4             3Phases Renewables  http://www.3phasesrenewables.com/\n",
      "..                           ...                                ...\n",
      "124              GreenEnergy GPO        https://greenenergygpo.com/\n",
      "125  Greenlight Energy Group LLC          http://www.gltenergy.com/\n",
      "126  Greenlight Energy Group LLC          http://www.gltenergy.com/\n",
      "127                   Hero Power           https://myheropower.com/\n",
      "128                   Hero Power           https://myheropower.com/\n",
      "\n",
      "[129 rows x 2 columns]\n"
     ]
    },
    {
     "name": "stderr",
     "output_type": "stream",
     "text": [
      "C:\\Users\\USER\\AppData\\Local\\Temp\\ipykernel_17652\\3827693980.py:19: FutureWarning: The frame.append method is deprecated and will be removed from pandas in a future version. Use pandas.concat instead.\n",
      "  gc = gc.append(Dic, ignore_index=True)\n"
     ]
    },
    {
     "name": "stdout",
     "output_type": "stream",
     "text": [
      "                         Company  \\\n",
      "0                            NaN   \n",
      "1                  3Degrees Inc.   \n",
      "2                  3Degrees Inc.   \n",
      "3             3Phases Renewables   \n",
      "4             3Phases Renewables   \n",
      "..                           ...   \n",
      "125  Greenlight Energy Group LLC   \n",
      "126  Greenlight Energy Group LLC   \n",
      "127                   Hero Power   \n",
      "128                   Hero Power   \n",
      "129          Idaho Power Company   \n",
      "\n",
      "                                               Website  \n",
      "0                                                  NaN  \n",
      "1                             https://3degreesinc.com/  \n",
      "2                             https://3degreesinc.com/  \n",
      "3                    http://www.3phasesrenewables.com/  \n",
      "4                    http://www.3phasesrenewables.com/  \n",
      "..                                                 ...  \n",
      "125                          http://www.gltenergy.com/  \n",
      "126                          http://www.gltenergy.com/  \n",
      "127                           https://myheropower.com/  \n",
      "128                           https://myheropower.com/  \n",
      "129  http://www.idahopower.com/energycenter/greenpo...  \n",
      "\n",
      "[130 rows x 2 columns]\n"
     ]
    },
    {
     "name": "stderr",
     "output_type": "stream",
     "text": [
      "C:\\Users\\USER\\AppData\\Local\\Temp\\ipykernel_17652\\3827693980.py:19: FutureWarning: The frame.append method is deprecated and will be removed from pandas in a future version. Use pandas.concat instead.\n",
      "  gc = gc.append(Dic, ignore_index=True)\n"
     ]
    },
    {
     "name": "stdout",
     "output_type": "stream",
     "text": [
      "                         Company  \\\n",
      "0                            NaN   \n",
      "1                  3Degrees Inc.   \n",
      "2                  3Degrees Inc.   \n",
      "3             3Phases Renewables   \n",
      "4             3Phases Renewables   \n",
      "..                           ...   \n",
      "126  Greenlight Energy Group LLC   \n",
      "127                   Hero Power   \n",
      "128                   Hero Power   \n",
      "129          Idaho Power Company   \n",
      "130          Idaho Power Company   \n",
      "\n",
      "                                               Website  \n",
      "0                                                  NaN  \n",
      "1                             https://3degreesinc.com/  \n",
      "2                             https://3degreesinc.com/  \n",
      "3                    http://www.3phasesrenewables.com/  \n",
      "4                    http://www.3phasesrenewables.com/  \n",
      "..                                                 ...  \n",
      "126                          http://www.gltenergy.com/  \n",
      "127                           https://myheropower.com/  \n",
      "128                           https://myheropower.com/  \n",
      "129  http://www.idahopower.com/energycenter/greenpo...  \n",
      "130  http://www.idahopower.com/energycenter/greenpo...  \n",
      "\n",
      "[131 rows x 2 columns]\n"
     ]
    },
    {
     "name": "stderr",
     "output_type": "stream",
     "text": [
      "C:\\Users\\USER\\AppData\\Local\\Temp\\ipykernel_17652\\3827693980.py:19: FutureWarning: The frame.append method is deprecated and will be removed from pandas in a future version. Use pandas.concat instead.\n",
      "  gc = gc.append(Dic, ignore_index=True)\n"
     ]
    },
    {
     "name": "stdout",
     "output_type": "stream",
     "text": [
      "                                      Company  \\\n",
      "0                                         NaN   \n",
      "1                               3Degrees Inc.   \n",
      "2                               3Degrees Inc.   \n",
      "3                          3Phases Renewables   \n",
      "4                          3Phases Renewables   \n",
      "..                                        ...   \n",
      "127                                Hero Power   \n",
      "128                                Hero Power   \n",
      "129                       Idaho Power Company   \n",
      "130                       Idaho Power Company   \n",
      "131  Indianapolis Power & Light Company (AES)   \n",
      "\n",
      "                                               Website  \n",
      "0                                                  NaN  \n",
      "1                             https://3degreesinc.com/  \n",
      "2                             https://3degreesinc.com/  \n",
      "3                    http://www.3phasesrenewables.com/  \n",
      "4                    http://www.3phasesrenewables.com/  \n",
      "..                                                 ...  \n",
      "127                           https://myheropower.com/  \n",
      "128                           https://myheropower.com/  \n",
      "129  http://www.idahopower.com/energycenter/greenpo...  \n",
      "130  http://www.idahopower.com/energycenter/greenpo...  \n",
      "131                          https://www.iplpower.com/  \n",
      "\n",
      "[132 rows x 2 columns]\n"
     ]
    },
    {
     "name": "stderr",
     "output_type": "stream",
     "text": [
      "C:\\Users\\USER\\AppData\\Local\\Temp\\ipykernel_17652\\3827693980.py:19: FutureWarning: The frame.append method is deprecated and will be removed from pandas in a future version. Use pandas.concat instead.\n",
      "  gc = gc.append(Dic, ignore_index=True)\n"
     ]
    },
    {
     "name": "stdout",
     "output_type": "stream",
     "text": [
      "                                      Company  \\\n",
      "0                                         NaN   \n",
      "1                               3Degrees Inc.   \n",
      "2                               3Degrees Inc.   \n",
      "3                          3Phases Renewables   \n",
      "4                          3Phases Renewables   \n",
      "..                                        ...   \n",
      "128                                Hero Power   \n",
      "129                       Idaho Power Company   \n",
      "130                       Idaho Power Company   \n",
      "131  Indianapolis Power & Light Company (AES)   \n",
      "132  Indianapolis Power & Light Company (AES)   \n",
      "\n",
      "                                               Website  \n",
      "0                                                  NaN  \n",
      "1                             https://3degreesinc.com/  \n",
      "2                             https://3degreesinc.com/  \n",
      "3                    http://www.3phasesrenewables.com/  \n",
      "4                    http://www.3phasesrenewables.com/  \n",
      "..                                                 ...  \n",
      "128                           https://myheropower.com/  \n",
      "129  http://www.idahopower.com/energycenter/greenpo...  \n",
      "130  http://www.idahopower.com/energycenter/greenpo...  \n",
      "131                          https://www.iplpower.com/  \n",
      "132                          https://www.iplpower.com/  \n",
      "\n",
      "[133 rows x 2 columns]\n"
     ]
    },
    {
     "name": "stderr",
     "output_type": "stream",
     "text": [
      "C:\\Users\\USER\\AppData\\Local\\Temp\\ipykernel_17652\\3827693980.py:19: FutureWarning: The frame.append method is deprecated and will be removed from pandas in a future version. Use pandas.concat instead.\n",
      "  gc = gc.append(Dic, ignore_index=True)\n"
     ]
    },
    {
     "name": "stdout",
     "output_type": "stream",
     "text": [
      "                                      Company  \\\n",
      "0                                         NaN   \n",
      "1                               3Degrees Inc.   \n",
      "2                               3Degrees Inc.   \n",
      "3                          3Phases Renewables   \n",
      "4                          3Phases Renewables   \n",
      "..                                        ...   \n",
      "129                       Idaho Power Company   \n",
      "130                       Idaho Power Company   \n",
      "131  Indianapolis Power & Light Company (AES)   \n",
      "132  Indianapolis Power & Light Company (AES)   \n",
      "133   J.P. Morgan Ventures Energy Corporation   \n",
      "\n",
      "                                               Website  \n",
      "0                                                  NaN  \n",
      "1                             https://3degreesinc.com/  \n",
      "2                             https://3degreesinc.com/  \n",
      "3                    http://www.3phasesrenewables.com/  \n",
      "4                    http://www.3phasesrenewables.com/  \n",
      "..                                                 ...  \n",
      "129  http://www.idahopower.com/energycenter/greenpo...  \n",
      "130  http://www.idahopower.com/energycenter/greenpo...  \n",
      "131                          https://www.iplpower.com/  \n",
      "132                          https://www.iplpower.com/  \n",
      "133  https://am.jpmorgan.com/us/institutional/ventu...  \n",
      "\n",
      "[134 rows x 2 columns]\n"
     ]
    },
    {
     "name": "stderr",
     "output_type": "stream",
     "text": [
      "C:\\Users\\USER\\AppData\\Local\\Temp\\ipykernel_17652\\3827693980.py:19: FutureWarning: The frame.append method is deprecated and will be removed from pandas in a future version. Use pandas.concat instead.\n",
      "  gc = gc.append(Dic, ignore_index=True)\n"
     ]
    },
    {
     "name": "stdout",
     "output_type": "stream",
     "text": [
      "                                      Company  \\\n",
      "0                                         NaN   \n",
      "1                               3Degrees Inc.   \n",
      "2                               3Degrees Inc.   \n",
      "3                          3Phases Renewables   \n",
      "4                          3Phases Renewables   \n",
      "..                                        ...   \n",
      "130                       Idaho Power Company   \n",
      "131  Indianapolis Power & Light Company (AES)   \n",
      "132  Indianapolis Power & Light Company (AES)   \n",
      "133   J.P. Morgan Ventures Energy Corporation   \n",
      "134   J.P. Morgan Ventures Energy Corporation   \n",
      "\n",
      "                                               Website  \n",
      "0                                                  NaN  \n",
      "1                             https://3degreesinc.com/  \n",
      "2                             https://3degreesinc.com/  \n",
      "3                    http://www.3phasesrenewables.com/  \n",
      "4                    http://www.3phasesrenewables.com/  \n",
      "..                                                 ...  \n",
      "130  http://www.idahopower.com/energycenter/greenpo...  \n",
      "131                          https://www.iplpower.com/  \n",
      "132                          https://www.iplpower.com/  \n",
      "133  https://am.jpmorgan.com/us/institutional/ventu...  \n",
      "134  https://am.jpmorgan.com/us/institutional/ventu...  \n",
      "\n",
      "[135 rows x 2 columns]\n"
     ]
    },
    {
     "name": "stderr",
     "output_type": "stream",
     "text": [
      "C:\\Users\\USER\\AppData\\Local\\Temp\\ipykernel_17652\\3827693980.py:19: FutureWarning: The frame.append method is deprecated and will be removed from pandas in a future version. Use pandas.concat instead.\n",
      "  gc = gc.append(Dic, ignore_index=True)\n"
     ]
    },
    {
     "name": "stdout",
     "output_type": "stream",
     "text": [
      "                                      Company  \\\n",
      "0                                         NaN   \n",
      "1                               3Degrees Inc.   \n",
      "2                               3Degrees Inc.   \n",
      "3                          3Phases Renewables   \n",
      "4                          3Phases Renewables   \n",
      "..                                        ...   \n",
      "131  Indianapolis Power & Light Company (AES)   \n",
      "132  Indianapolis Power & Light Company (AES)   \n",
      "133   J.P. Morgan Ventures Energy Corporation   \n",
      "134   J.P. Morgan Ventures Energy Corporation   \n",
      "135                                       JEA   \n",
      "\n",
      "                                               Website  \n",
      "0                                                  NaN  \n",
      "1                             https://3degreesinc.com/  \n",
      "2                             https://3degreesinc.com/  \n",
      "3                    http://www.3phasesrenewables.com/  \n",
      "4                    http://www.3phasesrenewables.com/  \n",
      "..                                                 ...  \n",
      "131                          https://www.iplpower.com/  \n",
      "132                          https://www.iplpower.com/  \n",
      "133  https://am.jpmorgan.com/us/institutional/ventu...  \n",
      "134  https://am.jpmorgan.com/us/institutional/ventu...  \n",
      "135                               https://www.jea.com/  \n",
      "\n",
      "[136 rows x 2 columns]\n"
     ]
    },
    {
     "name": "stderr",
     "output_type": "stream",
     "text": [
      "C:\\Users\\USER\\AppData\\Local\\Temp\\ipykernel_17652\\3827693980.py:19: FutureWarning: The frame.append method is deprecated and will be removed from pandas in a future version. Use pandas.concat instead.\n",
      "  gc = gc.append(Dic, ignore_index=True)\n"
     ]
    },
    {
     "name": "stdout",
     "output_type": "stream",
     "text": [
      "                                      Company  \\\n",
      "0                                         NaN   \n",
      "1                               3Degrees Inc.   \n",
      "2                               3Degrees Inc.   \n",
      "3                          3Phases Renewables   \n",
      "4                          3Phases Renewables   \n",
      "..                                        ...   \n",
      "132  Indianapolis Power & Light Company (AES)   \n",
      "133   J.P. Morgan Ventures Energy Corporation   \n",
      "134   J.P. Morgan Ventures Energy Corporation   \n",
      "135                                       JEA   \n",
      "136                               Just Energy   \n",
      "\n",
      "                                               Website  \n",
      "0                                                  NaN  \n",
      "1                             https://3degreesinc.com/  \n",
      "2                             https://3degreesinc.com/  \n",
      "3                    http://www.3phasesrenewables.com/  \n",
      "4                    http://www.3phasesrenewables.com/  \n",
      "..                                                 ...  \n",
      "132                          https://www.iplpower.com/  \n",
      "133  https://am.jpmorgan.com/us/institutional/ventu...  \n",
      "134  https://am.jpmorgan.com/us/institutional/ventu...  \n",
      "135                               https://www.jea.com/  \n",
      "136                        https://www.justenergy.com/  \n",
      "\n",
      "[137 rows x 2 columns]\n"
     ]
    },
    {
     "name": "stderr",
     "output_type": "stream",
     "text": [
      "C:\\Users\\USER\\AppData\\Local\\Temp\\ipykernel_17652\\3827693980.py:19: FutureWarning: The frame.append method is deprecated and will be removed from pandas in a future version. Use pandas.concat instead.\n",
      "  gc = gc.append(Dic, ignore_index=True)\n"
     ]
    },
    {
     "name": "stdout",
     "output_type": "stream",
     "text": [
      "                                     Company  \\\n",
      "0                                        NaN   \n",
      "1                              3Degrees Inc.   \n",
      "2                              3Degrees Inc.   \n",
      "3                         3Phases Renewables   \n",
      "4                         3Phases Renewables   \n",
      "..                                       ...   \n",
      "133  J.P. Morgan Ventures Energy Corporation   \n",
      "134  J.P. Morgan Ventures Energy Corporation   \n",
      "135                                      JEA   \n",
      "136                              Just Energy   \n",
      "137                              Kiwi Energy   \n",
      "\n",
      "                                               Website  \n",
      "0                                                  NaN  \n",
      "1                             https://3degreesinc.com/  \n",
      "2                             https://3degreesinc.com/  \n",
      "3                    http://www.3phasesrenewables.com/  \n",
      "4                    http://www.3phasesrenewables.com/  \n",
      "..                                                 ...  \n",
      "133  https://am.jpmorgan.com/us/institutional/ventu...  \n",
      "134  https://am.jpmorgan.com/us/institutional/ventu...  \n",
      "135                               https://www.jea.com/  \n",
      "136                        https://www.justenergy.com/  \n",
      "137                             https://kiwienergy.us/  \n",
      "\n",
      "[138 rows x 2 columns]\n"
     ]
    },
    {
     "name": "stderr",
     "output_type": "stream",
     "text": [
      "C:\\Users\\USER\\AppData\\Local\\Temp\\ipykernel_17652\\3827693980.py:19: FutureWarning: The frame.append method is deprecated and will be removed from pandas in a future version. Use pandas.concat instead.\n",
      "  gc = gc.append(Dic, ignore_index=True)\n"
     ]
    },
    {
     "name": "stdout",
     "output_type": "stream",
     "text": [
      "                                     Company  \\\n",
      "0                                        NaN   \n",
      "1                              3Degrees Inc.   \n",
      "2                              3Degrees Inc.   \n",
      "3                         3Phases Renewables   \n",
      "4                         3Phases Renewables   \n",
      "..                                       ...   \n",
      "134  J.P. Morgan Ventures Energy Corporation   \n",
      "135                                      JEA   \n",
      "136                              Just Energy   \n",
      "137                              Kiwi Energy   \n",
      "138                              Kiwi Energy   \n",
      "\n",
      "                                               Website  \n",
      "0                                                  NaN  \n",
      "1                             https://3degreesinc.com/  \n",
      "2                             https://3degreesinc.com/  \n",
      "3                    http://www.3phasesrenewables.com/  \n",
      "4                    http://www.3phasesrenewables.com/  \n",
      "..                                                 ...  \n",
      "134  https://am.jpmorgan.com/us/institutional/ventu...  \n",
      "135                               https://www.jea.com/  \n",
      "136                        https://www.justenergy.com/  \n",
      "137                             https://kiwienergy.us/  \n",
      "138                             https://kiwienergy.us/  \n",
      "\n",
      "[139 rows x 2 columns]\n"
     ]
    },
    {
     "name": "stderr",
     "output_type": "stream",
     "text": [
      "C:\\Users\\USER\\AppData\\Local\\Temp\\ipykernel_17652\\3827693980.py:19: FutureWarning: The frame.append method is deprecated and will be removed from pandas in a future version. Use pandas.concat instead.\n",
      "  gc = gc.append(Dic, ignore_index=True)\n"
     ]
    },
    {
     "name": "stdout",
     "output_type": "stream",
     "text": [
      "                Company                            Website\n",
      "0                   NaN                                NaN\n",
      "1         3Degrees Inc.           https://3degreesinc.com/\n",
      "2         3Degrees Inc.           https://3degreesinc.com/\n",
      "3    3Phases Renewables  http://www.3phasesrenewables.com/\n",
      "4    3Phases Renewables  http://www.3phasesrenewables.com/\n",
      "..                  ...                                ...\n",
      "135                 JEA               https://www.jea.com/\n",
      "136         Just Energy        https://www.justenergy.com/\n",
      "137         Kiwi Energy             https://kiwienergy.us/\n",
      "138         Kiwi Energy             https://kiwienergy.us/\n",
      "139  Kratos Gas & Power                               None\n",
      "\n",
      "[140 rows x 2 columns]\n"
     ]
    },
    {
     "name": "stderr",
     "output_type": "stream",
     "text": [
      "C:\\Users\\USER\\AppData\\Local\\Temp\\ipykernel_17652\\3827693980.py:19: FutureWarning: The frame.append method is deprecated and will be removed from pandas in a future version. Use pandas.concat instead.\n",
      "  gc = gc.append(Dic, ignore_index=True)\n"
     ]
    },
    {
     "name": "stdout",
     "output_type": "stream",
     "text": [
      "                Company                            Website\n",
      "0                   NaN                                NaN\n",
      "1         3Degrees Inc.           https://3degreesinc.com/\n",
      "2         3Degrees Inc.           https://3degreesinc.com/\n",
      "3    3Phases Renewables  http://www.3phasesrenewables.com/\n",
      "4    3Phases Renewables  http://www.3phasesrenewables.com/\n",
      "..                  ...                                ...\n",
      "136         Just Energy        https://www.justenergy.com/\n",
      "137         Kiwi Energy             https://kiwienergy.us/\n",
      "138         Kiwi Energy             https://kiwienergy.us/\n",
      "139  Kratos Gas & Power                               None\n",
      "140  LG&E and KU Energy             http://www.eon-us.com/\n",
      "\n",
      "[141 rows x 2 columns]\n"
     ]
    },
    {
     "name": "stderr",
     "output_type": "stream",
     "text": [
      "C:\\Users\\USER\\AppData\\Local\\Temp\\ipykernel_17652\\3827693980.py:19: FutureWarning: The frame.append method is deprecated and will be removed from pandas in a future version. Use pandas.concat instead.\n",
      "  gc = gc.append(Dic, ignore_index=True)\n"
     ]
    },
    {
     "name": "stdout",
     "output_type": "stream",
     "text": [
      "                Company                            Website\n",
      "0                   NaN                                NaN\n",
      "1         3Degrees Inc.           https://3degreesinc.com/\n",
      "2         3Degrees Inc.           https://3degreesinc.com/\n",
      "3    3Phases Renewables  http://www.3phasesrenewables.com/\n",
      "4    3Phases Renewables  http://www.3phasesrenewables.com/\n",
      "..                  ...                                ...\n",
      "137         Kiwi Energy             https://kiwienergy.us/\n",
      "138         Kiwi Energy             https://kiwienergy.us/\n",
      "139  Kratos Gas & Power                               None\n",
      "140  LG&E and KU Energy             http://www.eon-us.com/\n",
      "141  LG&E and KU Energy             http://www.eon-us.com/\n",
      "\n",
      "[142 rows x 2 columns]\n"
     ]
    },
    {
     "name": "stderr",
     "output_type": "stream",
     "text": [
      "C:\\Users\\USER\\AppData\\Local\\Temp\\ipykernel_17652\\3827693980.py:19: FutureWarning: The frame.append method is deprecated and will be removed from pandas in a future version. Use pandas.concat instead.\n",
      "  gc = gc.append(Dic, ignore_index=True)\n"
     ]
    },
    {
     "name": "stdout",
     "output_type": "stream",
     "text": [
      "                Company                            Website\n",
      "0                   NaN                                NaN\n",
      "1         3Degrees Inc.           https://3degreesinc.com/\n",
      "2         3Degrees Inc.           https://3degreesinc.com/\n",
      "3    3Phases Renewables  http://www.3phasesrenewables.com/\n",
      "4    3Phases Renewables  http://www.3phasesrenewables.com/\n",
      "..                  ...                                ...\n",
      "138         Kiwi Energy             https://kiwienergy.us/\n",
      "139  Kratos Gas & Power                               None\n",
      "140  LG&E and KU Energy             http://www.eon-us.com/\n",
      "141  LG&E and KU Energy             http://www.eon-us.com/\n",
      "142       Liberty Power  https://www.libertypowercorp.com/\n",
      "\n",
      "[143 rows x 2 columns]\n"
     ]
    },
    {
     "name": "stderr",
     "output_type": "stream",
     "text": [
      "C:\\Users\\USER\\AppData\\Local\\Temp\\ipykernel_17652\\3827693980.py:19: FutureWarning: The frame.append method is deprecated and will be removed from pandas in a future version. Use pandas.concat instead.\n",
      "  gc = gc.append(Dic, ignore_index=True)\n"
     ]
    },
    {
     "name": "stdout",
     "output_type": "stream",
     "text": [
      "                Company                            Website\n",
      "0                   NaN                                NaN\n",
      "1         3Degrees Inc.           https://3degreesinc.com/\n",
      "2         3Degrees Inc.           https://3degreesinc.com/\n",
      "3    3Phases Renewables  http://www.3phasesrenewables.com/\n",
      "4    3Phases Renewables  http://www.3phasesrenewables.com/\n",
      "..                  ...                                ...\n",
      "139  Kratos Gas & Power                               None\n",
      "140  LG&E and KU Energy             http://www.eon-us.com/\n",
      "141  LG&E and KU Energy             http://www.eon-us.com/\n",
      "142       Liberty Power  https://www.libertypowercorp.com/\n",
      "143       Liberty Power  https://www.libertypowercorp.com/\n",
      "\n",
      "[144 rows x 2 columns]\n"
     ]
    },
    {
     "name": "stderr",
     "output_type": "stream",
     "text": [
      "C:\\Users\\USER\\AppData\\Local\\Temp\\ipykernel_17652\\3827693980.py:19: FutureWarning: The frame.append method is deprecated and will be removed from pandas in a future version. Use pandas.concat instead.\n",
      "  gc = gc.append(Dic, ignore_index=True)\n"
     ]
    },
    {
     "name": "stdout",
     "output_type": "stream",
     "text": [
      "                Company                            Website\n",
      "0                   NaN                                NaN\n",
      "1         3Degrees Inc.           https://3degreesinc.com/\n",
      "2         3Degrees Inc.           https://3degreesinc.com/\n",
      "3    3Phases Renewables  http://www.3phasesrenewables.com/\n",
      "4    3Phases Renewables  http://www.3phasesrenewables.com/\n",
      "..                  ...                                ...\n",
      "140  LG&E and KU Energy             http://www.eon-us.com/\n",
      "141  LG&E and KU Energy             http://www.eon-us.com/\n",
      "142       Liberty Power  https://www.libertypowercorp.com/\n",
      "143       Liberty Power  https://www.libertypowercorp.com/\n",
      "144       Liberty Power  https://www.libertypowercorp.com/\n",
      "\n",
      "[145 rows x 2 columns]\n"
     ]
    },
    {
     "name": "stderr",
     "output_type": "stream",
     "text": [
      "C:\\Users\\USER\\AppData\\Local\\Temp\\ipykernel_17652\\3827693980.py:19: FutureWarning: The frame.append method is deprecated and will be removed from pandas in a future version. Use pandas.concat instead.\n",
      "  gc = gc.append(Dic, ignore_index=True)\n"
     ]
    },
    {
     "name": "stdout",
     "output_type": "stream",
     "text": [
      "                Company                            Website\n",
      "0                   NaN                                NaN\n",
      "1         3Degrees Inc.           https://3degreesinc.com/\n",
      "2         3Degrees Inc.           https://3degreesinc.com/\n",
      "3    3Phases Renewables  http://www.3phasesrenewables.com/\n",
      "4    3Phases Renewables  http://www.3phasesrenewables.com/\n",
      "..                  ...                                ...\n",
      "141  LG&E and KU Energy             http://www.eon-us.com/\n",
      "142       Liberty Power  https://www.libertypowercorp.com/\n",
      "143       Liberty Power  https://www.libertypowercorp.com/\n",
      "144       Liberty Power  https://www.libertypowercorp.com/\n",
      "145       Liberty Power  https://www.libertypowercorp.com/\n",
      "\n",
      "[146 rows x 2 columns]\n"
     ]
    },
    {
     "name": "stderr",
     "output_type": "stream",
     "text": [
      "C:\\Users\\USER\\AppData\\Local\\Temp\\ipykernel_17652\\3827693980.py:19: FutureWarning: The frame.append method is deprecated and will be removed from pandas in a future version. Use pandas.concat instead.\n",
      "  gc = gc.append(Dic, ignore_index=True)\n"
     ]
    },
    {
     "name": "stdout",
     "output_type": "stream",
     "text": [
      "                Company                            Website\n",
      "0                   NaN                                NaN\n",
      "1         3Degrees Inc.           https://3degreesinc.com/\n",
      "2         3Degrees Inc.           https://3degreesinc.com/\n",
      "3    3Phases Renewables  http://www.3phasesrenewables.com/\n",
      "4    3Phases Renewables  http://www.3phasesrenewables.com/\n",
      "..                  ...                                ...\n",
      "142       Liberty Power  https://www.libertypowercorp.com/\n",
      "143       Liberty Power  https://www.libertypowercorp.com/\n",
      "144       Liberty Power  https://www.libertypowercorp.com/\n",
      "145       Liberty Power  https://www.libertypowercorp.com/\n",
      "146       Liberty Power  https://www.libertypowercorp.com/\n",
      "\n",
      "[147 rows x 2 columns]\n"
     ]
    },
    {
     "name": "stderr",
     "output_type": "stream",
     "text": [
      "C:\\Users\\USER\\AppData\\Local\\Temp\\ipykernel_17652\\3827693980.py:19: FutureWarning: The frame.append method is deprecated and will be removed from pandas in a future version. Use pandas.concat instead.\n",
      "  gc = gc.append(Dic, ignore_index=True)\n"
     ]
    },
    {
     "name": "stdout",
     "output_type": "stream",
     "text": [
      "                           Company                            Website\n",
      "0                              NaN                                NaN\n",
      "1                    3Degrees Inc.           https://3degreesinc.com/\n",
      "2                    3Degrees Inc.           https://3degreesinc.com/\n",
      "3               3Phases Renewables  http://www.3phasesrenewables.com/\n",
      "4               3Phases Renewables  http://www.3phasesrenewables.com/\n",
      "..                             ...                                ...\n",
      "143                  Liberty Power  https://www.libertypowercorp.com/\n",
      "144                  Liberty Power  https://www.libertypowercorp.com/\n",
      "145                  Liberty Power  https://www.libertypowercorp.com/\n",
      "146                  Liberty Power  https://www.libertypowercorp.com/\n",
      "147  Longroad Energy Services, LLC    https://www.longroadenergy.com/\n",
      "\n",
      "[148 rows x 2 columns]\n"
     ]
    },
    {
     "name": "stderr",
     "output_type": "stream",
     "text": [
      "C:\\Users\\USER\\AppData\\Local\\Temp\\ipykernel_17652\\3827693980.py:19: FutureWarning: The frame.append method is deprecated and will be removed from pandas in a future version. Use pandas.concat instead.\n",
      "  gc = gc.append(Dic, ignore_index=True)\n"
     ]
    },
    {
     "name": "stdout",
     "output_type": "stream",
     "text": [
      "                           Company                            Website\n",
      "0                              NaN                                NaN\n",
      "1                    3Degrees Inc.           https://3degreesinc.com/\n",
      "2                    3Degrees Inc.           https://3degreesinc.com/\n",
      "3               3Phases Renewables  http://www.3phasesrenewables.com/\n",
      "4               3Phases Renewables  http://www.3phasesrenewables.com/\n",
      "..                             ...                                ...\n",
      "144                  Liberty Power  https://www.libertypowercorp.com/\n",
      "145                  Liberty Power  https://www.libertypowercorp.com/\n",
      "146                  Liberty Power  https://www.libertypowercorp.com/\n",
      "147  Longroad Energy Services, LLC    https://www.longroadenergy.com/\n",
      "148   Luminant Energy Company, LLC           http://www.luminant.com/\n",
      "\n",
      "[149 rows x 2 columns]\n"
     ]
    },
    {
     "name": "stderr",
     "output_type": "stream",
     "text": [
      "C:\\Users\\USER\\AppData\\Local\\Temp\\ipykernel_17652\\3827693980.py:19: FutureWarning: The frame.append method is deprecated and will be removed from pandas in a future version. Use pandas.concat instead.\n",
      "  gc = gc.append(Dic, ignore_index=True)\n"
     ]
    },
    {
     "name": "stdout",
     "output_type": "stream",
     "text": [
      "                           Company                            Website\n",
      "0                              NaN                                NaN\n",
      "1                    3Degrees Inc.           https://3degreesinc.com/\n",
      "2                    3Degrees Inc.           https://3degreesinc.com/\n",
      "3               3Phases Renewables  http://www.3phasesrenewables.com/\n",
      "4               3Phases Renewables  http://www.3phasesrenewables.com/\n",
      "..                             ...                                ...\n",
      "145                  Liberty Power  https://www.libertypowercorp.com/\n",
      "146                  Liberty Power  https://www.libertypowercorp.com/\n",
      "147  Longroad Energy Services, LLC    https://www.longroadenergy.com/\n",
      "148   Luminant Energy Company, LLC           http://www.luminant.com/\n",
      "149   Luminant Energy Company, LLC           http://www.luminant.com/\n",
      "\n",
      "[150 rows x 2 columns]\n"
     ]
    },
    {
     "name": "stderr",
     "output_type": "stream",
     "text": [
      "C:\\Users\\USER\\AppData\\Local\\Temp\\ipykernel_17652\\3827693980.py:19: FutureWarning: The frame.append method is deprecated and will be removed from pandas in a future version. Use pandas.concat instead.\n",
      "  gc = gc.append(Dic, ignore_index=True)\n"
     ]
    },
    {
     "name": "stdout",
     "output_type": "stream",
     "text": [
      "                           Company                            Website\n",
      "0                              NaN                                NaN\n",
      "1                    3Degrees Inc.           https://3degreesinc.com/\n",
      "2                    3Degrees Inc.           https://3degreesinc.com/\n",
      "3               3Phases Renewables  http://www.3phasesrenewables.com/\n",
      "4               3Phases Renewables  http://www.3phasesrenewables.com/\n",
      "..                             ...                                ...\n",
      "146                  Liberty Power  https://www.libertypowercorp.com/\n",
      "147  Longroad Energy Services, LLC    https://www.longroadenergy.com/\n",
      "148   Luminant Energy Company, LLC           http://www.luminant.com/\n",
      "149   Luminant Energy Company, LLC           http://www.luminant.com/\n",
      "150     MC Squared Energy Services     https://mc2energyservices.com/\n",
      "\n",
      "[151 rows x 2 columns]\n"
     ]
    },
    {
     "name": "stderr",
     "output_type": "stream",
     "text": [
      "C:\\Users\\USER\\AppData\\Local\\Temp\\ipykernel_17652\\3827693980.py:19: FutureWarning: The frame.append method is deprecated and will be removed from pandas in a future version. Use pandas.concat instead.\n",
      "  gc = gc.append(Dic, ignore_index=True)\n"
     ]
    },
    {
     "name": "stdout",
     "output_type": "stream",
     "text": [
      "                           Company                            Website\n",
      "0                              NaN                                NaN\n",
      "1                    3Degrees Inc.           https://3degreesinc.com/\n",
      "2                    3Degrees Inc.           https://3degreesinc.com/\n",
      "3               3Phases Renewables  http://www.3phasesrenewables.com/\n",
      "4               3Phases Renewables  http://www.3phasesrenewables.com/\n",
      "..                             ...                                ...\n",
      "147  Longroad Energy Services, LLC    https://www.longroadenergy.com/\n",
      "148   Luminant Energy Company, LLC           http://www.luminant.com/\n",
      "149   Luminant Energy Company, LLC           http://www.luminant.com/\n",
      "150     MC Squared Energy Services     https://mc2energyservices.com/\n",
      "151     MC Squared Energy Services     https://mc2energyservices.com/\n",
      "\n",
      "[152 rows x 2 columns]\n"
     ]
    },
    {
     "name": "stderr",
     "output_type": "stream",
     "text": [
      "C:\\Users\\USER\\AppData\\Local\\Temp\\ipykernel_17652\\3827693980.py:19: FutureWarning: The frame.append method is deprecated and will be removed from pandas in a future version. Use pandas.concat instead.\n",
      "  gc = gc.append(Dic, ignore_index=True)\n"
     ]
    },
    {
     "name": "stdout",
     "output_type": "stream",
     "text": [
      "                          Company                            Website\n",
      "0                             NaN                                NaN\n",
      "1                   3Degrees Inc.           https://3degreesinc.com/\n",
      "2                   3Degrees Inc.           https://3degreesinc.com/\n",
      "3              3Phases Renewables  http://www.3phasesrenewables.com/\n",
      "4              3Phases Renewables  http://www.3phasesrenewables.com/\n",
      "..                            ...                                ...\n",
      "148  Luminant Energy Company, LLC           http://www.luminant.com/\n",
      "149  Luminant Energy Company, LLC           http://www.luminant.com/\n",
      "150    MC Squared Energy Services     https://mc2energyservices.com/\n",
      "151    MC Squared Energy Services     https://mc2energyservices.com/\n",
      "152      MCE (Marin Clean Energy)    https://www.mcecleanenergy.org/\n",
      "\n",
      "[153 rows x 2 columns]\n"
     ]
    },
    {
     "name": "stderr",
     "output_type": "stream",
     "text": [
      "C:\\Users\\USER\\AppData\\Local\\Temp\\ipykernel_17652\\3827693980.py:19: FutureWarning: The frame.append method is deprecated and will be removed from pandas in a future version. Use pandas.concat instead.\n",
      "  gc = gc.append(Dic, ignore_index=True)\n"
     ]
    },
    {
     "name": "stdout",
     "output_type": "stream",
     "text": [
      "                            Company                            Website\n",
      "0                               NaN                                NaN\n",
      "1                     3Degrees Inc.           https://3degreesinc.com/\n",
      "2                     3Degrees Inc.           https://3degreesinc.com/\n",
      "3                3Phases Renewables  http://www.3phasesrenewables.com/\n",
      "4                3Phases Renewables  http://www.3phasesrenewables.com/\n",
      "..                              ...                                ...\n",
      "149    Luminant Energy Company, LLC           http://www.luminant.com/\n",
      "150      MC Squared Energy Services     https://mc2energyservices.com/\n",
      "151      MC Squared Energy Services     https://mc2energyservices.com/\n",
      "152        MCE (Marin Clean Energy)    https://www.mcecleanenergy.org/\n",
      "153  Merrill Lynch Commodities Inc.                               None\n",
      "\n",
      "[154 rows x 2 columns]\n"
     ]
    },
    {
     "name": "stderr",
     "output_type": "stream",
     "text": [
      "C:\\Users\\USER\\AppData\\Local\\Temp\\ipykernel_17652\\3827693980.py:19: FutureWarning: The frame.append method is deprecated and will be removed from pandas in a future version. Use pandas.concat instead.\n",
      "  gc = gc.append(Dic, ignore_index=True)\n"
     ]
    },
    {
     "name": "stdout",
     "output_type": "stream",
     "text": [
      "                            Company                               Website\n",
      "0                               NaN                                   NaN\n",
      "1                     3Degrees Inc.              https://3degreesinc.com/\n",
      "2                     3Degrees Inc.              https://3degreesinc.com/\n",
      "3                3Phases Renewables     http://www.3phasesrenewables.com/\n",
      "4                3Phases Renewables     http://www.3phasesrenewables.com/\n",
      "..                              ...                                   ...\n",
      "150      MC Squared Energy Services        https://mc2energyservices.com/\n",
      "151      MC Squared Energy Services        https://mc2energyservices.com/\n",
      "152        MCE (Marin Clean Energy)       https://www.mcecleanenergy.org/\n",
      "153  Merrill Lynch Commodities Inc.                                  None\n",
      "154      Mesquite Star Special, LLC  https://www.clearwayenergygroup.com/\n",
      "\n",
      "[155 rows x 2 columns]\n"
     ]
    },
    {
     "name": "stderr",
     "output_type": "stream",
     "text": [
      "C:\\Users\\USER\\AppData\\Local\\Temp\\ipykernel_17652\\3827693980.py:19: FutureWarning: The frame.append method is deprecated and will be removed from pandas in a future version. Use pandas.concat instead.\n",
      "  gc = gc.append(Dic, ignore_index=True)\n"
     ]
    },
    {
     "name": "stdout",
     "output_type": "stream",
     "text": [
      "                            Company  \\\n",
      "0                               NaN   \n",
      "1                     3Degrees Inc.   \n",
      "2                     3Degrees Inc.   \n",
      "3                3Phases Renewables   \n",
      "4                3Phases Renewables   \n",
      "..                              ...   \n",
      "151      MC Squared Energy Services   \n",
      "152        MCE (Marin Clean Energy)   \n",
      "153  Merrill Lynch Commodities Inc.   \n",
      "154      Mesquite Star Special, LLC   \n",
      "155     MidAmerican Energy Services   \n",
      "\n",
      "                                        Website  \n",
      "0                                           NaN  \n",
      "1                      https://3degreesinc.com/  \n",
      "2                      https://3degreesinc.com/  \n",
      "3             http://www.3phasesrenewables.com/  \n",
      "4             http://www.3phasesrenewables.com/  \n",
      "..                                          ...  \n",
      "151              https://mc2energyservices.com/  \n",
      "152             https://www.mcecleanenergy.org/  \n",
      "153                                        None  \n",
      "154        https://www.clearwayenergygroup.com/  \n",
      "155  https://www.midamericanenergyservices.com/  \n",
      "\n",
      "[156 rows x 2 columns]\n"
     ]
    },
    {
     "name": "stderr",
     "output_type": "stream",
     "text": [
      "C:\\Users\\USER\\AppData\\Local\\Temp\\ipykernel_17652\\3827693980.py:19: FutureWarning: The frame.append method is deprecated and will be removed from pandas in a future version. Use pandas.concat instead.\n",
      "  gc = gc.append(Dic, ignore_index=True)\n"
     ]
    },
    {
     "name": "stdout",
     "output_type": "stream",
     "text": [
      "                            Company  \\\n",
      "0                               NaN   \n",
      "1                     3Degrees Inc.   \n",
      "2                     3Degrees Inc.   \n",
      "3                3Phases Renewables   \n",
      "4                3Phases Renewables   \n",
      "..                              ...   \n",
      "152        MCE (Marin Clean Energy)   \n",
      "153  Merrill Lynch Commodities Inc.   \n",
      "154      Mesquite Star Special, LLC   \n",
      "155     MidAmerican Energy Services   \n",
      "156     MidAmerican Energy Services   \n",
      "\n",
      "                                        Website  \n",
      "0                                           NaN  \n",
      "1                      https://3degreesinc.com/  \n",
      "2                      https://3degreesinc.com/  \n",
      "3             http://www.3phasesrenewables.com/  \n",
      "4             http://www.3phasesrenewables.com/  \n",
      "..                                          ...  \n",
      "152             https://www.mcecleanenergy.org/  \n",
      "153                                        None  \n",
      "154        https://www.clearwayenergygroup.com/  \n",
      "155  https://www.midamericanenergyservices.com/  \n",
      "156  https://www.midamericanenergyservices.com/  \n",
      "\n",
      "[157 rows x 2 columns]\n"
     ]
    },
    {
     "name": "stderr",
     "output_type": "stream",
     "text": [
      "C:\\Users\\USER\\AppData\\Local\\Temp\\ipykernel_17652\\3827693980.py:19: FutureWarning: The frame.append method is deprecated and will be removed from pandas in a future version. Use pandas.concat instead.\n",
      "  gc = gc.append(Dic, ignore_index=True)\n"
     ]
    },
    {
     "name": "stdout",
     "output_type": "stream",
     "text": [
      "                            Company  \\\n",
      "0                               NaN   \n",
      "1                     3Degrees Inc.   \n",
      "2                     3Degrees Inc.   \n",
      "3                3Phases Renewables   \n",
      "4                3Phases Renewables   \n",
      "..                              ...   \n",
      "153  Merrill Lynch Commodities Inc.   \n",
      "154      Mesquite Star Special, LLC   \n",
      "155     MidAmerican Energy Services   \n",
      "156     MidAmerican Energy Services   \n",
      "157            Moffett Solar 1, LLC   \n",
      "\n",
      "                                               Website  \n",
      "0                                                  NaN  \n",
      "1                             https://3degreesinc.com/  \n",
      "2                             https://3degreesinc.com/  \n",
      "3                    http://www.3phasesrenewables.com/  \n",
      "4                    http://www.3phasesrenewables.com/  \n",
      "..                                                 ...  \n",
      "153                                               None  \n",
      "154               https://www.clearwayenergygroup.com/  \n",
      "155         https://www.midamericanenergyservices.com/  \n",
      "156         https://www.midamericanenergyservices.com/  \n",
      "157  https://www.dominionenergy.com/about-us/who-we...  \n",
      "\n",
      "[158 rows x 2 columns]\n"
     ]
    },
    {
     "name": "stderr",
     "output_type": "stream",
     "text": [
      "C:\\Users\\USER\\AppData\\Local\\Temp\\ipykernel_17652\\3827693980.py:19: FutureWarning: The frame.append method is deprecated and will be removed from pandas in a future version. Use pandas.concat instead.\n",
      "  gc = gc.append(Dic, ignore_index=True)\n"
     ]
    },
    {
     "name": "stdout",
     "output_type": "stream",
     "text": [
      "                         Company  \\\n",
      "0                            NaN   \n",
      "1                  3Degrees Inc.   \n",
      "2                  3Degrees Inc.   \n",
      "3             3Phases Renewables   \n",
      "4             3Phases Renewables   \n",
      "..                           ...   \n",
      "154   Mesquite Star Special, LLC   \n",
      "155  MidAmerican Energy Services   \n",
      "156  MidAmerican Energy Services   \n",
      "157         Moffett Solar 1, LLC   \n",
      "158             Mozart Wind, LLC   \n",
      "\n",
      "                                               Website  \n",
      "0                                                  NaN  \n",
      "1                             https://3degreesinc.com/  \n",
      "2                             https://3degreesinc.com/  \n",
      "3                    http://www.3phasesrenewables.com/  \n",
      "4                    http://www.3phasesrenewables.com/  \n",
      "..                                                 ...  \n",
      "154               https://www.clearwayenergygroup.com/  \n",
      "155         https://www.midamericanenergyservices.com/  \n",
      "156         https://www.midamericanenergyservices.com/  \n",
      "157  https://www.dominionenergy.com/about-us/who-we...  \n",
      "158                                               None  \n",
      "\n",
      "[159 rows x 2 columns]\n"
     ]
    },
    {
     "name": "stderr",
     "output_type": "stream",
     "text": [
      "C:\\Users\\USER\\AppData\\Local\\Temp\\ipykernel_17652\\3827693980.py:19: FutureWarning: The frame.append method is deprecated and will be removed from pandas in a future version. Use pandas.concat instead.\n",
      "  gc = gc.append(Dic, ignore_index=True)\n"
     ]
    },
    {
     "name": "stdout",
     "output_type": "stream",
     "text": [
      "                         Company  \\\n",
      "0                            NaN   \n",
      "1                  3Degrees Inc.   \n",
      "2                  3Degrees Inc.   \n",
      "3             3Phases Renewables   \n",
      "4             3Phases Renewables   \n",
      "..                           ...   \n",
      "155  MidAmerican Energy Services   \n",
      "156  MidAmerican Energy Services   \n",
      "157         Moffett Solar 1, LLC   \n",
      "158             Mozart Wind, LLC   \n",
      "159                   MP2 Energy   \n",
      "\n",
      "                                               Website  \n",
      "0                                                  NaN  \n",
      "1                             https://3degreesinc.com/  \n",
      "2                             https://3degreesinc.com/  \n",
      "3                    http://www.3phasesrenewables.com/  \n",
      "4                    http://www.3phasesrenewables.com/  \n",
      "..                                                 ...  \n",
      "155         https://www.midamericanenergyservices.com/  \n",
      "156         https://www.midamericanenergyservices.com/  \n",
      "157  https://www.dominionenergy.com/about-us/who-we...  \n",
      "158                                               None  \n",
      "159                          http://www.mp2energy.com/  \n",
      "\n",
      "[160 rows x 2 columns]\n"
     ]
    },
    {
     "name": "stderr",
     "output_type": "stream",
     "text": [
      "C:\\Users\\USER\\AppData\\Local\\Temp\\ipykernel_17652\\3827693980.py:19: FutureWarning: The frame.append method is deprecated and will be removed from pandas in a future version. Use pandas.concat instead.\n",
      "  gc = gc.append(Dic, ignore_index=True)\n"
     ]
    },
    {
     "name": "stdout",
     "output_type": "stream",
     "text": [
      "                         Company  \\\n",
      "0                            NaN   \n",
      "1                  3Degrees Inc.   \n",
      "2                  3Degrees Inc.   \n",
      "3             3Phases Renewables   \n",
      "4             3Phases Renewables   \n",
      "..                           ...   \n",
      "156  MidAmerican Energy Services   \n",
      "157         Moffett Solar 1, LLC   \n",
      "158             Mozart Wind, LLC   \n",
      "159                   MP2 Energy   \n",
      "160    Muscatine Power and Water   \n",
      "\n",
      "                                               Website  \n",
      "0                                                  NaN  \n",
      "1                             https://3degreesinc.com/  \n",
      "2                             https://3degreesinc.com/  \n",
      "3                    http://www.3phasesrenewables.com/  \n",
      "4                    http://www.3phasesrenewables.com/  \n",
      "..                                                 ...  \n",
      "156         https://www.midamericanenergyservices.com/  \n",
      "157  https://www.dominionenergy.com/about-us/who-we...  \n",
      "158                                               None  \n",
      "159                          http://www.mp2energy.com/  \n",
      "160                               https://www.mpw.org/  \n",
      "\n",
      "[161 rows x 2 columns]\n"
     ]
    },
    {
     "name": "stderr",
     "output_type": "stream",
     "text": [
      "C:\\Users\\USER\\AppData\\Local\\Temp\\ipykernel_17652\\3827693980.py:19: FutureWarning: The frame.append method is deprecated and will be removed from pandas in a future version. Use pandas.concat instead.\n",
      "  gc = gc.append(Dic, ignore_index=True)\n"
     ]
    },
    {
     "name": "stdout",
     "output_type": "stream",
     "text": [
      "                       Company  \\\n",
      "0                          NaN   \n",
      "1                3Degrees Inc.   \n",
      "2                3Degrees Inc.   \n",
      "3           3Phases Renewables   \n",
      "4           3Phases Renewables   \n",
      "..                         ...   \n",
      "157       Moffett Solar 1, LLC   \n",
      "158           Mozart Wind, LLC   \n",
      "159                 MP2 Energy   \n",
      "160  Muscatine Power and Water   \n",
      "161  Muscatine Power and Water   \n",
      "\n",
      "                                               Website  \n",
      "0                                                  NaN  \n",
      "1                             https://3degreesinc.com/  \n",
      "2                             https://3degreesinc.com/  \n",
      "3                    http://www.3phasesrenewables.com/  \n",
      "4                    http://www.3phasesrenewables.com/  \n",
      "..                                                 ...  \n",
      "157  https://www.dominionenergy.com/about-us/who-we...  \n",
      "158                                               None  \n",
      "159                          http://www.mp2energy.com/  \n",
      "160                               https://www.mpw.org/  \n",
      "161                               https://www.mpw.org/  \n",
      "\n",
      "[162 rows x 2 columns]\n"
     ]
    },
    {
     "name": "stderr",
     "output_type": "stream",
     "text": [
      "C:\\Users\\USER\\AppData\\Local\\Temp\\ipykernel_17652\\3827693980.py:19: FutureWarning: The frame.append method is deprecated and will be removed from pandas in a future version. Use pandas.concat instead.\n",
      "  gc = gc.append(Dic, ignore_index=True)\n"
     ]
    },
    {
     "name": "stdout",
     "output_type": "stream",
     "text": [
      "                       Company                              Website\n",
      "0                          NaN                                  NaN\n",
      "1                3Degrees Inc.             https://3degreesinc.com/\n",
      "2                3Degrees Inc.             https://3degreesinc.com/\n",
      "3           3Phases Renewables    http://www.3phasesrenewables.com/\n",
      "4           3Phases Renewables    http://www.3phasesrenewables.com/\n",
      "..                         ...                                  ...\n",
      "158           Mozart Wind, LLC                                 None\n",
      "159                 MP2 Energy            http://www.mp2energy.com/\n",
      "160  Muscatine Power and Water                 https://www.mpw.org/\n",
      "161  Muscatine Power and Water                 https://www.mpw.org/\n",
      "162   National Grid Renewables  https://nationalgridrenewables.com/\n",
      "\n",
      "[163 rows x 2 columns]\n"
     ]
    },
    {
     "name": "stderr",
     "output_type": "stream",
     "text": [
      "C:\\Users\\USER\\AppData\\Local\\Temp\\ipykernel_17652\\3827693980.py:19: FutureWarning: The frame.append method is deprecated and will be removed from pandas in a future version. Use pandas.concat instead.\n",
      "  gc = gc.append(Dic, ignore_index=True)\n"
     ]
    },
    {
     "name": "stdout",
     "output_type": "stream",
     "text": [
      "                       Company                              Website\n",
      "0                          NaN                                  NaN\n",
      "1                3Degrees Inc.             https://3degreesinc.com/\n",
      "2                3Degrees Inc.             https://3degreesinc.com/\n",
      "3           3Phases Renewables    http://www.3phasesrenewables.com/\n",
      "4           3Phases Renewables    http://www.3phasesrenewables.com/\n",
      "..                         ...                                  ...\n",
      "159                 MP2 Energy            http://www.mp2energy.com/\n",
      "160  Muscatine Power and Water                 https://www.mpw.org/\n",
      "161  Muscatine Power and Water                 https://www.mpw.org/\n",
      "162   National Grid Renewables  https://nationalgridrenewables.com/\n",
      "163   National Grid Renewables  https://nationalgridrenewables.com/\n",
      "\n",
      "[164 rows x 2 columns]\n"
     ]
    },
    {
     "name": "stderr",
     "output_type": "stream",
     "text": [
      "C:\\Users\\USER\\AppData\\Local\\Temp\\ipykernel_17652\\3827693980.py:19: FutureWarning: The frame.append method is deprecated and will be removed from pandas in a future version. Use pandas.concat instead.\n",
      "  gc = gc.append(Dic, ignore_index=True)\n"
     ]
    },
    {
     "name": "stdout",
     "output_type": "stream",
     "text": [
      "                       Company                              Website\n",
      "0                          NaN                                  NaN\n",
      "1                3Degrees Inc.             https://3degreesinc.com/\n",
      "2                3Degrees Inc.             https://3degreesinc.com/\n",
      "3           3Phases Renewables    http://www.3phasesrenewables.com/\n",
      "4           3Phases Renewables    http://www.3phasesrenewables.com/\n",
      "..                         ...                                  ...\n",
      "160  Muscatine Power and Water                 https://www.mpw.org/\n",
      "161  Muscatine Power and Water                 https://www.mpw.org/\n",
      "162   National Grid Renewables  https://nationalgridrenewables.com/\n",
      "163   National Grid Renewables  https://nationalgridrenewables.com/\n",
      "164               NativeEnergy         http://www.nativeenergy.com/\n",
      "\n",
      "[165 rows x 2 columns]\n"
     ]
    },
    {
     "name": "stderr",
     "output_type": "stream",
     "text": [
      "C:\\Users\\USER\\AppData\\Local\\Temp\\ipykernel_17652\\3827693980.py:19: FutureWarning: The frame.append method is deprecated and will be removed from pandas in a future version. Use pandas.concat instead.\n",
      "  gc = gc.append(Dic, ignore_index=True)\n"
     ]
    },
    {
     "name": "stdout",
     "output_type": "stream",
     "text": [
      "                       Company                              Website\n",
      "0                          NaN                                  NaN\n",
      "1                3Degrees Inc.             https://3degreesinc.com/\n",
      "2                3Degrees Inc.             https://3degreesinc.com/\n",
      "3           3Phases Renewables    http://www.3phasesrenewables.com/\n",
      "4           3Phases Renewables    http://www.3phasesrenewables.com/\n",
      "..                         ...                                  ...\n",
      "161  Muscatine Power and Water                 https://www.mpw.org/\n",
      "162   National Grid Renewables  https://nationalgridrenewables.com/\n",
      "163   National Grid Renewables  https://nationalgridrenewables.com/\n",
      "164               NativeEnergy         http://www.nativeenergy.com/\n",
      "165               NativeEnergy         http://www.nativeenergy.com/\n",
      "\n",
      "[166 rows x 2 columns]\n"
     ]
    },
    {
     "name": "stderr",
     "output_type": "stream",
     "text": [
      "C:\\Users\\USER\\AppData\\Local\\Temp\\ipykernel_17652\\3827693980.py:19: FutureWarning: The frame.append method is deprecated and will be removed from pandas in a future version. Use pandas.concat instead.\n",
      "  gc = gc.append(Dic, ignore_index=True)\n"
     ]
    },
    {
     "name": "stdout",
     "output_type": "stream",
     "text": [
      "                      Company                                  Website\n",
      "0                         NaN                                      NaN\n",
      "1               3Degrees Inc.                 https://3degreesinc.com/\n",
      "2               3Degrees Inc.                 https://3degreesinc.com/\n",
      "3          3Phases Renewables        http://www.3phasesrenewables.com/\n",
      "4          3Phases Renewables        http://www.3phasesrenewables.com/\n",
      "..                        ...                                      ...\n",
      "162  National Grid Renewables      https://nationalgridrenewables.com/\n",
      "163  National Grid Renewables      https://nationalgridrenewables.com/\n",
      "164              NativeEnergy             http://www.nativeenergy.com/\n",
      "165              NativeEnergy             http://www.nativeenergy.com/\n",
      "166  Natural Capital Partners  https://www.naturalcapitalpartners.com/\n",
      "\n",
      "[167 rows x 2 columns]\n"
     ]
    },
    {
     "name": "stderr",
     "output_type": "stream",
     "text": [
      "C:\\Users\\USER\\AppData\\Local\\Temp\\ipykernel_17652\\3827693980.py:19: FutureWarning: The frame.append method is deprecated and will be removed from pandas in a future version. Use pandas.concat instead.\n",
      "  gc = gc.append(Dic, ignore_index=True)\n"
     ]
    },
    {
     "name": "stdout",
     "output_type": "stream",
     "text": [
      "                      Company                                  Website\n",
      "0                         NaN                                      NaN\n",
      "1               3Degrees Inc.                 https://3degreesinc.com/\n",
      "2               3Degrees Inc.                 https://3degreesinc.com/\n",
      "3          3Phases Renewables        http://www.3phasesrenewables.com/\n",
      "4          3Phases Renewables        http://www.3phasesrenewables.com/\n",
      "..                        ...                                      ...\n",
      "163  National Grid Renewables      https://nationalgridrenewables.com/\n",
      "164              NativeEnergy             http://www.nativeenergy.com/\n",
      "165              NativeEnergy             http://www.nativeenergy.com/\n",
      "166  Natural Capital Partners  https://www.naturalcapitalpartners.com/\n",
      "167  Natural Capital Partners  https://www.naturalcapitalpartners.com/\n",
      "\n",
      "[168 rows x 2 columns]\n"
     ]
    },
    {
     "name": "stderr",
     "output_type": "stream",
     "text": [
      "C:\\Users\\USER\\AppData\\Local\\Temp\\ipykernel_17652\\3827693980.py:19: FutureWarning: The frame.append method is deprecated and will be removed from pandas in a future version. Use pandas.concat instead.\n",
      "  gc = gc.append(Dic, ignore_index=True)\n"
     ]
    },
    {
     "name": "stdout",
     "output_type": "stream",
     "text": [
      "                            Company                                  Website\n",
      "0                               NaN                                      NaN\n",
      "1                     3Degrees Inc.                 https://3degreesinc.com/\n",
      "2                     3Degrees Inc.                 https://3degreesinc.com/\n",
      "3                3Phases Renewables        http://www.3phasesrenewables.com/\n",
      "4                3Phases Renewables        http://www.3phasesrenewables.com/\n",
      "..                              ...                                      ...\n",
      "164                    NativeEnergy             http://www.nativeenergy.com/\n",
      "165                    NativeEnergy             http://www.nativeenergy.com/\n",
      "166        Natural Capital Partners  https://www.naturalcapitalpartners.com/\n",
      "167        Natural Capital Partners  https://www.naturalcapitalpartners.com/\n",
      "168  New Brunswick Energy Marketing                 https://www.nbpower.com/\n",
      "\n",
      "[169 rows x 2 columns]\n"
     ]
    },
    {
     "name": "stderr",
     "output_type": "stream",
     "text": [
      "C:\\Users\\USER\\AppData\\Local\\Temp\\ipykernel_17652\\3827693980.py:19: FutureWarning: The frame.append method is deprecated and will be removed from pandas in a future version. Use pandas.concat instead.\n",
      "  gc = gc.append(Dic, ignore_index=True)\n"
     ]
    },
    {
     "name": "stdout",
     "output_type": "stream",
     "text": [
      "                            Company  \\\n",
      "0                               NaN   \n",
      "1                     3Degrees Inc.   \n",
      "2                     3Degrees Inc.   \n",
      "3                3Phases Renewables   \n",
      "4                3Phases Renewables   \n",
      "..                              ...   \n",
      "165                    NativeEnergy   \n",
      "166        Natural Capital Partners   \n",
      "167        Natural Capital Partners   \n",
      "168  New Brunswick Energy Marketing   \n",
      "169        NextEra Energy Resources   \n",
      "\n",
      "                                               Website  \n",
      "0                                                  NaN  \n",
      "1                             https://3degreesinc.com/  \n",
      "2                             https://3degreesinc.com/  \n",
      "3                    http://www.3phasesrenewables.com/  \n",
      "4                    http://www.3phasesrenewables.com/  \n",
      "..                                                 ...  \n",
      "165                       http://www.nativeenergy.com/  \n",
      "166            https://www.naturalcapitalpartners.com/  \n",
      "167            https://www.naturalcapitalpartners.com/  \n",
      "168                           https://www.nbpower.com/  \n",
      "169  http://www.nexteraenergyresources.com/home/ind...  \n",
      "\n",
      "[170 rows x 2 columns]\n"
     ]
    },
    {
     "name": "stderr",
     "output_type": "stream",
     "text": [
      "C:\\Users\\USER\\AppData\\Local\\Temp\\ipykernel_17652\\3827693980.py:19: FutureWarning: The frame.append method is deprecated and will be removed from pandas in a future version. Use pandas.concat instead.\n",
      "  gc = gc.append(Dic, ignore_index=True)\n"
     ]
    },
    {
     "name": "stdout",
     "output_type": "stream",
     "text": [
      "                            Company  \\\n",
      "0                               NaN   \n",
      "1                     3Degrees Inc.   \n",
      "2                     3Degrees Inc.   \n",
      "3                3Phases Renewables   \n",
      "4                3Phases Renewables   \n",
      "..                              ...   \n",
      "166        Natural Capital Partners   \n",
      "167        Natural Capital Partners   \n",
      "168  New Brunswick Energy Marketing   \n",
      "169        NextEra Energy Resources   \n",
      "170        NextEra Energy Resources   \n",
      "\n",
      "                                               Website  \n",
      "0                                                  NaN  \n",
      "1                             https://3degreesinc.com/  \n",
      "2                             https://3degreesinc.com/  \n",
      "3                    http://www.3phasesrenewables.com/  \n",
      "4                    http://www.3phasesrenewables.com/  \n",
      "..                                                 ...  \n",
      "166            https://www.naturalcapitalpartners.com/  \n",
      "167            https://www.naturalcapitalpartners.com/  \n",
      "168                           https://www.nbpower.com/  \n",
      "169  http://www.nexteraenergyresources.com/home/ind...  \n",
      "170  http://www.nexteraenergyresources.com/home/ind...  \n",
      "\n",
      "[171 rows x 2 columns]\n"
     ]
    },
    {
     "name": "stderr",
     "output_type": "stream",
     "text": [
      "C:\\Users\\USER\\AppData\\Local\\Temp\\ipykernel_17652\\3827693980.py:19: FutureWarning: The frame.append method is deprecated and will be removed from pandas in a future version. Use pandas.concat instead.\n",
      "  gc = gc.append(Dic, ignore_index=True)\n"
     ]
    },
    {
     "name": "stdout",
     "output_type": "stream",
     "text": [
      "                                              Company  \\\n",
      "0                                                 NaN   \n",
      "1                                       3Degrees Inc.   \n",
      "2                                       3Degrees Inc.   \n",
      "3                                  3Phases Renewables   \n",
      "4                                  3Phases Renewables   \n",
      "..                                                ...   \n",
      "167                          Natural Capital Partners   \n",
      "168                    New Brunswick Energy Marketing   \n",
      "169                          NextEra Energy Resources   \n",
      "170                          NextEra Energy Resources   \n",
      "171  Northern Indiana Public Service Company (NIPSCO)   \n",
      "\n",
      "                                               Website  \n",
      "0                                                  NaN  \n",
      "1                             https://3degreesinc.com/  \n",
      "2                             https://3degreesinc.com/  \n",
      "3                    http://www.3phasesrenewables.com/  \n",
      "4                    http://www.3phasesrenewables.com/  \n",
      "..                                                 ...  \n",
      "167            https://www.naturalcapitalpartners.com/  \n",
      "168                           https://www.nbpower.com/  \n",
      "169  http://www.nexteraenergyresources.com/home/ind...  \n",
      "170  http://www.nexteraenergyresources.com/home/ind...  \n",
      "171                            https://www.nipsco.com/  \n",
      "\n",
      "[172 rows x 2 columns]\n"
     ]
    },
    {
     "name": "stderr",
     "output_type": "stream",
     "text": [
      "C:\\Users\\USER\\AppData\\Local\\Temp\\ipykernel_17652\\3827693980.py:19: FutureWarning: The frame.append method is deprecated and will be removed from pandas in a future version. Use pandas.concat instead.\n",
      "  gc = gc.append(Dic, ignore_index=True)\n"
     ]
    },
    {
     "name": "stdout",
     "output_type": "stream",
     "text": [
      "                                              Company  \\\n",
      "0                                                 NaN   \n",
      "1                                       3Degrees Inc.   \n",
      "2                                       3Degrees Inc.   \n",
      "3                                  3Phases Renewables   \n",
      "4                                  3Phases Renewables   \n",
      "..                                                ...   \n",
      "168                    New Brunswick Energy Marketing   \n",
      "169                          NextEra Energy Resources   \n",
      "170                          NextEra Energy Resources   \n",
      "171  Northern Indiana Public Service Company (NIPSCO)   \n",
      "172  Northern Indiana Public Service Company (NIPSCO)   \n",
      "\n",
      "                                               Website  \n",
      "0                                                  NaN  \n",
      "1                             https://3degreesinc.com/  \n",
      "2                             https://3degreesinc.com/  \n",
      "3                    http://www.3phasesrenewables.com/  \n",
      "4                    http://www.3phasesrenewables.com/  \n",
      "..                                                 ...  \n",
      "168                           https://www.nbpower.com/  \n",
      "169  http://www.nexteraenergyresources.com/home/ind...  \n",
      "170  http://www.nexteraenergyresources.com/home/ind...  \n",
      "171                            https://www.nipsco.com/  \n",
      "172                            https://www.nipsco.com/  \n",
      "\n",
      "[173 rows x 2 columns]\n"
     ]
    },
    {
     "name": "stderr",
     "output_type": "stream",
     "text": [
      "C:\\Users\\USER\\AppData\\Local\\Temp\\ipykernel_17652\\3827693980.py:19: FutureWarning: The frame.append method is deprecated and will be removed from pandas in a future version. Use pandas.concat instead.\n",
      "  gc = gc.append(Dic, ignore_index=True)\n"
     ]
    },
    {
     "name": "stdout",
     "output_type": "stream",
     "text": [
      "                                              Company  \\\n",
      "0                                                 NaN   \n",
      "1                                       3Degrees Inc.   \n",
      "2                                       3Degrees Inc.   \n",
      "3                                  3Phases Renewables   \n",
      "4                                  3Phases Renewables   \n",
      "..                                                ...   \n",
      "169                          NextEra Energy Resources   \n",
      "170                          NextEra Energy Resources   \n",
      "171  Northern Indiana Public Service Company (NIPSCO)   \n",
      "172  Northern Indiana Public Service Company (NIPSCO)   \n",
      "173                            NRG Business Solutions   \n",
      "\n",
      "                                               Website  \n",
      "0                                                  NaN  \n",
      "1                             https://3degreesinc.com/  \n",
      "2                             https://3degreesinc.com/  \n",
      "3                    http://www.3phasesrenewables.com/  \n",
      "4                    http://www.3phasesrenewables.com/  \n",
      "..                                                 ...  \n",
      "169  http://www.nexteraenergyresources.com/home/ind...  \n",
      "170  http://www.nexteraenergyresources.com/home/ind...  \n",
      "171                            https://www.nipsco.com/  \n",
      "172                            https://www.nipsco.com/  \n",
      "173                       http://www.nrg.com/business/  \n",
      "\n",
      "[174 rows x 2 columns]\n"
     ]
    },
    {
     "name": "stderr",
     "output_type": "stream",
     "text": [
      "C:\\Users\\USER\\AppData\\Local\\Temp\\ipykernel_17652\\3827693980.py:19: FutureWarning: The frame.append method is deprecated and will be removed from pandas in a future version. Use pandas.concat instead.\n",
      "  gc = gc.append(Dic, ignore_index=True)\n"
     ]
    },
    {
     "name": "stdout",
     "output_type": "stream",
     "text": [
      "                                              Company  \\\n",
      "0                                                 NaN   \n",
      "1                                       3Degrees Inc.   \n",
      "2                                       3Degrees Inc.   \n",
      "3                                  3Phases Renewables   \n",
      "4                                  3Phases Renewables   \n",
      "..                                                ...   \n",
      "170                          NextEra Energy Resources   \n",
      "171  Northern Indiana Public Service Company (NIPSCO)   \n",
      "172  Northern Indiana Public Service Company (NIPSCO)   \n",
      "173                            NRG Business Solutions   \n",
      "174                                         NV Energy   \n",
      "\n",
      "                                               Website  \n",
      "0                                                  NaN  \n",
      "1                             https://3degreesinc.com/  \n",
      "2                             https://3degreesinc.com/  \n",
      "3                    http://www.3phasesrenewables.com/  \n",
      "4                    http://www.3phasesrenewables.com/  \n",
      "..                                                 ...  \n",
      "170  http://www.nexteraenergyresources.com/home/ind...  \n",
      "171                            https://www.nipsco.com/  \n",
      "172                            https://www.nipsco.com/  \n",
      "173                       http://www.nrg.com/business/  \n",
      "174                          https://www.nvenergy.com/  \n",
      "\n",
      "[175 rows x 2 columns]\n"
     ]
    },
    {
     "name": "stderr",
     "output_type": "stream",
     "text": [
      "C:\\Users\\USER\\AppData\\Local\\Temp\\ipykernel_17652\\3827693980.py:19: FutureWarning: The frame.append method is deprecated and will be removed from pandas in a future version. Use pandas.concat instead.\n",
      "  gc = gc.append(Dic, ignore_index=True)\n"
     ]
    },
    {
     "name": "stdout",
     "output_type": "stream",
     "text": [
      "                                              Company  \\\n",
      "0                                                 NaN   \n",
      "1                                       3Degrees Inc.   \n",
      "2                                       3Degrees Inc.   \n",
      "3                                  3Phases Renewables   \n",
      "4                                  3Phases Renewables   \n",
      "..                                                ...   \n",
      "171  Northern Indiana Public Service Company (NIPSCO)   \n",
      "172  Northern Indiana Public Service Company (NIPSCO)   \n",
      "173                            NRG Business Solutions   \n",
      "174                                         NV Energy   \n",
      "175                                         NV Energy   \n",
      "\n",
      "                               Website  \n",
      "0                                  NaN  \n",
      "1             https://3degreesinc.com/  \n",
      "2             https://3degreesinc.com/  \n",
      "3    http://www.3phasesrenewables.com/  \n",
      "4    http://www.3phasesrenewables.com/  \n",
      "..                                 ...  \n",
      "171            https://www.nipsco.com/  \n",
      "172            https://www.nipsco.com/  \n",
      "173       http://www.nrg.com/business/  \n",
      "174          https://www.nvenergy.com/  \n",
      "175          https://www.nvenergy.com/  \n",
      "\n",
      "[176 rows x 2 columns]\n"
     ]
    },
    {
     "name": "stderr",
     "output_type": "stream",
     "text": [
      "C:\\Users\\USER\\AppData\\Local\\Temp\\ipykernel_17652\\3827693980.py:19: FutureWarning: The frame.append method is deprecated and will be removed from pandas in a future version. Use pandas.concat instead.\n",
      "  gc = gc.append(Dic, ignore_index=True)\n"
     ]
    },
    {
     "name": "stdout",
     "output_type": "stream",
     "text": [
      "                                              Company  \\\n",
      "0                                                 NaN   \n",
      "1                                       3Degrees Inc.   \n",
      "2                                       3Degrees Inc.   \n",
      "3                                  3Phases Renewables   \n",
      "4                                  3Phases Renewables   \n",
      "..                                                ...   \n",
      "172  Northern Indiana Public Service Company (NIPSCO)   \n",
      "173                            NRG Business Solutions   \n",
      "174                                         NV Energy   \n",
      "175                                         NV Energy   \n",
      "176                   Pacific Gas and Electric (PG&E)   \n",
      "\n",
      "                               Website  \n",
      "0                                  NaN  \n",
      "1             https://3degreesinc.com/  \n",
      "2             https://3degreesinc.com/  \n",
      "3    http://www.3phasesrenewables.com/  \n",
      "4    http://www.3phasesrenewables.com/  \n",
      "..                                 ...  \n",
      "172            https://www.nipsco.com/  \n",
      "173       http://www.nrg.com/business/  \n",
      "174          https://www.nvenergy.com/  \n",
      "175          https://www.nvenergy.com/  \n",
      "176               https://www.pge.com/  \n",
      "\n",
      "[177 rows x 2 columns]\n"
     ]
    },
    {
     "name": "stderr",
     "output_type": "stream",
     "text": [
      "C:\\Users\\USER\\AppData\\Local\\Temp\\ipykernel_17652\\3827693980.py:19: FutureWarning: The frame.append method is deprecated and will be removed from pandas in a future version. Use pandas.concat instead.\n",
      "  gc = gc.append(Dic, ignore_index=True)\n"
     ]
    },
    {
     "name": "stdout",
     "output_type": "stream",
     "text": [
      "                             Company                            Website\n",
      "0                                NaN                                NaN\n",
      "1                      3Degrees Inc.           https://3degreesinc.com/\n",
      "2                      3Degrees Inc.           https://3degreesinc.com/\n",
      "3                 3Phases Renewables  http://www.3phasesrenewables.com/\n",
      "4                 3Phases Renewables  http://www.3phasesrenewables.com/\n",
      "..                               ...                                ...\n",
      "173           NRG Business Solutions       http://www.nrg.com/business/\n",
      "174                        NV Energy          https://www.nvenergy.com/\n",
      "175                        NV Energy          https://www.nvenergy.com/\n",
      "176  Pacific Gas and Electric (PG&E)               https://www.pge.com/\n",
      "177  Pacific Gas and Electric (PG&E)               https://www.pge.com/\n",
      "\n",
      "[178 rows x 2 columns]\n"
     ]
    },
    {
     "name": "stderr",
     "output_type": "stream",
     "text": [
      "C:\\Users\\USER\\AppData\\Local\\Temp\\ipykernel_17652\\3827693980.py:19: FutureWarning: The frame.append method is deprecated and will be removed from pandas in a future version. Use pandas.concat instead.\n",
      "  gc = gc.append(Dic, ignore_index=True)\n"
     ]
    },
    {
     "name": "stdout",
     "output_type": "stream",
     "text": [
      "                             Company                            Website\n",
      "0                                NaN                                NaN\n",
      "1                      3Degrees Inc.           https://3degreesinc.com/\n",
      "2                      3Degrees Inc.           https://3degreesinc.com/\n",
      "3                 3Phases Renewables  http://www.3phasesrenewables.com/\n",
      "4                 3Phases Renewables  http://www.3phasesrenewables.com/\n",
      "..                               ...                                ...\n",
      "174                        NV Energy          https://www.nvenergy.com/\n",
      "175                        NV Energy          https://www.nvenergy.com/\n",
      "176  Pacific Gas and Electric (PG&E)               https://www.pge.com/\n",
      "177  Pacific Gas and Electric (PG&E)               https://www.pge.com/\n",
      "178  Pacific Gas and Electric (PG&E)               https://www.pge.com/\n",
      "\n",
      "[179 rows x 2 columns]\n"
     ]
    },
    {
     "name": "stderr",
     "output_type": "stream",
     "text": [
      "C:\\Users\\USER\\AppData\\Local\\Temp\\ipykernel_17652\\3827693980.py:19: FutureWarning: The frame.append method is deprecated and will be removed from pandas in a future version. Use pandas.concat instead.\n",
      "  gc = gc.append(Dic, ignore_index=True)\n"
     ]
    },
    {
     "name": "stdout",
     "output_type": "stream",
     "text": [
      "                             Company                            Website\n",
      "0                                NaN                                NaN\n",
      "1                      3Degrees Inc.           https://3degreesinc.com/\n",
      "2                      3Degrees Inc.           https://3degreesinc.com/\n",
      "3                 3Phases Renewables  http://www.3phasesrenewables.com/\n",
      "4                 3Phases Renewables  http://www.3phasesrenewables.com/\n",
      "..                               ...                                ...\n",
      "175                        NV Energy          https://www.nvenergy.com/\n",
      "176  Pacific Gas and Electric (PG&E)               https://www.pge.com/\n",
      "177  Pacific Gas and Electric (PG&E)               https://www.pge.com/\n",
      "178  Pacific Gas and Electric (PG&E)               https://www.pge.com/\n",
      "179  Pacific Gas and Electric (PG&E)               https://www.pge.com/\n",
      "\n",
      "[180 rows x 2 columns]\n"
     ]
    },
    {
     "name": "stderr",
     "output_type": "stream",
     "text": [
      "C:\\Users\\USER\\AppData\\Local\\Temp\\ipykernel_17652\\3827693980.py:19: FutureWarning: The frame.append method is deprecated and will be removed from pandas in a future version. Use pandas.concat instead.\n",
      "  gc = gc.append(Dic, ignore_index=True)\n"
     ]
    },
    {
     "name": "stdout",
     "output_type": "stream",
     "text": [
      "                             Company                            Website\n",
      "0                                NaN                                NaN\n",
      "1                      3Degrees Inc.           https://3degreesinc.com/\n",
      "2                      3Degrees Inc.           https://3degreesinc.com/\n",
      "3                 3Phases Renewables  http://www.3phasesrenewables.com/\n",
      "4                 3Phases Renewables  http://www.3phasesrenewables.com/\n",
      "..                               ...                                ...\n",
      "176  Pacific Gas and Electric (PG&E)               https://www.pge.com/\n",
      "177  Pacific Gas and Electric (PG&E)               https://www.pge.com/\n",
      "178  Pacific Gas and Electric (PG&E)               https://www.pge.com/\n",
      "179  Pacific Gas and Electric (PG&E)               https://www.pge.com/\n",
      "180  Pacific Gas and Electric (PG&E)               https://www.pge.com/\n",
      "\n",
      "[181 rows x 2 columns]\n"
     ]
    },
    {
     "name": "stderr",
     "output_type": "stream",
     "text": [
      "C:\\Users\\USER\\AppData\\Local\\Temp\\ipykernel_17652\\3827693980.py:19: FutureWarning: The frame.append method is deprecated and will be removed from pandas in a future version. Use pandas.concat instead.\n",
      "  gc = gc.append(Dic, ignore_index=True)\n"
     ]
    },
    {
     "name": "stdout",
     "output_type": "stream",
     "text": [
      "                             Company                            Website\n",
      "0                                NaN                                NaN\n",
      "1                      3Degrees Inc.           https://3degreesinc.com/\n",
      "2                      3Degrees Inc.           https://3degreesinc.com/\n",
      "3                 3Phases Renewables  http://www.3phasesrenewables.com/\n",
      "4                 3Phases Renewables  http://www.3phasesrenewables.com/\n",
      "..                               ...                                ...\n",
      "177  Pacific Gas and Electric (PG&E)               https://www.pge.com/\n",
      "178  Pacific Gas and Electric (PG&E)               https://www.pge.com/\n",
      "179  Pacific Gas and Electric (PG&E)               https://www.pge.com/\n",
      "180  Pacific Gas and Electric (PG&E)               https://www.pge.com/\n",
      "181  Pacific Gas and Electric (PG&E)               https://www.pge.com/\n",
      "\n",
      "[182 rows x 2 columns]\n"
     ]
    },
    {
     "name": "stderr",
     "output_type": "stream",
     "text": [
      "C:\\Users\\USER\\AppData\\Local\\Temp\\ipykernel_17652\\3827693980.py:19: FutureWarning: The frame.append method is deprecated and will be removed from pandas in a future version. Use pandas.concat instead.\n",
      "  gc = gc.append(Dic, ignore_index=True)\n"
     ]
    },
    {
     "name": "stdout",
     "output_type": "stream",
     "text": [
      "                             Company                            Website\n",
      "0                                NaN                                NaN\n",
      "1                      3Degrees Inc.           https://3degreesinc.com/\n",
      "2                      3Degrees Inc.           https://3degreesinc.com/\n",
      "3                 3Phases Renewables  http://www.3phasesrenewables.com/\n",
      "4                 3Phases Renewables  http://www.3phasesrenewables.com/\n",
      "..                               ...                                ...\n",
      "178  Pacific Gas and Electric (PG&E)               https://www.pge.com/\n",
      "179  Pacific Gas and Electric (PG&E)               https://www.pge.com/\n",
      "180  Pacific Gas and Electric (PG&E)               https://www.pge.com/\n",
      "181  Pacific Gas and Electric (PG&E)               https://www.pge.com/\n",
      "182  Pacific Gas and Electric (PG&E)               https://www.pge.com/\n",
      "\n",
      "[183 rows x 2 columns]\n"
     ]
    },
    {
     "name": "stderr",
     "output_type": "stream",
     "text": [
      "C:\\Users\\USER\\AppData\\Local\\Temp\\ipykernel_17652\\3827693980.py:19: FutureWarning: The frame.append method is deprecated and will be removed from pandas in a future version. Use pandas.concat instead.\n",
      "  gc = gc.append(Dic, ignore_index=True)\n"
     ]
    },
    {
     "name": "stdout",
     "output_type": "stream",
     "text": [
      "                             Company                            Website\n",
      "0                                NaN                                NaN\n",
      "1                      3Degrees Inc.           https://3degreesinc.com/\n",
      "2                      3Degrees Inc.           https://3degreesinc.com/\n",
      "3                 3Phases Renewables  http://www.3phasesrenewables.com/\n",
      "4                 3Phases Renewables  http://www.3phasesrenewables.com/\n",
      "..                               ...                                ...\n",
      "179  Pacific Gas and Electric (PG&E)               https://www.pge.com/\n",
      "180  Pacific Gas and Electric (PG&E)               https://www.pge.com/\n",
      "181  Pacific Gas and Electric (PG&E)               https://www.pge.com/\n",
      "182  Pacific Gas and Electric (PG&E)               https://www.pge.com/\n",
      "183                       PacifiCorp         http://www.pacificorp.com/\n",
      "\n",
      "[184 rows x 2 columns]\n"
     ]
    },
    {
     "name": "stderr",
     "output_type": "stream",
     "text": [
      "C:\\Users\\USER\\AppData\\Local\\Temp\\ipykernel_17652\\3827693980.py:19: FutureWarning: The frame.append method is deprecated and will be removed from pandas in a future version. Use pandas.concat instead.\n",
      "  gc = gc.append(Dic, ignore_index=True)\n"
     ]
    },
    {
     "name": "stdout",
     "output_type": "stream",
     "text": [
      "                             Company                            Website\n",
      "0                                NaN                                NaN\n",
      "1                      3Degrees Inc.           https://3degreesinc.com/\n",
      "2                      3Degrees Inc.           https://3degreesinc.com/\n",
      "3                 3Phases Renewables  http://www.3phasesrenewables.com/\n",
      "4                 3Phases Renewables  http://www.3phasesrenewables.com/\n",
      "..                               ...                                ...\n",
      "180  Pacific Gas and Electric (PG&E)               https://www.pge.com/\n",
      "181  Pacific Gas and Electric (PG&E)               https://www.pge.com/\n",
      "182  Pacific Gas and Electric (PG&E)               https://www.pge.com/\n",
      "183                       PacifiCorp         http://www.pacificorp.com/\n",
      "184                       PacifiCorp         http://www.pacificorp.com/\n",
      "\n",
      "[185 rows x 2 columns]\n"
     ]
    },
    {
     "name": "stderr",
     "output_type": "stream",
     "text": [
      "C:\\Users\\USER\\AppData\\Local\\Temp\\ipykernel_17652\\3827693980.py:19: FutureWarning: The frame.append method is deprecated and will be removed from pandas in a future version. Use pandas.concat instead.\n",
      "  gc = gc.append(Dic, ignore_index=True)\n"
     ]
    },
    {
     "name": "stdout",
     "output_type": "stream",
     "text": [
      "                             Company                            Website\n",
      "0                                NaN                                NaN\n",
      "1                      3Degrees Inc.           https://3degreesinc.com/\n",
      "2                      3Degrees Inc.           https://3degreesinc.com/\n",
      "3                 3Phases Renewables  http://www.3phasesrenewables.com/\n",
      "4                 3Phases Renewables  http://www.3phasesrenewables.com/\n",
      "..                               ...                                ...\n",
      "181  Pacific Gas and Electric (PG&E)               https://www.pge.com/\n",
      "182  Pacific Gas and Electric (PG&E)               https://www.pge.com/\n",
      "183                       PacifiCorp         http://www.pacificorp.com/\n",
      "184                       PacifiCorp         http://www.pacificorp.com/\n",
      "185                       PacifiCorp         http://www.pacificorp.com/\n",
      "\n",
      "[186 rows x 2 columns]\n"
     ]
    },
    {
     "name": "stderr",
     "output_type": "stream",
     "text": [
      "C:\\Users\\USER\\AppData\\Local\\Temp\\ipykernel_17652\\3827693980.py:19: FutureWarning: The frame.append method is deprecated and will be removed from pandas in a future version. Use pandas.concat instead.\n",
      "  gc = gc.append(Dic, ignore_index=True)\n"
     ]
    },
    {
     "name": "stdout",
     "output_type": "stream",
     "text": [
      "                             Company                            Website\n",
      "0                                NaN                                NaN\n",
      "1                      3Degrees Inc.           https://3degreesinc.com/\n",
      "2                      3Degrees Inc.           https://3degreesinc.com/\n",
      "3                 3Phases Renewables  http://www.3phasesrenewables.com/\n",
      "4                 3Phases Renewables  http://www.3phasesrenewables.com/\n",
      "..                               ...                                ...\n",
      "182  Pacific Gas and Electric (PG&E)               https://www.pge.com/\n",
      "183                       PacifiCorp         http://www.pacificorp.com/\n",
      "184                       PacifiCorp         http://www.pacificorp.com/\n",
      "185                       PacifiCorp         http://www.pacificorp.com/\n",
      "186                       PacifiCorp         http://www.pacificorp.com/\n",
      "\n",
      "[187 rows x 2 columns]\n"
     ]
    },
    {
     "name": "stderr",
     "output_type": "stream",
     "text": [
      "C:\\Users\\USER\\AppData\\Local\\Temp\\ipykernel_17652\\3827693980.py:19: FutureWarning: The frame.append method is deprecated and will be removed from pandas in a future version. Use pandas.concat instead.\n",
      "  gc = gc.append(Dic, ignore_index=True)\n"
     ]
    },
    {
     "name": "stdout",
     "output_type": "stream",
     "text": [
      "                    Company                                Website\n",
      "0                       NaN                                    NaN\n",
      "1             3Degrees Inc.               https://3degreesinc.com/\n",
      "2             3Degrees Inc.               https://3degreesinc.com/\n",
      "3        3Phases Renewables      http://www.3phasesrenewables.com/\n",
      "4        3Phases Renewables      http://www.3phasesrenewables.com/\n",
      "..                      ...                                    ...\n",
      "183              PacifiCorp             http://www.pacificorp.com/\n",
      "184              PacifiCorp             http://www.pacificorp.com/\n",
      "185              PacifiCorp             http://www.pacificorp.com/\n",
      "186              PacifiCorp             http://www.pacificorp.com/\n",
      "187  Peninsula Clean Energy  https://www.peninsulacleanenergy.com/\n",
      "\n",
      "[188 rows x 2 columns]\n"
     ]
    },
    {
     "name": "stderr",
     "output_type": "stream",
     "text": [
      "C:\\Users\\USER\\AppData\\Local\\Temp\\ipykernel_17652\\3827693980.py:19: FutureWarning: The frame.append method is deprecated and will be removed from pandas in a future version. Use pandas.concat instead.\n",
      "  gc = gc.append(Dic, ignore_index=True)\n"
     ]
    },
    {
     "name": "stdout",
     "output_type": "stream",
     "text": [
      "                    Company                                Website\n",
      "0                       NaN                                    NaN\n",
      "1             3Degrees Inc.               https://3degreesinc.com/\n",
      "2             3Degrees Inc.               https://3degreesinc.com/\n",
      "3        3Phases Renewables      http://www.3phasesrenewables.com/\n",
      "4        3Phases Renewables      http://www.3phasesrenewables.com/\n",
      "..                      ...                                    ...\n",
      "184              PacifiCorp             http://www.pacificorp.com/\n",
      "185              PacifiCorp             http://www.pacificorp.com/\n",
      "186              PacifiCorp             http://www.pacificorp.com/\n",
      "187  Peninsula Clean Energy  https://www.peninsulacleanenergy.com/\n",
      "188  Peninsula Clean Energy  https://www.peninsulacleanenergy.com/\n",
      "\n",
      "[189 rows x 2 columns]\n"
     ]
    },
    {
     "name": "stderr",
     "output_type": "stream",
     "text": [
      "C:\\Users\\USER\\AppData\\Local\\Temp\\ipykernel_17652\\3827693980.py:19: FutureWarning: The frame.append method is deprecated and will be removed from pandas in a future version. Use pandas.concat instead.\n",
      "  gc = gc.append(Dic, ignore_index=True)\n"
     ]
    },
    {
     "name": "stdout",
     "output_type": "stream",
     "text": [
      "                       Company                                Website\n",
      "0                          NaN                                    NaN\n",
      "1                3Degrees Inc.               https://3degreesinc.com/\n",
      "2                3Degrees Inc.               https://3degreesinc.com/\n",
      "3           3Phases Renewables      http://www.3phasesrenewables.com/\n",
      "4           3Phases Renewables      http://www.3phasesrenewables.com/\n",
      "..                         ...                                    ...\n",
      "185                 PacifiCorp             http://www.pacificorp.com/\n",
      "186                 PacifiCorp             http://www.pacificorp.com/\n",
      "187     Peninsula Clean Energy  https://www.peninsulacleanenergy.com/\n",
      "188     Peninsula Clean Energy  https://www.peninsulacleanenergy.com/\n",
      "189  Pine Gate Renewables, LLC           http://www.pgrenewables.com/\n",
      "\n",
      "[190 rows x 2 columns]\n"
     ]
    },
    {
     "name": "stderr",
     "output_type": "stream",
     "text": [
      "C:\\Users\\USER\\AppData\\Local\\Temp\\ipykernel_17652\\3827693980.py:19: FutureWarning: The frame.append method is deprecated and will be removed from pandas in a future version. Use pandas.concat instead.\n",
      "  gc = gc.append(Dic, ignore_index=True)\n"
     ]
    },
    {
     "name": "stdout",
     "output_type": "stream",
     "text": [
      "                       Company                                Website\n",
      "0                          NaN                                    NaN\n",
      "1                3Degrees Inc.               https://3degreesinc.com/\n",
      "2                3Degrees Inc.               https://3degreesinc.com/\n",
      "3           3Phases Renewables      http://www.3phasesrenewables.com/\n",
      "4           3Phases Renewables      http://www.3phasesrenewables.com/\n",
      "..                         ...                                    ...\n",
      "186                 PacifiCorp             http://www.pacificorp.com/\n",
      "187     Peninsula Clean Energy  https://www.peninsulacleanenergy.com/\n",
      "188     Peninsula Clean Energy  https://www.peninsulacleanenergy.com/\n",
      "189  Pine Gate Renewables, LLC           http://www.pgrenewables.com/\n",
      "190  Pine Gate Renewables, LLC           http://www.pgrenewables.com/\n",
      "\n",
      "[191 rows x 2 columns]\n"
     ]
    },
    {
     "name": "stderr",
     "output_type": "stream",
     "text": [
      "C:\\Users\\USER\\AppData\\Local\\Temp\\ipykernel_17652\\3827693980.py:19: FutureWarning: The frame.append method is deprecated and will be removed from pandas in a future version. Use pandas.concat instead.\n",
      "  gc = gc.append(Dic, ignore_index=True)\n"
     ]
    },
    {
     "name": "stdout",
     "output_type": "stream",
     "text": [
      "                                 Company  \\\n",
      "0                                    NaN   \n",
      "1                          3Degrees Inc.   \n",
      "2                          3Degrees Inc.   \n",
      "3                     3Phases Renewables   \n",
      "4                     3Phases Renewables   \n",
      "..                                   ...   \n",
      "187               Peninsula Clean Energy   \n",
      "188               Peninsula Clean Energy   \n",
      "189            Pine Gate Renewables, LLC   \n",
      "190            Pine Gate Renewables, LLC   \n",
      "191  Platte River Power Authority (PRPA)   \n",
      "\n",
      "                                   Website  \n",
      "0                                      NaN  \n",
      "1                 https://3degreesinc.com/  \n",
      "2                 https://3degreesinc.com/  \n",
      "3        http://www.3phasesrenewables.com/  \n",
      "4        http://www.3phasesrenewables.com/  \n",
      "..                                     ...  \n",
      "187  https://www.peninsulacleanenergy.com/  \n",
      "188  https://www.peninsulacleanenergy.com/  \n",
      "189           http://www.pgrenewables.com/  \n",
      "190           http://www.pgrenewables.com/  \n",
      "191                   http://www.prpa.org/  \n",
      "\n",
      "[192 rows x 2 columns]\n"
     ]
    },
    {
     "name": "stderr",
     "output_type": "stream",
     "text": [
      "C:\\Users\\USER\\AppData\\Local\\Temp\\ipykernel_17652\\3827693980.py:19: FutureWarning: The frame.append method is deprecated and will be removed from pandas in a future version. Use pandas.concat instead.\n",
      "  gc = gc.append(Dic, ignore_index=True)\n"
     ]
    },
    {
     "name": "stdout",
     "output_type": "stream",
     "text": [
      "                                 Company  \\\n",
      "0                                    NaN   \n",
      "1                          3Degrees Inc.   \n",
      "2                          3Degrees Inc.   \n",
      "3                     3Phases Renewables   \n",
      "4                     3Phases Renewables   \n",
      "..                                   ...   \n",
      "188               Peninsula Clean Energy   \n",
      "189            Pine Gate Renewables, LLC   \n",
      "190            Pine Gate Renewables, LLC   \n",
      "191  Platte River Power Authority (PRPA)   \n",
      "192  Platte River Power Authority (PRPA)   \n",
      "\n",
      "                                   Website  \n",
      "0                                      NaN  \n",
      "1                 https://3degreesinc.com/  \n",
      "2                 https://3degreesinc.com/  \n",
      "3        http://www.3phasesrenewables.com/  \n",
      "4        http://www.3phasesrenewables.com/  \n",
      "..                                     ...  \n",
      "188  https://www.peninsulacleanenergy.com/  \n",
      "189           http://www.pgrenewables.com/  \n",
      "190           http://www.pgrenewables.com/  \n",
      "191                   http://www.prpa.org/  \n",
      "192                   http://www.prpa.org/  \n",
      "\n",
      "[193 rows x 2 columns]\n"
     ]
    },
    {
     "name": "stderr",
     "output_type": "stream",
     "text": [
      "C:\\Users\\USER\\AppData\\Local\\Temp\\ipykernel_17652\\3827693980.py:19: FutureWarning: The frame.append method is deprecated and will be removed from pandas in a future version. Use pandas.concat instead.\n",
      "  gc = gc.append(Dic, ignore_index=True)\n"
     ]
    },
    {
     "name": "stdout",
     "output_type": "stream",
     "text": [
      "                                 Company                            Website\n",
      "0                                    NaN                                NaN\n",
      "1                          3Degrees Inc.           https://3degreesinc.com/\n",
      "2                          3Degrees Inc.           https://3degreesinc.com/\n",
      "3                     3Phases Renewables  http://www.3phasesrenewables.com/\n",
      "4                     3Phases Renewables  http://www.3phasesrenewables.com/\n",
      "..                                   ...                                ...\n",
      "189            Pine Gate Renewables, LLC       http://www.pgrenewables.com/\n",
      "190            Pine Gate Renewables, LLC       http://www.pgrenewables.com/\n",
      "191  Platte River Power Authority (PRPA)               http://www.prpa.org/\n",
      "192  Platte River Power Authority (PRPA)               http://www.prpa.org/\n",
      "193      Portland General Electric (PGE)   http://www.greenpoweroregon.com/\n",
      "\n",
      "[194 rows x 2 columns]\n"
     ]
    },
    {
     "name": "stderr",
     "output_type": "stream",
     "text": [
      "C:\\Users\\USER\\AppData\\Local\\Temp\\ipykernel_17652\\3827693980.py:19: FutureWarning: The frame.append method is deprecated and will be removed from pandas in a future version. Use pandas.concat instead.\n",
      "  gc = gc.append(Dic, ignore_index=True)\n"
     ]
    },
    {
     "name": "stdout",
     "output_type": "stream",
     "text": [
      "                                 Company                            Website\n",
      "0                                    NaN                                NaN\n",
      "1                          3Degrees Inc.           https://3degreesinc.com/\n",
      "2                          3Degrees Inc.           https://3degreesinc.com/\n",
      "3                     3Phases Renewables  http://www.3phasesrenewables.com/\n",
      "4                     3Phases Renewables  http://www.3phasesrenewables.com/\n",
      "..                                   ...                                ...\n",
      "190            Pine Gate Renewables, LLC       http://www.pgrenewables.com/\n",
      "191  Platte River Power Authority (PRPA)               http://www.prpa.org/\n",
      "192  Platte River Power Authority (PRPA)               http://www.prpa.org/\n",
      "193      Portland General Electric (PGE)   http://www.greenpoweroregon.com/\n",
      "194      Portland General Electric (PGE)   http://www.greenpoweroregon.com/\n",
      "\n",
      "[195 rows x 2 columns]\n"
     ]
    },
    {
     "name": "stderr",
     "output_type": "stream",
     "text": [
      "C:\\Users\\USER\\AppData\\Local\\Temp\\ipykernel_17652\\3827693980.py:19: FutureWarning: The frame.append method is deprecated and will be removed from pandas in a future version. Use pandas.concat instead.\n",
      "  gc = gc.append(Dic, ignore_index=True)\n"
     ]
    },
    {
     "name": "stdout",
     "output_type": "stream",
     "text": [
      "                                 Company                            Website\n",
      "0                                    NaN                                NaN\n",
      "1                          3Degrees Inc.           https://3degreesinc.com/\n",
      "2                          3Degrees Inc.           https://3degreesinc.com/\n",
      "3                     3Phases Renewables  http://www.3phasesrenewables.com/\n",
      "4                     3Phases Renewables  http://www.3phasesrenewables.com/\n",
      "..                                   ...                                ...\n",
      "191  Platte River Power Authority (PRPA)               http://www.prpa.org/\n",
      "192  Platte River Power Authority (PRPA)               http://www.prpa.org/\n",
      "193      Portland General Electric (PGE)   http://www.greenpoweroregon.com/\n",
      "194      Portland General Electric (PGE)   http://www.greenpoweroregon.com/\n",
      "195      Portland General Electric (PGE)   http://www.greenpoweroregon.com/\n",
      "\n",
      "[196 rows x 2 columns]\n"
     ]
    },
    {
     "name": "stderr",
     "output_type": "stream",
     "text": [
      "C:\\Users\\USER\\AppData\\Local\\Temp\\ipykernel_17652\\3827693980.py:19: FutureWarning: The frame.append method is deprecated and will be removed from pandas in a future version. Use pandas.concat instead.\n",
      "  gc = gc.append(Dic, ignore_index=True)\n"
     ]
    },
    {
     "name": "stdout",
     "output_type": "stream",
     "text": [
      "                                 Company                            Website\n",
      "0                                    NaN                                NaN\n",
      "1                          3Degrees Inc.           https://3degreesinc.com/\n",
      "2                          3Degrees Inc.           https://3degreesinc.com/\n",
      "3                     3Phases Renewables  http://www.3phasesrenewables.com/\n",
      "4                     3Phases Renewables  http://www.3phasesrenewables.com/\n",
      "..                                   ...                                ...\n",
      "192  Platte River Power Authority (PRPA)               http://www.prpa.org/\n",
      "193      Portland General Electric (PGE)   http://www.greenpoweroregon.com/\n",
      "194      Portland General Electric (PGE)   http://www.greenpoweroregon.com/\n",
      "195      Portland General Electric (PGE)   http://www.greenpoweroregon.com/\n",
      "196      Portland General Electric (PGE)   http://www.greenpoweroregon.com/\n",
      "\n",
      "[197 rows x 2 columns]\n"
     ]
    },
    {
     "name": "stderr",
     "output_type": "stream",
     "text": [
      "C:\\Users\\USER\\AppData\\Local\\Temp\\ipykernel_17652\\3827693980.py:19: FutureWarning: The frame.append method is deprecated and will be removed from pandas in a future version. Use pandas.concat instead.\n",
      "  gc = gc.append(Dic, ignore_index=True)\n"
     ]
    },
    {
     "name": "stdout",
     "output_type": "stream",
     "text": [
      "                             Company                            Website\n",
      "0                                NaN                                NaN\n",
      "1                      3Degrees Inc.           https://3degreesinc.com/\n",
      "2                      3Degrees Inc.           https://3degreesinc.com/\n",
      "3                 3Phases Renewables  http://www.3phasesrenewables.com/\n",
      "4                 3Phases Renewables  http://www.3phasesrenewables.com/\n",
      "..                               ...                                ...\n",
      "193  Portland General Electric (PGE)   http://www.greenpoweroregon.com/\n",
      "194  Portland General Electric (PGE)   http://www.greenpoweroregon.com/\n",
      "195  Portland General Electric (PGE)   http://www.greenpoweroregon.com/\n",
      "196  Portland General Electric (PGE)   http://www.greenpoweroregon.com/\n",
      "197  Portland General Electric (PGE)   http://www.greenpoweroregon.com/\n",
      "\n",
      "[198 rows x 2 columns]\n"
     ]
    },
    {
     "name": "stderr",
     "output_type": "stream",
     "text": [
      "C:\\Users\\USER\\AppData\\Local\\Temp\\ipykernel_17652\\3827693980.py:19: FutureWarning: The frame.append method is deprecated and will be removed from pandas in a future version. Use pandas.concat instead.\n",
      "  gc = gc.append(Dic, ignore_index=True)\n"
     ]
    },
    {
     "name": "stdout",
     "output_type": "stream",
     "text": [
      "                             Company                            Website\n",
      "0                                NaN                                NaN\n",
      "1                      3Degrees Inc.           https://3degreesinc.com/\n",
      "2                      3Degrees Inc.           https://3degreesinc.com/\n",
      "3                 3Phases Renewables  http://www.3phasesrenewables.com/\n",
      "4                 3Phases Renewables  http://www.3phasesrenewables.com/\n",
      "..                               ...                                ...\n",
      "194  Portland General Electric (PGE)   http://www.greenpoweroregon.com/\n",
      "195  Portland General Electric (PGE)   http://www.greenpoweroregon.com/\n",
      "196  Portland General Electric (PGE)   http://www.greenpoweroregon.com/\n",
      "197  Portland General Electric (PGE)   http://www.greenpoweroregon.com/\n",
      "198  Portland General Electric (PGE)   http://www.greenpoweroregon.com/\n",
      "\n",
      "[199 rows x 2 columns]\n"
     ]
    },
    {
     "name": "stderr",
     "output_type": "stream",
     "text": [
      "C:\\Users\\USER\\AppData\\Local\\Temp\\ipykernel_17652\\3827693980.py:19: FutureWarning: The frame.append method is deprecated and will be removed from pandas in a future version. Use pandas.concat instead.\n",
      "  gc = gc.append(Dic, ignore_index=True)\n"
     ]
    },
    {
     "name": "stdout",
     "output_type": "stream",
     "text": [
      "                             Company                            Website\n",
      "0                                NaN                                NaN\n",
      "1                      3Degrees Inc.           https://3degreesinc.com/\n",
      "2                      3Degrees Inc.           https://3degreesinc.com/\n",
      "3                 3Phases Renewables  http://www.3phasesrenewables.com/\n",
      "4                 3Phases Renewables  http://www.3phasesrenewables.com/\n",
      "..                               ...                                ...\n",
      "195  Portland General Electric (PGE)   http://www.greenpoweroregon.com/\n",
      "196  Portland General Electric (PGE)   http://www.greenpoweroregon.com/\n",
      "197  Portland General Electric (PGE)   http://www.greenpoweroregon.com/\n",
      "198  Portland General Electric (PGE)   http://www.greenpoweroregon.com/\n",
      "199  Portland General Electric (PGE)   http://www.greenpoweroregon.com/\n",
      "\n",
      "[200 rows x 2 columns]\n"
     ]
    },
    {
     "name": "stderr",
     "output_type": "stream",
     "text": [
      "C:\\Users\\USER\\AppData\\Local\\Temp\\ipykernel_17652\\3827693980.py:19: FutureWarning: The frame.append method is deprecated and will be removed from pandas in a future version. Use pandas.concat instead.\n",
      "  gc = gc.append(Dic, ignore_index=True)\n"
     ]
    },
    {
     "name": "stdout",
     "output_type": "stream",
     "text": [
      "                             Company                            Website\n",
      "0                                NaN                                NaN\n",
      "1                      3Degrees Inc.           https://3degreesinc.com/\n",
      "2                      3Degrees Inc.           https://3degreesinc.com/\n",
      "3                 3Phases Renewables  http://www.3phasesrenewables.com/\n",
      "4                 3Phases Renewables  http://www.3phasesrenewables.com/\n",
      "..                               ...                                ...\n",
      "196  Portland General Electric (PGE)   http://www.greenpoweroregon.com/\n",
      "197  Portland General Electric (PGE)   http://www.greenpoweroregon.com/\n",
      "198  Portland General Electric (PGE)   http://www.greenpoweroregon.com/\n",
      "199  Portland General Electric (PGE)   http://www.greenpoweroregon.com/\n",
      "200  Portland General Electric (PGE)   http://www.greenpoweroregon.com/\n",
      "\n",
      "[201 rows x 2 columns]\n"
     ]
    },
    {
     "name": "stderr",
     "output_type": "stream",
     "text": [
      "C:\\Users\\USER\\AppData\\Local\\Temp\\ipykernel_17652\\3827693980.py:19: FutureWarning: The frame.append method is deprecated and will be removed from pandas in a future version. Use pandas.concat instead.\n",
      "  gc = gc.append(Dic, ignore_index=True)\n"
     ]
    },
    {
     "name": "stdout",
     "output_type": "stream",
     "text": [
      "                             Company                            Website\n",
      "0                                NaN                                NaN\n",
      "1                      3Degrees Inc.           https://3degreesinc.com/\n",
      "2                      3Degrees Inc.           https://3degreesinc.com/\n",
      "3                 3Phases Renewables  http://www.3phasesrenewables.com/\n",
      "4                 3Phases Renewables  http://www.3phasesrenewables.com/\n",
      "..                               ...                                ...\n",
      "197  Portland General Electric (PGE)   http://www.greenpoweroregon.com/\n",
      "198  Portland General Electric (PGE)   http://www.greenpoweroregon.com/\n",
      "199  Portland General Electric (PGE)   http://www.greenpoweroregon.com/\n",
      "200  Portland General Electric (PGE)   http://www.greenpoweroregon.com/\n",
      "201  Portland General Electric (PGE)   http://www.greenpoweroregon.com/\n",
      "\n",
      "[202 rows x 2 columns]\n"
     ]
    },
    {
     "name": "stderr",
     "output_type": "stream",
     "text": [
      "C:\\Users\\USER\\AppData\\Local\\Temp\\ipykernel_17652\\3827693980.py:19: FutureWarning: The frame.append method is deprecated and will be removed from pandas in a future version. Use pandas.concat instead.\n",
      "  gc = gc.append(Dic, ignore_index=True)\n"
     ]
    },
    {
     "name": "stdout",
     "output_type": "stream",
     "text": [
      "                             Company                            Website\n",
      "0                                NaN                                NaN\n",
      "1                      3Degrees Inc.           https://3degreesinc.com/\n",
      "2                      3Degrees Inc.           https://3degreesinc.com/\n",
      "3                 3Phases Renewables  http://www.3phasesrenewables.com/\n",
      "4                 3Phases Renewables  http://www.3phasesrenewables.com/\n",
      "..                               ...                                ...\n",
      "198  Portland General Electric (PGE)   http://www.greenpoweroregon.com/\n",
      "199  Portland General Electric (PGE)   http://www.greenpoweroregon.com/\n",
      "200  Portland General Electric (PGE)   http://www.greenpoweroregon.com/\n",
      "201  Portland General Electric (PGE)   http://www.greenpoweroregon.com/\n",
      "202                     Powerex Corp            http://www.powerex.com/\n",
      "\n",
      "[203 rows x 2 columns]\n"
     ]
    },
    {
     "name": "stderr",
     "output_type": "stream",
     "text": [
      "C:\\Users\\USER\\AppData\\Local\\Temp\\ipykernel_17652\\3827693980.py:19: FutureWarning: The frame.append method is deprecated and will be removed from pandas in a future version. Use pandas.concat instead.\n",
      "  gc = gc.append(Dic, ignore_index=True)\n"
     ]
    },
    {
     "name": "stdout",
     "output_type": "stream",
     "text": [
      "                             Company                            Website\n",
      "0                                NaN                                NaN\n",
      "1                      3Degrees Inc.           https://3degreesinc.com/\n",
      "2                      3Degrees Inc.           https://3degreesinc.com/\n",
      "3                 3Phases Renewables  http://www.3phasesrenewables.com/\n",
      "4                 3Phases Renewables  http://www.3phasesrenewables.com/\n",
      "..                               ...                                ...\n",
      "199  Portland General Electric (PGE)   http://www.greenpoweroregon.com/\n",
      "200  Portland General Electric (PGE)   http://www.greenpoweroregon.com/\n",
      "201  Portland General Electric (PGE)   http://www.greenpoweroregon.com/\n",
      "202                     Powerex Corp            http://www.powerex.com/\n",
      "203         Puget Sound Energy (PSE)               https://www.pse.com/\n",
      "\n",
      "[204 rows x 2 columns]\n"
     ]
    },
    {
     "name": "stderr",
     "output_type": "stream",
     "text": [
      "C:\\Users\\USER\\AppData\\Local\\Temp\\ipykernel_17652\\3827693980.py:19: FutureWarning: The frame.append method is deprecated and will be removed from pandas in a future version. Use pandas.concat instead.\n",
      "  gc = gc.append(Dic, ignore_index=True)\n"
     ]
    },
    {
     "name": "stdout",
     "output_type": "stream",
     "text": [
      "                             Company                            Website\n",
      "0                                NaN                                NaN\n",
      "1                      3Degrees Inc.           https://3degreesinc.com/\n",
      "2                      3Degrees Inc.           https://3degreesinc.com/\n",
      "3                 3Phases Renewables  http://www.3phasesrenewables.com/\n",
      "4                 3Phases Renewables  http://www.3phasesrenewables.com/\n",
      "..                               ...                                ...\n",
      "200  Portland General Electric (PGE)   http://www.greenpoweroregon.com/\n",
      "201  Portland General Electric (PGE)   http://www.greenpoweroregon.com/\n",
      "202                     Powerex Corp            http://www.powerex.com/\n",
      "203         Puget Sound Energy (PSE)               https://www.pse.com/\n",
      "204         Puget Sound Energy (PSE)               https://www.pse.com/\n",
      "\n",
      "[205 rows x 2 columns]\n"
     ]
    },
    {
     "name": "stderr",
     "output_type": "stream",
     "text": [
      "C:\\Users\\USER\\AppData\\Local\\Temp\\ipykernel_17652\\3827693980.py:19: FutureWarning: The frame.append method is deprecated and will be removed from pandas in a future version. Use pandas.concat instead.\n",
      "  gc = gc.append(Dic, ignore_index=True)\n"
     ]
    },
    {
     "name": "stdout",
     "output_type": "stream",
     "text": [
      "                             Company                            Website\n",
      "0                                NaN                                NaN\n",
      "1                      3Degrees Inc.           https://3degreesinc.com/\n",
      "2                      3Degrees Inc.           https://3degreesinc.com/\n",
      "3                 3Phases Renewables  http://www.3phasesrenewables.com/\n",
      "4                 3Phases Renewables  http://www.3phasesrenewables.com/\n",
      "..                               ...                                ...\n",
      "201  Portland General Electric (PGE)   http://www.greenpoweroregon.com/\n",
      "202                     Powerex Corp            http://www.powerex.com/\n",
      "203         Puget Sound Energy (PSE)               https://www.pse.com/\n",
      "204         Puget Sound Energy (PSE)               https://www.pse.com/\n",
      "205         Puget Sound Energy (PSE)               https://www.pse.com/\n",
      "\n",
      "[206 rows x 2 columns]\n"
     ]
    },
    {
     "name": "stderr",
     "output_type": "stream",
     "text": [
      "C:\\Users\\USER\\AppData\\Local\\Temp\\ipykernel_17652\\3827693980.py:19: FutureWarning: The frame.append method is deprecated and will be removed from pandas in a future version. Use pandas.concat instead.\n",
      "  gc = gc.append(Dic, ignore_index=True)\n"
     ]
    },
    {
     "name": "stdout",
     "output_type": "stream",
     "text": [
      "                      Company                            Website\n",
      "0                         NaN                                NaN\n",
      "1               3Degrees Inc.           https://3degreesinc.com/\n",
      "2               3Degrees Inc.           https://3degreesinc.com/\n",
      "3          3Phases Renewables  http://www.3phasesrenewables.com/\n",
      "4          3Phases Renewables  http://www.3phasesrenewables.com/\n",
      "..                        ...                                ...\n",
      "202              Powerex Corp            http://www.powerex.com/\n",
      "203  Puget Sound Energy (PSE)               https://www.pse.com/\n",
      "204  Puget Sound Energy (PSE)               https://www.pse.com/\n",
      "205  Puget Sound Energy (PSE)               https://www.pse.com/\n",
      "206  Puget Sound Energy (PSE)               https://www.pse.com/\n",
      "\n",
      "[207 rows x 2 columns]\n"
     ]
    },
    {
     "name": "stderr",
     "output_type": "stream",
     "text": [
      "C:\\Users\\USER\\AppData\\Local\\Temp\\ipykernel_17652\\3827693980.py:19: FutureWarning: The frame.append method is deprecated and will be removed from pandas in a future version. Use pandas.concat instead.\n",
      "  gc = gc.append(Dic, ignore_index=True)\n"
     ]
    },
    {
     "name": "stdout",
     "output_type": "stream",
     "text": [
      "                      Company                            Website\n",
      "0                         NaN                                NaN\n",
      "1               3Degrees Inc.           https://3degreesinc.com/\n",
      "2               3Degrees Inc.           https://3degreesinc.com/\n",
      "3          3Phases Renewables  http://www.3phasesrenewables.com/\n",
      "4          3Phases Renewables  http://www.3phasesrenewables.com/\n",
      "..                        ...                                ...\n",
      "203  Puget Sound Energy (PSE)               https://www.pse.com/\n",
      "204  Puget Sound Energy (PSE)               https://www.pse.com/\n",
      "205  Puget Sound Energy (PSE)               https://www.pse.com/\n",
      "206  Puget Sound Energy (PSE)               https://www.pse.com/\n",
      "207  Puget Sound Energy (PSE)               https://www.pse.com/\n",
      "\n",
      "[208 rows x 2 columns]\n"
     ]
    },
    {
     "name": "stderr",
     "output_type": "stream",
     "text": [
      "C:\\Users\\USER\\AppData\\Local\\Temp\\ipykernel_17652\\3827693980.py:19: FutureWarning: The frame.append method is deprecated and will be removed from pandas in a future version. Use pandas.concat instead.\n",
      "  gc = gc.append(Dic, ignore_index=True)\n"
     ]
    },
    {
     "name": "stdout",
     "output_type": "stream",
     "text": [
      "                      Company                            Website\n",
      "0                         NaN                                NaN\n",
      "1               3Degrees Inc.           https://3degreesinc.com/\n",
      "2               3Degrees Inc.           https://3degreesinc.com/\n",
      "3          3Phases Renewables  http://www.3phasesrenewables.com/\n",
      "4          3Phases Renewables  http://www.3phasesrenewables.com/\n",
      "..                        ...                                ...\n",
      "204  Puget Sound Energy (PSE)               https://www.pse.com/\n",
      "205  Puget Sound Energy (PSE)               https://www.pse.com/\n",
      "206  Puget Sound Energy (PSE)               https://www.pse.com/\n",
      "207  Puget Sound Energy (PSE)               https://www.pse.com/\n",
      "208  Puget Sound Energy (PSE)               https://www.pse.com/\n",
      "\n",
      "[209 rows x 2 columns]\n"
     ]
    },
    {
     "name": "stderr",
     "output_type": "stream",
     "text": [
      "C:\\Users\\USER\\AppData\\Local\\Temp\\ipykernel_17652\\3827693980.py:19: FutureWarning: The frame.append method is deprecated and will be removed from pandas in a future version. Use pandas.concat instead.\n",
      "  gc = gc.append(Dic, ignore_index=True)\n"
     ]
    },
    {
     "name": "stdout",
     "output_type": "stream",
     "text": [
      "                      Company                            Website\n",
      "0                         NaN                                NaN\n",
      "1               3Degrees Inc.           https://3degreesinc.com/\n",
      "2               3Degrees Inc.           https://3degreesinc.com/\n",
      "3          3Phases Renewables  http://www.3phasesrenewables.com/\n",
      "4          3Phases Renewables  http://www.3phasesrenewables.com/\n",
      "..                        ...                                ...\n",
      "205  Puget Sound Energy (PSE)               https://www.pse.com/\n",
      "206  Puget Sound Energy (PSE)               https://www.pse.com/\n",
      "207  Puget Sound Energy (PSE)               https://www.pse.com/\n",
      "208  Puget Sound Energy (PSE)               https://www.pse.com/\n",
      "209  Puget Sound Energy (PSE)               https://www.pse.com/\n",
      "\n",
      "[210 rows x 2 columns]\n"
     ]
    },
    {
     "name": "stderr",
     "output_type": "stream",
     "text": [
      "C:\\Users\\USER\\AppData\\Local\\Temp\\ipykernel_17652\\3827693980.py:19: FutureWarning: The frame.append method is deprecated and will be removed from pandas in a future version. Use pandas.concat instead.\n",
      "  gc = gc.append(Dic, ignore_index=True)\n"
     ]
    },
    {
     "name": "stdout",
     "output_type": "stream",
     "text": [
      "                      Company                            Website\n",
      "0                         NaN                                NaN\n",
      "1               3Degrees Inc.           https://3degreesinc.com/\n",
      "2               3Degrees Inc.           https://3degreesinc.com/\n",
      "3          3Phases Renewables  http://www.3phasesrenewables.com/\n",
      "4          3Phases Renewables  http://www.3phasesrenewables.com/\n",
      "..                        ...                                ...\n",
      "206  Puget Sound Energy (PSE)               https://www.pse.com/\n",
      "207  Puget Sound Energy (PSE)               https://www.pse.com/\n",
      "208  Puget Sound Energy (PSE)               https://www.pse.com/\n",
      "209  Puget Sound Energy (PSE)               https://www.pse.com/\n",
      "210  Puget Sound Energy (PSE)               https://www.pse.com/\n",
      "\n",
      "[211 rows x 2 columns]\n"
     ]
    },
    {
     "name": "stderr",
     "output_type": "stream",
     "text": [
      "C:\\Users\\USER\\AppData\\Local\\Temp\\ipykernel_17652\\3827693980.py:19: FutureWarning: The frame.append method is deprecated and will be removed from pandas in a future version. Use pandas.concat instead.\n",
      "  gc = gc.append(Dic, ignore_index=True)\n"
     ]
    },
    {
     "name": "stdout",
     "output_type": "stream",
     "text": [
      "                      Company                            Website\n",
      "0                         NaN                                NaN\n",
      "1               3Degrees Inc.           https://3degreesinc.com/\n",
      "2               3Degrees Inc.           https://3degreesinc.com/\n",
      "3          3Phases Renewables  http://www.3phasesrenewables.com/\n",
      "4          3Phases Renewables  http://www.3phasesrenewables.com/\n",
      "..                        ...                                ...\n",
      "207  Puget Sound Energy (PSE)               https://www.pse.com/\n",
      "208  Puget Sound Energy (PSE)               https://www.pse.com/\n",
      "209  Puget Sound Energy (PSE)               https://www.pse.com/\n",
      "210  Puget Sound Energy (PSE)               https://www.pse.com/\n",
      "211  Puget Sound Energy (PSE)               https://www.pse.com/\n",
      "\n",
      "[212 rows x 2 columns]\n"
     ]
    },
    {
     "name": "stderr",
     "output_type": "stream",
     "text": [
      "C:\\Users\\USER\\AppData\\Local\\Temp\\ipykernel_17652\\3827693980.py:19: FutureWarning: The frame.append method is deprecated and will be removed from pandas in a future version. Use pandas.concat instead.\n",
      "  gc = gc.append(Dic, ignore_index=True)\n"
     ]
    },
    {
     "name": "stdout",
     "output_type": "stream",
     "text": [
      "                      Company                            Website\n",
      "0                         NaN                                NaN\n",
      "1               3Degrees Inc.           https://3degreesinc.com/\n",
      "2               3Degrees Inc.           https://3degreesinc.com/\n",
      "3          3Phases Renewables  http://www.3phasesrenewables.com/\n",
      "4          3Phases Renewables  http://www.3phasesrenewables.com/\n",
      "..                        ...                                ...\n",
      "208  Puget Sound Energy (PSE)               https://www.pse.com/\n",
      "209  Puget Sound Energy (PSE)               https://www.pse.com/\n",
      "210  Puget Sound Energy (PSE)               https://www.pse.com/\n",
      "211  Puget Sound Energy (PSE)               https://www.pse.com/\n",
      "212  Puget Sound Energy (PSE)               https://www.pse.com/\n",
      "\n",
      "[213 rows x 2 columns]\n"
     ]
    },
    {
     "name": "stderr",
     "output_type": "stream",
     "text": [
      "C:\\Users\\USER\\AppData\\Local\\Temp\\ipykernel_17652\\3827693980.py:19: FutureWarning: The frame.append method is deprecated and will be removed from pandas in a future version. Use pandas.concat instead.\n",
      "  gc = gc.append(Dic, ignore_index=True)\n"
     ]
    },
    {
     "name": "stdout",
     "output_type": "stream",
     "text": [
      "                      Company                            Website\n",
      "0                         NaN                                NaN\n",
      "1               3Degrees Inc.           https://3degreesinc.com/\n",
      "2               3Degrees Inc.           https://3degreesinc.com/\n",
      "3          3Phases Renewables  http://www.3phasesrenewables.com/\n",
      "4          3Phases Renewables  http://www.3phasesrenewables.com/\n",
      "..                        ...                                ...\n",
      "209  Puget Sound Energy (PSE)               https://www.pse.com/\n",
      "210  Puget Sound Energy (PSE)               https://www.pse.com/\n",
      "211  Puget Sound Energy (PSE)               https://www.pse.com/\n",
      "212  Puget Sound Energy (PSE)               https://www.pse.com/\n",
      "213  Puget Sound Energy (PSE)               https://www.pse.com/\n",
      "\n",
      "[214 rows x 2 columns]\n"
     ]
    },
    {
     "name": "stderr",
     "output_type": "stream",
     "text": [
      "C:\\Users\\USER\\AppData\\Local\\Temp\\ipykernel_17652\\3827693980.py:19: FutureWarning: The frame.append method is deprecated and will be removed from pandas in a future version. Use pandas.concat instead.\n",
      "  gc = gc.append(Dic, ignore_index=True)\n"
     ]
    },
    {
     "name": "stdout",
     "output_type": "stream",
     "text": [
      "                            Company                            Website\n",
      "0                               NaN                                NaN\n",
      "1                     3Degrees Inc.           https://3degreesinc.com/\n",
      "2                     3Degrees Inc.           https://3degreesinc.com/\n",
      "3                3Phases Renewables  http://www.3phasesrenewables.com/\n",
      "4                3Phases Renewables  http://www.3phasesrenewables.com/\n",
      "..                              ...                                ...\n",
      "210        Puget Sound Energy (PSE)               https://www.pse.com/\n",
      "211        Puget Sound Energy (PSE)               https://www.pse.com/\n",
      "212        Puget Sound Energy (PSE)               https://www.pse.com/\n",
      "213        Puget Sound Energy (PSE)               https://www.pse.com/\n",
      "214  Reliant Energy Retail Services            http://www.reliant.com/\n",
      "\n",
      "[215 rows x 2 columns]\n"
     ]
    },
    {
     "name": "stderr",
     "output_type": "stream",
     "text": [
      "C:\\Users\\USER\\AppData\\Local\\Temp\\ipykernel_17652\\3827693980.py:19: FutureWarning: The frame.append method is deprecated and will be removed from pandas in a future version. Use pandas.concat instead.\n",
      "  gc = gc.append(Dic, ignore_index=True)\n"
     ]
    },
    {
     "name": "stdout",
     "output_type": "stream",
     "text": [
      "                            Company                            Website\n",
      "0                               NaN                                NaN\n",
      "1                     3Degrees Inc.           https://3degreesinc.com/\n",
      "2                     3Degrees Inc.           https://3degreesinc.com/\n",
      "3                3Phases Renewables  http://www.3phasesrenewables.com/\n",
      "4                3Phases Renewables  http://www.3phasesrenewables.com/\n",
      "..                              ...                                ...\n",
      "211        Puget Sound Energy (PSE)               https://www.pse.com/\n",
      "212        Puget Sound Energy (PSE)               https://www.pse.com/\n",
      "213        Puget Sound Energy (PSE)               https://www.pse.com/\n",
      "214  Reliant Energy Retail Services            http://www.reliant.com/\n",
      "215  Reliant Energy Retail Services            http://www.reliant.com/\n",
      "\n",
      "[216 rows x 2 columns]\n"
     ]
    },
    {
     "name": "stderr",
     "output_type": "stream",
     "text": [
      "C:\\Users\\USER\\AppData\\Local\\Temp\\ipykernel_17652\\3827693980.py:19: FutureWarning: The frame.append method is deprecated and will be removed from pandas in a future version. Use pandas.concat instead.\n",
      "  gc = gc.append(Dic, ignore_index=True)\n"
     ]
    },
    {
     "name": "stdout",
     "output_type": "stream",
     "text": [
      "                                          Company  \\\n",
      "0                                             NaN   \n",
      "1                                   3Degrees Inc.   \n",
      "2                                   3Degrees Inc.   \n",
      "3                              3Phases Renewables   \n",
      "4                              3Phases Renewables   \n",
      "..                                            ...   \n",
      "212                      Puget Sound Energy (PSE)   \n",
      "213                      Puget Sound Energy (PSE)   \n",
      "214                Reliant Energy Retail Services   \n",
      "215                Reliant Energy Retail Services   \n",
      "216  Sacramento Municipal Utility District (SMUD)   \n",
      "\n",
      "                               Website  \n",
      "0                                  NaN  \n",
      "1             https://3degreesinc.com/  \n",
      "2             https://3degreesinc.com/  \n",
      "3    http://www.3phasesrenewables.com/  \n",
      "4    http://www.3phasesrenewables.com/  \n",
      "..                                 ...  \n",
      "212               https://www.pse.com/  \n",
      "213               https://www.pse.com/  \n",
      "214            http://www.reliant.com/  \n",
      "215            http://www.reliant.com/  \n",
      "216               http://www.smud.org/  \n",
      "\n",
      "[217 rows x 2 columns]\n"
     ]
    },
    {
     "name": "stderr",
     "output_type": "stream",
     "text": [
      "C:\\Users\\USER\\AppData\\Local\\Temp\\ipykernel_17652\\3827693980.py:19: FutureWarning: The frame.append method is deprecated and will be removed from pandas in a future version. Use pandas.concat instead.\n",
      "  gc = gc.append(Dic, ignore_index=True)\n"
     ]
    },
    {
     "name": "stdout",
     "output_type": "stream",
     "text": [
      "                                          Company  \\\n",
      "0                                             NaN   \n",
      "1                                   3Degrees Inc.   \n",
      "2                                   3Degrees Inc.   \n",
      "3                              3Phases Renewables   \n",
      "4                              3Phases Renewables   \n",
      "..                                            ...   \n",
      "213                      Puget Sound Energy (PSE)   \n",
      "214                Reliant Energy Retail Services   \n",
      "215                Reliant Energy Retail Services   \n",
      "216  Sacramento Municipal Utility District (SMUD)   \n",
      "217  Sacramento Municipal Utility District (SMUD)   \n",
      "\n",
      "                               Website  \n",
      "0                                  NaN  \n",
      "1             https://3degreesinc.com/  \n",
      "2             https://3degreesinc.com/  \n",
      "3    http://www.3phasesrenewables.com/  \n",
      "4    http://www.3phasesrenewables.com/  \n",
      "..                                 ...  \n",
      "213               https://www.pse.com/  \n",
      "214            http://www.reliant.com/  \n",
      "215            http://www.reliant.com/  \n",
      "216               http://www.smud.org/  \n",
      "217               http://www.smud.org/  \n",
      "\n",
      "[218 rows x 2 columns]\n"
     ]
    },
    {
     "name": "stderr",
     "output_type": "stream",
     "text": [
      "C:\\Users\\USER\\AppData\\Local\\Temp\\ipykernel_17652\\3827693980.py:19: FutureWarning: The frame.append method is deprecated and will be removed from pandas in a future version. Use pandas.concat instead.\n",
      "  gc = gc.append(Dic, ignore_index=True)\n"
     ]
    },
    {
     "name": "stdout",
     "output_type": "stream",
     "text": [
      "                                          Company  \\\n",
      "0                                             NaN   \n",
      "1                                   3Degrees Inc.   \n",
      "2                                   3Degrees Inc.   \n",
      "3                              3Phases Renewables   \n",
      "4                              3Phases Renewables   \n",
      "..                                            ...   \n",
      "214                Reliant Energy Retail Services   \n",
      "215                Reliant Energy Retail Services   \n",
      "216  Sacramento Municipal Utility District (SMUD)   \n",
      "217  Sacramento Municipal Utility District (SMUD)   \n",
      "218  Sacramento Municipal Utility District (SMUD)   \n",
      "\n",
      "                               Website  \n",
      "0                                  NaN  \n",
      "1             https://3degreesinc.com/  \n",
      "2             https://3degreesinc.com/  \n",
      "3    http://www.3phasesrenewables.com/  \n",
      "4    http://www.3phasesrenewables.com/  \n",
      "..                                 ...  \n",
      "214            http://www.reliant.com/  \n",
      "215            http://www.reliant.com/  \n",
      "216               http://www.smud.org/  \n",
      "217               http://www.smud.org/  \n",
      "218               http://www.smud.org/  \n",
      "\n",
      "[219 rows x 2 columns]\n"
     ]
    },
    {
     "name": "stderr",
     "output_type": "stream",
     "text": [
      "C:\\Users\\USER\\AppData\\Local\\Temp\\ipykernel_17652\\3827693980.py:19: FutureWarning: The frame.append method is deprecated and will be removed from pandas in a future version. Use pandas.concat instead.\n",
      "  gc = gc.append(Dic, ignore_index=True)\n"
     ]
    },
    {
     "name": "stdout",
     "output_type": "stream",
     "text": [
      "                                          Company  \\\n",
      "0                                             NaN   \n",
      "1                                   3Degrees Inc.   \n",
      "2                                   3Degrees Inc.   \n",
      "3                              3Phases Renewables   \n",
      "4                              3Phases Renewables   \n",
      "..                                            ...   \n",
      "215                Reliant Energy Retail Services   \n",
      "216  Sacramento Municipal Utility District (SMUD)   \n",
      "217  Sacramento Municipal Utility District (SMUD)   \n",
      "218  Sacramento Municipal Utility District (SMUD)   \n",
      "219  Sacramento Municipal Utility District (SMUD)   \n",
      "\n",
      "                               Website  \n",
      "0                                  NaN  \n",
      "1             https://3degreesinc.com/  \n",
      "2             https://3degreesinc.com/  \n",
      "3    http://www.3phasesrenewables.com/  \n",
      "4    http://www.3phasesrenewables.com/  \n",
      "..                                 ...  \n",
      "215            http://www.reliant.com/  \n",
      "216               http://www.smud.org/  \n",
      "217               http://www.smud.org/  \n",
      "218               http://www.smud.org/  \n",
      "219               http://www.smud.org/  \n",
      "\n",
      "[220 rows x 2 columns]\n"
     ]
    },
    {
     "name": "stderr",
     "output_type": "stream",
     "text": [
      "C:\\Users\\USER\\AppData\\Local\\Temp\\ipykernel_17652\\3827693980.py:19: FutureWarning: The frame.append method is deprecated and will be removed from pandas in a future version. Use pandas.concat instead.\n",
      "  gc = gc.append(Dic, ignore_index=True)\n"
     ]
    },
    {
     "name": "stdout",
     "output_type": "stream",
     "text": [
      "                                          Company  \\\n",
      "0                                             NaN   \n",
      "1                                   3Degrees Inc.   \n",
      "2                                   3Degrees Inc.   \n",
      "3                              3Phases Renewables   \n",
      "4                              3Phases Renewables   \n",
      "..                                            ...   \n",
      "216  Sacramento Municipal Utility District (SMUD)   \n",
      "217  Sacramento Municipal Utility District (SMUD)   \n",
      "218  Sacramento Municipal Utility District (SMUD)   \n",
      "219  Sacramento Municipal Utility District (SMUD)   \n",
      "220  Sacramento Municipal Utility District (SMUD)   \n",
      "\n",
      "                               Website  \n",
      "0                                  NaN  \n",
      "1             https://3degreesinc.com/  \n",
      "2             https://3degreesinc.com/  \n",
      "3    http://www.3phasesrenewables.com/  \n",
      "4    http://www.3phasesrenewables.com/  \n",
      "..                                 ...  \n",
      "216               http://www.smud.org/  \n",
      "217               http://www.smud.org/  \n",
      "218               http://www.smud.org/  \n",
      "219               http://www.smud.org/  \n",
      "220               http://www.smud.org/  \n",
      "\n",
      "[221 rows x 2 columns]\n"
     ]
    },
    {
     "name": "stderr",
     "output_type": "stream",
     "text": [
      "C:\\Users\\USER\\AppData\\Local\\Temp\\ipykernel_17652\\3827693980.py:19: FutureWarning: The frame.append method is deprecated and will be removed from pandas in a future version. Use pandas.concat instead.\n",
      "  gc = gc.append(Dic, ignore_index=True)\n"
     ]
    },
    {
     "name": "stdout",
     "output_type": "stream",
     "text": [
      "                                          Company  \\\n",
      "0                                             NaN   \n",
      "1                                   3Degrees Inc.   \n",
      "2                                   3Degrees Inc.   \n",
      "3                              3Phases Renewables   \n",
      "4                              3Phases Renewables   \n",
      "..                                            ...   \n",
      "217  Sacramento Municipal Utility District (SMUD)   \n",
      "218  Sacramento Municipal Utility District (SMUD)   \n",
      "219  Sacramento Municipal Utility District (SMUD)   \n",
      "220  Sacramento Municipal Utility District (SMUD)   \n",
      "221              San Diego Gas & Electric (SDG&E)   \n",
      "\n",
      "                               Website  \n",
      "0                                  NaN  \n",
      "1             https://3degreesinc.com/  \n",
      "2             https://3degreesinc.com/  \n",
      "3    http://www.3phasesrenewables.com/  \n",
      "4    http://www.3phasesrenewables.com/  \n",
      "..                                 ...  \n",
      "217               http://www.smud.org/  \n",
      "218               http://www.smud.org/  \n",
      "219               http://www.smud.org/  \n",
      "220               http://www.smud.org/  \n",
      "221              https://www.sdge.com/  \n",
      "\n",
      "[222 rows x 2 columns]\n"
     ]
    },
    {
     "name": "stderr",
     "output_type": "stream",
     "text": [
      "C:\\Users\\USER\\AppData\\Local\\Temp\\ipykernel_17652\\3827693980.py:19: FutureWarning: The frame.append method is deprecated and will be removed from pandas in a future version. Use pandas.concat instead.\n",
      "  gc = gc.append(Dic, ignore_index=True)\n"
     ]
    },
    {
     "name": "stdout",
     "output_type": "stream",
     "text": [
      "                                          Company  \\\n",
      "0                                             NaN   \n",
      "1                                   3Degrees Inc.   \n",
      "2                                   3Degrees Inc.   \n",
      "3                              3Phases Renewables   \n",
      "4                              3Phases Renewables   \n",
      "..                                            ...   \n",
      "218  Sacramento Municipal Utility District (SMUD)   \n",
      "219  Sacramento Municipal Utility District (SMUD)   \n",
      "220  Sacramento Municipal Utility District (SMUD)   \n",
      "221              San Diego Gas & Electric (SDG&E)   \n",
      "222              San Diego Gas & Electric (SDG&E)   \n",
      "\n",
      "                               Website  \n",
      "0                                  NaN  \n",
      "1             https://3degreesinc.com/  \n",
      "2             https://3degreesinc.com/  \n",
      "3    http://www.3phasesrenewables.com/  \n",
      "4    http://www.3phasesrenewables.com/  \n",
      "..                                 ...  \n",
      "218               http://www.smud.org/  \n",
      "219               http://www.smud.org/  \n",
      "220               http://www.smud.org/  \n",
      "221              https://www.sdge.com/  \n",
      "222              https://www.sdge.com/  \n",
      "\n",
      "[223 rows x 2 columns]\n"
     ]
    },
    {
     "name": "stderr",
     "output_type": "stream",
     "text": [
      "C:\\Users\\USER\\AppData\\Local\\Temp\\ipykernel_17652\\3827693980.py:19: FutureWarning: The frame.append method is deprecated and will be removed from pandas in a future version. Use pandas.concat instead.\n",
      "  gc = gc.append(Dic, ignore_index=True)\n"
     ]
    },
    {
     "name": "stdout",
     "output_type": "stream",
     "text": [
      "                                          Company  \\\n",
      "0                                             NaN   \n",
      "1                                   3Degrees Inc.   \n",
      "2                                   3Degrees Inc.   \n",
      "3                              3Phases Renewables   \n",
      "4                              3Phases Renewables   \n",
      "..                                            ...   \n",
      "219  Sacramento Municipal Utility District (SMUD)   \n",
      "220  Sacramento Municipal Utility District (SMUD)   \n",
      "221              San Diego Gas & Electric (SDG&E)   \n",
      "222              San Diego Gas & Electric (SDG&E)   \n",
      "223              San Diego Gas & Electric (SDG&E)   \n",
      "\n",
      "                               Website  \n",
      "0                                  NaN  \n",
      "1             https://3degreesinc.com/  \n",
      "2             https://3degreesinc.com/  \n",
      "3    http://www.3phasesrenewables.com/  \n",
      "4    http://www.3phasesrenewables.com/  \n",
      "..                                 ...  \n",
      "219               http://www.smud.org/  \n",
      "220               http://www.smud.org/  \n",
      "221              https://www.sdge.com/  \n",
      "222              https://www.sdge.com/  \n",
      "223              https://www.sdge.com/  \n",
      "\n",
      "[224 rows x 2 columns]\n"
     ]
    },
    {
     "name": "stderr",
     "output_type": "stream",
     "text": [
      "C:\\Users\\USER\\AppData\\Local\\Temp\\ipykernel_17652\\3827693980.py:19: FutureWarning: The frame.append method is deprecated and will be removed from pandas in a future version. Use pandas.concat instead.\n",
      "  gc = gc.append(Dic, ignore_index=True)\n"
     ]
    },
    {
     "name": "stdout",
     "output_type": "stream",
     "text": [
      "                                          Company  \\\n",
      "0                                             NaN   \n",
      "1                                   3Degrees Inc.   \n",
      "2                                   3Degrees Inc.   \n",
      "3                              3Phases Renewables   \n",
      "4                              3Phases Renewables   \n",
      "..                                            ...   \n",
      "220  Sacramento Municipal Utility District (SMUD)   \n",
      "221              San Diego Gas & Electric (SDG&E)   \n",
      "222              San Diego Gas & Electric (SDG&E)   \n",
      "223              San Diego Gas & Electric (SDG&E)   \n",
      "224              San Diego Gas & Electric (SDG&E)   \n",
      "\n",
      "                               Website  \n",
      "0                                  NaN  \n",
      "1             https://3degreesinc.com/  \n",
      "2             https://3degreesinc.com/  \n",
      "3    http://www.3phasesrenewables.com/  \n",
      "4    http://www.3phasesrenewables.com/  \n",
      "..                                 ...  \n",
      "220               http://www.smud.org/  \n",
      "221              https://www.sdge.com/  \n",
      "222              https://www.sdge.com/  \n",
      "223              https://www.sdge.com/  \n",
      "224              https://www.sdge.com/  \n",
      "\n",
      "[225 rows x 2 columns]\n"
     ]
    },
    {
     "name": "stderr",
     "output_type": "stream",
     "text": [
      "C:\\Users\\USER\\AppData\\Local\\Temp\\ipykernel_17652\\3827693980.py:19: FutureWarning: The frame.append method is deprecated and will be removed from pandas in a future version. Use pandas.concat instead.\n",
      "  gc = gc.append(Dic, ignore_index=True)\n"
     ]
    },
    {
     "name": "stdout",
     "output_type": "stream",
     "text": [
      "                              Company                              Website\n",
      "0                                 NaN                                  NaN\n",
      "1                       3Degrees Inc.             https://3degreesinc.com/\n",
      "2                       3Degrees Inc.             https://3degreesinc.com/\n",
      "3                  3Phases Renewables    http://www.3phasesrenewables.com/\n",
      "4                  3Phases Renewables    http://www.3phasesrenewables.com/\n",
      "..                                ...                                  ...\n",
      "221  San Diego Gas & Electric (SDG&E)                https://www.sdge.com/\n",
      "222  San Diego Gas & Electric (SDG&E)                https://www.sdge.com/\n",
      "223  San Diego Gas & Electric (SDG&E)                https://www.sdge.com/\n",
      "224  San Diego Gas & Electric (SDG&E)                https://www.sdge.com/\n",
      "225      San Jose Clean Energy (SJCE)  https://www.sanjosecleanenergy.org/\n",
      "\n",
      "[226 rows x 2 columns]\n"
     ]
    },
    {
     "name": "stderr",
     "output_type": "stream",
     "text": [
      "C:\\Users\\USER\\AppData\\Local\\Temp\\ipykernel_17652\\3827693980.py:19: FutureWarning: The frame.append method is deprecated and will be removed from pandas in a future version. Use pandas.concat instead.\n",
      "  gc = gc.append(Dic, ignore_index=True)\n"
     ]
    },
    {
     "name": "stdout",
     "output_type": "stream",
     "text": [
      "                              Company                              Website\n",
      "0                                 NaN                                  NaN\n",
      "1                       3Degrees Inc.             https://3degreesinc.com/\n",
      "2                       3Degrees Inc.             https://3degreesinc.com/\n",
      "3                  3Phases Renewables    http://www.3phasesrenewables.com/\n",
      "4                  3Phases Renewables    http://www.3phasesrenewables.com/\n",
      "..                                ...                                  ...\n",
      "222  San Diego Gas & Electric (SDG&E)                https://www.sdge.com/\n",
      "223  San Diego Gas & Electric (SDG&E)                https://www.sdge.com/\n",
      "224  San Diego Gas & Electric (SDG&E)                https://www.sdge.com/\n",
      "225      San Jose Clean Energy (SJCE)  https://www.sanjosecleanenergy.org/\n",
      "226      San Jose Clean Energy (SJCE)  https://www.sanjosecleanenergy.org/\n",
      "\n",
      "[227 rows x 2 columns]\n"
     ]
    },
    {
     "name": "stderr",
     "output_type": "stream",
     "text": [
      "C:\\Users\\USER\\AppData\\Local\\Temp\\ipykernel_17652\\3827693980.py:19: FutureWarning: The frame.append method is deprecated and will be removed from pandas in a future version. Use pandas.concat instead.\n",
      "  gc = gc.append(Dic, ignore_index=True)\n"
     ]
    },
    {
     "name": "stdout",
     "output_type": "stream",
     "text": [
      "                              Company                              Website\n",
      "0                                 NaN                                  NaN\n",
      "1                       3Degrees Inc.             https://3degreesinc.com/\n",
      "2                       3Degrees Inc.             https://3degreesinc.com/\n",
      "3                  3Phases Renewables    http://www.3phasesrenewables.com/\n",
      "4                  3Phases Renewables    http://www.3phasesrenewables.com/\n",
      "..                                ...                                  ...\n",
      "223  San Diego Gas & Electric (SDG&E)                https://www.sdge.com/\n",
      "224  San Diego Gas & Electric (SDG&E)                https://www.sdge.com/\n",
      "225      San Jose Clean Energy (SJCE)  https://www.sanjosecleanenergy.org/\n",
      "226      San Jose Clean Energy (SJCE)  https://www.sanjosecleanenergy.org/\n",
      "227                     Santee Cooper         http://www.santeecooper.com/\n",
      "\n",
      "[228 rows x 2 columns]\n"
     ]
    },
    {
     "name": "stderr",
     "output_type": "stream",
     "text": [
      "C:\\Users\\USER\\AppData\\Local\\Temp\\ipykernel_17652\\3827693980.py:19: FutureWarning: The frame.append method is deprecated and will be removed from pandas in a future version. Use pandas.concat instead.\n",
      "  gc = gc.append(Dic, ignore_index=True)\n"
     ]
    },
    {
     "name": "stdout",
     "output_type": "stream",
     "text": [
      "                              Company                              Website\n",
      "0                                 NaN                                  NaN\n",
      "1                       3Degrees Inc.             https://3degreesinc.com/\n",
      "2                       3Degrees Inc.             https://3degreesinc.com/\n",
      "3                  3Phases Renewables    http://www.3phasesrenewables.com/\n",
      "4                  3Phases Renewables    http://www.3phasesrenewables.com/\n",
      "..                                ...                                  ...\n",
      "224  San Diego Gas & Electric (SDG&E)                https://www.sdge.com/\n",
      "225      San Jose Clean Energy (SJCE)  https://www.sanjosecleanenergy.org/\n",
      "226      San Jose Clean Energy (SJCE)  https://www.sanjosecleanenergy.org/\n",
      "227                     Santee Cooper         http://www.santeecooper.com/\n",
      "228                     Santee Cooper         http://www.santeecooper.com/\n",
      "\n",
      "[229 rows x 2 columns]\n"
     ]
    },
    {
     "name": "stderr",
     "output_type": "stream",
     "text": [
      "C:\\Users\\USER\\AppData\\Local\\Temp\\ipykernel_17652\\3827693980.py:19: FutureWarning: The frame.append method is deprecated and will be removed from pandas in a future version. Use pandas.concat instead.\n",
      "  gc = gc.append(Dic, ignore_index=True)\n"
     ]
    },
    {
     "name": "stdout",
     "output_type": "stream",
     "text": [
      "                          Company                              Website\n",
      "0                             NaN                                  NaN\n",
      "1                   3Degrees Inc.             https://3degreesinc.com/\n",
      "2                   3Degrees Inc.             https://3degreesinc.com/\n",
      "3              3Phases Renewables    http://www.3phasesrenewables.com/\n",
      "4              3Phases Renewables    http://www.3phasesrenewables.com/\n",
      "..                            ...                                  ...\n",
      "225  San Jose Clean Energy (SJCE)  https://www.sanjosecleanenergy.org/\n",
      "226  San Jose Clean Energy (SJCE)  https://www.sanjosecleanenergy.org/\n",
      "227                 Santee Cooper         http://www.santeecooper.com/\n",
      "228                 Santee Cooper         http://www.santeecooper.com/\n",
      "229                 Santee Cooper         http://www.santeecooper.com/\n",
      "\n",
      "[230 rows x 2 columns]\n"
     ]
    },
    {
     "name": "stderr",
     "output_type": "stream",
     "text": [
      "C:\\Users\\USER\\AppData\\Local\\Temp\\ipykernel_17652\\3827693980.py:19: FutureWarning: The frame.append method is deprecated and will be removed from pandas in a future version. Use pandas.concat instead.\n",
      "  gc = gc.append(Dic, ignore_index=True)\n"
     ]
    },
    {
     "name": "stdout",
     "output_type": "stream",
     "text": [
      "                          Company                              Website\n",
      "0                             NaN                                  NaN\n",
      "1                   3Degrees Inc.             https://3degreesinc.com/\n",
      "2                   3Degrees Inc.             https://3degreesinc.com/\n",
      "3              3Phases Renewables    http://www.3phasesrenewables.com/\n",
      "4              3Phases Renewables    http://www.3phasesrenewables.com/\n",
      "..                            ...                                  ...\n",
      "226  San Jose Clean Energy (SJCE)  https://www.sanjosecleanenergy.org/\n",
      "227                 Santee Cooper         http://www.santeecooper.com/\n",
      "228                 Santee Cooper         http://www.santeecooper.com/\n",
      "229                 Santee Cooper         http://www.santeecooper.com/\n",
      "230                 Santee Cooper         http://www.santeecooper.com/\n",
      "\n",
      "[231 rows x 2 columns]\n"
     ]
    },
    {
     "name": "stderr",
     "output_type": "stream",
     "text": [
      "C:\\Users\\USER\\AppData\\Local\\Temp\\ipykernel_17652\\3827693980.py:19: FutureWarning: The frame.append method is deprecated and will be removed from pandas in a future version. Use pandas.concat instead.\n",
      "  gc = gc.append(Dic, ignore_index=True)\n"
     ]
    },
    {
     "name": "stdout",
     "output_type": "stream",
     "text": [
      "                Company                                Website\n",
      "0                   NaN                                    NaN\n",
      "1         3Degrees Inc.               https://3degreesinc.com/\n",
      "2         3Degrees Inc.               https://3degreesinc.com/\n",
      "3    3Phases Renewables      http://www.3phasesrenewables.com/\n",
      "4    3Phases Renewables      http://www.3phasesrenewables.com/\n",
      "..                  ...                                    ...\n",
      "227       Santee Cooper           http://www.santeecooper.com/\n",
      "228       Santee Cooper           http://www.santeecooper.com/\n",
      "229       Santee Cooper           http://www.santeecooper.com/\n",
      "230       Santee Cooper           http://www.santeecooper.com/\n",
      "231  Schneider Electric  https://www.schneider-electric.us/en/\n",
      "\n",
      "[232 rows x 2 columns]\n"
     ]
    },
    {
     "name": "stderr",
     "output_type": "stream",
     "text": [
      "C:\\Users\\USER\\AppData\\Local\\Temp\\ipykernel_17652\\3827693980.py:19: FutureWarning: The frame.append method is deprecated and will be removed from pandas in a future version. Use pandas.concat instead.\n",
      "  gc = gc.append(Dic, ignore_index=True)\n"
     ]
    },
    {
     "name": "stdout",
     "output_type": "stream",
     "text": [
      "                Company                                Website\n",
      "0                   NaN                                    NaN\n",
      "1         3Degrees Inc.               https://3degreesinc.com/\n",
      "2         3Degrees Inc.               https://3degreesinc.com/\n",
      "3    3Phases Renewables      http://www.3phasesrenewables.com/\n",
      "4    3Phases Renewables      http://www.3phasesrenewables.com/\n",
      "..                  ...                                    ...\n",
      "228       Santee Cooper           http://www.santeecooper.com/\n",
      "229       Santee Cooper           http://www.santeecooper.com/\n",
      "230       Santee Cooper           http://www.santeecooper.com/\n",
      "231  Schneider Electric  https://www.schneider-electric.us/en/\n",
      "232  Schneider Electric  https://www.schneider-electric.us/en/\n",
      "\n",
      "[233 rows x 2 columns]\n"
     ]
    },
    {
     "name": "stderr",
     "output_type": "stream",
     "text": [
      "C:\\Users\\USER\\AppData\\Local\\Temp\\ipykernel_17652\\3827693980.py:19: FutureWarning: The frame.append method is deprecated and will be removed from pandas in a future version. Use pandas.concat instead.\n",
      "  gc = gc.append(Dic, ignore_index=True)\n"
     ]
    },
    {
     "name": "stdout",
     "output_type": "stream",
     "text": [
      "                Company                                Website\n",
      "0                   NaN                                    NaN\n",
      "1         3Degrees Inc.               https://3degreesinc.com/\n",
      "2         3Degrees Inc.               https://3degreesinc.com/\n",
      "3    3Phases Renewables      http://www.3phasesrenewables.com/\n",
      "4    3Phases Renewables      http://www.3phasesrenewables.com/\n",
      "..                  ...                                    ...\n",
      "229       Santee Cooper           http://www.santeecooper.com/\n",
      "230       Santee Cooper           http://www.santeecooper.com/\n",
      "231  Schneider Electric  https://www.schneider-electric.us/en/\n",
      "232  Schneider Electric  https://www.schneider-electric.us/en/\n",
      "233  Schneider Electric  https://www.schneider-electric.us/en/\n",
      "\n",
      "[234 rows x 2 columns]\n"
     ]
    },
    {
     "name": "stderr",
     "output_type": "stream",
     "text": [
      "C:\\Users\\USER\\AppData\\Local\\Temp\\ipykernel_17652\\3827693980.py:19: FutureWarning: The frame.append method is deprecated and will be removed from pandas in a future version. Use pandas.concat instead.\n",
      "  gc = gc.append(Dic, ignore_index=True)\n"
     ]
    },
    {
     "name": "stdout",
     "output_type": "stream",
     "text": [
      "                Company                                Website\n",
      "0                   NaN                                    NaN\n",
      "1         3Degrees Inc.               https://3degreesinc.com/\n",
      "2         3Degrees Inc.               https://3degreesinc.com/\n",
      "3    3Phases Renewables      http://www.3phasesrenewables.com/\n",
      "4    3Phases Renewables      http://www.3phasesrenewables.com/\n",
      "..                  ...                                    ...\n",
      "230       Santee Cooper           http://www.santeecooper.com/\n",
      "231  Schneider Electric  https://www.schneider-electric.us/en/\n",
      "232  Schneider Electric  https://www.schneider-electric.us/en/\n",
      "233  Schneider Electric  https://www.schneider-electric.us/en/\n",
      "234  Schneider Electric  https://www.schneider-electric.us/en/\n",
      "\n",
      "[235 rows x 2 columns]\n"
     ]
    },
    {
     "name": "stderr",
     "output_type": "stream",
     "text": [
      "C:\\Users\\USER\\AppData\\Local\\Temp\\ipykernel_17652\\3827693980.py:19: FutureWarning: The frame.append method is deprecated and will be removed from pandas in a future version. Use pandas.concat instead.\n",
      "  gc = gc.append(Dic, ignore_index=True)\n"
     ]
    },
    {
     "name": "stdout",
     "output_type": "stream",
     "text": [
      "                Company                                Website\n",
      "0                   NaN                                    NaN\n",
      "1         3Degrees Inc.               https://3degreesinc.com/\n",
      "2         3Degrees Inc.               https://3degreesinc.com/\n",
      "3    3Phases Renewables      http://www.3phasesrenewables.com/\n",
      "4    3Phases Renewables      http://www.3phasesrenewables.com/\n",
      "..                  ...                                    ...\n",
      "231  Schneider Electric  https://www.schneider-electric.us/en/\n",
      "232  Schneider Electric  https://www.schneider-electric.us/en/\n",
      "233  Schneider Electric  https://www.schneider-electric.us/en/\n",
      "234  Schneider Electric  https://www.schneider-electric.us/en/\n",
      "235  Schneider Electric  https://www.schneider-electric.us/en/\n",
      "\n",
      "[236 rows x 2 columns]\n"
     ]
    },
    {
     "name": "stderr",
     "output_type": "stream",
     "text": [
      "C:\\Users\\USER\\AppData\\Local\\Temp\\ipykernel_17652\\3827693980.py:19: FutureWarning: The frame.append method is deprecated and will be removed from pandas in a future version. Use pandas.concat instead.\n",
      "  gc = gc.append(Dic, ignore_index=True)\n"
     ]
    },
    {
     "name": "stdout",
     "output_type": "stream",
     "text": [
      "                Company                                Website\n",
      "0                   NaN                                    NaN\n",
      "1         3Degrees Inc.               https://3degreesinc.com/\n",
      "2         3Degrees Inc.               https://3degreesinc.com/\n",
      "3    3Phases Renewables      http://www.3phasesrenewables.com/\n",
      "4    3Phases Renewables      http://www.3phasesrenewables.com/\n",
      "..                  ...                                    ...\n",
      "232  Schneider Electric  https://www.schneider-electric.us/en/\n",
      "233  Schneider Electric  https://www.schneider-electric.us/en/\n",
      "234  Schneider Electric  https://www.schneider-electric.us/en/\n",
      "235  Schneider Electric  https://www.schneider-electric.us/en/\n",
      "236  Schneider Electric  https://www.schneider-electric.us/en/\n",
      "\n",
      "[237 rows x 2 columns]\n"
     ]
    },
    {
     "name": "stderr",
     "output_type": "stream",
     "text": [
      "C:\\Users\\USER\\AppData\\Local\\Temp\\ipykernel_17652\\3827693980.py:19: FutureWarning: The frame.append method is deprecated and will be removed from pandas in a future version. Use pandas.concat instead.\n",
      "  gc = gc.append(Dic, ignore_index=True)\n"
     ]
    },
    {
     "name": "stdout",
     "output_type": "stream",
     "text": [
      "                Company                                            Website\n",
      "0                   NaN                                                NaN\n",
      "1         3Degrees Inc.                           https://3degreesinc.com/\n",
      "2         3Degrees Inc.                           https://3degreesinc.com/\n",
      "3    3Phases Renewables                  http://www.3phasesrenewables.com/\n",
      "4    3Phases Renewables                  http://www.3phasesrenewables.com/\n",
      "..                  ...                                                ...\n",
      "233  Schneider Electric              https://www.schneider-electric.us/en/\n",
      "234  Schneider Electric              https://www.schneider-electric.us/en/\n",
      "235  Schneider Electric              https://www.schneider-electric.us/en/\n",
      "236  Schneider Electric              https://www.schneider-electric.us/en/\n",
      "237  Seattle City Light  http://www.cityofseattle.net/light/green/green...\n",
      "\n",
      "[238 rows x 2 columns]\n"
     ]
    },
    {
     "name": "stderr",
     "output_type": "stream",
     "text": [
      "C:\\Users\\USER\\AppData\\Local\\Temp\\ipykernel_17652\\3827693980.py:19: FutureWarning: The frame.append method is deprecated and will be removed from pandas in a future version. Use pandas.concat instead.\n",
      "  gc = gc.append(Dic, ignore_index=True)\n"
     ]
    },
    {
     "name": "stdout",
     "output_type": "stream",
     "text": [
      "                Company                                            Website\n",
      "0                   NaN                                                NaN\n",
      "1         3Degrees Inc.                           https://3degreesinc.com/\n",
      "2         3Degrees Inc.                           https://3degreesinc.com/\n",
      "3    3Phases Renewables                  http://www.3phasesrenewables.com/\n",
      "4    3Phases Renewables                  http://www.3phasesrenewables.com/\n",
      "..                  ...                                                ...\n",
      "234  Schneider Electric              https://www.schneider-electric.us/en/\n",
      "235  Schneider Electric              https://www.schneider-electric.us/en/\n",
      "236  Schneider Electric              https://www.schneider-electric.us/en/\n",
      "237  Seattle City Light  http://www.cityofseattle.net/light/green/green...\n",
      "238  Seattle City Light  http://www.cityofseattle.net/light/green/green...\n",
      "\n",
      "[239 rows x 2 columns]\n"
     ]
    },
    {
     "name": "stderr",
     "output_type": "stream",
     "text": [
      "C:\\Users\\USER\\AppData\\Local\\Temp\\ipykernel_17652\\3827693980.py:19: FutureWarning: The frame.append method is deprecated and will be removed from pandas in a future version. Use pandas.concat instead.\n",
      "  gc = gc.append(Dic, ignore_index=True)\n"
     ]
    },
    {
     "name": "stdout",
     "output_type": "stream",
     "text": [
      "                        Company  \\\n",
      "0                           NaN   \n",
      "1                 3Degrees Inc.   \n",
      "2                 3Degrees Inc.   \n",
      "3            3Phases Renewables   \n",
      "4            3Phases Renewables   \n",
      "..                          ...   \n",
      "235          Schneider Electric   \n",
      "236          Schneider Electric   \n",
      "237          Seattle City Light   \n",
      "238          Seattle City Light   \n",
      "239  Shell Energy North America   \n",
      "\n",
      "                                               Website  \n",
      "0                                                  NaN  \n",
      "1                             https://3degreesinc.com/  \n",
      "2                             https://3degreesinc.com/  \n",
      "3                    http://www.3phasesrenewables.com/  \n",
      "4                    http://www.3phasesrenewables.com/  \n",
      "..                                                 ...  \n",
      "235              https://www.schneider-electric.us/en/  \n",
      "236              https://www.schneider-electric.us/en/  \n",
      "237  http://www.cityofseattle.net/light/green/green...  \n",
      "238  http://www.cityofseattle.net/light/green/green...  \n",
      "239  https://www.shell.us/business-customers/shell-...  \n",
      "\n",
      "[240 rows x 2 columns]\n"
     ]
    },
    {
     "name": "stderr",
     "output_type": "stream",
     "text": [
      "C:\\Users\\USER\\AppData\\Local\\Temp\\ipykernel_17652\\3827693980.py:19: FutureWarning: The frame.append method is deprecated and will be removed from pandas in a future version. Use pandas.concat instead.\n",
      "  gc = gc.append(Dic, ignore_index=True)\n"
     ]
    },
    {
     "name": "stdout",
     "output_type": "stream",
     "text": [
      "                        Company  \\\n",
      "0                           NaN   \n",
      "1                 3Degrees Inc.   \n",
      "2                 3Degrees Inc.   \n",
      "3            3Phases Renewables   \n",
      "4            3Phases Renewables   \n",
      "..                          ...   \n",
      "236          Schneider Electric   \n",
      "237          Seattle City Light   \n",
      "238          Seattle City Light   \n",
      "239  Shell Energy North America   \n",
      "240  Shell Energy North America   \n",
      "\n",
      "                                               Website  \n",
      "0                                                  NaN  \n",
      "1                             https://3degreesinc.com/  \n",
      "2                             https://3degreesinc.com/  \n",
      "3                    http://www.3phasesrenewables.com/  \n",
      "4                    http://www.3phasesrenewables.com/  \n",
      "..                                                 ...  \n",
      "236              https://www.schneider-electric.us/en/  \n",
      "237  http://www.cityofseattle.net/light/green/green...  \n",
      "238  http://www.cityofseattle.net/light/green/green...  \n",
      "239  https://www.shell.us/business-customers/shell-...  \n",
      "240  https://www.shell.us/business-customers/shell-...  \n",
      "\n",
      "[241 rows x 2 columns]\n"
     ]
    },
    {
     "name": "stderr",
     "output_type": "stream",
     "text": [
      "C:\\Users\\USER\\AppData\\Local\\Temp\\ipykernel_17652\\3827693980.py:19: FutureWarning: The frame.append method is deprecated and will be removed from pandas in a future version. Use pandas.concat instead.\n",
      "  gc = gc.append(Dic, ignore_index=True)\n"
     ]
    },
    {
     "name": "stdout",
     "output_type": "stream",
     "text": [
      "                         Company  \\\n",
      "0                            NaN   \n",
      "1                  3Degrees Inc.   \n",
      "2                  3Degrees Inc.   \n",
      "3             3Phases Renewables   \n",
      "4             3Phases Renewables   \n",
      "..                           ...   \n",
      "237           Seattle City Light   \n",
      "238           Seattle City Light   \n",
      "239   Shell Energy North America   \n",
      "240   Shell Energy North America   \n",
      "241  Silicon Valley Clean Energy   \n",
      "\n",
      "                                               Website  \n",
      "0                                                  NaN  \n",
      "1                             https://3degreesinc.com/  \n",
      "2                             https://3degreesinc.com/  \n",
      "3                    http://www.3phasesrenewables.com/  \n",
      "4                    http://www.3phasesrenewables.com/  \n",
      "..                                                 ...  \n",
      "237  http://www.cityofseattle.net/light/green/green...  \n",
      "238  http://www.cityofseattle.net/light/green/green...  \n",
      "239  https://www.shell.us/business-customers/shell-...  \n",
      "240  https://www.shell.us/business-customers/shell-...  \n",
      "241                     https://www.svcleanenergy.org/  \n",
      "\n",
      "[242 rows x 2 columns]\n"
     ]
    },
    {
     "name": "stderr",
     "output_type": "stream",
     "text": [
      "C:\\Users\\USER\\AppData\\Local\\Temp\\ipykernel_17652\\3827693980.py:19: FutureWarning: The frame.append method is deprecated and will be removed from pandas in a future version. Use pandas.concat instead.\n",
      "  gc = gc.append(Dic, ignore_index=True)\n"
     ]
    },
    {
     "name": "stdout",
     "output_type": "stream",
     "text": [
      "                         Company  \\\n",
      "0                            NaN   \n",
      "1                  3Degrees Inc.   \n",
      "2                  3Degrees Inc.   \n",
      "3             3Phases Renewables   \n",
      "4             3Phases Renewables   \n",
      "..                           ...   \n",
      "238           Seattle City Light   \n",
      "239   Shell Energy North America   \n",
      "240   Shell Energy North America   \n",
      "241  Silicon Valley Clean Energy   \n",
      "242  Silicon Valley Clean Energy   \n",
      "\n",
      "                                               Website  \n",
      "0                                                  NaN  \n",
      "1                             https://3degreesinc.com/  \n",
      "2                             https://3degreesinc.com/  \n",
      "3                    http://www.3phasesrenewables.com/  \n",
      "4                    http://www.3phasesrenewables.com/  \n",
      "..                                                 ...  \n",
      "238  http://www.cityofseattle.net/light/green/green...  \n",
      "239  https://www.shell.us/business-customers/shell-...  \n",
      "240  https://www.shell.us/business-customers/shell-...  \n",
      "241                     https://www.svcleanenergy.org/  \n",
      "242                     https://www.svcleanenergy.org/  \n",
      "\n",
      "[243 rows x 2 columns]\n"
     ]
    },
    {
     "name": "stderr",
     "output_type": "stream",
     "text": [
      "C:\\Users\\USER\\AppData\\Local\\Temp\\ipykernel_17652\\3827693980.py:19: FutureWarning: The frame.append method is deprecated and will be removed from pandas in a future version. Use pandas.concat instead.\n",
      "  gc = gc.append(Dic, ignore_index=True)\n"
     ]
    },
    {
     "name": "stdout",
     "output_type": "stream",
     "text": [
      "                                              Company  \\\n",
      "0                                                 NaN   \n",
      "1                                       3Degrees Inc.   \n",
      "2                                       3Degrees Inc.   \n",
      "3                                  3Phases Renewables   \n",
      "4                                  3Phases Renewables   \n",
      "..                                                ...   \n",
      "239                        Shell Energy North America   \n",
      "240                        Shell Energy North America   \n",
      "241                       Silicon Valley Clean Energy   \n",
      "242                       Silicon Valley Clean Energy   \n",
      "243  Silicon Valley Power (SVP) - City of Santa Clara   \n",
      "\n",
      "                                               Website  \n",
      "0                                                  NaN  \n",
      "1                             https://3degreesinc.com/  \n",
      "2                             https://3degreesinc.com/  \n",
      "3                    http://www.3phasesrenewables.com/  \n",
      "4                    http://www.3phasesrenewables.com/  \n",
      "..                                                 ...  \n",
      "239  https://www.shell.us/business-customers/shell-...  \n",
      "240  https://www.shell.us/business-customers/shell-...  \n",
      "241                     https://www.svcleanenergy.org/  \n",
      "242                     https://www.svcleanenergy.org/  \n",
      "243                 http://www.siliconvalleypower.com/  \n",
      "\n",
      "[244 rows x 2 columns]\n"
     ]
    },
    {
     "name": "stderr",
     "output_type": "stream",
     "text": [
      "C:\\Users\\USER\\AppData\\Local\\Temp\\ipykernel_17652\\3827693980.py:19: FutureWarning: The frame.append method is deprecated and will be removed from pandas in a future version. Use pandas.concat instead.\n",
      "  gc = gc.append(Dic, ignore_index=True)\n"
     ]
    },
    {
     "name": "stdout",
     "output_type": "stream",
     "text": [
      "                                              Company  \\\n",
      "0                                                 NaN   \n",
      "1                                       3Degrees Inc.   \n",
      "2                                       3Degrees Inc.   \n",
      "3                                  3Phases Renewables   \n",
      "4                                  3Phases Renewables   \n",
      "..                                                ...   \n",
      "240                        Shell Energy North America   \n",
      "241                       Silicon Valley Clean Energy   \n",
      "242                       Silicon Valley Clean Energy   \n",
      "243  Silicon Valley Power (SVP) - City of Santa Clara   \n",
      "244  Silicon Valley Power (SVP) - City of Santa Clara   \n",
      "\n",
      "                                               Website  \n",
      "0                                                  NaN  \n",
      "1                             https://3degreesinc.com/  \n",
      "2                             https://3degreesinc.com/  \n",
      "3                    http://www.3phasesrenewables.com/  \n",
      "4                    http://www.3phasesrenewables.com/  \n",
      "..                                                 ...  \n",
      "240  https://www.shell.us/business-customers/shell-...  \n",
      "241                     https://www.svcleanenergy.org/  \n",
      "242                     https://www.svcleanenergy.org/  \n",
      "243                 http://www.siliconvalleypower.com/  \n",
      "244                 http://www.siliconvalleypower.com/  \n",
      "\n",
      "[245 rows x 2 columns]\n"
     ]
    },
    {
     "name": "stderr",
     "output_type": "stream",
     "text": [
      "C:\\Users\\USER\\AppData\\Local\\Temp\\ipykernel_17652\\3827693980.py:19: FutureWarning: The frame.append method is deprecated and will be removed from pandas in a future version. Use pandas.concat instead.\n",
      "  gc = gc.append(Dic, ignore_index=True)\n"
     ]
    },
    {
     "name": "stdout",
     "output_type": "stream",
     "text": [
      "                                              Company  \\\n",
      "0                                                 NaN   \n",
      "1                                       3Degrees Inc.   \n",
      "2                                       3Degrees Inc.   \n",
      "3                                  3Phases Renewables   \n",
      "4                                  3Phases Renewables   \n",
      "..                                                ...   \n",
      "241                       Silicon Valley Clean Energy   \n",
      "242                       Silicon Valley Clean Energy   \n",
      "243  Silicon Valley Power (SVP) - City of Santa Clara   \n",
      "244  Silicon Valley Power (SVP) - City of Santa Clara   \n",
      "245  Silicon Valley Power (SVP) - City of Santa Clara   \n",
      "\n",
      "                                Website  \n",
      "0                                   NaN  \n",
      "1              https://3degreesinc.com/  \n",
      "2              https://3degreesinc.com/  \n",
      "3     http://www.3phasesrenewables.com/  \n",
      "4     http://www.3phasesrenewables.com/  \n",
      "..                                  ...  \n",
      "241      https://www.svcleanenergy.org/  \n",
      "242      https://www.svcleanenergy.org/  \n",
      "243  http://www.siliconvalleypower.com/  \n",
      "244  http://www.siliconvalleypower.com/  \n",
      "245  http://www.siliconvalleypower.com/  \n",
      "\n",
      "[246 rows x 2 columns]\n"
     ]
    },
    {
     "name": "stderr",
     "output_type": "stream",
     "text": [
      "C:\\Users\\USER\\AppData\\Local\\Temp\\ipykernel_17652\\3827693980.py:19: FutureWarning: The frame.append method is deprecated and will be removed from pandas in a future version. Use pandas.concat instead.\n",
      "  gc = gc.append(Dic, ignore_index=True)\n"
     ]
    },
    {
     "name": "stdout",
     "output_type": "stream",
     "text": [
      "                                              Company  \\\n",
      "0                                                 NaN   \n",
      "1                                       3Degrees Inc.   \n",
      "2                                       3Degrees Inc.   \n",
      "3                                  3Phases Renewables   \n",
      "4                                  3Phases Renewables   \n",
      "..                                                ...   \n",
      "242                       Silicon Valley Clean Energy   \n",
      "243  Silicon Valley Power (SVP) - City of Santa Clara   \n",
      "244  Silicon Valley Power (SVP) - City of Santa Clara   \n",
      "245  Silicon Valley Power (SVP) - City of Santa Clara   \n",
      "246                                  Skyview Ventures   \n",
      "\n",
      "                                Website  \n",
      "0                                   NaN  \n",
      "1              https://3degreesinc.com/  \n",
      "2              https://3degreesinc.com/  \n",
      "3     http://www.3phasesrenewables.com/  \n",
      "4     http://www.3phasesrenewables.com/  \n",
      "..                                  ...  \n",
      "242      https://www.svcleanenergy.org/  \n",
      "243  http://www.siliconvalleypower.com/  \n",
      "244  http://www.siliconvalleypower.com/  \n",
      "245  http://www.siliconvalleypower.com/  \n",
      "246        https://skyviewventures.com/  \n",
      "\n",
      "[247 rows x 2 columns]\n"
     ]
    },
    {
     "name": "stderr",
     "output_type": "stream",
     "text": [
      "C:\\Users\\USER\\AppData\\Local\\Temp\\ipykernel_17652\\3827693980.py:19: FutureWarning: The frame.append method is deprecated and will be removed from pandas in a future version. Use pandas.concat instead.\n",
      "  gc = gc.append(Dic, ignore_index=True)\n"
     ]
    },
    {
     "name": "stdout",
     "output_type": "stream",
     "text": [
      "                                              Company  \\\n",
      "0                                                 NaN   \n",
      "1                                       3Degrees Inc.   \n",
      "2                                       3Degrees Inc.   \n",
      "3                                  3Phases Renewables   \n",
      "4                                  3Phases Renewables   \n",
      "..                                                ...   \n",
      "243  Silicon Valley Power (SVP) - City of Santa Clara   \n",
      "244  Silicon Valley Power (SVP) - City of Santa Clara   \n",
      "245  Silicon Valley Power (SVP) - City of Santa Clara   \n",
      "246                                  Skyview Ventures   \n",
      "247                  Smart Charging Technologies, LLC   \n",
      "\n",
      "                                Website  \n",
      "0                                   NaN  \n",
      "1              https://3degreesinc.com/  \n",
      "2              https://3degreesinc.com/  \n",
      "3     http://www.3phasesrenewables.com/  \n",
      "4     http://www.3phasesrenewables.com/  \n",
      "..                                  ...  \n",
      "243  http://www.siliconvalleypower.com/  \n",
      "244  http://www.siliconvalleypower.com/  \n",
      "245  http://www.siliconvalleypower.com/  \n",
      "246        https://skyviewventures.com/  \n",
      "247    https://www.smartchargetech.com/  \n",
      "\n",
      "[248 rows x 2 columns]\n"
     ]
    },
    {
     "name": "stderr",
     "output_type": "stream",
     "text": [
      "C:\\Users\\USER\\AppData\\Local\\Temp\\ipykernel_17652\\3827693980.py:19: FutureWarning: The frame.append method is deprecated and will be removed from pandas in a future version. Use pandas.concat instead.\n",
      "  gc = gc.append(Dic, ignore_index=True)\n"
     ]
    },
    {
     "name": "stdout",
     "output_type": "stream",
     "text": [
      "                                              Company  \\\n",
      "0                                                 NaN   \n",
      "1                                       3Degrees Inc.   \n",
      "2                                       3Degrees Inc.   \n",
      "3                                  3Phases Renewables   \n",
      "4                                  3Phases Renewables   \n",
      "..                                                ...   \n",
      "244  Silicon Valley Power (SVP) - City of Santa Clara   \n",
      "245  Silicon Valley Power (SVP) - City of Santa Clara   \n",
      "246                                  Skyview Ventures   \n",
      "247                  Smart Charging Technologies, LLC   \n",
      "248                                   Smartest Energy   \n",
      "\n",
      "                                   Website  \n",
      "0                                      NaN  \n",
      "1                 https://3degreesinc.com/  \n",
      "2                 https://3degreesinc.com/  \n",
      "3        http://www.3phasesrenewables.com/  \n",
      "4        http://www.3phasesrenewables.com/  \n",
      "..                                     ...  \n",
      "244     http://www.siliconvalleypower.com/  \n",
      "245     http://www.siliconvalleypower.com/  \n",
      "246           https://skyviewventures.com/  \n",
      "247       https://www.smartchargetech.com/  \n",
      "248  https://www.smartestenergy.com/en_us/  \n",
      "\n",
      "[249 rows x 2 columns]\n"
     ]
    },
    {
     "name": "stderr",
     "output_type": "stream",
     "text": [
      "C:\\Users\\USER\\AppData\\Local\\Temp\\ipykernel_17652\\3827693980.py:19: FutureWarning: The frame.append method is deprecated and will be removed from pandas in a future version. Use pandas.concat instead.\n",
      "  gc = gc.append(Dic, ignore_index=True)\n"
     ]
    },
    {
     "name": "stdout",
     "output_type": "stream",
     "text": [
      "                                              Company  \\\n",
      "0                                                 NaN   \n",
      "1                                       3Degrees Inc.   \n",
      "2                                       3Degrees Inc.   \n",
      "3                                  3Phases Renewables   \n",
      "4                                  3Phases Renewables   \n",
      "..                                                ...   \n",
      "245  Silicon Valley Power (SVP) - City of Santa Clara   \n",
      "246                                  Skyview Ventures   \n",
      "247                  Smart Charging Technologies, LLC   \n",
      "248                                   Smartest Energy   \n",
      "249                                  Sol Systems, LLC   \n",
      "\n",
      "                                   Website  \n",
      "0                                      NaN  \n",
      "1                 https://3degreesinc.com/  \n",
      "2                 https://3degreesinc.com/  \n",
      "3        http://www.3phasesrenewables.com/  \n",
      "4        http://www.3phasesrenewables.com/  \n",
      "..                                     ...  \n",
      "245     http://www.siliconvalleypower.com/  \n",
      "246           https://skyviewventures.com/  \n",
      "247       https://www.smartchargetech.com/  \n",
      "248  https://www.smartestenergy.com/en_us/  \n",
      "249            https://www.solsystems.com/  \n",
      "\n",
      "[250 rows x 2 columns]\n"
     ]
    },
    {
     "name": "stderr",
     "output_type": "stream",
     "text": [
      "C:\\Users\\USER\\AppData\\Local\\Temp\\ipykernel_17652\\3827693980.py:19: FutureWarning: The frame.append method is deprecated and will be removed from pandas in a future version. Use pandas.concat instead.\n",
      "  gc = gc.append(Dic, ignore_index=True)\n"
     ]
    },
    {
     "name": "stdout",
     "output_type": "stream",
     "text": [
      "                              Company                                Website\n",
      "0                                 NaN                                    NaN\n",
      "1                       3Degrees Inc.               https://3degreesinc.com/\n",
      "2                       3Degrees Inc.               https://3degreesinc.com/\n",
      "3                  3Phases Renewables      http://www.3phasesrenewables.com/\n",
      "4                  3Phases Renewables      http://www.3phasesrenewables.com/\n",
      "..                                ...                                    ...\n",
      "246                  Skyview Ventures           https://skyviewventures.com/\n",
      "247  Smart Charging Technologies, LLC       https://www.smartchargetech.com/\n",
      "248                   Smartest Energy  https://www.smartestenergy.com/en_us/\n",
      "249                  Sol Systems, LLC            https://www.solsystems.com/\n",
      "250                  SolRiver Capital           https://solrivercapital.com/\n",
      "\n",
      "[251 rows x 2 columns]\n"
     ]
    },
    {
     "name": "stderr",
     "output_type": "stream",
     "text": [
      "C:\\Users\\USER\\AppData\\Local\\Temp\\ipykernel_17652\\3827693980.py:19: FutureWarning: The frame.append method is deprecated and will be removed from pandas in a future version. Use pandas.concat instead.\n",
      "  gc = gc.append(Dic, ignore_index=True)\n"
     ]
    },
    {
     "name": "stdout",
     "output_type": "stream",
     "text": [
      "                              Company  \\\n",
      "0                                 NaN   \n",
      "1                       3Degrees Inc.   \n",
      "2                       3Degrees Inc.   \n",
      "3                  3Phases Renewables   \n",
      "4                  3Phases Renewables   \n",
      "..                                ...   \n",
      "247  Smart Charging Technologies, LLC   \n",
      "248                   Smartest Energy   \n",
      "249                  Sol Systems, LLC   \n",
      "250                  SolRiver Capital   \n",
      "251                         SourceOne   \n",
      "\n",
      "                                           Website  \n",
      "0                                              NaN  \n",
      "1                         https://3degreesinc.com/  \n",
      "2                         https://3degreesinc.com/  \n",
      "3                http://www.3phasesrenewables.com/  \n",
      "4                http://www.3phasesrenewables.com/  \n",
      "..                                             ...  \n",
      "247               https://www.smartchargetech.com/  \n",
      "248          https://www.smartestenergy.com/en_us/  \n",
      "249                    https://www.solsystems.com/  \n",
      "250                   https://solrivercapital.com/  \n",
      "251  https://www.sourceone.veolianorthamerica.com/  \n",
      "\n",
      "[252 rows x 2 columns]\n"
     ]
    },
    {
     "name": "stderr",
     "output_type": "stream",
     "text": [
      "C:\\Users\\USER\\AppData\\Local\\Temp\\ipykernel_17652\\3827693980.py:19: FutureWarning: The frame.append method is deprecated and will be removed from pandas in a future version. Use pandas.concat instead.\n",
      "  gc = gc.append(Dic, ignore_index=True)\n"
     ]
    },
    {
     "name": "stdout",
     "output_type": "stream",
     "text": [
      "                              Company  \\\n",
      "0                                 NaN   \n",
      "1                       3Degrees Inc.   \n",
      "2                       3Degrees Inc.   \n",
      "3                  3Phases Renewables   \n",
      "4                  3Phases Renewables   \n",
      "..                                ...   \n",
      "248                   Smartest Energy   \n",
      "249                  Sol Systems, LLC   \n",
      "250                  SolRiver Capital   \n",
      "251                         SourceOne   \n",
      "252  South Plains Wind Energy II, LLC   \n",
      "\n",
      "                                           Website  \n",
      "0                                              NaN  \n",
      "1                         https://3degreesinc.com/  \n",
      "2                         https://3degreesinc.com/  \n",
      "3                http://www.3phasesrenewables.com/  \n",
      "4                http://www.3phasesrenewables.com/  \n",
      "..                                             ...  \n",
      "248          https://www.smartestenergy.com/en_us/  \n",
      "249                    https://www.solsystems.com/  \n",
      "250                   https://solrivercapital.com/  \n",
      "251  https://www.sourceone.veolianorthamerica.com/  \n",
      "252                                           None  \n",
      "\n",
      "[253 rows x 2 columns]\n"
     ]
    },
    {
     "name": "stderr",
     "output_type": "stream",
     "text": [
      "C:\\Users\\USER\\AppData\\Local\\Temp\\ipykernel_17652\\3827693980.py:19: FutureWarning: The frame.append method is deprecated and will be removed from pandas in a future version. Use pandas.concat instead.\n",
      "  gc = gc.append(Dic, ignore_index=True)\n"
     ]
    },
    {
     "name": "stdout",
     "output_type": "stream",
     "text": [
      "                              Company  \\\n",
      "0                                 NaN   \n",
      "1                       3Degrees Inc.   \n",
      "2                       3Degrees Inc.   \n",
      "3                  3Phases Renewables   \n",
      "4                  3Phases Renewables   \n",
      "..                                ...   \n",
      "249                  Sol Systems, LLC   \n",
      "250                  SolRiver Capital   \n",
      "251                         SourceOne   \n",
      "252  South Plains Wind Energy II, LLC   \n",
      "253                  South Pole Group   \n",
      "\n",
      "                                           Website  \n",
      "0                                              NaN  \n",
      "1                         https://3degreesinc.com/  \n",
      "2                         https://3degreesinc.com/  \n",
      "3                http://www.3phasesrenewables.com/  \n",
      "4                http://www.3phasesrenewables.com/  \n",
      "..                                             ...  \n",
      "249                    https://www.solsystems.com/  \n",
      "250                   https://solrivercapital.com/  \n",
      "251  https://www.sourceone.veolianorthamerica.com/  \n",
      "252                                           None  \n",
      "253                     https://www.southpole.com/  \n",
      "\n",
      "[254 rows x 2 columns]\n"
     ]
    },
    {
     "name": "stderr",
     "output_type": "stream",
     "text": [
      "C:\\Users\\USER\\AppData\\Local\\Temp\\ipykernel_17652\\3827693980.py:19: FutureWarning: The frame.append method is deprecated and will be removed from pandas in a future version. Use pandas.concat instead.\n",
      "  gc = gc.append(Dic, ignore_index=True)\n"
     ]
    },
    {
     "name": "stdout",
     "output_type": "stream",
     "text": [
      "                              Company  \\\n",
      "0                                 NaN   \n",
      "1                       3Degrees Inc.   \n",
      "2                       3Degrees Inc.   \n",
      "3                  3Phases Renewables   \n",
      "4                  3Phases Renewables   \n",
      "..                                ...   \n",
      "250                  SolRiver Capital   \n",
      "251                         SourceOne   \n",
      "252  South Plains Wind Energy II, LLC   \n",
      "253                  South Pole Group   \n",
      "254                  South Pole Group   \n",
      "\n",
      "                                           Website  \n",
      "0                                              NaN  \n",
      "1                         https://3degreesinc.com/  \n",
      "2                         https://3degreesinc.com/  \n",
      "3                http://www.3phasesrenewables.com/  \n",
      "4                http://www.3phasesrenewables.com/  \n",
      "..                                             ...  \n",
      "250                   https://solrivercapital.com/  \n",
      "251  https://www.sourceone.veolianorthamerica.com/  \n",
      "252                                           None  \n",
      "253                     https://www.southpole.com/  \n",
      "254                     https://www.southpole.com/  \n",
      "\n",
      "[255 rows x 2 columns]\n"
     ]
    },
    {
     "name": "stderr",
     "output_type": "stream",
     "text": [
      "C:\\Users\\USER\\AppData\\Local\\Temp\\ipykernel_17652\\3827693980.py:19: FutureWarning: The frame.append method is deprecated and will be removed from pandas in a future version. Use pandas.concat instead.\n",
      "  gc = gc.append(Dic, ignore_index=True)\n"
     ]
    },
    {
     "name": "stdout",
     "output_type": "stream",
     "text": [
      "                              Company  \\\n",
      "0                                 NaN   \n",
      "1                       3Degrees Inc.   \n",
      "2                       3Degrees Inc.   \n",
      "3                  3Phases Renewables   \n",
      "4                  3Phases Renewables   \n",
      "..                                ...   \n",
      "251                         SourceOne   \n",
      "252  South Plains Wind Energy II, LLC   \n",
      "253                  South Pole Group   \n",
      "254                  South Pole Group   \n",
      "255  Southern California Edison (SCE)   \n",
      "\n",
      "                                           Website  \n",
      "0                                              NaN  \n",
      "1                         https://3degreesinc.com/  \n",
      "2                         https://3degreesinc.com/  \n",
      "3                http://www.3phasesrenewables.com/  \n",
      "4                http://www.3phasesrenewables.com/  \n",
      "..                                             ...  \n",
      "251  https://www.sourceone.veolianorthamerica.com/  \n",
      "252                                           None  \n",
      "253                     https://www.southpole.com/  \n",
      "254                     https://www.southpole.com/  \n",
      "255                            http://www.sce.com/  \n",
      "\n",
      "[256 rows x 2 columns]\n"
     ]
    },
    {
     "name": "stderr",
     "output_type": "stream",
     "text": [
      "C:\\Users\\USER\\AppData\\Local\\Temp\\ipykernel_17652\\3827693980.py:19: FutureWarning: The frame.append method is deprecated and will be removed from pandas in a future version. Use pandas.concat instead.\n",
      "  gc = gc.append(Dic, ignore_index=True)\n"
     ]
    },
    {
     "name": "stdout",
     "output_type": "stream",
     "text": [
      "                              Company                            Website\n",
      "0                                 NaN                                NaN\n",
      "1                       3Degrees Inc.           https://3degreesinc.com/\n",
      "2                       3Degrees Inc.           https://3degreesinc.com/\n",
      "3                  3Phases Renewables  http://www.3phasesrenewables.com/\n",
      "4                  3Phases Renewables  http://www.3phasesrenewables.com/\n",
      "..                                ...                                ...\n",
      "252  South Plains Wind Energy II, LLC                               None\n",
      "253                  South Pole Group         https://www.southpole.com/\n",
      "254                  South Pole Group         https://www.southpole.com/\n",
      "255  Southern California Edison (SCE)                http://www.sce.com/\n",
      "256  Southern California Edison (SCE)                http://www.sce.com/\n",
      "\n",
      "[257 rows x 2 columns]\n"
     ]
    },
    {
     "name": "stderr",
     "output_type": "stream",
     "text": [
      "C:\\Users\\USER\\AppData\\Local\\Temp\\ipykernel_17652\\3827693980.py:19: FutureWarning: The frame.append method is deprecated and will be removed from pandas in a future version. Use pandas.concat instead.\n",
      "  gc = gc.append(Dic, ignore_index=True)\n"
     ]
    },
    {
     "name": "stdout",
     "output_type": "stream",
     "text": [
      "                              Company                            Website\n",
      "0                                 NaN                                NaN\n",
      "1                       3Degrees Inc.           https://3degreesinc.com/\n",
      "2                       3Degrees Inc.           https://3degreesinc.com/\n",
      "3                  3Phases Renewables  http://www.3phasesrenewables.com/\n",
      "4                  3Phases Renewables  http://www.3phasesrenewables.com/\n",
      "..                                ...                                ...\n",
      "253                  South Pole Group         https://www.southpole.com/\n",
      "254                  South Pole Group         https://www.southpole.com/\n",
      "255  Southern California Edison (SCE)                http://www.sce.com/\n",
      "256  Southern California Edison (SCE)                http://www.sce.com/\n",
      "257  Southern California Edison (SCE)                http://www.sce.com/\n",
      "\n",
      "[258 rows x 2 columns]\n"
     ]
    },
    {
     "name": "stderr",
     "output_type": "stream",
     "text": [
      "C:\\Users\\USER\\AppData\\Local\\Temp\\ipykernel_17652\\3827693980.py:19: FutureWarning: The frame.append method is deprecated and will be removed from pandas in a future version. Use pandas.concat instead.\n",
      "  gc = gc.append(Dic, ignore_index=True)\n"
     ]
    },
    {
     "name": "stdout",
     "output_type": "stream",
     "text": [
      "                              Company                            Website\n",
      "0                                 NaN                                NaN\n",
      "1                       3Degrees Inc.           https://3degreesinc.com/\n",
      "2                       3Degrees Inc.           https://3degreesinc.com/\n",
      "3                  3Phases Renewables  http://www.3phasesrenewables.com/\n",
      "4                  3Phases Renewables  http://www.3phasesrenewables.com/\n",
      "..                                ...                                ...\n",
      "254                  South Pole Group         https://www.southpole.com/\n",
      "255  Southern California Edison (SCE)                http://www.sce.com/\n",
      "256  Southern California Edison (SCE)                http://www.sce.com/\n",
      "257  Southern California Edison (SCE)                http://www.sce.com/\n",
      "258  Southern California Edison (SCE)                http://www.sce.com/\n",
      "\n",
      "[259 rows x 2 columns]\n"
     ]
    },
    {
     "name": "stderr",
     "output_type": "stream",
     "text": [
      "C:\\Users\\USER\\AppData\\Local\\Temp\\ipykernel_17652\\3827693980.py:19: FutureWarning: The frame.append method is deprecated and will be removed from pandas in a future version. Use pandas.concat instead.\n",
      "  gc = gc.append(Dic, ignore_index=True)\n"
     ]
    },
    {
     "name": "stdout",
     "output_type": "stream",
     "text": [
      "                              Company                            Website\n",
      "0                                 NaN                                NaN\n",
      "1                       3Degrees Inc.           https://3degreesinc.com/\n",
      "2                       3Degrees Inc.           https://3degreesinc.com/\n",
      "3                  3Phases Renewables  http://www.3phasesrenewables.com/\n",
      "4                  3Phases Renewables  http://www.3phasesrenewables.com/\n",
      "..                                ...                                ...\n",
      "255  Southern California Edison (SCE)                http://www.sce.com/\n",
      "256  Southern California Edison (SCE)                http://www.sce.com/\n",
      "257  Southern California Edison (SCE)                http://www.sce.com/\n",
      "258  Southern California Edison (SCE)                http://www.sce.com/\n",
      "259              Spring Power and Gas      https://springpowerandgas.us/\n",
      "\n",
      "[260 rows x 2 columns]\n"
     ]
    },
    {
     "name": "stderr",
     "output_type": "stream",
     "text": [
      "C:\\Users\\USER\\AppData\\Local\\Temp\\ipykernel_17652\\3827693980.py:19: FutureWarning: The frame.append method is deprecated and will be removed from pandas in a future version. Use pandas.concat instead.\n",
      "  gc = gc.append(Dic, ignore_index=True)\n"
     ]
    },
    {
     "name": "stdout",
     "output_type": "stream",
     "text": [
      "                              Company                            Website\n",
      "0                                 NaN                                NaN\n",
      "1                       3Degrees Inc.           https://3degreesinc.com/\n",
      "2                       3Degrees Inc.           https://3degreesinc.com/\n",
      "3                  3Phases Renewables  http://www.3phasesrenewables.com/\n",
      "4                  3Phases Renewables  http://www.3phasesrenewables.com/\n",
      "..                                ...                                ...\n",
      "256  Southern California Edison (SCE)                http://www.sce.com/\n",
      "257  Southern California Edison (SCE)                http://www.sce.com/\n",
      "258  Southern California Edison (SCE)                http://www.sce.com/\n",
      "259              Spring Power and Gas      https://springpowerandgas.us/\n",
      "260              Spring Power and Gas      https://springpowerandgas.us/\n",
      "\n",
      "[261 rows x 2 columns]\n"
     ]
    },
    {
     "name": "stderr",
     "output_type": "stream",
     "text": [
      "C:\\Users\\USER\\AppData\\Local\\Temp\\ipykernel_17652\\3827693980.py:19: FutureWarning: The frame.append method is deprecated and will be removed from pandas in a future version. Use pandas.concat instead.\n",
      "  gc = gc.append(Dic, ignore_index=True)\n"
     ]
    },
    {
     "name": "stdout",
     "output_type": "stream",
     "text": [
      "                              Company                            Website\n",
      "0                                 NaN                                NaN\n",
      "1                       3Degrees Inc.           https://3degreesinc.com/\n",
      "2                       3Degrees Inc.           https://3degreesinc.com/\n",
      "3                  3Phases Renewables  http://www.3phasesrenewables.com/\n",
      "4                  3Phases Renewables  http://www.3phasesrenewables.com/\n",
      "..                                ...                                ...\n",
      "257  Southern California Edison (SCE)                http://www.sce.com/\n",
      "258  Southern California Edison (SCE)                http://www.sce.com/\n",
      "259              Spring Power and Gas      https://springpowerandgas.us/\n",
      "260              Spring Power and Gas      https://springpowerandgas.us/\n",
      "261      Spruce Capital &Trading, LLC                               None\n",
      "\n",
      "[262 rows x 2 columns]\n"
     ]
    },
    {
     "name": "stderr",
     "output_type": "stream",
     "text": [
      "C:\\Users\\USER\\AppData\\Local\\Temp\\ipykernel_17652\\3827693980.py:19: FutureWarning: The frame.append method is deprecated and will be removed from pandas in a future version. Use pandas.concat instead.\n",
      "  gc = gc.append(Dic, ignore_index=True)\n"
     ]
    },
    {
     "name": "stdout",
     "output_type": "stream",
     "text": [
      "                              Company                            Website\n",
      "0                                 NaN                                NaN\n",
      "1                       3Degrees Inc.           https://3degreesinc.com/\n",
      "2                       3Degrees Inc.           https://3degreesinc.com/\n",
      "3                  3Phases Renewables  http://www.3phasesrenewables.com/\n",
      "4                  3Phases Renewables  http://www.3phasesrenewables.com/\n",
      "..                                ...                                ...\n",
      "258  Southern California Edison (SCE)                http://www.sce.com/\n",
      "259              Spring Power and Gas      https://springpowerandgas.us/\n",
      "260              Spring Power and Gas      https://springpowerandgas.us/\n",
      "261      Spruce Capital &Trading, LLC                               None\n",
      "262                    Steelcase Inc.                               None\n",
      "\n",
      "[263 rows x 2 columns]\n"
     ]
    },
    {
     "name": "stderr",
     "output_type": "stream",
     "text": [
      "C:\\Users\\USER\\AppData\\Local\\Temp\\ipykernel_17652\\3827693980.py:19: FutureWarning: The frame.append method is deprecated and will be removed from pandas in a future version. Use pandas.concat instead.\n",
      "  gc = gc.append(Dic, ignore_index=True)\n"
     ]
    },
    {
     "name": "stdout",
     "output_type": "stream",
     "text": [
      "                          Company                            Website\n",
      "0                             NaN                                NaN\n",
      "1                   3Degrees Inc.           https://3degreesinc.com/\n",
      "2                   3Degrees Inc.           https://3degreesinc.com/\n",
      "3              3Phases Renewables  http://www.3phasesrenewables.com/\n",
      "4              3Phases Renewables  http://www.3phasesrenewables.com/\n",
      "..                            ...                                ...\n",
      "259          Spring Power and Gas      https://springpowerandgas.us/\n",
      "260          Spring Power and Gas      https://springpowerandgas.us/\n",
      "261  Spruce Capital &Trading, LLC                               None\n",
      "262                Steelcase Inc.                               None\n",
      "263               Sterling Planet     http://www.sterlingplanet.com/\n",
      "\n",
      "[264 rows x 2 columns]\n"
     ]
    },
    {
     "name": "stderr",
     "output_type": "stream",
     "text": [
      "C:\\Users\\USER\\AppData\\Local\\Temp\\ipykernel_17652\\3827693980.py:19: FutureWarning: The frame.append method is deprecated and will be removed from pandas in a future version. Use pandas.concat instead.\n",
      "  gc = gc.append(Dic, ignore_index=True)\n"
     ]
    },
    {
     "name": "stdout",
     "output_type": "stream",
     "text": [
      "                          Company                            Website\n",
      "0                             NaN                                NaN\n",
      "1                   3Degrees Inc.           https://3degreesinc.com/\n",
      "2                   3Degrees Inc.           https://3degreesinc.com/\n",
      "3              3Phases Renewables  http://www.3phasesrenewables.com/\n",
      "4              3Phases Renewables  http://www.3phasesrenewables.com/\n",
      "..                            ...                                ...\n",
      "260          Spring Power and Gas      https://springpowerandgas.us/\n",
      "261  Spruce Capital &Trading, LLC                               None\n",
      "262                Steelcase Inc.                               None\n",
      "263               Sterling Planet     http://www.sterlingplanet.com/\n",
      "264               Sterling Planet     http://www.sterlingplanet.com/\n",
      "\n",
      "[265 rows x 2 columns]\n"
     ]
    },
    {
     "name": "stderr",
     "output_type": "stream",
     "text": [
      "C:\\Users\\USER\\AppData\\Local\\Temp\\ipykernel_17652\\3827693980.py:19: FutureWarning: The frame.append method is deprecated and will be removed from pandas in a future version. Use pandas.concat instead.\n",
      "  gc = gc.append(Dic, ignore_index=True)\n"
     ]
    },
    {
     "name": "stdout",
     "output_type": "stream",
     "text": [
      "                          Company  \\\n",
      "0                             NaN   \n",
      "1                   3Degrees Inc.   \n",
      "2                   3Degrees Inc.   \n",
      "3              3Phases Renewables   \n",
      "4              3Phases Renewables   \n",
      "..                            ...   \n",
      "261  Spruce Capital &Trading, LLC   \n",
      "262                Steelcase Inc.   \n",
      "263               Sterling Planet   \n",
      "264               Sterling Planet   \n",
      "265               STX Commodities   \n",
      "\n",
      "                                             Website  \n",
      "0                                                NaN  \n",
      "1                           https://3degreesinc.com/  \n",
      "2                           https://3degreesinc.com/  \n",
      "3                  http://www.3phasesrenewables.com/  \n",
      "4                  http://www.3phasesrenewables.com/  \n",
      "..                                               ...  \n",
      "261                                             None  \n",
      "262                                             None  \n",
      "263                   http://www.sterlingplanet.com/  \n",
      "264                   http://www.sterlingplanet.com/  \n",
      "265  https://stxgroup.com/environmental-commodities/  \n",
      "\n",
      "[266 rows x 2 columns]\n"
     ]
    },
    {
     "name": "stderr",
     "output_type": "stream",
     "text": [
      "C:\\Users\\USER\\AppData\\Local\\Temp\\ipykernel_17652\\3827693980.py:19: FutureWarning: The frame.append method is deprecated and will be removed from pandas in a future version. Use pandas.concat instead.\n",
      "  gc = gc.append(Dic, ignore_index=True)\n"
     ]
    },
    {
     "name": "stdout",
     "output_type": "stream",
     "text": [
      "                 Company                                          Website\n",
      "0                    NaN                                              NaN\n",
      "1          3Degrees Inc.                         https://3degreesinc.com/\n",
      "2          3Degrees Inc.                         https://3degreesinc.com/\n",
      "3     3Phases Renewables                http://www.3phasesrenewables.com/\n",
      "4     3Phases Renewables                http://www.3phasesrenewables.com/\n",
      "..                   ...                                              ...\n",
      "262       Steelcase Inc.                                             None\n",
      "263      Sterling Planet                   http://www.sterlingplanet.com/\n",
      "264      Sterling Planet                   http://www.sterlingplanet.com/\n",
      "265      STX Commodities  https://stxgroup.com/environmental-commodities/\n",
      "266  Sunwave Gas & Power                       https://www.gosunwave.com/\n",
      "\n",
      "[267 rows x 2 columns]\n"
     ]
    },
    {
     "name": "stderr",
     "output_type": "stream",
     "text": [
      "C:\\Users\\USER\\AppData\\Local\\Temp\\ipykernel_17652\\3827693980.py:19: FutureWarning: The frame.append method is deprecated and will be removed from pandas in a future version. Use pandas.concat instead.\n",
      "  gc = gc.append(Dic, ignore_index=True)\n"
     ]
    },
    {
     "name": "stdout",
     "output_type": "stream",
     "text": [
      "                 Company                                          Website\n",
      "0                    NaN                                              NaN\n",
      "1          3Degrees Inc.                         https://3degreesinc.com/\n",
      "2          3Degrees Inc.                         https://3degreesinc.com/\n",
      "3     3Phases Renewables                http://www.3phasesrenewables.com/\n",
      "4     3Phases Renewables                http://www.3phasesrenewables.com/\n",
      "..                   ...                                              ...\n",
      "263      Sterling Planet                   http://www.sterlingplanet.com/\n",
      "264      Sterling Planet                   http://www.sterlingplanet.com/\n",
      "265      STX Commodities  https://stxgroup.com/environmental-commodities/\n",
      "266  Sunwave Gas & Power                       https://www.gosunwave.com/\n",
      "267  Sunwave Gas & Power                       https://www.gosunwave.com/\n",
      "\n",
      "[268 rows x 2 columns]\n"
     ]
    },
    {
     "name": "stderr",
     "output_type": "stream",
     "text": [
      "C:\\Users\\USER\\AppData\\Local\\Temp\\ipykernel_17652\\3827693980.py:19: FutureWarning: The frame.append method is deprecated and will be removed from pandas in a future version. Use pandas.concat instead.\n",
      "  gc = gc.append(Dic, ignore_index=True)\n"
     ]
    },
    {
     "name": "stdout",
     "output_type": "stream",
     "text": [
      "                 Company                                          Website\n",
      "0                    NaN                                              NaN\n",
      "1          3Degrees Inc.                         https://3degreesinc.com/\n",
      "2          3Degrees Inc.                         https://3degreesinc.com/\n",
      "3     3Phases Renewables                http://www.3phasesrenewables.com/\n",
      "4     3Phases Renewables                http://www.3phasesrenewables.com/\n",
      "..                   ...                                              ...\n",
      "264      Sterling Planet                   http://www.sterlingplanet.com/\n",
      "265      STX Commodities  https://stxgroup.com/environmental-commodities/\n",
      "266  Sunwave Gas & Power                       https://www.gosunwave.com/\n",
      "267  Sunwave Gas & Power                       https://www.gosunwave.com/\n",
      "268  Sunwave Gas & Power                       https://www.gosunwave.com/\n",
      "\n",
      "[269 rows x 2 columns]\n"
     ]
    },
    {
     "name": "stderr",
     "output_type": "stream",
     "text": [
      "C:\\Users\\USER\\AppData\\Local\\Temp\\ipykernel_17652\\3827693980.py:19: FutureWarning: The frame.append method is deprecated and will be removed from pandas in a future version. Use pandas.concat instead.\n",
      "  gc = gc.append(Dic, ignore_index=True)\n"
     ]
    },
    {
     "name": "stdout",
     "output_type": "stream",
     "text": [
      "                 Company                                          Website\n",
      "0                    NaN                                              NaN\n",
      "1          3Degrees Inc.                         https://3degreesinc.com/\n",
      "2          3Degrees Inc.                         https://3degreesinc.com/\n",
      "3     3Phases Renewables                http://www.3phasesrenewables.com/\n",
      "4     3Phases Renewables                http://www.3phasesrenewables.com/\n",
      "..                   ...                                              ...\n",
      "265      STX Commodities  https://stxgroup.com/environmental-commodities/\n",
      "266  Sunwave Gas & Power                       https://www.gosunwave.com/\n",
      "267  Sunwave Gas & Power                       https://www.gosunwave.com/\n",
      "268  Sunwave Gas & Power                       https://www.gosunwave.com/\n",
      "269  Sunwave Gas & Power                       https://www.gosunwave.com/\n",
      "\n",
      "[270 rows x 2 columns]\n"
     ]
    },
    {
     "name": "stderr",
     "output_type": "stream",
     "text": [
      "C:\\Users\\USER\\AppData\\Local\\Temp\\ipykernel_17652\\3827693980.py:19: FutureWarning: The frame.append method is deprecated and will be removed from pandas in a future version. Use pandas.concat instead.\n",
      "  gc = gc.append(Dic, ignore_index=True)\n"
     ]
    },
    {
     "name": "stdout",
     "output_type": "stream",
     "text": [
      "                 Company                            Website\n",
      "0                    NaN                                NaN\n",
      "1          3Degrees Inc.           https://3degreesinc.com/\n",
      "2          3Degrees Inc.           https://3degreesinc.com/\n",
      "3     3Phases Renewables  http://www.3phasesrenewables.com/\n",
      "4     3Phases Renewables  http://www.3phasesrenewables.com/\n",
      "..                   ...                                ...\n",
      "266  Sunwave Gas & Power         https://www.gosunwave.com/\n",
      "267  Sunwave Gas & Power         https://www.gosunwave.com/\n",
      "268  Sunwave Gas & Power         https://www.gosunwave.com/\n",
      "269  Sunwave Gas & Power         https://www.gosunwave.com/\n",
      "270  Sunwave Gas & Power         https://www.gosunwave.com/\n",
      "\n",
      "[271 rows x 2 columns]\n"
     ]
    },
    {
     "name": "stderr",
     "output_type": "stream",
     "text": [
      "C:\\Users\\USER\\AppData\\Local\\Temp\\ipykernel_17652\\3827693980.py:19: FutureWarning: The frame.append method is deprecated and will be removed from pandas in a future version. Use pandas.concat instead.\n",
      "  gc = gc.append(Dic, ignore_index=True)\n"
     ]
    },
    {
     "name": "stdout",
     "output_type": "stream",
     "text": [
      "                 Company                            Website\n",
      "0                    NaN                                NaN\n",
      "1          3Degrees Inc.           https://3degreesinc.com/\n",
      "2          3Degrees Inc.           https://3degreesinc.com/\n",
      "3     3Phases Renewables  http://www.3phasesrenewables.com/\n",
      "4     3Phases Renewables  http://www.3phasesrenewables.com/\n",
      "..                   ...                                ...\n",
      "267  Sunwave Gas & Power         https://www.gosunwave.com/\n",
      "268  Sunwave Gas & Power         https://www.gosunwave.com/\n",
      "269  Sunwave Gas & Power         https://www.gosunwave.com/\n",
      "270  Sunwave Gas & Power         https://www.gosunwave.com/\n",
      "271  Sunwave Gas & Power         https://www.gosunwave.com/\n",
      "\n",
      "[272 rows x 2 columns]\n"
     ]
    },
    {
     "name": "stderr",
     "output_type": "stream",
     "text": [
      "C:\\Users\\USER\\AppData\\Local\\Temp\\ipykernel_17652\\3827693980.py:19: FutureWarning: The frame.append method is deprecated and will be removed from pandas in a future version. Use pandas.concat instead.\n",
      "  gc = gc.append(Dic, ignore_index=True)\n"
     ]
    },
    {
     "name": "stdout",
     "output_type": "stream",
     "text": [
      "                 Company                            Website\n",
      "0                    NaN                                NaN\n",
      "1          3Degrees Inc.           https://3degreesinc.com/\n",
      "2          3Degrees Inc.           https://3degreesinc.com/\n",
      "3     3Phases Renewables  http://www.3phasesrenewables.com/\n",
      "4     3Phases Renewables  http://www.3phasesrenewables.com/\n",
      "..                   ...                                ...\n",
      "268  Sunwave Gas & Power         https://www.gosunwave.com/\n",
      "269  Sunwave Gas & Power         https://www.gosunwave.com/\n",
      "270  Sunwave Gas & Power         https://www.gosunwave.com/\n",
      "271  Sunwave Gas & Power         https://www.gosunwave.com/\n",
      "272  Sunwave Gas & Power         https://www.gosunwave.com/\n",
      "\n",
      "[273 rows x 2 columns]\n"
     ]
    },
    {
     "name": "stderr",
     "output_type": "stream",
     "text": [
      "C:\\Users\\USER\\AppData\\Local\\Temp\\ipykernel_17652\\3827693980.py:19: FutureWarning: The frame.append method is deprecated and will be removed from pandas in a future version. Use pandas.concat instead.\n",
      "  gc = gc.append(Dic, ignore_index=True)\n"
     ]
    },
    {
     "name": "stdout",
     "output_type": "stream",
     "text": [
      "                 Company                            Website\n",
      "0                    NaN                                NaN\n",
      "1          3Degrees Inc.           https://3degreesinc.com/\n",
      "2          3Degrees Inc.           https://3degreesinc.com/\n",
      "3     3Phases Renewables  http://www.3phasesrenewables.com/\n",
      "4     3Phases Renewables  http://www.3phasesrenewables.com/\n",
      "..                   ...                                ...\n",
      "269  Sunwave Gas & Power         https://www.gosunwave.com/\n",
      "270  Sunwave Gas & Power         https://www.gosunwave.com/\n",
      "271  Sunwave Gas & Power         https://www.gosunwave.com/\n",
      "272  Sunwave Gas & Power         https://www.gosunwave.com/\n",
      "273  Sunwave Gas & Power         https://www.gosunwave.com/\n",
      "\n",
      "[274 rows x 2 columns]\n"
     ]
    },
    {
     "name": "stderr",
     "output_type": "stream",
     "text": [
      "C:\\Users\\USER\\AppData\\Local\\Temp\\ipykernel_17652\\3827693980.py:19: FutureWarning: The frame.append method is deprecated and will be removed from pandas in a future version. Use pandas.concat instead.\n",
      "  gc = gc.append(Dic, ignore_index=True)\n"
     ]
    },
    {
     "name": "stdout",
     "output_type": "stream",
     "text": [
      "                 Company                            Website\n",
      "0                    NaN                                NaN\n",
      "1          3Degrees Inc.           https://3degreesinc.com/\n",
      "2          3Degrees Inc.           https://3degreesinc.com/\n",
      "3     3Phases Renewables  http://www.3phasesrenewables.com/\n",
      "4     3Phases Renewables  http://www.3phasesrenewables.com/\n",
      "..                   ...                                ...\n",
      "270  Sunwave Gas & Power         https://www.gosunwave.com/\n",
      "271  Sunwave Gas & Power         https://www.gosunwave.com/\n",
      "272  Sunwave Gas & Power         https://www.gosunwave.com/\n",
      "273  Sunwave Gas & Power         https://www.gosunwave.com/\n",
      "274         Talen Energy       https://www.talenenergy.com/\n",
      "\n",
      "[275 rows x 2 columns]\n"
     ]
    },
    {
     "name": "stderr",
     "output_type": "stream",
     "text": [
      "C:\\Users\\USER\\AppData\\Local\\Temp\\ipykernel_17652\\3827693980.py:19: FutureWarning: The frame.append method is deprecated and will be removed from pandas in a future version. Use pandas.concat instead.\n",
      "  gc = gc.append(Dic, ignore_index=True)\n"
     ]
    },
    {
     "name": "stdout",
     "output_type": "stream",
     "text": [
      "                              Company  \\\n",
      "0                                 NaN   \n",
      "1                       3Degrees Inc.   \n",
      "2                       3Degrees Inc.   \n",
      "3                  3Phases Renewables   \n",
      "4                  3Phases Renewables   \n",
      "..                                ...   \n",
      "271               Sunwave Gas & Power   \n",
      "272               Sunwave Gas & Power   \n",
      "273               Sunwave Gas & Power   \n",
      "274                      Talen Energy   \n",
      "275  Tennessee Valley Authority (TVA)   \n",
      "\n",
      "                                               Website  \n",
      "0                                                  NaN  \n",
      "1                             https://3degreesinc.com/  \n",
      "2                             https://3degreesinc.com/  \n",
      "3                    http://www.3phasesrenewables.com/  \n",
      "4                    http://www.3phasesrenewables.com/  \n",
      "..                                                 ...  \n",
      "271                         https://www.gosunwave.com/  \n",
      "272                         https://www.gosunwave.com/  \n",
      "273                         https://www.gosunwave.com/  \n",
      "274                       https://www.talenenergy.com/  \n",
      "275  https://www.tva.com/energy/valley-renewable-en...  \n",
      "\n",
      "[276 rows x 2 columns]\n"
     ]
    },
    {
     "name": "stderr",
     "output_type": "stream",
     "text": [
      "C:\\Users\\USER\\AppData\\Local\\Temp\\ipykernel_17652\\3827693980.py:19: FutureWarning: The frame.append method is deprecated and will be removed from pandas in a future version. Use pandas.concat instead.\n",
      "  gc = gc.append(Dic, ignore_index=True)\n"
     ]
    },
    {
     "name": "stdout",
     "output_type": "stream",
     "text": [
      "                              Company  \\\n",
      "0                                 NaN   \n",
      "1                       3Degrees Inc.   \n",
      "2                       3Degrees Inc.   \n",
      "3                  3Phases Renewables   \n",
      "4                  3Phases Renewables   \n",
      "..                                ...   \n",
      "272               Sunwave Gas & Power   \n",
      "273               Sunwave Gas & Power   \n",
      "274                      Talen Energy   \n",
      "275  Tennessee Valley Authority (TVA)   \n",
      "276  Tennessee Valley Authority (TVA)   \n",
      "\n",
      "                                               Website  \n",
      "0                                                  NaN  \n",
      "1                             https://3degreesinc.com/  \n",
      "2                             https://3degreesinc.com/  \n",
      "3                    http://www.3phasesrenewables.com/  \n",
      "4                    http://www.3phasesrenewables.com/  \n",
      "..                                                 ...  \n",
      "272                         https://www.gosunwave.com/  \n",
      "273                         https://www.gosunwave.com/  \n",
      "274                       https://www.talenenergy.com/  \n",
      "275  https://www.tva.com/energy/valley-renewable-en...  \n",
      "276  https://www.tva.com/energy/valley-renewable-en...  \n",
      "\n",
      "[277 rows x 2 columns]\n"
     ]
    },
    {
     "name": "stderr",
     "output_type": "stream",
     "text": [
      "C:\\Users\\USER\\AppData\\Local\\Temp\\ipykernel_17652\\3827693980.py:19: FutureWarning: The frame.append method is deprecated and will be removed from pandas in a future version. Use pandas.concat instead.\n",
      "  gc = gc.append(Dic, ignore_index=True)\n"
     ]
    },
    {
     "name": "stdout",
     "output_type": "stream",
     "text": [
      "                              Company  \\\n",
      "0                                 NaN   \n",
      "1                       3Degrees Inc.   \n",
      "2                       3Degrees Inc.   \n",
      "3                  3Phases Renewables   \n",
      "4                  3Phases Renewables   \n",
      "..                                ...   \n",
      "273               Sunwave Gas & Power   \n",
      "274                      Talen Energy   \n",
      "275  Tennessee Valley Authority (TVA)   \n",
      "276  Tennessee Valley Authority (TVA)   \n",
      "277  Tennessee Valley Authority (TVA)   \n",
      "\n",
      "                                               Website  \n",
      "0                                                  NaN  \n",
      "1                             https://3degreesinc.com/  \n",
      "2                             https://3degreesinc.com/  \n",
      "3                    http://www.3phasesrenewables.com/  \n",
      "4                    http://www.3phasesrenewables.com/  \n",
      "..                                                 ...  \n",
      "273                         https://www.gosunwave.com/  \n",
      "274                       https://www.talenenergy.com/  \n",
      "275  https://www.tva.com/energy/valley-renewable-en...  \n",
      "276  https://www.tva.com/energy/valley-renewable-en...  \n",
      "277  https://www.tva.com/energy/valley-renewable-en...  \n",
      "\n",
      "[278 rows x 2 columns]\n"
     ]
    },
    {
     "name": "stderr",
     "output_type": "stream",
     "text": [
      "C:\\Users\\USER\\AppData\\Local\\Temp\\ipykernel_17652\\3827693980.py:19: FutureWarning: The frame.append method is deprecated and will be removed from pandas in a future version. Use pandas.concat instead.\n",
      "  gc = gc.append(Dic, ignore_index=True)\n"
     ]
    },
    {
     "name": "stdout",
     "output_type": "stream",
     "text": [
      "                              Company  \\\n",
      "0                                 NaN   \n",
      "1                       3Degrees Inc.   \n",
      "2                       3Degrees Inc.   \n",
      "3                  3Phases Renewables   \n",
      "4                  3Phases Renewables   \n",
      "..                                ...   \n",
      "274                      Talen Energy   \n",
      "275  Tennessee Valley Authority (TVA)   \n",
      "276  Tennessee Valley Authority (TVA)   \n",
      "277  Tennessee Valley Authority (TVA)   \n",
      "278                        TXU Energy   \n",
      "\n",
      "                                               Website  \n",
      "0                                                  NaN  \n",
      "1                             https://3degreesinc.com/  \n",
      "2                             https://3degreesinc.com/  \n",
      "3                    http://www.3phasesrenewables.com/  \n",
      "4                    http://www.3phasesrenewables.com/  \n",
      "..                                                 ...  \n",
      "274                       https://www.talenenergy.com/  \n",
      "275  https://www.tva.com/energy/valley-renewable-en...  \n",
      "276  https://www.tva.com/energy/valley-renewable-en...  \n",
      "277  https://www.tva.com/energy/valley-renewable-en...  \n",
      "278                                http://www.txu.com/  \n",
      "\n",
      "[279 rows x 2 columns]\n"
     ]
    },
    {
     "name": "stderr",
     "output_type": "stream",
     "text": [
      "C:\\Users\\USER\\AppData\\Local\\Temp\\ipykernel_17652\\3827693980.py:19: FutureWarning: The frame.append method is deprecated and will be removed from pandas in a future version. Use pandas.concat instead.\n",
      "  gc = gc.append(Dic, ignore_index=True)\n"
     ]
    },
    {
     "name": "stdout",
     "output_type": "stream",
     "text": [
      "                              Company  \\\n",
      "0                                 NaN   \n",
      "1                       3Degrees Inc.   \n",
      "2                       3Degrees Inc.   \n",
      "3                  3Phases Renewables   \n",
      "4                  3Phases Renewables   \n",
      "..                                ...   \n",
      "275  Tennessee Valley Authority (TVA)   \n",
      "276  Tennessee Valley Authority (TVA)   \n",
      "277  Tennessee Valley Authority (TVA)   \n",
      "278                        TXU Energy   \n",
      "279       Uncle Frank Energy Services   \n",
      "\n",
      "                                               Website  \n",
      "0                                                  NaN  \n",
      "1                             https://3degreesinc.com/  \n",
      "2                             https://3degreesinc.com/  \n",
      "3                    http://www.3phasesrenewables.com/  \n",
      "4                    http://www.3phasesrenewables.com/  \n",
      "..                                                 ...  \n",
      "275  https://www.tva.com/energy/valley-renewable-en...  \n",
      "276  https://www.tva.com/energy/valley-renewable-en...  \n",
      "277  https://www.tva.com/energy/valley-renewable-en...  \n",
      "278                                http://www.txu.com/  \n",
      "279                                               None  \n",
      "\n",
      "[280 rows x 2 columns]\n"
     ]
    },
    {
     "name": "stderr",
     "output_type": "stream",
     "text": [
      "C:\\Users\\USER\\AppData\\Local\\Temp\\ipykernel_17652\\3827693980.py:19: FutureWarning: The frame.append method is deprecated and will be removed from pandas in a future version. Use pandas.concat instead.\n",
      "  gc = gc.append(Dic, ignore_index=True)\n"
     ]
    },
    {
     "name": "stdout",
     "output_type": "stream",
     "text": [
      "                              Company  \\\n",
      "0                                 NaN   \n",
      "1                       3Degrees Inc.   \n",
      "2                       3Degrees Inc.   \n",
      "3                  3Phases Renewables   \n",
      "4                  3Phases Renewables   \n",
      "..                                ...   \n",
      "276  Tennessee Valley Authority (TVA)   \n",
      "277  Tennessee Valley Authority (TVA)   \n",
      "278                        TXU Energy   \n",
      "279       Uncle Frank Energy Services   \n",
      "280        United Energy Trading, LLC   \n",
      "\n",
      "                                               Website  \n",
      "0                                                  NaN  \n",
      "1                             https://3degreesinc.com/  \n",
      "2                             https://3degreesinc.com/  \n",
      "3                    http://www.3phasesrenewables.com/  \n",
      "4                    http://www.3phasesrenewables.com/  \n",
      "..                                                 ...  \n",
      "276  https://www.tva.com/energy/valley-renewable-en...  \n",
      "277  https://www.tva.com/energy/valley-renewable-en...  \n",
      "278                                http://www.txu.com/  \n",
      "279                                               None  \n",
      "280               https://www.unitedenergytrading.com/  \n",
      "\n",
      "[281 rows x 2 columns]\n"
     ]
    },
    {
     "name": "stderr",
     "output_type": "stream",
     "text": [
      "C:\\Users\\USER\\AppData\\Local\\Temp\\ipykernel_17652\\3827693980.py:19: FutureWarning: The frame.append method is deprecated and will be removed from pandas in a future version. Use pandas.concat instead.\n",
      "  gc = gc.append(Dic, ignore_index=True)\n"
     ]
    },
    {
     "name": "stdout",
     "output_type": "stream",
     "text": [
      "                              Company  \\\n",
      "0                                 NaN   \n",
      "1                       3Degrees Inc.   \n",
      "2                       3Degrees Inc.   \n",
      "3                  3Phases Renewables   \n",
      "4                  3Phases Renewables   \n",
      "..                                ...   \n",
      "277  Tennessee Valley Authority (TVA)   \n",
      "278                        TXU Energy   \n",
      "279       Uncle Frank Energy Services   \n",
      "280        United Energy Trading, LLC   \n",
      "281               United Green Energy   \n",
      "\n",
      "                                               Website  \n",
      "0                                                  NaN  \n",
      "1                             https://3degreesinc.com/  \n",
      "2                             https://3degreesinc.com/  \n",
      "3                    http://www.3phasesrenewables.com/  \n",
      "4                    http://www.3phasesrenewables.com/  \n",
      "..                                                 ...  \n",
      "277  https://www.tva.com/energy/valley-renewable-en...  \n",
      "278                                http://www.txu.com/  \n",
      "279                                               None  \n",
      "280               https://www.unitedenergytrading.com/  \n",
      "281                                               None  \n",
      "\n",
      "[282 rows x 2 columns]\n"
     ]
    },
    {
     "name": "stderr",
     "output_type": "stream",
     "text": [
      "C:\\Users\\USER\\AppData\\Local\\Temp\\ipykernel_17652\\3827693980.py:19: FutureWarning: The frame.append method is deprecated and will be removed from pandas in a future version. Use pandas.concat instead.\n",
      "  gc = gc.append(Dic, ignore_index=True)\n"
     ]
    },
    {
     "name": "stdout",
     "output_type": "stream",
     "text": [
      "                         Company                               Website\n",
      "0                            NaN                                   NaN\n",
      "1                  3Degrees Inc.              https://3degreesinc.com/\n",
      "2                  3Degrees Inc.              https://3degreesinc.com/\n",
      "3             3Phases Renewables     http://www.3phasesrenewables.com/\n",
      "4             3Phases Renewables     http://www.3phasesrenewables.com/\n",
      "..                           ...                                   ...\n",
      "278                   TXU Energy                   http://www.txu.com/\n",
      "279  Uncle Frank Energy Services                                  None\n",
      "280   United Energy Trading, LLC  https://www.unitedenergytrading.com/\n",
      "281          United Green Energy                                  None\n",
      "282          United Green Energy                                  None\n",
      "\n",
      "[283 rows x 2 columns]\n"
     ]
    },
    {
     "name": "stderr",
     "output_type": "stream",
     "text": [
      "C:\\Users\\USER\\AppData\\Local\\Temp\\ipykernel_17652\\3827693980.py:19: FutureWarning: The frame.append method is deprecated and will be removed from pandas in a future version. Use pandas.concat instead.\n",
      "  gc = gc.append(Dic, ignore_index=True)\n"
     ]
    },
    {
     "name": "stdout",
     "output_type": "stream",
     "text": [
      "                         Company                               Website\n",
      "0                            NaN                                   NaN\n",
      "1                  3Degrees Inc.              https://3degreesinc.com/\n",
      "2                  3Degrees Inc.              https://3degreesinc.com/\n",
      "3             3Phases Renewables     http://www.3phasesrenewables.com/\n",
      "4             3Phases Renewables     http://www.3phasesrenewables.com/\n",
      "..                           ...                                   ...\n",
      "279  Uncle Frank Energy Services                                  None\n",
      "280   United Energy Trading, LLC  https://www.unitedenergytrading.com/\n",
      "281          United Green Energy                                  None\n",
      "282          United Green Energy                                  None\n",
      "283                    VivoPower                 http://vivopower.com/\n",
      "\n",
      "[284 rows x 2 columns]\n"
     ]
    },
    {
     "name": "stderr",
     "output_type": "stream",
     "text": [
      "C:\\Users\\USER\\AppData\\Local\\Temp\\ipykernel_17652\\3827693980.py:19: FutureWarning: The frame.append method is deprecated and will be removed from pandas in a future version. Use pandas.concat instead.\n",
      "  gc = gc.append(Dic, ignore_index=True)\n"
     ]
    },
    {
     "name": "stdout",
     "output_type": "stream",
     "text": [
      "                        Company                               Website\n",
      "0                           NaN                                   NaN\n",
      "1                 3Degrees Inc.              https://3degreesinc.com/\n",
      "2                 3Degrees Inc.              https://3degreesinc.com/\n",
      "3            3Phases Renewables     http://www.3phasesrenewables.com/\n",
      "4            3Phases Renewables     http://www.3phasesrenewables.com/\n",
      "..                          ...                                   ...\n",
      "280  United Energy Trading, LLC  https://www.unitedenergytrading.com/\n",
      "281         United Green Energy                                  None\n",
      "282         United Green Energy                                  None\n",
      "283                   VivoPower                 http://vivopower.com/\n",
      "284                   Watershed         https://watershedclimate.com/\n",
      "\n",
      "[285 rows x 2 columns]\n"
     ]
    },
    {
     "name": "stderr",
     "output_type": "stream",
     "text": [
      "C:\\Users\\USER\\AppData\\Local\\Temp\\ipykernel_17652\\3827693980.py:19: FutureWarning: The frame.append method is deprecated and will be removed from pandas in a future version. Use pandas.concat instead.\n",
      "  gc = gc.append(Dic, ignore_index=True)\n"
     ]
    },
    {
     "name": "stdout",
     "output_type": "stream",
     "text": [
      "                 Company                            Website\n",
      "0                    NaN                                NaN\n",
      "1          3Degrees Inc.           https://3degreesinc.com/\n",
      "2          3Degrees Inc.           https://3degreesinc.com/\n",
      "3     3Phases Renewables  http://www.3phasesrenewables.com/\n",
      "4     3Phases Renewables  http://www.3phasesrenewables.com/\n",
      "..                   ...                                ...\n",
      "281  United Green Energy                               None\n",
      "282  United Green Energy                               None\n",
      "283            VivoPower              http://vivopower.com/\n",
      "284            Watershed      https://watershedclimate.com/\n",
      "285          We Energies        http://www.we-energies.com/\n",
      "\n",
      "[286 rows x 2 columns]\n"
     ]
    },
    {
     "name": "stderr",
     "output_type": "stream",
     "text": [
      "C:\\Users\\USER\\AppData\\Local\\Temp\\ipykernel_17652\\3827693980.py:19: FutureWarning: The frame.append method is deprecated and will be removed from pandas in a future version. Use pandas.concat instead.\n",
      "  gc = gc.append(Dic, ignore_index=True)\n"
     ]
    },
    {
     "name": "stdout",
     "output_type": "stream",
     "text": [
      "                 Company                            Website\n",
      "0                    NaN                                NaN\n",
      "1          3Degrees Inc.           https://3degreesinc.com/\n",
      "2          3Degrees Inc.           https://3degreesinc.com/\n",
      "3     3Phases Renewables  http://www.3phasesrenewables.com/\n",
      "4     3Phases Renewables  http://www.3phasesrenewables.com/\n",
      "..                   ...                                ...\n",
      "282  United Green Energy                               None\n",
      "283            VivoPower              http://vivopower.com/\n",
      "284            Watershed      https://watershedclimate.com/\n",
      "285          We Energies        http://www.we-energies.com/\n",
      "286          We Energies        http://www.we-energies.com/\n",
      "\n",
      "[287 rows x 2 columns]\n"
     ]
    },
    {
     "name": "stderr",
     "output_type": "stream",
     "text": [
      "C:\\Users\\USER\\AppData\\Local\\Temp\\ipykernel_17652\\3827693980.py:19: FutureWarning: The frame.append method is deprecated and will be removed from pandas in a future version. Use pandas.concat instead.\n",
      "  gc = gc.append(Dic, ignore_index=True)\n"
     ]
    },
    {
     "name": "stdout",
     "output_type": "stream",
     "text": [
      "                                  Company                            Website\n",
      "0                                     NaN                                NaN\n",
      "1                           3Degrees Inc.           https://3degreesinc.com/\n",
      "2                           3Degrees Inc.           https://3degreesinc.com/\n",
      "3                      3Phases Renewables  http://www.3phasesrenewables.com/\n",
      "4                      3Phases Renewables  http://www.3phasesrenewables.com/\n",
      "..                                    ...                                ...\n",
      "283                             VivoPower              http://vivopower.com/\n",
      "284                             Watershed      https://watershedclimate.com/\n",
      "285                           We Energies        http://www.we-energies.com/\n",
      "286                           We Energies        http://www.we-energies.com/\n",
      "287  Western Farmers Electric Cooperative               http://www.wfec.com/\n",
      "\n",
      "[288 rows x 2 columns]\n"
     ]
    },
    {
     "name": "stderr",
     "output_type": "stream",
     "text": [
      "C:\\Users\\USER\\AppData\\Local\\Temp\\ipykernel_17652\\3827693980.py:19: FutureWarning: The frame.append method is deprecated and will be removed from pandas in a future version. Use pandas.concat instead.\n",
      "  gc = gc.append(Dic, ignore_index=True)\n"
     ]
    },
    {
     "name": "stdout",
     "output_type": "stream",
     "text": [
      "                                  Company                            Website\n",
      "0                                     NaN                                NaN\n",
      "1                           3Degrees Inc.           https://3degreesinc.com/\n",
      "2                           3Degrees Inc.           https://3degreesinc.com/\n",
      "3                      3Phases Renewables  http://www.3phasesrenewables.com/\n",
      "4                      3Phases Renewables  http://www.3phasesrenewables.com/\n",
      "..                                    ...                                ...\n",
      "284                             Watershed      https://watershedclimate.com/\n",
      "285                           We Energies        http://www.we-energies.com/\n",
      "286                           We Energies        http://www.we-energies.com/\n",
      "287  Western Farmers Electric Cooperative               http://www.wfec.com/\n",
      "288             WGL Energy Services, Inc.               http://www.wges.com/\n",
      "\n",
      "[289 rows x 2 columns]\n"
     ]
    },
    {
     "name": "stderr",
     "output_type": "stream",
     "text": [
      "C:\\Users\\USER\\AppData\\Local\\Temp\\ipykernel_17652\\3827693980.py:19: FutureWarning: The frame.append method is deprecated and will be removed from pandas in a future version. Use pandas.concat instead.\n",
      "  gc = gc.append(Dic, ignore_index=True)\n"
     ]
    },
    {
     "name": "stdout",
     "output_type": "stream",
     "text": [
      "                                  Company                            Website\n",
      "0                                     NaN                                NaN\n",
      "1                           3Degrees Inc.           https://3degreesinc.com/\n",
      "2                           3Degrees Inc.           https://3degreesinc.com/\n",
      "3                      3Phases Renewables  http://www.3phasesrenewables.com/\n",
      "4                      3Phases Renewables  http://www.3phasesrenewables.com/\n",
      "..                                    ...                                ...\n",
      "285                           We Energies        http://www.we-energies.com/\n",
      "286                           We Energies        http://www.we-energies.com/\n",
      "287  Western Farmers Electric Cooperative               http://www.wfec.com/\n",
      "288             WGL Energy Services, Inc.               http://www.wges.com/\n",
      "289             WGL Energy Services, Inc.               http://www.wges.com/\n",
      "\n",
      "[290 rows x 2 columns]\n"
     ]
    },
    {
     "name": "stderr",
     "output_type": "stream",
     "text": [
      "C:\\Users\\USER\\AppData\\Local\\Temp\\ipykernel_17652\\3827693980.py:19: FutureWarning: The frame.append method is deprecated and will be removed from pandas in a future version. Use pandas.concat instead.\n",
      "  gc = gc.append(Dic, ignore_index=True)\n"
     ]
    },
    {
     "name": "stdout",
     "output_type": "stream",
     "text": [
      "                                  Company                            Website\n",
      "0                                     NaN                                NaN\n",
      "1                           3Degrees Inc.           https://3degreesinc.com/\n",
      "2                           3Degrees Inc.           https://3degreesinc.com/\n",
      "3                      3Phases Renewables  http://www.3phasesrenewables.com/\n",
      "4                      3Phases Renewables  http://www.3phasesrenewables.com/\n",
      "..                                    ...                                ...\n",
      "286                           We Energies        http://www.we-energies.com/\n",
      "287  Western Farmers Electric Cooperative               http://www.wfec.com/\n",
      "288             WGL Energy Services, Inc.               http://www.wges.com/\n",
      "289             WGL Energy Services, Inc.               http://www.wges.com/\n",
      "290             WGL Energy Services, Inc.               http://www.wges.com/\n",
      "\n",
      "[291 rows x 2 columns]\n"
     ]
    },
    {
     "name": "stderr",
     "output_type": "stream",
     "text": [
      "C:\\Users\\USER\\AppData\\Local\\Temp\\ipykernel_17652\\3827693980.py:19: FutureWarning: The frame.append method is deprecated and will be removed from pandas in a future version. Use pandas.concat instead.\n",
      "  gc = gc.append(Dic, ignore_index=True)\n"
     ]
    },
    {
     "name": "stdout",
     "output_type": "stream",
     "text": [
      "                                  Company                            Website\n",
      "0                                     NaN                                NaN\n",
      "1                           3Degrees Inc.           https://3degreesinc.com/\n",
      "2                           3Degrees Inc.           https://3degreesinc.com/\n",
      "3                      3Phases Renewables  http://www.3phasesrenewables.com/\n",
      "4                      3Phases Renewables  http://www.3phasesrenewables.com/\n",
      "..                                    ...                                ...\n",
      "287  Western Farmers Electric Cooperative               http://www.wfec.com/\n",
      "288             WGL Energy Services, Inc.               http://www.wges.com/\n",
      "289             WGL Energy Services, Inc.               http://www.wges.com/\n",
      "290             WGL Energy Services, Inc.               http://www.wges.com/\n",
      "291             WGL Energy Services, Inc.               http://www.wges.com/\n",
      "\n",
      "[292 rows x 2 columns]\n"
     ]
    },
    {
     "name": "stderr",
     "output_type": "stream",
     "text": [
      "C:\\Users\\USER\\AppData\\Local\\Temp\\ipykernel_17652\\3827693980.py:19: FutureWarning: The frame.append method is deprecated and will be removed from pandas in a future version. Use pandas.concat instead.\n",
      "  gc = gc.append(Dic, ignore_index=True)\n"
     ]
    },
    {
     "name": "stdout",
     "output_type": "stream",
     "text": [
      "                       Company                            Website\n",
      "0                          NaN                                NaN\n",
      "1                3Degrees Inc.           https://3degreesinc.com/\n",
      "2                3Degrees Inc.           https://3degreesinc.com/\n",
      "3           3Phases Renewables  http://www.3phasesrenewables.com/\n",
      "4           3Phases Renewables  http://www.3phasesrenewables.com/\n",
      "..                         ...                                ...\n",
      "288  WGL Energy Services, Inc.               http://www.wges.com/\n",
      "289  WGL Energy Services, Inc.               http://www.wges.com/\n",
      "290  WGL Energy Services, Inc.               http://www.wges.com/\n",
      "291  WGL Energy Services, Inc.               http://www.wges.com/\n",
      "292  WGL Energy Services, Inc.               http://www.wges.com/\n",
      "\n",
      "[293 rows x 2 columns]\n"
     ]
    },
    {
     "name": "stderr",
     "output_type": "stream",
     "text": [
      "C:\\Users\\USER\\AppData\\Local\\Temp\\ipykernel_17652\\3827693980.py:19: FutureWarning: The frame.append method is deprecated and will be removed from pandas in a future version. Use pandas.concat instead.\n",
      "  gc = gc.append(Dic, ignore_index=True)\n"
     ]
    },
    {
     "name": "stdout",
     "output_type": "stream",
     "text": [
      "                       Company                            Website\n",
      "0                          NaN                                NaN\n",
      "1                3Degrees Inc.           https://3degreesinc.com/\n",
      "2                3Degrees Inc.           https://3degreesinc.com/\n",
      "3           3Phases Renewables  http://www.3phasesrenewables.com/\n",
      "4           3Phases Renewables  http://www.3phasesrenewables.com/\n",
      "..                         ...                                ...\n",
      "289  WGL Energy Services, Inc.               http://www.wges.com/\n",
      "290  WGL Energy Services, Inc.               http://www.wges.com/\n",
      "291  WGL Energy Services, Inc.               http://www.wges.com/\n",
      "292  WGL Energy Services, Inc.               http://www.wges.com/\n",
      "293  WGL Energy Services, Inc.               http://www.wges.com/\n",
      "\n",
      "[294 rows x 2 columns]\n"
     ]
    },
    {
     "name": "stderr",
     "output_type": "stream",
     "text": [
      "C:\\Users\\USER\\AppData\\Local\\Temp\\ipykernel_17652\\3827693980.py:19: FutureWarning: The frame.append method is deprecated and will be removed from pandas in a future version. Use pandas.concat instead.\n",
      "  gc = gc.append(Dic, ignore_index=True)\n"
     ]
    },
    {
     "name": "stdout",
     "output_type": "stream",
     "text": [
      "                       Company                            Website\n",
      "0                          NaN                                NaN\n",
      "1                3Degrees Inc.           https://3degreesinc.com/\n",
      "2                3Degrees Inc.           https://3degreesinc.com/\n",
      "3           3Phases Renewables  http://www.3phasesrenewables.com/\n",
      "4           3Phases Renewables  http://www.3phasesrenewables.com/\n",
      "..                         ...                                ...\n",
      "290  WGL Energy Services, Inc.               http://www.wges.com/\n",
      "291  WGL Energy Services, Inc.               http://www.wges.com/\n",
      "292  WGL Energy Services, Inc.               http://www.wges.com/\n",
      "293  WGL Energy Services, Inc.               http://www.wges.com/\n",
      "294  WGL Energy Services, Inc.               http://www.wges.com/\n",
      "\n",
      "[295 rows x 2 columns]\n"
     ]
    },
    {
     "name": "stderr",
     "output_type": "stream",
     "text": [
      "C:\\Users\\USER\\AppData\\Local\\Temp\\ipykernel_17652\\3827693980.py:19: FutureWarning: The frame.append method is deprecated and will be removed from pandas in a future version. Use pandas.concat instead.\n",
      "  gc = gc.append(Dic, ignore_index=True)\n"
     ]
    },
    {
     "name": "stdout",
     "output_type": "stream",
     "text": [
      "                       Company                            Website\n",
      "0                          NaN                                NaN\n",
      "1                3Degrees Inc.           https://3degreesinc.com/\n",
      "2                3Degrees Inc.           https://3degreesinc.com/\n",
      "3           3Phases Renewables  http://www.3phasesrenewables.com/\n",
      "4           3Phases Renewables  http://www.3phasesrenewables.com/\n",
      "..                         ...                                ...\n",
      "291  WGL Energy Services, Inc.               http://www.wges.com/\n",
      "292  WGL Energy Services, Inc.               http://www.wges.com/\n",
      "293  WGL Energy Services, Inc.               http://www.wges.com/\n",
      "294  WGL Energy Services, Inc.               http://www.wges.com/\n",
      "295                     X-Elio                https://x-elio.com/\n",
      "\n",
      "[296 rows x 2 columns]\n"
     ]
    },
    {
     "name": "stderr",
     "output_type": "stream",
     "text": [
      "C:\\Users\\USER\\AppData\\Local\\Temp\\ipykernel_17652\\3827693980.py:19: FutureWarning: The frame.append method is deprecated and will be removed from pandas in a future version. Use pandas.concat instead.\n",
      "  gc = gc.append(Dic, ignore_index=True)\n"
     ]
    },
    {
     "name": "stdout",
     "output_type": "stream",
     "text": [
      "                       Company                            Website\n",
      "0                          NaN                                NaN\n",
      "1                3Degrees Inc.           https://3degreesinc.com/\n",
      "2                3Degrees Inc.           https://3degreesinc.com/\n",
      "3           3Phases Renewables  http://www.3phasesrenewables.com/\n",
      "4           3Phases Renewables  http://www.3phasesrenewables.com/\n",
      "..                         ...                                ...\n",
      "292  WGL Energy Services, Inc.               http://www.wges.com/\n",
      "293  WGL Energy Services, Inc.               http://www.wges.com/\n",
      "294  WGL Energy Services, Inc.               http://www.wges.com/\n",
      "295                     X-Elio                https://x-elio.com/\n",
      "296                Xcel Energy             http://xcelenergy.com/\n",
      "\n",
      "[297 rows x 2 columns]\n"
     ]
    },
    {
     "name": "stderr",
     "output_type": "stream",
     "text": [
      "C:\\Users\\USER\\AppData\\Local\\Temp\\ipykernel_17652\\3827693980.py:19: FutureWarning: The frame.append method is deprecated and will be removed from pandas in a future version. Use pandas.concat instead.\n",
      "  gc = gc.append(Dic, ignore_index=True)\n"
     ]
    },
    {
     "name": "stdout",
     "output_type": "stream",
     "text": [
      "                       Company                            Website\n",
      "0                          NaN                                NaN\n",
      "1                3Degrees Inc.           https://3degreesinc.com/\n",
      "2                3Degrees Inc.           https://3degreesinc.com/\n",
      "3           3Phases Renewables  http://www.3phasesrenewables.com/\n",
      "4           3Phases Renewables  http://www.3phasesrenewables.com/\n",
      "..                         ...                                ...\n",
      "293  WGL Energy Services, Inc.               http://www.wges.com/\n",
      "294  WGL Energy Services, Inc.               http://www.wges.com/\n",
      "295                     X-Elio                https://x-elio.com/\n",
      "296                Xcel Energy             http://xcelenergy.com/\n",
      "297                Xcel Energy             http://xcelenergy.com/\n",
      "\n",
      "[298 rows x 2 columns]\n"
     ]
    },
    {
     "name": "stderr",
     "output_type": "stream",
     "text": [
      "C:\\Users\\USER\\AppData\\Local\\Temp\\ipykernel_17652\\3827693980.py:19: FutureWarning: The frame.append method is deprecated and will be removed from pandas in a future version. Use pandas.concat instead.\n",
      "  gc = gc.append(Dic, ignore_index=True)\n"
     ]
    },
    {
     "name": "stdout",
     "output_type": "stream",
     "text": [
      "                       Company                            Website\n",
      "0                          NaN                                NaN\n",
      "1                3Degrees Inc.           https://3degreesinc.com/\n",
      "2                3Degrees Inc.           https://3degreesinc.com/\n",
      "3           3Phases Renewables  http://www.3phasesrenewables.com/\n",
      "4           3Phases Renewables  http://www.3phasesrenewables.com/\n",
      "..                         ...                                ...\n",
      "294  WGL Energy Services, Inc.               http://www.wges.com/\n",
      "295                     X-Elio                https://x-elio.com/\n",
      "296                Xcel Energy             http://xcelenergy.com/\n",
      "297                Xcel Energy             http://xcelenergy.com/\n",
      "298                Xcel Energy             http://xcelenergy.com/\n",
      "\n",
      "[299 rows x 2 columns]\n"
     ]
    },
    {
     "name": "stderr",
     "output_type": "stream",
     "text": [
      "C:\\Users\\USER\\AppData\\Local\\Temp\\ipykernel_17652\\3827693980.py:19: FutureWarning: The frame.append method is deprecated and will be removed from pandas in a future version. Use pandas.concat instead.\n",
      "  gc = gc.append(Dic, ignore_index=True)\n"
     ]
    },
    {
     "name": "stdout",
     "output_type": "stream",
     "text": [
      "                Company                            Website\n",
      "0                   NaN                                NaN\n",
      "1         3Degrees Inc.           https://3degreesinc.com/\n",
      "2         3Degrees Inc.           https://3degreesinc.com/\n",
      "3    3Phases Renewables  http://www.3phasesrenewables.com/\n",
      "4    3Phases Renewables  http://www.3phasesrenewables.com/\n",
      "..                  ...                                ...\n",
      "295              X-Elio                https://x-elio.com/\n",
      "296         Xcel Energy             http://xcelenergy.com/\n",
      "297         Xcel Energy             http://xcelenergy.com/\n",
      "298         Xcel Energy             http://xcelenergy.com/\n",
      "299         Xcel Energy             http://xcelenergy.com/\n",
      "\n",
      "[300 rows x 2 columns]\n"
     ]
    },
    {
     "name": "stderr",
     "output_type": "stream",
     "text": [
      "C:\\Users\\USER\\AppData\\Local\\Temp\\ipykernel_17652\\3827693980.py:19: FutureWarning: The frame.append method is deprecated and will be removed from pandas in a future version. Use pandas.concat instead.\n",
      "  gc = gc.append(Dic, ignore_index=True)\n"
     ]
    },
    {
     "name": "stdout",
     "output_type": "stream",
     "text": [
      "                Company                            Website\n",
      "0                   NaN                                NaN\n",
      "1         3Degrees Inc.           https://3degreesinc.com/\n",
      "2         3Degrees Inc.           https://3degreesinc.com/\n",
      "3    3Phases Renewables  http://www.3phasesrenewables.com/\n",
      "4    3Phases Renewables  http://www.3phasesrenewables.com/\n",
      "..                  ...                                ...\n",
      "296         Xcel Energy             http://xcelenergy.com/\n",
      "297         Xcel Energy             http://xcelenergy.com/\n",
      "298         Xcel Energy             http://xcelenergy.com/\n",
      "299         Xcel Energy             http://xcelenergy.com/\n",
      "300         Xcel Energy             http://xcelenergy.com/\n",
      "\n",
      "[301 rows x 2 columns]\n"
     ]
    },
    {
     "name": "stderr",
     "output_type": "stream",
     "text": [
      "C:\\Users\\USER\\AppData\\Local\\Temp\\ipykernel_17652\\3827693980.py:19: FutureWarning: The frame.append method is deprecated and will be removed from pandas in a future version. Use pandas.concat instead.\n",
      "  gc = gc.append(Dic, ignore_index=True)\n"
     ]
    },
    {
     "name": "stdout",
     "output_type": "stream",
     "text": [
      "                Company                            Website\n",
      "0                   NaN                                NaN\n",
      "1         3Degrees Inc.           https://3degreesinc.com/\n",
      "2         3Degrees Inc.           https://3degreesinc.com/\n",
      "3    3Phases Renewables  http://www.3phasesrenewables.com/\n",
      "4    3Phases Renewables  http://www.3phasesrenewables.com/\n",
      "..                  ...                                ...\n",
      "297         Xcel Energy             http://xcelenergy.com/\n",
      "298         Xcel Energy             http://xcelenergy.com/\n",
      "299         Xcel Energy             http://xcelenergy.com/\n",
      "300         Xcel Energy             http://xcelenergy.com/\n",
      "301         Xcel Energy             http://xcelenergy.com/\n",
      "\n",
      "[302 rows x 2 columns]\n"
     ]
    },
    {
     "name": "stderr",
     "output_type": "stream",
     "text": [
      "C:\\Users\\USER\\AppData\\Local\\Temp\\ipykernel_17652\\3827693980.py:19: FutureWarning: The frame.append method is deprecated and will be removed from pandas in a future version. Use pandas.concat instead.\n",
      "  gc = gc.append(Dic, ignore_index=True)\n"
     ]
    },
    {
     "name": "stdout",
     "output_type": "stream",
     "text": [
      "                Company                            Website\n",
      "0                   NaN                                NaN\n",
      "1         3Degrees Inc.           https://3degreesinc.com/\n",
      "2         3Degrees Inc.           https://3degreesinc.com/\n",
      "3    3Phases Renewables  http://www.3phasesrenewables.com/\n",
      "4    3Phases Renewables  http://www.3phasesrenewables.com/\n",
      "..                  ...                                ...\n",
      "298         Xcel Energy             http://xcelenergy.com/\n",
      "299         Xcel Energy             http://xcelenergy.com/\n",
      "300         Xcel Energy             http://xcelenergy.com/\n",
      "301         Xcel Energy             http://xcelenergy.com/\n",
      "302         Xcel Energy             http://xcelenergy.com/\n",
      "\n",
      "[303 rows x 2 columns]\n",
      "                Company                            Website\n",
      "0                   NaN                                NaN\n",
      "1         3Degrees Inc.           https://3degreesinc.com/\n",
      "2         3Degrees Inc.           https://3degreesinc.com/\n",
      "3    3Phases Renewables  http://www.3phasesrenewables.com/\n",
      "4    3Phases Renewables  http://www.3phasesrenewables.com/\n",
      "..                  ...                                ...\n",
      "299         Xcel Energy             http://xcelenergy.com/\n",
      "300         Xcel Energy             http://xcelenergy.com/\n",
      "301         Xcel Energy             http://xcelenergy.com/\n",
      "302         Xcel Energy             http://xcelenergy.com/\n",
      "303         Xcel Energy             http://xcelenergy.com/\n",
      "\n",
      "[304 rows x 2 columns]\n"
     ]
    },
    {
     "name": "stderr",
     "output_type": "stream",
     "text": [
      "C:\\Users\\USER\\AppData\\Local\\Temp\\ipykernel_17652\\3827693980.py:19: FutureWarning: The frame.append method is deprecated and will be removed from pandas in a future version. Use pandas.concat instead.\n",
      "  gc = gc.append(Dic, ignore_index=True)\n"
     ]
    }
   ],
   "source": [
    "cc = driver.find_elements(By.CSS_SELECTOR, \"#block-views-resources-block-resources-res > div > div > div.view-content > table > tbody > tr > td:nth-child(1) > a\")\n",
    "cc = len(cc)\n",
    "cc = int(cc)\n",
    "for i in range (cc):\n",
    "    comp = driver.find_elements(By.CSS_SELECTOR, \"#block-views-resources-block-resources-res > div > div > div.view-content > table > tbody > tr > td:nth-child(1) > a\")\n",
    "    comp = comp[i].text\n",
    "    clk = driver.find_elements(By.CSS_SELECTOR, \"#block-views-resources-block-resources-res > div > div > div.view-content > table > tbody > tr > td:nth-child(1) > a\")\n",
    "    clk = clk[i]\n",
    "    driver.execute_script(\"arguments[0].click();\", clk)\n",
    "    time.sleep(7)\n",
    "    try:\n",
    "        web = driver.find_element(By.CSS_SELECTOR,'#provider-detail > div.row.clearfix.content > div > div:nth-child(2) > div > span:nth-child(2) > a')\n",
    "        web = web.get_attribute('href')\n",
    "    except:\n",
    "        web = 'None'\n",
    "    Dic={'Company':comp,\n",
    "        'Website':web}\n",
    "    driver.refresh()\n",
    "    gc = gc.append(Dic, ignore_index=True)\n",
    "    print(gc)\n",
    "    "
   ]
  },
  {
   "cell_type": "code",
   "execution_count": 6,
   "id": "c726bcb4",
   "metadata": {},
   "outputs": [
    {
     "data": {
      "text/html": [
       "<div>\n",
       "<style scoped>\n",
       "    .dataframe tbody tr th:only-of-type {\n",
       "        vertical-align: middle;\n",
       "    }\n",
       "\n",
       "    .dataframe tbody tr th {\n",
       "        vertical-align: top;\n",
       "    }\n",
       "\n",
       "    .dataframe thead th {\n",
       "        text-align: right;\n",
       "    }\n",
       "</style>\n",
       "<table border=\"1\" class=\"dataframe\">\n",
       "  <thead>\n",
       "    <tr style=\"text-align: right;\">\n",
       "      <th></th>\n",
       "      <th>Company</th>\n",
       "      <th>Website</th>\n",
       "    </tr>\n",
       "  </thead>\n",
       "  <tbody>\n",
       "    <tr>\n",
       "      <th>0</th>\n",
       "      <td>NaN</td>\n",
       "      <td>NaN</td>\n",
       "    </tr>\n",
       "    <tr>\n",
       "      <th>1</th>\n",
       "      <td>3Degrees Inc.</td>\n",
       "      <td>https://3degreesinc.com/</td>\n",
       "    </tr>\n",
       "    <tr>\n",
       "      <th>2</th>\n",
       "      <td>3Degrees Inc.</td>\n",
       "      <td>https://3degreesinc.com/</td>\n",
       "    </tr>\n",
       "    <tr>\n",
       "      <th>3</th>\n",
       "      <td>3Phases Renewables</td>\n",
       "      <td>http://www.3phasesrenewables.com/</td>\n",
       "    </tr>\n",
       "    <tr>\n",
       "      <th>4</th>\n",
       "      <td>3Phases Renewables</td>\n",
       "      <td>http://www.3phasesrenewables.com/</td>\n",
       "    </tr>\n",
       "    <tr>\n",
       "      <th>...</th>\n",
       "      <td>...</td>\n",
       "      <td>...</td>\n",
       "    </tr>\n",
       "    <tr>\n",
       "      <th>299</th>\n",
       "      <td>Xcel Energy</td>\n",
       "      <td>http://xcelenergy.com/</td>\n",
       "    </tr>\n",
       "    <tr>\n",
       "      <th>300</th>\n",
       "      <td>Xcel Energy</td>\n",
       "      <td>http://xcelenergy.com/</td>\n",
       "    </tr>\n",
       "    <tr>\n",
       "      <th>301</th>\n",
       "      <td>Xcel Energy</td>\n",
       "      <td>http://xcelenergy.com/</td>\n",
       "    </tr>\n",
       "    <tr>\n",
       "      <th>302</th>\n",
       "      <td>Xcel Energy</td>\n",
       "      <td>http://xcelenergy.com/</td>\n",
       "    </tr>\n",
       "    <tr>\n",
       "      <th>303</th>\n",
       "      <td>Xcel Energy</td>\n",
       "      <td>http://xcelenergy.com/</td>\n",
       "    </tr>\n",
       "  </tbody>\n",
       "</table>\n",
       "<p>304 rows × 2 columns</p>\n",
       "</div>"
      ],
      "text/plain": [
       "                Company                            Website\n",
       "0                   NaN                                NaN\n",
       "1         3Degrees Inc.           https://3degreesinc.com/\n",
       "2         3Degrees Inc.           https://3degreesinc.com/\n",
       "3    3Phases Renewables  http://www.3phasesrenewables.com/\n",
       "4    3Phases Renewables  http://www.3phasesrenewables.com/\n",
       "..                  ...                                ...\n",
       "299         Xcel Energy             http://xcelenergy.com/\n",
       "300         Xcel Energy             http://xcelenergy.com/\n",
       "301         Xcel Energy             http://xcelenergy.com/\n",
       "302         Xcel Energy             http://xcelenergy.com/\n",
       "303         Xcel Energy             http://xcelenergy.com/\n",
       "\n",
       "[304 rows x 2 columns]"
      ]
     },
     "execution_count": 6,
     "metadata": {},
     "output_type": "execute_result"
    }
   ],
   "source": [
    "gc"
   ]
  },
  {
   "cell_type": "code",
   "execution_count": 7,
   "id": "108ff028",
   "metadata": {},
   "outputs": [],
   "source": [
    "gc.to_excel('text.xlsx')"
   ]
  },
  {
   "cell_type": "code",
   "execution_count": null,
   "id": "741b4131",
   "metadata": {},
   "outputs": [],
   "source": []
  }
 ],
 "metadata": {
  "kernelspec": {
   "display_name": "Python 3 (ipykernel)",
   "language": "python",
   "name": "python3"
  },
  "language_info": {
   "codemirror_mode": {
    "name": "ipython",
    "version": 3
   },
   "file_extension": ".py",
   "mimetype": "text/x-python",
   "name": "python",
   "nbconvert_exporter": "python",
   "pygments_lexer": "ipython3",
   "version": "3.9.12"
  }
 },
 "nbformat": 4,
 "nbformat_minor": 5
}
