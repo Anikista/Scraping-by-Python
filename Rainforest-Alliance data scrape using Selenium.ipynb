{
 "cells": [
  {
   "cell_type": "code",
   "execution_count": 4,
   "id": "63854da7",
   "metadata": {},
   "outputs": [
    {
     "name": "stdout",
     "output_type": "stream",
     "text": [
      "\n"
     ]
    },
    {
     "name": "stderr",
     "output_type": "stream",
     "text": [
      "[WDM] - ====== WebDriver manager ======\n",
      "[WDM] - Current google-chrome version is 103.0.5060\n",
      "[WDM] - Get LATEST chromedriver version for 103.0.5060 google-chrome\n",
      "[WDM] - Driver [C:\\Users\\USER\\.wdm\\drivers\\chromedriver\\win32\\103.0.5060.53\\chromedriver.exe] found in cache\n",
      "C:\\Users\\USER\\AppData\\Local\\Temp\\ipykernel_7220\\74323366.py:19: DeprecationWarning: executable_path has been deprecated, please pass in a Service object\n",
      "  driver = webdriver.Chrome(ChromeDriverManager().install())\n"
     ]
    }
   ],
   "source": [
    "import selenium                                                \n",
    "import pandas as pd \n",
    "import re\n",
    "from selenium import webdriver\n",
    "from selenium.common.exceptions import NoSuchElementException\n",
    "from selenium.common.exceptions import TimeoutException\n",
    "from selenium.webdriver.support import expected_conditions as EC\n",
    "from selenium.webdriver.support.ui import WebDriverWait\n",
    "from selenium.webdriver.support import expected_conditions as EC\n",
    "from selenium.webdriver.chrome.options import Options\n",
    "from selenium.webdriver.common.by import By\n",
    "import time\n",
    "from selenium.webdriver.common.action_chains import ActionChains\n",
    "import string\n",
    "import os, platform\n",
    "import requests\n",
    "from bs4 import BeautifulSoup\n",
    "from webdriver_manager.chrome import ChromeDriverManager      \n",
    "driver = webdriver.Chrome(ChromeDriverManager().install())\n",
    "#driver = webdriver.Chrome(executable_path='/Users/User/Upwork Project/PlanetX/chromedriver')\n",
    "driver.maximize_window()"
   ]
  },
  {
   "cell_type": "code",
   "execution_count": 5,
   "id": "867e2e9f",
   "metadata": {},
   "outputs": [
    {
     "data": {
      "text/html": [
       "<div>\n",
       "<style scoped>\n",
       "    .dataframe tbody tr th:only-of-type {\n",
       "        vertical-align: middle;\n",
       "    }\n",
       "\n",
       "    .dataframe tbody tr th {\n",
       "        vertical-align: top;\n",
       "    }\n",
       "\n",
       "    .dataframe thead th {\n",
       "        text-align: right;\n",
       "    }\n",
       "</style>\n",
       "<table border=\"1\" class=\"dataframe\">\n",
       "  <thead>\n",
       "    <tr style=\"text-align: right;\">\n",
       "      <th></th>\n",
       "      <th>Company Name</th>\n",
       "      <th>Company Website</th>\n",
       "      <th>Product Name</th>\n",
       "      <th>Certified Ingredients</th>\n",
       "      <th>Available In</th>\n",
       "    </tr>\n",
       "  </thead>\n",
       "  <tbody>\n",
       "    <tr>\n",
       "      <th>0</th>\n",
       "      <td>NaN</td>\n",
       "      <td>NaN</td>\n",
       "      <td>NaN</td>\n",
       "      <td>NaN</td>\n",
       "      <td>NaN</td>\n",
       "    </tr>\n",
       "  </tbody>\n",
       "</table>\n",
       "</div>"
      ],
      "text/plain": [
       "  Company Name Company Website Product Name Certified Ingredients Available In\n",
       "0          NaN             NaN          NaN                   NaN          NaN"
      ]
     },
     "execution_count": 5,
     "metadata": {},
     "output_type": "execute_result"
    }
   ],
   "source": [
    "Dic = {}\n",
    "gc= pd.DataFrame(data=Dic,index=[0], \n",
    "                columns=['Company Name',\n",
    "                            'Company Website',\n",
    "                            'Product Name',\n",
    "                            'Certified Ingredients',\n",
    "                            'Available In',])\n",
    "gc"
   ]
  },
  {
   "cell_type": "code",
   "execution_count": 6,
   "id": "a2cc6444",
   "metadata": {},
   "outputs": [
    {
     "name": "stdout",
     "output_type": "stream",
     "text": [
      "https://www.rainforest-alliance.org/find-certified/\n"
     ]
    }
   ],
   "source": [
    "url = 'https://www.rainforest-alliance.org/find-certified/'\n",
    "driver.get(url)"
   ]
  },
  {
   "cell_type": "code",
   "execution_count": 7,
   "id": "b8fdca53",
   "metadata": {},
   "outputs": [
    {
     "name": "stdout",
     "output_type": "stream",
     "text": [
      "How many pages? 37\n"
     ]
    }
   ],
   "source": [
    "#input 37\n",
    "pages = input('How many pages? ')\n",
    "pages = int(pages)"
   ]
  },
  {
   "cell_type": "code",
   "execution_count": 8,
   "id": "4cf020bf",
   "metadata": {},
   "outputs": [
    {
     "name": "stdout",
     "output_type": "stream",
     "text": [
      "Biovegan\n",
      "https://www.biovegan.de/\n",
      "Vanilla, Chocolate\n",
      "Cocoa\n",
      "Switzerland, Spain, Slovenia, Romania, Poland, Netherlands, Lithuania, Greece, Germany, France, Czech Republic, Belgium, Austria, United Arab Emirates\n"
     ]
    },
    {
     "name": "stderr",
     "output_type": "stream",
     "text": [
      "C:\\Users\\USER\\AppData\\Local\\Temp\\ipykernel_7220\\498704451.py:41: FutureWarning: The frame.append method is deprecated and will be removed from pandas in a future version. Use pandas.concat instead.\n",
      "  gc = gc.append(Dic, ignore_index=True)\n"
     ]
    },
    {
     "name": "stdout",
     "output_type": "stream",
     "text": [
      "Bristot\n",
      "http://www.caffebristot.com/\n",
      "Coffee\n",
      "Coffee\n",
      "Austria, France, Germany, Israel, Italy, Russia, Ukraine\n"
     ]
    },
    {
     "name": "stderr",
     "output_type": "stream",
     "text": [
      "C:\\Users\\USER\\AppData\\Local\\Temp\\ipykernel_7220\\498704451.py:41: FutureWarning: The frame.append method is deprecated and will be removed from pandas in a future version. Use pandas.concat instead.\n",
      "  gc = gc.append(Dic, ignore_index=True)\n"
     ]
    },
    {
     "name": "stdout",
     "output_type": "stream",
     "text": [
      "Hershey’s\n",
      "https://www.thehersheycompany.com/en_us/home.html\n",
      "Chocolate\n",
      "Cocoa\n",
      "Peru, Mexico, Chile, Canada, Argentina, United States, Brazil\n"
     ]
    },
    {
     "name": "stderr",
     "output_type": "stream",
     "text": [
      "C:\\Users\\USER\\AppData\\Local\\Temp\\ipykernel_7220\\498704451.py:41: FutureWarning: The frame.append method is deprecated and will be removed from pandas in a future version. Use pandas.concat instead.\n",
      "  gc = gc.append(Dic, ignore_index=True)\n"
     ]
    },
    {
     "name": "stdout",
     "output_type": "stream",
     "text": [
      "Catamona\n",
      "http://www.catamona.com/\n",
      "Coffee\n",
      "Coffee\n",
      "Taiwan\n"
     ]
    },
    {
     "name": "stderr",
     "output_type": "stream",
     "text": [
      "C:\\Users\\USER\\AppData\\Local\\Temp\\ipykernel_7220\\498704451.py:41: FutureWarning: The frame.append method is deprecated and will be removed from pandas in a future version. Use pandas.concat instead.\n",
      "  gc = gc.append(Dic, ignore_index=True)\n"
     ]
    },
    {
     "name": "stdout",
     "output_type": "stream",
     "text": [
      "Paulig\n",
      "http://www.paulig.com/\n",
      "Coffee, Chocolate\n",
      "Cocoa, Coffee\n",
      "Lithuania, Latvia, Finland, Estonia, Russia\n"
     ]
    },
    {
     "name": "stderr",
     "output_type": "stream",
     "text": [
      "C:\\Users\\USER\\AppData\\Local\\Temp\\ipykernel_7220\\498704451.py:41: FutureWarning: The frame.append method is deprecated and will be removed from pandas in a future version. Use pandas.concat instead.\n",
      "  gc = gc.append(Dic, ignore_index=True)\n"
     ]
    },
    {
     "name": "stdout",
     "output_type": "stream",
     "text": [
      "Community Coffee\n",
      "http://www.communitycoffee.com/\n",
      "Coffee\n",
      "Coffee\n",
      "United States\n"
     ]
    },
    {
     "name": "stderr",
     "output_type": "stream",
     "text": [
      "C:\\Users\\USER\\AppData\\Local\\Temp\\ipykernel_7220\\498704451.py:41: FutureWarning: The frame.append method is deprecated and will be removed from pandas in a future version. Use pandas.concat instead.\n",
      "  gc = gc.append(Dic, ignore_index=True)\n"
     ]
    },
    {
     "name": "stdout",
     "output_type": "stream",
     "text": [
      "Don Café\n",
      "https://www.gruposolpanamby.com.br/negocios/varejo/don-cafe.php\n",
      "Coffee\n",
      "Coffee\n",
      "Brazil\n"
     ]
    },
    {
     "name": "stderr",
     "output_type": "stream",
     "text": [
      "C:\\Users\\USER\\AppData\\Local\\Temp\\ipykernel_7220\\498704451.py:41: FutureWarning: The frame.append method is deprecated and will be removed from pandas in a future version. Use pandas.concat instead.\n",
      "  gc = gc.append(Dic, ignore_index=True)\n"
     ]
    },
    {
     "name": "stdout",
     "output_type": "stream",
     "text": [
      "Melão Mossoró\n",
      "https://matafresca.com.br/\n",
      "Melon\n",
      "\n",
      "Austria, Belarus, Belgium, Brazil, Czech Republic, Denmark, Estonia, Finland, France, Germany, Greece, Hungary, Ireland, Italy, Latvia, Lithuania, Luxembourg, Netherlands, Norway, Poland, Portugal, Qatar, Romania, Russia, Slovakia, Spain, Sweden, Switzerland, Ukraine, United Kingdom\n"
     ]
    },
    {
     "name": "stderr",
     "output_type": "stream",
     "text": [
      "C:\\Users\\USER\\AppData\\Local\\Temp\\ipykernel_7220\\498704451.py:41: FutureWarning: The frame.append method is deprecated and will be removed from pandas in a future version. Use pandas.concat instead.\n",
      "  gc = gc.append(Dic, ignore_index=True)\n"
     ]
    },
    {
     "name": "stdout",
     "output_type": "stream",
     "text": [
      "Emmi\n",
      "http://ch.emmi.com/de/\n",
      "Coffee\n",
      "Coffee\n",
      "Afghanistan, Albania, Algeria, Argentina, Australia, Austria, Bahrain, Belarus, Belgium, Belize, Bolivia, Bosnia-Herzegovina, Bulgaria, Cambodia, Cameroon, Canada, Chile, China, Colombia, Costa Rica, Croatia, Cyprus, Czech Republic, Denmark, Dominican Republic, Ecuador, Egypt, El Salvador, Estonia, Ethiopia, Finland, France, Gabon, Germany, Ghana, Greece, Guatemala, Honduras, Hong Kong, Hungary, Iceland, India, Indonesia, Iran, Ireland, Israel, Italy, Ivory Coast, Japan, Jordan, Kenya, Korea, Kosovo, Kuwait, Latvia, Lebanon, Liechtenstein, Lithuania, Luxembourg, Macedonia, Malaysia, Malta, Mauritius, Mexico, Moldova, Montenegro, Morocco, Netherlands, New Zealand, Nicaragua, Norway, Oman, Pakistan, Panama, Paraguay, Peru, Poland, Portugal, Qatar, Réunion, Romania, Russia, Rwanda, Saudi Arabia, Scotland, Senegal, Serbia, Singapore, Slovakia, Slovenia, South Africa, South Korea, Spain, Sri Lanka, Suriname, Sweden, Switzerland, Syria, Taiwan, Tanzania, Thailand, Turkey, Uganda, Ukraine, United Arab Emirates, United Kingdom, United States, Uruguay, Venezuela, Vietnam\n"
     ]
    },
    {
     "name": "stderr",
     "output_type": "stream",
     "text": [
      "C:\\Users\\USER\\AppData\\Local\\Temp\\ipykernel_7220\\498704451.py:41: FutureWarning: The frame.append method is deprecated and will be removed from pandas in a future version. Use pandas.concat instead.\n",
      "  gc = gc.append(Dic, ignore_index=True)\n"
     ]
    },
    {
     "name": "stdout",
     "output_type": "stream",
     "text": [
      "One\n",
      "https://www.onebananas.com/\n",
      "Bananas\n",
      "Bananas\n",
      "Afghanistan, Albania, Algeria, Argentina, Australia, Austria, Bahrain, Belarus, Belgium, Belize, Bolivia, Bosnia-Herzegovina, Bulgaria, Cambodia, Cameroon, Canada, Chile, China, Colombia, Costa Rica, Croatia, Cyprus, Czech Republic, Denmark, Dominican Republic, Ecuador, Egypt, El Salvador, Estonia, Ethiopia, Finland, France, Gabon, Germany, Ghana, Greece, Guatemala, Honduras, Hong Kong, Hungary, Iceland, India, Indonesia, Iran, Ireland, Israel, Italy, Ivory Coast, Japan, Jordan, Kenya, Korea, Kosovo, Kuwait, Latvia, Lebanon, Liechtenstein, Lithuania, Luxembourg, Macedonia, Malaysia, Malta, Mauritius, Mexico, Moldova, Montenegro, Morocco, Netherlands, New Zealand, Nicaragua, Norway, Oman, Pakistan, Panama, Paraguay, Peru, Poland, Portugal, Qatar, Réunion, Romania, Russia, Rwanda, Saudi Arabia, Scotland, Senegal, Serbia, Singapore, Slovakia, Slovenia, South Africa, South Korea, Spain, Sri Lanka, Suriname, Sweden, Switzerland, Syria, Taiwan, Tanzania, Thailand, Turkey, Uganda, Ukraine, United Arab Emirates, United Kingdom, United States, Uruguay, Venezuela, Vietnam\n"
     ]
    },
    {
     "name": "stderr",
     "output_type": "stream",
     "text": [
      "C:\\Users\\USER\\AppData\\Local\\Temp\\ipykernel_7220\\498704451.py:41: FutureWarning: The frame.append method is deprecated and will be removed from pandas in a future version. Use pandas.concat instead.\n",
      "  gc = gc.append(Dic, ignore_index=True)\n"
     ]
    },
    {
     "name": "stdout",
     "output_type": "stream",
     "text": [
      "Japan Airlines\n",
      "https://www.jal.co.jp/\n",
      "Coffee\n",
      "Coffee\n",
      "Afghanistan, Albania, Algeria, Argentina, Australia, Austria, Bahrain, Belarus, Belgium, Belize, Bolivia, Bosnia-Herzegovina, Bulgaria, Cambodia, Cameroon, Canada, Chile, China, Colombia, Costa Rica, Croatia, Cyprus, Czech Republic, Denmark, Dominican Republic, Ecuador, Egypt, El Salvador, Estonia, Ethiopia, Finland, France, Gabon, Germany, Ghana, Greece, Guatemala, Honduras, Hong Kong, Hungary, Iceland, India, Indonesia, Iran, Ireland, Israel, Italy, Ivory Coast, Japan, Jordan, Kenya, Korea, Kosovo, Kuwait, Latvia, Lebanon, Liechtenstein, Lithuania, Luxembourg, Macedonia, Malaysia, Malta, Mauritius, Mexico, Moldova, Montenegro, Morocco, Netherlands, New Zealand, Nicaragua, Norway, Oman, Pakistan, Panama, Paraguay, Peru, Poland, Portugal, Qatar, Réunion, Romania, Russia, Rwanda, Saudi Arabia, Scotland, Senegal, Serbia, Singapore, Slovakia, Slovenia, South Africa, South Korea, Spain, Sri Lanka, Suriname, Sweden, Switzerland, Syria, Taiwan, Tanzania, Thailand, Turkey, Uganda, Ukraine, United Arab Emirates, United Kingdom, United States, Uruguay, Venezuela, Vietnam\n"
     ]
    },
    {
     "name": "stderr",
     "output_type": "stream",
     "text": [
      "C:\\Users\\USER\\AppData\\Local\\Temp\\ipykernel_7220\\498704451.py:41: FutureWarning: The frame.append method is deprecated and will be removed from pandas in a future version. Use pandas.concat instead.\n",
      "  gc = gc.append(Dic, ignore_index=True)\n"
     ]
    },
    {
     "name": "stdout",
     "output_type": "stream",
     "text": [
      "The Republic of Tea\n",
      "https://www.republicoftea.com/\n",
      "Tea\n",
      "Tea\n",
      "United States\n"
     ]
    },
    {
     "name": "stderr",
     "output_type": "stream",
     "text": [
      "C:\\Users\\USER\\AppData\\Local\\Temp\\ipykernel_7220\\498704451.py:41: FutureWarning: The frame.append method is deprecated and will be removed from pandas in a future version. Use pandas.concat instead.\n",
      "  gc = gc.append(Dic, ignore_index=True)\n"
     ]
    },
    {
     "name": "stdout",
     "output_type": "stream",
     "text": [
      "Café da Origem\n",
      "https://www.cafedaorigem.com.br/\n",
      "Coffee\n",
      "Coffee\n",
      "Brazil\n"
     ]
    },
    {
     "name": "stderr",
     "output_type": "stream",
     "text": [
      "C:\\Users\\USER\\AppData\\Local\\Temp\\ipykernel_7220\\498704451.py:41: FutureWarning: The frame.append method is deprecated and will be removed from pandas in a future version. Use pandas.concat instead.\n",
      "  gc = gc.append(Dic, ignore_index=True)\n"
     ]
    },
    {
     "name": "stdout",
     "output_type": "stream",
     "text": [
      "MITO Cafés Especiais\n",
      "https://mitocafesespeciais.com.br/qualidade\n",
      "Coffee\n",
      "Coffee\n",
      "Brazil\n"
     ]
    },
    {
     "name": "stderr",
     "output_type": "stream",
     "text": [
      "C:\\Users\\USER\\AppData\\Local\\Temp\\ipykernel_7220\\498704451.py:41: FutureWarning: The frame.append method is deprecated and will be removed from pandas in a future version. Use pandas.concat instead.\n",
      "  gc = gc.append(Dic, ignore_index=True)\n"
     ]
    },
    {
     "name": "stdout",
     "output_type": "stream",
     "text": [
      "Vitale\n",
      "https://www.vitalecafe.com.br/\n",
      "Coffee\n",
      "Coffee\n",
      "Brazil\n"
     ]
    },
    {
     "name": "stderr",
     "output_type": "stream",
     "text": [
      "C:\\Users\\USER\\AppData\\Local\\Temp\\ipykernel_7220\\498704451.py:41: FutureWarning: The frame.append method is deprecated and will be removed from pandas in a future version. Use pandas.concat instead.\n",
      "  gc = gc.append(Dic, ignore_index=True)\n"
     ]
    },
    {
     "name": "stdout",
     "output_type": "stream",
     "text": [
      "Alpro\n",
      "https://www.alpro.com/uk\n",
      "Coffee\n",
      "Coffee\n",
      "Ireland, United Kingdom\n"
     ]
    },
    {
     "name": "stderr",
     "output_type": "stream",
     "text": [
      "C:\\Users\\USER\\AppData\\Local\\Temp\\ipykernel_7220\\498704451.py:41: FutureWarning: The frame.append method is deprecated and will be removed from pandas in a future version. Use pandas.concat instead.\n",
      "  gc = gc.append(Dic, ignore_index=True)\n"
     ]
    },
    {
     "name": "stdout",
     "output_type": "stream",
     "text": [
      "Altitude Coffee Roastery\n",
      "https://www.altitudecoffeeroastery.com.au/\n",
      "Coffee\n",
      "Coffee\n",
      "Australia\n"
     ]
    },
    {
     "name": "stderr",
     "output_type": "stream",
     "text": [
      "C:\\Users\\USER\\AppData\\Local\\Temp\\ipykernel_7220\\498704451.py:41: FutureWarning: The frame.append method is deprecated and will be removed from pandas in a future version. Use pandas.concat instead.\n",
      "  gc = gc.append(Dic, ignore_index=True)\n"
     ]
    },
    {
     "name": "stdout",
     "output_type": "stream",
     "text": [
      "American Airlines\n",
      "https://www.aa.com/\n",
      "Coffee\n",
      "Coffee\n",
      "Global\n"
     ]
    },
    {
     "name": "stderr",
     "output_type": "stream",
     "text": [
      "C:\\Users\\USER\\AppData\\Local\\Temp\\ipykernel_7220\\498704451.py:41: FutureWarning: The frame.append method is deprecated and will be removed from pandas in a future version. Use pandas.concat instead.\n",
      "  gc = gc.append(Dic, ignore_index=True)\n"
     ]
    },
    {
     "name": "stdout",
     "output_type": "stream",
     "text": [
      "Amrita Certified Pure Coffee\n",
      "https://amritacoffee.com/\n",
      "Coffee\n",
      "Coffee\n",
      "United States\n"
     ]
    },
    {
     "name": "stderr",
     "output_type": "stream",
     "text": [
      "C:\\Users\\USER\\AppData\\Local\\Temp\\ipykernel_7220\\498704451.py:41: FutureWarning: The frame.append method is deprecated and will be removed from pandas in a future version. Use pandas.concat instead.\n",
      "  gc = gc.append(Dic, ignore_index=True)\n"
     ]
    },
    {
     "name": "stdout",
     "output_type": "stream",
     "text": [
      "Ancora Coffee Roasters\n",
      "https://www.ancoracoffee.com/\n",
      "Coffee\n",
      "Coffee\n",
      "United States, Wisconsin\n"
     ]
    },
    {
     "name": "stderr",
     "output_type": "stream",
     "text": [
      "C:\\Users\\USER\\AppData\\Local\\Temp\\ipykernel_7220\\498704451.py:41: FutureWarning: The frame.append method is deprecated and will be removed from pandas in a future version. Use pandas.concat instead.\n",
      "  gc = gc.append(Dic, ignore_index=True)\n"
     ]
    },
    {
     "name": "stdout",
     "output_type": "stream",
     "text": [
      "Anthuriums.Co.Uk\n",
      "https://anthuriums.co.uk/\n",
      "Flowers & Plants, Chocolate\n",
      "Cocoa, Flowers\n",
      "United Kingdom\n"
     ]
    },
    {
     "name": "stderr",
     "output_type": "stream",
     "text": [
      "C:\\Users\\USER\\AppData\\Local\\Temp\\ipykernel_7220\\498704451.py:41: FutureWarning: The frame.append method is deprecated and will be removed from pandas in a future version. Use pandas.concat instead.\n",
      "  gc = gc.append(Dic, ignore_index=True)\n"
     ]
    },
    {
     "name": "stdout",
     "output_type": "stream",
     "text": [
      "Antwerp Zoo\n",
      "https://www.zooantwerpen.be/\n",
      "Coffee\n",
      "Coffee\n",
      "Belgium\n"
     ]
    },
    {
     "name": "stderr",
     "output_type": "stream",
     "text": [
      "C:\\Users\\USER\\AppData\\Local\\Temp\\ipykernel_7220\\498704451.py:41: FutureWarning: The frame.append method is deprecated and will be removed from pandas in a future version. Use pandas.concat instead.\n",
      "  gc = gc.append(Dic, ignore_index=True)\n"
     ]
    },
    {
     "name": "stdout",
     "output_type": "stream",
     "text": [
      "APEX\n",
      "https://www.apex-co.co.jp/\n",
      "Coffee\n",
      "Coffee\n",
      "Japan\n"
     ]
    },
    {
     "name": "stderr",
     "output_type": "stream",
     "text": [
      "C:\\Users\\USER\\AppData\\Local\\Temp\\ipykernel_7220\\498704451.py:41: FutureWarning: The frame.append method is deprecated and will be removed from pandas in a future version. Use pandas.concat instead.\n",
      "  gc = gc.append(Dic, ignore_index=True)\n"
     ]
    },
    {
     "name": "stdout",
     "output_type": "stream",
     "text": [
      "ARCO Coffee Co.\n",
      "https://www.arcocoffee.com/\n",
      "Coffee\n",
      "Coffee\n",
      "United States\n"
     ]
    },
    {
     "name": "stderr",
     "output_type": "stream",
     "text": [
      "C:\\Users\\USER\\AppData\\Local\\Temp\\ipykernel_7220\\498704451.py:41: FutureWarning: The frame.append method is deprecated and will be removed from pandas in a future version. Use pandas.concat instead.\n",
      "  gc = gc.append(Dic, ignore_index=True)\n"
     ]
    },
    {
     "name": "stdout",
     "output_type": "stream",
     "text": [
      "Arminda\n",
      "https://www.armindacafe.com/\n",
      "Coffee\n",
      "Coffee\n",
      "Brazil\n"
     ]
    },
    {
     "name": "stderr",
     "output_type": "stream",
     "text": [
      "C:\\Users\\USER\\AppData\\Local\\Temp\\ipykernel_7220\\498704451.py:41: FutureWarning: The frame.append method is deprecated and will be removed from pandas in a future version. Use pandas.concat instead.\n",
      "  gc = gc.append(Dic, ignore_index=True)\n"
     ]
    },
    {
     "ename": "KeyboardInterrupt",
     "evalue": "",
     "output_type": "error",
     "traceback": [
      "\u001b[1;31m---------------------------------------------------------------------------\u001b[0m",
      "\u001b[1;31mKeyboardInterrupt\u001b[0m                         Traceback (most recent call last)",
      "Input \u001b[1;32mIn [8]\u001b[0m, in \u001b[0;36m<cell line: 1>\u001b[1;34m()\u001b[0m\n\u001b[0;32m     10\u001b[0m driver\u001b[38;5;241m.\u001b[39mswitch_to\u001b[38;5;241m.\u001b[39mwindow(driver\u001b[38;5;241m.\u001b[39mwindow_handles[\u001b[38;5;241m1\u001b[39m])\n\u001b[0;32m     11\u001b[0m driver\u001b[38;5;241m.\u001b[39mget(lnk)\n\u001b[1;32m---> 12\u001b[0m \u001b[43mtime\u001b[49m\u001b[38;5;241;43m.\u001b[39;49m\u001b[43msleep\u001b[49m\u001b[43m(\u001b[49m\u001b[38;5;241;43m6\u001b[39;49m\u001b[43m)\u001b[49m\n\u001b[0;32m     14\u001b[0m cmpny \u001b[38;5;241m=\u001b[39m driver\u001b[38;5;241m.\u001b[39mfind_element(By\u001b[38;5;241m.\u001b[39mCSS_SELECTOR,\u001b[38;5;124m'\u001b[39m\u001b[38;5;124mbody > div.site-container > div.site-inner > div > div > main > article > div > div.certified-product-top > div.certified-product-info > h1\u001b[39m\u001b[38;5;124m'\u001b[39m)\n\u001b[0;32m     15\u001b[0m cmpny \u001b[38;5;241m=\u001b[39m cmpny\u001b[38;5;241m.\u001b[39mtext\n",
      "\u001b[1;31mKeyboardInterrupt\u001b[0m: "
     ]
    }
   ],
   "source": [
    "for k in range(pages):\n",
    "    cn = driver.find_elements(By.CSS_SELECTOR,'body > div.site-container > div > div.content-sidebar-wrap > main > div.species-archive-list > div.facetwp-template > div.ra_hover_text_image_wrapper.certified-product > a')\n",
    "    pp = len(cn)\n",
    "    for i in range(pp):\n",
    "        lnk = driver.find_elements(By.CSS_SELECTOR,'body > div.site-container > div > div.content-sidebar-wrap > main > div.species-archive-list > div.facetwp-template > div.ra_hover_text_image_wrapper.certified-product > a')\n",
    "        lnk = lnk[i].get_attribute('href')\n",
    "\n",
    "        # Switch to the New window\n",
    "        driver.execute_script(\"window.open('');\")\n",
    "        driver.switch_to.window(driver.window_handles[1])\n",
    "        driver.get(lnk)\n",
    "        time.sleep(6)\n",
    "\n",
    "        cmpny = driver.find_element(By.CSS_SELECTOR,'body > div.site-container > div.site-inner > div > div > main > article > div > div.certified-product-top > div.certified-product-info > h1')\n",
    "        cmpny = cmpny.text\n",
    "        print(cmpny)\n",
    "        \n",
    "        web = driver.find_element(By.CSS_SELECTOR,'body > div.site-container > div.site-inner > div > div > main > article > div > div.certified-product-top > div.certified-product-info > p > span.company-url > a') \n",
    "        web = web.get_attribute('href')\n",
    "        print(web)\n",
    "        \n",
    "        products = driver.find_element(By.CSS_SELECTOR, 'body > div.site-container > div.site-inner > div > div > main > article > div > div.certified-product-bottom > div.certified-product-col-left > div:nth-child(1) > p.products')\n",
    "        products = products.text\n",
    "        print(products)\n",
    "        \n",
    "        ingi = driver.find_element(By.CSS_SELECTOR,'body > div.site-container > div.site-inner > div > div > main > article > div > div.certified-product-bottom > div.certified-product-col-left > div:nth-child(1) > p.ingredients')\n",
    "        ingi = ingi.text\n",
    "        print(ingi)\n",
    "        try:\n",
    "            avail = driver.find_element(By.CSS_SELECTOR, 'body > div.site-container > div.site-inner > div > div > main > article > div > div.certified-product-bottom > div.certified-product-col-left > div:nth-child(2) > p')\n",
    "            avail = avail.text\n",
    "            print(avail)\n",
    "        except:\n",
    "            avail = 'None'\n",
    "        Dic = {'Company Name': cmpny,\n",
    "               'Company Website': web,\n",
    "                'Product Name': products,\n",
    "                'Certified Ingredients': ingi,\n",
    "                'Available In': avail,\n",
    "        }    \n",
    "        gc = gc.append(Dic, ignore_index=True)\n",
    "        \n",
    "        \n",
    "        # Switch to the Previous window\n",
    "        driver.close()\n",
    "        driver.switch_to.window(driver.window_handles[0])\n",
    "\n",
    "        \n",
    "    # Click to the Next Page\n",
    "    clk = driver.find_element(By.CSS_SELECTOR,'body > div.site-container > div > div.content-sidebar-wrap > main > div.species-archive-list > div.facetwp-pager > div > a.facetwp-page.next')\n",
    "    driver.execute_script(\"arguments[0].click();\", clk)\n",
    "    time.sleep(4)"
   ]
  },
  {
   "cell_type": "code",
   "execution_count": 9,
   "id": "5d6267d7",
   "metadata": {},
   "outputs": [
    {
     "data": {
      "text/html": [
       "<div>\n",
       "<style scoped>\n",
       "    .dataframe tbody tr th:only-of-type {\n",
       "        vertical-align: middle;\n",
       "    }\n",
       "\n",
       "    .dataframe tbody tr th {\n",
       "        vertical-align: top;\n",
       "    }\n",
       "\n",
       "    .dataframe thead th {\n",
       "        text-align: right;\n",
       "    }\n",
       "</style>\n",
       "<table border=\"1\" class=\"dataframe\">\n",
       "  <thead>\n",
       "    <tr style=\"text-align: right;\">\n",
       "      <th></th>\n",
       "      <th>Company Name</th>\n",
       "      <th>Company Website</th>\n",
       "      <th>Product Name</th>\n",
       "      <th>Certified Ingredients</th>\n",
       "      <th>Available In</th>\n",
       "    </tr>\n",
       "  </thead>\n",
       "  <tbody>\n",
       "    <tr>\n",
       "      <th>0</th>\n",
       "      <td>NaN</td>\n",
       "      <td>NaN</td>\n",
       "      <td>NaN</td>\n",
       "      <td>NaN</td>\n",
       "      <td>NaN</td>\n",
       "    </tr>\n",
       "    <tr>\n",
       "      <th>1</th>\n",
       "      <td>Biovegan</td>\n",
       "      <td>https://www.biovegan.de/</td>\n",
       "      <td>Vanilla, Chocolate</td>\n",
       "      <td>Cocoa</td>\n",
       "      <td>Switzerland, Spain, Slovenia, Romania, Poland,...</td>\n",
       "    </tr>\n",
       "    <tr>\n",
       "      <th>2</th>\n",
       "      <td>Bristot</td>\n",
       "      <td>http://www.caffebristot.com/</td>\n",
       "      <td>Coffee</td>\n",
       "      <td>Coffee</td>\n",
       "      <td>Austria, France, Germany, Israel, Italy, Russi...</td>\n",
       "    </tr>\n",
       "    <tr>\n",
       "      <th>3</th>\n",
       "      <td>Hershey’s</td>\n",
       "      <td>https://www.thehersheycompany.com/en_us/home.html</td>\n",
       "      <td>Chocolate</td>\n",
       "      <td>Cocoa</td>\n",
       "      <td>Peru, Mexico, Chile, Canada, Argentina, United...</td>\n",
       "    </tr>\n",
       "    <tr>\n",
       "      <th>4</th>\n",
       "      <td>Catamona</td>\n",
       "      <td>http://www.catamona.com/</td>\n",
       "      <td>Coffee</td>\n",
       "      <td>Coffee</td>\n",
       "      <td>Taiwan</td>\n",
       "    </tr>\n",
       "    <tr>\n",
       "      <th>5</th>\n",
       "      <td>Paulig</td>\n",
       "      <td>http://www.paulig.com/</td>\n",
       "      <td>Coffee, Chocolate</td>\n",
       "      <td>Cocoa, Coffee</td>\n",
       "      <td>Lithuania, Latvia, Finland, Estonia, Russia</td>\n",
       "    </tr>\n",
       "    <tr>\n",
       "      <th>6</th>\n",
       "      <td>Community Coffee</td>\n",
       "      <td>http://www.communitycoffee.com/</td>\n",
       "      <td>Coffee</td>\n",
       "      <td>Coffee</td>\n",
       "      <td>United States</td>\n",
       "    </tr>\n",
       "    <tr>\n",
       "      <th>7</th>\n",
       "      <td>Don Café</td>\n",
       "      <td>https://www.gruposolpanamby.com.br/negocios/va...</td>\n",
       "      <td>Coffee</td>\n",
       "      <td>Coffee</td>\n",
       "      <td>Brazil</td>\n",
       "    </tr>\n",
       "    <tr>\n",
       "      <th>8</th>\n",
       "      <td>Melão Mossoró</td>\n",
       "      <td>https://matafresca.com.br/</td>\n",
       "      <td>Melon</td>\n",
       "      <td></td>\n",
       "      <td>Austria, Belarus, Belgium, Brazil, Czech Repub...</td>\n",
       "    </tr>\n",
       "    <tr>\n",
       "      <th>9</th>\n",
       "      <td>Emmi</td>\n",
       "      <td>http://ch.emmi.com/de/</td>\n",
       "      <td>Coffee</td>\n",
       "      <td>Coffee</td>\n",
       "      <td>Afghanistan, Albania, Algeria, Argentina, Aust...</td>\n",
       "    </tr>\n",
       "    <tr>\n",
       "      <th>10</th>\n",
       "      <td>One</td>\n",
       "      <td>https://www.onebananas.com/</td>\n",
       "      <td>Bananas</td>\n",
       "      <td>Bananas</td>\n",
       "      <td>Afghanistan, Albania, Algeria, Argentina, Aust...</td>\n",
       "    </tr>\n",
       "    <tr>\n",
       "      <th>11</th>\n",
       "      <td>Japan Airlines</td>\n",
       "      <td>https://www.jal.co.jp/</td>\n",
       "      <td>Coffee</td>\n",
       "      <td>Coffee</td>\n",
       "      <td>Afghanistan, Albania, Algeria, Argentina, Aust...</td>\n",
       "    </tr>\n",
       "    <tr>\n",
       "      <th>12</th>\n",
       "      <td>The Republic of Tea</td>\n",
       "      <td>https://www.republicoftea.com/</td>\n",
       "      <td>Tea</td>\n",
       "      <td>Tea</td>\n",
       "      <td>United States</td>\n",
       "    </tr>\n",
       "    <tr>\n",
       "      <th>13</th>\n",
       "      <td>Café da Origem</td>\n",
       "      <td>https://www.cafedaorigem.com.br/</td>\n",
       "      <td>Coffee</td>\n",
       "      <td>Coffee</td>\n",
       "      <td>Brazil</td>\n",
       "    </tr>\n",
       "    <tr>\n",
       "      <th>14</th>\n",
       "      <td>MITO Cafés Especiais</td>\n",
       "      <td>https://mitocafesespeciais.com.br/qualidade</td>\n",
       "      <td>Coffee</td>\n",
       "      <td>Coffee</td>\n",
       "      <td>Brazil</td>\n",
       "    </tr>\n",
       "    <tr>\n",
       "      <th>15</th>\n",
       "      <td>Vitale</td>\n",
       "      <td>https://www.vitalecafe.com.br/</td>\n",
       "      <td>Coffee</td>\n",
       "      <td>Coffee</td>\n",
       "      <td>Brazil</td>\n",
       "    </tr>\n",
       "    <tr>\n",
       "      <th>16</th>\n",
       "      <td>Alpro</td>\n",
       "      <td>https://www.alpro.com/uk</td>\n",
       "      <td>Coffee</td>\n",
       "      <td>Coffee</td>\n",
       "      <td>Ireland, United Kingdom</td>\n",
       "    </tr>\n",
       "    <tr>\n",
       "      <th>17</th>\n",
       "      <td>Altitude Coffee Roastery</td>\n",
       "      <td>https://www.altitudecoffeeroastery.com.au/</td>\n",
       "      <td>Coffee</td>\n",
       "      <td>Coffee</td>\n",
       "      <td>Australia</td>\n",
       "    </tr>\n",
       "    <tr>\n",
       "      <th>18</th>\n",
       "      <td>American Airlines</td>\n",
       "      <td>https://www.aa.com/</td>\n",
       "      <td>Coffee</td>\n",
       "      <td>Coffee</td>\n",
       "      <td>Global</td>\n",
       "    </tr>\n",
       "    <tr>\n",
       "      <th>19</th>\n",
       "      <td>Amrita Certified Pure Coffee</td>\n",
       "      <td>https://amritacoffee.com/</td>\n",
       "      <td>Coffee</td>\n",
       "      <td>Coffee</td>\n",
       "      <td>United States</td>\n",
       "    </tr>\n",
       "    <tr>\n",
       "      <th>20</th>\n",
       "      <td>Ancora Coffee Roasters</td>\n",
       "      <td>https://www.ancoracoffee.com/</td>\n",
       "      <td>Coffee</td>\n",
       "      <td>Coffee</td>\n",
       "      <td>United States, Wisconsin</td>\n",
       "    </tr>\n",
       "    <tr>\n",
       "      <th>21</th>\n",
       "      <td>Anthuriums.Co.Uk</td>\n",
       "      <td>https://anthuriums.co.uk/</td>\n",
       "      <td>Flowers &amp; Plants, Chocolate</td>\n",
       "      <td>Cocoa, Flowers</td>\n",
       "      <td>United Kingdom</td>\n",
       "    </tr>\n",
       "    <tr>\n",
       "      <th>22</th>\n",
       "      <td>Antwerp Zoo</td>\n",
       "      <td>https://www.zooantwerpen.be/</td>\n",
       "      <td>Coffee</td>\n",
       "      <td>Coffee</td>\n",
       "      <td>Belgium</td>\n",
       "    </tr>\n",
       "    <tr>\n",
       "      <th>23</th>\n",
       "      <td>APEX</td>\n",
       "      <td>https://www.apex-co.co.jp/</td>\n",
       "      <td>Coffee</td>\n",
       "      <td>Coffee</td>\n",
       "      <td>Japan</td>\n",
       "    </tr>\n",
       "    <tr>\n",
       "      <th>24</th>\n",
       "      <td>ARCO Coffee Co.</td>\n",
       "      <td>https://www.arcocoffee.com/</td>\n",
       "      <td>Coffee</td>\n",
       "      <td>Coffee</td>\n",
       "      <td>United States</td>\n",
       "    </tr>\n",
       "    <tr>\n",
       "      <th>25</th>\n",
       "      <td>Arminda</td>\n",
       "      <td>https://www.armindacafe.com/</td>\n",
       "      <td>Coffee</td>\n",
       "      <td>Coffee</td>\n",
       "      <td>Brazil</td>\n",
       "    </tr>\n",
       "  </tbody>\n",
       "</table>\n",
       "</div>"
      ],
      "text/plain": [
       "                    Company Name  \\\n",
       "0                            NaN   \n",
       "1                       Biovegan   \n",
       "2                        Bristot   \n",
       "3                      Hershey’s   \n",
       "4                       Catamona   \n",
       "5                         Paulig   \n",
       "6               Community Coffee   \n",
       "7                       Don Café   \n",
       "8                  Melão Mossoró   \n",
       "9                           Emmi   \n",
       "10                           One   \n",
       "11                Japan Airlines   \n",
       "12           The Republic of Tea   \n",
       "13                Café da Origem   \n",
       "14          MITO Cafés Especiais   \n",
       "15                        Vitale   \n",
       "16                         Alpro   \n",
       "17      Altitude Coffee Roastery   \n",
       "18             American Airlines   \n",
       "19  Amrita Certified Pure Coffee   \n",
       "20        Ancora Coffee Roasters   \n",
       "21              Anthuriums.Co.Uk   \n",
       "22                   Antwerp Zoo   \n",
       "23                          APEX   \n",
       "24               ARCO Coffee Co.   \n",
       "25                       Arminda   \n",
       "\n",
       "                                      Company Website  \\\n",
       "0                                                 NaN   \n",
       "1                            https://www.biovegan.de/   \n",
       "2                        http://www.caffebristot.com/   \n",
       "3   https://www.thehersheycompany.com/en_us/home.html   \n",
       "4                            http://www.catamona.com/   \n",
       "5                              http://www.paulig.com/   \n",
       "6                     http://www.communitycoffee.com/   \n",
       "7   https://www.gruposolpanamby.com.br/negocios/va...   \n",
       "8                          https://matafresca.com.br/   \n",
       "9                              http://ch.emmi.com/de/   \n",
       "10                        https://www.onebananas.com/   \n",
       "11                             https://www.jal.co.jp/   \n",
       "12                     https://www.republicoftea.com/   \n",
       "13                   https://www.cafedaorigem.com.br/   \n",
       "14        https://mitocafesespeciais.com.br/qualidade   \n",
       "15                     https://www.vitalecafe.com.br/   \n",
       "16                           https://www.alpro.com/uk   \n",
       "17         https://www.altitudecoffeeroastery.com.au/   \n",
       "18                                https://www.aa.com/   \n",
       "19                          https://amritacoffee.com/   \n",
       "20                      https://www.ancoracoffee.com/   \n",
       "21                          https://anthuriums.co.uk/   \n",
       "22                       https://www.zooantwerpen.be/   \n",
       "23                         https://www.apex-co.co.jp/   \n",
       "24                        https://www.arcocoffee.com/   \n",
       "25                       https://www.armindacafe.com/   \n",
       "\n",
       "                   Product Name Certified Ingredients  \\\n",
       "0                           NaN                   NaN   \n",
       "1            Vanilla, Chocolate                 Cocoa   \n",
       "2                        Coffee                Coffee   \n",
       "3                     Chocolate                 Cocoa   \n",
       "4                        Coffee                Coffee   \n",
       "5             Coffee, Chocolate         Cocoa, Coffee   \n",
       "6                        Coffee                Coffee   \n",
       "7                        Coffee                Coffee   \n",
       "8                         Melon                         \n",
       "9                        Coffee                Coffee   \n",
       "10                      Bananas               Bananas   \n",
       "11                       Coffee                Coffee   \n",
       "12                          Tea                   Tea   \n",
       "13                       Coffee                Coffee   \n",
       "14                       Coffee                Coffee   \n",
       "15                       Coffee                Coffee   \n",
       "16                       Coffee                Coffee   \n",
       "17                       Coffee                Coffee   \n",
       "18                       Coffee                Coffee   \n",
       "19                       Coffee                Coffee   \n",
       "20                       Coffee                Coffee   \n",
       "21  Flowers & Plants, Chocolate        Cocoa, Flowers   \n",
       "22                       Coffee                Coffee   \n",
       "23                       Coffee                Coffee   \n",
       "24                       Coffee                Coffee   \n",
       "25                       Coffee                Coffee   \n",
       "\n",
       "                                         Available In  \n",
       "0                                                 NaN  \n",
       "1   Switzerland, Spain, Slovenia, Romania, Poland,...  \n",
       "2   Austria, France, Germany, Israel, Italy, Russi...  \n",
       "3   Peru, Mexico, Chile, Canada, Argentina, United...  \n",
       "4                                              Taiwan  \n",
       "5         Lithuania, Latvia, Finland, Estonia, Russia  \n",
       "6                                       United States  \n",
       "7                                              Brazil  \n",
       "8   Austria, Belarus, Belgium, Brazil, Czech Repub...  \n",
       "9   Afghanistan, Albania, Algeria, Argentina, Aust...  \n",
       "10  Afghanistan, Albania, Algeria, Argentina, Aust...  \n",
       "11  Afghanistan, Albania, Algeria, Argentina, Aust...  \n",
       "12                                      United States  \n",
       "13                                             Brazil  \n",
       "14                                             Brazil  \n",
       "15                                             Brazil  \n",
       "16                            Ireland, United Kingdom  \n",
       "17                                          Australia  \n",
       "18                                             Global  \n",
       "19                                      United States  \n",
       "20                           United States, Wisconsin  \n",
       "21                                     United Kingdom  \n",
       "22                                            Belgium  \n",
       "23                                              Japan  \n",
       "24                                      United States  \n",
       "25                                             Brazil  "
      ]
     },
     "execution_count": 9,
     "metadata": {},
     "output_type": "execute_result"
    }
   ],
   "source": [
    "gc"
   ]
  },
  {
   "cell_type": "code",
   "execution_count": 10,
   "id": "3bcb1a6f",
   "metadata": {},
   "outputs": [],
   "source": [
    "gc.to_excel('text2.xlsx')"
   ]
  },
  {
   "cell_type": "code",
   "execution_count": null,
   "id": "53c94f93",
   "metadata": {},
   "outputs": [],
   "source": []
  },
  {
   "cell_type": "code",
   "execution_count": null,
   "id": "6eb56d50",
   "metadata": {},
   "outputs": [],
   "source": []
  },
  {
   "cell_type": "code",
   "execution_count": null,
   "id": "9bcdcfea",
   "metadata": {},
   "outputs": [],
   "source": []
  }
 ],
 "metadata": {
  "kernelspec": {
   "display_name": "Python 3 (ipykernel)",
   "language": "python",
   "name": "python3"
  },
  "language_info": {
   "codemirror_mode": {
    "name": "ipython",
    "version": 3
   },
   "file_extension": ".py",
   "mimetype": "text/x-python",
   "name": "python",
   "nbconvert_exporter": "python",
   "pygments_lexer": "ipython3",
   "version": "3.9.12"
  }
 },
 "nbformat": 4,
 "nbformat_minor": 5
}
