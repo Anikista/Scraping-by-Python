{
 "cells": [
  {
   "cell_type": "code",
   "execution_count": 1,
   "id": "b2334f0d",
   "metadata": {},
   "outputs": [
    {
     "name": "stdout",
     "output_type": "stream",
     "text": [
      "\n"
     ]
    },
    {
     "name": "stderr",
     "output_type": "stream",
     "text": [
      "[WDM] - ====== WebDriver manager ======\n",
      "[WDM] - Current google-chrome version is 103.0.5060\n",
      "[WDM] - Get LATEST chromedriver version for 103.0.5060 google-chrome\n",
      "[WDM] - Driver [C:\\Users\\USER\\.wdm\\drivers\\chromedriver\\win32\\103.0.5060.134\\chromedriver.exe] found in cache\n",
      "C:\\Users\\USER\\AppData\\Local\\Temp\\ipykernel_35348\\1322646517.py:20: DeprecationWarning: executable_path has been deprecated, please pass in a Service object\n",
      "  driver = webdriver.Chrome(ChromeDriverManager().install())\n"
     ]
    }
   ],
   "source": [
    "import selenium                                                \n",
    "import pandas as pd \n",
    "import re\n",
    "from selenium import webdriver\n",
    "from selenium.common.exceptions import NoSuchElementException\n",
    "from selenium.common.exceptions import TimeoutException\n",
    "from selenium.webdriver.support import expected_conditions as EC\n",
    "from selenium.webdriver.support.ui import WebDriverWait\n",
    "from selenium.webdriver.common.by import By\n",
    "from selenium.webdriver.support import expected_conditions as EC\n",
    "from selenium.webdriver.chrome.options import Options\n",
    "from selenium.webdriver.support.select import Select \n",
    "import time\n",
    "from selenium.webdriver.common.action_chains import ActionChains\n",
    "import string\n",
    "import os, platform\n",
    "import requests\n",
    "from bs4 import BeautifulSoup\n",
    "from webdriver_manager.chrome import ChromeDriverManager      \n",
    "driver = webdriver.Chrome(ChromeDriverManager().install())\n",
    "#driver = webdriver.Chrome(executable_path='/Users/User/Upwork Project/PlanetX/chromedriver')\n",
    "driver.maximize_window()"
   ]
  },
  {
   "cell_type": "code",
   "execution_count": 2,
   "id": "c2c63b47",
   "metadata": {},
   "outputs": [
    {
     "data": {
      "text/html": [
       "<div>\n",
       "<style scoped>\n",
       "    .dataframe tbody tr th:only-of-type {\n",
       "        vertical-align: middle;\n",
       "    }\n",
       "\n",
       "    .dataframe tbody tr th {\n",
       "        vertical-align: top;\n",
       "    }\n",
       "\n",
       "    .dataframe thead th {\n",
       "        text-align: right;\n",
       "    }\n",
       "</style>\n",
       "<table border=\"1\" class=\"dataframe\">\n",
       "  <thead>\n",
       "    <tr style=\"text-align: right;\">\n",
       "      <th></th>\n",
       "      <th>Manufacturer</th>\n",
       "      <th>Product Group</th>\n",
       "      <th>Product Type</th>\n",
       "      <th>Single Products</th>\n",
       "      <th>Latest Certificate</th>\n",
       "      <th>Manufacturer Homepage</th>\n",
       "    </tr>\n",
       "  </thead>\n",
       "  <tbody>\n",
       "    <tr>\n",
       "      <th>0</th>\n",
       "      <td>NaN</td>\n",
       "      <td>NaN</td>\n",
       "      <td>NaN</td>\n",
       "      <td>NaN</td>\n",
       "      <td>NaN</td>\n",
       "      <td>NaN</td>\n",
       "    </tr>\n",
       "  </tbody>\n",
       "</table>\n",
       "</div>"
      ],
      "text/plain": [
       "  Manufacturer Product Group Product Type Single Products Latest Certificate  \\\n",
       "0          NaN           NaN          NaN             NaN                NaN   \n",
       "\n",
       "  Manufacturer Homepage  \n",
       "0                   NaN  "
      ]
     },
     "execution_count": 2,
     "metadata": {},
     "output_type": "execute_result"
    }
   ],
   "source": [
    "Dic = {}\n",
    "gc= pd.DataFrame(data=Dic,index=[0], \n",
    "                columns=['Manufacturer','Product Group','Product Type','Single Products','Latest Certificate',\n",
    "                        'Manufacturer Homepage'])\n",
    "gc"
   ]
  },
  {
   "cell_type": "code",
   "execution_count": 3,
   "id": "e4db4712",
   "metadata": {},
   "outputs": [],
   "source": [
    "url = 'https://www.eurofins.com/consumer-product-testing/industries/construction-building/indoor-air-comfort/list-of-certified-products/'\n",
    "driver.get(url)"
   ]
  },
  {
   "cell_type": "code",
   "execution_count": 4,
   "id": "ebc4e5fc",
   "metadata": {},
   "outputs": [
    {
     "name": "stdout",
     "output_type": "stream",
     "text": [
      "How many pages? 20\n"
     ]
    }
   ],
   "source": [
    "#input 20\n",
    "pages = input('How many pages? ')\n",
    "pages = int(pages)"
   ]
  },
  {
   "cell_type": "code",
   "execution_count": 6,
   "id": "2507bc26",
   "metadata": {
    "scrolled": true
   },
   "outputs": [
    {
     "name": "stdout",
     "output_type": "stream",
     "text": [
      "25\n",
      "Akzo Nobel Paints (Shanghai) Ltd.\n",
      "Dulux Forest Breath Pure Eco-sense Series\n",
      "Wall Paints\n",
      "Dulux Forest Breath (Supreme) Pure Eco-sense Bamboo Charcoal Anti-benzene Anti-formaldehyde All in 1 Emulsion, Dulux Forest Breath Pure Eco-sense Bamboo Charcoal Anti-bacteria Anti-benzene Anti-formaldehyde 5 in 1 Emulsion, Dulux Forest Breath Pure Eco-sense Bamboo Charcoal Anti-bacteria Anti-benzene Anti-formaldehyde All in 1 Emulsion, Dulux Forest Breath Pure Eco-sense Bamboo Charcoal Anti-formaldehyde 5 in 1 Emulsion, Dulux Forest Breath Pure Eco-sense Bamboo Charcoal Asthma and Allergy Friendly Kid's Space All in 1 Emulsion, Dulux Forest Breath Pure Eco-sense Bamboo Charcoal Asthma and Allergy Friendly Kid's Space All in 1 Emulsion R, Dulux Forest Breath Pure Eco-sense Bamboo Charcoal Biocare Asthma and Allergy Friendly Kid's Space All in 1 Emulsion, Dulux Forest Breath Pure Eco-sense Bamboo Charcoal Biocare Asthma and Allergy Friendly Kid's Space All in 1 Emulsion R, Dulux Forest Breath Pure Eco-sense Bamboo Charcoal Biocare Kid's Space All in 1 Emulsion, Dulux Forest Breath Pure Eco-sense Bamboo Charcoal Biocare Kid's Space All in 1 Emulsion R, Dulux Forest Breath Pure Eco-sense Bamboo Charcoal Kid's Space All in 1 Emulsion, Dulux Forest Breath Pure Eco-sense Bamboo Charcoal Kid's Space All in 1 Emulsion R, Dulux Forest Breath Pure Eco-sense BioCare All in 1 Emulsion, Dulux Forest Breath Pure Eco-sense BioCare All in 1 Emulsion R, Dulux Forest Breath Pure Eco-sense BioCare All in 1 Primer, Dulux Forest Breath Pure Eco-sense Diatom Anti-formaldehyde 5 in 1 Emulsion, Dulux Forest Breath Pure Eco-sense Diatom Anti-formaldehyde 5 in 1 Emulsion, Dulux Forest Breath Pure Eco-sense Diatom Anti-formaldehyde 5 in 1 Emulsion R, Dulux Forest Breath Pure Eco-sense Diatom Anti-formaldehyde All in 1 Emulsion, Dulux Forest Breath Pure Eco-sense Diatom Anti-formaldehyde All in 1 Emulsion, Dulux Forest Breath Pure Eco-sense Primer.\n",
      "IACG-371-01-01-2021B\n",
      "https://www.dulux.com.hk/\n"
     ]
    },
    {
     "name": "stderr",
     "output_type": "stream",
     "text": [
      "C:\\Users\\USER\\AppData\\Local\\Temp\\ipykernel_35348\\2064196938.py:79: FutureWarning: The frame.append method is deprecated and will be removed from pandas in a future version. Use pandas.concat instead.\n",
      "  gc = gc.append(Dic, ignore_index=True)\n"
     ]
    },
    {
     "name": "stdout",
     "output_type": "stream",
     "text": [
      "Altro\n",
      "KOMPAKT\n",
      "Resilient Flooring\n",
      "Altro Operetta™ , Altro Transflor Wood™, Altro Transflor Artis™, Altro Wood™, Altro Zodiac™\n",
      "IACG-24-22-01-2021\n",
      "http://www.altrodebolon.de/\n"
     ]
    },
    {
     "name": "stderr",
     "output_type": "stream",
     "text": [
      "C:\\Users\\USER\\AppData\\Local\\Temp\\ipykernel_35348\\2064196938.py:79: FutureWarning: The frame.append method is deprecated and will be removed from pandas in a future version. Use pandas.concat instead.\n",
      "  gc = gc.append(Dic, ignore_index=True)\n"
     ]
    },
    {
     "name": "stdout",
     "output_type": "stream",
     "text": [
      "Altro\n",
      "AKUSTIK\n",
      "Resilient Flooring\n",
      "Altro Cantata™ adhesive-free, Altro Ensemble™, Altro Ensemble™ / M 500, Altro Orchestra™ , Altro Orchestra™ Custom, Altro Piccolo™, Altro Serenade™, Altro Transflor™ Metris Custom, Altro Wood™ Acoustic, Altro Wood™ adhesive-free, Altro Wood™ Comfort, H 500\n",
      "IACG-24-23-01-2021\n",
      "http://www.altrodebolon.de/\n"
     ]
    },
    {
     "name": "stderr",
     "output_type": "stream",
     "text": [
      "C:\\Users\\USER\\AppData\\Local\\Temp\\ipykernel_35348\\2064196938.py:79: FutureWarning: The frame.append method is deprecated and will be removed from pandas in a future version. Use pandas.concat instead.\n",
      "  gc = gc.append(Dic, ignore_index=True)\n"
     ]
    },
    {
     "name": "stdout",
     "output_type": "stream",
     "text": [
      "Amtico International\n",
      "Amtico Spacia, Amtico Form, Amtico Signature\n",
      "Resilient Flooring\n",
      "Amtico Spacia, Amtico Form, Amtico Signature\n",
      "IACG-352-01-01-2020\n",
      "https://www.amtico.com/\n"
     ]
    },
    {
     "name": "stderr",
     "output_type": "stream",
     "text": [
      "C:\\Users\\USER\\AppData\\Local\\Temp\\ipykernel_35348\\2064196938.py:79: FutureWarning: The frame.append method is deprecated and will be removed from pandas in a future version. Use pandas.concat instead.\n",
      "  gc = gc.append(Dic, ignore_index=True)\n"
     ]
    },
    {
     "name": "stdout",
     "output_type": "stream",
     "text": [
      "Amtico International\n",
      "Amtico Enhanced Slip Flooring\n",
      "Resilient Flooring\n",
      "Amtico Spacia 36+, Amtico Spacia 36+ Acoustic, Amtico Signature 36+, Amtico Signature 36+ Acoustic\n",
      "IACG-352-01-02-2020\n",
      "https://www.amtico.com/\n"
     ]
    },
    {
     "name": "stderr",
     "output_type": "stream",
     "text": [
      "C:\\Users\\USER\\AppData\\Local\\Temp\\ipykernel_35348\\2064196938.py:79: FutureWarning: The frame.append method is deprecated and will be removed from pandas in a future version. Use pandas.concat instead.\n",
      "  gc = gc.append(Dic, ignore_index=True)\n"
     ]
    },
    {
     "name": "stdout",
     "output_type": "stream",
     "text": [
      "Amtico International\n",
      "Amtico Cirro\n",
      "Resilient Flooring\n",
      "Amtico Cirro\n",
      "IACG-352-01-03-2020\n",
      "https://www.amtico.com/\n"
     ]
    },
    {
     "name": "stderr",
     "output_type": "stream",
     "text": [
      "C:\\Users\\USER\\AppData\\Local\\Temp\\ipykernel_35348\\2064196938.py:79: FutureWarning: The frame.append method is deprecated and will be removed from pandas in a future version. Use pandas.concat instead.\n",
      "  gc = gc.append(Dic, ignore_index=True)\n"
     ]
    },
    {
     "name": "stdout",
     "output_type": "stream",
     "text": [
      "Amtico International\n",
      "Amtico Signature Acoustic, Amtico Spacia Acoustic\n",
      "Resilient Flooring\n",
      "Amtico Signature Acoustic, Amtico Spacia Acoustic\n",
      "IACG-352-01-04-2019\n",
      "https://www.amtico.com/\n"
     ]
    },
    {
     "name": "stderr",
     "output_type": "stream",
     "text": [
      "C:\\Users\\USER\\AppData\\Local\\Temp\\ipykernel_35348\\2064196938.py:79: FutureWarning: The frame.append method is deprecated and will be removed from pandas in a future version. Use pandas.concat instead.\n",
      "  gc = gc.append(Dic, ignore_index=True)\n"
     ]
    },
    {
     "name": "stdout",
     "output_type": "stream",
     "text": [
      "Amtico International\n",
      "Amtico Marine\n",
      "Resilient Flooring\n",
      "Amtico Marine\n",
      "IACG-352-01-10-2020\n",
      "https://www.amtico.com/\n"
     ]
    },
    {
     "name": "stderr",
     "output_type": "stream",
     "text": [
      "C:\\Users\\USER\\AppData\\Local\\Temp\\ipykernel_35348\\2064196938.py:79: FutureWarning: The frame.append method is deprecated and will be removed from pandas in a future version. Use pandas.concat instead.\n",
      "  gc = gc.append(Dic, ignore_index=True)\n"
     ]
    },
    {
     "name": "stdout",
     "output_type": "stream",
     "text": [
      "Amtico International\n",
      "Amtico LVT & Acoustic LVT\n",
      "Resilient Flooring\n",
      "Amtico Spacia Amtico Spacia Acoustic Amtico Signature Amtico Signature Acoustic Amtico Form Amtico Form Acoustic Amtico Spacia (IRE)\n",
      "IACG-352-01-12-2021\n",
      "https://www.amtico.com/\n"
     ]
    },
    {
     "name": "stderr",
     "output_type": "stream",
     "text": [
      "C:\\Users\\USER\\AppData\\Local\\Temp\\ipykernel_35348\\2064196938.py:79: FutureWarning: The frame.append method is deprecated and will be removed from pandas in a future version. Use pandas.concat instead.\n",
      "  gc = gc.append(Dic, ignore_index=True)\n"
     ]
    },
    {
     "name": "stdout",
     "output_type": "stream",
     "text": [
      "Amtico International\n",
      "Spacia, Spacia First, Spacia First Acoustic\n",
      "Resilient Flooring\n",
      "Spacia, Spacia First, Spacia First Acoustic\n",
      "IACG-352-02-05-2022\n",
      "https://www.amtico.com/\n"
     ]
    },
    {
     "name": "stderr",
     "output_type": "stream",
     "text": [
      "C:\\Users\\USER\\AppData\\Local\\Temp\\ipykernel_35348\\2064196938.py:79: FutureWarning: The frame.append method is deprecated and will be removed from pandas in a future version. Use pandas.concat instead.\n",
      "  gc = gc.append(Dic, ignore_index=True)\n"
     ]
    },
    {
     "name": "stdout",
     "output_type": "stream",
     "text": [
      "Amtico International\n",
      "Amtico Click Smart\n",
      "Resilient Flooring\n",
      "Amtico Click Smart\n",
      "IACG-352-02-06-2018\n",
      "https://www.amtico.com/\n"
     ]
    },
    {
     "name": "stderr",
     "output_type": "stream",
     "text": [
      "C:\\Users\\USER\\AppData\\Local\\Temp\\ipykernel_35348\\2064196938.py:79: FutureWarning: The frame.append method is deprecated and will be removed from pandas in a future version. Use pandas.concat instead.\n",
      "  gc = gc.append(Dic, ignore_index=True)\n"
     ]
    },
    {
     "name": "stdout",
     "output_type": "stream",
     "text": [
      "Amtico International\n",
      "ADRAMAQ - Designer's LVT Click\n",
      "Resilient Flooring\n",
      "Amtico Access and Amtico Click\n",
      "IACG-352-03-07-2018\n",
      "https://www.amtico.com/\n"
     ]
    },
    {
     "name": "stderr",
     "output_type": "stream",
     "text": [
      "C:\\Users\\USER\\AppData\\Local\\Temp\\ipykernel_35348\\2064196938.py:79: FutureWarning: The frame.append method is deprecated and will be removed from pandas in a future version. Use pandas.concat instead.\n",
      "  gc = gc.append(Dic, ignore_index=True)\n"
     ]
    },
    {
     "name": "stdout",
     "output_type": "stream",
     "text": [
      "Amtico International\n",
      "Entryway\n",
      "Textile Flooring\n",
      "Frixtion Charge, Frixtion Force, Frixtion Inertia, Ruffian, Recourse\n",
      "IACG-352-04-08-2021\n",
      "https://www.amtico.com/\n"
     ]
    },
    {
     "name": "stderr",
     "output_type": "stream",
     "text": [
      "C:\\Users\\USER\\AppData\\Local\\Temp\\ipykernel_35348\\2064196938.py:79: FutureWarning: The frame.append method is deprecated and will be removed from pandas in a future version. Use pandas.concat instead.\n",
      "  gc = gc.append(Dic, ignore_index=True)\n"
     ]
    },
    {
     "name": "stdout",
     "output_type": "stream",
     "text": [
      "Amtico International\n",
      "Amtico Carpet Tiles\n",
      "Textile Flooring\n",
      "Altitude, Design Local\n",
      "IACG-352-04-09-2021\n",
      "https://www.amtico.com/\n"
     ]
    },
    {
     "name": "stderr",
     "output_type": "stream",
     "text": [
      "C:\\Users\\USER\\AppData\\Local\\Temp\\ipykernel_35348\\2064196938.py:79: FutureWarning: The frame.append method is deprecated and will be removed from pandas in a future version. Use pandas.concat instead.\n",
      "  gc = gc.append(Dic, ignore_index=True)\n"
     ]
    },
    {
     "name": "stdout",
     "output_type": "stream",
     "text": [
      "Amtico International\n",
      "Amtico Dovetile\n",
      "Resilient Flooring\n",
      "Amtico Dovetile\n",
      "IACG-352-07-11-2020\n",
      "https://www.amtico.com/\n"
     ]
    },
    {
     "name": "stderr",
     "output_type": "stream",
     "text": [
      "C:\\Users\\USER\\AppData\\Local\\Temp\\ipykernel_35348\\2064196938.py:79: FutureWarning: The frame.append method is deprecated and will be removed from pandas in a future version. Use pandas.concat instead.\n",
      "  gc = gc.append(Dic, ignore_index=True)\n"
     ]
    },
    {
     "name": "stdout",
     "output_type": "stream",
     "text": [
      "Amtico International\n",
      "Amtico Carpet Tiles EU\n",
      "Textile Flooring\n",
      "Foundry, Foundry - Acoustic backed, Drift, Drift - Acoustic backed, Realm, Realm - Acoustic backed, Bridge, Bridge - Acoustic backed\n",
      "IACG-352-08-12-2021\n",
      "https://www.amtico.com/\n"
     ]
    },
    {
     "name": "stderr",
     "output_type": "stream",
     "text": [
      "C:\\Users\\USER\\AppData\\Local\\Temp\\ipykernel_35348\\2064196938.py:79: FutureWarning: The frame.append method is deprecated and will be removed from pandas in a future version. Use pandas.concat instead.\n",
      "  gc = gc.append(Dic, ignore_index=True)\n"
     ]
    },
    {
     "name": "stdout",
     "output_type": "stream",
     "text": [
      "Armstrong Ceiling Solutions\n",
      "Mineral Fibre Ceiling Tiles\n",
      "Acoustic Ceilings\n",
      "Bioguard Acoustic Bioguard Acoustic OP RH100 Fine Fissured High NRC Fine Fissured High NRC/ CAC Ultima Ultima OP Ultima OP dB Ultima dB\n",
      "IACG-434-01-01-2021\n",
      "https://www.armstrongceilings.com.au/\n"
     ]
    },
    {
     "name": "stderr",
     "output_type": "stream",
     "text": [
      "C:\\Users\\USER\\AppData\\Local\\Temp\\ipykernel_35348\\2064196938.py:79: FutureWarning: The frame.append method is deprecated and will be removed from pandas in a future version. Use pandas.concat instead.\n",
      "  gc = gc.append(Dic, ignore_index=True)\n"
     ]
    },
    {
     "name": "stdout",
     "output_type": "stream",
     "text": [
      "Artigo S.p.A.\n",
      "Artigo rubber flooring - Group I\n",
      "Resilient Flooring\n",
      "BS Classic, BS Strong, Saarfloor Noppe\n",
      "IACG-392-01-01-2022\n",
      "https://www.artigo.com/en/\n"
     ]
    },
    {
     "name": "stderr",
     "output_type": "stream",
     "text": [
      "C:\\Users\\USER\\AppData\\Local\\Temp\\ipykernel_35348\\2064196938.py:79: FutureWarning: The frame.append method is deprecated and will be removed from pandas in a future version. Use pandas.concat instead.\n",
      "  gc = gc.append(Dic, ignore_index=True)\n"
     ]
    },
    {
     "name": "stdout",
     "output_type": "stream",
     "text": [
      "Artigo S.p.A.\n",
      "Artigo rubber flooring - Group II\n",
      "Resilient Flooring\n",
      "Dharma ANT 48 , Grain ANT 48, Granito ANT 48, Lava ANT 48, ND UNI ANT 48, Zeus ANT 48\n",
      "IACG-392-01-02-2022\n",
      "https://www.artigo.com/en/\n"
     ]
    },
    {
     "name": "stderr",
     "output_type": "stream",
     "text": [
      "C:\\Users\\USER\\AppData\\Local\\Temp\\ipykernel_35348\\2064196938.py:79: FutureWarning: The frame.append method is deprecated and will be removed from pandas in a future version. Use pandas.concat instead.\n",
      "  gc = gc.append(Dic, ignore_index=True)\n"
     ]
    },
    {
     "name": "stdout",
     "output_type": "stream",
     "text": [
      "Artigo S.p.A.\n",
      "Artigo rubber flooring - Group III\n",
      "Resilient Flooring\n",
      "Dharma, Grain, Granito, Kayar, Lava, Natura, SaarFloor Bernstein, SaarFloor Diamant, Screed, Zeus\n",
      "IACG-392-01-03-2022\n",
      "https://www.artigo.com/en/\n"
     ]
    },
    {
     "name": "stderr",
     "output_type": "stream",
     "text": [
      "C:\\Users\\USER\\AppData\\Local\\Temp\\ipykernel_35348\\2064196938.py:79: FutureWarning: The frame.append method is deprecated and will be removed from pandas in a future version. Use pandas.concat instead.\n",
      "  gc = gc.append(Dic, ignore_index=True)\n"
     ]
    },
    {
     "name": "stdout",
     "output_type": "stream",
     "text": [
      "Artigo S.p.A.\n",
      "Artigo rubber flooring - Group IV\n",
      "Resilient Flooring\n",
      "Multiflor ND Uni\n",
      "IACG-392-01-04-2022\n",
      "https://www.artigo.com/en/\n"
     ]
    },
    {
     "name": "stderr",
     "output_type": "stream",
     "text": [
      "C:\\Users\\USER\\AppData\\Local\\Temp\\ipykernel_35348\\2064196938.py:79: FutureWarning: The frame.append method is deprecated and will be removed from pandas in a future version. Use pandas.concat instead.\n",
      "  gc = gc.append(Dic, ignore_index=True)\n"
     ]
    },
    {
     "name": "stdout",
     "output_type": "stream",
     "text": [
      "Aspecta BV\n",
      "XF Aspecta 10\n",
      "Resilient Flooring\n",
      "\n",
      "IACG-346-01-01-2020\n",
      "http://www.aspectaflooring.com/\n"
     ]
    },
    {
     "name": "stderr",
     "output_type": "stream",
     "text": [
      "C:\\Users\\USER\\AppData\\Local\\Temp\\ipykernel_35348\\2064196938.py:79: FutureWarning: The frame.append method is deprecated and will be removed from pandas in a future version. Use pandas.concat instead.\n",
      "  gc = gc.append(Dic, ignore_index=True)\n"
     ]
    },
    {
     "name": "stdout",
     "output_type": "stream",
     "text": [
      "Aspecta BV\n",
      "LY Elemental Isocore\n",
      "Resilient Flooring\n",
      "LY Elemental Isocore\n",
      "IACG-346-01-03-2018\n",
      "http://www.aspectaflooring.com/\n"
     ]
    },
    {
     "name": "stderr",
     "output_type": "stream",
     "text": [
      "C:\\Users\\USER\\AppData\\Local\\Temp\\ipykernel_35348\\2064196938.py:79: FutureWarning: The frame.append method is deprecated and will be removed from pandas in a future version. Use pandas.concat instead.\n",
      "  gc = gc.append(Dic, ignore_index=True)\n"
     ]
    },
    {
     "name": "stdout",
     "output_type": "stream",
     "text": [
      "Aspecta BV\n",
      "XF Aspecta One\n",
      "Resilient Flooring\n",
      "\n",
      "IACG-346-01-06-2020\n",
      "http://www.aspectaflooring.com/\n"
     ]
    },
    {
     "name": "stderr",
     "output_type": "stream",
     "text": [
      "C:\\Users\\USER\\AppData\\Local\\Temp\\ipykernel_35348\\2064196938.py:79: FutureWarning: The frame.append method is deprecated and will be removed from pandas in a future version. Use pandas.concat instead.\n",
      "  gc = gc.append(Dic, ignore_index=True)\n"
     ]
    },
    {
     "name": "stdout",
     "output_type": "stream",
     "text": [
      "Bentzon Carpets ApS\n",
      "Group BC 9\n",
      "Textile Flooring\n",
      "Alfa wt, Alfa CF300, Alfa CF400, Alfa CF800, Beta wt, Beta CF300, Beta CF400, Beta CF800, Beta Design wt, Beta Design CF300, Beta Design CF400, Beta Design CF800, Gamma wt, Gamma CF300, Gamma CF400, Gamma CF800, Golf wt, Golf CF300, Golf CF400, Golf CF800, Randy wt, Randy CF300, Randy CF400, Randy CF800, Sigma wt, Sigma CF300, Sigma CF400, Sigma CF800 Golf Tile, Sigma Tile, Randy Tile, Kappa CF300, Omega CF300\n",
      "IACG-42-02-09-2021\n",
      "http://bentzon.dk/\n"
     ]
    },
    {
     "name": "stderr",
     "output_type": "stream",
     "text": [
      "C:\\Users\\USER\\AppData\\Local\\Temp\\ipykernel_35348\\2064196938.py:79: FutureWarning: The frame.append method is deprecated and will be removed from pandas in a future version. Use pandas.concat instead.\n",
      "  gc = gc.append(Dic, ignore_index=True)\n"
     ]
    },
    {
     "name": "stdout",
     "output_type": "stream",
     "text": [
      "25\n",
      "Bentzon Carpets ApS\n",
      "Group BC 10\n",
      "Textile Flooring\n",
      "India wt/Juliett wt/Ripzon wt India CF300 India CF400 India CF800 Juliett CF300 Juliett CF400 Juliett CF800\n",
      "IACG-42-02-10-2018\n",
      "http://bentzon.dk/\n"
     ]
    },
    {
     "name": "stderr",
     "output_type": "stream",
     "text": [
      "C:\\Users\\USER\\AppData\\Local\\Temp\\ipykernel_35348\\2064196938.py:79: FutureWarning: The frame.append method is deprecated and will be removed from pandas in a future version. Use pandas.concat instead.\n",
      "  gc = gc.append(Dic, ignore_index=True)\n"
     ]
    },
    {
     "name": "stdout",
     "output_type": "stream",
     "text": [
      "Bentzon Carpets ApS\n",
      "Group BC 11\n",
      "Textile Flooring\n",
      "Bizon wt, Vogue wt, Jacquard wt, Portland wt, Portland Duo wt, Savanna wt, Shetland wt, Ox wt, Oxen 5, Oxen 1, Oxhill, Oxford, Herring Line, Herring Weave, Knightsbridge, Brighton, Dover, Crispy Diamond, Crispy Twill, Kingston, Crispy Chevron, Corfu, Paxos, Periloc.\n",
      "IACG-42-02-11-2021\n",
      "http://bentzon.dk/\n"
     ]
    },
    {
     "name": "stderr",
     "output_type": "stream",
     "text": [
      "C:\\Users\\USER\\AppData\\Local\\Temp\\ipykernel_35348\\2064196938.py:79: FutureWarning: The frame.append method is deprecated and will be removed from pandas in a future version. Use pandas.concat instead.\n",
      "  gc = gc.append(Dic, ignore_index=True)\n"
     ]
    },
    {
     "name": "stdout",
     "output_type": "stream",
     "text": [
      "Bentzon Carpets ApS\n",
      "Group BC 12\n",
      "Textile Flooring\n",
      "Aktion, Nevada, Randers\n",
      "IACG-42-02-12-2021\n",
      "http://bentzon.dk/\n"
     ]
    },
    {
     "name": "stderr",
     "output_type": "stream",
     "text": [
      "C:\\Users\\USER\\AppData\\Local\\Temp\\ipykernel_35348\\2064196938.py:79: FutureWarning: The frame.append method is deprecated and will be removed from pandas in a future version. Use pandas.concat instead.\n",
      "  gc = gc.append(Dic, ignore_index=True)\n"
     ]
    },
    {
     "name": "stdout",
     "output_type": "stream",
     "text": [
      "Bentzon Carpets ApS\n",
      "Group BC 14\n",
      "Textile Flooring\n",
      "Alfa wt, Alfa CF300, Alfa CF400, Alfa CF800, Beta wt, Beta CF300, Beta CF400, Beta CF800, Beta Design wt, Beta Design CF300, Beta Design CF400, Beta Design CF800, Gamma wt, Gamma CF300, Gamma CF400, Gamma CF800, Golf wt, Golf CF300, Golf CF400, Golf CF800, Randy wt, Randy CF300, Randy CF400, Randy CF800, Sigma wt, Sigma CF300, Sigma CF400, Sigma CF800, Golf Tile, Sigma Tile, Randy Tile, Kappa CF300, Omega CF300, Kaviar Tile, Kaviar wt, Kaviar CF300, Kaviar CF400, Kaviar CF800, Cable wt, Canvas WT, Herring WT, Rib WT\n",
      "IACG-42-02-14-2021\n",
      "http://bentzon.dk/\n"
     ]
    },
    {
     "name": "stderr",
     "output_type": "stream",
     "text": [
      "C:\\Users\\USER\\AppData\\Local\\Temp\\ipykernel_35348\\2064196938.py:79: FutureWarning: The frame.append method is deprecated and will be removed from pandas in a future version. Use pandas.concat instead.\n",
      "  gc = gc.append(Dic, ignore_index=True)\n"
     ]
    },
    {
     "name": "stdout",
     "output_type": "stream",
     "text": [
      "BERRYALLOC NV\n",
      "STYLE\n",
      "Resilient Flooring\n",
      "Style Elegant, Style Cracked, Style Vivid, Style Rustic\n",
      "IACG-408-01-01-2021\n",
      "https://www.berryalloc.com/global/en\n"
     ]
    },
    {
     "name": "stderr",
     "output_type": "stream",
     "text": [
      "C:\\Users\\USER\\AppData\\Local\\Temp\\ipykernel_35348\\2064196938.py:79: FutureWarning: The frame.append method is deprecated and will be removed from pandas in a future version. Use pandas.concat instead.\n",
      "  gc = gc.append(Dic, ignore_index=True)\n"
     ]
    },
    {
     "name": "stdout",
     "output_type": "stream",
     "text": [
      "BERRYALLOC NV\n",
      "AURA\n",
      "Resilient Flooring\n",
      "AURA CL30 SPRING OAK LIGHT GREY, AURA CL30 SPRING OAK NUDE, AURA CL30 SPRING OAK HONEY, AURA CL30 SPRING OAK BROWN, AURA CL30 AUTUMN OAK NUDE, AURA CL30 AUTUMN OAK HONEY, AURA CL30 WINTER OAK DARK BROWN, AURA CL30 WINTER OAK GREY, AURA GD30 SPRING OAK LIGHT GREY, AURA GD30 SPRING OAK NUDE, AURA GD30 SPRING OAK HONEY, AURA GD30 SPRING OAK BROWN, AURA GD30 AUTUMN OAK NUDE, AURA GD30 AUTUMN OAK HONEY, AURA GD30 WINTER OAK DARK BROWN, AURA GD30 WINTER OAK GREY, AURA CLCF40 SPRING OAK LIGHT GREY, AURA CLCF40 SPRING OAK NUDE, AURA CLCF40 SPRING OAK HONEY, AURA CLCF40 SPRING OAK BROWN, AURA CLCF40 AUTUMN OAK NUDE, AURA CLCF40 AUTUMN OAK HONEY, AURA CLCF40 WINTER OAK DARK BROWN, AURA CLCF40 WINTER OAK GREY, AURA GD40 SPRING OAK LIGHT GREY, AURA GD40 SPRING OAK NUDE, AURA GD40 SPRING OAK HONEY, AURA GD40 SPRING OAK BROWN, AURA GD40 AUTUMN OAK NUDE, AURA GD40 AUTUMN OAK HONEY, AURA GD40 WINTER OAK DARK BROWN, AURA GD40 WINTER OAK GREY\n",
      "IACG-408-01-04-2021\n",
      "https://www.berryalloc.com/global/en\n"
     ]
    },
    {
     "name": "stderr",
     "output_type": "stream",
     "text": [
      "C:\\Users\\USER\\AppData\\Local\\Temp\\ipykernel_35348\\2064196938.py:79: FutureWarning: The frame.append method is deprecated and will be removed from pandas in a future version. Use pandas.concat instead.\n",
      "  gc = gc.append(Dic, ignore_index=True)\n"
     ]
    },
    {
     "name": "stdout",
     "output_type": "stream",
     "text": [
      "BERRYALLOC NV\n",
      "PURE\n",
      "Resilient Flooring\n",
      "PURE CL 55, PURE CLICK 55\n",
      "IAC-408-01-02-2021\n",
      "https://www.berryalloc.com/global/en\n"
     ]
    },
    {
     "name": "stderr",
     "output_type": "stream",
     "text": [
      "C:\\Users\\USER\\AppData\\Local\\Temp\\ipykernel_35348\\2064196938.py:79: FutureWarning: The frame.append method is deprecated and will be removed from pandas in a future version. Use pandas.concat instead.\n",
      "  gc = gc.append(Dic, ignore_index=True)\n"
     ]
    },
    {
     "name": "stdout",
     "output_type": "stream",
     "text": [
      "BERRYALLOC NV\n",
      "SPIRIT\n",
      "Resilient Flooring\n",
      "SPIRIT HOME 30 GD CONCRETE, SPIRIT PRO 55 CLCF ELITE, SPIRIT PRO 55 CLCF COUNTRY, SPIRIT PRO 55 CLCF MINERAL, SPIRIT PRO 55 CLCF VULCANO, SPIRIT PRO 55 CLCF CEMENT, SPIRIT PRO 55 GD ELITE, SPIRIT PRO 55 GD COUNTRY, SPIRIT PRO 55 GD MINERAL, SPIRIT PRO 55 GD VULCANO, SPIRIT PRO 55 GD CEMENT, SPIRIT XL 55 CLCF, SPIRIT XL 55 GD, SPIRIT HOME 30 CL, SPIRIT HOME 30 GD, SPIRIT HOME 40 CLCF\n",
      "IACG-408-01-03-2021\n",
      "https://www.berryalloc.com/global/en\n"
     ]
    },
    {
     "name": "stderr",
     "output_type": "stream",
     "text": [
      "C:\\Users\\USER\\AppData\\Local\\Temp\\ipykernel_35348\\2064196938.py:79: FutureWarning: The frame.append method is deprecated and will be removed from pandas in a future version. Use pandas.concat instead.\n",
      "  gc = gc.append(Dic, ignore_index=True)\n"
     ]
    },
    {
     "name": "stdout",
     "output_type": "stream",
     "text": [
      "BIG Floorcoverings nv\n",
      "BF group 1\n",
      "Resilient Flooring\n",
      "Advancebac, Alpha, ALPHA *, Ambient , Andante, Apollo, Argos, Athena, ATHENA *, Atlantic, ATLANTIC *, Atrium M30, Avenue, Baroque, Bartoli, BARTOLI *, Belinda SE, Boho Chic , Brooklyn, Buzz, Callista, Champion, CHAMPION*, Cocoon, Contract XL, Corina plus, Corinagrip, Corinagrip SP, Cottage, Crystal, Decotec, DELFIN PU, Delta, DESIGNER PLUS, Diamond, Durit, Durabac K, Durit, Durrah 13, ELEGANT, ELEGANCE, ELEGANT, Elements, ELITE, Emotions, Essentials, Expoline , Expoline Plus, FLORIDA, Fiesta latina, FLORIDA, FORTE PP, Fortissimo, Fortuna 5, Funk, Galaxy , Gallery, Game, Gamma, Gemini, Grand Event, Heritage, Hermes, Hurricane, HURRICANE *, IMPRESA, Impressions, Inspire, Jazz, Jazz RV, Jazz Wood, JAZZ WOOD *, JEWEL , Kids, Legend, Legno, Loft, Loft comfort K, Long Island, Luciano, Lungo, Luxeflor, Magnum, Manhattan, Maple Leaf, Marathon, Massif, MASSIF *, Massif pro , MASSIF PRO *, Metro, Monza, Monza Super, Moods, Motown, Mystic, Nitro, Novabac K, Novaline, NOVO, Omega, OMEGA *, Omega +, OPTIMAL, Origins, Orion, Party tropical, PASSION, PEARL WOOD, Penta, PERFORMANCE, Perla, PHONI-MASSIF, PHONIPRO, PHONITEC, PHONI-XTREME, Pietro, Pietro5, PLUTO, Powerstar, Presto SE, Pro XL, Probac, PROFIL, Project, Record, RECORD *, RELEVENT, Rembrandt , Retro chic, RIMINI, Royal, Santana, Saturn, Sensations, Sherwood, Sherwood Oak, SHERWOOD OAK *, Shine, Sirocco, Sketch, Sonica, Sonipro, SONIPRO *, Sonoma, SPACE, Spectrum, SPECTRUM *, SPECTRUM BM, SPECTRUM PLUS, PROSPORTS 65, STANDARD S, START, Stratton Brook, STRONG, STRONGRU PLUS, Super 8, SUPER 8 *, Tauros, TECHNO-SAFE, TECHNO-SAFE WOOD, TERMOFLIS CAR, TERMOFLIS CLASIC, TERMOFLIS EXTRA, TERMOFLIS GRAND, TERMOFLIS HARD, TERMOFLIS MAT, TERMOFLIS NORDIC, TERMOFLIS PLUS, TERMOFLIS SAND, TERMOFLIS SUN, TERMOFLIS VAN, TF CLASIC PU, THE HEARTLANDS, Tower, Traditions, TREND, Trento, TRIO, TURBO, TURBO PLUS, TURBO SUPER, Verona plus, Vienna, Yolo\n",
      "IAC-40-03-01-2021\n",
      "https://bintg.com/en\n"
     ]
    },
    {
     "name": "stderr",
     "output_type": "stream",
     "text": [
      "C:\\Users\\USER\\AppData\\Local\\Temp\\ipykernel_35348\\2064196938.py:79: FutureWarning: The frame.append method is deprecated and will be removed from pandas in a future version. Use pandas.concat instead.\n",
      "  gc = gc.append(Dic, ignore_index=True)\n"
     ]
    },
    {
     "name": "stdout",
     "output_type": "stream",
     "text": [
      "BIG Floorcoverings nv\n",
      "BF group 2\n",
      "Resilient Flooring\n",
      "ART-DECORE , ARTEX , BALANCE, BALANCE BLUE, BALANCE PU, Blacktex, BLACKTEX *, Blacktex pro, Blacktex XL, Clarks ferry, Cosytex, COSYTEX *, Easy bac, Exact, Exact plus, Glory, Highline, HIGH-TEX, Infinity, Lifetex , LIFETEX *, Lungo, NATURE, NOBLE, Primatex, PRIMATEX *, Puretex, Quintex, Quintex, QUINTEX *, QUINTEX *, Resitex, SAFE-TEX, Smartex, SMARTEX *, Smartex Pro, Smartex PU, SMARTEX PU *, Stars, SUMMERTEX, Supertex, Supreme, SUPREME *, Supreme4black, Supreme5, TESSUTO, Texstar, Tex-Style , TEX-STYLE *, Toptex, Ultratex, Vintage, Wow\n",
      "IAC-40-03-02-2021\n",
      "https://bintg.com/en\n"
     ]
    },
    {
     "name": "stderr",
     "output_type": "stream",
     "text": [
      "C:\\Users\\USER\\AppData\\Local\\Temp\\ipykernel_35348\\2064196938.py:79: FutureWarning: The frame.append method is deprecated and will be removed from pandas in a future version. Use pandas.concat instead.\n",
      "  gc = gc.append(Dic, ignore_index=True)\n"
     ]
    },
    {
     "name": "stdout",
     "output_type": "stream",
     "text": [
      "BIG Floorcoverings nv\n",
      "BF group 3\n",
      "Resilient Flooring\n",
      "Absolute, AQUALINE, DURO, Massif pro, MASSIF PRO *, PREMIUM, SKYLINE, Xtreme, XTREME *, XTREME UK\n",
      "IAC-40-03-03-2021\n",
      "https://bintg.com/en\n"
     ]
    },
    {
     "name": "stderr",
     "output_type": "stream",
     "text": [
      "C:\\Users\\USER\\AppData\\Local\\Temp\\ipykernel_35348\\2064196938.py:79: FutureWarning: The frame.append method is deprecated and will be removed from pandas in a future version. Use pandas.concat instead.\n",
      "  gc = gc.append(Dic, ignore_index=True)\n"
     ]
    },
    {
     "name": "stdout",
     "output_type": "stream",
     "text": [
      "bito aktiengesellschaft\n",
      "bitotex Glamour\n",
      "Textile Flooring\n",
      "Rubin, Saphir, Smaragd\n",
      "IACG-391-01-01-2022\n",
      "https://www.bito-ag.de/\n"
     ]
    },
    {
     "name": "stderr",
     "output_type": "stream",
     "text": [
      "C:\\Users\\USER\\AppData\\Local\\Temp\\ipykernel_35348\\2064196938.py:79: FutureWarning: The frame.append method is deprecated and will be removed from pandas in a future version. Use pandas.concat instead.\n",
      "  gc = gc.append(Dic, ignore_index=True)\n"
     ]
    },
    {
     "name": "stdout",
     "output_type": "stream",
     "text": [
      "bito aktiengesellschaft\n",
      "bitotex Office\n",
      "Textile Flooring\n",
      "Building, Castle, Chateau, Factory, Gallery, Mill, Palace, Station, Tower\n",
      "IACG-391-01-02-2022\n",
      "https://www.bito-ag.de/\n"
     ]
    },
    {
     "name": "stderr",
     "output_type": "stream",
     "text": [
      "C:\\Users\\USER\\AppData\\Local\\Temp\\ipykernel_35348\\2064196938.py:79: FutureWarning: The frame.append method is deprecated and will be removed from pandas in a future version. Use pandas.concat instead.\n",
      "  gc = gc.append(Dic, ignore_index=True)\n"
     ]
    },
    {
     "name": "stdout",
     "output_type": "stream",
     "text": [
      "bito aktiengesellschaft\n",
      "bitotex Elements\n",
      "Textile Flooring\n",
      "Air, Earth, Fire, Hill, Metal, Sand, Sky, Snow, Water, Wood\n",
      "IACG-391-01-03-2022\n",
      "https://www.bito-ag.de/\n"
     ]
    },
    {
     "name": "stderr",
     "output_type": "stream",
     "text": [
      "C:\\Users\\USER\\AppData\\Local\\Temp\\ipykernel_35348\\2064196938.py:79: FutureWarning: The frame.append method is deprecated and will be removed from pandas in a future version. Use pandas.concat instead.\n",
      "  gc = gc.append(Dic, ignore_index=True)\n"
     ]
    },
    {
     "name": "stdout",
     "output_type": "stream",
     "text": [
      "Bjelin AB\n",
      "Herringbone\n",
      "Wooden Flooring\n",
      "\n",
      "IAC-405-01-03-2021\n",
      "https://www.bjelin.com/\n"
     ]
    },
    {
     "name": "stderr",
     "output_type": "stream",
     "text": [
      "C:\\Users\\USER\\AppData\\Local\\Temp\\ipykernel_35348\\2064196938.py:79: FutureWarning: The frame.append method is deprecated and will be removed from pandas in a future version. Use pandas.concat instead.\n",
      "  gc = gc.append(Dic, ignore_index=True)\n"
     ]
    },
    {
     "name": "stdout",
     "output_type": "stream",
     "text": [
      "Bjelin AB\n",
      "Parquet lacquered\n",
      "Wooden Flooring\n",
      "\n",
      "IACG-405-01-01-2021\n",
      "https://www.bjelin.com/\n"
     ]
    },
    {
     "name": "stderr",
     "output_type": "stream",
     "text": [
      "C:\\Users\\USER\\AppData\\Local\\Temp\\ipykernel_35348\\2064196938.py:79: FutureWarning: The frame.append method is deprecated and will be removed from pandas in a future version. Use pandas.concat instead.\n",
      "  gc = gc.append(Dic, ignore_index=True)\n"
     ]
    },
    {
     "name": "stdout",
     "output_type": "stream",
     "text": [
      "Bjelin AB\n",
      "Herringbone\n",
      "Wooden Flooring\n",
      "\n",
      "IACG-405-01-02-2021\n",
      "https://www.bjelin.com/\n"
     ]
    },
    {
     "name": "stderr",
     "output_type": "stream",
     "text": [
      "C:\\Users\\USER\\AppData\\Local\\Temp\\ipykernel_35348\\2064196938.py:79: FutureWarning: The frame.append method is deprecated and will be removed from pandas in a future version. Use pandas.concat instead.\n",
      "  gc = gc.append(Dic, ignore_index=True)\n"
     ]
    },
    {
     "name": "stdout",
     "output_type": "stream",
     "text": [
      "Bloem Sealants B.V.\n",
      "Sealants and adhesives based on silan modified polymers SMP\n",
      "Sealants\n",
      "EuroKit MS-Polymer, EPDM-Sealer, MSP-20, MSP-Allround, Oneseal\n",
      "IACG-342-01-01-2021\n",
      "https://www.bloemsealants.com/\n"
     ]
    },
    {
     "name": "stderr",
     "output_type": "stream",
     "text": [
      "C:\\Users\\USER\\AppData\\Local\\Temp\\ipykernel_35348\\2064196938.py:79: FutureWarning: The frame.append method is deprecated and will be removed from pandas in a future version. Use pandas.concat instead.\n",
      "  gc = gc.append(Dic, ignore_index=True)\n"
     ]
    },
    {
     "name": "stdout",
     "output_type": "stream",
     "text": [
      "Braas GmbH\n",
      "ClimaComfort\n",
      "Insulation\n",
      "\n",
      "IACG-337-01-01A-2018\n",
      "http://www.braas.de/\n"
     ]
    },
    {
     "name": "stderr",
     "output_type": "stream",
     "text": [
      "C:\\Users\\USER\\AppData\\Local\\Temp\\ipykernel_35348\\2064196938.py:79: FutureWarning: The frame.append method is deprecated and will be removed from pandas in a future version. Use pandas.concat instead.\n",
      "  gc = gc.append(Dic, ignore_index=True)\n"
     ]
    },
    {
     "name": "stdout",
     "output_type": "stream",
     "text": [
      "Bramac\n",
      "ClimaComfort\n",
      "Insulation\n",
      "\n",
      "IACG-337-01-01B\n",
      "http://www.bramac.at/\n"
     ]
    },
    {
     "name": "stderr",
     "output_type": "stream",
     "text": [
      "C:\\Users\\USER\\AppData\\Local\\Temp\\ipykernel_35348\\2064196938.py:79: FutureWarning: The frame.append method is deprecated and will be removed from pandas in a future version. Use pandas.concat instead.\n",
      "  gc = gc.append(Dic, ignore_index=True)\n"
     ]
    },
    {
     "name": "stdout",
     "output_type": "stream",
     "text": [
      "Brillux GmbH & Co. KG\n",
      "Designboden Classic 30, Designboden Premium 55\n",
      "Resilient Flooring\n",
      "\n",
      "IACG-345-02-01-2022\n",
      "http://www.brillux.de/\n"
     ]
    },
    {
     "name": "stderr",
     "output_type": "stream",
     "text": [
      "C:\\Users\\USER\\AppData\\Local\\Temp\\ipykernel_35348\\2064196938.py:79: FutureWarning: The frame.append method is deprecated and will be removed from pandas in a future version. Use pandas.concat instead.\n",
      "  gc = gc.append(Dic, ignore_index=True)\n"
     ]
    },
    {
     "name": "stdout",
     "output_type": "stream",
     "text": [
      "Brillux GmbH & Co. KG\n",
      "Lock-Design\n",
      "Resilient Flooring\n",
      "\n",
      "IACG-345-02-02-2022\n",
      "http://www.brillux.de/\n"
     ]
    },
    {
     "name": "stderr",
     "output_type": "stream",
     "text": [
      "C:\\Users\\USER\\AppData\\Local\\Temp\\ipykernel_35348\\2064196938.py:79: FutureWarning: The frame.append method is deprecated and will be removed from pandas in a future version. Use pandas.concat instead.\n",
      "  gc = gc.append(Dic, ignore_index=True)\n"
     ]
    },
    {
     "name": "stdout",
     "output_type": "stream",
     "text": [
      "Brillux GmbH & Co. KG\n",
      "Granit\n",
      "Textile Flooring\n",
      "\n",
      "IACG-345-03-03-2022\n",
      "http://www.brillux.de/\n"
     ]
    },
    {
     "name": "stderr",
     "output_type": "stream",
     "text": [
      "C:\\Users\\USER\\AppData\\Local\\Temp\\ipykernel_35348\\2064196938.py:79: FutureWarning: The frame.append method is deprecated and will be removed from pandas in a future version. Use pandas.concat instead.\n",
      "  gc = gc.append(Dic, ignore_index=True)\n"
     ]
    },
    {
     "name": "stdout",
     "output_type": "stream",
     "text": [
      "Brillux GmbH & Co. KG\n",
      "Floccus, Humilis\n",
      "Textile Flooring\n",
      "\n",
      "IACG-345-03-04-2022\n",
      "http://www.brillux.de/\n"
     ]
    },
    {
     "name": "stderr",
     "output_type": "stream",
     "text": [
      "C:\\Users\\USER\\AppData\\Local\\Temp\\ipykernel_35348\\2064196938.py:79: FutureWarning: The frame.append method is deprecated and will be removed from pandas in a future version. Use pandas.concat instead.\n",
      "  gc = gc.append(Dic, ignore_index=True)\n"
     ]
    },
    {
     "name": "stdout",
     "output_type": "stream",
     "text": [
      "Brillux GmbH & Co. KG\n",
      "Incus, Opacus\n",
      "Textile Flooring\n",
      "\n",
      "IACG-345-03-05-2022\n",
      "http://www.brillux.de/\n"
     ]
    },
    {
     "name": "stderr",
     "output_type": "stream",
     "text": [
      "C:\\Users\\USER\\AppData\\Local\\Temp\\ipykernel_35348\\2064196938.py:79: FutureWarning: The frame.append method is deprecated and will be removed from pandas in a future version. Use pandas.concat instead.\n",
      "  gc = gc.append(Dic, ignore_index=True)\n"
     ]
    },
    {
     "name": "stdout",
     "output_type": "stream",
     "text": [
      "25\n",
      "Brillux GmbH & Co. KG\n",
      "Andesit, Dolerit, Felsit\n",
      "Textile Flooring\n",
      "\n",
      "IACG-345-03-06-2022\n",
      "http://www.brillux.de/\n"
     ]
    },
    {
     "name": "stderr",
     "output_type": "stream",
     "text": [
      "C:\\Users\\USER\\AppData\\Local\\Temp\\ipykernel_35348\\2064196938.py:79: FutureWarning: The frame.append method is deprecated and will be removed from pandas in a future version. Use pandas.concat instead.\n",
      "  gc = gc.append(Dic, ignore_index=True)\n"
     ]
    },
    {
     "name": "stdout",
     "output_type": "stream",
     "text": [
      "Brillux GmbH & Co. KG\n",
      "Arcus, Calvus\n",
      "Textile Flooring\n",
      "\n",
      "IACG-345-03-07-2022\n",
      "http://www.brillux.de/\n"
     ]
    },
    {
     "name": "stderr",
     "output_type": "stream",
     "text": [
      "C:\\Users\\USER\\AppData\\Local\\Temp\\ipykernel_35348\\2064196938.py:79: FutureWarning: The frame.append method is deprecated and will be removed from pandas in a future version. Use pandas.concat instead.\n",
      "  gc = gc.append(Dic, ignore_index=True)\n"
     ]
    },
    {
     "name": "stdout",
     "output_type": "stream",
     "text": [
      "carpetconcept Objekt-Teppichboden GmbH\n",
      "CC5\n",
      "Textile Flooring\n",
      "Concept 150 - Concept 180, Concept 102, Concept 101, Slo 150 - Slo 180, Concept 150 V 350 - Concept 180 V 350, Slo 150 V 750 - Slo 180 V 750, Concept 150 V 750 - Concept 180 V 750, Slo 102, Concept 102 V 350, Concept 102 V 750, Slo 102 V 750, Slo 101, Concept 101 V 350, Concept 101 V 750, Slo 101 V 750, Concept 100, Slo 100, Slo 100 V 750, Concept 100 V 350, Concept 100 V 750, Slo 103, Concept 103 V 350, Slo 103 V 750, Concept 103 V 750, Slo 104, Concept 104 V 350, Slo 104 V 750, Concept 104 V 750\n",
      "IACG-353-01-05-2019\n",
      "https://www.carpet-concept.de/\n"
     ]
    },
    {
     "name": "stderr",
     "output_type": "stream",
     "text": [
      "C:\\Users\\USER\\AppData\\Local\\Temp\\ipykernel_35348\\2064196938.py:79: FutureWarning: The frame.append method is deprecated and will be removed from pandas in a future version. Use pandas.concat instead.\n",
      "  gc = gc.append(Dic, ignore_index=True)\n"
     ]
    },
    {
     "name": "stdout",
     "output_type": "stream",
     "text": [
      "carpetconcept Objekt-Teppichboden GmbH\n",
      "CC7\n",
      "Textile Flooring\n",
      "Concept 103, Concept 104\n",
      "IACG-353-01-07-2019\n",
      "https://www.carpet-concept.de/\n"
     ]
    },
    {
     "name": "stderr",
     "output_type": "stream",
     "text": [
      "C:\\Users\\USER\\AppData\\Local\\Temp\\ipykernel_35348\\2064196938.py:79: FutureWarning: The frame.append method is deprecated and will be removed from pandas in a future version. Use pandas.concat instead.\n",
      "  gc = gc.append(Dic, ignore_index=True)\n"
     ]
    },
    {
     "name": "stdout",
     "output_type": "stream",
     "text": [
      "carpetconcept Objekt-Teppichboden GmbH\n",
      "CC9\n",
      "Textile Flooring\n",
      "Eco One, Eco One V 300, Eco One V 400, Eco One V 800, Eco Two, Eco Two V 300, Eco Two V 400, Eco Two V 800, Eco Design, Eco Design V 300, Eco Design V 400, Eco Design V 800, Eco Tre, Eco Tre V 300, Eco Tre V 400, Eco Tre V 800, Eco 500, Eco 500 V 300, Eco 500 V 400, Eco 500 V 800, Eco Set, Eco Set V 300, Eco Set V 400, Eco Set V 800, Eco Nic, Eco Nic V 300, Eco Nic V 400, Eco Nic V 800, Eco 500 Fliese, Eco Nic Fliese, Eco Set Fliese, Yve 1 V 300, Yve 2 V 300\n",
      "IACG-353-01-09-2019\n",
      "https://www.carpet-concept.de/\n"
     ]
    },
    {
     "name": "stderr",
     "output_type": "stream",
     "text": [
      "C:\\Users\\USER\\AppData\\Local\\Temp\\ipykernel_35348\\2064196938.py:79: FutureWarning: The frame.append method is deprecated and will be removed from pandas in a future version. Use pandas.concat instead.\n",
      "  gc = gc.append(Dic, ignore_index=True)\n"
     ]
    },
    {
     "name": "stdout",
     "output_type": "stream",
     "text": [
      "carpetconcept Objekt-Teppichboden GmbH\n",
      "CC10\n",
      "Textile Flooring\n",
      "Eco Wool 0595 wt/Eco Wool 0596 wt, Eco Wool 0595 V300, Eco Wool 0595 V400, Eco Wool 0595 V800, Eco Wool 0596 V300, Eco Wool 0596 V400, Eco Wool 0596 V800\n",
      "IACG-353-01-10-2018\n",
      "https://www.carpet-concept.de/\n"
     ]
    },
    {
     "name": "stderr",
     "output_type": "stream",
     "text": [
      "C:\\Users\\USER\\AppData\\Local\\Temp\\ipykernel_35348\\2064196938.py:79: FutureWarning: The frame.append method is deprecated and will be removed from pandas in a future version. Use pandas.concat instead.\n",
      "  gc = gc.append(Dic, ignore_index=True)\n"
     ]
    },
    {
     "name": "stdout",
     "output_type": "stream",
     "text": [
      "Ceiling Solutions Limited trading as Zentia\n",
      "Mineral Fibre Ceiling Tiles\n",
      "Acoustic Ceilings\n",
      "Bioguard Acoustic, Bioguard Plain, Casa, Dune, Dune eVo, Dune eVo dB, Etna, Perla, Perla dB, Perla OP 0.95, Perla OP 1.0, Plain, Retail, Sahara, Sahara A1, Sahara Max, Sahara dB, Savanna, Sierra, Sierra OP, Ultima+, Ultima+ dB, Ultima+ OP.\n",
      "IACG-433-01-01-2021\n",
      "https://www.zentia.com/\n"
     ]
    },
    {
     "name": "stderr",
     "output_type": "stream",
     "text": [
      "C:\\Users\\USER\\AppData\\Local\\Temp\\ipykernel_35348\\2064196938.py:79: FutureWarning: The frame.append method is deprecated and will be removed from pandas in a future version. Use pandas.concat instead.\n",
      "  gc = gc.append(Dic, ignore_index=True)\n"
     ]
    },
    {
     "name": "stdout",
     "output_type": "stream",
     "text": [
      "CFL Flooring\n",
      "SPC/Rigid LVT/Rigid Core Flooring/Rigid Plastic Composite\n",
      "Resilient Flooring\n",
      "Audacity, BellRinger, DuraLux, DuraLux Performance, FF Contract, FirmFit, FirmFit Silent, GemCore, Matrix, NovoCore, NovoCore Premium, NovoCore Quiet, NuCore, NuCore Performance, NuCore Whisper, Odyssey, SuperFast, Trends, 奥达西堤 纷特\n",
      "IACG-448-01-01-2022\n",
      "https://www.cflflooring.com/\n"
     ]
    },
    {
     "name": "stderr",
     "output_type": "stream",
     "text": [
      "C:\\Users\\USER\\AppData\\Local\\Temp\\ipykernel_35348\\2064196938.py:79: FutureWarning: The frame.append method is deprecated and will be removed from pandas in a future version. Use pandas.concat instead.\n",
      "  gc = gc.append(Dic, ignore_index=True)\n"
     ]
    },
    {
     "name": "stdout",
     "output_type": "stream",
     "text": [
      "Combimix AB\n",
      "CM 100\n",
      "Levelling Compounds\n",
      "CM 100\n",
      "IACG-375-01-01-2021\n",
      "https://www.combimix.com/\n"
     ]
    },
    {
     "name": "stderr",
     "output_type": "stream",
     "text": [
      "C:\\Users\\USER\\AppData\\Local\\Temp\\ipykernel_35348\\2064196938.py:79: FutureWarning: The frame.append method is deprecated and will be removed from pandas in a future version. Use pandas.concat instead.\n",
      "  gc = gc.append(Dic, ignore_index=True)\n"
     ]
    },
    {
     "name": "stdout",
     "output_type": "stream",
     "text": [
      "Combimix AB\n",
      "Standard and Industrial\n",
      "Levelling Compounds\n",
      "CM 420, CM 700, CM 720, CM 850, CM 860, CM 870, CM 900, CM 920, CM 940, CM 960, CM Projekt Bas, CM Projekt Bas +, CM Projekt Grov, CM Projekt Snabb, CM Optimal, CM Projekt Fin, 380 Flydestøp, 381 Flydestøp fiber, 713 Projektspartel, 715 Projektspartel Fiber, 716 Projektspartel Selvudtørrende, 718 Projektspartel Selvudtørrende Fiber\n",
      "IACG-375-01-02C-2021\n",
      "https://www.combimix.com/\n"
     ]
    },
    {
     "name": "stderr",
     "output_type": "stream",
     "text": [
      "C:\\Users\\USER\\AppData\\Local\\Temp\\ipykernel_35348\\2064196938.py:79: FutureWarning: The frame.append method is deprecated and will be removed from pandas in a future version. Use pandas.concat instead.\n",
      "  gc = gc.append(Dic, ignore_index=True)\n"
     ]
    },
    {
     "name": "stdout",
     "output_type": "stream",
     "text": [
      "Combimix AB\n",
      "Dust Reduced\n",
      "Levelling Compounds\n",
      "CM 740, CM 750 S, CM 760, CM 780\n",
      "IACG-375-01-03-2021\n",
      "https://www.combimix.com/\n"
     ]
    },
    {
     "name": "stderr",
     "output_type": "stream",
     "text": [
      "C:\\Users\\USER\\AppData\\Local\\Temp\\ipykernel_35348\\2064196938.py:79: FutureWarning: The frame.append method is deprecated and will be removed from pandas in a future version. Use pandas.concat instead.\n",
      "  gc = gc.append(Dic, ignore_index=True)\n"
     ]
    },
    {
     "name": "stdout",
     "output_type": "stream",
     "text": [
      "Combimix AB\n",
      "Special Applications\n",
      "Levelling Compounds\n",
      "CM 700 R, CM 780 R\n",
      "IACG-375-01-04-2021\n",
      "https://www.combimix.com/\n"
     ]
    },
    {
     "name": "stderr",
     "output_type": "stream",
     "text": [
      "C:\\Users\\USER\\AppData\\Local\\Temp\\ipykernel_35348\\2064196938.py:79: FutureWarning: The frame.append method is deprecated and will be removed from pandas in a future version. Use pandas.concat instead.\n",
      "  gc = gc.append(Dic, ignore_index=True)\n"
     ]
    },
    {
     "name": "stdout",
     "output_type": "stream",
     "text": [
      "Community Playthings\n",
      "HPL Tables\n",
      "Furniture, Table tops\n",
      "D210, D211, D212, D213, D214, D220, D221, D222, D223, D224, D230, D231, D232, D233, D234, D240, D241, D242, D243, D244, D250, D251, D252, D253, D254, D260, D261, D262, D263, D264, D270, D271, D272, D273, D274, D280, D281, D282, D283, D284, D290, D291, D292, D293, D294, D300, D301, D302, D303, D304, D310, D311, D312, D313, D314, D320, D321, D322, D323, D324, D330, D331, D332, D333, D334, D340, D341, D342, D343, D344, D360, D361, D362, D363, D364, D370, D371, D372, D373, D374.\n",
      "IACG-367-01-01-2021\n",
      "https://www.communityplaythings.co.uk/\n"
     ]
    },
    {
     "name": "stderr",
     "output_type": "stream",
     "text": [
      "C:\\Users\\USER\\AppData\\Local\\Temp\\ipykernel_35348\\2064196938.py:79: FutureWarning: The frame.append method is deprecated and will be removed from pandas in a future version. Use pandas.concat instead.\n",
      "  gc = gc.append(Dic, ignore_index=True)\n"
     ]
    },
    {
     "name": "stdout",
     "output_type": "stream",
     "text": [
      "Community Playthings\n",
      "Mattresses and Upholstered seating\n",
      "Furniture, Table tops\n",
      "V800, G11, M62, J900, J901, J641, J651, J640, J650.\n",
      "IACG-367-01-03-2021\n",
      "https://www.communityplaythings.co.uk/\n"
     ]
    },
    {
     "name": "stderr",
     "output_type": "stream",
     "text": [
      "C:\\Users\\USER\\AppData\\Local\\Temp\\ipykernel_35348\\2064196938.py:79: FutureWarning: The frame.append method is deprecated and will be removed from pandas in a future version. Use pandas.concat instead.\n",
      "  gc = gc.append(Dic, ignore_index=True)\n"
     ]
    },
    {
     "name": "stdout",
     "output_type": "stream",
     "text": [
      "Community Playthings\n",
      "Flatline Finish\n",
      "Furniture, Table tops\n",
      "A45, A60, A301, A302, A631, A632, A634, A635, A637, A723, A724, A727, A728, A733, A734, A735, A737, A738, A747, A748, B020, B060, B402, B405, C110, C140, C221, C231, C241, C501, C502, C503, C504, C505, C506, C507, C508, C509, C510, C705, C706, C714, C715, C716, C912, C913, C914, C916, C917, C918, C923, C924, C925, C926, C927, D120, D130, F381, F411, F412, F413, F414, F441, F442, F443, F444, F481, F482, F510, F520, F527, F530, F536, F540, F545, F599, F611, F612, F613, F614, F615, F621, F622, F623, F624, F625, F626, F627, F628, F629, F631, F632, F633, F634, F641, F642, F643, F644, F645, F646, F647, F648, F649, F661, F662, F663, F664, F665, F667, F668, F671, F673, F675, F681, F682, F683, F684, F685, F686, F687, F688, F689, F691, F692, F693, F694, F695, F696, F697, F698, F699, F711, F712, F713, F714, F715, F716, F718, F719, F721, F722, F723, F724, F725, F726, F727, F728, F729, F732, F733, F735, F736, F738, F739, F741, F742, F743, F747, F748, F749, F750, F757, F758, F759, F770, F775, F776, F777, F778, F779, F783, F784, F785, F801, F802, F803, F806, F808, F809, F811, F812, F813, F814, F816, F817, F818, F819, F826, F827, F828, F831, F832, F833, F834, F836, F837, F838, F839, F871, F901, F902, F903, F904, F905, F907, F908, G112, G240, G248, G257, G258, G25E, G260, G265, G28, G282, G492, G494, G496, G498, G870, G872, G873, G875, G876, G877, G879, G880, G882, G883, G884, G885, G887, G888, G889, G890, G891, G893, G895, G897, G898, G899, H220, H223, H227, H501, H505, H516, H521, H525, H531, H553, H554, H555, H556, H557, H559, H560, H561, H571, H572, H820, J413, J505, J506, J940, M660, P61, V818, V820, V822, V824, V840, V845.\n",
      "IACG-367-01-04-2021\n",
      "https://www.communityplaythings.co.uk/\n"
     ]
    },
    {
     "name": "stderr",
     "output_type": "stream",
     "text": [
      "C:\\Users\\USER\\AppData\\Local\\Temp\\ipykernel_35348\\2064196938.py:79: FutureWarning: The frame.append method is deprecated and will be removed from pandas in a future version. Use pandas.concat instead.\n",
      "  gc = gc.append(Dic, ignore_index=True)\n"
     ]
    },
    {
     "name": "stdout",
     "output_type": "stream",
     "text": [
      "Community Playthings\n",
      "3D Finishing system\n",
      "Furniture, Table tops\n",
      "A554, A556, A578, A579, A580, A581, A582, A583, A584, A585, A586, A590, A593, A594, A596, D610, D611, D612, D613, G961, H551, H552, J408, J410, J424, J444, T12, T15, T17, T20, T28, T30, T51, T70, T71, T72, T73, T74, T76, T77.\n",
      "IACG-367-01-05-2021\n",
      "https://www.communityplaythings.co.uk/\n"
     ]
    },
    {
     "name": "stderr",
     "output_type": "stream",
     "text": [
      "C:\\Users\\USER\\AppData\\Local\\Temp\\ipykernel_35348\\2064196938.py:79: FutureWarning: The frame.append method is deprecated and will be removed from pandas in a future version. Use pandas.concat instead.\n",
      "  gc = gc.append(Dic, ignore_index=True)\n"
     ]
    },
    {
     "name": "stdout",
     "output_type": "stream",
     "text": [
      "Condor Group\n",
      "Condor Group Wool\n",
      "Textile Flooring\n",
      "\n",
      "IACG-336-01-01-2022\n",
      "http://www.condor-group.eu/?language=en\n"
     ]
    },
    {
     "name": "stderr",
     "output_type": "stream",
     "text": [
      "C:\\Users\\USER\\AppData\\Local\\Temp\\ipykernel_35348\\2064196938.py:79: FutureWarning: The frame.append method is deprecated and will be removed from pandas in a future version. Use pandas.concat instead.\n",
      "  gc = gc.append(Dic, ignore_index=True)\n"
     ]
    },
    {
     "name": "stdout",
     "output_type": "stream",
     "text": [
      "Condor Group\n",
      "Condor Group PA6.6\n",
      "Textile Flooring\n",
      "\n",
      "IACG-336-01-02-2022\n",
      "http://www.condor-group.eu/?language=en\n"
     ]
    },
    {
     "name": "stderr",
     "output_type": "stream",
     "text": [
      "C:\\Users\\USER\\AppData\\Local\\Temp\\ipykernel_35348\\2064196938.py:79: FutureWarning: The frame.append method is deprecated and will be removed from pandas in a future version. Use pandas.concat instead.\n",
      "  gc = gc.append(Dic, ignore_index=True)\n"
     ]
    },
    {
     "name": "stdout",
     "output_type": "stream",
     "text": [
      "Condor Group\n",
      "Condor Group PP\n",
      "Textile Flooring\n",
      "\n",
      "IACG-336-01-03-2022\n",
      "http://www.condor-group.eu/?language=en\n"
     ]
    },
    {
     "name": "stderr",
     "output_type": "stream",
     "text": [
      "C:\\Users\\USER\\AppData\\Local\\Temp\\ipykernel_35348\\2064196938.py:79: FutureWarning: The frame.append method is deprecated and will be removed from pandas in a future version. Use pandas.concat instead.\n",
      "  gc = gc.append(Dic, ignore_index=True)\n"
     ]
    },
    {
     "name": "stdout",
     "output_type": "stream",
     "text": [
      "Condor Group\n",
      "Condor Group PA6\n",
      "Textile Flooring\n",
      "\n",
      "IACG-336-01-04-2022\n",
      "http://www.condor-group.eu/?language=en\n"
     ]
    },
    {
     "name": "stderr",
     "output_type": "stream",
     "text": [
      "C:\\Users\\USER\\AppData\\Local\\Temp\\ipykernel_35348\\2064196938.py:79: FutureWarning: The frame.append method is deprecated and will be removed from pandas in a future version. Use pandas.concat instead.\n",
      "  gc = gc.append(Dic, ignore_index=True)\n"
     ]
    },
    {
     "name": "stdout",
     "output_type": "stream",
     "text": [
      "Condor Group\n",
      "Condor Group PES\n",
      "Textile Flooring\n",
      "\n",
      "IACG-336-01-05-2022\n",
      "http://www.condor-group.eu/?language=en\n"
     ]
    },
    {
     "name": "stderr",
     "output_type": "stream",
     "text": [
      "C:\\Users\\USER\\AppData\\Local\\Temp\\ipykernel_35348\\2064196938.py:79: FutureWarning: The frame.append method is deprecated and will be removed from pandas in a future version. Use pandas.concat instead.\n",
      "  gc = gc.append(Dic, ignore_index=True)\n"
     ]
    },
    {
     "name": "stdout",
     "output_type": "stream",
     "text": [
      "Condor Group\n",
      "Condor Group Tiles with Bitumen Backing\n",
      "Textile Flooring\n",
      "\n",
      "IACG-336-01-06-2022\n",
      "http://www.condor-group.eu/?language=en\n"
     ]
    },
    {
     "name": "stderr",
     "output_type": "stream",
     "text": [
      "C:\\Users\\USER\\AppData\\Local\\Temp\\ipykernel_35348\\2064196938.py:79: FutureWarning: The frame.append method is deprecated and will be removed from pandas in a future version. Use pandas.concat instead.\n",
      "  gc = gc.append(Dic, ignore_index=True)\n"
     ]
    },
    {
     "name": "stdout",
     "output_type": "stream",
     "text": [
      "CONICA AG\n",
      "CONICRETE\n",
      "Coating Systems\n",
      "CONICRETE PU P250, CONICRETE PU C550, CONICRETE PU C555, CONICRETE PU C560, CONICRETE PU C565, CONICRETE PU C570\n",
      "IACG-457-01-01-2022\n",
      "https://www.conica.com/\n"
     ]
    },
    {
     "name": "stderr",
     "output_type": "stream",
     "text": [
      "C:\\Users\\USER\\AppData\\Local\\Temp\\ipykernel_35348\\2064196938.py:79: FutureWarning: The frame.append method is deprecated and will be removed from pandas in a future version. Use pandas.concat instead.\n",
      "  gc = gc.append(Dic, ignore_index=True)\n"
     ]
    },
    {
     "name": "stdout",
     "output_type": "stream",
     "text": [
      "Danfloor A/S\n",
      "Wool and natural fibers with textile backing\n",
      "Textile Flooring\n",
      "Graphic 1000 UT, Graphic 1000 UV, Graphic 1100 UT, Graphic 1100 UV, Graphic 1200 UT, Graphic 1200 UV, Graphic 1300 UV, Graphic 1400 UV, Graphic 1500 UV, 1153 Borneo UT, 1160 Cairo UV, 1310 Tunis UT, 1317 Dubai Rib UT, 1318 Dubai Heather UT, 1319 Dubai UT, 1320 Montana UT, 1325 Natural Choice Textures UT, 1428 Auckland UT, 1431 Queenstown UT, 1433 Wellington Stripe UT, 1450 Raglan UT, 1455 Napier UT, 2905 Wool Ribs TD, 2907 Wool Lines TD, 2910 Wool Square TD, 2912 Wool Classic TD.\n",
      "IACG-49-22-01-2022\n",
      "http://www.danfloor.dk/?lang=en\n"
     ]
    },
    {
     "name": "stderr",
     "output_type": "stream",
     "text": [
      "C:\\Users\\USER\\AppData\\Local\\Temp\\ipykernel_35348\\2064196938.py:79: FutureWarning: The frame.append method is deprecated and will be removed from pandas in a future version. Use pandas.concat instead.\n",
      "  gc = gc.append(Dic, ignore_index=True)\n"
     ]
    },
    {
     "name": "stdout",
     "output_type": "stream",
     "text": [
      "Danfloor A/S\n",
      "Wool and natural fibers with latex backing\n",
      "Textile Flooring\n",
      "1153 Borneo SG, 1160 Cairo SG, 1310 Tunis SG, 1319 Dubai SG, 1320 Montana SG, 1325 Natural Choice Textures SG, 4813 Nature Rib KT.\n",
      "IACG-49-22-02-2022\n",
      "http://www.danfloor.dk/?lang=en\n"
     ]
    },
    {
     "name": "stderr",
     "output_type": "stream",
     "text": [
      "C:\\Users\\USER\\AppData\\Local\\Temp\\ipykernel_35348\\2064196938.py:79: FutureWarning: The frame.append method is deprecated and will be removed from pandas in a future version. Use pandas.concat instead.\n",
      "  gc = gc.append(Dic, ignore_index=True)\n"
     ]
    },
    {
     "name": "stdout",
     "output_type": "stream",
     "text": [
      "25\n",
      "Danfloor A/S\n",
      "Synthetic fibres with textile backing\n",
      "Textile Flooring\n",
      "3184 Hit UT, 3415 Quattro UV, 5104 Gemini UV, 5720 Maquesa Tweed UV, 3175 Eton Basic TD, 3743 Baltic TD, 3615 Elverøy TD, 3620 Boston TD, 3350 Eco Home TD, 3251 Eco Square TD, 3666 Evolution TD, 3890 Economix TD, 3906 Classic Contract TD, 3907 Classic XL TD.\n",
      "IACG-49-22-03-2022\n",
      "http://www.danfloor.dk/?lang=en\n"
     ]
    },
    {
     "name": "stderr",
     "output_type": "stream",
     "text": [
      "C:\\Users\\USER\\AppData\\Local\\Temp\\ipykernel_35348\\2064196938.py:79: FutureWarning: The frame.append method is deprecated and will be removed from pandas in a future version. Use pandas.concat instead.\n",
      "  gc = gc.append(Dic, ignore_index=True)\n"
     ]
    },
    {
     "name": "stdout",
     "output_type": "stream",
     "text": [
      "Danfloor A/S\n",
      "Synthetic fibers with latex backing\n",
      "Textile Flooring\n",
      "3175 Eton Basic KT, 3743 Baltic KT, 3350 Eco Home SG, 3251 Eco Square SG, 3666 Evolution AQ, 3890 Economix AQ, 3170 Paris SG, 3184 Hit SG, 3262 Monte Carlo SG, 3305 Prima Berber, 3535 Equinox AQ, 3570 Equinox Connect AQ, 3611 Equinox Evolve AQ, 3850 Equinox Tones AQ, 3720 Eco Tweed SG, 5104 Gemini SG, 5266 Lunar SG, 5130 Princetown Loop SG, 5270 Marquesa Soft SG, 5720 Marquesa Tweed SG, 5902 Marquesa Weave SG, 3906 Classic Contract KT, 3907 Classic XL KT.\n",
      "IACG-49-22-06-2022\n",
      "http://www.danfloor.dk/?lang=en\n"
     ]
    },
    {
     "name": "stderr",
     "output_type": "stream",
     "text": [
      "C:\\Users\\USER\\AppData\\Local\\Temp\\ipykernel_35348\\2064196938.py:79: FutureWarning: The frame.append method is deprecated and will be removed from pandas in a future version. Use pandas.concat instead.\n",
      "  gc = gc.append(Dic, ignore_index=True)\n"
     ]
    },
    {
     "name": "stdout",
     "output_type": "stream",
     "text": [
      "Danfloor A/S\n",
      "PA6 Carpet Tiles\n",
      "Textile Flooring\n",
      "Inverse Strong Strong Lines Primera Nature Sonar Merida United Loft Bari Ambiente Level Atlantic Viper\n",
      "IACG-49-23-01-2021\n",
      "http://www.danfloor.dk/?lang=en\n"
     ]
    },
    {
     "name": "stderr",
     "output_type": "stream",
     "text": [
      "C:\\Users\\USER\\AppData\\Local\\Temp\\ipykernel_35348\\2064196938.py:79: FutureWarning: The frame.append method is deprecated and will be removed from pandas in a future version. Use pandas.concat instead.\n",
      "  gc = gc.append(Dic, ignore_index=True)\n"
     ]
    },
    {
     "name": "stdout",
     "output_type": "stream",
     "text": [
      "Dansk-Wilton\n",
      "DW Contract Axminster\n",
      "Textile Flooring\n",
      "Axminster 1100, Axminster 1300, Axminster 1500, Axminster 1700, Axminster 1900, Axminster 2100, Axminster 2300\n",
      "IACG-45-01-01-2021\n",
      "http://danskwilton.com/\n"
     ]
    },
    {
     "name": "stderr",
     "output_type": "stream",
     "text": [
      "C:\\Users\\USER\\AppData\\Local\\Temp\\ipykernel_35348\\2064196938.py:79: FutureWarning: The frame.append method is deprecated and will be removed from pandas in a future version. Use pandas.concat instead.\n",
      "  gc = gc.append(Dic, ignore_index=True)\n"
     ]
    },
    {
     "name": "stdout",
     "output_type": "stream",
     "text": [
      "Dansk-Wilton\n",
      "DW Contract Colortec / Graffic\n",
      "Textile Flooring\n",
      "Colortec/Graffic 1100, Colortec/Graffic 1300, Colortec/Graffic 1400, Colortec/Graffic 1500, Colortec/Graffic 1700, Colortec/Graffic 1800, Colortec/Graffic 1900, Colortec High Pile\n",
      "IACG-45-01-02-2021\n",
      "http://danskwilton.com/\n"
     ]
    },
    {
     "name": "stderr",
     "output_type": "stream",
     "text": [
      "C:\\Users\\USER\\AppData\\Local\\Temp\\ipykernel_35348\\2064196938.py:79: FutureWarning: The frame.append method is deprecated and will be removed from pandas in a future version. Use pandas.concat instead.\n",
      "  gc = gc.append(Dic, ignore_index=True)\n"
     ]
    },
    {
     "name": "stdout",
     "output_type": "stream",
     "text": [
      "DAW SE\n",
      "DISBON Floor Coating\n",
      "Resin-based floorings systems\n",
      "DisboFLOOR 320 rapid, DisboFLOOR 326 rapid, DisboPUR W 357 semi-gloss, DisboPUR W 458 mat, DisboPUR W 459 mat, Disbon 404 ELF, DisboPOX 420 E.MI PLUS, DisboPOX W 442, DisboPOX W 468 THIX, DisboFLOOR 475 E.MI PLUS, DisboPOX W 447\n",
      "IACG-428-01-01-2022\n",
      "https://www.daw.de/\n"
     ]
    },
    {
     "name": "stderr",
     "output_type": "stream",
     "text": [
      "C:\\Users\\USER\\AppData\\Local\\Temp\\ipykernel_35348\\2064196938.py:79: FutureWarning: The frame.append method is deprecated and will be removed from pandas in a future version. Use pandas.concat instead.\n",
      "  gc = gc.append(Dic, ignore_index=True)\n"
     ]
    },
    {
     "name": "stdout",
     "output_type": "stream",
     "text": [
      "Decoflooring GmbH\n",
      "LVT Vinyl Flooring\n",
      "Resilient Flooring\n",
      "\n",
      "IACG-412-01-01-2021\n",
      "https://decoflooring.de/\n"
     ]
    },
    {
     "name": "stderr",
     "output_type": "stream",
     "text": [
      "C:\\Users\\USER\\AppData\\Local\\Temp\\ipykernel_35348\\2064196938.py:79: FutureWarning: The frame.append method is deprecated and will be removed from pandas in a future version. Use pandas.concat instead.\n",
      "  gc = gc.append(Dic, ignore_index=True)\n"
     ]
    },
    {
     "name": "stdout",
     "output_type": "stream",
     "text": [
      "Decoflooring GmbH\n",
      "SPC Vinyl Flooring\n",
      "Resilient Flooring\n",
      "\n",
      "IACG-412-01-02-2021\n",
      "https://decoflooring.de/\n"
     ]
    },
    {
     "name": "stderr",
     "output_type": "stream",
     "text": [
      "C:\\Users\\USER\\AppData\\Local\\Temp\\ipykernel_35348\\2064196938.py:79: FutureWarning: The frame.append method is deprecated and will be removed from pandas in a future version. Use pandas.concat instead.\n",
      "  gc = gc.append(Dic, ignore_index=True)\n"
     ]
    },
    {
     "name": "stdout",
     "output_type": "stream",
     "text": [
      "Designflooring International\n",
      "Designflooring 1\n",
      "Resilient Flooring\n",
      "Art Select Monet Van Gogh Opus Palio Gluedown 2.5mm Opus Enhance Opus Plus Rubens Palio Gluedown 2.0mm K-Trade\n",
      "IACG-66-02-01-2020A\n",
      "http://www.designflooring.com/\n"
     ]
    },
    {
     "name": "stderr",
     "output_type": "stream",
     "text": [
      "C:\\Users\\USER\\AppData\\Local\\Temp\\ipykernel_35348\\2064196938.py:79: FutureWarning: The frame.append method is deprecated and will be removed from pandas in a future version. Use pandas.concat instead.\n",
      "  gc = gc.append(Dic, ignore_index=True)\n"
     ]
    },
    {
     "name": "stdout",
     "output_type": "stream",
     "text": [
      "Designflooring International\n",
      "Designflooring 2\n",
      "Resilient Flooring\n",
      "Art Select Monet Michelangelo Rubens Solid Color 2.5 mm Solid Color 3.0 mm\n",
      "IACG-66-02-02A-2021\n",
      "http://www.designflooring.com/\n"
     ]
    },
    {
     "name": "stderr",
     "output_type": "stream",
     "text": [
      "C:\\Users\\USER\\AppData\\Local\\Temp\\ipykernel_35348\\2064196938.py:79: FutureWarning: The frame.append method is deprecated and will be removed from pandas in a future version. Use pandas.concat instead.\n",
      "  gc = gc.append(Dic, ignore_index=True)\n"
     ]
    },
    {
     "name": "stdout",
     "output_type": "stream",
     "text": [
      "Designflooring International\n",
      "Designflooring 4\n",
      "Resilient Flooring\n",
      "LooseLay, Van Gogh, HDC 2.5, Palio Gluedown 2.0mm, Palio Gluedown 2.5mm, Palio Rigid Core.\n",
      "IACG-66-02-03A-2021\n",
      "http://www.designflooring.com/\n"
     ]
    },
    {
     "name": "stderr",
     "output_type": "stream",
     "text": [
      "C:\\Users\\USER\\AppData\\Local\\Temp\\ipykernel_35348\\2064196938.py:79: FutureWarning: The frame.append method is deprecated and will be removed from pandas in a future version. Use pandas.concat instead.\n",
      "  gc = gc.append(Dic, ignore_index=True)\n"
     ]
    },
    {
     "name": "stdout",
     "output_type": "stream",
     "text": [
      "Designflooring International\n",
      "Designflooring 10\n",
      "Resilient Flooring\n",
      "Rubens Monet Max floor 5 mm\n",
      "IACG-66-02-04-2020A\n",
      "http://www.designflooring.com/\n"
     ]
    },
    {
     "name": "stderr",
     "output_type": "stream",
     "text": [
      "C:\\Users\\USER\\AppData\\Local\\Temp\\ipykernel_35348\\2064196938.py:79: FutureWarning: The frame.append method is deprecated and will be removed from pandas in a future version. Use pandas.concat instead.\n",
      "  gc = gc.append(Dic, ignore_index=True)\n"
     ]
    },
    {
     "name": "stdout",
     "output_type": "stream",
     "text": [
      "Designflooring International\n",
      "Designflooring 11\n",
      "Resilient Flooring\n",
      "Palio Clic, Palio Core, Korlok, Van Gogh Rigid Core, Rubens Rigid Core, Van Gogh Rigid Core, Opus.\n",
      "IACG-66-02-05A-2021\n",
      "http://www.designflooring.com/\n"
     ]
    },
    {
     "name": "stderr",
     "output_type": "stream",
     "text": [
      "C:\\Users\\USER\\AppData\\Local\\Temp\\ipykernel_35348\\2064196938.py:79: FutureWarning: The frame.append method is deprecated and will be removed from pandas in a future version. Use pandas.concat instead.\n",
      "  gc = gc.append(Dic, ignore_index=True)\n"
     ]
    },
    {
     "name": "stdout",
     "output_type": "stream",
     "text": [
      "DONGGUAN TAIHO PAINT PRODUCTS CO., LTD\n",
      "Wall Paint and Wall Primers\n",
      "Wall Paints\n",
      "TAIHO Gold Grade 7+1 Wall Paint (Honorable), TAIHO double ion anti-formaldehyde All in 1 children's paint, Gold 7+1 Eco-Sense bamboo All in 1 wallpaint, Gold 7+1 Eco-Sense anti-formaldehyde All in 1 wallpaint, Jiewuli Eco-Sense bamboo anti-formaldehyde All in 1 wallpaint, Jiewuli Eco-Sense white 5 in 1 wallpaint, Jiewuli Eco-Sense bamboo 5 in 1 wallpaint, Jiewuli Eco-Sense anti-formaldehyde 5 in 1 wallpaint, Dream childhood healthy children's wallpaint, Taijieli Eco-Sense sliver antibacterial All in 1 wallpaint, Taijieli Eco-Sense sliver antibacterial 5 in 1 wallpaint, Baotaili Eco-Sense Diatomite odorless wallpaint, Baotaili Eco-Sense white odorless wallpaint, Baotaili Eco-Sense bamboo Pure clean wallpaint, Lingchun+ Eco-Sense Diatomite anti-formaldehyde odorless wallpaint, Lingchun+ Eco-Sense bamboo odorless wallpaint, Lingchun+ Eco-Sense white odorless wallpaint, Lingchun+ Eco-Sense Repainting wallpaint, Health wallpaint, High Quality wallpaint, Wall Primer, Velvet eggshell wallpaint, Antiviral ALL IN ONE wallpaint, Lingchun+botanical antibacterial wall paint, Special anion wallpaint, Inorganic antibacterial wallpaint\n",
      "IACG-394-01-01-2021\n",
      "http://www.taihogroup.com/Index/show/cid/88.html\n"
     ]
    },
    {
     "name": "stderr",
     "output_type": "stream",
     "text": [
      "C:\\Users\\USER\\AppData\\Local\\Temp\\ipykernel_35348\\2064196938.py:79: FutureWarning: The frame.append method is deprecated and will be removed from pandas in a future version. Use pandas.concat instead.\n",
      "  gc = gc.append(Dic, ignore_index=True)\n"
     ]
    },
    {
     "name": "stdout",
     "output_type": "stream",
     "text": [
      "Druckfarben Hellas S.A.\n",
      "KRAFT Indoor Air Quality Wall Paints\n",
      "Wall Paints\n",
      "Energy Save Interior, Master Base A, Master Base D, Master Base P, Master Base T, Master Eco Base A, Master Eco Base D, Master Eco Base P, Master Eco Base T, Master Eco White, Master Hydrocontrol, Master Hydrocontrol Base P, Master White\n",
      "IAC-348-01-01-2022\n",
      "http://www.druckfarben.gr/\n"
     ]
    },
    {
     "name": "stderr",
     "output_type": "stream",
     "text": [
      "C:\\Users\\USER\\AppData\\Local\\Temp\\ipykernel_35348\\2064196938.py:79: FutureWarning: The frame.append method is deprecated and will be removed from pandas in a future version. Use pandas.concat instead.\n",
      "  gc = gc.append(Dic, ignore_index=True)\n"
     ]
    },
    {
     "name": "stdout",
     "output_type": "stream",
     "text": [
      "Druckfarben Hellas S.A.\n",
      "KRAFT Gold Family Indoor Air Quality Wall Paints and Primers\n",
      "Wall Paints\n",
      "Asepsis Base P, Asepsis White, Eco Dur Aqua, Eco Stain Blocker Aqua, Haft, KRAFT MASTER Clean AIR, Master Easy Clean Base A, Master Easy Clean Base D, Master Easy Clean Base P, Master Easy Clean White\n",
      "IACG-348-01-03-2022\n",
      "http://www.druckfarben.gr/\n"
     ]
    },
    {
     "name": "stderr",
     "output_type": "stream",
     "text": [
      "C:\\Users\\USER\\AppData\\Local\\Temp\\ipykernel_35348\\2064196938.py:79: FutureWarning: The frame.append method is deprecated and will be removed from pandas in a future version. Use pandas.concat instead.\n",
      "  gc = gc.append(Dic, ignore_index=True)\n"
     ]
    },
    {
     "name": "stdout",
     "output_type": "stream",
     "text": [
      "Ecophon Super G\n",
      "Ecophon Solo\n",
      "Acoustic ceilings\n",
      "Products with item number starting with 37: Super G A 20mm, Super G A 35mm, Super G A Plus, Super G B, Super G SQ\n",
      "IACG-400-11-28-2020\n",
      "https://www.ecophon.com/en/products/modular-ceilings/super-g/\n"
     ]
    },
    {
     "name": "stderr",
     "output_type": "stream",
     "text": [
      "C:\\Users\\USER\\AppData\\Local\\Temp\\ipykernel_35348\\2064196938.py:79: FutureWarning: The frame.append method is deprecated and will be removed from pandas in a future version. Use pandas.concat instead.\n",
      "  gc = gc.append(Dic, ignore_index=True)\n"
     ]
    },
    {
     "name": "stdout",
     "output_type": "stream",
     "text": [
      "Ecophon Super G\n",
      "Ecophon Hygiene\n",
      "Acoustic ceilings\n",
      "Products with item number starting with 37: Hygiene Protec Ds, Hygiene Protec Air A 20mm, Hygiene Protec Air A 40mm, Hygiene Protec A, Hygiene Performance Plus A 20mm, Hygiene Performance Plus A 40mm, Hygiene Performance Wall, Hygiene Performance A 20mm, Hygiene Performance A 40mm, Hygiene Meditec A, Hygiene Meditec A 20mm, Hygiene Meditec, Hygiene Performance Care Wall, Hygiene Performance Baffle, Hygiene Clinic A, Hygiene Clinic E.\n",
      "IACG-400-11-29-2020\n",
      "https://www.ecophon.com/en/products/modular-ceilings/hygiene/\n"
     ]
    },
    {
     "name": "stderr",
     "output_type": "stream",
     "text": [
      "C:\\Users\\USER\\AppData\\Local\\Temp\\ipykernel_35348\\2064196938.py:79: FutureWarning: The frame.append method is deprecated and will be removed from pandas in a future version. Use pandas.concat instead.\n",
      "  gc = gc.append(Dic, ignore_index=True)\n"
     ]
    },
    {
     "name": "stdout",
     "output_type": "stream",
     "text": [
      "Ecophon Super G\n",
      "Ecophon Industry\n",
      "Acoustic ceilings\n",
      "Products with item number starting with 37: Industry Modus S (White), Industry Modus S (Black 970) 40mm, Industry Modus S (Black 970) 50mm, Industry Modus S (Grey 981), Industry Modus TAL 30mm, Industry Modus TAL 50mm, Industry Ambit, Industry RTP 30mm, Industry RTP 50mm, Industry TAL Big Size 20mm, Industry TAL Big Size 40mm.\n",
      "IACG-400-11-32-2020\n",
      "https://www.ecophon.com/en\n"
     ]
    },
    {
     "name": "stderr",
     "output_type": "stream",
     "text": [
      "C:\\Users\\USER\\AppData\\Local\\Temp\\ipykernel_35348\\2064196938.py:79: FutureWarning: The frame.append method is deprecated and will be removed from pandas in a future version. Use pandas.concat instead.\n",
      "  gc = gc.append(Dic, ignore_index=True)\n"
     ]
    },
    {
     "name": "stdout",
     "output_type": "stream",
     "text": [
      "Ecophon Super G\n",
      "Ecophon Cadence\n",
      "Acoustic ceilings\n",
      "Products with item number starting with 37: Cadence A\n",
      "IACG-400-11-34-2020\n",
      "https://www.ecophon.com/en\n"
     ]
    },
    {
     "name": "stderr",
     "output_type": "stream",
     "text": [
      "C:\\Users\\USER\\AppData\\Local\\Temp\\ipykernel_35348\\2064196938.py:79: FutureWarning: The frame.append method is deprecated and will be removed from pandas in a future version. Use pandas.concat instead.\n",
      "  gc = gc.append(Dic, ignore_index=True)\n"
     ]
    },
    {
     "name": "stdout",
     "output_type": "stream",
     "text": [
      "Ecophon Super G\n",
      "Ecophon Sombra\n",
      "Acoustic ceilings\n",
      "Products with item number starting with 37: Sombra A\n",
      "IACG-400-11-35-2020\n",
      "https://www.ecophon.com/en/products/modular-ceilings/sombra/\n"
     ]
    },
    {
     "name": "stderr",
     "output_type": "stream",
     "text": [
      "C:\\Users\\USER\\AppData\\Local\\Temp\\ipykernel_35348\\2064196938.py:79: FutureWarning: The frame.append method is deprecated and will be removed from pandas in a future version. Use pandas.concat instead.\n",
      "  gc = gc.append(Dic, ignore_index=True)\n"
     ]
    },
    {
     "name": "stdout",
     "output_type": "stream",
     "text": [
      "Edel Carpets\n",
      "Edel Group PA 6.6\n",
      "Textile Flooring\n",
      "1461 Bellezza 1907 Wild Romance 1912 Vivaldi 2028 Tamino 2087 Chavelli 2165 Aurora 2173 Vanity 2181 Mirage 2188 Charisma 2204 Affection 2239 Zita 2247 Adoration 2252 Ambition 2267 Zeal 2301 Honesty 2305 Compact Zita 2333 Luna\n",
      "IACG-378-01-01-2022\n",
      "https://www.edelcarpets.com/\n"
     ]
    },
    {
     "name": "stderr",
     "output_type": "stream",
     "text": [
      "C:\\Users\\USER\\AppData\\Local\\Temp\\ipykernel_35348\\2064196938.py:79: FutureWarning: The frame.append method is deprecated and will be removed from pandas in a future version. Use pandas.concat instead.\n",
      "  gc = gc.append(Dic, ignore_index=True)\n"
     ]
    },
    {
     "name": "stdout",
     "output_type": "stream",
     "text": [
      "Edel Carpets\n",
      "Edel Group PA 6\n",
      "Textile Flooring\n",
      "1561 Gloss 2243 Breeze 2272 Whisper 2273 Cloud 2281 Serene 2285 Twister 2337 Aspiration Aurelius 2343 Whoop 2345 Aspiration Gaia 2361 Victory 2368 Aspiration Vintage 2369 Aspiration Diamond\n",
      "IACG-378-01-02-2022\n",
      "https://www.edelcarpets.com/\n"
     ]
    },
    {
     "name": "stderr",
     "output_type": "stream",
     "text": [
      "C:\\Users\\USER\\AppData\\Local\\Temp\\ipykernel_35348\\2064196938.py:79: FutureWarning: The frame.append method is deprecated and will be removed from pandas in a future version. Use pandas.concat instead.\n",
      "  gc = gc.append(Dic, ignore_index=True)\n"
     ]
    },
    {
     "name": "stdout",
     "output_type": "stream",
     "text": [
      "Edel Carpets\n",
      "Edel Carpets Wool & Woolblends\n",
      "Textile Flooring\n",
      "1455 Burford Bridge 1459 Bakerloo 1472 Chelsea 1555 Centre-point 1666 Lawrence 1684 Mainline 1731 Paddington 1734 Piccadilly 2020 Barbican 2163 London Bridge 2171 Hoxton 2176 Diversity 2190 King's Cross 2251 Primrose Hill 2291 Rya 2299 Cormo 1889 Greenwich 1910 Windsor 2280 Eton Blenheim Tauranga Nelson\n",
      "IACG-378-01-03-2022\n",
      "https://www.edelcarpets.com/\n"
     ]
    },
    {
     "name": "stderr",
     "output_type": "stream",
     "text": [
      "C:\\Users\\USER\\AppData\\Local\\Temp\\ipykernel_35348\\2064196938.py:79: FutureWarning: The frame.append method is deprecated and will be removed from pandas in a future version. Use pandas.concat instead.\n",
      "  gc = gc.append(Dic, ignore_index=True)\n"
     ]
    },
    {
     "name": "stdout",
     "output_type": "stream",
     "text": [
      "Ege Carpets a/s\n",
      "Group 16\n",
      "Textile Flooring\n",
      "Colortec/Graphic 1100 – 1500 SDN LF Colortec/Graphic 1100 – 1500 SDN LT\n",
      "IACG-27-08-16-2020\n",
      "https://www.egecarpets.com/\n"
     ]
    },
    {
     "name": "stderr",
     "output_type": "stream",
     "text": [
      "C:\\Users\\USER\\AppData\\Local\\Temp\\ipykernel_35348\\2064196938.py:79: FutureWarning: The frame.append method is deprecated and will be removed from pandas in a future version. Use pandas.concat instead.\n",
      "  gc = gc.append(Dic, ignore_index=True)\n"
     ]
    },
    {
     "name": "stdout",
     "output_type": "stream",
     "text": [
      "25\n",
      "Ege Carpets a/s\n",
      "Group 17\n",
      "Textile Flooring\n",
      "Colortec/Graphic 1100 – 1800 80/20 LF Colortec/Graphic 1100 – 1800 80/20 LT\n",
      "IACG-27-08-17-2020\n",
      "https://www.egecarpets.com/\n"
     ]
    },
    {
     "name": "stderr",
     "output_type": "stream",
     "text": [
      "C:\\Users\\USER\\AppData\\Local\\Temp\\ipykernel_35348\\2064196938.py:79: FutureWarning: The frame.append method is deprecated and will be removed from pandas in a future version. Use pandas.concat instead.\n",
      "  gc = gc.append(Dic, ignore_index=True)\n"
     ]
    },
    {
     "name": "stdout",
     "output_type": "stream",
     "text": [
      "Ege Carpets A/S\n",
      "Group 3\n",
      "Textile Flooring\n",
      "ReForm Calico WT, Tuft 950 WT, Tuft 440 WT, Contract 2018 WT, Highline Carré WT, Highline 630 WT, Highline 750 WT, Highline 910 WT, Highline 1100 WT, Highline 911 WT, Highline 1101 WT, Tuft 650 WT, Highline loop WT, Create, Tuft 950 AB, Tuft 440 AB, Highline Carré AB, Highline 630 AB, Highline 750 AB, Highline 910 AB, Highline 1100 AB, Highline 911 AB, Highline 1101 AB, Tuft 650 AB, Highline loop AB, ReForm Flux ECT350, ReForm Calico ECT350, Reform Calico ECC300, Tuft 440 ECC300, Tuft 650 ECC300, Tuft 950 ECC300, Tuft 440 ECT350, Tuft 950 ECT350, Highline Carré ECT350, Highline 630 ECT350, Highline 1100 ECT350, Highline 750 ECT350, Highline loop ECT350, Una Ground Control IP, Una Tempo WT, Una Tempo ECT350, Una Tempo ECC300, Una Tempo Stripe WT, Una Tempo Stripe ECT350, Una Tempo Stripe ECC300, Tuft 650 ECT350, Epoca Contra ECT350, Epoca Contra Stripe ECT350, Epoca Silky ECT350, Epoca Classic ECT350, Una Ground Control IPA\n",
      "IACG-28-01-03-2021\n",
      "https://www.egecarpets.com/\n"
     ]
    },
    {
     "name": "stderr",
     "output_type": "stream",
     "text": [
      "C:\\Users\\USER\\AppData\\Local\\Temp\\ipykernel_35348\\2064196938.py:79: FutureWarning: The frame.append method is deprecated and will be removed from pandas in a future version. Use pandas.concat instead.\n",
      "  gc = gc.append(Dic, ignore_index=True)\n"
     ]
    },
    {
     "name": "stdout",
     "output_type": "stream",
     "text": [
      "Ege Carpets A/S\n",
      "Group 4\n",
      "Textile Flooring\n",
      "Highline 80/20 1100 WT, Highline 80/20 1100 AB, Highline 80/20 1400 WT, Highline 80/20 1400 AB, Highline 80/20 1900 WT, Highline 80/20 1900 AB, Highline 80/20 1400 ECT350\n",
      "IACG-28-01-04-2021\n",
      "https://www.egecarpets.com/\n"
     ]
    },
    {
     "name": "stderr",
     "output_type": "stream",
     "text": [
      "C:\\Users\\USER\\AppData\\Local\\Temp\\ipykernel_35348\\2064196938.py:79: FutureWarning: The frame.append method is deprecated and will be removed from pandas in a future version. Use pandas.concat instead.\n",
      "  gc = gc.append(Dic, ignore_index=True)\n"
     ]
    },
    {
     "name": "stdout",
     "output_type": "stream",
     "text": [
      "Ege Carpets A/S\n",
      "Group 5\n",
      "Textile Flooring\n",
      "Tuft 950 WTA Tuft 440 WTA Contract 2018 WTA Highline 630 WTA Highline 750 WTA Highline 910 WTA Highline 1100 WTA Highline 911 WTA, Highline 1101 WTA, Tuft 650 WTA, Highline loop WTA, Tuft 440 ABA, Tuft 950 ABA, Highline 630 ABA, Highline 750 ABA, Highline 910 ABA, Highline 1100 ABA, Highline 911 ABA, Highline 1101 ABA, Tuft 650 ABA, Highline loop ABA, Tuft 950 ECT350A, Tuft 440 ECT350A, Highline 630 ECT350A, Highline 1100 ECT350A, Highline 750 ECT350A, Highline loop ECT350A, Una Tempo WTA, Una Tempo ECT350A, Una Tempo Stripe WTA, Una Tempo Stripe ECT350A, Tuft 650 ECT350A, Contra ECT350A, Contra Stripe ECT350A, Epoca Classic ECT350A, Epoca Silky ECT350A, ReForm Calico WTA, Highline Carré WTA, Highline Carré ABA, ReForm Flux ECT350A, ReForm Calico ECT350A, Reform Calico ECC300A, Tuft 440 ECC300A, Tuft 650 ECC300A, Tuft 950 ECC300A, Highline Carré ECT350A.\n",
      "IACG-28-01-05-2021\n",
      "https://www.egecarpets.com/\n"
     ]
    },
    {
     "name": "stderr",
     "output_type": "stream",
     "text": [
      "C:\\Users\\USER\\AppData\\Local\\Temp\\ipykernel_35348\\2064196938.py:79: FutureWarning: The frame.append method is deprecated and will be removed from pandas in a future version. Use pandas.concat instead.\n",
      "  gc = gc.append(Dic, ignore_index=True)\n"
     ]
    },
    {
     "name": "stdout",
     "output_type": "stream",
     "text": [
      "Ege Carpets A/S\n",
      "Group 6\n",
      "Textile Flooring\n",
      "Epoca Family, Epoca Gloss, Epoca Hercules, Epoca Royal Duo, Epoca Signo, Epoca Square Duo, Epoca Classic CL\n",
      "IACG-28-02-06-2021\n",
      "https://www.egecarpets.com/\n"
     ]
    },
    {
     "name": "stderr",
     "output_type": "stream",
     "text": [
      "C:\\Users\\USER\\AppData\\Local\\Temp\\ipykernel_35348\\2064196938.py:79: FutureWarning: The frame.append method is deprecated and will be removed from pandas in a future version. Use pandas.concat instead.\n",
      "  gc = gc.append(Dic, ignore_index=True)\n"
     ]
    },
    {
     "name": "stdout",
     "output_type": "stream",
     "text": [
      "Ege Carpets A/S\n",
      "Group 7\n",
      "Textile Flooring\n",
      "Epoca Contra WT, Epoca Contra Stripe WT, Epoca Texture WT, Epoca Texture 2000 WT, Epoca Silky WT, Epoca Classic WT, Epoca Frame WT, Epoca Frame ECC300, Epoca Moss ECC300, Epoca Moss WT, Epoca Texture ECC300, Epoca Texture 2000 ECC300, Epoca Silky ECC300, Epoca Classic ECC300, Soft Dreams Lux CF\n",
      "IACG-28-02-07-2021\n",
      "https://www.egecarpets.com/\n"
     ]
    },
    {
     "name": "stderr",
     "output_type": "stream",
     "text": [
      "C:\\Users\\USER\\AppData\\Local\\Temp\\ipykernel_35348\\2064196938.py:79: FutureWarning: The frame.append method is deprecated and will be removed from pandas in a future version. Use pandas.concat instead.\n",
      "  gc = gc.append(Dic, ignore_index=True)\n"
     ]
    },
    {
     "name": "stdout",
     "output_type": "stream",
     "text": [
      "Ege Carpets A/S\n",
      "Group 8\n",
      "Textile Flooring\n",
      "Epoca Ribs WTA Epoca Frame WTA Epoca Chess WTA Epoca Ribs ECC300A\n",
      "IACG-28-02-08-2019\n",
      "https://www.egecarpets.com/\n"
     ]
    },
    {
     "name": "stderr",
     "output_type": "stream",
     "text": [
      "C:\\Users\\USER\\AppData\\Local\\Temp\\ipykernel_35348\\2064196938.py:79: FutureWarning: The frame.append method is deprecated and will be removed from pandas in a future version. Use pandas.concat instead.\n",
      "  gc = gc.append(Dic, ignore_index=True)\n"
     ]
    },
    {
     "name": "stdout",
     "output_type": "stream",
     "text": [
      "Ege Carpets A/S\n",
      "Group 9\n",
      "Textile Flooring\n",
      "Epoca Compact WTA, Epoca Pro WTA, Epoca Structure WTA, Epoca Knit WTA, Epoca Profile WTA, Epoca Rustic WTA, Rawline WTA, Una Micro WTA, Epoca Pro ECC300A, Epoca Compact ECC300A, Epoca Structure ECC300A, Epoca Rustic ECC300A, Epoca Profile ECT350A, Epoca Knit ECT350A, Una Micro ECC300A, Una Micro ECT350A, Una Micro Stripe ECT350A, Epoca Rustic ECT350A, Rawline ECT350A, Una Brick WTA, Una Brick ECT350A, Epoca Compact ECC550A og Eco Pro ECC550A, Epoca Compact ECC550A og Eco Compact ECC550A, Epoca Compact ECC550A og Eco Structure ECC55A, Rawline ECC300A, Epoca Rustic ECC550A og Eco Rustic ECC550A, Una Brick ECC300A, Eco Tec WTA, Eco Syn WTA, Eco Zen WTA, Eco Roc WTA, Eco Iqu WTA, Eco IquS WTA, Eco Fields WTA, Eco Roc ECT350A, Eco Iqu ECT350A, Eco IquS ECT350A, Eco Fields ECT350A, Eco Tec ECC550A, Eco Syn ECC550A, Eco Zen ECC550A, Eco Roc ECC550A, Eco Iqu ECC550A, Eco IquS ECC550A, Eco Fields ECC550A\n",
      "IACG-28-02-09-2021\n",
      "https://www.egecarpets.com/\n"
     ]
    },
    {
     "name": "stderr",
     "output_type": "stream",
     "text": [
      "C:\\Users\\USER\\AppData\\Local\\Temp\\ipykernel_35348\\2064196938.py:79: FutureWarning: The frame.append method is deprecated and will be removed from pandas in a future version. Use pandas.concat instead.\n",
      "  gc = gc.append(Dic, ignore_index=True)\n"
     ]
    },
    {
     "name": "stdout",
     "output_type": "stream",
     "text": [
      "Ege Carpets A/S\n",
      "Group 14\n",
      "Textile Flooring\n",
      "Epoca Compact WT og Eco Compact WT, Epoca Pro WT og Eco Pro WT, Epoca Structure WT og Eco Structure WT, Epoca Knit WT og Eco Knit WT, Epoca Profile WT og Eco Profile WT, Epoca Rustic WT og Eco Rustic WT, Raw WT, Rawline WT, Una Micro WT, Epoca Compact ECC550 og Eco Pro ECC550, Epoca Compact ECC550 og Eco Compact ECC550, Epoca Compact ECC550 og Eco Structure ECC550, Rawline ECC300, Epoca Rustic ECC550 og Eco Rustic ECC550, Epoca Profile ECT350 og Eco Profile ECT350, Epoca Knit ECT350 og Eco Knit ECT350, Una Micro ECC300, Epoca Structure Home ECC300, Una Micro ECT350, Una Micro Stripe ECT350, Una Brick ECC300, Epoca Rustic ECT350 og Eco Rustic ECT350, Rawline ECT350, Eco Tec WT, Eco Syn WT, Eco Zen WT, Eco Roc WT, Eco Iqu WT, Eco IquS WT, Eco Fields WT, Eco Roc ECT350, Eco Iqu ECT350, Eco IquS ECT350, Eco Fields ECT350, Eco Tec ECC550, Eco Syn ECC550, Eco Zen ECC550, Eco Roc ECC550, Eco Iqu ECC550, Eco IquS ECC550, Eco Fields ECC550, Una Brick WT, Una Brick ECT350\n",
      "IACG-28-02-14-2021\n",
      "https://www.egecarpets.com/\n"
     ]
    },
    {
     "name": "stderr",
     "output_type": "stream",
     "text": [
      "C:\\Users\\USER\\AppData\\Local\\Temp\\ipykernel_35348\\2064196938.py:79: FutureWarning: The frame.append method is deprecated and will be removed from pandas in a future version. Use pandas.concat instead.\n",
      "  gc = gc.append(Dic, ignore_index=True)\n"
     ]
    },
    {
     "name": "stdout",
     "output_type": "stream",
     "text": [
      "Ege Carpets A/S\n",
      "Group 15\n",
      "Textile Flooring\n",
      "Cantana Square, Cantana Dubio, Cantana Focus, Cantana Loop, Cantana Pontos\n",
      "IACG-28-02-15-2021\n",
      "https://www.egecarpets.com/\n"
     ]
    },
    {
     "name": "stderr",
     "output_type": "stream",
     "text": [
      "C:\\Users\\USER\\AppData\\Local\\Temp\\ipykernel_35348\\2064196938.py:79: FutureWarning: The frame.append method is deprecated and will be removed from pandas in a future version. Use pandas.concat instead.\n",
      "  gc = gc.append(Dic, ignore_index=True)\n"
     ]
    },
    {
     "name": "stdout",
     "output_type": "stream",
     "text": [
      "Elegant Home-Tech Co., Ltd.\n",
      "PVC Flooring Click 4.0 – 5.0 mm, Dry Back 2.0 – 3.2 mm and Loose Lay 5.0 mm\n",
      "Resilient Flooring\n",
      "PVC Flooring Click 4.0 – 5.0 mm, Dry Back 2.0 – 3.2 mm and Loose Lay 5.0 mm\n",
      "IACG-334-01-01-2021\n",
      "http://www.eletile.com/\n"
     ]
    },
    {
     "name": "stderr",
     "output_type": "stream",
     "text": [
      "C:\\Users\\USER\\AppData\\Local\\Temp\\ipykernel_35348\\2064196938.py:79: FutureWarning: The frame.append method is deprecated and will be removed from pandas in a future version. Use pandas.concat instead.\n",
      "  gc = gc.append(Dic, ignore_index=True)\n"
     ]
    },
    {
     "name": "stdout",
     "output_type": "stream",
     "text": [
      "Elegant Home-Tech Co., Ltd.\n",
      "RCB Click 6.5 – 10.5 mm\n",
      "Resilient Flooring\n",
      "RCB Click 6.5 – 10.5 mm\n",
      "IACG-334-01-02-2021\n",
      "http://www.eletile.com/\n"
     ]
    },
    {
     "name": "stderr",
     "output_type": "stream",
     "text": [
      "C:\\Users\\USER\\AppData\\Local\\Temp\\ipykernel_35348\\2064196938.py:79: FutureWarning: The frame.append method is deprecated and will be removed from pandas in a future version. Use pandas.concat instead.\n",
      "  gc = gc.append(Dic, ignore_index=True)\n"
     ]
    },
    {
     "name": "stdout",
     "output_type": "stream",
     "text": [
      "Elegant Home-Tech Co., Ltd.\n",
      "SPC Click 5.0 – 7.0 mm\n",
      "Resilient Flooring\n",
      "SPC Click 5.0 – 7.0 mm\n",
      "IACG-334-01-03-2021\n",
      "http://www.eletile.com/\n"
     ]
    },
    {
     "name": "stderr",
     "output_type": "stream",
     "text": [
      "C:\\Users\\USER\\AppData\\Local\\Temp\\ipykernel_35348\\2064196938.py:79: FutureWarning: The frame.append method is deprecated and will be removed from pandas in a future version. Use pandas.concat instead.\n",
      "  gc = gc.append(Dic, ignore_index=True)\n"
     ]
    },
    {
     "name": "stdout",
     "output_type": "stream",
     "text": [
      "Elegant Home-Tech Co., Ltd.\n",
      "Seta Grip / Allure Contact / QuickGrip 3.0 - 5.0 mm\n",
      "Resilient Flooring\n",
      "Seta Grip / Allure Contact / QuickGrip 3.0 - 5.0 mm\n",
      "IACG-334-01-04-2021\n",
      "http://www.eletile.com/\n"
     ]
    },
    {
     "name": "stderr",
     "output_type": "stream",
     "text": [
      "C:\\Users\\USER\\AppData\\Local\\Temp\\ipykernel_35348\\2064196938.py:79: FutureWarning: The frame.append method is deprecated and will be removed from pandas in a future version. Use pandas.concat instead.\n",
      "  gc = gc.append(Dic, ignore_index=True)\n"
     ]
    },
    {
     "name": "stdout",
     "output_type": "stream",
     "text": [
      "EnDesign Limited\n",
      "Inzpyra\n",
      "Resilient Flooring\n",
      "Inzpyra 20-03 Inzpyra 25-05\n",
      "IACG-35-09-02B-2021\n",
      "https://mflor.com/en\n"
     ]
    },
    {
     "name": "stderr",
     "output_type": "stream",
     "text": [
      "C:\\Users\\USER\\AppData\\Local\\Temp\\ipykernel_35348\\2064196938.py:79: FutureWarning: The frame.append method is deprecated and will be removed from pandas in a future version. Use pandas.concat instead.\n",
      "  gc = gc.append(Dic, ignore_index=True)\n"
     ]
    },
    {
     "name": "stdout",
     "output_type": "stream",
     "text": [
      "EnDesign Limited\n",
      "SOLCORA\n",
      "Resilient Flooring\n",
      "Solcora 40-03 Solcora 40-05 Solcora 45-05 Solcora with foam backing 50-05 Solcora Silence 70-05\n",
      "IACG-35-09-09B-2021\n",
      "https://mflor.com/en\n"
     ]
    },
    {
     "name": "stderr",
     "output_type": "stream",
     "text": [
      "C:\\Users\\USER\\AppData\\Local\\Temp\\ipykernel_35348\\2064196938.py:79: FutureWarning: The frame.append method is deprecated and will be removed from pandas in a future version. Use pandas.concat instead.\n",
      "  gc = gc.append(Dic, ignore_index=True)\n"
     ]
    },
    {
     "name": "stdout",
     "output_type": "stream",
     "text": [
      "Epufloor Sp. z o. o.\n",
      "Epufloor Rubber Extra Hard Color\n",
      "Rubber Flooring\n",
      "\n",
      "IACG-389-01-01-2021\n",
      "https://www.epufloor.pl/\n"
     ]
    },
    {
     "name": "stderr",
     "output_type": "stream",
     "text": [
      "C:\\Users\\USER\\AppData\\Local\\Temp\\ipykernel_35348\\2064196938.py:79: FutureWarning: The frame.append method is deprecated and will be removed from pandas in a future version. Use pandas.concat instead.\n",
      "  gc = gc.append(Dic, ignore_index=True)\n"
     ]
    },
    {
     "name": "stdout",
     "output_type": "stream",
     "text": [
      "Epufloor Sp. z o. o.\n",
      "Epufloor Rubber Hard Color\n",
      "Resilient Flooring\n",
      "\n",
      "IACG-389-01-02-2021\n",
      "https://www.epufloor.pl/\n"
     ]
    },
    {
     "name": "stderr",
     "output_type": "stream",
     "text": [
      "C:\\Users\\USER\\AppData\\Local\\Temp\\ipykernel_35348\\2064196938.py:79: FutureWarning: The frame.append method is deprecated and will be removed from pandas in a future version. Use pandas.concat instead.\n",
      "  gc = gc.append(Dic, ignore_index=True)\n"
     ]
    },
    {
     "name": "stdout",
     "output_type": "stream",
     "text": [
      "Erismann & Cie GmbH Tapetenfabrik\n",
      "Strukturtapeten\n",
      "Wall Papers\n",
      "\n",
      "IACG-53-01-01-2021\n",
      "https://www.erismann.de/en\n"
     ]
    },
    {
     "name": "stderr",
     "output_type": "stream",
     "text": [
      "C:\\Users\\USER\\AppData\\Local\\Temp\\ipykernel_35348\\2064196938.py:79: FutureWarning: The frame.append method is deprecated and will be removed from pandas in a future version. Use pandas.concat instead.\n",
      "  gc = gc.append(Dic, ignore_index=True)\n"
     ]
    },
    {
     "name": "stdout",
     "output_type": "stream",
     "text": [
      "Erismann & Cie GmbH Tapetenfabrik\n",
      "Vinylprägetapeten\n",
      "Wall Papers\n",
      "\n",
      "IACG-53-01-02-2021\n",
      "https://www.erismann.de/en\n"
     ]
    },
    {
     "name": "stderr",
     "output_type": "stream",
     "text": [
      "C:\\Users\\USER\\AppData\\Local\\Temp\\ipykernel_35348\\2064196938.py:79: FutureWarning: The frame.append method is deprecated and will be removed from pandas in a future version. Use pandas.concat instead.\n",
      "  gc = gc.append(Dic, ignore_index=True)\n"
     ]
    },
    {
     "name": "stdout",
     "output_type": "stream",
     "text": [
      "Erismann & Cie. GmbH Tapetenfabrik\n",
      "Vliesdirektdruck und Papiertapeten\n",
      "Wall Papers\n",
      "\n",
      "IACG-53-01-03-2021\n",
      "https://www.erismann.de/en\n"
     ]
    },
    {
     "name": "stderr",
     "output_type": "stream",
     "text": [
      "C:\\Users\\USER\\AppData\\Local\\Temp\\ipykernel_35348\\2064196938.py:79: FutureWarning: The frame.append method is deprecated and will be removed from pandas in a future version. Use pandas.concat instead.\n",
      "  gc = gc.append(Dic, ignore_index=True)\n"
     ]
    },
    {
     "name": "stdout",
     "output_type": "stream",
     "text": [
      "ESSVE Produkter AB\n",
      "ESS SEAL & BOND\n",
      "Sealants\n",
      "ESS SEAL & BOND, OFF WHITE ESS SEAL & BOND, LJ. GRÅ ESS SEAL & BOND, BET. GRÅ ESS SEAL & BOND, BEIGE ESS SEAL & BOND, BRUN ESS SEAL & BOND, SV ESS SEAL & BOND, MÖRK EK\n",
      "IACG-445-01-01-2021\n",
      "https://www.essve.com/sv/\n"
     ]
    },
    {
     "name": "stderr",
     "output_type": "stream",
     "text": [
      "C:\\Users\\USER\\AppData\\Local\\Temp\\ipykernel_35348\\2064196938.py:79: FutureWarning: The frame.append method is deprecated and will be removed from pandas in a future version. Use pandas.concat instead.\n",
      "  gc = gc.append(Dic, ignore_index=True)\n"
     ]
    },
    {
     "name": "stdout",
     "output_type": "stream",
     "text": [
      "Etex Building Performance S.p.A.\n",
      "Siniat plasterboards\n",
      "Plasterboard\n",
      "AquaBoard® BA13, LaDura® A1 BA13, LaDura® A1 BA15, LaDura® Air BA13, LaDura® Light BA13, LaDura® Plus BA13, LaDura® Plus BA15, LaDura® Vapor BA13, Modulo 60, PregyBoard Italia, Pregydro H2 BA13, Pregydro H2 BA15, PregydroFlam BA13, PregydroFlam BA15, PregydroVapor BA13, PregyDur I BA13, PregyDurWhite BA13, PregyFlam A1 BA13, PregyFlam A1 BA15, PregyFlam BA13, PregyFlam BA15, PregyFlex BA6, PregyPlac A1 BA13, PregyPlac BA10, PregyPlac BA13, PregyPlac BA15, PregyPlac BA18, PregyPlac Plus BA10, PregyPlac Plus BA13, PregySoundBoard BA13, PregyVapor BA10, PregyVapor BA13, Solidtex® Indoor BA13, Solidtex® Outdoor XT BA13, SYNIA Plac 4BA13, WhiteAir BA13, WhiteYdroAir BA13\n",
      "IACG-456-01-02-2022\n",
      "https://www.etexgroup.com/\n"
     ]
    },
    {
     "name": "stderr",
     "output_type": "stream",
     "text": [
      "C:\\Users\\USER\\AppData\\Local\\Temp\\ipykernel_35348\\2064196938.py:79: FutureWarning: The frame.append method is deprecated and will be removed from pandas in a future version. Use pandas.concat instead.\n",
      "  gc = gc.append(Dic, ignore_index=True)\n"
     ]
    },
    {
     "name": "stdout",
     "output_type": "stream",
     "text": [
      "Etex Building Performance S.p.A.\n",
      "Siniat compounds\n",
      "Gypsum compounds\n",
      "P25, P25 EXTRA, P35, E3.0, E6.0, E12.0\n",
      "IACG-456-01-03-2022\n",
      "https://www.etexgroup.com/\n"
     ]
    },
    {
     "name": "stderr",
     "output_type": "stream",
     "text": [
      "C:\\Users\\USER\\AppData\\Local\\Temp\\ipykernel_35348\\2064196938.py:79: FutureWarning: The frame.append method is deprecated and will be removed from pandas in a future version. Use pandas.concat instead.\n",
      "  gc = gc.append(Dic, ignore_index=True)\n"
     ]
    },
    {
     "name": "stdout",
     "output_type": "stream",
     "text": [
      "Etex Building Performance S.p.A.\n",
      "Siniat adhesive\n",
      "Gypsum adhesive\n",
      "P120\n",
      "IACG-456-01-04-2022\n",
      "https://www.etexgroup.com/\n"
     ]
    },
    {
     "name": "stderr",
     "output_type": "stream",
     "text": [
      "C:\\Users\\USER\\AppData\\Local\\Temp\\ipykernel_35348\\2064196938.py:79: FutureWarning: The frame.append method is deprecated and will be removed from pandas in a future version. Use pandas.concat instead.\n",
      "  gc = gc.append(Dic, ignore_index=True)\n"
     ]
    },
    {
     "name": "stdout",
     "output_type": "stream",
     "text": [
      "25\n",
      "FASSA S.r.l.\n",
      "Gypsotech plasterboards according to EN 520\n",
      "Plasterboards\n",
      "GYPSOTECH STD 13, GYPSOTECH STD 15, GYPSOTECH STD ZERO 13, GYPSOTECH STD ZERO 15, GYPSOTECH FOCUS 13, GYPSOTECH FOCUS 15, GYPSOTECH FOCUS ZERO 13, GYPSOTECH FOCUS ZERO 15, GYPSOTECH AQUA 13, GYPSOTECH AQUA 15, GYPSOTECH GYPSOARYA HD 13, GYPSOTECH GYPSOLIGNUM 13, GYPSOTECH GYPSOLIGNUM 15, GYPSOTECH GYPSOLIGNUM ZERO 13, GYPSOTECH STD 6, GYPSOTECH STD 10, GYPSOTECH STD 18, GYPSOTECH FOCUS 20, GYPSOTECH FOCUS ULTRA 25, GYPSOTECH AQUASUPER 10, GYPSOTECH AQUASUPER 13, GYPSOTECH AQUASUPER 15, GYPSOTECH AQUASUPER 18, GYPSOTECH GYPSOHD 13\n",
      "IACG-453-01-01-2022B\n",
      "https://www.fassabortolo.it/\n"
     ]
    },
    {
     "name": "stderr",
     "output_type": "stream",
     "text": [
      "C:\\Users\\USER\\AppData\\Local\\Temp\\ipykernel_35348\\2064196938.py:79: FutureWarning: The frame.append method is deprecated and will be removed from pandas in a future version. Use pandas.concat instead.\n",
      "  gc = gc.append(Dic, ignore_index=True)\n"
     ]
    },
    {
     "name": "stdout",
     "output_type": "stream",
     "text": [
      "FASSA S.r.l.\n",
      "Gypsotech Vapor plasterboards according to EN 14190\n",
      "Plasterboards\n",
      "GYPSOTECH FOCUS VAPOR 13, GYPSOTECH VAPOR 10, GYPSOTECH AQUA VAPOR 13, GYPSOTECH GYPSOARYA HD VAPOR 13, GYPSOTECH GYPSOLIGNUM VAPOR 13, GYPSOTECH VAPOR 13, GYPSOTECH FOCUS VAPOR 15\n",
      "IACG-453-01-02-2022\n",
      "https://www.fassabortolo.it/\n"
     ]
    },
    {
     "name": "stderr",
     "output_type": "stream",
     "text": [
      "C:\\Users\\USER\\AppData\\Local\\Temp\\ipykernel_35348\\2064196938.py:79: FutureWarning: The frame.append method is deprecated and will be removed from pandas in a future version. Use pandas.concat instead.\n",
      "  gc = gc.append(Dic, ignore_index=True)\n"
     ]
    },
    {
     "name": "stdout",
     "output_type": "stream",
     "text": [
      "FASSA S.r.l.\n",
      "Gypsotech joint fillers according to EN 13963\n",
      "Levelling Compounds\n",
      "FASSAFLASH, FASSAJOINT 1H, FASSAJOINT 2H, FASSAJOINT 3H, FASSAJOINT EXTRA, FASSAJOINT IDEAL 3.5, GYPSOMAF\n",
      "IACG-453-01-03-2022B\n",
      "https://www.fassabortolo.it/\n"
     ]
    },
    {
     "name": "stderr",
     "output_type": "stream",
     "text": [
      "C:\\Users\\USER\\AppData\\Local\\Temp\\ipykernel_35348\\2064196938.py:79: FutureWarning: The frame.append method is deprecated and will be removed from pandas in a future version. Use pandas.concat instead.\n",
      "  gc = gc.append(Dic, ignore_index=True)\n"
     ]
    },
    {
     "name": "stdout",
     "output_type": "stream",
     "text": [
      "Fischer Iberica, S.A.\n",
      "Sealants and adhesives based on silan modified polymers SMP\n",
      "Sealants\n",
      "MS Cristal, MS Extreme Tack, MS Liquid, MS Original, MS Profesional Transparente, MS Ultra Express\n",
      "IACG-354-01-01-2021\n",
      "https://www.fischer.es/\n"
     ]
    },
    {
     "name": "stderr",
     "output_type": "stream",
     "text": [
      "C:\\Users\\USER\\AppData\\Local\\Temp\\ipykernel_35348\\2064196938.py:79: FutureWarning: The frame.append method is deprecated and will be removed from pandas in a future version. Use pandas.concat instead.\n",
      "  gc = gc.append(Dic, ignore_index=True)\n"
     ]
    },
    {
     "name": "stdout",
     "output_type": "stream",
     "text": [
      "Fletco Carpets A/S\n",
      "Group C\n",
      "Textile Flooring\n",
      "Pinoflet, Sisalike, Pepito, Lima, Tempi\n",
      "IAC-37-13-03-2021\n",
      "http://www.fletcocarpets.com/\n"
     ]
    },
    {
     "name": "stderr",
     "output_type": "stream",
     "text": [
      "C:\\Users\\USER\\AppData\\Local\\Temp\\ipykernel_35348\\2064196938.py:79: FutureWarning: The frame.append method is deprecated and will be removed from pandas in a future version. Use pandas.concat instead.\n",
      "  gc = gc.append(Dic, ignore_index=True)\n"
     ]
    },
    {
     "name": "stdout",
     "output_type": "stream",
     "text": [
      "Fletco Carpets A/S\n",
      "Group A\n",
      "Textile Flooring\n",
      "Chain, COM 1000, Corduroy, Duo, Ex-dono Weave, Ex-dono Megaweave, Ex-dono Metalweave, Fine Line, Nordic, Nordic Living, Nove, Print Line, Quattro, Space, Uno. Avanti Pixel, Avanti Plain, Couture, Eventi, Ex-dono, Ex-dono Quartet, GLAM, Luxor, Penta EcoTEX, Framework, Presswork/Essential, Zenith. WEB CODE, WEB PIX, WEB UNI, Web Rips One, Web Rips Two, Web Rips Structure, Silky Seal, Smoozy.\n",
      "IACG-37-13-01-2021\n",
      "http://www.fletcocarpets.com/\n"
     ]
    },
    {
     "name": "stderr",
     "output_type": "stream",
     "text": [
      "C:\\Users\\USER\\AppData\\Local\\Temp\\ipykernel_35348\\2064196938.py:79: FutureWarning: The frame.append method is deprecated and will be removed from pandas in a future version. Use pandas.concat instead.\n",
      "  gc = gc.append(Dic, ignore_index=True)\n"
     ]
    },
    {
     "name": "stdout",
     "output_type": "stream",
     "text": [
      "Fletco Carpets A/S\n",
      "Group E\n",
      "Textile Flooring\n",
      "Classic Weave TEXtiles, COM 1000 TEXtiles, Nordic TEXtiles, Nordic Living TEXtiles, Print Line TEXtiles, Space TEXtiles, Weave TEXtiles, Ex-dono Quartet TEXtiles, Eventi EcoTiles, Framework EcoTiles, Penta EcoTiles, Presswork EcoTiles, Presswork TEXtiles, Symphony TEXtiles, Zenith TEXtiles, SL WEB CODE, SL WEB UNI, SL WEB PIX.\n",
      "IACG-37-13-05-2021\n",
      "http://www.fletcocarpets.com/\n"
     ]
    },
    {
     "name": "stderr",
     "output_type": "stream",
     "text": [
      "C:\\Users\\USER\\AppData\\Local\\Temp\\ipykernel_35348\\2064196938.py:79: FutureWarning: The frame.append method is deprecated and will be removed from pandas in a future version. Use pandas.concat instead.\n",
      "  gc = gc.append(Dic, ignore_index=True)\n"
     ]
    },
    {
     "name": "stdout",
     "output_type": "stream",
     "text": [
      "Flo.it\n",
      "Engineered oak Flooring / Pavimento ingegnerizzato in rovere\n",
      "Wooden flooring\n",
      "Uncoated 2-layers, thickness from 10 to 18 mm (AB, K, KR, R, SR); Uncoated 3-layers, thickness 20 mm (AB, K, KR, R, SR); Coated 2-layers, thickness from 10 to 18 mm (AB, K, KR, R, SR); Coated 3-layers, thickness 20 mm (AB, K, KR, R, SR)\n",
      "IACG-363-01-01-2021\n",
      "https://www.florianinc.com/it/\n"
     ]
    },
    {
     "name": "stderr",
     "output_type": "stream",
     "text": [
      "C:\\Users\\USER\\AppData\\Local\\Temp\\ipykernel_35348\\2064196938.py:79: FutureWarning: The frame.append method is deprecated and will be removed from pandas in a future version. Use pandas.concat instead.\n",
      "  gc = gc.append(Dic, ignore_index=True)\n"
     ]
    },
    {
     "name": "stdout",
     "output_type": "stream",
     "text": [
      "Floorcoat A/S\n",
      "Floorcoat Professional Laquer Products\n",
      "Wood Coatings\n",
      "Floorcoat FC26, Floorcoat FC66, Floorcoat FC65 2K, FC16, Wood Cover, Floorcoat FC4, Floorcoat FC48, Floorcoat FC62, Floorcoat FC82 2K, Floorcoat FC84 2K, Floorcoat FC88 2K.\n",
      "IAC-372-01-01-2021\n",
      "https://floorcoat.eu/\n"
     ]
    },
    {
     "name": "stderr",
     "output_type": "stream",
     "text": [
      "C:\\Users\\USER\\AppData\\Local\\Temp\\ipykernel_35348\\2064196938.py:79: FutureWarning: The frame.append method is deprecated and will be removed from pandas in a future version. Use pandas.concat instead.\n",
      "  gc = gc.append(Dic, ignore_index=True)\n"
     ]
    },
    {
     "name": "stdout",
     "output_type": "stream",
     "text": [
      "Forbo Flooring GmbH\n",
      "LVT and Design sheet\n",
      "Resilient Flooring\n",
      "Eternal, Eternal Original, Surestep, Surestep Design, Surestep Barefoot, Safestep, Safestep Aqua, Safestep R 11, Safestep R 12, Allura Dryback, Allura Flex, Allura Click Pro, Allura Ease, Allura Puzzle\n",
      "IACG-21-02-02-2020\n",
      "https://www.forbo.com/\n"
     ]
    },
    {
     "name": "stderr",
     "output_type": "stream",
     "text": [
      "C:\\Users\\USER\\AppData\\Local\\Temp\\ipykernel_35348\\2064196938.py:79: FutureWarning: The frame.append method is deprecated and will be removed from pandas in a future version. Use pandas.concat instead.\n",
      "  gc = gc.append(Dic, ignore_index=True)\n"
     ]
    },
    {
     "name": "stdout",
     "output_type": "stream",
     "text": [
      "Forbo Flooring GmbH\n",
      "Novilon and Novilux\n",
      "Resilient Flooring\n",
      "Novilux Natura, Novilux Compacta, Novilux Traffic, Novilux Design, Novilon Struktura, Novilon Viva, Novilon Prima\n",
      "IACG-21-02-03-2020\n",
      "https://www.forbo.com/\n"
     ]
    },
    {
     "name": "stderr",
     "output_type": "stream",
     "text": [
      "C:\\Users\\USER\\AppData\\Local\\Temp\\ipykernel_35348\\2064196938.py:79: FutureWarning: The frame.append method is deprecated and will be removed from pandas in a future version. Use pandas.concat instead.\n",
      "  gc = gc.append(Dic, ignore_index=True)\n"
     ]
    },
    {
     "name": "stdout",
     "output_type": "stream",
     "text": [
      "Forbo Flooring GmbH\n",
      "Homogeneous PVC Flooring - Sphera\n",
      "Resilient Flooring\n",
      "\n",
      "IACG-21-02-09-2019\n",
      "https://www.forbo.com/\n"
     ]
    },
    {
     "name": "stderr",
     "output_type": "stream",
     "text": [
      "C:\\Users\\USER\\AppData\\Local\\Temp\\ipykernel_35348\\2064196938.py:79: FutureWarning: The frame.append method is deprecated and will be removed from pandas in a future version. Use pandas.concat instead.\n",
      "  gc = gc.append(Dic, ignore_index=True)\n"
     ]
    },
    {
     "name": "stdout",
     "output_type": "stream",
     "text": [
      "Forbo Flooring GmbH\n",
      "Fibrebonded\n",
      "Textile Flooring\n",
      "Forte, Forte Graphic, Markant, Markant Graphic, Akzent, Showtime\n",
      "IACG-21-03-01-2022\n",
      "https://www.forbo.com/\n"
     ]
    },
    {
     "name": "stderr",
     "output_type": "stream",
     "text": [
      "C:\\Users\\USER\\AppData\\Local\\Temp\\ipykernel_35348\\2064196938.py:79: FutureWarning: The frame.append method is deprecated and will be removed from pandas in a future version. Use pandas.concat instead.\n",
      "  gc = gc.append(Dic, ignore_index=True)\n"
     ]
    },
    {
     "name": "stdout",
     "output_type": "stream",
     "text": [
      "Forbo Flooring GmbH\n",
      "Vinyl Acoustic\n",
      "Resilient Flooring\n",
      "Eternal de Luxe Comfort, Sarlon 15 dB, Sarlon 19 dB, Modul up Compact\n",
      "IACG-21-03-08-2022\n",
      "https://www.forbo.com/\n"
     ]
    },
    {
     "name": "stderr",
     "output_type": "stream",
     "text": [
      "C:\\Users\\USER\\AppData\\Local\\Temp\\ipykernel_35348\\2064196938.py:79: FutureWarning: The frame.append method is deprecated and will be removed from pandas in a future version. Use pandas.concat instead.\n",
      "  gc = gc.append(Dic, ignore_index=True)\n"
     ]
    },
    {
     "name": "stdout",
     "output_type": "stream",
     "text": [
      "Forbo Flooring GmbH\n",
      "Flotex\n",
      "Textile Flooring\n",
      "Flotex Bahnenware, Flotex Colour, Flotex Designerkollektion, Flotex Linear, Flotex Naturals Bahnenware, Flotex Tiles & Planks\n",
      "IACG-21-05-07-2022\n",
      "https://www.forbo.com/\n"
     ]
    },
    {
     "name": "stderr",
     "output_type": "stream",
     "text": [
      "C:\\Users\\USER\\AppData\\Local\\Temp\\ipykernel_35348\\2064196938.py:79: FutureWarning: The frame.append method is deprecated and will be removed from pandas in a future version. Use pandas.concat instead.\n",
      "  gc = gc.append(Dic, ignore_index=True)\n"
     ]
    },
    {
     "name": "stdout",
     "output_type": "stream",
     "text": [
      "Forbo Flooring GmbH\n",
      "Tessera\n",
      "Textile Flooring\n",
      "Aaran, Alignment, Basis Pro, Chroma, Cloadscape, Contour, Create Space 1, Diffusion, Inline, in-Touch, Layout&Outline, Mix, Nexus, Perspective, Seagrass, Struktur 1, Struktur 2\n",
      "IACG-21-06-06-2022\n",
      "https://www.forbo.com/\n"
     ]
    },
    {
     "name": "stderr",
     "output_type": "stream",
     "text": [
      "C:\\Users\\USER\\AppData\\Local\\Temp\\ipykernel_35348\\2064196938.py:79: FutureWarning: The frame.append method is deprecated and will be removed from pandas in a future version. Use pandas.concat instead.\n",
      "  gc = gc.append(Dic, ignore_index=True)\n"
     ]
    },
    {
     "name": "stdout",
     "output_type": "stream",
     "text": [
      "Forbo Flooring GmbH\n",
      "Colorex\n",
      "Resilient Flooring\n",
      "Colorex EC, Colorex SD, Colorex Colour, Colorex Plus EC, Colorex Plus SD, Colorex Basis Plus, Colorex R10 Plus\n",
      "IACG-21-07-09-2021\n",
      "https://www.forbo.com/\n"
     ]
    },
    {
     "name": "stderr",
     "output_type": "stream",
     "text": [
      "C:\\Users\\USER\\AppData\\Local\\Temp\\ipykernel_35348\\2064196938.py:79: FutureWarning: The frame.append method is deprecated and will be removed from pandas in a future version. Use pandas.concat instead.\n",
      "  gc = gc.append(Dic, ignore_index=True)\n"
     ]
    },
    {
     "name": "stdout",
     "output_type": "stream",
     "text": [
      "Forbo Flooring GmbH\n",
      "Linoleum\n",
      "Resilient Flooring\n",
      "Marmoleum Bahnenware, Marmoleum Sport Bahnenware, Marmoleum Modular, Marmoleum Ohmex, Marmoleum Acoustic, Marmoleum Decibel\n",
      "IACG-21-09-10-2021\n",
      "https://www.forbo.com/\n"
     ]
    },
    {
     "name": "stderr",
     "output_type": "stream",
     "text": [
      "C:\\Users\\USER\\AppData\\Local\\Temp\\ipykernel_35348\\2064196938.py:79: FutureWarning: The frame.append method is deprecated and will be removed from pandas in a future version. Use pandas.concat instead.\n",
      "  gc = gc.append(Dic, ignore_index=True)\n"
     ]
    },
    {
     "name": "stdout",
     "output_type": "stream",
     "text": [
      "Gerflor Mipolam GmbH\n",
      "Mipolam biobasierte homogene Bodenbeläge\n",
      "Resilient Flooring\n",
      "Mipolam Biocontrol Performance, Mipolam Bioplanet, Mipolam Symbioz, Taraflex Surface Mask\n",
      "IACG-22-01-02-2021\n",
      "http://www.gerflor.de/\n"
     ]
    },
    {
     "name": "stderr",
     "output_type": "stream",
     "text": [
      "C:\\Users\\USER\\AppData\\Local\\Temp\\ipykernel_35348\\2064196938.py:79: FutureWarning: The frame.append method is deprecated and will be removed from pandas in a future version. Use pandas.concat instead.\n",
      "  gc = gc.append(Dic, ignore_index=True)\n"
     ]
    },
    {
     "name": "stdout",
     "output_type": "stream",
     "text": [
      "Gerflor Mipolam GmbH\n",
      "Mipolam homogene Bodenbeläge\n",
      "Resilient Flooring\n",
      "Mipolam Accord, Mipolam Accord EL 7, Mipolam Affinity, Mipolam Affinity EL 7, Mipolam Biocontrol, Mipolam Biocontrol Clean, Mipolam Cosmo, Mipolam Esprit, Mipolam Planet, Mipolam Symbioz EL 7, Mipolam Troplan, Taraflex Surface Conceal, Traveller Tradition MP 90\n",
      "IACG-22-01-01-2021\n",
      "http://www.gerflor.de/\n"
     ]
    },
    {
     "name": "stderr",
     "output_type": "stream",
     "text": [
      "C:\\Users\\USER\\AppData\\Local\\Temp\\ipykernel_35348\\2064196938.py:79: FutureWarning: The frame.append method is deprecated and will be removed from pandas in a future version. Use pandas.concat instead.\n",
      "  gc = gc.append(Dic, ignore_index=True)\n"
     ]
    },
    {
     "name": "stdout",
     "output_type": "stream",
     "text": [
      "Gerflor Mipolam GmbH\n",
      "Mipolam Evo\n",
      "Resilient Flooring\n",
      "Mipolam Evo\n",
      "IACG-22-01-03-2021\n",
      "http://www.gerflor.de/\n"
     ]
    },
    {
     "name": "stderr",
     "output_type": "stream",
     "text": [
      "C:\\Users\\USER\\AppData\\Local\\Temp\\ipykernel_35348\\2064196938.py:79: FutureWarning: The frame.append method is deprecated and will be removed from pandas in a future version. Use pandas.concat instead.\n",
      "  gc = gc.append(Dic, ignore_index=True)\n"
     ]
    },
    {
     "name": "stdout",
     "output_type": "stream",
     "text": [
      "Gerflor SAS\n",
      "GERFLOR EVO\n",
      "Resilient Flooring\n",
      "Gerflor Evo, Gerflor Evo Lock, Creation Evo, Creation Evo Lock, Virtuo Evo, Virtuo Evo Lock\n",
      "IACG-429-01-01-2021\n",
      "http://www.gerflor.com/\n"
     ]
    },
    {
     "name": "stderr",
     "output_type": "stream",
     "text": [
      "C:\\Users\\USER\\AppData\\Local\\Temp\\ipykernel_35348\\2064196938.py:79: FutureWarning: The frame.append method is deprecated and will be removed from pandas in a future version. Use pandas.concat instead.\n",
      "  gc = gc.append(Dic, ignore_index=True)\n"
     ]
    },
    {
     "name": "stdout",
     "output_type": "stream",
     "text": [
      "Gerflor SAS\n",
      "CREATION DESIGN\n",
      "Resilient Flooring\n",
      "Creation 30 Design, Creation 55 Design, Creation 70 Design\n",
      "IACG-429-01-02-2021\n",
      "http://www.gerflor.com/\n"
     ]
    },
    {
     "name": "stderr",
     "output_type": "stream",
     "text": [
      "C:\\Users\\USER\\AppData\\Local\\Temp\\ipykernel_35348\\2064196938.py:79: FutureWarning: The frame.append method is deprecated and will be removed from pandas in a future version. Use pandas.concat instead.\n",
      "  gc = gc.append(Dic, ignore_index=True)\n"
     ]
    },
    {
     "name": "stdout",
     "output_type": "stream",
     "text": [
      "Gerflor SAS\n",
      "CREATION TREND\n",
      "Resilient Flooring\n",
      "Creation 40 Trend, Creation 55 Trend\n",
      "IACG-429-02-01-2021\n",
      "http://www.gerflor.com/\n"
     ]
    },
    {
     "name": "stderr",
     "output_type": "stream",
     "text": [
      "C:\\Users\\USER\\AppData\\Local\\Temp\\ipykernel_35348\\2064196938.py:79: FutureWarning: The frame.append method is deprecated and will be removed from pandas in a future version. Use pandas.concat instead.\n",
      "  gc = gc.append(Dic, ignore_index=True)\n"
     ]
    },
    {
     "name": "stdout",
     "output_type": "stream",
     "text": [
      "Gerflor SAS\n",
      "CREATION\n",
      "Resilient Flooring\n",
      "Creation 55, Creation 70\n",
      "IACG-429-02-02-2021\n",
      "http://www.gerflor.com/\n"
     ]
    },
    {
     "name": "stderr",
     "output_type": "stream",
     "text": [
      "C:\\Users\\USER\\AppData\\Local\\Temp\\ipykernel_35348\\2064196938.py:79: FutureWarning: The frame.append method is deprecated and will be removed from pandas in a future version. Use pandas.concat instead.\n",
      "  gc = gc.append(Dic, ignore_index=True)\n"
     ]
    },
    {
     "name": "stdout",
     "output_type": "stream",
     "text": [
      "25\n",
      "Global Paint Products B.V.\n",
      "Wall Paint and Wall Primers\n",
      "Wall Paints\n",
      "Global Paint Professional: Globatex Matt Wallpaint, Globatex Superwhite, Globatex Wall Primer, Supreme Wallpaint, Supreme Plus WallPaint\n",
      "IACG-357-01-01-2021B\n",
      "https://globalpaint.com/\n"
     ]
    },
    {
     "name": "stderr",
     "output_type": "stream",
     "text": [
      "C:\\Users\\USER\\AppData\\Local\\Temp\\ipykernel_35348\\2064196938.py:79: FutureWarning: The frame.append method is deprecated and will be removed from pandas in a future version. Use pandas.concat instead.\n",
      "  gc = gc.append(Dic, ignore_index=True)\n"
     ]
    },
    {
     "name": "stdout",
     "output_type": "stream",
     "text": [
      "Global Paint Products B.V.\n",
      "Lacquers and Primers\n",
      "Trim Paint\n",
      "Global Paint Professional: PU Top Satin, PU Top Matt, PU Top Gloss, Baseprimer X-tra, Multiprimer Plus.\n",
      "IACG-357-01-02-2021\n",
      "https://globalpaint.com/\n"
     ]
    },
    {
     "name": "stderr",
     "output_type": "stream",
     "text": [
      "C:\\Users\\USER\\AppData\\Local\\Temp\\ipykernel_35348\\2064196938.py:79: FutureWarning: The frame.append method is deprecated and will be removed from pandas in a future version. Use pandas.concat instead.\n",
      "  gc = gc.append(Dic, ignore_index=True)\n"
     ]
    },
    {
     "name": "stdout",
     "output_type": "stream",
     "text": [
      "Halbmond Teppichwerke GmbH\n",
      "Halbmond LVT\n",
      "Resilient Flooring\n",
      "Easyline 020, Designline 030, Creativeline 055, Designline2 030C, Creativeline2 055C\n",
      "IACG-418-01-01-2021\n",
      "https://www.halbmond.de/en/\n"
     ]
    },
    {
     "name": "stderr",
     "output_type": "stream",
     "text": [
      "C:\\Users\\USER\\AppData\\Local\\Temp\\ipykernel_35348\\2064196938.py:79: FutureWarning: The frame.append method is deprecated and will be removed from pandas in a future version. Use pandas.concat instead.\n",
      "  gc = gc.append(Dic, ignore_index=True)\n"
     ]
    },
    {
     "name": "stdout",
     "output_type": "stream",
     "text": [
      "Hilliges Gipswerk GmbH & Co. KG\n",
      "Gypsum bonding agent and joint filler\n",
      "Levelling Compounds\n",
      "\n",
      "IACG-341-01-01-2022\n",
      "http://www.krone-gips.de/\n"
     ]
    },
    {
     "name": "stderr",
     "output_type": "stream",
     "text": [
      "C:\\Users\\USER\\AppData\\Local\\Temp\\ipykernel_35348\\2064196938.py:79: FutureWarning: The frame.append method is deprecated and will be removed from pandas in a future version. Use pandas.concat instead.\n",
      "  gc = gc.append(Dic, ignore_index=True)\n"
     ]
    },
    {
     "name": "stdout",
     "output_type": "stream",
     "text": [
      "HMTX Industries\n",
      "ISOCORE\n",
      "Resilient Flooring\n",
      "XF Aspecta 10, XF Isocore\n",
      "IACG-346-01-01-2021\n",
      "https://www.aspectaflooring.com/\n"
     ]
    },
    {
     "name": "stderr",
     "output_type": "stream",
     "text": [
      "C:\\Users\\USER\\AppData\\Local\\Temp\\ipykernel_35348\\2064196938.py:79: FutureWarning: The frame.append method is deprecated and will be removed from pandas in a future version. Use pandas.concat instead.\n",
      "  gc = gc.append(Dic, ignore_index=True)\n"
     ]
    },
    {
     "name": "stdout",
     "output_type": "stream",
     "text": [
      "HMTX Industries\n",
      "ISOCORE\n",
      "Resilient Flooring\n",
      "LY Isocore, LY Isocore, LY Elemental Isocore\n",
      "IACG-346-01-03-2021\n",
      "https://www.aspectaflooring.com/\n"
     ]
    },
    {
     "name": "stderr",
     "output_type": "stream",
     "text": [
      "C:\\Users\\USER\\AppData\\Local\\Temp\\ipykernel_35348\\2064196938.py:79: FutureWarning: The frame.append method is deprecated and will be removed from pandas in a future version. Use pandas.concat instead.\n",
      "  gc = gc.append(Dic, ignore_index=True)\n"
     ]
    },
    {
     "name": "stdout",
     "output_type": "stream",
     "text": [
      "HMTX Industries\n",
      "SOLID LVT\n",
      "Resilient Flooring\n",
      "LY Solid LVT\n",
      "IACG-346-01-05-2021\n",
      "https://www.aspectaflooring.com/\n"
     ]
    },
    {
     "name": "stderr",
     "output_type": "stream",
     "text": [
      "C:\\Users\\USER\\AppData\\Local\\Temp\\ipykernel_35348\\2064196938.py:79: FutureWarning: The frame.append method is deprecated and will be removed from pandas in a future version. Use pandas.concat instead.\n",
      "  gc = gc.append(Dic, ignore_index=True)\n"
     ]
    },
    {
     "name": "stdout",
     "output_type": "stream",
     "text": [
      "HMTX Industries\n",
      "DRYBACK\n",
      "Resilient Flooring\n",
      "XF Aspecta One, Elemental by Aspecta, XF Aspecta Five, XF Dryback, XF Solid LVT.\n",
      "IACG-346-01-06-2021\n",
      "https://www.aspectaflooring.com/\n"
     ]
    },
    {
     "name": "stderr",
     "output_type": "stream",
     "text": [
      "C:\\Users\\USER\\AppData\\Local\\Temp\\ipykernel_35348\\2064196938.py:79: FutureWarning: The frame.append method is deprecated and will be removed from pandas in a future version. Use pandas.concat instead.\n",
      "  gc = gc.append(Dic, ignore_index=True)\n"
     ]
    },
    {
     "name": "stdout",
     "output_type": "stream",
     "text": [
      "HMTX Industries\n",
      "Loose Lay\n",
      "Resilient Flooring\n",
      "Elemental by Aspecta Loose Lay\n",
      "IACG-346-01-07-2021\n",
      "https://www.aspectaflooring.com/\n"
     ]
    },
    {
     "name": "stderr",
     "output_type": "stream",
     "text": [
      "C:\\Users\\USER\\AppData\\Local\\Temp\\ipykernel_35348\\2064196938.py:79: FutureWarning: The frame.append method is deprecated and will be removed from pandas in a future version. Use pandas.concat instead.\n",
      "  gc = gc.append(Dic, ignore_index=True)\n"
     ]
    },
    {
     "name": "stdout",
     "output_type": "stream",
     "text": [
      "HMTX Industries\n",
      "Rigid Core/ SPC\n",
      "Resilient Flooring\n",
      "Elemental by Aspecta Rigid Core\n",
      "IACG-346-01-08-2021\n",
      "https://www.aspectaflooring.com/\n"
     ]
    },
    {
     "name": "stderr",
     "output_type": "stream",
     "text": [
      "C:\\Users\\USER\\AppData\\Local\\Temp\\ipykernel_35348\\2064196938.py:79: FutureWarning: The frame.append method is deprecated and will be removed from pandas in a future version. Use pandas.concat instead.\n",
      "  gc = gc.append(Dic, ignore_index=True)\n"
     ]
    },
    {
     "name": "stdout",
     "output_type": "stream",
     "text": [
      "Horn Bordplader A/S\n",
      "HORN Linoleum\n",
      "Furniture, Table tops\n",
      "4023 Nero, 4154 Burgundy, 4155 Pewter, 4166 Charcoal, 4174 Conifer, 4179 Smokey Blue, 4184 Olive, 4132 Ash, 4157 Pearl, 4164 Salsa, 4172 Mauve, 4175 Pebble, 4176 Mushroom, 4177 Vapour, 4178 Iron, 4180 Aquavert, 4181 Midnight Blue, 4182 Spring Green, 4183 Pistachio, 4185 Powder, 4186 Orange Blast. Including optionally installed sink with glue and covered cut edges.\n",
      "IAC-333-01-05-2021\n",
      "http://www.hornbordplader.dk/\n"
     ]
    },
    {
     "name": "stderr",
     "output_type": "stream",
     "text": [
      "C:\\Users\\USER\\AppData\\Local\\Temp\\ipykernel_35348\\2064196938.py:79: FutureWarning: The frame.append method is deprecated and will be removed from pandas in a future version. Use pandas.concat instead.\n",
      "  gc = gc.append(Dic, ignore_index=True)\n"
     ]
    },
    {
     "name": "stdout",
     "output_type": "stream",
     "text": [
      "Horn Bordplader A/S\n",
      "HORN Laminate\n",
      "Furniture, Table tops\n",
      "Subgroup Laminate: SP-112 PE, SP-287 RS, SP-288 RS, SP-4298 UE, SP-4299 UE, SP-7437 RS, SP-8326 RS, SP-8685 PE, SP-A244 SE, SP-K002 WO, SP-K003 WO, SP-K004 WO, SP-164 Q-SK, SP-190 S-SK, DU-U 1026 VV, DU-U1200 XP, DU-F 7486 MP, DU-U-7654 MP, DU-F 7919 TC, DU-F 7920 TC, F-1936 CR, F-5984 MAT, DU-F 8190 MS, DU-F 7646 TC, A-3302 Mika, A-3364 Luna, SC-1019 IS, A-3408 Losa, A-3329 Luna, A-3366 Luna, A-3305 Luna, A-3326 Luna, DU-1021 VL, WG-BN414 PE, EG-274 ST 9, EG-275 ST 9, DU-F76111 FG, WG-BN441 Sentira, WG-MAA210 Sentira, DU-R6303 SM, KS-024 SU, SC-4878 VL, KS-307 PH, WG-BZ173 Sentira, DU-R 6461 CT, DU-R 6462 CT, DU-R 6424 CT, DU-R 6499 CT, DU-U 1200 CT, F-6220 RW, DU-R 6216 TC, DU-R 6217 TC, KS-K301 PH, KS-K302 PH, DU-R 4262 FG, DU-R30135 NW, DU-R 5151 FG, SC-2609 MX, DU-R4366 FG, EG-3309 ST 22, DU-R 4282 FG, DU-R 4264 FG, EG-3351 ST 22, WG-PI 731 Innato, DU-R 4371 RU, DU-U 1233 RU, DU-R48042 NW, DU-R34032 RV, A-4517 ALEVE. Subgroup Fenix: A-29 Bianco Malé, A-717 Castoro Ottowa, A-718 Grigio Londra, A-749 Cacao Orinoco, A-720 Nero Ingo, A-751 Rosso Jaipur, A-2629 Bronzo Doha, A-2630 Piomba Doha. Subgroup SolidColor: DU-U1027 Icy White SM, DU-U1026 Krystallweiss SM, DU-U1188 Light Grey SM, DU-U1168 Cashmere SM, DU-U1184 Sand Grey SM, DU-U1290 Antrazit SM, DU-U1200 Volcanic Black SM. Including optionally installed sink with glue and covered cut edges.\n",
      "IACG-333-01-01-2021\n",
      "http://www.hornbordplader.dk/\n"
     ]
    },
    {
     "name": "stderr",
     "output_type": "stream",
     "text": [
      "C:\\Users\\USER\\AppData\\Local\\Temp\\ipykernel_35348\\2064196938.py:79: FutureWarning: The frame.append method is deprecated and will be removed from pandas in a future version. Use pandas.concat instead.\n",
      "  gc = gc.append(Dic, ignore_index=True)\n"
     ]
    },
    {
     "name": "stdout",
     "output_type": "stream",
     "text": [
      "Horn Bordplader A/S\n",
      "HORN Solid Wood\n",
      "Furniture, Table tops\n",
      "Oak, Ash, Core Ash, Beech, Maple Tree, Cherry Tree, European Walnut, American Walnut, Acacia, Bamboo\n",
      "IACG-333-01-02-2021\n",
      "http://www.hornbordplader.dk/\n"
     ]
    },
    {
     "name": "stderr",
     "output_type": "stream",
     "text": [
      "C:\\Users\\USER\\AppData\\Local\\Temp\\ipykernel_35348\\2064196938.py:79: FutureWarning: The frame.append method is deprecated and will be removed from pandas in a future version. Use pandas.concat instead.\n",
      "  gc = gc.append(Dic, ignore_index=True)\n"
     ]
    },
    {
     "name": "stdout",
     "output_type": "stream",
     "text": [
      "Horn Bordplader A/S\n",
      "HORN Compact Laminate\n",
      "Furniture, Table tops\n",
      "Table Tops made of compact laminate: 3302 Mika m/sort kerne, 3329 Luna m/sort kerne, 3366 Luna m/sort kerne, 6220 m/sort kerne, 0010 Erre Hvid m/hvid kerne, 0085 FH Hvid m/hvid kerne, 7486 MP m/sort kerne, 0080 SX Slate Sort m/sort kerne, 0032 Bianco Kos m/hvid kerne (Fenix), 0720 Nero Ingo m/sort kerne (Fenix), 0080 FH Sort m/sort kerne, 0085 FH Hvid m/sort kerne. including optionally installed sink with glue.\n",
      "IACG-333-01-04-2021\n",
      "http://www.hornbordplader.dk/\n"
     ]
    },
    {
     "name": "stderr",
     "output_type": "stream",
     "text": [
      "C:\\Users\\USER\\AppData\\Local\\Temp\\ipykernel_35348\\2064196938.py:79: FutureWarning: The frame.append method is deprecated and will be removed from pandas in a future version. Use pandas.concat instead.\n",
      "  gc = gc.append(Dic, ignore_index=True)\n"
     ]
    },
    {
     "name": "stdout",
     "output_type": "stream",
     "text": [
      "HTH\n",
      "Carcase models\n",
      "Kitchen furniture\n",
      "Melamine - White M6, Melamine - Stockholm M0, Melamine - Grey M1, Melamine - Oslo M2\n",
      "IACG-427-01-01-2021\n",
      "https://www.hth.dk/\n"
     ]
    },
    {
     "name": "stderr",
     "output_type": "stream",
     "text": [
      "C:\\Users\\USER\\AppData\\Local\\Temp\\ipykernel_35348\\2064196938.py:79: FutureWarning: The frame.append method is deprecated and will be removed from pandas in a future version. Use pandas.concat instead.\n",
      "  gc = gc.append(Dic, ignore_index=True)\n"
     ]
    },
    {
     "name": "stdout",
     "output_type": "stream",
     "text": [
      "HTH\n",
      "Laminate doors\n",
      "Kitchen furniture\n",
      "ES Base, XP Nova, XH Nova, EH Focus Hvid Eg, EJ Focus Natur Eg, ED Focus Sort Eg\n",
      "IACG-427-01-02-2021\n",
      "https://www.hth.dk/\n"
     ]
    },
    {
     "name": "stderr",
     "output_type": "stream",
     "text": [
      "C:\\Users\\USER\\AppData\\Local\\Temp\\ipykernel_35348\\2064196938.py:79: FutureWarning: The frame.append method is deprecated and will be removed from pandas in a future version. Use pandas.concat instead.\n",
      "  gc = gc.append(Dic, ignore_index=True)\n"
     ]
    },
    {
     "name": "stdout",
     "output_type": "stream",
     "text": [
      "HTH\n",
      "Lacquered doors\n",
      "Kitchen furniture\n",
      "54 Next Hvid, 23 Next Grå, RT Art i hvid, RZ Sense, DT Tendens i hvid\n",
      "IACG-427-01-03-2021\n",
      "https://www.hth.dk/\n"
     ]
    },
    {
     "name": "stderr",
     "output_type": "stream",
     "text": [
      "C:\\Users\\USER\\AppData\\Local\\Temp\\ipykernel_35348\\2064196938.py:79: FutureWarning: The frame.append method is deprecated and will be removed from pandas in a future version. Use pandas.concat instead.\n",
      "  gc = gc.append(Dic, ignore_index=True)\n"
     ]
    },
    {
     "name": "stdout",
     "output_type": "stream",
     "text": [
      "HTH\n",
      "Melamine doors\n",
      "Kitchen furniture\n",
      "46 Glat Grå, 52 Oslo, 28 Stockholm, 49 Glat Grå, 38 Glat Støvgrå, 37 Stockholm 35 Trend Hvid Eg, 19 Glat Hvid, 36 Glat Hvid\n",
      "IACG-427-01-04-2021\n",
      "https://www.hth.dk/\n"
     ]
    },
    {
     "name": "stderr",
     "output_type": "stream",
     "text": [
      "C:\\Users\\USER\\AppData\\Local\\Temp\\ipykernel_35348\\2064196938.py:79: FutureWarning: The frame.append method is deprecated and will be removed from pandas in a future version. Use pandas.concat instead.\n",
      "  gc = gc.append(Dic, ignore_index=True)\n"
     ]
    },
    {
     "name": "stdout",
     "output_type": "stream",
     "text": [
      "Huizhou Weikang New Building Materials Co., Ltd.\n",
      "LVT Click and Dryback\n",
      "Resilient Flooring\n",
      "LVT Click and Dryback\n",
      "IACG-384-01-01-2022\n",
      "None\n"
     ]
    },
    {
     "name": "stderr",
     "output_type": "stream",
     "text": [
      "C:\\Users\\USER\\AppData\\Local\\Temp\\ipykernel_35348\\2064196938.py:79: FutureWarning: The frame.append method is deprecated and will be removed from pandas in a future version. Use pandas.concat instead.\n",
      "  gc = gc.append(Dic, ignore_index=True)\n"
     ]
    },
    {
     "name": "stdout",
     "output_type": "stream",
     "text": [
      "Huizhou Weikang New Building Materials Co., Ltd.\n",
      "SPC\n",
      "Resilient Flooring\n",
      "SPC\n",
      "IACG-384-01-02-2022\n",
      "None\n"
     ]
    },
    {
     "name": "stderr",
     "output_type": "stream",
     "text": [
      "C:\\Users\\USER\\AppData\\Local\\Temp\\ipykernel_35348\\2064196938.py:79: FutureWarning: The frame.append method is deprecated and will be removed from pandas in a future version. Use pandas.concat instead.\n",
      "  gc = gc.append(Dic, ignore_index=True)\n"
     ]
    },
    {
     "name": "stdout",
     "output_type": "stream",
     "text": [
      "Huizhou Weikang New Building Materials Co., Ltd.\n",
      "WPC\n",
      "Resilient Flooring\n",
      "WPC\n",
      "IACG-384-01-03-2022\n",
      "None\n"
     ]
    },
    {
     "name": "stderr",
     "output_type": "stream",
     "text": [
      "C:\\Users\\USER\\AppData\\Local\\Temp\\ipykernel_35348\\2064196938.py:79: FutureWarning: The frame.append method is deprecated and will be removed from pandas in a future version. Use pandas.concat instead.\n",
      "  gc = gc.append(Dic, ignore_index=True)\n"
     ]
    },
    {
     "name": "stdout",
     "output_type": "stream",
     "text": [
      "Hunan Yuesheng New Material Co.,Ltd\n",
      "SPC/Rigid LVT/Rigid Core Flooring/Rigid Plastic Composite\n",
      "Resilient Flooring\n",
      "Audacity, BellRinger, DuraLux, DuraLux Performance, FF Contract, FirmFit, FirmFit Silent, GemCore, Matrix, NovoCore, NovoCore Premium, NovoCore Quiet, NuCore, NuCore Performance, NuCore Whisper, Odyssey, SuperFast, Trends, 奥达西堤 纷特\n",
      "IACG-448-02-01-2022\n",
      "None\n"
     ]
    },
    {
     "name": "stderr",
     "output_type": "stream",
     "text": [
      "C:\\Users\\USER\\AppData\\Local\\Temp\\ipykernel_35348\\2064196938.py:79: FutureWarning: The frame.append method is deprecated and will be removed from pandas in a future version. Use pandas.concat instead.\n",
      "  gc = gc.append(Dic, ignore_index=True)\n"
     ]
    },
    {
     "name": "stdout",
     "output_type": "stream",
     "text": [
      "Hørning Parket A/S\n",
      "Parquet and Planks\n",
      "Wooden Flooring\n",
      "Untreated wooden flooring made of Oak, Ash, Douglas and Jatoba: Parquet strips/block, Plank, Origin Plank, Strips, Industrial Parquet, Mosaic parquet\n",
      "IACG-387-01-01-2021\n",
      "https://www.horningfloor.dk/\n"
     ]
    },
    {
     "name": "stderr",
     "output_type": "stream",
     "text": [
      "C:\\Users\\USER\\AppData\\Local\\Temp\\ipykernel_35348\\2064196938.py:79: FutureWarning: The frame.append method is deprecated and will be removed from pandas in a future version. Use pandas.concat instead.\n",
      "  gc = gc.append(Dic, ignore_index=True)\n"
     ]
    },
    {
     "name": "stdout",
     "output_type": "stream",
     "text": [
      "Hørning Parket A/S\n",
      "Solid Line\n",
      "Wooden Flooring\n",
      "Solid Line: oiled wooden flooring made of Oak and Ash\n",
      "IACG-387-01-03-2021\n",
      "https://www.horningfloor.dk/\n"
     ]
    },
    {
     "name": "stderr",
     "output_type": "stream",
     "text": [
      "C:\\Users\\USER\\AppData\\Local\\Temp\\ipykernel_35348\\2064196938.py:79: FutureWarning: The frame.append method is deprecated and will be removed from pandas in a future version. Use pandas.concat instead.\n",
      "  gc = gc.append(Dic, ignore_index=True)\n"
     ]
    },
    {
     "name": "stdout",
     "output_type": "stream",
     "text": [
      "IEdiSa – GRAPHENSTONE\n",
      "Grafclean Premium\n",
      "Wall Paints\n",
      "GRAFCLEAN PREMIUM, GRAFCLEAN DIVERSO, GRAFCLEAN EGGSHELL PREMIUM, GRAFCLEAN ORIGINAL, GRAFCLEAN UNICO, AUTHENTIC, ESSENCE, NATURA\n",
      "IACG-370-01-01-2021B\n",
      "https://graphenstone.com/\n"
     ]
    },
    {
     "name": "stderr",
     "output_type": "stream",
     "text": [
      "C:\\Users\\USER\\AppData\\Local\\Temp\\ipykernel_35348\\2064196938.py:79: FutureWarning: The frame.append method is deprecated and will be removed from pandas in a future version. Use pandas.concat instead.\n",
      "  gc = gc.append(Dic, ignore_index=True)\n"
     ]
    },
    {
     "name": "stdout",
     "output_type": "stream",
     "text": [
      "25\n",
      "Imperbel N.V. / S.A.\n",
      "Derbitech Sealstick\n",
      "Sealant\n",
      "\n",
      "IACG-338-01-01-2017\n",
      "https://www.derbigum.com/en\n"
     ]
    },
    {
     "name": "stderr",
     "output_type": "stream",
     "text": [
      "C:\\Users\\USER\\AppData\\Local\\Temp\\ipykernel_35348\\2064196938.py:79: FutureWarning: The frame.append method is deprecated and will be removed from pandas in a future version. Use pandas.concat instead.\n",
      "  gc = gc.append(Dic, ignore_index=True)\n"
     ]
    },
    {
     "name": "stdout",
     "output_type": "stream",
     "text": [
      "Interface\n",
      "Even Path Collection\n",
      "Resilient Flooring\n",
      "Even Path Collection\n",
      "IACG-444-01-01-2021\n",
      "https://www.interface.com/\n"
     ]
    },
    {
     "name": "stderr",
     "output_type": "stream",
     "text": [
      "C:\\Users\\USER\\AppData\\Local\\Temp\\ipykernel_35348\\2064196938.py:79: FutureWarning: The frame.append method is deprecated and will be removed from pandas in a future version. Use pandas.concat instead.\n",
      "  gc = gc.append(Dic, ignore_index=True)\n"
     ]
    },
    {
     "name": "stdout",
     "output_type": "stream",
     "text": [
      "Interface\n",
      "Interlaced Collection, Continual Woodgrains\n",
      "Resilient Flooring\n",
      "Interlaced Collection, Continual Woodgrains\n",
      "IACG-444-01-02-2021\n",
      "https://www.interface.com/\n"
     ]
    },
    {
     "name": "stderr",
     "output_type": "stream",
     "text": [
      "C:\\Users\\USER\\AppData\\Local\\Temp\\ipykernel_35348\\2064196938.py:79: FutureWarning: The frame.append method is deprecated and will be removed from pandas in a future version. Use pandas.concat instead.\n",
      "  gc = gc.append(Dic, ignore_index=True)\n"
     ]
    },
    {
     "name": "stdout",
     "output_type": "stream",
     "text": [
      "INVITA\n",
      "Carcase models\n",
      "Kitchen furniture\n",
      "Dekor Titanhvid, Dekor grå\n",
      "IACG-427-02-01-2021\n",
      "https://www.invita.dk/\n"
     ]
    },
    {
     "name": "stderr",
     "output_type": "stream",
     "text": [
      "C:\\Users\\USER\\AppData\\Local\\Temp\\ipykernel_35348\\2064196938.py:79: FutureWarning: The frame.append method is deprecated and will be removed from pandas in a future version. Use pandas.concat instead.\n",
      "  gc = gc.append(Dic, ignore_index=True)\n"
     ]
    },
    {
     "name": "stdout",
     "output_type": "stream",
     "text": [
      "INVITA\n",
      "Laminate doors\n",
      "Kitchen furniture\n",
      "Cover laminat, Fortis\n",
      "IACG-427-02-02-2021\n",
      "https://www.invita.dk/\n"
     ]
    },
    {
     "name": "stderr",
     "output_type": "stream",
     "text": [
      "C:\\Users\\USER\\AppData\\Local\\Temp\\ipykernel_35348\\2064196938.py:79: FutureWarning: The frame.append method is deprecated and will be removed from pandas in a future version. Use pandas.concat instead.\n",
      "  gc = gc.append(Dic, ignore_index=True)\n"
     ]
    },
    {
     "name": "stdout",
     "output_type": "stream",
     "text": [
      "INVITA\n",
      "Lacquered doors\n",
      "Kitchen furniture\n",
      "Slimline, Slimline Grå, Square malet i designfarve 91, Urban i designfarve 91\n",
      "IACG-427-02-03-2021\n",
      "https://www.invita.dk/\n"
     ]
    },
    {
     "name": "stderr",
     "output_type": "stream",
     "text": [
      "C:\\Users\\USER\\AppData\\Local\\Temp\\ipykernel_35348\\2064196938.py:79: FutureWarning: The frame.append method is deprecated and will be removed from pandas in a future version. Use pandas.concat instead.\n",
      "  gc = gc.append(Dic, ignore_index=True)\n"
     ]
    },
    {
     "name": "stdout",
     "output_type": "stream",
     "text": [
      "INVITA\n",
      "Melamine doors\n",
      "Kitchen furniture\n",
      "Hvid Ask Struktur, Form Hvid Eg, Alba\n",
      "IACG-427-02-04-2021\n",
      "https://www.invita.dk/\n"
     ]
    },
    {
     "name": "stderr",
     "output_type": "stream",
     "text": [
      "C:\\Users\\USER\\AppData\\Local\\Temp\\ipykernel_35348\\2064196938.py:79: FutureWarning: The frame.append method is deprecated and will be removed from pandas in a future version. Use pandas.concat instead.\n",
      "  gc = gc.append(Dic, ignore_index=True)\n"
     ]
    },
    {
     "name": "stdout",
     "output_type": "stream",
     "text": [
      "ISOMAT S.A.\n",
      "ISOLAC AQUA ECO\n",
      "Trim Paint\n",
      "ISOLAC AQUA ECO WHITE, ISOLAC AQUA ECO BASE P, ISOLAC AQUA ECO BASE D, ISOLAC AQUA ECO BASE TR, ISOLAC AQUA ECO PRIMER\n",
      "IACG-452-01-01-2022B\n",
      "https://www.isomat.gr/\n"
     ]
    },
    {
     "name": "stderr",
     "output_type": "stream",
     "text": [
      "C:\\Users\\USER\\AppData\\Local\\Temp\\ipykernel_35348\\2064196938.py:79: FutureWarning: The frame.append method is deprecated and will be removed from pandas in a future version. Use pandas.concat instead.\n",
      "  gc = gc.append(Dic, ignore_index=True)\n"
     ]
    },
    {
     "name": "stdout",
     "output_type": "stream",
     "text": [
      "ISOMAT S.A.\n",
      "ISOMAT PREMIUM COLOR ECO and ISOMAT PROFESSIONAL COLOR ECO\n",
      "Wall Paints\n",
      "ISOMAT PREMIUM COLOR ECO WHITE, ISOMAT PREMIUM COLOR ECO BASE P, ISOMAT PREMIUM COLOR ECO BASE D, ISOMAT PREMIUM COLOR ECO BASE TR, ISOMAT PROFESSIONAL COLOR ECO WHITE, ISOMAT PROFESSIONAL COLOR ECO BASE P, ISOMAT PROFESSIONAL COLOR ECO BASE D\n",
      "IACG-452-01-02-2022\n",
      "https://www.isomat.gr/\n"
     ]
    },
    {
     "name": "stderr",
     "output_type": "stream",
     "text": [
      "C:\\Users\\USER\\AppData\\Local\\Temp\\ipykernel_35348\\2064196938.py:79: FutureWarning: The frame.append method is deprecated and will be removed from pandas in a future version. Use pandas.concat instead.\n",
      "  gc = gc.append(Dic, ignore_index=True)\n"
     ]
    },
    {
     "name": "stdout",
     "output_type": "stream",
     "text": [
      "ISOMAT S.A.\n",
      "ISOMAT PREMIUM COLOR and ISOMAT PROFESSIONAL COLOR\n",
      "Wall Paints\n",
      "ISOMAT PREMIUM COLOR WHITE, ISOMAT PREMIUM COLOR BASE P, ISOMAT PREMIUM COLOR BASE D, ISOMAT PREMIUM COLOR BASE TR, ISOMAT PROFESSIONAL COLOR WHITE, ISOMAT PROFESSIONAL COLOR BASE P, ISOMAT PROFESSIONAL COLOR BASE D\n",
      "IACG-452-01-03-2022\n",
      "https://www.isomat.gr/\n"
     ]
    },
    {
     "name": "stderr",
     "output_type": "stream",
     "text": [
      "C:\\Users\\USER\\AppData\\Local\\Temp\\ipykernel_35348\\2064196938.py:79: FutureWarning: The frame.append method is deprecated and will be removed from pandas in a future version. Use pandas.concat instead.\n",
      "  gc = gc.append(Dic, ignore_index=True)\n"
     ]
    },
    {
     "name": "stdout",
     "output_type": "stream",
     "text": [
      "Izocam Ticaret ve Sanayi A.Ş.\n",
      "Roof Blanket, max. 18 kg/m³ and max. 200 mm faced\n",
      "Insulation\n",
      "Roof Blanket, max. 18 kg/m³ and max. 200 mm faced\n",
      "IACG-329-185-2021\n",
      "https://www.izocam.com.tr/\n"
     ]
    },
    {
     "name": "stderr",
     "output_type": "stream",
     "text": [
      "C:\\Users\\USER\\AppData\\Local\\Temp\\ipykernel_35348\\2064196938.py:79: FutureWarning: The frame.append method is deprecated and will be removed from pandas in a future version. Use pandas.concat instead.\n",
      "  gc = gc.append(Dic, ignore_index=True)\n"
     ]
    },
    {
     "name": "stdout",
     "output_type": "stream",
     "text": [
      "JAB Teppiche Heinz Anstoetz KG\n",
      "Earth, Wind, Fire\n",
      "Textile Flooring\n",
      "Earth, Wind, Fire\n",
      "IACG-50-01-01-2022\n",
      "https://www.jab.de/\n"
     ]
    },
    {
     "name": "stderr",
     "output_type": "stream",
     "text": [
      "C:\\Users\\USER\\AppData\\Local\\Temp\\ipykernel_35348\\2064196938.py:79: FutureWarning: The frame.append method is deprecated and will be removed from pandas in a future version. Use pandas.concat instead.\n",
      "  gc = gc.append(Dic, ignore_index=True)\n"
     ]
    },
    {
     "name": "stdout",
     "output_type": "stream",
     "text": [
      "JAB Teppiche Heinz Anstoetz KG\n",
      "Collection Select and Collection Noblesse\n",
      "Textile Flooring\n",
      "Allure, Poetry SD, Silence, Uno SD, Nightfall, Wind\n",
      "IACG-50-01-02-2022\n",
      "https://www.jab.de/\n"
     ]
    },
    {
     "name": "stderr",
     "output_type": "stream",
     "text": [
      "C:\\Users\\USER\\AppData\\Local\\Temp\\ipykernel_35348\\2064196938.py:79: FutureWarning: The frame.append method is deprecated and will be removed from pandas in a future version. Use pandas.concat instead.\n",
      "  gc = gc.append(Dic, ignore_index=True)\n"
     ]
    },
    {
     "name": "stdout",
     "output_type": "stream",
     "text": [
      "JAB Teppiche Heinz Anstoetz KG\n",
      "Smart, Rips\n",
      "Textile Flooring\n",
      "Smart, Rips\n",
      "IACG-50-02-01-2020\n",
      "https://www.jab.de/\n"
     ]
    },
    {
     "name": "stderr",
     "output_type": "stream",
     "text": [
      "C:\\Users\\USER\\AppData\\Local\\Temp\\ipykernel_35348\\2064196938.py:79: FutureWarning: The frame.append method is deprecated and will be removed from pandas in a future version. Use pandas.concat instead.\n",
      "  gc = gc.append(Dic, ignore_index=True)\n"
     ]
    },
    {
     "name": "stdout",
     "output_type": "stream",
     "text": [
      "JAB Teppiche Heinz Anstoetz KG\n",
      "Chill, Cool\n",
      "Textile Flooring\n",
      "Chill, Cool\n",
      "IACG-50-02-02-2020\n",
      "https://www.jab.de/\n"
     ]
    },
    {
     "name": "stderr",
     "output_type": "stream",
     "text": [
      "C:\\Users\\USER\\AppData\\Local\\Temp\\ipykernel_35348\\2064196938.py:79: FutureWarning: The frame.append method is deprecated and will be removed from pandas in a future version. Use pandas.concat instead.\n",
      "  gc = gc.append(Dic, ignore_index=True)\n"
     ]
    },
    {
     "name": "stdout",
     "output_type": "stream",
     "text": [
      "JAB Teppiche Heinz Anstoetz KG\n",
      "ADRAMAQ - Designer' LVT Flooring\n",
      "Resilient Flooring\n",
      "ADRAMAQ - Designer' LVT Flooring\n",
      "IACG-50-04-01-2021A\n",
      "https://www.jab.de/\n"
     ]
    },
    {
     "name": "stderr",
     "output_type": "stream",
     "text": [
      "C:\\Users\\USER\\AppData\\Local\\Temp\\ipykernel_35348\\2064196938.py:79: FutureWarning: The frame.append method is deprecated and will be removed from pandas in a future version. Use pandas.concat instead.\n",
      "  gc = gc.append(Dic, ignore_index=True)\n"
     ]
    },
    {
     "name": "stdout",
     "output_type": "stream",
     "text": [
      "JAB Teppiche Heinz Anstoetz KG\n",
      "JAB - Design Floor LVT\n",
      "Resilient Flooring\n",
      "JAB - Design Floor LVT\n",
      "IACG-50-04-01-2021B\n",
      "https://www.jab.de/\n"
     ]
    },
    {
     "name": "stderr",
     "output_type": "stream",
     "text": [
      "C:\\Users\\USER\\AppData\\Local\\Temp\\ipykernel_35348\\2064196938.py:79: FutureWarning: The frame.append method is deprecated and will be removed from pandas in a future version. Use pandas.concat instead.\n",
      "  gc = gc.append(Dic, ignore_index=True)\n"
     ]
    },
    {
     "name": "stdout",
     "output_type": "stream",
     "text": [
      "JAB Teppiche Heinz Anstoetz KG\n",
      "ADRAMAQ - Designer's LVT Click\n",
      "Resilient Flooring\n",
      "ADRAMAQ - Designer's LVT Click\n",
      "IACG-50-04-02-2021A\n",
      "https://www.jab.de/\n"
     ]
    },
    {
     "name": "stderr",
     "output_type": "stream",
     "text": [
      "C:\\Users\\USER\\AppData\\Local\\Temp\\ipykernel_35348\\2064196938.py:79: FutureWarning: The frame.append method is deprecated and will be removed from pandas in a future version. Use pandas.concat instead.\n",
      "  gc = gc.append(Dic, ignore_index=True)\n"
     ]
    },
    {
     "name": "stdout",
     "output_type": "stream",
     "text": [
      "JAB Teppiche Heinz Anstoetz KG\n",
      "JAB - Design Floor LVT Click\n",
      "Resilient Flooring\n",
      "JAB - Design Floor LVT Click\n",
      "IACG-50-04-02-2021B\n",
      "https://www.jab.de/\n"
     ]
    },
    {
     "name": "stderr",
     "output_type": "stream",
     "text": [
      "C:\\Users\\USER\\AppData\\Local\\Temp\\ipykernel_35348\\2064196938.py:79: FutureWarning: The frame.append method is deprecated and will be removed from pandas in a future version. Use pandas.concat instead.\n",
      "  gc = gc.append(Dic, ignore_index=True)\n"
     ]
    },
    {
     "name": "stdout",
     "output_type": "stream",
     "text": [
      "JAB Teppiche Heinz Anstoetz KG\n",
      "ADRAMAQ - Designer's LVT SL\n",
      "Resilient Flooring\n",
      "ADRAMAQ - Designer's LVT SL\n",
      "IACG-50-04-03-2021A\n",
      "https://www.jab.de/\n"
     ]
    },
    {
     "name": "stderr",
     "output_type": "stream",
     "text": [
      "C:\\Users\\USER\\AppData\\Local\\Temp\\ipykernel_35348\\2064196938.py:79: FutureWarning: The frame.append method is deprecated and will be removed from pandas in a future version. Use pandas.concat instead.\n",
      "  gc = gc.append(Dic, ignore_index=True)\n"
     ]
    },
    {
     "name": "stdout",
     "output_type": "stream",
     "text": [
      "JAB Teppiche Heinz Anstoetz KG\n",
      "JAB - Design Floor LVT SL\n",
      "Resilient Flooring\n",
      "JAB - Design Floor LVT SL\n",
      "IACG-50-04-03-2021B\n",
      "https://www.jab.de/\n"
     ]
    },
    {
     "name": "stderr",
     "output_type": "stream",
     "text": [
      "C:\\Users\\USER\\AppData\\Local\\Temp\\ipykernel_35348\\2064196938.py:79: FutureWarning: The frame.append method is deprecated and will be removed from pandas in a future version. Use pandas.concat instead.\n",
      "  gc = gc.append(Dic, ignore_index=True)\n"
     ]
    },
    {
     "name": "stdout",
     "output_type": "stream",
     "text": [
      "JAB Teppiche Heinz Anstoetz KG\n",
      "ADRAMAQ - Designer's LVT Click +\n",
      "Resilient Flooring\n",
      "ADRAMAQ - Designer's LVT Click +\n",
      "IACG-50-04-04-2021A\n",
      "https://www.jab.de/\n"
     ]
    },
    {
     "name": "stderr",
     "output_type": "stream",
     "text": [
      "C:\\Users\\USER\\AppData\\Local\\Temp\\ipykernel_35348\\2064196938.py:79: FutureWarning: The frame.append method is deprecated and will be removed from pandas in a future version. Use pandas.concat instead.\n",
      "  gc = gc.append(Dic, ignore_index=True)\n"
     ]
    },
    {
     "name": "stdout",
     "output_type": "stream",
     "text": [
      "JAB Teppiche Heinz Anstoetz KG\n",
      "JAB - Design Floor LVT Click +\n",
      "Resilient Flooring\n",
      "JAB - Design Floor LVT Click +\n",
      "IACG-50-04-04-202B\n",
      "https://www.jab.de/\n"
     ]
    },
    {
     "name": "stderr",
     "output_type": "stream",
     "text": [
      "C:\\Users\\USER\\AppData\\Local\\Temp\\ipykernel_35348\\2064196938.py:79: FutureWarning: The frame.append method is deprecated and will be removed from pandas in a future version. Use pandas.concat instead.\n",
      "  gc = gc.append(Dic, ignore_index=True)\n"
     ]
    },
    {
     "name": "stdout",
     "output_type": "stream",
     "text": [
      "James Halstead PLC\n",
      "Luxury Vinyl Tiles\n",
      "Resilient Flooring\n",
      "Expona Design PUR, Expona Control PUR, Expona Commercial PUR, Expona Superplank PUR, Expona Bevel Line PUR, Affinity 255 PUR, Camaro PUR, Camaro Loc PUR, Colonia PUR.\n",
      "IACG-386-100-01-2021\n",
      "http://www.polyflor.com/\n"
     ]
    },
    {
     "name": "stderr",
     "output_type": "stream",
     "text": [
      "C:\\Users\\USER\\AppData\\Local\\Temp\\ipykernel_35348\\2064196938.py:79: FutureWarning: The frame.append method is deprecated and will be removed from pandas in a future version. Use pandas.concat instead.\n",
      "  gc = gc.append(Dic, ignore_index=True)\n"
     ]
    },
    {
     "name": "stdout",
     "output_type": "stream",
     "text": [
      "James Halstead PLC\n",
      "Fusion PUR\n",
      "Resilient Flooring\n",
      "Fusion PUR\n",
      "IACG-386-100-02-2021\n",
      "http://www.polyflor.com/\n"
     ]
    },
    {
     "name": "stderr",
     "output_type": "stream",
     "text": [
      "C:\\Users\\USER\\AppData\\Local\\Temp\\ipykernel_35348\\2064196938.py:79: FutureWarning: The frame.append method is deprecated and will be removed from pandas in a future version. Use pandas.concat instead.\n",
      "  gc = gc.append(Dic, ignore_index=True)\n"
     ]
    },
    {
     "name": "stdout",
     "output_type": "stream",
     "text": [
      "25\n",
      "James Halstead PLC\n",
      "Homogeneous Flooring\n",
      "Resilient Flooring\n",
      "Polyflor Palettone PUR, Polyflor Prestige PUR, Polyflor Pearlazzo PUR, Polyflor Classic Mystique PUR, Polyflor Mystique PUR, Polyflor 2000 PUR, Polyflor XLPU, Polyflor XL, Polyflex Plus PU, Polysafe Ecomax\n",
      "IACG-386-101-01-2021\n",
      "http://www.polyflor.com/\n"
     ]
    },
    {
     "name": "stderr",
     "output_type": "stream",
     "text": [
      "C:\\Users\\USER\\AppData\\Local\\Temp\\ipykernel_35348\\2064196938.py:79: FutureWarning: The frame.append method is deprecated and will be removed from pandas in a future version. Use pandas.concat instead.\n",
      "  gc = gc.append(Dic, ignore_index=True)\n"
     ]
    },
    {
     "name": "stdout",
     "output_type": "stream",
     "text": [
      "James Halstead PLC\n",
      "Designatex PUR\n",
      "Resilient Flooring\n",
      "Designatex PUR, Architex PUR\n",
      "IACG-386-102-01-2021\n",
      "http://www.polyflor.com/\n"
     ]
    },
    {
     "name": "stderr",
     "output_type": "stream",
     "text": [
      "C:\\Users\\USER\\AppData\\Local\\Temp\\ipykernel_35348\\2064196938.py:79: FutureWarning: The frame.append method is deprecated and will be removed from pandas in a future version. Use pandas.concat instead.\n",
      "  gc = gc.append(Dic, ignore_index=True)\n"
     ]
    },
    {
     "name": "stdout",
     "output_type": "stream",
     "text": [
      "James Halstead PLC\n",
      "Polysafe\n",
      "Resilient Flooring\n",
      "Polysafe Wood fx Acoustix PUR Polysafe Wood fx PUR Polysafe Stone fx PUR\n",
      "IACG-386-103-01-2021\n",
      "http://www.polyflor.com/\n"
     ]
    },
    {
     "name": "stderr",
     "output_type": "stream",
     "text": [
      "C:\\Users\\USER\\AppData\\Local\\Temp\\ipykernel_35348\\2064196938.py:79: FutureWarning: The frame.append method is deprecated and will be removed from pandas in a future version. Use pandas.concat instead.\n",
      "  gc = gc.append(Dic, ignore_index=True)\n"
     ]
    },
    {
     "name": "stdout",
     "output_type": "stream",
     "text": [
      "James Halstead PLC\n",
      "Polysafe Safety Flooring\n",
      "Resilient Flooring\n",
      "Polysafe Vogue Ultra PUR, Polysafe Standard PUR, Polysafe Hydro, Polysafe Ultima, Polysafe Apex, Polysafe Astral PUR, Polysafe Hydro Evolve, Polysafe Mosaic PUR, Polyflor Verona PUR, Polyflor Quattro PUR, Polyflor Quicklay PUR.\n",
      "IACG-386-104-01-2021\n",
      "http://www.polyflor.com/\n"
     ]
    },
    {
     "name": "stderr",
     "output_type": "stream",
     "text": [
      "C:\\Users\\USER\\AppData\\Local\\Temp\\ipykernel_35348\\2064196938.py:79: FutureWarning: The frame.append method is deprecated and will be removed from pandas in a future version. Use pandas.concat instead.\n",
      "  gc = gc.append(Dic, ignore_index=True)\n"
     ]
    },
    {
     "name": "stdout",
     "output_type": "stream",
     "text": [
      "James Halstead PLC\n",
      "Acoustic Flooring\n",
      "Resilient Flooring\n",
      "Silentflor PUR Acoustix Forest fx PUR Acoustix Gallery fx Polyflor Secura PUR\n",
      "IACG-386-105-01-2021\n",
      "http://www.polyflor.com/\n"
     ]
    },
    {
     "name": "stderr",
     "output_type": "stream",
     "text": [
      "C:\\Users\\USER\\AppData\\Local\\Temp\\ipykernel_35348\\2064196938.py:79: FutureWarning: The frame.append method is deprecated and will be removed from pandas in a future version. Use pandas.concat instead.\n",
      "  gc = gc.append(Dic, ignore_index=True)\n"
     ]
    },
    {
     "name": "stdout",
     "output_type": "stream",
     "text": [
      "James Halstead PLC\n",
      "Compact Heterogeneous\n",
      "Resilient Flooring\n",
      "Forest fx PUR, Expona Flow PUR, Bloc PUR, Ligno fx\n",
      "IACG-386-106-01-2021\n",
      "http://www.polyflor.com/\n"
     ]
    },
    {
     "name": "stderr",
     "output_type": "stream",
     "text": [
      "C:\\Users\\USER\\AppData\\Local\\Temp\\ipykernel_35348\\2064196938.py:79: FutureWarning: The frame.append method is deprecated and will be removed from pandas in a future version. Use pandas.concat instead.\n",
      "  gc = gc.append(Dic, ignore_index=True)\n"
     ]
    },
    {
     "name": "stdout",
     "output_type": "stream",
     "text": [
      "James Halstead PLC\n",
      "Loose Lay Tiles - 1\n",
      "Resilient Flooring\n",
      "Expona Simplay, Expona Puzzle, Expona Simplay 19 dB\n",
      "IACG-386-107-01-2020\n",
      "http://www.polyflor.com/\n"
     ]
    },
    {
     "name": "stderr",
     "output_type": "stream",
     "text": [
      "C:\\Users\\USER\\AppData\\Local\\Temp\\ipykernel_35348\\2064196938.py:79: FutureWarning: The frame.append method is deprecated and will be removed from pandas in a future version. Use pandas.concat instead.\n",
      "  gc = gc.append(Dic, ignore_index=True)\n"
     ]
    },
    {
     "name": "stdout",
     "output_type": "stream",
     "text": [
      "James Halstead PLC\n",
      "Loose Lay Tiles - 2\n",
      "Resilient Flooring\n",
      "Laneway, MiPlank\n",
      "IACG-386-107-02-2020\n",
      "http://www.polyflor.com/\n"
     ]
    },
    {
     "name": "stderr",
     "output_type": "stream",
     "text": [
      "C:\\Users\\USER\\AppData\\Local\\Temp\\ipykernel_35348\\2064196938.py:79: FutureWarning: The frame.append method is deprecated and will be removed from pandas in a future version. Use pandas.concat instead.\n",
      "  gc = gc.append(Dic, ignore_index=True)\n"
     ]
    },
    {
     "name": "stdout",
     "output_type": "stream",
     "text": [
      "James Halstead PLC\n",
      "ESD - Homogeneous Flooring\n",
      "Resilient Flooring\n",
      "Palettone SD, Finesse SD, Polyflor EC, Polyflor SD\n",
      "IACG-386-109-01-2021\n",
      "http://www.polyflor.com/\n"
     ]
    },
    {
     "name": "stderr",
     "output_type": "stream",
     "text": [
      "C:\\Users\\USER\\AppData\\Local\\Temp\\ipykernel_35348\\2064196938.py:79: FutureWarning: The frame.append method is deprecated and will be removed from pandas in a future version. Use pandas.concat instead.\n",
      "  gc = gc.append(Dic, ignore_index=True)\n"
     ]
    },
    {
     "name": "stdout",
     "output_type": "stream",
     "text": [
      "James Halstead PLC\n",
      "Loose Lay Tiles\n",
      "Resilient Flooring\n",
      "Expona Encore Rigid Loc, Camaro Rigid Core Loc.\n",
      "IACG-386-110-01-2021\n",
      "http://www.polyflor.com/\n"
     ]
    },
    {
     "name": "stderr",
     "output_type": "stream",
     "text": [
      "C:\\Users\\USER\\AppData\\Local\\Temp\\ipykernel_35348\\2064196938.py:79: FutureWarning: The frame.append method is deprecated and will be removed from pandas in a future version. Use pandas.concat instead.\n",
      "  gc = gc.append(Dic, ignore_index=True)\n"
     ]
    },
    {
     "name": "stdout",
     "output_type": "stream",
     "text": [
      "James Halstead PLC\n",
      "Saarfloor Noppe Stud Tile\n",
      "Resilient Flooring\n",
      "Saarfloor Noppe Stud Tile\n",
      "IACG-386-112-01-2022\n",
      "http://www.polyflor.com/\n"
     ]
    },
    {
     "name": "stderr",
     "output_type": "stream",
     "text": [
      "C:\\Users\\USER\\AppData\\Local\\Temp\\ipykernel_35348\\2064196938.py:79: FutureWarning: The frame.append method is deprecated and will be removed from pandas in a future version. Use pandas.concat instead.\n",
      "  gc = gc.append(Dic, ignore_index=True)\n"
     ]
    },
    {
     "name": "stdout",
     "output_type": "stream",
     "text": [
      "Jiangsu BBL Home Technology Company Limited\n",
      "BBL Vinyl Floors\n",
      "Resilient Flooring\n",
      "\n",
      "IACG-48-01-01-2022\n",
      "http://www.bblflooring.com/\n"
     ]
    },
    {
     "name": "stderr",
     "output_type": "stream",
     "text": [
      "C:\\Users\\USER\\AppData\\Local\\Temp\\ipykernel_35348\\2064196938.py:79: FutureWarning: The frame.append method is deprecated and will be removed from pandas in a future version. Use pandas.concat instead.\n",
      "  gc = gc.append(Dic, ignore_index=True)\n"
     ]
    },
    {
     "name": "stdout",
     "output_type": "stream",
     "text": [
      "Jiangsu BBL Home Technology Company Limited\n",
      "Diamond Floor (Rigid Board)\n",
      "Resilient Flooring\n",
      "\n",
      "IACG-48-01-03-2022\n",
      "http://www.bblflooring.com/\n"
     ]
    },
    {
     "name": "stderr",
     "output_type": "stream",
     "text": [
      "C:\\Users\\USER\\AppData\\Local\\Temp\\ipykernel_35348\\2064196938.py:79: FutureWarning: The frame.append method is deprecated and will be removed from pandas in a future version. Use pandas.concat instead.\n",
      "  gc = gc.append(Dic, ignore_index=True)\n"
     ]
    },
    {
     "name": "stdout",
     "output_type": "stream",
     "text": [
      "Jiangsu BBL Home Technology Company Limited\n",
      "PP Flooring\n",
      "Resilient Flooring\n",
      "PP Flooring\n",
      "IACG-48-01-04-2022\n",
      "http://www.bblflooring.com/\n"
     ]
    },
    {
     "name": "stderr",
     "output_type": "stream",
     "text": [
      "C:\\Users\\USER\\AppData\\Local\\Temp\\ipykernel_35348\\2064196938.py:79: FutureWarning: The frame.append method is deprecated and will be removed from pandas in a future version. Use pandas.concat instead.\n",
      "  gc = gc.append(Dic, ignore_index=True)\n"
     ]
    },
    {
     "name": "stdout",
     "output_type": "stream",
     "text": [
      "Jiangsu Changlong Decorative Material Technical Co., LTD\n",
      "LVT\n",
      "Resilient Flooring\n",
      "LVT\n",
      "IACG-432-01-01-2021\n",
      "None\n"
     ]
    },
    {
     "name": "stderr",
     "output_type": "stream",
     "text": [
      "C:\\Users\\USER\\AppData\\Local\\Temp\\ipykernel_35348\\2064196938.py:79: FutureWarning: The frame.append method is deprecated and will be removed from pandas in a future version. Use pandas.concat instead.\n",
      "  gc = gc.append(Dic, ignore_index=True)\n"
     ]
    },
    {
     "name": "stdout",
     "output_type": "stream",
     "text": [
      "Jiangsu Changlong Decorative Material Technical Co., LTD\n",
      "Click\n",
      "Resilient Flooring\n",
      "Click\n",
      "IACG-432-01-02-2021\n",
      "None\n"
     ]
    },
    {
     "name": "stderr",
     "output_type": "stream",
     "text": [
      "C:\\Users\\USER\\AppData\\Local\\Temp\\ipykernel_35348\\2064196938.py:79: FutureWarning: The frame.append method is deprecated and will be removed from pandas in a future version. Use pandas.concat instead.\n",
      "  gc = gc.append(Dic, ignore_index=True)\n"
     ]
    },
    {
     "name": "stdout",
     "output_type": "stream",
     "text": [
      "Jiangsu Changlong Decorative Material Technical Co., LTD\n",
      "Loose Lay\n",
      "Resilient Flooring\n",
      "Loose Lay\n",
      "IACG-432-01-03-2021\n",
      "None\n"
     ]
    },
    {
     "name": "stderr",
     "output_type": "stream",
     "text": [
      "C:\\Users\\USER\\AppData\\Local\\Temp\\ipykernel_35348\\2064196938.py:79: FutureWarning: The frame.append method is deprecated and will be removed from pandas in a future version. Use pandas.concat instead.\n",
      "  gc = gc.append(Dic, ignore_index=True)\n"
     ]
    },
    {
     "name": "stdout",
     "output_type": "stream",
     "text": [
      "Jotun AS\n",
      "Lady Balance and Jotaproff Prima Air\n",
      "Wall paints\n",
      "\n",
      "IACG-322-01-01-2021\n",
      "http://www.jotun.com/\n"
     ]
    },
    {
     "name": "stderr",
     "output_type": "stream",
     "text": [
      "C:\\Users\\USER\\AppData\\Local\\Temp\\ipykernel_35348\\2064196938.py:79: FutureWarning: The frame.append method is deprecated and will be removed from pandas in a future version. Use pandas.concat instead.\n",
      "  gc = gc.append(Dic, ignore_index=True)\n"
     ]
    },
    {
     "name": "stdout",
     "output_type": "stream",
     "text": [
      "Jotun Coatings (Zhangjiagang) Co., Ltd.\n",
      "Lady Nordic Air\n",
      "Wall Paints\n",
      "Lady Nordic Air\n",
      "IACG-344-01-01A-2021\n",
      "http://www.jotun.com/\n"
     ]
    },
    {
     "name": "stderr",
     "output_type": "stream",
     "text": [
      "C:\\Users\\USER\\AppData\\Local\\Temp\\ipykernel_35348\\2064196938.py:79: FutureWarning: The frame.append method is deprecated and will be removed from pandas in a future version. Use pandas.concat instead.\n",
      "  gc = gc.append(Dic, ignore_index=True)\n"
     ]
    },
    {
     "name": "stdout",
     "output_type": "stream",
     "text": [
      "Jotun Coatings (Zhangjiagang) Co., Ltd.\n",
      "Majestic Nordic Air\n",
      "Wall Paints\n",
      "Majestic Nordic Air\n",
      "IACG-344-01-01B-2021\n",
      "http://www.jotun.com/\n"
     ]
    },
    {
     "name": "stderr",
     "output_type": "stream",
     "text": [
      "C:\\Users\\USER\\AppData\\Local\\Temp\\ipykernel_35348\\2064196938.py:79: FutureWarning: The frame.append method is deprecated and will be removed from pandas in a future version. Use pandas.concat instead.\n",
      "  gc = gc.append(Dic, ignore_index=True)\n"
     ]
    },
    {
     "name": "stdout",
     "output_type": "stream",
     "text": [
      "Jotun Coatings (Zhangjiagang) Co., Ltd.\n",
      "Lady Nordic Breeze\n",
      "Wall Paints\n",
      "Lady Nordic Breeze\n",
      "IACG-344-01-01C-2021\n",
      "http://www.jotun.com/\n"
     ]
    },
    {
     "name": "stderr",
     "output_type": "stream",
     "text": [
      "C:\\Users\\USER\\AppData\\Local\\Temp\\ipykernel_35348\\2064196938.py:79: FutureWarning: The frame.append method is deprecated and will be removed from pandas in a future version. Use pandas.concat instead.\n",
      "  gc = gc.append(Dic, ignore_index=True)\n"
     ]
    },
    {
     "name": "stdout",
     "output_type": "stream",
     "text": [
      "Jotun Coatings (Zhangjiagang) Co., Ltd.\n",
      "Lady Nordic Pure\n",
      "Wall Paints\n",
      "Lady Nordic Pure\n",
      "IACG-344-01-01D-2021\n",
      "http://www.jotun.com/\n"
     ]
    },
    {
     "name": "stderr",
     "output_type": "stream",
     "text": [
      "C:\\Users\\USER\\AppData\\Local\\Temp\\ipykernel_35348\\2064196938.py:79: FutureWarning: The frame.append method is deprecated and will be removed from pandas in a future version. Use pandas.concat instead.\n",
      "  gc = gc.append(Dic, ignore_index=True)\n"
     ]
    },
    {
     "name": "stdout",
     "output_type": "stream",
     "text": [
      "Karndean Designflooring\n",
      "Designflooring 1\n",
      "Resilient Flooring\n",
      "Art Select Da Vinci Van Gogh Opus Palio Gluedown 2.5mm Opus Enhance Knight tile Palio Gluedown 2.0mm K-Trade\n",
      "IACG-66-02-01-2020B\n",
      "http://www.karndean.com/en/floors\n"
     ]
    },
    {
     "name": "stderr",
     "output_type": "stream",
     "text": [
      "C:\\Users\\USER\\AppData\\Local\\Temp\\ipykernel_35348\\2064196938.py:79: FutureWarning: The frame.append method is deprecated and will be removed from pandas in a future version. Use pandas.concat instead.\n",
      "  gc = gc.append(Dic, ignore_index=True)\n"
     ]
    },
    {
     "name": "stdout",
     "output_type": "stream",
     "text": [
      "Karndean Designflooring\n",
      "Designflooring 2\n",
      "Resilient Flooring\n",
      "Art Select Da Vinci Michelangelo Knight tile Solid Color 2.5 mm Solid Color 3.0 mm\n",
      "IACG-66-02-02B-2021\n",
      "http://www.karndean.com/en/floors\n"
     ]
    },
    {
     "name": "stderr",
     "output_type": "stream",
     "text": [
      "C:\\Users\\USER\\AppData\\Local\\Temp\\ipykernel_35348\\2064196938.py:79: FutureWarning: The frame.append method is deprecated and will be removed from pandas in a future version. Use pandas.concat instead.\n",
      "  gc = gc.append(Dic, ignore_index=True)\n"
     ]
    },
    {
     "name": "stdout",
     "output_type": "stream",
     "text": [
      "Karndean Designflooring\n",
      "Designflooring 4\n",
      "Resilient Flooring\n",
      "LooseLay, Van Gogh, HDC 2.5, Palio Gluedown 2.0mm, Palio Gluedown 2.5mm, Palio Rigid Core\n",
      "IACG-66-02-03B-2021\n",
      "http://www.karndean.com/en/floors\n"
     ]
    },
    {
     "name": "stderr",
     "output_type": "stream",
     "text": [
      "C:\\Users\\USER\\AppData\\Local\\Temp\\ipykernel_35348\\2064196938.py:79: FutureWarning: The frame.append method is deprecated and will be removed from pandas in a future version. Use pandas.concat instead.\n",
      "  gc = gc.append(Dic, ignore_index=True)\n"
     ]
    },
    {
     "name": "stdout",
     "output_type": "stream",
     "text": [
      "25\n",
      "Karndean Designflooring\n",
      "Designflooring 10\n",
      "Resilient Flooring\n",
      "Knight tile Da Vinci Van Gogh Rigid Core (AUS) Max floor 5.0mm\n",
      "IACG-66-02-04-2020B\n",
      "http://www.karndean.com/en/floors\n"
     ]
    },
    {
     "name": "stderr",
     "output_type": "stream",
     "text": [
      "C:\\Users\\USER\\AppData\\Local\\Temp\\ipykernel_35348\\2064196938.py:79: FutureWarning: The frame.append method is deprecated and will be removed from pandas in a future version. Use pandas.concat instead.\n",
      "  gc = gc.append(Dic, ignore_index=True)\n"
     ]
    },
    {
     "name": "stdout",
     "output_type": "stream",
     "text": [
      "Karndean Designflooring\n",
      "Designflooring 11\n",
      "Resilient Flooring\n",
      "Palio Clic, Palio Core, Korlok, Van Gogh Rigid Core, Knight Tile Rigid Core, Van Gogh Rigid Core, Opus.\n",
      "IACG-66-02-05B-2021\n",
      "http://www.karndean.com/en/floors\n"
     ]
    },
    {
     "name": "stderr",
     "output_type": "stream",
     "text": [
      "C:\\Users\\USER\\AppData\\Local\\Temp\\ipykernel_35348\\2064196938.py:79: FutureWarning: The frame.append method is deprecated and will be removed from pandas in a future version. Use pandas.concat instead.\n",
      "  gc = gc.append(Dic, ignore_index=True)\n"
     ]
    },
    {
     "name": "stdout",
     "output_type": "stream",
     "text": [
      "Karndean International GmbH\n",
      "Karndean LVT\n",
      "Resilient Flooring\n",
      "Projectline, Projectline Click, Projectline Loc, Conceptline, Conceptline Click, Conceptline Loc, XL-Plank 0.3, XL-Plank 0.55, Pure Wood 0.3, Pure Wood 0.55, Lightline.\n",
      "IACG-23-100-04-2021\n",
      "https://www.objectflor.de/\n"
     ]
    },
    {
     "name": "stderr",
     "output_type": "stream",
     "text": [
      "C:\\Users\\USER\\AppData\\Local\\Temp\\ipykernel_35348\\2064196938.py:79: FutureWarning: The frame.append method is deprecated and will be removed from pandas in a future version. Use pandas.concat instead.\n",
      "  gc = gc.append(Dic, ignore_index=True)\n"
     ]
    },
    {
     "name": "stdout",
     "output_type": "stream",
     "text": [
      "Kingspan Insulation\n",
      "Kooltherm pipe insulation CPL\n",
      "Insulation\n",
      "\n",
      "IACG-331-01-01-2021\n",
      "https://www.kingspan.com/\n"
     ]
    },
    {
     "name": "stderr",
     "output_type": "stream",
     "text": [
      "C:\\Users\\USER\\AppData\\Local\\Temp\\ipykernel_35348\\2064196938.py:79: FutureWarning: The frame.append method is deprecated and will be removed from pandas in a future version. Use pandas.concat instead.\n",
      "  gc = gc.append(Dic, ignore_index=True)\n"
     ]
    },
    {
     "name": "stdout",
     "output_type": "stream",
     "text": [
      "Kingspan Insulation\n",
      "Kooltherm pipe insulation CNC\n",
      "Insulation\n",
      "\n",
      "IACG-331-01-02-2022\n",
      "https://www.kingspan.com/\n"
     ]
    },
    {
     "name": "stderr",
     "output_type": "stream",
     "text": [
      "C:\\Users\\USER\\AppData\\Local\\Temp\\ipykernel_35348\\2064196938.py:79: FutureWarning: The frame.append method is deprecated and will be removed from pandas in a future version. Use pandas.concat instead.\n",
      "  gc = gc.append(Dic, ignore_index=True)\n"
     ]
    },
    {
     "name": "stdout",
     "output_type": "stream",
     "text": [
      "KLB Kötztal GmbH\n",
      "KLB INDUSTRIAL EP\n",
      "Coating Systems\n",
      "System C1: KLB LOW-VOC EP Standard System D1: KLB TECH CLEAN INDUSTRIAL LOW-VOC EP System D2: KLB TECH CLEAN DECOR LOW-VOC EP System C2: KLB LOW-VOC EP RX System C5: KLB LOW-VOC EP Screed RX System F10: KLB CONDUCTIVE LOW-VOC EP EX\n",
      "IACG-52-01-11-2020\n",
      "http://www.klb-koetztal.de/\n"
     ]
    },
    {
     "name": "stderr",
     "output_type": "stream",
     "text": [
      "C:\\Users\\USER\\AppData\\Local\\Temp\\ipykernel_35348\\2064196938.py:79: FutureWarning: The frame.append method is deprecated and will be removed from pandas in a future version. Use pandas.concat instead.\n",
      "  gc = gc.append(Dic, ignore_index=True)\n"
     ]
    },
    {
     "name": "stdout",
     "output_type": "stream",
     "text": [
      "KLB Kötztal GmbH\n",
      "KLB INDUSTRIAL PU\n",
      "Coating Systems\n",
      "System G2: KLB INDUSTRIAL LOW-VOC PU Sealed, System G3: KLB INDUSTRIAL LOW-VOC PU Comfort Sealed, System G4: KLB INDUSTRIAL LOW-VOC PU Elastic Sealed, System F6: KLB CONDUCTIVE LOW-VOC PU ESD Elastic\n",
      "IACG-52-01-12-2020\n",
      "http://www.klb-koetztal.de/\n"
     ]
    },
    {
     "name": "stderr",
     "output_type": "stream",
     "text": [
      "C:\\Users\\USER\\AppData\\Local\\Temp\\ipykernel_35348\\2064196938.py:79: FutureWarning: The frame.append method is deprecated and will be removed from pandas in a future version. Use pandas.concat instead.\n",
      "  gc = gc.append(Dic, ignore_index=True)\n"
     ]
    },
    {
     "name": "stdout",
     "output_type": "stream",
     "text": [
      "KLB Kötztal GmbH\n",
      "KLB DECOR PU\n",
      "Coating Systems\n",
      "System G8: KLB DECOR LOW-VOC PU Comfort Silent, System G9: KLB DECOR LOW-VOC PU Silent Sealed, System G7: KLB DECOR LOW-VOC PU Light Sealed, System G10: KLB DECOR LOW-VOC PU Glitter Effect\n",
      "IACG-52-01-13-2020\n",
      "http://www.klb-koetztal.de/\n"
     ]
    },
    {
     "name": "stderr",
     "output_type": "stream",
     "text": [
      "C:\\Users\\USER\\AppData\\Local\\Temp\\ipykernel_35348\\2064196938.py:79: FutureWarning: The frame.append method is deprecated and will be removed from pandas in a future version. Use pandas.concat instead.\n",
      "  gc = gc.append(Dic, ignore_index=True)\n"
     ]
    },
    {
     "name": "stdout",
     "output_type": "stream",
     "text": [
      "KLB Kötztal GmbH\n",
      "KLB INDUSTRIAL DIFFUSION\n",
      "Coating Systems\n",
      "System E1: KLB INDUSTRIAL DIFFUSION LOW-VOC EP Color, System E2: KLB INDUSTRIAL DIFFUSION LOW-VOC EP Standard, System E3: KLB INDUSTRIAL DIFFUSION LOW-VOC EP RX, System F9: KLB CONDUKTIVE DIFFUSION LOW-VOC EP EX\n",
      "IACG-52-01-14-2020\n",
      "http://www.klb-koetztal.de/\n"
     ]
    },
    {
     "name": "stderr",
     "output_type": "stream",
     "text": [
      "C:\\Users\\USER\\AppData\\Local\\Temp\\ipykernel_35348\\2064196938.py:79: FutureWarning: The frame.append method is deprecated and will be removed from pandas in a future version. Use pandas.concat instead.\n",
      "  gc = gc.append(Dic, ignore_index=True)\n"
     ]
    },
    {
     "name": "stdout",
     "output_type": "stream",
     "text": [
      "KLB Kötztal GmbH\n",
      "KLB DECOR WALL\n",
      "Coating Systems\n",
      "System N2: KLB DECOR LOW-VOC WALL PU\n",
      "IACG-52-01-15-2020\n",
      "http://www.klb-koetztal.de/\n"
     ]
    },
    {
     "name": "stderr",
     "output_type": "stream",
     "text": [
      "C:\\Users\\USER\\AppData\\Local\\Temp\\ipykernel_35348\\2064196938.py:79: FutureWarning: The frame.append method is deprecated and will be removed from pandas in a future version. Use pandas.concat instead.\n",
      "  gc = gc.append(Dic, ignore_index=True)\n"
     ]
    },
    {
     "name": "stdout",
     "output_type": "stream",
     "text": [
      "KLB Kötztal GmbH\n",
      "KLB KITCHEN\n",
      "Coating Systems\n",
      "System H2: KLB KITCHEN LOW-VOC PU\n",
      "IACG-52-01-16-2020\n",
      "http://www.klb-koetztal.de/\n"
     ]
    },
    {
     "name": "stderr",
     "output_type": "stream",
     "text": [
      "C:\\Users\\USER\\AppData\\Local\\Temp\\ipykernel_35348\\2064196938.py:79: FutureWarning: The frame.append method is deprecated and will be removed from pandas in a future version. Use pandas.concat instead.\n",
      "  gc = gc.append(Dic, ignore_index=True)\n"
     ]
    },
    {
     "name": "stdout",
     "output_type": "stream",
     "text": [
      "KLB Kötztal GmbH\n",
      "KLB PHARMA AND STONE\n",
      "Coating Systems\n",
      "System C4: KLB LOW-VOC PHARMA EP Screed, System C3: KLB LOW-VOC PHARMA EP Screed Spezial, System L2: KLB DECOR STONE-CARPET LOW VOC EP Indoor, System L4: KLB DECOR STONE-CARPET LOW VOC PU Outdoor\n",
      "IACG-52-01-17-2020\n",
      "http://www.klb-koetztal.de/\n"
     ]
    },
    {
     "name": "stderr",
     "output_type": "stream",
     "text": [
      "C:\\Users\\USER\\AppData\\Local\\Temp\\ipykernel_35348\\2064196938.py:79: FutureWarning: The frame.append method is deprecated and will be removed from pandas in a future version. Use pandas.concat instead.\n",
      "  gc = gc.append(Dic, ignore_index=True)\n"
     ]
    },
    {
     "name": "stdout",
     "output_type": "stream",
     "text": [
      "Knauf Ceiling Solutions\n",
      "Eleganza\n",
      "Acoustic ceilings\n",
      "Eleganza\n",
      "IACG-426-01-03-2021\n",
      "https://www.knaufceilingsolutions.com/\n"
     ]
    },
    {
     "name": "stderr",
     "output_type": "stream",
     "text": [
      "C:\\Users\\USER\\AppData\\Local\\Temp\\ipykernel_35348\\2064196938.py:79: FutureWarning: The frame.append method is deprecated and will be removed from pandas in a future version. Use pandas.concat instead.\n",
      "  gc = gc.append(Dic, ignore_index=True)\n"
     ]
    },
    {
     "name": "stdout",
     "output_type": "stream",
     "text": [
      "Knauf Ceiling Solutions\n",
      "Mineral Fibre Ceiling Tiles\n",
      "Acoustic ceilings\n",
      "Armstrong Atlas, Armstrong Aleria L, Armstrong Bajkal 90RH, Armstrong Bioguard Acoustic, Armstrong Bioguard Acoustic OP, Armstrong Bioguard Acoustic OP RH100, Armstrong Bioguard Plain, Armstrong Casa, Armstrong Casa Max, Armstrong Cortega, Armstrong Dune, Armstrong Dune Max, Armstrong Dune Supreme, Armstrong Feria, Armstrong Fine Fissured, Armstrong Fine Fissured High NRC, Armstrong Fine Fissured High NRC/ CAC, Armstrong Oasis 90RH, Armstrong Perla, Armstrong Perla OP 19mm, Armstrong Perla dB, Armstrong Perla OP 0,95, Armstrong Perla OP 1,0 Armstrong Plain, Armstrong Retail Armstrong Sahara, Armstrong Sahara A1, Armstrong Saniguard, Armstrong Savanna, Armstrong Savanna, Armstrong Scala, Armstrong Sierra, Armstrong Sierra OP, Armstrong Tatra, Armstrong Ultima, Armstrong Ultima OP, Armstrong Ultima OP dB, Armstrong Ultima dB, Ultima+ Acoustic, Ultima+ Alpha, Ultima+ HD , Ultima+ dB, Thermatex Antaris+, Ultima+, Ultima+ OP, Ecomin Filigran, Ecomin Nevada, Ecomin Orbit, Ecomin Orbit Micro, Ecomin Planet, Ecomin Trento, Tacet Base Board, Thermatex Acoustic , Thermatex Acoustic Vector, Thermatex Alpha, Thermatex Alpha HD, Thermatex Alpha ONE, Thermatex Antaris, Thermatex Antaris C, Thermatex Aquatec, Thermatex dB Acoustic, Thermatex Feinfresko, Thermatex Feinstratos, Thermatex Feinstratos Micro, Thermatex Feinstratos Micro Complete, Thermatex Fresko, Thermatex Laguna, Thermatex Laguna Micro, Thermatex Mercure, Thermatex Schlicht, Thermatex Star, Thermatex Star Complete, Thermatex Symetra Rg 4-10, Thermatex Symetra Rg 4-16, Thermatex Thermofon, Thermatex Thermofon, THERMATEX Antaris.\n",
      "IACG-426-01-01-2021\n",
      "https://www.knaufceilingsolutions.com/\n"
     ]
    },
    {
     "name": "stderr",
     "output_type": "stream",
     "text": [
      "C:\\Users\\USER\\AppData\\Local\\Temp\\ipykernel_35348\\2064196938.py:79: FutureWarning: The frame.append method is deprecated and will be removed from pandas in a future version. Use pandas.concat instead.\n",
      "  gc = gc.append(Dic, ignore_index=True)\n"
     ]
    },
    {
     "name": "stdout",
     "output_type": "stream",
     "text": [
      "Knauf Ceiling Solutions\n",
      "Mineral Fibre Ceiling Tiles\n",
      "Acoustic ceilings\n",
      "Armstrong Solara, Topiq Efficient PRO, Topiq Prime, Topiq Sound\n",
      "IACG-426-01-02-2021\n",
      "https://www.knaufceilingsolutions.com/\n"
     ]
    },
    {
     "name": "stderr",
     "output_type": "stream",
     "text": [
      "C:\\Users\\USER\\AppData\\Local\\Temp\\ipykernel_35348\\2064196938.py:79: FutureWarning: The frame.append method is deprecated and will be removed from pandas in a future version. Use pandas.concat instead.\n",
      "  gc = gc.append(Dic, ignore_index=True)\n"
     ]
    },
    {
     "name": "stdout",
     "output_type": "stream",
     "text": [
      "Knauf Ceiling Solutions\n",
      "Heradesign\n",
      "Acoustic ceilings\n",
      "Heradesign superfine, Heradesign fine, Heradesign macro, Heradesign micro, Heradesign plano, Heradesign superfine A2, Heradesign fine A2\n",
      "IACG-443-01-01-2021\n",
      "https://www.knaufceilingsolutions.com/\n"
     ]
    },
    {
     "name": "stderr",
     "output_type": "stream",
     "text": [
      "C:\\Users\\USER\\AppData\\Local\\Temp\\ipykernel_35348\\2064196938.py:79: FutureWarning: The frame.append method is deprecated and will be removed from pandas in a future version. Use pandas.concat instead.\n",
      "  gc = gc.append(Dic, ignore_index=True)\n"
     ]
    },
    {
     "name": "stdout",
     "output_type": "stream",
     "text": [
      "Knauf di Knauf S.r.l. s.a.s\n",
      "Knauf Plasterboards\n",
      "Plasterboard\n",
      "Diamant 12.5 mm, GKB 9.5 mm, 12.5 mm and 15.0 mm, GKB + BV 12.5 mm, GKB Advanced 12.5 mm, GKB Advanced + BV 12.5 mm, GKF 12.5 mm and 15.0 mm, GKI 12.5 mm, Kasa 12.5 mm, Lastra A-Zero 12.5 mm, Lastra F-Zero 12.5 mm and 15.0 mm\n",
      "IACG-458-01-01-2022\n",
      "https://www.knauf.it/\n"
     ]
    },
    {
     "name": "stderr",
     "output_type": "stream",
     "text": [
      "C:\\Users\\USER\\AppData\\Local\\Temp\\ipykernel_35348\\2064196938.py:79: FutureWarning: The frame.append method is deprecated and will be removed from pandas in a future version. Use pandas.concat instead.\n",
      "  gc = gc.append(Dic, ignore_index=True)\n"
     ]
    },
    {
     "name": "stdout",
     "output_type": "stream",
     "text": [
      "Knauf Insulation\n",
      "Knauf Insulation unfaced GMW products with ECOSE® Technology\n",
      "Insulation\n",
      "Knauf Insulation unfaced GMW products with ECOSE® Technology\n",
      "IACG-323-01-25-2022\n",
      "http://www.knaufinsulation.com/\n"
     ]
    },
    {
     "name": "stderr",
     "output_type": "stream",
     "text": [
      "C:\\Users\\USER\\AppData\\Local\\Temp\\ipykernel_35348\\2064196938.py:79: FutureWarning: The frame.append method is deprecated and will be removed from pandas in a future version. Use pandas.concat instead.\n",
      "  gc = gc.append(Dic, ignore_index=True)\n"
     ]
    },
    {
     "name": "stdout",
     "output_type": "stream",
     "text": [
      "Knauf Insulation\n",
      "Knauf Insulation GMW products with ECOSE® Technology with aluminium facing\n",
      "Insulation\n",
      "\n",
      "IACG-323-01-28-2021\n",
      "http://www.knaufinsulation.com/\n"
     ]
    },
    {
     "name": "stderr",
     "output_type": "stream",
     "text": [
      "C:\\Users\\USER\\AppData\\Local\\Temp\\ipykernel_35348\\2064196938.py:79: FutureWarning: The frame.append method is deprecated and will be removed from pandas in a future version. Use pandas.concat instead.\n",
      "  gc = gc.append(Dic, ignore_index=True)\n"
     ]
    },
    {
     "name": "stdout",
     "output_type": "stream",
     "text": [
      "Knauf Insulation\n",
      "Knauf Insulation GMW products with ECOSE® Technology with paper kraft facing\n",
      "Insulation\n",
      "\n",
      "IACG-323-01-29-2021B\n",
      "http://www.knaufinsulation.com/\n"
     ]
    },
    {
     "name": "stderr",
     "output_type": "stream",
     "text": [
      "C:\\Users\\USER\\AppData\\Local\\Temp\\ipykernel_35348\\2064196938.py:79: FutureWarning: The frame.append method is deprecated and will be removed from pandas in a future version. Use pandas.concat instead.\n",
      "  gc = gc.append(Dic, ignore_index=True)\n"
     ]
    },
    {
     "name": "stdout",
     "output_type": "stream",
     "text": [
      "Knauf Insulation\n",
      "Knauf Insulation Virgin Blowing Wool and Supafil\n",
      "Insulation\n",
      "\n",
      "IACG-323-01-33-2021B\n",
      "http://www.knaufinsulation.com/\n"
     ]
    },
    {
     "name": "stderr",
     "output_type": "stream",
     "text": [
      "C:\\Users\\USER\\AppData\\Local\\Temp\\ipykernel_35348\\2064196938.py:79: FutureWarning: The frame.append method is deprecated and will be removed from pandas in a future version. Use pandas.concat instead.\n",
      "  gc = gc.append(Dic, ignore_index=True)\n"
     ]
    },
    {
     "name": "stdout",
     "output_type": "stream",
     "text": [
      "Knauf Insulation\n",
      "Knauf Insulation GMW with ECOSE® with bio-based binder glass veil\n",
      "Insulation\n",
      "\n",
      "IACG-323-01-34-2022\n",
      "http://www.knaufinsulation.com/\n"
     ]
    },
    {
     "name": "stderr",
     "output_type": "stream",
     "text": [
      "C:\\Users\\USER\\AppData\\Local\\Temp\\ipykernel_35348\\2064196938.py:79: FutureWarning: The frame.append method is deprecated and will be removed from pandas in a future version. Use pandas.concat instead.\n",
      "  gc = gc.append(Dic, ignore_index=True)\n"
     ]
    },
    {
     "name": "stdout",
     "output_type": "stream",
     "text": [
      "Knauf Insulation\n",
      "Knauf Insulation JetSpray All In One Thermal\n",
      "Insulation\n",
      "Knauf Insulation JetSpray All In One Thermal\n",
      "IACG-323-01-35-2021B\n",
      "http://www.knaufinsulation.com/\n"
     ]
    },
    {
     "name": "stderr",
     "output_type": "stream",
     "text": [
      "C:\\Users\\USER\\AppData\\Local\\Temp\\ipykernel_35348\\2064196938.py:79: FutureWarning: The frame.append method is deprecated and will be removed from pandas in a future version. Use pandas.concat instead.\n",
      "  gc = gc.append(Dic, ignore_index=True)\n"
     ]
    },
    {
     "name": "stdout",
     "output_type": "stream",
     "text": [
      "Knauf Insulation\n",
      "Knauf Insulation GMW products with ECOSE® Technology with ALU PET facing\n",
      "Insulation\n",
      "\n",
      "IACG-323-01-36-2020\n",
      "http://www.knaufinsulation.com/\n"
     ]
    },
    {
     "name": "stderr",
     "output_type": "stream",
     "text": [
      "C:\\Users\\USER\\AppData\\Local\\Temp\\ipykernel_35348\\2064196938.py:79: FutureWarning: The frame.append method is deprecated and will be removed from pandas in a future version. Use pandas.concat instead.\n",
      "  gc = gc.append(Dic, ignore_index=True)\n"
     ]
    },
    {
     "name": "stdout",
     "output_type": "stream",
     "text": [
      "Knauf Insulation\n",
      "Mineral Plus\n",
      "Insulation\n",
      "\n",
      "IACG-323-01-37-2022\n",
      "http://www.knaufinsulation.com/\n"
     ]
    },
    {
     "name": "stderr",
     "output_type": "stream",
     "text": [
      "C:\\Users\\USER\\AppData\\Local\\Temp\\ipykernel_35348\\2064196938.py:79: FutureWarning: The frame.append method is deprecated and will be removed from pandas in a future version. Use pandas.concat instead.\n",
      "  gc = gc.append(Dic, ignore_index=True)\n"
     ]
    },
    {
     "name": "stdout",
     "output_type": "stream",
     "text": [
      "25\n",
      "Knauf Insulation\n",
      "Mineral Wool 34 Alu Plus\n",
      "Insulation\n",
      "\n",
      "IACG-323-01-39-2022\n",
      "http://www.knaufinsulation.com/\n"
     ]
    },
    {
     "name": "stderr",
     "output_type": "stream",
     "text": [
      "C:\\Users\\USER\\AppData\\Local\\Temp\\ipykernel_35348\\2064196938.py:79: FutureWarning: The frame.append method is deprecated and will be removed from pandas in a future version. Use pandas.concat instead.\n",
      "  gc = gc.append(Dic, ignore_index=True)\n"
     ]
    },
    {
     "name": "stdout",
     "output_type": "stream",
     "text": [
      "Knauf Insulation\n",
      "Knauf Insulation GWM products with E-Technology without facing\n",
      "Insulation\n",
      "\n",
      "IACG-323-01-40-2022\n",
      "http://www.knaufinsulation.com/\n"
     ]
    },
    {
     "name": "stderr",
     "output_type": "stream",
     "text": [
      "C:\\Users\\USER\\AppData\\Local\\Temp\\ipykernel_35348\\2064196938.py:79: FutureWarning: The frame.append method is deprecated and will be removed from pandas in a future version. Use pandas.concat instead.\n",
      "  gc = gc.append(Dic, ignore_index=True)\n"
     ]
    },
    {
     "name": "stdout",
     "output_type": "stream",
     "text": [
      "Knauf Insulation\n",
      "Knauf Insulation GWM products with E-Technology with glass veil or kraft or alu kraft facing\n",
      "Insulation\n",
      "\n",
      "IACG-323-01-41-2022\n",
      "http://www.knaufinsulation.com/\n"
     ]
    },
    {
     "name": "stderr",
     "output_type": "stream",
     "text": [
      "C:\\Users\\USER\\AppData\\Local\\Temp\\ipykernel_35348\\2064196938.py:79: FutureWarning: The frame.append method is deprecated and will be removed from pandas in a future version. Use pandas.concat instead.\n",
      "  gc = gc.append(Dic, ignore_index=True)\n"
     ]
    },
    {
     "name": "stdout",
     "output_type": "stream",
     "text": [
      "Knauf Insulation\n",
      "Knauf Insulation unfaced and aluminim faced Rock Mineral Wool products with ECOSE® Technology\n",
      "Insulation\n",
      "Knauf Insulation unfaced, paper and aluminum faced Rock Mineral Wool with ECOSE® Technology\n",
      "IACG-323-02-01-2020\n",
      "http://www.knaufinsulation.com/\n"
     ]
    },
    {
     "name": "stderr",
     "output_type": "stream",
     "text": [
      "C:\\Users\\USER\\AppData\\Local\\Temp\\ipykernel_35348\\2064196938.py:79: FutureWarning: The frame.append method is deprecated and will be removed from pandas in a future version. Use pandas.concat instead.\n",
      "  gc = gc.append(Dic, ignore_index=True)\n"
     ]
    },
    {
     "name": "stdout",
     "output_type": "stream",
     "text": [
      "Knauf Insulation\n",
      "Knauf Insulation veil faced Rock Mineral  Wool products with ECOSE® Technology\n",
      "Insulation\n",
      "Knauf Insulation veil faced Rock Mineral  Wool products with Ecose Technology\n",
      "IACG-323-02-02-2020\n",
      "http://www.knaufinsulation.com/\n"
     ]
    },
    {
     "name": "stderr",
     "output_type": "stream",
     "text": [
      "C:\\Users\\USER\\AppData\\Local\\Temp\\ipykernel_35348\\2064196938.py:79: FutureWarning: The frame.append method is deprecated and will be removed from pandas in a future version. Use pandas.concat instead.\n",
      "  gc = gc.append(Dic, ignore_index=True)\n"
     ]
    },
    {
     "name": "stdout",
     "output_type": "stream",
     "text": [
      "Knauf Insulation\n",
      "Unfaced and aluminim faced Rock Mineral Wool products with ECOSE® Technology\n",
      "Insulation\n",
      "Knauf Insulation glass woven faced Rock Mineral  Wool products with Ecose Technology\n",
      "IACG-323-02-03-2020\n",
      "http://www.knaufinsulation.com/\n"
     ]
    },
    {
     "name": "stderr",
     "output_type": "stream",
     "text": [
      "C:\\Users\\USER\\AppData\\Local\\Temp\\ipykernel_35348\\2064196938.py:79: FutureWarning: The frame.append method is deprecated and will be removed from pandas in a future version. Use pandas.concat instead.\n",
      "  gc = gc.append(Dic, ignore_index=True)\n"
     ]
    },
    {
     "name": "stdout",
     "output_type": "stream",
     "text": [
      "Knauf Insulation\n",
      "Climowool\n",
      "Insulation\n",
      "\n",
      "IACG-323-01-38-2022\n",
      "http://www.climowool.com/\n"
     ]
    },
    {
     "name": "stderr",
     "output_type": "stream",
     "text": [
      "C:\\Users\\USER\\AppData\\Local\\Temp\\ipykernel_35348\\2064196938.py:79: FutureWarning: The frame.append method is deprecated and will be removed from pandas in a future version. Use pandas.concat instead.\n",
      "  gc = gc.append(Dic, ignore_index=True)\n"
     ]
    },
    {
     "name": "stdout",
     "output_type": "stream",
     "text": [
      "LEONHARD WEISS Fußbodentechnik GmbH & Co. KG\n",
      "Leonhard Weiss Terrazzo\n",
      "Coating Systems\n",
      "\n",
      "IACG-355-01-01-2019\n",
      "None\n"
     ]
    },
    {
     "name": "stderr",
     "output_type": "stream",
     "text": [
      "C:\\Users\\USER\\AppData\\Local\\Temp\\ipykernel_35348\\2064196938.py:79: FutureWarning: The frame.append method is deprecated and will be removed from pandas in a future version. Use pandas.concat instead.\n",
      "  gc = gc.append(Dic, ignore_index=True)\n"
     ]
    },
    {
     "name": "stdout",
     "output_type": "stream",
     "text": [
      "LX Hausys\n",
      "SPC Flooring\n",
      "Resilient Flooring\n",
      "SPC Click, SPC Gluedown\n",
      "IACG-383-01-02-2022\n",
      "http://www.lghausys.com/\n"
     ]
    },
    {
     "name": "stderr",
     "output_type": "stream",
     "text": [
      "C:\\Users\\USER\\AppData\\Local\\Temp\\ipykernel_35348\\2064196938.py:79: FutureWarning: The frame.append method is deprecated and will be removed from pandas in a future version. Use pandas.concat instead.\n",
      "  gc = gc.append(Dic, ignore_index=True)\n"
     ]
    },
    {
     "name": "stdout",
     "output_type": "stream",
     "text": [
      "LX Hausys\n",
      "SLS Flooring\n",
      "Resilient Flooring\n",
      "Homogenous Sheet: Origin, Atmosphere, Prairie\n",
      "IACG-383-01-04-2022\n",
      "http://www.lghausys.com/\n"
     ]
    },
    {
     "name": "stderr",
     "output_type": "stream",
     "text": [
      "C:\\Users\\USER\\AppData\\Local\\Temp\\ipykernel_35348\\2064196938.py:79: FutureWarning: The frame.append method is deprecated and will be removed from pandas in a future version. Use pandas.concat instead.\n",
      "  gc = gc.append(Dic, ignore_index=True)\n"
     ]
    },
    {
     "name": "stdout",
     "output_type": "stream",
     "text": [
      "M. Hehenberger Industrievertretungen\n",
      "Wearmax®Carpets\n",
      "Textile Flooring\n",
      "Solar, Colmar, Bali, Lentia, Pula, Neapel, Jalta, Atlanta, Lisbon\n",
      "IACG-421-01-01-2020\n",
      "https://hehenberger-industrievertretungen.de/\n"
     ]
    },
    {
     "name": "stderr",
     "output_type": "stream",
     "text": [
      "C:\\Users\\USER\\AppData\\Local\\Temp\\ipykernel_35348\\2064196938.py:79: FutureWarning: The frame.append method is deprecated and will be removed from pandas in a future version. Use pandas.concat instead.\n",
      "  gc = gc.append(Dic, ignore_index=True)\n"
     ]
    },
    {
     "name": "stdout",
     "output_type": "stream",
     "text": [
      "MACO GROUP CORPORATION\n",
      "Mortars\n",
      "Levelling Compounds\n",
      "YGP400JJ, YGP420JJ, YGP460JJ, YGP480JJ, YGP440JJ, YGP430JJ, YGP490JJ, YGP400KF, YGP420KF, YGP460KF, YGP480KF, YGP440KF, YGP430KF, YGP490KF, YGP400KL, YGP420KL, YGP460KL, YGP480KL, YGP440KL, YGP430KL, YGP490KL, YGP600JJ, YGP620JJ, YGP660JJ, YGP680JJ, YGP640JJ, YGP630JJ, YGP690JJ, YGP600GQ, YGP620GQ, YGP660GQ, YGP680GQ, YGP640GQ, YGP630GQ, YGP690GQ, YGP600KL, YGP620KL, YGP660KL, YGP680KL, YGP640KL, YGP630KL, YGP690KL, YGP800KL, YGP820KL, YGP860KL, YGP880KL, YGP840KL, YGP830KL, YGP890KL, YGP800JJ, YGP820JJ, YGP860JJ, YGP880JJ, YGP840JJ, YGP830JJ, YGP890JJ, YGP800GQ, YGP820GQ, YGP860GQ, YGP880GQ, YGP840GQ, YGP830GQ, YGP890GQ, QN600GQ, QN620GQ, QN660GQ, QN680GQ, QN640GQ, QN630GQ, QN690GQ, QN700KL, QN720KL, QN760KL, QN780KL, QN740KL, QN730KL, QN790KL, QN600KL, QN620KL, QN660KL, QN680KL, QN640KL, QN630KL, QN690KL, QN600BC, QN620BC, QN660BC, QN680BC, QN640BC, QN630BC, QN690BC, QN600QF, QN620QF, QN660QF, QN680QF, QN640QF, QN630QF, QN690QF, QN700GQ, QN720GQ, QN760GQ, QN780GQ, QN740GQ, QN730GQ, QN790GQ, QN601GQ, QN621GQ, QN661GQ, QN681GQ, QN641GQ, QN631GQ, QN691GQ, QN701GQ, QN721GQ, QN761GQ, QN781GQ, QN741GQ, QN731GQ, QN791GQ, QN700BC, QN720BC, QN760BC, QN780BC, QN740BC, QN730BC, QN790BC, QT500, QT520, QT560, QT580, QT540, QT530, QT590, ZD200, ZD220, ZD260, ZD280, ZD240, ZD230, ZD290, YGD100, YGD120, YGD160, YGD180, YGD140, YGD130, YGD190, ZCB200, ZCB220, ZCB260, ZCB280, ZCB240, ZCB230, ZCB290, ZCB400, ZCB420, ZCB460, ZCB480, ZCB440, ZCB430, ZCB490, ZCB600, ZCB620, ZCB660, ZCB680, ZCB640, ZCB630, ZCB690, ZCB600GQ, ZCB620GQ, ZCB660GQ, ZCB680GQ, ZCB640GQ, ZCB630GQ, ZCB690GQ, ZCB400RX, ZCB420RX, ZCB460RX, ZCB480RX, ZCB440RX, ZCB430RX, ZCB490RX, ZCB600CR, ZCB620CR, ZCB660CR, ZCB680CR, ZCB640CR, ZCB630CR, ZCB690CR, ZCB400TY, ZCB420TY, ZCB460TY, ZCB480TY, ZCB440TY, ZCB430TY, ZCB490TY, ZCB200RX, ZCB220RX, ZCB260RX, ZCB280RX, ZCB240RX, ZCB230RX, ZCB290RX, ZCB400QL, ZCB420QL, ZCB460QL, ZCB480QL, ZCB440QL, ZCB430QL, ZCB490QL, ZCB400GQ, ZCB420GQ, ZCB460GQ, ZCB480GQ, ZCB440GQ, ZCB430GQ, ZCB490GQ, ZCB400CQ, ZCB420CQ, ZCB460CQ, ZCB480CQ, ZCB440CQ, ZCB430CQ, ZCB490CQ, ZCB600CB, ZCB620CB, ZCB660CB, ZCB680CB, ZCB640CB, ZCB630CB, ZCB690CB, ZCB600RX, ZCB620RX, ZCB660RX, ZCB680RX, ZCB640RX, ZCB630RX, ZCB690RX, ZCB500, ZCB520, ZCB560, ZCB580, ZCB540, ZCB530, ZCB590, ZCB600CQ, ZCB620CQ, ZCB660CQ, ZCB680CQ, ZCB640CQ, ZCB630CQ, ZCB690CQ, SDL600, SDL620, SDL660, SDL680, SDL640, SDL630, SDL690, SDL800, SDL820, SDL860, SDL880, SDL840, SDL830, SDL890, DTP500, DTP520, DTP560, DTP580, DTP540, DTP530, DTP590, DTP700, DTP720, DTP760, DTP780, DTP740, DTP730, DTP790, FSG100HN, FSG120HN, FSG160HN, FSG180HN, FSG140HN, FSG130HN, FSG190HN, FSG100SN, FSG120SN, FSG160SN, FSG180SN, FSG140SN, FSG130SN, FSG190SN, DN300LT, DN320LT, DN360LT, DN380LT, DN340LT, DN330LT, DN390LT, DN300BG, DN320BG, DN360BG, DN380BG, DN340BG, DN330BG, DN390BG.\n",
      "IACG-361-01-01-2021\n",
      "http://www.meichao.com/\n"
     ]
    },
    {
     "name": "stderr",
     "output_type": "stream",
     "text": [
      "C:\\Users\\USER\\AppData\\Local\\Temp\\ipykernel_35348\\2064196938.py:79: FutureWarning: The frame.append method is deprecated and will be removed from pandas in a future version. Use pandas.concat instead.\n",
      "  gc = gc.append(Dic, ignore_index=True)\n"
     ]
    },
    {
     "name": "stdout",
     "output_type": "stream",
     "text": [
      "MACO GROUP CORPORATION\n",
      "Primers\n",
      "Primers\n",
      "QG500WX, QG500WJ, QG500JV, QG520WX, QG520WJ, QG520JV, QG560WX, QG560WJ, QG560JV, QG580WX, QG580WJ, QG580JV, QG540WX, QG540WJ, QG540JV, QG501WX, QG501WJ, QG501JV, QG521WX, QG521WJ, QG521JV, QG561WX, QG561WJ, QG561JV, QG581WX, QG581WJ, QG581JV, QG541WX, QG541WJ, QG541JV, QG700WX, QG700WJ, QG700JV, QG720WX, QG720WJ, QG720JV, QG760WX, QG760WJ, QG760JV, QG780WX, QG780WJ, QG780JV, QG740WX, QG740WJ, QG740JV, QG530WX, QG530WJ, QG530JV, QG590WX, QG590WJ, QG590JV, QG531WX, QG531WJ, QG531JV, QG591WX, QG591WJ, QG591JV, QG730WX, QG730WJ, QG730JV, QG790WX, QG790WJ, QG790JV, LEG401WX, LEG401WJ, LEG401JV, LEG421WX, LEG421WJ, LEG421JV, LEG461WX, LEG461WJ, LEG461JV, LEG481WX, LEG481WJ, LEG481JV, LEG441WX, LEG441WJ, LEG441JV, LEG400WX, LEG400WJ, LEG400JV, LEG420WX, LEG420WJ, LEG420JV, LEG460WX, LEG460WJ, LEG460JV, LEG480WX, LEG480WJ, LEG480JV, LEG440WX, LEG440WJ, LEG440JV, LEG431WX, LEG431WJ, LEG431JV, LEG491WX, LEG491WJ, LEG491JV, LEG430WX, LEG430WJ, LEG430JV, LEG490WX, LEG490WJ, LEG490JV.\n",
      "IACG-362-01-05-2021\n",
      "http://www.meichao.com/\n"
     ]
    },
    {
     "name": "stderr",
     "output_type": "stream",
     "text": [
      "C:\\Users\\USER\\AppData\\Local\\Temp\\ipykernel_35348\\2064196938.py:79: FutureWarning: The frame.append method is deprecated and will be removed from pandas in a future version. Use pandas.concat instead.\n",
      "  gc = gc.append(Dic, ignore_index=True)\n"
     ]
    },
    {
     "name": "stdout",
     "output_type": "stream",
     "text": [
      "MACO GROUP CORPORATION\n",
      "Waterproofing Slurries\n",
      "Waterproofing Slurries\n",
      "FSG300WX, FSG300WJ, FSG300JV, FSG320WX, FSG320WJ, FSG320JV, FSG360WX, FSG360WJ, FSG360JV, FSG380WX, FSG380WJ, FSG380JV, FSG340WX, FSG340WJ, FSG340JV, FSG330WX, FSG330WJ, FSG330JV, FSG390WX, FSG390WJ, FSG390JV, FSG301WX, FSG301WJ, FSG301JV, FSG321WX, FSG321WJ, FSG321JV, FSG361WX, FSG361WJ, FSG361JV, FSG381WX, FSG381WJ, FSG381JV, FSG341WX, FSG341WJ, FSG341JV, FSG331WX, FSG331WJ, FSG331JV, FSG391WX, FSG391WJ, FSG391JV, FSG600WX, FSG600WJ, FSG600JV, FSG620WX, FSG620WJ, FSG620JV, FSG660WX, FSG660WJ, FSG660JV, FSG680WX, FSG680WJ, FSG680JV, FSG640WX, FSG640WJ, FSG640JV, FSG630WX, FSG630WJ, FSG630JV, FSG690WX, FSG690WJ, FSG690JV, FSG500WX, FSG500WJ, FSG500JV, FSG520WX, FSG520WJ, FSG520JV, FSG560WX, FSG560WJ, FSG560JV, FSG580WX, FSG580WJ, FSG580JV, FSG540WX, FSG540WJ, FSG540JV, FSG530WX, FSG530WJ, FSG530JV, FSG590WX, FSG590WJ, FSG590JV, FSG400WX, FSG400WJ, FSG400JV, FSG420WX, FSG420WJ, FSG420JV, FSG460WX, FSG460WJ, FSG460JV, FSG480WX, FSG480WJ, FSG480JV, FSG440WX, FSG440WJ, FSG440JV, FSG430WX, FSG430WJ, FSG430JV, FSG490WX, FSG490WJ, FSG490JV, FSG601WX, FSG601WJ, FSG601JV, FSG621WX, FSG621WJ, FSG621JV, FSG661WX, FSG661WJ, FSG661JV, FSG681WX, FSG681WJ, FSG681JV, FSG641WX, FSG641WJ, FSG641JV, FSG631WX, FSG631WJ, FSG631JV, FSG691WX, FSG691WJ, FSG691JV, FSG501WX, FSG501WJ, FSG501JV, FSG521WX, FSG521WJ, FSG521JV, FSG561WX, FSG561WJ, FSG561JV, FSG581WX, FSG581WJ, FSG581JV, FSG541WX, FSG541WJ, FSG541JV, FSG531WX, FSG531WJ, FSG531JV, FSG591WX, FSG591WJ, FSG591JV, FSG401WX, FSG401WJ, FSG401JV, FSG421WX, FSG421WJ, FSG421JV, FSG461WX, FSG461WJ, FSG461JV, FSG481WX, FSG481WJ, FSG481JV, FSG441WX, FSG441WJ, FSG441JV, FSG431WX, FSG431WJ, FSG431JV, FSG491WX, FSG491WJ, FSG491JV, FSG300MX, FSG300MJ, FSG300MV, FSG320MX, FSG320MJ, FSG320MV, FSG360MX, FSG360MJ, FSG360MV, FSG380MX, FSG380MJ, FSG380MV, FSG340MX, FSG340MJ, FSG340MV, FSG330MX, FSG330MJ, FSG330MV, FSG390MX, FSG390MJ, FSG390MV, FSG301MX, FSG301MJ, FSG301MV, FSG321MX, FSG321MJ, FSG321MV, FSG361MX, FSG361MJ, FSG361MV, FSG381MX, FSG381MJ, FSG381MV, FSG341MX, FSG341MJ, FSG341MV, FSG331MX, FSG331MJ, FSG331MV, FSG391MX, FSG391MJ, FSG391MV.\n",
      "IACG-362-01-06-2021\n",
      "http://www.meichao.com/\n"
     ]
    },
    {
     "name": "stderr",
     "output_type": "stream",
     "text": [
      "C:\\Users\\USER\\AppData\\Local\\Temp\\ipykernel_35348\\2064196938.py:79: FutureWarning: The frame.append method is deprecated and will be removed from pandas in a future version. Use pandas.concat instead.\n",
      "  gc = gc.append(Dic, ignore_index=True)\n"
     ]
    },
    {
     "name": "stdout",
     "output_type": "stream",
     "text": [
      "MACO GROUP CORPORATION\n",
      "Interior Wall Paint\n",
      "Wall paints\n",
      "MACOLOUR HC500KQ Non-additive Odour-less Anti-formaldehyde Interior Wall Paint, MACOLOUR HC500NC Non-Additive Odour-less Anti-formaldehyde Scrub Resistance Interior Wall Paint, MACOLOUR HC700KQ Non-additive Odour-less Anti-formaldehyde Interior Wall Paint, MACOLOUR HC700NC Non-additive Odour-less Anti-formaldehyde Scrub Resistance Interior Wall Paint, MACOLOUR HC700KW Non-additive Odour-less Anti-formaldehyde Anti-stain Interior Wall Paint, MACOLOUR HC700BB Non-additive Odour-less Anti-formaldehyde Scrub Resistance Kid's Interior Wall Paint, MACOLOUR HC900KQ Non-additive Odour-less Anti-formaldehyde Interior Wall Paint, MACOLOUR HC900NC Non-additive Odour-less Anti-formaldehyde Scrub Resistance Interior Wall Paint, MACOLOUR HC900KW Non-additive Odour-less Anti-formaldehyde Anti-stain Interior Wall Paint, MACOLOUR HC900BB Non-additive Odour-less Anti-formaldehyde Anti-stain Kid's Interior Wall Paint, MACOLOUR HC900TX Non-additive Odour-less Anti-formaldehyde Elastic Interior Wall Paint.\n",
      "IACG-362-01-07-2021B\n",
      "http://www.meichao.com/\n"
     ]
    },
    {
     "name": "stderr",
     "output_type": "stream",
     "text": [
      "C:\\Users\\USER\\AppData\\Local\\Temp\\ipykernel_35348\\2064196938.py:79: FutureWarning: The frame.append method is deprecated and will be removed from pandas in a future version. Use pandas.concat instead.\n",
      "  gc = gc.append(Dic, ignore_index=True)\n"
     ]
    },
    {
     "name": "stdout",
     "output_type": "stream",
     "text": [
      "MACO GROUP CORPORATION\n",
      "Interior Wall Primer\n",
      "Wall Primers\n",
      "MACOLOUR HC300KJ Non-additive Odour-less Alkali-resistant Interior Wall Primer, MACOLOUR HC300ZG Non-additive Odour-less High Hiding Interior Wall Primer, MACOLOUR HC300BB Non-additive Odour-less Kid's Interior Wall Primer.\n",
      "IACG-362-01-08-2021B\n",
      "http://www.meichao.com/\n"
     ]
    },
    {
     "name": "stderr",
     "output_type": "stream",
     "text": [
      "C:\\Users\\USER\\AppData\\Local\\Temp\\ipykernel_35348\\2064196938.py:79: FutureWarning: The frame.append method is deprecated and will be removed from pandas in a future version. Use pandas.concat instead.\n",
      "  gc = gc.append(Dic, ignore_index=True)\n"
     ]
    },
    {
     "name": "stdout",
     "output_type": "stream",
     "text": [
      "Martin Mathys\n",
      "SPS Air Clean Matt Interior\n",
      "Wall paints\n",
      "SPS Air Clean Matt Interior\n",
      "IACG-343-01-01B-2021\n",
      "https://www.mathyspaints.eu/\n"
     ]
    },
    {
     "name": "stderr",
     "output_type": "stream",
     "text": [
      "C:\\Users\\USER\\AppData\\Local\\Temp\\ipykernel_35348\\2064196938.py:79: FutureWarning: The frame.append method is deprecated and will be removed from pandas in a future version. Use pandas.concat instead.\n",
      "  gc = gc.append(Dic, ignore_index=True)\n"
     ]
    },
    {
     "name": "stdout",
     "output_type": "stream",
     "text": [
      "Master Builders Solutions UK Ltd\n",
      "Ucrete Industrial Flooring\n",
      "Coating Systems\n",
      "UCRETE flow applied systems: UCRETE HF60RT, UCRETE HF100RT, UCRETE MF, UCRETE MF40AS, UCRETE MFAS-C; UCRETE trowel applied systems: UCRETE IF, UCRETE MT, UCRETE UD200, UCRETE UD200SR, UCRETE UD100AS; UCRETE DP systems: UCRETE DP10, UCRETE DP10AS, UCRETE DP20, UCRETE DP20AS, UCRETE DP30, UCRETE DPR10, UCRETE DPR20, UCRETE DPR30; UCRETE mortars: UCRETE FL, UCRETE RG; UCRETE primers: UCRETE PFS, UCRETE PLC, UCRETE PLCAS, UCRETE PRG, UCRETE PSC; UCRETE joint sealant MASTERSEAL CR460\n",
      "IACG-321-026-01-2021B\n",
      "https://www.master-builders-solutions.com/\n"
     ]
    },
    {
     "name": "stderr",
     "output_type": "stream",
     "text": [
      "C:\\Users\\USER\\AppData\\Local\\Temp\\ipykernel_35348\\2064196938.py:79: FutureWarning: The frame.append method is deprecated and will be removed from pandas in a future version. Use pandas.concat instead.\n",
      "  gc = gc.append(Dic, ignore_index=True)\n"
     ]
    },
    {
     "name": "stdout",
     "output_type": "stream",
     "text": [
      "MCI Carpets B.V.\n",
      "Group A\n",
      "Textile Flooring\n",
      "Flatweave tiles LF\n",
      "IACG-413-01-01-2020\n",
      "https://mci-carpets.nl/\n"
     ]
    },
    {
     "name": "stderr",
     "output_type": "stream",
     "text": [
      "C:\\Users\\USER\\AppData\\Local\\Temp\\ipykernel_35348\\2064196938.py:79: FutureWarning: The frame.append method is deprecated and will be removed from pandas in a future version. Use pandas.concat instead.\n",
      "  gc = gc.append(Dic, ignore_index=True)\n"
     ]
    },
    {
     "name": "stdout",
     "output_type": "stream",
     "text": [
      "MCI Carpets B.V.\n",
      "Group B\n",
      "Textile Flooring\n",
      "Low pile polyamide essentials; Soft yarn 1150, polyamide; Loop pile, polyamide structura LF; Flatweave Broadloom\n",
      "IACG-413-01-02-2020\n",
      "https://mci-carpets.nl/\n"
     ]
    },
    {
     "name": "stderr",
     "output_type": "stream",
     "text": [
      "C:\\Users\\USER\\AppData\\Local\\Temp\\ipykernel_35348\\2064196938.py:79: FutureWarning: The frame.append method is deprecated and will be removed from pandas in a future version. Use pandas.concat instead.\n",
      "  gc = gc.append(Dic, ignore_index=True)\n"
     ]
    },
    {
     "name": "stdout",
     "output_type": "stream",
     "text": [
      "MeisterWerke Schulte GmbH\n",
      "MeisterWerke Rigid Bodenprodukte\n",
      "Resilient Flooring\n",
      "MeisterDesign.rigid RD 300 S, MeisterDesign.rigid RL 400 S, MeisterDesign.rigid RB 400 S\n",
      "IACG-402-01-01-2021\n",
      "https://www.meisterwerke.com/\n"
     ]
    },
    {
     "name": "stderr",
     "output_type": "stream",
     "text": [
      "C:\\Users\\USER\\AppData\\Local\\Temp\\ipykernel_35348\\2064196938.py:79: FutureWarning: The frame.append method is deprecated and will be removed from pandas in a future version. Use pandas.concat instead.\n",
      "  gc = gc.append(Dic, ignore_index=True)\n"
     ]
    },
    {
     "name": "stdout",
     "output_type": "stream",
     "text": [
      "merz+benteli ag\n",
      "Sealants and adhesives based on silan modified polymers SMP\n",
      "Sealants\n",
      "2017 NMT, 2021 PHF, 2022 SNF, 2028, 2029, 2030, 2031, 2032, 2033, 2035, 2040, 2041 FC, 2041 FC NMT, 2050, 2061, 2130, 2133, 2134, 2135, 2144, 2146, 2147, 2151, 2152, 2157, 2170, 2171, 2358, 2428, 2435, 2451, 2455, 2527, 2165 HE KT\n",
      "IACG-325-01-01A-2021B\n",
      "http://www.merz-benteli.ch/\n"
     ]
    },
    {
     "name": "stderr",
     "output_type": "stream",
     "text": [
      "C:\\Users\\USER\\AppData\\Local\\Temp\\ipykernel_35348\\2064196938.py:79: FutureWarning: The frame.append method is deprecated and will be removed from pandas in a future version. Use pandas.concat instead.\n",
      "  gc = gc.append(Dic, ignore_index=True)\n"
     ]
    },
    {
     "name": "stdout",
     "output_type": "stream",
     "text": [
      "merz+benteli ag\n",
      "Sealants and adhesives based on silan modified polymers SMP\n",
      "Sealants\n",
      "\n",
      "IACG-325-01-01B-2021\n",
      "None\n"
     ]
    },
    {
     "name": "stderr",
     "output_type": "stream",
     "text": [
      "C:\\Users\\USER\\AppData\\Local\\Temp\\ipykernel_35348\\2064196938.py:79: FutureWarning: The frame.append method is deprecated and will be removed from pandas in a future version. Use pandas.concat instead.\n",
      "  gc = gc.append(Dic, ignore_index=True)\n"
     ]
    },
    {
     "name": "stdout",
     "output_type": "stream",
     "text": [
      "merz+benteli ag\n",
      "Sealants and adhesives based on silan modified polymers SMP\n",
      "Sealants\n",
      "Gomastit 2001, Gomastit 2017, Gomastit 2025, Gomastit 2060, Gomastit Aqua-Protect-Flex, Gomastit Aqua-Protect-Flex liquid, Gomastit FireSeal MS 90, Gomastit MS Parkettkleber, Gomastit VG30, m+b hybrid S-22, Merbenit DB50, Merbenit E20, Merbenit FB50, Merbenit HM14, Merbenit HM21, Merbenit HT50, Merbenit PC200, Merbenit SK212, Merbenit SK212 fast, Merbenit TS40, MS Isolation, MS Lightweight\n",
      "IACG-325-01-01C-2021\n",
      "None\n"
     ]
    },
    {
     "name": "stderr",
     "output_type": "stream",
     "text": [
      "C:\\Users\\USER\\AppData\\Local\\Temp\\ipykernel_35348\\2064196938.py:79: FutureWarning: The frame.append method is deprecated and will be removed from pandas in a future version. Use pandas.concat instead.\n",
      "  gc = gc.append(Dic, ignore_index=True)\n"
     ]
    },
    {
     "name": "stdout",
     "output_type": "stream",
     "text": [
      "mFLOR International B.V.\n",
      "mFLOR\n",
      "Resilient Flooring\n",
      "mFLOR 20-03, mFLOR 25-05, mFLOR 50-07 Loose-lay\n",
      "IACG-35-09-02A-2021\n",
      "https://mflor.com/en\n"
     ]
    },
    {
     "name": "stderr",
     "output_type": "stream",
     "text": [
      "C:\\Users\\USER\\AppData\\Local\\Temp\\ipykernel_35348\\2064196938.py:79: FutureWarning: The frame.append method is deprecated and will be removed from pandas in a future version. Use pandas.concat instead.\n",
      "  gc = gc.append(Dic, ignore_index=True)\n"
     ]
    },
    {
     "name": "stdout",
     "output_type": "stream",
     "text": [
      "25\n",
      "mFLOR International B.V.\n",
      "Rigid Core Flooring\n",
      "Resilient Flooring\n",
      "Rigid Core Flooring 40-03 Rigid Core Flooring 40-05 Rigid Core Flooring 45-05\n",
      "IACG-35-09-09A-2021\n",
      "https://mflor.com/en\n"
     ]
    },
    {
     "name": "stderr",
     "output_type": "stream",
     "text": [
      "C:\\Users\\USER\\AppData\\Local\\Temp\\ipykernel_35348\\2064196938.py:79: FutureWarning: The frame.append method is deprecated and will be removed from pandas in a future version. Use pandas.concat instead.\n",
      "  gc = gc.append(Dic, ignore_index=True)\n"
     ]
    },
    {
     "name": "stdout",
     "output_type": "stream",
     "text": [
      "Minghe Technology (Tangshan) Co., Ltd\n",
      "(solid) vinyl plank/tile\n",
      "Resilient Flooring\n",
      "(solid) vinyl plank/tile\n",
      "IACG-396-01-01-2021\n",
      "http://mingartflor.com/en/\n"
     ]
    },
    {
     "name": "stderr",
     "output_type": "stream",
     "text": [
      "C:\\Users\\USER\\AppData\\Local\\Temp\\ipykernel_35348\\2064196938.py:79: FutureWarning: The frame.append method is deprecated and will be removed from pandas in a future version. Use pandas.concat instead.\n",
      "  gc = gc.append(Dic, ignore_index=True)\n"
     ]
    },
    {
     "name": "stdout",
     "output_type": "stream",
     "text": [
      "Minghe Technology (Tangshan) Co., Ltd\n",
      "(solid) vinyl plank/tile with pad\n",
      "Resilient Flooring\n",
      "(solid) vinyl plank/tile with pad\n",
      "IACG-396-01-02-2021\n",
      "http://mingartflor.com/en/\n"
     ]
    },
    {
     "name": "stderr",
     "output_type": "stream",
     "text": [
      "C:\\Users\\USER\\AppData\\Local\\Temp\\ipykernel_35348\\2064196938.py:79: FutureWarning: The frame.append method is deprecated and will be removed from pandas in a future version. Use pandas.concat instead.\n",
      "  gc = gc.append(Dic, ignore_index=True)\n"
     ]
    },
    {
     "name": "stdout",
     "output_type": "stream",
     "text": [
      "Moderna GmbH & Co. KG\n",
      "Moderna Rigid Bodenprodukte\n",
      "Resilient Flooring\n",
      "moderna v-rigid premium, modern v-rigid premium tile\n",
      "IACG-402-02-01-2021\n",
      "http://moderna.de/\n"
     ]
    },
    {
     "name": "stderr",
     "output_type": "stream",
     "text": [
      "C:\\Users\\USER\\AppData\\Local\\Temp\\ipykernel_35348\\2064196938.py:79: FutureWarning: The frame.append method is deprecated and will be removed from pandas in a future version. Use pandas.concat instead.\n",
      "  gc = gc.append(Dic, ignore_index=True)\n"
     ]
    },
    {
     "name": "stdout",
     "output_type": "stream",
     "text": [
      "Momast (Beijing) Decorative Materials Co., Ltd\n",
      "Pearl Paint\n",
      "Wall Paints\n",
      "Pearl Paint\n",
      "IACG-419-01-01-2020\n",
      "http://www.aborone.com/\n"
     ]
    },
    {
     "name": "stderr",
     "output_type": "stream",
     "text": [
      "C:\\Users\\USER\\AppData\\Local\\Temp\\ipykernel_35348\\2064196938.py:79: FutureWarning: The frame.append method is deprecated and will be removed from pandas in a future version. Use pandas.concat instead.\n",
      "  gc = gc.append(Dic, ignore_index=True)\n"
     ]
    },
    {
     "name": "stdout",
     "output_type": "stream",
     "text": [
      "Monier\n",
      "ClimaComfort\n",
      "Insulation\n",
      "\n",
      "IACG-337-01-01C-2018\n",
      "http://www.braas-monier.com/\n"
     ]
    },
    {
     "name": "stderr",
     "output_type": "stream",
     "text": [
      "C:\\Users\\USER\\AppData\\Local\\Temp\\ipykernel_35348\\2064196938.py:79: FutureWarning: The frame.append method is deprecated and will be removed from pandas in a future version. Use pandas.concat instead.\n",
      "  gc = gc.append(Dic, ignore_index=True)\n"
     ]
    },
    {
     "name": "stdout",
     "output_type": "stream",
     "text": [
      "Monier B.V.\n",
      "ClimaComfort\n",
      "Insulation\n",
      "\n",
      "IACG-337-01-01D-2018\n",
      "None\n"
     ]
    },
    {
     "name": "stderr",
     "output_type": "stream",
     "text": [
      "C:\\Users\\USER\\AppData\\Local\\Temp\\ipykernel_35348\\2064196938.py:79: FutureWarning: The frame.append method is deprecated and will be removed from pandas in a future version. Use pandas.concat instead.\n",
      "  gc = gc.append(Dic, ignore_index=True)\n"
     ]
    },
    {
     "name": "stdout",
     "output_type": "stream",
     "text": [
      "Monier Roofing Components GmbH\n",
      "ClimaComfort\n",
      "Insulation\n",
      "\n",
      "IACG-337-01-01E-2018\n",
      "None\n"
     ]
    },
    {
     "name": "stderr",
     "output_type": "stream",
     "text": [
      "C:\\Users\\USER\\AppData\\Local\\Temp\\ipykernel_35348\\2064196938.py:79: FutureWarning: The frame.append method is deprecated and will be removed from pandas in a future version. Use pandas.concat instead.\n",
      "  gc = gc.append(Dic, ignore_index=True)\n"
     ]
    },
    {
     "name": "stdout",
     "output_type": "stream",
     "text": [
      "Muylle Facon\n",
      "Rubio Monocoat Oil plus 2C\n",
      "Wood Coating\n",
      "\n",
      "IACG-350-01-01-2021\n",
      "http://rubiomonocoat.be/\n"
     ]
    },
    {
     "name": "stderr",
     "output_type": "stream",
     "text": [
      "C:\\Users\\USER\\AppData\\Local\\Temp\\ipykernel_35348\\2064196938.py:79: FutureWarning: The frame.append method is deprecated and will be removed from pandas in a future version. Use pandas.concat instead.\n",
      "  gc = gc.append(Dic, ignore_index=True)\n"
     ]
    },
    {
     "name": "stdout",
     "output_type": "stream",
     "text": [
      "N.P.T. S.r.l. a socio unico\n",
      "SIMP RANGE\n",
      "Sealants\n",
      "Simp SEAL 20, Simp SEAL 20 LE, Simp SEAL 20 H, Simp SEAL 20 HLE, SimP SEAL 25HM, Simp SEAL 45UV, Simp SEAL 55LE, Simp CLEAR, Simp CRYSTAL, Simp SEAL 650, SiMP Advanced 70UP, Simp SEAL 60HV\n",
      "IACG-409-01-01-2021\n",
      "https://www.nptsrl.com/\n"
     ]
    },
    {
     "name": "stderr",
     "output_type": "stream",
     "text": [
      "C:\\Users\\USER\\AppData\\Local\\Temp\\ipykernel_35348\\2064196938.py:79: FutureWarning: The frame.append method is deprecated and will be removed from pandas in a future version. Use pandas.concat instead.\n",
      "  gc = gc.append(Dic, ignore_index=True)\n"
     ]
    },
    {
     "name": "stdout",
     "output_type": "stream",
     "text": [
      "N.P.T. S.r.l. a socio unico\n",
      "S-BOND FLEX\n",
      "Adhesives\n",
      "S-BOND Flex, Ecobond Flooring, S-BOND Flex HV\n",
      "IACG-409-01-02-2021\n",
      "https://www.nptsrl.com/\n"
     ]
    },
    {
     "name": "stderr",
     "output_type": "stream",
     "text": [
      "C:\\Users\\USER\\AppData\\Local\\Temp\\ipykernel_35348\\2064196938.py:79: FutureWarning: The frame.append method is deprecated and will be removed from pandas in a future version. Use pandas.concat instead.\n",
      "  gc = gc.append(Dic, ignore_index=True)\n"
     ]
    },
    {
     "name": "stdout",
     "output_type": "stream",
     "text": [
      "N.V. Martin Mathys S.A.\n",
      "Rust-Oleum - Little Stars Air Purifying Wall Paint\n",
      "Wall paints\n",
      "Rust-Oleum - Little Stars Air Purifying Wall Paint\n",
      "IACG-343-01-01F-2021\n",
      "https://www.mathyspaints.eu/\n"
     ]
    },
    {
     "name": "stderr",
     "output_type": "stream",
     "text": [
      "C:\\Users\\USER\\AppData\\Local\\Temp\\ipykernel_35348\\2064196938.py:79: FutureWarning: The frame.append method is deprecated and will be removed from pandas in a future version. Use pandas.concat instead.\n",
      "  gc = gc.append(Dic, ignore_index=True)\n"
     ]
    },
    {
     "name": "stdout",
     "output_type": "stream",
     "text": [
      "Nanten Group Oy\n",
      "Nanten ColorPUR\n",
      "Resin based flooring\n",
      "Systems using at least 2 of the following compounds: Nanten ColorPUR Scratch Primer Nanten ColorPUR Light SL 2 mm Nanten ColorPUR Light SL 4 mm Nanten ColorPUR Light SL 5 mm Nanten ColorPUR RT 6 - 9 mm Nanten ColorPUR 6 mm and 9 mm Nanten ColorPUR AD 6 mm and 9 mm Nanten ColorPUR SL cond Nanten ColorPUR Jalkalistamassa Nanten ColorPUR Topcoat Nanten ColorPUR Primer\n",
      "IACG-369-01-01-2021\n",
      "https://nanten.fi/\n"
     ]
    },
    {
     "name": "stderr",
     "output_type": "stream",
     "text": [
      "C:\\Users\\USER\\AppData\\Local\\Temp\\ipykernel_35348\\2064196938.py:79: FutureWarning: The frame.append method is deprecated and will be removed from pandas in a future version. Use pandas.concat instead.\n",
      "  gc = gc.append(Dic, ignore_index=True)\n"
     ]
    },
    {
     "name": "stdout",
     "output_type": "stream",
     "text": [
      "nora systems GmbH\n",
      "noraplan® 913 ntx in a system\n",
      "Flooring Systems\n",
      "noraplan® eco nTx noraplan® degree nTx noraplan® lona nTx noraplan® sentica nTx noraplan® signa / environcare nTx noraplan® stone nTx noraplan® unita nTx noraplan® valua nTx noraplan® linee nTx In combination with: nora® L 1000, nora® SF 1001, nora® ntx 020\n",
      "IACG-31-01-2021\n",
      "http://www.nora.com/\n"
     ]
    },
    {
     "name": "stderr",
     "output_type": "stream",
     "text": [
      "C:\\Users\\USER\\AppData\\Local\\Temp\\ipykernel_35348\\2064196938.py:79: FutureWarning: The frame.append method is deprecated and will be removed from pandas in a future version. Use pandas.concat instead.\n",
      "  gc = gc.append(Dic, ignore_index=True)\n"
     ]
    },
    {
     "name": "stdout",
     "output_type": "stream",
     "text": [
      "nora systems GmbH\n",
      "norament® 926 in a system 1\n",
      "Flooring Systems\n",
      "norament® 926 norament® 926 arago norament® 926 crossline norament® 926 grano norament® 926 satura norament® 926 serra norament® 926 castello norament® 926 kivo norament® 926 pado In combination with: nora® AC 100, nora® L 1000, nora® SF 1001, nora® PRP 101\n",
      "IACG-31-02-2021\n",
      "http://www.nora.com/\n"
     ]
    },
    {
     "name": "stderr",
     "output_type": "stream",
     "text": [
      "C:\\Users\\USER\\AppData\\Local\\Temp\\ipykernel_35348\\2064196938.py:79: FutureWarning: The frame.append method is deprecated and will be removed from pandas in a future version. Use pandas.concat instead.\n",
      "  gc = gc.append(Dic, ignore_index=True)\n"
     ]
    },
    {
     "name": "stdout",
     "output_type": "stream",
     "text": [
      "nora systems GmbH\n",
      "noraplan® 916 in a system\n",
      "Flooring Systems\n",
      "noraplan® uni In combination with: nora® AC 100, nora® L 1000, nora® SF 1001, nora® PRP 101\n",
      "IACG-31-05-2021\n",
      "http://www.nora.com/\n"
     ]
    },
    {
     "name": "stderr",
     "output_type": "stream",
     "text": [
      "C:\\Users\\USER\\AppData\\Local\\Temp\\ipykernel_35348\\2064196938.py:79: FutureWarning: The frame.append method is deprecated and will be removed from pandas in a future version. Use pandas.concat instead.\n",
      "  gc = gc.append(Dic, ignore_index=True)\n"
     ]
    },
    {
     "name": "stdout",
     "output_type": "stream",
     "text": [
      "nora systems GmbH\n",
      "noracare® in a system\n",
      "Flooring System\n",
      "noracare® uneo noracare® seneo In combination with: nora AC 100, nora L 1000, nora SF 1001, nora PRP 101\n",
      "IACG-31-10-2021\n",
      "http://www.nora.com/\n"
     ]
    },
    {
     "name": "stderr",
     "output_type": "stream",
     "text": [
      "C:\\Users\\USER\\AppData\\Local\\Temp\\ipykernel_35348\\2064196938.py:79: FutureWarning: The frame.append method is deprecated and will be removed from pandas in a future version. Use pandas.concat instead.\n",
      "  gc = gc.append(Dic, ignore_index=True)\n"
     ]
    },
    {
     "name": "stdout",
     "output_type": "stream",
     "text": [
      "nora systems GmbH\n",
      "norament® 926 in a system 2\n",
      "Flooring Systems\n",
      "norament® 926 norament® 926 arago norament® 926 crossline norament® 926 grano norament® 926 satura norament® 926 serra norament® 926 castello norament® 926 kivo norament® 926 pado In combination with: nora® PU 102, nora® L 1000, nora® SF 1001, nora® PRP 101\n",
      "IACG-31-03-2021\n",
      "http://www.nora.com/\n"
     ]
    },
    {
     "name": "stderr",
     "output_type": "stream",
     "text": [
      "C:\\Users\\USER\\AppData\\Local\\Temp\\ipykernel_35348\\2064196938.py:79: FutureWarning: The frame.append method is deprecated and will be removed from pandas in a future version. Use pandas.concat instead.\n",
      "  gc = gc.append(Dic, ignore_index=True)\n"
     ]
    },
    {
     "name": "stdout",
     "output_type": "stream",
     "text": [
      "nora systems GmbH\n",
      "noraplan® 913 in a system\n",
      "Flooring Systems\n",
      "noraplan® eco, noraplan® effect noraplan® degree, noraplan® grip noraplan® logic, noraplan® lona noraplan® mega, noraplan® plus noraplan® sentica, noraplan® signa / environcare noraplan® stone, noraplan® unita noraplan® valua, noraplan® linee In combination with: nora® AC 100, nora® L 1000, nora® SF 1001, nora® PRP 101\n",
      "IACG-31-04-2021\n",
      "http://www.nora.com/\n"
     ]
    },
    {
     "name": "stderr",
     "output_type": "stream",
     "text": [
      "C:\\Users\\USER\\AppData\\Local\\Temp\\ipykernel_35348\\2064196938.py:79: FutureWarning: The frame.append method is deprecated and will be removed from pandas in a future version. Use pandas.concat instead.\n",
      "  gc = gc.append(Dic, ignore_index=True)\n"
     ]
    },
    {
     "name": "stdout",
     "output_type": "stream",
     "text": [
      "nora systems GmbH\n",
      "noraplan® 948 in a system\n",
      "Flooring Systems\n",
      "noraplan® sentica ed noraplan® signa / environcare ed noraplan® stone ed noraplan® mega ed noraplan® plus ed In combination with: nora® ED 120, nora® L 1000, nora® SF 1001, nora® PRP 101\n",
      "IACG-31-06-2021\n",
      "http://www.nora.com/\n"
     ]
    },
    {
     "name": "stderr",
     "output_type": "stream",
     "text": [
      "C:\\Users\\USER\\AppData\\Local\\Temp\\ipykernel_35348\\2064196938.py:79: FutureWarning: The frame.append method is deprecated and will be removed from pandas in a future version. Use pandas.concat instead.\n",
      "  gc = gc.append(Dic, ignore_index=True)\n"
     ]
    },
    {
     "name": "stdout",
     "output_type": "stream",
     "text": [
      "nora systems GmbH\n",
      "norament® 928 in a system\n",
      "Flooring Systems\n",
      "norament® 928 ed norament® 928 grano ed In combination with: nora® ED 120, nora® L 1000, nora® SF 1001, nora® PRP 101\n",
      "IACG-31-07-2021\n",
      "http://www.nora.com/\n"
     ]
    },
    {
     "name": "stderr",
     "output_type": "stream",
     "text": [
      "C:\\Users\\USER\\AppData\\Local\\Temp\\ipykernel_35348\\2064196938.py:79: FutureWarning: The frame.append method is deprecated and will be removed from pandas in a future version. Use pandas.concat instead.\n",
      "  gc = gc.append(Dic, ignore_index=True)\n"
     ]
    },
    {
     "name": "stdout",
     "output_type": "stream",
     "text": [
      "nora systems GmbH\n",
      "norament® 926 ntx in a system\n",
      "Flooring Systems\n",
      "norament® 926 arago nTx norament® 926 crossline nTx norament® 926 grano nTx norament® 926 lago nTx norament® 926 satura nTx norament® 926 serra nTx norament® 926 strada nTx norament® 926 castello nTx norament® 926 pado nTx In combination with: nora® L 1000, nora® SF 1001, nora® ntx 020\n",
      "IACG-31-08-2021\n",
      "http://www.nora.com/\n"
     ]
    },
    {
     "name": "stderr",
     "output_type": "stream",
     "text": [
      "C:\\Users\\USER\\AppData\\Local\\Temp\\ipykernel_35348\\2064196938.py:79: FutureWarning: The frame.append method is deprecated and will be removed from pandas in a future version. Use pandas.concat instead.\n",
      "  gc = gc.append(Dic, ignore_index=True)\n"
     ]
    },
    {
     "name": "stdout",
     "output_type": "stream",
     "text": [
      "Novalis Global Flooring GmbH\n",
      "Novalis HDC Rigid\n",
      "Resilient Flooring\n",
      "Novalis HDC Rigid 5.0/0.55 mm Novalis HDC Rigid 6.0/0.55 mm incl. 1 mm IXPE Novalis HDC Rigid 6.0/0.55 mm incl. 1 mm Cork Novalis HDC Rigid 4.0/0.30 mm Novalis HDC Rigid 3.2/0.15 mm\n",
      "IACG-420-01-01-2021\n",
      "https://novalis-intl.com/\n"
     ]
    },
    {
     "name": "stderr",
     "output_type": "stream",
     "text": [
      "C:\\Users\\USER\\AppData\\Local\\Temp\\ipykernel_35348\\2064196938.py:79: FutureWarning: The frame.append method is deprecated and will be removed from pandas in a future version. Use pandas.concat instead.\n",
      "  gc = gc.append(Dic, ignore_index=True)\n"
     ]
    },
    {
     "name": "stdout",
     "output_type": "stream",
     "text": [
      "Novalis Global Flooring GmbH\n",
      "Novalis Dryback\n",
      "Resilient Flooring\n",
      "Novalis Dryback 2.5/0.55 mm Novalis Dryback 2.0/0.3 mm Novalis Dryback 2.5/0.70 mm Novalis Dryback 2.0/0.15 mm\n",
      "IACG-420-01-02-2021\n",
      "https://novalis-intl.com/\n"
     ]
    },
    {
     "name": "stderr",
     "output_type": "stream",
     "text": [
      "C:\\Users\\USER\\AppData\\Local\\Temp\\ipykernel_35348\\2064196938.py:79: FutureWarning: The frame.append method is deprecated and will be removed from pandas in a future version. Use pandas.concat instead.\n",
      "  gc = gc.append(Dic, ignore_index=True)\n"
     ]
    },
    {
     "name": "stdout",
     "output_type": "stream",
     "text": [
      "Novatech N.V.\n",
      "Sealants and adhesives based on silan modified polymers SMP\n",
      "Sealants\n",
      "Aquaseal Flex Marine S&B MS22 Porthole Sealing S&B MS24 ICE Seal & Bond MS22 Seal & Bond MS40 clear Seal & Bond MS40 inox Seal & Bond MS50 Seal & Bond MS60 Seal & Bond MS Screen Tec7, Tec7 Aquastop Paste, Tec7 Aquastop Liquid Trans clear, Trans inox TwinBond Extreme X-Seal\n",
      "IACG-351-01-01-2020\n",
      "https://www.novatech-int.com/\n"
     ]
    },
    {
     "name": "stderr",
     "output_type": "stream",
     "text": [
      "C:\\Users\\USER\\AppData\\Local\\Temp\\ipykernel_35348\\2064196938.py:79: FutureWarning: The frame.append method is deprecated and will be removed from pandas in a future version. Use pandas.concat instead.\n",
      "  gc = gc.append(Dic, ignore_index=True)\n"
     ]
    },
    {
     "name": "stdout",
     "output_type": "stream",
     "text": [
      "25\n",
      "Novatio\n",
      "Novatio\n",
      "Sealants\n",
      "Seal & Bond MS24 ICE Seal & Bond MS 22 X Seal & Bond MS40 Clear Seal & Bond MS40 Alu Seal & Bond MS60 Seal & Bond MS 62 X Seal & Bond MS Screen\n",
      "IACG-351-01-02-2020\n",
      "https://www.novatio.be/en/\n"
     ]
    },
    {
     "name": "stderr",
     "output_type": "stream",
     "text": [
      "C:\\Users\\USER\\AppData\\Local\\Temp\\ipykernel_35348\\2064196938.py:79: FutureWarning: The frame.append method is deprecated and will be removed from pandas in a future version. Use pandas.concat instead.\n",
      "  gc = gc.append(Dic, ignore_index=True)\n"
     ]
    },
    {
     "name": "stdout",
     "output_type": "stream",
     "text": [
      "NOX Corporation\n",
      "LVT/SUPREMLAY+SUPREMCLICK+/TEMPERED STONE+\n",
      "Resilient Flooring\n",
      "LVT/SUPREMLAY+SUPREMCLICK+/TEMPERED STONE+\n",
      "IACG-72-02-01A-2022\n",
      "http://www.noxprime.com/eng/main.asp\n"
     ]
    },
    {
     "name": "stderr",
     "output_type": "stream",
     "text": [
      "C:\\Users\\USER\\AppData\\Local\\Temp\\ipykernel_35348\\2064196938.py:79: FutureWarning: The frame.append method is deprecated and will be removed from pandas in a future version. Use pandas.concat instead.\n",
      "  gc = gc.append(Dic, ignore_index=True)\n"
     ]
    },
    {
     "name": "stdout",
     "output_type": "stream",
     "text": [
      "NOX Corporation\n",
      "NOX LVS+\n",
      "Resilient Flooring\n",
      "NOX LVS+\n",
      "IACG-72-02-01B-2022\n",
      "http://www.noxprime.com/eng/main.asp\n"
     ]
    },
    {
     "name": "stderr",
     "output_type": "stream",
     "text": [
      "C:\\Users\\USER\\AppData\\Local\\Temp\\ipykernel_35348\\2064196938.py:79: FutureWarning: The frame.append method is deprecated and will be removed from pandas in a future version. Use pandas.concat instead.\n",
      "  gc = gc.append(Dic, ignore_index=True)\n"
     ]
    },
    {
     "name": "stdout",
     "output_type": "stream",
     "text": [
      "NOX Corporation\n",
      "NOX QUIETSTEP / SOUNDPROTEC\n",
      "Resilient Flooring\n",
      "NOX QUIETSTEP / SOUNDPROTEC\n",
      "IACG-72-02-01C-2022\n",
      "http://www.noxprime.com/eng/main.asp\n"
     ]
    },
    {
     "name": "stderr",
     "output_type": "stream",
     "text": [
      "C:\\Users\\USER\\AppData\\Local\\Temp\\ipykernel_35348\\2064196938.py:79: FutureWarning: The frame.append method is deprecated and will be removed from pandas in a future version. Use pandas.concat instead.\n",
      "  gc = gc.append(Dic, ignore_index=True)\n"
     ]
    },
    {
     "name": "stdout",
     "output_type": "stream",
     "text": [
      "objectflor Art und Design Belags GmbH\n",
      "Luxury Vinyl Tiles\n",
      "Resilient Flooring\n",
      "Expona Design, Expona Commercial, Expona Domestic, Expona Living.\n",
      "IACG-23-100-01-2021\n",
      "https://www.objectflor.de/\n"
     ]
    },
    {
     "name": "stderr",
     "output_type": "stream",
     "text": [
      "C:\\Users\\USER\\AppData\\Local\\Temp\\ipykernel_35348\\2064196938.py:79: FutureWarning: The frame.append method is deprecated and will be removed from pandas in a future version. Use pandas.concat instead.\n",
      "  gc = gc.append(Dic, ignore_index=True)\n"
     ]
    },
    {
     "name": "stdout",
     "output_type": "stream",
     "text": [
      "objectflor Art und Design Belags GmbH\n",
      "24H3 Designbelag zum Kleben\n",
      "Resilient Flooring\n",
      "24H3 Designbelag zum Kleben\n",
      "IACG-23-100-02-2021\n",
      "https://www.objectflor.de/\n"
     ]
    },
    {
     "name": "stderr",
     "output_type": "stream",
     "text": [
      "C:\\Users\\USER\\AppData\\Local\\Temp\\ipykernel_35348\\2064196938.py:79: FutureWarning: The frame.append method is deprecated and will be removed from pandas in a future version. Use pandas.concat instead.\n",
      "  gc = gc.append(Dic, ignore_index=True)\n"
     ]
    },
    {
     "name": "stdout",
     "output_type": "stream",
     "text": [
      "objectflor Art und Design Belags GmbH\n",
      "LIVING⁺ COLLECTION\n",
      "Resilient Flooring\n",
      "LIVING⁺ COLLECTION\n",
      "IACG-23-100-05-2021\n",
      "https://www.objectflor.de/\n"
     ]
    },
    {
     "name": "stderr",
     "output_type": "stream",
     "text": [
      "C:\\Users\\USER\\AppData\\Local\\Temp\\ipykernel_35348\\2064196938.py:79: FutureWarning: The frame.append method is deprecated and will be removed from pandas in a future version. Use pandas.concat instead.\n",
      "  gc = gc.append(Dic, ignore_index=True)\n"
     ]
    },
    {
     "name": "stdout",
     "output_type": "stream",
     "text": [
      "objectflor Art und Design Belags GmbH\n",
      "Cavalio\n",
      "Resilient Flooring\n",
      "Cavalio 0.55, Cavalio 0.3, Cavalio Click 0.55, Cavalio Click 0.3\n",
      "IACG-23-100-06-2021\n",
      "https://www.objectflor.de/\n"
     ]
    },
    {
     "name": "stderr",
     "output_type": "stream",
     "text": [
      "C:\\Users\\USER\\AppData\\Local\\Temp\\ipykernel_35348\\2064196938.py:79: FutureWarning: The frame.append method is deprecated and will be removed from pandas in a future version. Use pandas.concat instead.\n",
      "  gc = gc.append(Dic, ignore_index=True)\n"
     ]
    },
    {
     "name": "stdout",
     "output_type": "stream",
     "text": [
      "objectflor Art und Design Belags GmbH\n",
      "Designbelag\n",
      "Resilient Flooring\n",
      "Designbelag LOC 4.0 (16/3), 16/3 Designbelag zum Kleben\n",
      "IACG-23-100-09-2021\n",
      "https://www.objectflor.de/\n"
     ]
    },
    {
     "name": "stderr",
     "output_type": "stream",
     "text": [
      "C:\\Users\\USER\\AppData\\Local\\Temp\\ipykernel_35348\\2064196938.py:79: FutureWarning: The frame.append method is deprecated and will be removed from pandas in a future version. Use pandas.concat instead.\n",
      "  gc = gc.append(Dic, ignore_index=True)\n"
     ]
    },
    {
     "name": "stdout",
     "output_type": "stream",
     "text": [
      "objectflor Art und Design Belags GmbH\n",
      "Polyflor - Homogene PVC-Beläge\n",
      "Resilient Flooring\n",
      "Polyflor Palettone PUR, Polyflor Prestige PUR, Polyflor Pearlazzo PUR, Polyflor Mystique PUR, Polyflor Smart PUR, Polyflor Trend PUR, Polyflor Primus 2000 PUR, Polyflor Extra XLPUR, Polyflor Ultra XLPUR, Polyflor Start XL, Polyflor Robust XL, Polyflex Plus PU, Polysafe Ecomax.\n",
      "IACG-23-101-01-2021\n",
      "https://www.objectflor.de/\n"
     ]
    },
    {
     "name": "stderr",
     "output_type": "stream",
     "text": [
      "C:\\Users\\USER\\AppData\\Local\\Temp\\ipykernel_35348\\2064196938.py:79: FutureWarning: The frame.append method is deprecated and will be removed from pandas in a future version. Use pandas.concat instead.\n",
      "  gc = gc.append(Dic, ignore_index=True)\n"
     ]
    },
    {
     "name": "stdout",
     "output_type": "stream",
     "text": [
      "objectflor Art und Design Belags GmbH\n",
      "Heterogene Kompaktbeläge\n",
      "Resilient Flooring\n",
      "Ligno fx, Mineral fx, Expona Flow PUR, Bloc PUR\n",
      "IACG-23-106-01-2021\n",
      "https://www.objectflor.de/\n"
     ]
    },
    {
     "name": "stderr",
     "output_type": "stream",
     "text": [
      "C:\\Users\\USER\\AppData\\Local\\Temp\\ipykernel_35348\\2064196938.py:79: FutureWarning: The frame.append method is deprecated and will be removed from pandas in a future version. Use pandas.concat instead.\n",
      "  gc = gc.append(Dic, ignore_index=True)\n"
     ]
    },
    {
     "name": "stdout",
     "output_type": "stream",
     "text": [
      "objectflor Art und Design Belags GmbH\n",
      "Loose Lay Tiles - 1\n",
      "Resilient Flooring\n",
      "Expona Simplay, Expona Puzzle, Expona Simplay 19dB\n",
      "IACG-23-107-01-2021\n",
      "https://www.objectflor.de/\n"
     ]
    },
    {
     "name": "stderr",
     "output_type": "stream",
     "text": [
      "C:\\Users\\USER\\AppData\\Local\\Temp\\ipykernel_35348\\2064196938.py:79: FutureWarning: The frame.append method is deprecated and will be removed from pandas in a future version. Use pandas.concat instead.\n",
      "  gc = gc.append(Dic, ignore_index=True)\n"
     ]
    },
    {
     "name": "stdout",
     "output_type": "stream",
     "text": [
      "objectflor Art und Design Belags GmbH\n",
      "Polyflor ESD\n",
      "Resilient Flooring\n",
      "Palettone SD, Finesse SD, Polyflor SD, Polyflor EC\n",
      "IACG-23-109-01-2021\n",
      "https://www.objectflor.de/\n"
     ]
    },
    {
     "name": "stderr",
     "output_type": "stream",
     "text": [
      "C:\\Users\\USER\\AppData\\Local\\Temp\\ipykernel_35348\\2064196938.py:79: FutureWarning: The frame.append method is deprecated and will be removed from pandas in a future version. Use pandas.concat instead.\n",
      "  gc = gc.append(Dic, ignore_index=True)\n"
     ]
    },
    {
     "name": "stdout",
     "output_type": "stream",
     "text": [
      "objectflor Art und Design Belags GmbH\n",
      "SPC product with rigid PVC core\n",
      "Loose Lay Tiles\n",
      "Expona Clic 19dB, Expona Living Clic.\n",
      "IACG-23-110-01-2021\n",
      "https://www.objectflor.de/\n"
     ]
    },
    {
     "name": "stderr",
     "output_type": "stream",
     "text": [
      "C:\\Users\\USER\\AppData\\Local\\Temp\\ipykernel_35348\\2064196938.py:79: FutureWarning: The frame.append method is deprecated and will be removed from pandas in a future version. Use pandas.concat instead.\n",
      "  gc = gc.append(Dic, ignore_index=True)\n"
     ]
    },
    {
     "name": "stdout",
     "output_type": "stream",
     "text": [
      "objectflor Art und Design Belags GmbH\n",
      "24H3 Designbelag Clic\n",
      "Resilient Flooring\n",
      "24H3 Designbelag Clic\n",
      "IACG-23-110-02-2021\n",
      "https://www.objectflor.de/\n"
     ]
    },
    {
     "name": "stderr",
     "output_type": "stream",
     "text": [
      "C:\\Users\\USER\\AppData\\Local\\Temp\\ipykernel_35348\\2064196938.py:79: FutureWarning: The frame.append method is deprecated and will be removed from pandas in a future version. Use pandas.concat instead.\n",
      "  gc = gc.append(Dic, ignore_index=True)\n"
     ]
    },
    {
     "name": "stdout",
     "output_type": "stream",
     "text": [
      "objectflor Art und Design Belags GmbH\n",
      "Artigo Kautschukbeläge, Gruppe I\n",
      "Resilient Flooring\n",
      "BS Classic, BS Strong, Saarfloor Noppe\n",
      "IACG-23-112-01-2021\n",
      "https://www.objectflor.de/\n"
     ]
    },
    {
     "name": "stderr",
     "output_type": "stream",
     "text": [
      "C:\\Users\\USER\\AppData\\Local\\Temp\\ipykernel_35348\\2064196938.py:79: FutureWarning: The frame.append method is deprecated and will be removed from pandas in a future version. Use pandas.concat instead.\n",
      "  gc = gc.append(Dic, ignore_index=True)\n"
     ]
    },
    {
     "name": "stdout",
     "output_type": "stream",
     "text": [
      "objectflor Art und Design Belags GmbH\n",
      "Artigo Kautschukbeläge, Gruppe II\n",
      "Resilient Flooring\n",
      "Dharma ANT 48 , Grain ANT 48, Granito ANT 48, Lava ANT 48, ND UNI ANT 48, Zeus ANT 48\n",
      "IACG-23-113-01-2021\n",
      "https://www.objectflor.de/\n"
     ]
    },
    {
     "name": "stderr",
     "output_type": "stream",
     "text": [
      "C:\\Users\\USER\\AppData\\Local\\Temp\\ipykernel_35348\\2064196938.py:79: FutureWarning: The frame.append method is deprecated and will be removed from pandas in a future version. Use pandas.concat instead.\n",
      "  gc = gc.append(Dic, ignore_index=True)\n"
     ]
    },
    {
     "name": "stdout",
     "output_type": "stream",
     "text": [
      "objectflor Art und Design Belags GmbH\n",
      "Artigo Kautschukbeläge, Gruppe III\n",
      "Resilient Flooring\n",
      "Dharma, Grain, Granito, Kayar, Lava, Natura, SaarFloor Bernstein, SaarFloor Diamant, Screed, Zeus\n",
      "IACG-23-114-01-2021\n",
      "https://www.objectflor.de/\n"
     ]
    },
    {
     "name": "stderr",
     "output_type": "stream",
     "text": [
      "C:\\Users\\USER\\AppData\\Local\\Temp\\ipykernel_35348\\2064196938.py:79: FutureWarning: The frame.append method is deprecated and will be removed from pandas in a future version. Use pandas.concat instead.\n",
      "  gc = gc.append(Dic, ignore_index=True)\n"
     ]
    },
    {
     "name": "stdout",
     "output_type": "stream",
     "text": [
      "objectflor Art und Design Belags GmbH\n",
      "Artigo Kautschukbeläge, Gruppe IV\n",
      "Resilient Flooring\n",
      "Multiflor ND Uni\n",
      "IACG-23-115-01-2021\n",
      "https://www.objectflor.de/\n"
     ]
    },
    {
     "name": "stderr",
     "output_type": "stream",
     "text": [
      "C:\\Users\\USER\\AppData\\Local\\Temp\\ipykernel_35348\\2064196938.py:79: FutureWarning: The frame.append method is deprecated and will be removed from pandas in a future version. Use pandas.concat instead.\n",
      "  gc = gc.append(Dic, ignore_index=True)\n"
     ]
    },
    {
     "name": "stdout",
     "output_type": "stream",
     "text": [
      "objectflor Art und Design Belags GmbH\n",
      "Expona Simplay Carpets\n",
      "Textile Flooring\n",
      "IMPRESSION 1-4, Classic UNI, Concept Mix, Concept Matt, Comfort, Classic Stripes\n",
      "IACG-23-116-01-2022\n",
      "https://www.objectflor.de/\n"
     ]
    },
    {
     "name": "stderr",
     "output_type": "stream",
     "text": [
      "C:\\Users\\USER\\AppData\\Local\\Temp\\ipykernel_35348\\2064196938.py:79: FutureWarning: The frame.append method is deprecated and will be removed from pandas in a future version. Use pandas.concat instead.\n",
      "  gc = gc.append(Dic, ignore_index=True)\n"
     ]
    },
    {
     "name": "stdout",
     "output_type": "stream",
     "text": [
      "Paroc Group Oy\n",
      "Hvac Section and Lamella Mat\n",
      "Insulation\n",
      "PAROC Hvac Section AluCoat T, PAROC Hvac Section GreyCoat T, PAROC Hvac Mat AluCoat, PAROC Hvac Mat GreyCoat, PAROC Hvac Lamella Mat AluCoat , PAROC Hvac Lamella Mat GreyCoat\n",
      "IACG-339-01-01-2021\n",
      "http://www.paroc.com/solutions-and-products/solutions/technical-insulation\n"
     ]
    },
    {
     "name": "stderr",
     "output_type": "stream",
     "text": [
      "C:\\Users\\USER\\AppData\\Local\\Temp\\ipykernel_35348\\2064196938.py:79: FutureWarning: The frame.append method is deprecated and will be removed from pandas in a future version. Use pandas.concat instead.\n",
      "  gc = gc.append(Dic, ignore_index=True)\n"
     ]
    },
    {
     "name": "stdout",
     "output_type": "stream",
     "text": [
      "Pematex International GmbH\n",
      "Vinyl Klebe, Vinyl Click, Platinen\n",
      "Resilient Flooring\n",
      "Vinyl Klebe, Vinyl Click, Platinen\n",
      "IACG-422-01-01-2021\n",
      "https://pematex.com/\n"
     ]
    },
    {
     "name": "stderr",
     "output_type": "stream",
     "text": [
      "C:\\Users\\USER\\AppData\\Local\\Temp\\ipykernel_35348\\2064196938.py:79: FutureWarning: The frame.append method is deprecated and will be removed from pandas in a future version. Use pandas.concat instead.\n",
      "  gc = gc.append(Dic, ignore_index=True)\n"
     ]
    },
    {
     "name": "stdout",
     "output_type": "stream",
     "text": [
      "Pematex International GmbH\n",
      "Mineral Pro, Mineral Plus, Minerva Classic/Prime/XL\n",
      "Resilient Flooring\n",
      "Mineral Pro, Mineral Plus, Minerva Classic/Prime/XL\n",
      "IACG-422-01-02-2021\n",
      "https://pematex.com/\n"
     ]
    },
    {
     "name": "stderr",
     "output_type": "stream",
     "text": [
      "C:\\Users\\USER\\AppData\\Local\\Temp\\ipykernel_35348\\2064196938.py:79: FutureWarning: The frame.append method is deprecated and will be removed from pandas in a future version. Use pandas.concat instead.\n",
      "  gc = gc.append(Dic, ignore_index=True)\n"
     ]
    },
    {
     "name": "stdout",
     "output_type": "stream",
     "text": [
      "Pevanha BV\n",
      "PeVanHa PA6\n",
      "Textile Flooring\n",
      "AMBIENTE, ATLANTIC, BARI BARI LINES, BOULDER, CAPITAL CAPITAL LINES, COBRA, COBRA LINES EMBER, EPIC, JAVA, LEVEL, LINES LISBON, LOFT, LONDON, LONDON LINES MADRID, MAINSTONE, Merida, MILANO NATURE , NETWORK, PANAMA Peru, PORTO , SMART, SONAR SONAR LINES, SPARTA, SPECTRUM TORNADO, TWINKLE, UNITED, VALENCIA, VIPER, WINDSOR\n",
      "IACG-406-01-01-2021\n",
      "https://www.pevanha.nl/\n"
     ]
    },
    {
     "name": "stderr",
     "output_type": "stream",
     "text": [
      "C:\\Users\\USER\\AppData\\Local\\Temp\\ipykernel_35348\\2064196938.py:79: FutureWarning: The frame.append method is deprecated and will be removed from pandas in a future version. Use pandas.concat instead.\n",
      "  gc = gc.append(Dic, ignore_index=True)\n"
     ]
    },
    {
     "name": "stdout",
     "output_type": "stream",
     "text": [
      "PONGS GROUP GmbH & Co. KG\n",
      "DESCOR® PREMIUM\n",
      "Technical textiles\n",
      "DESCOR® PREMIUM Weiß 599130 450, DESCOR® PREMIUM Naturweiß 599130 469\n",
      "IACG-374-01-01-2021B\n",
      "https://www.pongs.com/\n"
     ]
    },
    {
     "name": "stderr",
     "output_type": "stream",
     "text": [
      "C:\\Users\\USER\\AppData\\Local\\Temp\\ipykernel_35348\\2064196938.py:79: FutureWarning: The frame.append method is deprecated and will be removed from pandas in a future version. Use pandas.concat instead.\n",
      "  gc = gc.append(Dic, ignore_index=True)\n"
     ]
    },
    {
     "name": "stdout",
     "output_type": "stream",
     "text": [
      "25\n",
      "PONGS GROUP GmbH & Co. KG\n",
      "D-PREMIUM\n",
      "Technical textiles\n",
      "D-PREMIUM white 59130 450, D-PREMIUM nature white 599130 469\n",
      "IACG-374-01-02-2021B\n",
      "https://www.pongs.com/\n"
     ]
    },
    {
     "name": "stderr",
     "output_type": "stream",
     "text": [
      "C:\\Users\\USER\\AppData\\Local\\Temp\\ipykernel_35348\\2064196938.py:79: FutureWarning: The frame.append method is deprecated and will be removed from pandas in a future version. Use pandas.concat instead.\n",
      "  gc = gc.append(Dic, ignore_index=True)\n"
     ]
    },
    {
     "name": "stdout",
     "output_type": "stream",
     "text": [
      "Project Floors GmbH\n",
      "floors@work, floors@home, Herringbone\n",
      "Resilient Flooring\n",
      "floors@work, floors@home, Herringbone\n",
      "IACG-32-01-01-2022\n",
      "https://www.project-floors.com/\n"
     ]
    },
    {
     "name": "stderr",
     "output_type": "stream",
     "text": [
      "C:\\Users\\USER\\AppData\\Local\\Temp\\ipykernel_35348\\2064196938.py:79: FutureWarning: The frame.append method is deprecated and will be removed from pandas in a future version. Use pandas.concat instead.\n",
      "  gc = gc.append(Dic, ignore_index=True)\n"
     ]
    },
    {
     "name": "stdout",
     "output_type": "stream",
     "text": [
      "Project Floors GmbH\n",
      "eco+ Collection\n",
      "Resilient Flooring\n",
      "eco+ Collection\n",
      "IACG-32-01-03-2022\n",
      "https://www.project-floors.com/\n"
     ]
    },
    {
     "name": "stderr",
     "output_type": "stream",
     "text": [
      "C:\\Users\\USER\\AppData\\Local\\Temp\\ipykernel_35348\\2064196938.py:79: FutureWarning: The frame.append method is deprecated and will be removed from pandas in a future version. Use pandas.concat instead.\n",
      "  gc = gc.append(Dic, ignore_index=True)\n"
     ]
    },
    {
     "name": "stdout",
     "output_type": "stream",
     "text": [
      "Project Floors GmbH\n",
      "CORE COLLECTION 5.0 mm\n",
      "Resilient Flooring\n",
      "CORE COLLECTION 5.0 mm\n",
      "IACG-32-02-02-2020\n",
      "https://www.project-floors.com/\n"
     ]
    },
    {
     "name": "stderr",
     "output_type": "stream",
     "text": [
      "C:\\Users\\USER\\AppData\\Local\\Temp\\ipykernel_35348\\2064196938.py:79: FutureWarning: The frame.append method is deprecated and will be removed from pandas in a future version. Use pandas.concat instead.\n",
      "  gc = gc.append(Dic, ignore_index=True)\n"
     ]
    },
    {
     "name": "stdout",
     "output_type": "stream",
     "text": [
      "PVP Triptis GmbH\n",
      "SPORTMAT EF1-10-YY\n",
      "Resilient Flooring\n",
      "SPORTMAT EF1-10-YY\n",
      "IACG-401-01-01-2021\n",
      "https://www.pvp-gummi.de/\n"
     ]
    },
    {
     "name": "stderr",
     "output_type": "stream",
     "text": [
      "C:\\Users\\USER\\AppData\\Local\\Temp\\ipykernel_35348\\2064196938.py:79: FutureWarning: The frame.append method is deprecated and will be removed from pandas in a future version. Use pandas.concat instead.\n",
      "  gc = gc.append(Dic, ignore_index=True)\n"
     ]
    },
    {
     "name": "stdout",
     "output_type": "stream",
     "text": [
      "PVP Triptis GmbH\n",
      "SPORTMAT EF(X)-20-YY\n",
      "Rubber Flooring\n",
      "SPORTMAT EF(X)-20-YY, SPORTMAT EF(X)-20-YY-ZZ, SPORTMAT EF(X)-20-YY-ZZ-XX\n",
      "IACG-401-01-02-2021\n",
      "https://www.pvp-gummi.de/\n"
     ]
    },
    {
     "name": "stderr",
     "output_type": "stream",
     "text": [
      "C:\\Users\\USER\\AppData\\Local\\Temp\\ipykernel_35348\\2064196938.py:79: FutureWarning: The frame.append method is deprecated and will be removed from pandas in a future version. Use pandas.concat instead.\n",
      "  gc = gc.append(Dic, ignore_index=True)\n"
     ]
    },
    {
     "name": "stdout",
     "output_type": "stream",
     "text": [
      "PVP Triptis GmbH\n",
      "SPORTMAT EF(X)-40-YY\n",
      "Rubber Flooring\n",
      "SPORTMAT EF(X)-40-YY, SPORTMAT EF(X)-40-YY-ZZ, SPORTMAT EF(X)-40-YY-ZZ-XX\n",
      "IACG-401-01-0-2021\n",
      "https://www.pvp-gummi.de/\n"
     ]
    },
    {
     "name": "stderr",
     "output_type": "stream",
     "text": [
      "C:\\Users\\USER\\AppData\\Local\\Temp\\ipykernel_35348\\2064196938.py:79: FutureWarning: The frame.append method is deprecated and will be removed from pandas in a future version. Use pandas.concat instead.\n",
      "  gc = gc.append(Dic, ignore_index=True)\n"
     ]
    },
    {
     "name": "stdout",
     "output_type": "stream",
     "text": [
      "Radici Pietro Industries & Brands Spa\n",
      "CERVINO, MONVISO\n",
      "Textile Flooring\n",
      "CERVINO, MONVISO\n",
      "IACG-424-01-01-2021\n",
      "https://www.sit-in.it/en/146/cpr/offices/carpet.aspx\n"
     ]
    },
    {
     "name": "stderr",
     "output_type": "stream",
     "text": [
      "C:\\Users\\USER\\AppData\\Local\\Temp\\ipykernel_35348\\2064196938.py:79: FutureWarning: The frame.append method is deprecated and will be removed from pandas in a future version. Use pandas.concat instead.\n",
      "  gc = gc.append(Dic, ignore_index=True)\n"
     ]
    },
    {
     "name": "stdout",
     "output_type": "stream",
     "text": [
      "Rakennuskemia OY\n",
      "Sealants and adhesives\n",
      "Sealants\n",
      "WTF S Serious Flex, WTF U Universal Flex, WTF Y Yes! Flex, WTF I Invisible Flex, WTF O Offensive Flex, WTF X Extreme Tack\n",
      "IACG-438-01-01-2021\n",
      "https://rakennuskemia.fi/\n"
     ]
    },
    {
     "name": "stderr",
     "output_type": "stream",
     "text": [
      "C:\\Users\\USER\\AppData\\Local\\Temp\\ipykernel_35348\\2064196938.py:79: FutureWarning: The frame.append method is deprecated and will be removed from pandas in a future version. Use pandas.concat instead.\n",
      "  gc = gc.append(Dic, ignore_index=True)\n"
     ]
    },
    {
     "name": "stdout",
     "output_type": "stream",
     "text": [
      "Reiß GmbH\n",
      "Reiß-Kraft\n",
      "Sealants\n",
      "Reiß-Kraft 8 in 1, Reiß-Kraft Universal - SMP Dichtstoff SEMI-TRANSPARENT, TURBOFLEX PLAN\n",
      "IACG-380-01-01-2022\n",
      "https://www.reiss-kraft.de/\n"
     ]
    },
    {
     "name": "stderr",
     "output_type": "stream",
     "text": [
      "C:\\Users\\USER\\AppData\\Local\\Temp\\ipykernel_35348\\2064196938.py:79: FutureWarning: The frame.append method is deprecated and will be removed from pandas in a future version. Use pandas.concat instead.\n",
      "  gc = gc.append(Dic, ignore_index=True)\n"
     ]
    },
    {
     "name": "stdout",
     "output_type": "stream",
     "text": [
      "RIGROMONT GmbH\n",
      "Casa Nova POSITANO\n",
      "Resilient Flooring\n",
      "POSITANO Easy, POSITANO Capri, POSITANO Amalfi, Capri Rigid Click 5, Amalfi Rigid Click 5,5\n",
      "IACG-446-01-01-2022\n",
      "https://www.casanova-boden.de/index.php/sortiment/cv-und-designbelaege/212-positano-designboden-2024\n"
     ]
    },
    {
     "name": "stderr",
     "output_type": "stream",
     "text": [
      "C:\\Users\\USER\\AppData\\Local\\Temp\\ipykernel_35348\\2064196938.py:79: FutureWarning: The frame.append method is deprecated and will be removed from pandas in a future version. Use pandas.concat instead.\n",
      "  gc = gc.append(Dic, ignore_index=True)\n"
     ]
    },
    {
     "name": "stdout",
     "output_type": "stream",
     "text": [
      "Rinol Italia Research & Technology S.r.l.\n",
      "RINOLCRETE\n",
      "Coating Systems\n",
      "RINOLCRETE PU-P250, RINOLCRETE PU-C550, RINOLCRETE PU-C555, RINOLCRETE PU-C560, RINOLCRETE PU-C565, RINOLCRETE PU-C570\n",
      "IACG-415-01-01-2021\n",
      "http://www.rinol.de/en\n"
     ]
    },
    {
     "name": "stderr",
     "output_type": "stream",
     "text": [
      "C:\\Users\\USER\\AppData\\Local\\Temp\\ipykernel_35348\\2064196938.py:79: FutureWarning: The frame.append method is deprecated and will be removed from pandas in a future version. Use pandas.concat instead.\n",
      "  gc = gc.append(Dic, ignore_index=True)\n"
     ]
    },
    {
     "name": "stdout",
     "output_type": "stream",
     "text": [
      "Rinol Italia Research & Technology S.r.l.\n",
      "RINOL DRT\n",
      "Coating Systems\n",
      "RINOL DensiSod, RINOL DensiPot, RINOL DensiPlus, RINOL Performance, RINOL Performance Plus\n",
      "IACG-415-01-02-2021B\n",
      "http://www.rinol.de/en\n"
     ]
    },
    {
     "name": "stderr",
     "output_type": "stream",
     "text": [
      "C:\\Users\\USER\\AppData\\Local\\Temp\\ipykernel_35348\\2064196938.py:79: FutureWarning: The frame.append method is deprecated and will be removed from pandas in a future version. Use pandas.concat instead.\n",
      "  gc = gc.append(Dic, ignore_index=True)\n"
     ]
    },
    {
     "name": "stdout",
     "output_type": "stream",
     "text": [
      "ROCKWOOL PENINSULAR S.A.U.\n",
      "Spain - NAF - Kraft paper\n",
      "Insulation\n",
      "Confortpan 208 kraft, Rockplus kraft\n",
      "IACG-377-03-01-2021\n",
      "https://www.rockwool.es/\n"
     ]
    },
    {
     "name": "stderr",
     "output_type": "stream",
     "text": [
      "C:\\Users\\USER\\AppData\\Local\\Temp\\ipykernel_35348\\2064196938.py:79: FutureWarning: The frame.append method is deprecated and will be removed from pandas in a future version. Use pandas.concat instead.\n",
      "  gc = gc.append(Dic, ignore_index=True)\n"
     ]
    },
    {
     "name": "stdout",
     "output_type": "stream",
     "text": [
      "ROCKWOOL PENINSULAR S.A.U.\n",
      "Spain - NAF - Unfaced\n",
      "Insulation\n",
      "Alpharock 225, Confortpan 208 Roxul, Crossrock 209, Fixrock Eco, Fixrock Optimo , Fixrock Plus, Rockband, Rockbardage, Rockcalm 211, Rockdry, Rockfit 202, Rockplus 220, Ventirock Duo\n",
      "IACG-377-03-02-2021\n",
      "https://www.rockwool.es/\n"
     ]
    },
    {
     "name": "stderr",
     "output_type": "stream",
     "text": [
      "C:\\Users\\USER\\AppData\\Local\\Temp\\ipykernel_35348\\2064196938.py:79: FutureWarning: The frame.append method is deprecated and will be removed from pandas in a future version. Use pandas.concat instead.\n",
      "  gc = gc.append(Dic, ignore_index=True)\n"
     ]
    },
    {
     "name": "stdout",
     "output_type": "stream",
     "text": [
      "ROCKWOOL PENINSULAR S.A.U.\n",
      "Spain - NAF - Black fleece\n",
      "Insulation\n",
      "Rockband VN, Panel 211.652, Panel 221.652, Panel 231.652\n",
      "IACG-377-03-03-2021\n",
      "https://www.rockwool.es/\n"
     ]
    },
    {
     "name": "stderr",
     "output_type": "stream",
     "text": [
      "C:\\Users\\USER\\AppData\\Local\\Temp\\ipykernel_35348\\2064196938.py:79: FutureWarning: The frame.append method is deprecated and will be removed from pandas in a future version. Use pandas.concat instead.\n",
      "  gc = gc.append(Dic, ignore_index=True)\n"
     ]
    },
    {
     "name": "stdout",
     "output_type": "stream",
     "text": [
      "Rudan sro\n",
      "Capital\n",
      "Textile Flooring\n",
      "Copenhagen, Berlin, Marseille, Marseille Lines, Atlanta, Austin, Austin Lines, Oslo, Oslo Lines, Stockholm, Memphis, Montreal, Boston, Casablanca\n",
      "IACG-423-01-01-2021\n",
      "https://www.rudan.cz/en/\n"
     ]
    },
    {
     "name": "stderr",
     "output_type": "stream",
     "text": [
      "C:\\Users\\USER\\AppData\\Local\\Temp\\ipykernel_35348\\2064196938.py:79: FutureWarning: The frame.append method is deprecated and will be removed from pandas in a future version. Use pandas.concat instead.\n",
      "  gc = gc.append(Dic, ignore_index=True)\n"
     ]
    },
    {
     "name": "stdout",
     "output_type": "stream",
     "text": [
      "RUST-OLEUM France S.A.S.\n",
      "Rust-Oleum - Little Stars Peinture Murale Purifiant l’air\n",
      "Wall paints\n",
      "Rust-Oleum - Little Stars Peinture Murale Purifiant l’air\n",
      "IACG-343-01-01D-2021\n",
      "https://www.rust-oleum.eu/fr/\n"
     ]
    },
    {
     "name": "stderr",
     "output_type": "stream",
     "text": [
      "C:\\Users\\USER\\AppData\\Local\\Temp\\ipykernel_35348\\2064196938.py:79: FutureWarning: The frame.append method is deprecated and will be removed from pandas in a future version. Use pandas.concat instead.\n",
      "  gc = gc.append(Dic, ignore_index=True)\n"
     ]
    },
    {
     "name": "stdout",
     "output_type": "stream",
     "text": [
      "RUST-OLEUM GmbH\n",
      "Rust-Oleum - Little Stars Luftreinigende Wandfarbe\n",
      "Wall paints\n",
      "Rust-Oleum - Little Stars Luftreinigende Wandfarbe\n",
      "IACG-343-01-01E-2021\n",
      "https://www.rust-oleum.eu/de/\n"
     ]
    },
    {
     "name": "stderr",
     "output_type": "stream",
     "text": [
      "C:\\Users\\USER\\AppData\\Local\\Temp\\ipykernel_35348\\2064196938.py:79: FutureWarning: The frame.append method is deprecated and will be removed from pandas in a future version. Use pandas.concat instead.\n",
      "  gc = gc.append(Dic, ignore_index=True)\n"
     ]
    },
    {
     "name": "stdout",
     "output_type": "stream",
     "text": [
      "RUST-OLEUM Netherlands B.V.\n",
      "Rust-Oleum - Little Stars Luchtzuiverende Muurverf\n",
      "Wall paints\n",
      "Rust-Oleum - Little Stars Luchtzuiverende Muurverf\n",
      "IACG-343-01-01C-2021\n",
      "https://www.rust-oleum.eu/\n"
     ]
    },
    {
     "name": "stderr",
     "output_type": "stream",
     "text": [
      "C:\\Users\\USER\\AppData\\Local\\Temp\\ipykernel_35348\\2064196938.py:79: FutureWarning: The frame.append method is deprecated and will be removed from pandas in a future version. Use pandas.concat instead.\n",
      "  gc = gc.append(Dic, ignore_index=True)\n"
     ]
    },
    {
     "name": "stdout",
     "output_type": "stream",
     "text": [
      "Ruutu\n",
      "Carpet Tiles & Planks\n",
      "Textile Flooring\n",
      "Viileä Metsä Metro Luonto Urban Dimensions Cloud Space Woven Touch Rekka Twist Shimmer Flagstone Walk Linear Reflections Threaded Feel\n",
      "IACG-417-01-01-2020\n",
      "http://www.ruutu.co.uk/carpet/\n"
     ]
    },
    {
     "name": "stderr",
     "output_type": "stream",
     "text": [
      "C:\\Users\\USER\\AppData\\Local\\Temp\\ipykernel_35348\\2064196938.py:79: FutureWarning: The frame.append method is deprecated and will be removed from pandas in a future version. Use pandas.concat instead.\n",
      "  gc = gc.append(Dic, ignore_index=True)\n"
     ]
    },
    {
     "name": "stdout",
     "output_type": "stream",
     "text": [
      "Sager AG\n",
      "Saglan Rolls\n",
      "Insulation\n",
      "SAGLAN R-200, SAGLAN R-300, SAGLAN R-400, SAGLAN R-500, SAGLAN SBR, SAGLAN SBR plus, SAGLAN SBR plus Sparren, SAGLAN SBR Sparren, SAGLAN SI 25, SAGLAN SI 30, SAGLAN SI 30 K, SAGLAN SKR, SAGLAN SO-R, SAGLAN T-R 300, SAGLAN T-R 400, SAGLAN T-R HT 400 KA, SAGLAN T-SI 25, SAGLAN T-SI 30, SAGLAN T-SI 35, SAGLAN T-SI 40, SAGLAN T-SI-K 30, SAGLAN TCR, SAGLAN TWKR, SAGLAN TWR 33, SAGLAN WDR\n",
      "IACG-332-01-01-2021\n",
      "http://www.sager.ch/\n"
     ]
    },
    {
     "name": "stderr",
     "output_type": "stream",
     "text": [
      "C:\\Users\\USER\\AppData\\Local\\Temp\\ipykernel_35348\\2064196938.py:79: FutureWarning: The frame.append method is deprecated and will be removed from pandas in a future version. Use pandas.concat instead.\n",
      "  gc = gc.append(Dic, ignore_index=True)\n"
     ]
    },
    {
     "name": "stdout",
     "output_type": "stream",
     "text": [
      "\n",
      "\n",
      "\n",
      "\n",
      "\n",
      "http://www.sager.ch/\n"
     ]
    },
    {
     "name": "stderr",
     "output_type": "stream",
     "text": [
      "C:\\Users\\USER\\AppData\\Local\\Temp\\ipykernel_35348\\2064196938.py:79: FutureWarning: The frame.append method is deprecated and will be removed from pandas in a future version. Use pandas.concat instead.\n",
      "  gc = gc.append(Dic, ignore_index=True)\n"
     ]
    },
    {
     "name": "stdout",
     "output_type": "stream",
     "text": [
      "\n",
      "\n",
      "\n",
      "\n",
      "\n",
      "http://www.sager.ch/\n"
     ]
    },
    {
     "name": "stderr",
     "output_type": "stream",
     "text": [
      "C:\\Users\\USER\\AppData\\Local\\Temp\\ipykernel_35348\\2064196938.py:79: FutureWarning: The frame.append method is deprecated and will be removed from pandas in a future version. Use pandas.concat instead.\n",
      "  gc = gc.append(Dic, ignore_index=True)\n"
     ]
    },
    {
     "name": "stdout",
     "output_type": "stream",
     "text": [
      "Saint Gobain Construction Products Nederland B.V.\n",
      "Mineral wool for insulation\n",
      "Insulation\n",
      "Mineral wool for insulation\n",
      "IACG-400-05-01-2021\n",
      "https://www.isover.nl/\n"
     ]
    },
    {
     "name": "stderr",
     "output_type": "stream",
     "text": [
      "C:\\Users\\USER\\AppData\\Local\\Temp\\ipykernel_35348\\2064196938.py:79: FutureWarning: The frame.append method is deprecated and will be removed from pandas in a future version. Use pandas.concat instead.\n",
      "  gc = gc.append(Dic, ignore_index=True)\n"
     ]
    },
    {
     "name": "stdout",
     "output_type": "stream",
     "text": [
      "25\n",
      "Saint-Gobain Denmark A/S, ISOVER\n",
      "Mineral Wool Building Insulation - unfaced\n",
      "Insulation\n",
      "ISOVER Ruller 34, ISOVER Formstykker 34, ISOVER Robust Lameln, ISOVER Industriplade IP2, ISOVER CLIMCOVER Slab, ISOVER Granulat OB - Udblæst på loft, ISOVER Robust Takskiva, ISOVER Formstykker 32, ISOVER Robust TFP, ISOVER Granulat OB - Indblæst i hulmur, ISOVER Formstykker 30, ISOVER Facadeisolering 32, ISOVER Granulat - Udblæst på loft, ISOVER Granulat - Indblæst i hulmur, ISOVER Crimp-element, ISOVER Murfilt 30, ISOVER Tankisolering Ruller, ISOVER TECH Roll 1.0, ISOVER Tankisolering Formstykker, ISOVER TECH Slab 1.0, ISOVER Murfilt 32, ISOVER Trinlydsplader, ISOVER Takboard 33, ISOVER Robust TP, ISOVER Integra ZKF 1-035, ISOVER Panotoit Confort 900, ISOVER WeatherProof Facade System, ISOVER Plus system Formstykker 32, ISOVER Skillevægsfilt Formstykker, ISOVER Plus system Formstykker 34, ISOVER Kabinetplade u/ alu, ISOVER Byggeplade 37, ISOVER Flexslangerulle, ISOVER Ruller 37, ISOVER Flex, ISOVER Formstykker 37, ISOVER Murfilt 34, ISOVER Murfilt 37, ISOVER Robust Tagunderlagskiler, ISOVER Robust Modfaldskiler, ISOVER Robust Kasserendekiler, ISOVER Ruller 32, ISOVER Bjälklagslängd 36, ISOVER Regellängd 36, ISOVER Akustic TP 1, ISOVER UNI-skiva 35, ISOVER Basic Ruller, Lamelråvare til ISOVER Plus System Stolpe, ISOVER Tagfodskile, ISOVER Tagfodsplade, ISOVER Regellängd 39, ISOVER Träregelrulle 36, ISOVER Superglass TW1, ISOVER Bjälklagslängd 37, ISOVER Basic Minipakker, ISOVER Träregelskiva 37, ISOVER Basic Formstykker, ISOVER Robust TP30, ISOVER Skillevægsfilt Ruller, SOVER Diffusruller 37, ISOVER Diffusruller 40\n",
      "IACG-400-08-01-2020\n",
      "https://www.isover.dk/\n"
     ]
    },
    {
     "name": "stderr",
     "output_type": "stream",
     "text": [
      "C:\\Users\\USER\\AppData\\Local\\Temp\\ipykernel_35348\\2064196938.py:79: FutureWarning: The frame.append method is deprecated and will be removed from pandas in a future version. Use pandas.concat instead.\n",
      "  gc = gc.append(Dic, ignore_index=True)\n"
     ]
    },
    {
     "name": "stdout",
     "output_type": "stream",
     "text": [
      "Saint-Gobain Denmark A/S, ISOVER\n",
      "Glass Wool Insulation - Alufaced\n",
      "Insulation\n",
      "CLIMCOVER Slab Alu2 IP2 ALU AF CLIMCOVER CR Alu2 Lamelmåtte ALU AF CLIMCOVER Lamella Alu2 Tankisolering ALU AF TECH Roll 1.0 Alu2 Crimp Wrap\n",
      "IACG-400-08-03-2020\n",
      "https://www.isover.dk/\n"
     ]
    },
    {
     "name": "stderr",
     "output_type": "stream",
     "text": [
      "C:\\Users\\USER\\AppData\\Local\\Temp\\ipykernel_35348\\2064196938.py:79: FutureWarning: The frame.append method is deprecated and will be removed from pandas in a future version. Use pandas.concat instead.\n",
      "  gc = gc.append(Dic, ignore_index=True)\n"
     ]
    },
    {
     "name": "stdout",
     "output_type": "stream",
     "text": [
      "Saint-Gobain Ecophon AB\n",
      "Ecophon Akusto\n",
      "Acoustic ceilings\n",
      "Akusto Wall A/Texona, Akusto Wall A/Akutex FT, Akusto Wall A/Super G, Akusto Wall C/Texona, Akusto Wall C/Akutex FT, Akusto Wall C/Super G, Akusto One/Texona, Akusto One/Akutex FT, Akusto Wall C/Akutex HS.\n",
      "IAC-400-11-12-2020\n",
      "https://www.ecophon.com/en/products/wall-applications/akusto/\n"
     ]
    },
    {
     "name": "stderr",
     "output_type": "stream",
     "text": [
      "C:\\Users\\USER\\AppData\\Local\\Temp\\ipykernel_35348\\2064196938.py:79: FutureWarning: The frame.append method is deprecated and will be removed from pandas in a future version. Use pandas.concat instead.\n",
      "  gc = gc.append(Dic, ignore_index=True)\n"
     ]
    },
    {
     "name": "stdout",
     "output_type": "stream",
     "text": [
      "Saint-Gobain Ecophon AB\n",
      "Ecophon Sombra\n",
      "Acoustic ceilings\n",
      "Sombra A\n",
      "IAC-400-11-13-2020\n",
      "https://www.ecophon.com/en/products/modular-ceilings/sombra/\n"
     ]
    },
    {
     "name": "stderr",
     "output_type": "stream",
     "text": [
      "C:\\Users\\USER\\AppData\\Local\\Temp\\ipykernel_35348\\2064196938.py:79: FutureWarning: The frame.append method is deprecated and will be removed from pandas in a future version. Use pandas.concat instead.\n",
      "  gc = gc.append(Dic, ignore_index=True)\n"
     ]
    },
    {
     "name": "stdout",
     "output_type": "stream",
     "text": [
      "Saint-Gobain Ecophon AB\n",
      "Ecophon Focus\n",
      "Acoustic ceilings\n",
      "Focus A, Focus A XL, Focus B, Focus C, Focus C XL, Focus D/A, Focus D/A XL, Focus Dg, Focus Dg 12x12, Focus Dg XL, Focus Ds, Focus Ds XL, Focus E, Focus E XL, Focus Ez, Focus F, Focus Fixiform Ds, Focus Fixiform Ds XL, Focus Fixiform E, Focus Flexiform A, Focus Frieze C, Focus Frieze Ds/Dg, Focus Lp, Focus Lp Technical tile, Focus Lp XL, Focus SQ, Focus Wing Ds, Focus Wing E, Focus Levels 20, Focus Levels 30, Focus Levels 40.\n",
      "IAC-400-11-14-2020\n",
      "https://www.ecophon.com/en/products/modular-ceilings/focus/\n"
     ]
    },
    {
     "name": "stderr",
     "output_type": "stream",
     "text": [
      "C:\\Users\\USER\\AppData\\Local\\Temp\\ipykernel_35348\\2064196938.py:79: FutureWarning: The frame.append method is deprecated and will be removed from pandas in a future version. Use pandas.concat instead.\n",
      "  gc = gc.append(Dic, ignore_index=True)\n"
     ]
    },
    {
     "name": "stdout",
     "output_type": "stream",
     "text": [
      "Saint-Gobain Ecophon AB\n",
      "Ecophon Master\n",
      "Acoustic ceilings\n",
      "Master A, Master A XL, Master B, Master C, Master C XL, Master Ds, Master E, Master E XL, Master Eg, Master F, Master Rigid A, Master Rigid A XL, Master Rigid Dp, Master Rigid Dp XL, Master Rigid E, Master Rigid E XL, Master SQ.\n",
      "IAC-400-11-15-2020\n",
      "https://www.ecophon.com/en/products/modular-ceilings/master/\n"
     ]
    },
    {
     "name": "stderr",
     "output_type": "stream",
     "text": [
      "C:\\Users\\USER\\AppData\\Local\\Temp\\ipykernel_35348\\2064196938.py:79: FutureWarning: The frame.append method is deprecated and will be removed from pandas in a future version. Use pandas.concat instead.\n",
      "  gc = gc.append(Dic, ignore_index=True)\n"
     ]
    },
    {
     "name": "stdout",
     "output_type": "stream",
     "text": [
      "Saint-Gobain Ecophon AB\n",
      "Ecophon Solo\n",
      "Acoustic ceilings\n",
      "Solo Matrix, Solo Baffle, Solo Circle, Solo Circle XL, Solo Ellipse, Solo Freedom, Solo Heptagon, Solo Hexagon, Solo Octagon, Solo Pentagon, Solo Rectangle, Solo Square, Solo Triangle, Solo Square/Akutex HS, Solo Rectangle/Akutex HS.\n",
      "IAC-400-11-16-2020\n",
      "https://www.ecophon.com/en/products/free-hanging-units-and-baffles/solo/\n"
     ]
    },
    {
     "name": "stderr",
     "output_type": "stream",
     "text": [
      "C:\\Users\\USER\\AppData\\Local\\Temp\\ipykernel_35348\\2064196938.py:79: FutureWarning: The frame.append method is deprecated and will be removed from pandas in a future version. Use pandas.concat instead.\n",
      "  gc = gc.append(Dic, ignore_index=True)\n"
     ]
    },
    {
     "name": "stdout",
     "output_type": "stream",
     "text": [
      "Saint-Gobain Ecophon AB\n",
      "Ecophon Super G\n",
      "Acoustic ceilings\n",
      "Super G A, Super G A Plus, Super G B, Super G SQ.\n",
      "IAC-400-11-17-2019\n",
      "https://www.ecophon.com/en/products/modular-ceilings/super-g/\n"
     ]
    },
    {
     "name": "stderr",
     "output_type": "stream",
     "text": [
      "C:\\Users\\USER\\AppData\\Local\\Temp\\ipykernel_35348\\2064196938.py:79: FutureWarning: The frame.append method is deprecated and will be removed from pandas in a future version. Use pandas.concat instead.\n",
      "  gc = gc.append(Dic, ignore_index=True)\n"
     ]
    },
    {
     "name": "stdout",
     "output_type": "stream",
     "text": [
      "Saint-Gobain Ecophon AB\n",
      "Ecophon Hygiene\n",
      "Acoustic ceilings\n",
      "Hygiene Protec A, Hygiene Protec Air A, Hygiene Protec Ds, Hygiene Performance A, Hygiene Performance Plus A, Hygiene Performance Baffle, Hygiene Performance Wall, Hygiene Meditec A, Hygiene Meditec E, Hygiene Clinic A, Hygiene Clinic E.\n",
      "IAC-400-11-18-2019\n",
      "https://www.ecophon.com/en/products/modular-ceilings/hygiene/\n"
     ]
    },
    {
     "name": "stderr",
     "output_type": "stream",
     "text": [
      "C:\\Users\\USER\\AppData\\Local\\Temp\\ipykernel_35348\\2064196938.py:79: FutureWarning: The frame.append method is deprecated and will be removed from pandas in a future version. Use pandas.concat instead.\n",
      "  gc = gc.append(Dic, ignore_index=True)\n"
     ]
    },
    {
     "name": "stdout",
     "output_type": "stream",
     "text": [
      "Saint-Gobain Ecophon AB\n",
      "Ecophon Advantage\n",
      "Acoustic ceilings\n",
      "Advantage A 15mm, Advantage E 15mm, Advantage A 20mm, Advantage E 20mm, Advantage A 40mm.\n",
      "IAC-400-11-19-2019\n",
      "https://www.ecophon.com/en/products/modular-ceilings/advantage/\n"
     ]
    },
    {
     "name": "stderr",
     "output_type": "stream",
     "text": [
      "C:\\Users\\USER\\AppData\\Local\\Temp\\ipykernel_35348\\2064196938.py:79: FutureWarning: The frame.append method is deprecated and will be removed from pandas in a future version. Use pandas.concat instead.\n",
      "  gc = gc.append(Dic, ignore_index=True)\n"
     ]
    },
    {
     "name": "stdout",
     "output_type": "stream",
     "text": [
      "Saint-Gobain Ecophon AB\n",
      "Ecophon Opta\n",
      "Acoustic ceilings\n",
      "Opta A, Opta E.\n",
      "IAC-400-11-20-2019\n",
      "https://www.ecophon.com/en\n"
     ]
    },
    {
     "name": "stderr",
     "output_type": "stream",
     "text": [
      "C:\\Users\\USER\\AppData\\Local\\Temp\\ipykernel_35348\\2064196938.py:79: FutureWarning: The frame.append method is deprecated and will be removed from pandas in a future version. Use pandas.concat instead.\n",
      "  gc = gc.append(Dic, ignore_index=True)\n"
     ]
    },
    {
     "name": "stdout",
     "output_type": "stream",
     "text": [
      "Saint-Gobain Ecophon AB\n",
      "Ecophon Industry\n",
      "Acoustic ceilings\n",
      "Industry Modus (White, Black 970, Grey 981) Industry Modus TAL, Industry Ambit, Industry RTP, Industry AL, Industry TAL Big Size.\n",
      "IAC-400-11-21-2019\n",
      "https://www.ecophon.com/en\n"
     ]
    },
    {
     "name": "stderr",
     "output_type": "stream",
     "text": [
      "C:\\Users\\USER\\AppData\\Local\\Temp\\ipykernel_35348\\2064196938.py:79: FutureWarning: The frame.append method is deprecated and will be removed from pandas in a future version. Use pandas.concat instead.\n",
      "  gc = gc.append(Dic, ignore_index=True)\n"
     ]
    },
    {
     "name": "stdout",
     "output_type": "stream",
     "text": [
      "None\n",
      "None\n",
      "None\n",
      "None\n",
      "None\n",
      "None\n"
     ]
    },
    {
     "name": "stderr",
     "output_type": "stream",
     "text": [
      "C:\\Users\\USER\\AppData\\Local\\Temp\\ipykernel_35348\\2064196938.py:79: FutureWarning: The frame.append method is deprecated and will be removed from pandas in a future version. Use pandas.concat instead.\n",
      "  gc = gc.append(Dic, ignore_index=True)\n"
     ]
    },
    {
     "name": "stdout",
     "output_type": "stream",
     "text": [
      "Saint-Gobain Ecophon AB\n",
      "Ecophon Akusto/Plant\n",
      "Acoustic ceilings\n",
      "Akusto Wall A/Texona, Akusto Wall A/Akutex FT, Akusto Wall A/Super G, Akusto Wall C/Texona, Akusto Wall C/Akutex FT, Akusto Wall C/Super G, Akusto One/Texona, Akusto One/Akutex FT, Akusto Wall C/Akutex HS,\n",
      "IACG-400-11-01-2020\n",
      "https://www.ecophon.com/en/products/wall-applications/akusto/\n"
     ]
    },
    {
     "name": "stderr",
     "output_type": "stream",
     "text": [
      "C:\\Users\\USER\\AppData\\Local\\Temp\\ipykernel_35348\\2064196938.py:79: FutureWarning: The frame.append method is deprecated and will be removed from pandas in a future version. Use pandas.concat instead.\n",
      "  gc = gc.append(Dic, ignore_index=True)\n"
     ]
    },
    {
     "name": "stdout",
     "output_type": "stream",
     "text": [
      "Saint-Gobain Ecophon AB\n",
      "Ecophon Focus/Plant\n",
      "Acoustic ceilings\n",
      "Focus A, Focus A XL, Focus B, Focus C, Focus C XL, Focus D/A, Focus D/A XL, Focus Dg, Focus Dg 12x12, Focus Dg XL, Focus Ds, Focus Ds XL, Focus E, Focus E XL, Focus Ez, Focus F, Focus Fixiform Ds, Focus Fixiform Ds XL, Focus Fixiform E, Focus Flexiform A, Focus Frieze C, Focus Frieze Ds/Dg, Focus Lp, Focus Lp Technical tile, Focus Lp XL, Focus SQ, Focus Wing Ds, Focus Wing E, Focus Levels 20, Focus Levels 30, Focus Levels 40.\n",
      "IACG-400-11-02-2019\n",
      "https://www.ecophon.com/en/products/modular-ceilings/focus/\n"
     ]
    },
    {
     "name": "stderr",
     "output_type": "stream",
     "text": [
      "C:\\Users\\USER\\AppData\\Local\\Temp\\ipykernel_35348\\2064196938.py:79: FutureWarning: The frame.append method is deprecated and will be removed from pandas in a future version. Use pandas.concat instead.\n",
      "  gc = gc.append(Dic, ignore_index=True)\n"
     ]
    },
    {
     "name": "stdout",
     "output_type": "stream",
     "text": [
      "Saint-Gobain Ecophon AB\n",
      "Ecophon Master/Plant\n",
      "Acoustic ceilings\n",
      "Master A, Master A XL, Master B, Master C, Master C XL, Master Ds, Master E, Master E XL, Master Eg, Master F, Master SQ, Master Rigid A, Master Rigid A XL, Master Rigid Dp, Master Rigid Dp XL, Master Rigid E, Master Rigid E XL.\n",
      "IACG-400-11-03-2020\n",
      "https://www.ecophon.com/en/products/modular-ceilings/master/\n"
     ]
    },
    {
     "name": "stderr",
     "output_type": "stream",
     "text": [
      "C:\\Users\\USER\\AppData\\Local\\Temp\\ipykernel_35348\\2064196938.py:79: FutureWarning: The frame.append method is deprecated and will be removed from pandas in a future version. Use pandas.concat instead.\n",
      "  gc = gc.append(Dic, ignore_index=True)\n"
     ]
    },
    {
     "name": "stdout",
     "output_type": "stream",
     "text": [
      "Saint-Gobain Ecophon AB\n",
      "Ecophon Solo/Plant\n",
      "Acoustic ceilings\n",
      "Solo Baffle, Solo Circle, Solo Circle XL, Solo Ellipse, Solo Freedom, Solo Heptagon, Solo Hexagon, Solo Octagon, Solo Pentagon, Solo Rectangle, Solo Square, Solo Triangle, Solo Matrix.\n",
      "IACG-400-11-04-2020\n",
      "https://www.ecophon.com/en/products/free-hanging-units-and-baffles/solo/\n"
     ]
    },
    {
     "name": "stderr",
     "output_type": "stream",
     "text": [
      "C:\\Users\\USER\\AppData\\Local\\Temp\\ipykernel_35348\\2064196938.py:79: FutureWarning: The frame.append method is deprecated and will be removed from pandas in a future version. Use pandas.concat instead.\n",
      "  gc = gc.append(Dic, ignore_index=True)\n"
     ]
    },
    {
     "name": "stdout",
     "output_type": "stream",
     "text": [
      "Saint-Gobain Ecophon AB\n",
      "Ecophon Super G/Plant\n",
      "Acoustic ceilings\n",
      "Super G A 20mm, Super G A 35mm, Super G A Plus, Super G B, Super G SQ\n",
      "IACG-400-11-05-2020\n",
      "https://www.ecophon.com/en/products/modular-ceilings/super-g/\n"
     ]
    },
    {
     "name": "stderr",
     "output_type": "stream",
     "text": [
      "C:\\Users\\USER\\AppData\\Local\\Temp\\ipykernel_35348\\2064196938.py:79: FutureWarning: The frame.append method is deprecated and will be removed from pandas in a future version. Use pandas.concat instead.\n",
      "  gc = gc.append(Dic, ignore_index=True)\n"
     ]
    },
    {
     "name": "stdout",
     "output_type": "stream",
     "text": [
      "Saint-Gobain Ecophon AB\n",
      "Ecophon Hygiene/Plant\n",
      "Acoustic ceilings\n",
      "Hygiene Protec Ds, Hygiene Protec Air A 20mm, Hygiene Protec Air A 40mm, Hygiene Protec A, Hygiene Performance Plus A 20mm, Hygiene Performance Plus A 40mm, Hygiene Performance Wall, Hygiene Performance A 20mm, Hygiene Performance A 40mm, Hygiene Meditec A, Hygiene Meditec A 20mm, Hygiene Meditec E , Hygiene Performance Care Wall, Hygiene Clinic A, Hygiene Clinic E\n",
      "IACG-400-11-06-2020\n",
      "https://www.ecophon.com/en/products/modular-ceilings/hygiene/\n"
     ]
    },
    {
     "name": "stderr",
     "output_type": "stream",
     "text": [
      "C:\\Users\\USER\\AppData\\Local\\Temp\\ipykernel_35348\\2064196938.py:79: FutureWarning: The frame.append method is deprecated and will be removed from pandas in a future version. Use pandas.concat instead.\n",
      "  gc = gc.append(Dic, ignore_index=True)\n"
     ]
    },
    {
     "name": "stdout",
     "output_type": "stream",
     "text": [
      "Saint-Gobain Ecophon AB\n",
      "Ecophon Advantage/Plant\n",
      "Acoustic ceilings\n",
      "Advantage A 15mm, Advantage E 15mm, Advantage A 20mm, Advantage E 20mm, Advantage A 40mm.\n",
      "IACG-400-11-07-2020\n",
      "https://www.ecophon.com/en/products/modular-ceilings/advantage/\n"
     ]
    },
    {
     "name": "stderr",
     "output_type": "stream",
     "text": [
      "C:\\Users\\USER\\AppData\\Local\\Temp\\ipykernel_35348\\2064196938.py:79: FutureWarning: The frame.append method is deprecated and will be removed from pandas in a future version. Use pandas.concat instead.\n",
      "  gc = gc.append(Dic, ignore_index=True)\n"
     ]
    },
    {
     "name": "stdout",
     "output_type": "stream",
     "text": [
      "Saint-Gobain Ecophon AB\n",
      "Ecophon Gedina/Plant\n",
      "Acoustic ceilings\n",
      "Gedina A, Gedina E, Gedina A 40mm, Gedina D/A, Gedina D, Gedina A/Gamma, Gedina E/Gamma\n",
      "IACG-400-11-08-2020\n",
      "https://ecophon.com/en/products/modular-ceilings/gedina/\n"
     ]
    },
    {
     "name": "stderr",
     "output_type": "stream",
     "text": [
      "C:\\Users\\USER\\AppData\\Local\\Temp\\ipykernel_35348\\2064196938.py:79: FutureWarning: The frame.append method is deprecated and will be removed from pandas in a future version. Use pandas.concat instead.\n",
      "  gc = gc.append(Dic, ignore_index=True)\n"
     ]
    },
    {
     "name": "stdout",
     "output_type": "stream",
     "text": [
      "Saint-Gobain Ecophon AB\n",
      "Ecophon Sombra/Plant\n",
      "Acoustic ceilings\n",
      "Sombra A\n",
      "IACG-400-11-09-2020\n",
      "https://www.ecophon.com/en/products/modular-ceilings/sombra/\n"
     ]
    },
    {
     "name": "stderr",
     "output_type": "stream",
     "text": [
      "C:\\Users\\USER\\AppData\\Local\\Temp\\ipykernel_35348\\2064196938.py:79: FutureWarning: The frame.append method is deprecated and will be removed from pandas in a future version. Use pandas.concat instead.\n",
      "  gc = gc.append(Dic, ignore_index=True)\n"
     ]
    },
    {
     "name": "stdout",
     "output_type": "stream",
     "text": [
      "Saint-Gobain Ecophon AB\n",
      "Ecophon Solo Steel\n",
      "Acoustic ceilings\n",
      "Ecophon Solo Steel\n",
      "IACG-400-11-23-2020\n",
      "https://www.ecophon.com/en/products/free-hanging-units-and-baffles/solo/solo-steel/\n"
     ]
    },
    {
     "name": "stderr",
     "output_type": "stream",
     "text": [
      "C:\\Users\\USER\\AppData\\Local\\Temp\\ipykernel_35348\\2064196938.py:79: FutureWarning: The frame.append method is deprecated and will be removed from pandas in a future version. Use pandas.concat instead.\n",
      "  gc = gc.append(Dic, ignore_index=True)\n"
     ]
    },
    {
     "name": "stdout",
     "output_type": "stream",
     "text": [
      "Saint-Gobain Ecophon AB\n",
      "Ecophon Akusto\n",
      "Acoustic ceilings\n",
      "Products with item number starting with 37: Akusto Wall A/Texona, Akusto Wall A/Akutex FT, Akusto Wall A/Super G, Akusto Wall C/Texona, Akusto Wall C/Akutex FT, Akusto Wall C/Super G, Akusto One/Texona, Akusto One/Akutex FT, Akusto Wall C/Akutex HS.\n",
      "IACG-400-11-24-2020\n",
      "https://www.ecophon.com/en/products/wall-applications/akusto/\n"
     ]
    },
    {
     "name": "stderr",
     "output_type": "stream",
     "text": [
      "C:\\Users\\USER\\AppData\\Local\\Temp\\ipykernel_35348\\2064196938.py:79: FutureWarning: The frame.append method is deprecated and will be removed from pandas in a future version. Use pandas.concat instead.\n",
      "  gc = gc.append(Dic, ignore_index=True)\n"
     ]
    },
    {
     "name": "stdout",
     "output_type": "stream",
     "text": [
      "Saint-Gobain Ecophon AB\n",
      "Ecophon Focus\n",
      "Acoustic ceilings\n",
      "Products with item number starting with 37: Focus A, Focus A XL, Focus B, Focus C, Focus C XL, Focus D/A, Focus D/A XL, Focus Dg, Focus Dg 12x12, Focus Dg XL, Focus Ds, Focus Ds XL, Focus E, Focus E XL, Focus Ez, Focus F, Focus Fixiform Ds, Focus Fixiform Ds XL, Focus Fixiform E, Focus Flexiform A, Focus Frieze C, Focus Frieze Ds/Dg, Focus Lp, Focus Lp Technical tile, Focus Lp XL, Focus SQ, Focus Wing Ds, Focus Wing E, Focus Levels 20, Focus Levels 30, Focus Levels 40.\n",
      "IACG-400-11-25-2020\n",
      "https://www.ecophon.com/en/products/modular-ceilings/focus/\n"
     ]
    },
    {
     "name": "stderr",
     "output_type": "stream",
     "text": [
      "C:\\Users\\USER\\AppData\\Local\\Temp\\ipykernel_35348\\2064196938.py:79: FutureWarning: The frame.append method is deprecated and will be removed from pandas in a future version. Use pandas.concat instead.\n",
      "  gc = gc.append(Dic, ignore_index=True)\n"
     ]
    },
    {
     "name": "stdout",
     "output_type": "stream",
     "text": [
      "25\n",
      "Saint-Gobain Ecophon AB\n",
      "Ecophon Master\n",
      "Acoustic ceilings\n",
      "Products with item number starting with 37: Master A, Master A XL, Master B, Master C, Master C XL, Master Ds, Master E, Master E XL, Master F, Master Rigid A, Master Rigid A XL, Master Rigid Dp, Master Rigid Dp XL, Master Rigid E, Master Rigid E XL, Master SQ.\n",
      "IACG-400-11-26-2020\n",
      "https://www.ecophon.com/en/products/modular-ceilings/master/\n"
     ]
    },
    {
     "name": "stderr",
     "output_type": "stream",
     "text": [
      "C:\\Users\\USER\\AppData\\Local\\Temp\\ipykernel_35348\\2064196938.py:79: FutureWarning: The frame.append method is deprecated and will be removed from pandas in a future version. Use pandas.concat instead.\n",
      "  gc = gc.append(Dic, ignore_index=True)\n"
     ]
    },
    {
     "name": "stdout",
     "output_type": "stream",
     "text": [
      "Saint-Gobain Ecophon AB\n",
      "Ecophon Solo\n",
      "Acoustic ceilings\n",
      "Products with item number starting with 37: Solo Baffle, Solo Circle, Solo Circle XL, Solo Ellipse, Solo Freedom, Solo Heptagon, Solo Hexagon, Solo Octagon, Solo Pentagon, Solo Rectangle, Solo Square, Solo Triangle, Solo Matrix, Solo Square/Akutex HS, Solo Rectangle/Akutex HS, Solo Circle/Akutex HS\n",
      "IACG-400-11-27-2020\n",
      "https://www.ecophon.com/en/products/free-hanging-units-and-baffles/solo/\n"
     ]
    },
    {
     "name": "stderr",
     "output_type": "stream",
     "text": [
      "C:\\Users\\USER\\AppData\\Local\\Temp\\ipykernel_35348\\2064196938.py:79: FutureWarning: The frame.append method is deprecated and will be removed from pandas in a future version. Use pandas.concat instead.\n",
      "  gc = gc.append(Dic, ignore_index=True)\n"
     ]
    },
    {
     "name": "stdout",
     "output_type": "stream",
     "text": [
      "None\n",
      "None\n",
      "None\n",
      "None\n",
      "None\n",
      "None\n"
     ]
    },
    {
     "name": "stderr",
     "output_type": "stream",
     "text": [
      "C:\\Users\\USER\\AppData\\Local\\Temp\\ipykernel_35348\\2064196938.py:79: FutureWarning: The frame.append method is deprecated and will be removed from pandas in a future version. Use pandas.concat instead.\n",
      "  gc = gc.append(Dic, ignore_index=True)\n"
     ]
    },
    {
     "name": "stdout",
     "output_type": "stream",
     "text": [
      "Saint-Gobain Ecophon AB\n",
      "Ecophon Opta\n",
      "Acoustic ceilings\n",
      "Products with item number starting with 37: Opta A, Opta E\n",
      "IACG-400-11-31-2020\n",
      "https://www.ecophon.com/en\n"
     ]
    },
    {
     "name": "stderr",
     "output_type": "stream",
     "text": [
      "C:\\Users\\USER\\AppData\\Local\\Temp\\ipykernel_35348\\2064196938.py:79: FutureWarning: The frame.append method is deprecated and will be removed from pandas in a future version. Use pandas.concat instead.\n",
      "  gc = gc.append(Dic, ignore_index=True)\n"
     ]
    },
    {
     "name": "stdout",
     "output_type": "stream",
     "text": [
      "Saint-Gobain Ecophon AB\n",
      "Ecophon Gedina\n",
      "Acoustic ceilings\n",
      "Products with item number starting with 37: Gedina A, Gedina A/Gamma, Gedina E, Gedina E/Gamma, Gedina A 40mm, Gedina D/A, Gedina D.\n",
      "IACG-400-11-33-2021\n",
      "https://www.ecophon.com/en/products/modular-ceilings/gedina/\n"
     ]
    },
    {
     "name": "stderr",
     "output_type": "stream",
     "text": [
      "C:\\Users\\USER\\AppData\\Local\\Temp\\ipykernel_35348\\2064196938.py:79: FutureWarning: The frame.append method is deprecated and will be removed from pandas in a future version. Use pandas.concat instead.\n",
      "  gc = gc.append(Dic, ignore_index=True)\n"
     ]
    },
    {
     "name": "stdout",
     "output_type": "stream",
     "text": [
      "Saint-Gobain Ecophon AB\n",
      "Ecophon Hygiene Advance\n",
      "Acoustic ceilings\n",
      "Products with item number starting with 37: Hygiene Advance T24 20mm, Hygiene Advance T24 40mm, Hygiene Advance Technical tile 20mm, Hygiene Advance Technical tile 40mm, Hygiene Advance Wall, Hygiene Advance Baffle\n",
      "IACG-400-11-36-2021\n",
      "https://www.ecophon.com/en/products/modular-ceilings/hygiene/\n"
     ]
    },
    {
     "name": "stderr",
     "output_type": "stream",
     "text": [
      "C:\\Users\\USER\\AppData\\Local\\Temp\\ipykernel_35348\\2064196938.py:79: FutureWarning: The frame.append method is deprecated and will be removed from pandas in a future version. Use pandas.concat instead.\n",
      "  gc = gc.append(Dic, ignore_index=True)\n"
     ]
    },
    {
     "name": "stdout",
     "output_type": "stream",
     "text": [
      "Saint-Gobain Eurocoustic\n",
      "Eurocoustic Tonga\n",
      "Acoustic ceiling\n",
      "Tonga A 15, Tonga A 22, Tonga A 40, Tonga E.\n",
      "IACG-400-17-01-2021\n",
      "https://www.eurocoustic.com/\n"
     ]
    },
    {
     "name": "stderr",
     "output_type": "stream",
     "text": [
      "C:\\Users\\USER\\AppData\\Local\\Temp\\ipykernel_35348\\2064196938.py:79: FutureWarning: The frame.append method is deprecated and will be removed from pandas in a future version. Use pandas.concat instead.\n",
      "  gc = gc.append(Dic, ignore_index=True)\n"
     ]
    },
    {
     "name": "stdout",
     "output_type": "stream",
     "text": [
      "Saint-Gobain Eurocoustic\n",
      "Eurocoustic Minerval\n",
      "Acoustic ceiling\n",
      "Minerval A 12, Minerval A 15, Minerval A 22.\n",
      "IACG-400-17-02-2021\n",
      "https://www.eurocoustic.com/\n"
     ]
    },
    {
     "name": "stderr",
     "output_type": "stream",
     "text": [
      "C:\\Users\\USER\\AppData\\Local\\Temp\\ipykernel_35348\\2064196938.py:79: FutureWarning: The frame.append method is deprecated and will be removed from pandas in a future version. Use pandas.concat instead.\n",
      "  gc = gc.append(Dic, ignore_index=True)\n"
     ]
    },
    {
     "name": "stdout",
     "output_type": "stream",
     "text": [
      "Saint-Gobain Eurocoustic\n",
      "Eurocoustic Tonga Ultra Clean\n",
      "Acoustic ceiling\n",
      "Tonga Ultra Clean A\n",
      "IACG-400-17-03-2021\n",
      "https://www.eurocoustic.com/\n"
     ]
    },
    {
     "name": "stderr",
     "output_type": "stream",
     "text": [
      "C:\\Users\\USER\\AppData\\Local\\Temp\\ipykernel_35348\\2064196938.py:79: FutureWarning: The frame.append method is deprecated and will be removed from pandas in a future version. Use pandas.concat instead.\n",
      "  gc = gc.append(Dic, ignore_index=True)\n"
     ]
    },
    {
     "name": "stdout",
     "output_type": "stream",
     "text": [
      "Saint-Gobain Eurocoustic\n",
      "Eurocoustic Tonga Ultra Clean HP\n",
      "Acoustic ceiling\n",
      "Tonga Ultra Clean HP A\n",
      "IACG-400-17-04-2021\n",
      "https://www.eurocoustic.com/\n"
     ]
    },
    {
     "name": "stderr",
     "output_type": "stream",
     "text": [
      "C:\\Users\\USER\\AppData\\Local\\Temp\\ipykernel_35348\\2064196938.py:79: FutureWarning: The frame.append method is deprecated and will be removed from pandas in a future version. Use pandas.concat instead.\n",
      "  gc = gc.append(Dic, ignore_index=True)\n"
     ]
    },
    {
     "name": "stdout",
     "output_type": "stream",
     "text": [
      "Saint-Gobain ISOVER AG\n",
      "Isoresist\n",
      "Insulation\n",
      "Isoresist 1000 034 F, Isoresist 1000 036, Isoresist 1000 036 PR, Isoresist Piano Plus, Isoresist Piano Plus P\n",
      "IACG-400-191-03-05-2021\n",
      "http://www.isover.ch/\n"
     ]
    },
    {
     "name": "stderr",
     "output_type": "stream",
     "text": [
      "C:\\Users\\USER\\AppData\\Local\\Temp\\ipykernel_35348\\2064196938.py:79: FutureWarning: The frame.append method is deprecated and will be removed from pandas in a future version. Use pandas.concat instead.\n",
      "  gc = gc.append(Dic, ignore_index=True)\n"
     ]
    },
    {
     "name": "stdout",
     "output_type": "stream",
     "text": [
      "Saint-Gobain Isover G+H AG\n",
      "Mineral Wool Insulation\n",
      "Insulation\n",
      "ULTIMATE AP Supra-031, ULTIMATE AP SupraPlus-031, ULTIMATE KPV-V 5.0\n",
      "IAC-400-191-03-07-2021\n",
      "http://www.isover.de/\n"
     ]
    },
    {
     "name": "stderr",
     "output_type": "stream",
     "text": [
      "C:\\Users\\USER\\AppData\\Local\\Temp\\ipykernel_35348\\2064196938.py:79: FutureWarning: The frame.append method is deprecated and will be removed from pandas in a future version. Use pandas.concat instead.\n",
      "  gc = gc.append(Dic, ignore_index=True)\n"
     ]
    },
    {
     "name": "stdout",
     "output_type": "stream",
     "text": [
      "Saint-Gobain Isover G+H AG\n",
      "Lamella Mats\n",
      "Technical Insulation\n",
      "TECH Lamella Mat 2.0, Climcover Lamella Mat\n",
      "IACG-400-191-03-01-2021\n",
      "http://www.isover.de/\n"
     ]
    },
    {
     "name": "stderr",
     "output_type": "stream",
     "text": [
      "C:\\Users\\USER\\AppData\\Local\\Temp\\ipykernel_35348\\2064196938.py:79: FutureWarning: The frame.append method is deprecated and will be removed from pandas in a future version. Use pandas.concat instead.\n",
      "  gc = gc.append(Dic, ignore_index=True)\n"
     ]
    },
    {
     "name": "stdout",
     "output_type": "stream",
     "text": [
      "Saint-Gobain Isover G+H AG\n",
      "Mineral Wool Insulation ULTIMATE\n",
      "Insulation\n",
      "BF-039, BSP 30, BSP 40, HBF-034, HBF-039, HBP-034, HBP-039, HFP-031, Streifensickenfüller, TF-039, TP-039, UF-034, UF-039, UKF-034, Vollsickenfüller, WF-034, WF-039, WP-031, WP-034, WSF PLUS-034, WSF-034, WSF-039, WSP PLUS-031, WSP PLUS-034, WSP PLUS-039, WSP-031, WSP-034, WSP-039, ZKF-031, ZKF-034, ZKF-039\n",
      "IACG-400-191-03-02-2021\n",
      "http://www.isover.de/\n"
     ]
    },
    {
     "name": "stderr",
     "output_type": "stream",
     "text": [
      "C:\\Users\\USER\\AppData\\Local\\Temp\\ipykernel_35348\\2064196938.py:79: FutureWarning: The frame.append method is deprecated and will be removed from pandas in a future version. Use pandas.concat instead.\n",
      "  gc = gc.append(Dic, ignore_index=True)\n"
     ]
    },
    {
     "name": "stdout",
     "output_type": "stream",
     "text": [
      "Saint-Gobain Isover G+H AG\n",
      "Mineral Wool Insulation\n",
      "Insulation\n",
      "Akustic EP 1, Akustic ES 1, Akustic SSP 1, Akustic TAS, Akustic TF, Akustic TF-035, Akustic TP 1, Akustic TP 1-035, Integra UKF-032, Integra UKF-035, Integra ZKF 1-032, Integra ZKF 1-035, Integra ZKF 1-040, Kontur HBF-032, Kontur HBF-035, Kontur MSP-032, Metac UF-031, Metac UF-032, Metac UF-034, Metac UF-035, Metac UF-040, Metac WF-032 , Metac WF-035, Metac WF-040, Metac WP-032, Metac WP-035, Metac WP-040, TDPS, Topdec DF 1, Topdec DF 1-035, Topdec DF 2-035, TW-KF, Uniroll Classic, Uniroll Classic, VSDP, WDF\n",
      "IACG-400-191-03-03-2021\n",
      "http://www.isover.de/\n"
     ]
    },
    {
     "name": "stderr",
     "output_type": "stream",
     "text": [
      "C:\\Users\\USER\\AppData\\Local\\Temp\\ipykernel_35348\\2064196938.py:79: FutureWarning: The frame.append method is deprecated and will be removed from pandas in a future version. Use pandas.concat instead.\n",
      "  gc = gc.append(Dic, ignore_index=True)\n"
     ]
    },
    {
     "name": "stdout",
     "output_type": "stream",
     "text": [
      "Saint-Gobain Isover G+H AG\n",
      "Ultimate Sweden\n",
      "Insulation\n",
      "Stålregelskiva 36, Träregelrulle 34, Träregelrulle 36, Träregelrulle 39,Träregelskiva 36, Träregelskiva 39, Uniskiva 34, Uniskiva 36\n",
      "IACG-400-191-03-06-2021\n",
      "http://www.isover.de/\n"
     ]
    },
    {
     "name": "stderr",
     "output_type": "stream",
     "text": [
      "C:\\Users\\USER\\AppData\\Local\\Temp\\ipykernel_35348\\2064196938.py:79: FutureWarning: The frame.append method is deprecated and will be removed from pandas in a future version. Use pandas.concat instead.\n",
      "  gc = gc.append(Dic, ignore_index=True)\n"
     ]
    },
    {
     "name": "stdout",
     "output_type": "stream",
     "text": [
      "Saint-Gobain Isover Ltd\n",
      "Glass Mineral Wool for building application\n",
      "Insulation\n",
      "ACOUSTIC COMBI ROLL (IE), ACOUSTIC PARTITION ROLL (APR 1200), ACOUSTIC ROLL (IE), ACOUSTIC SLAB, CAVITY WALL SLAB 32, CAVITY WALL SLAB 34, CAVITY WALL SLAB 36, CLADDING ROLL 37, CLADDING ROLL 40, CLIMCOVER ROLL ALU 2, CLIMCOVER ROLL ALU 2 STRONG, CLIMCOVER SLAB ALU 2, CLIMCOVER SLAB ALU 2 STANDARD, MODULAR ROLL, RD PARTY WALL ROLL, SPACESAVER, SPACESAVER LITE, SPACESAVER PLUS, SPACESAVER READY-CUT, SPACESAVER SOLID (IE), STEEL FRAME INFILL BATT, TECHNICAL SLAB 48, TIMBER FRAME BATT 32, TIMBER FRAME BATT 35, TIMBER FRAME BATT 40, TIMBER FRAME BATT 43, TIMBER FRAME PARTY WALL ROLL, TIMBER FRAME ROLL 35, TIMBER FRAME ROLL 40, UNISLAB\n",
      "IACG-400-191-06-01-2022\n",
      "https://www.isover.co.uk/\n"
     ]
    },
    {
     "name": "stderr",
     "output_type": "stream",
     "text": [
      "C:\\Users\\USER\\AppData\\Local\\Temp\\ipykernel_35348\\2064196938.py:79: FutureWarning: The frame.append method is deprecated and will be removed from pandas in a future version. Use pandas.concat instead.\n",
      "  gc = gc.append(Dic, ignore_index=True)\n"
     ]
    },
    {
     "name": "stdout",
     "output_type": "stream",
     "text": [
      "Saint-Gobain Isover SA\n",
      "THERMO-PLUS glass wool panels with white glass fibre fleece\n",
      "Insulation\n",
      "\n",
      "IACG-400-191-02-02-2021\n",
      "http://www.isover.ch/\n"
     ]
    },
    {
     "name": "stderr",
     "output_type": "stream",
     "text": [
      "C:\\Users\\USER\\AppData\\Local\\Temp\\ipykernel_35348\\2064196938.py:79: FutureWarning: The frame.append method is deprecated and will be removed from pandas in a future version. Use pandas.concat instead.\n",
      "  gc = gc.append(Dic, ignore_index=True)\n"
     ]
    },
    {
     "name": "stdout",
     "output_type": "stream",
     "text": [
      "Saint-Gobain Isover SA\n",
      "Saint-Gobain ISOVER glass wool insulation with natural binder\n",
      "Insulation\n",
      "\n",
      "IACG-400-191-02-03-2021\n",
      "http://www.isover.ch/\n"
     ]
    },
    {
     "name": "stderr",
     "output_type": "stream",
     "text": [
      "C:\\Users\\USER\\AppData\\Local\\Temp\\ipykernel_35348\\2064196938.py:79: FutureWarning: The frame.append method is deprecated and will be removed from pandas in a future version. Use pandas.concat instead.\n",
      "  gc = gc.append(Dic, ignore_index=True)\n"
     ]
    },
    {
     "name": "stdout",
     "output_type": "stream",
     "text": [
      "Saint-Gobain Isover SA\n",
      "Saint-Gobain ISOVER glass wool insulation with phenolic binder\n",
      "Insulation\n",
      "\n",
      "IACG-400-191-02-06-2021\n",
      "http://www.isover.ch/\n"
     ]
    },
    {
     "name": "stderr",
     "output_type": "stream",
     "text": [
      "C:\\Users\\USER\\AppData\\Local\\Temp\\ipykernel_35348\\2064196938.py:79: FutureWarning: The frame.append method is deprecated and will be removed from pandas in a future version. Use pandas.concat instead.\n",
      "  gc = gc.append(Dic, ignore_index=True)\n"
     ]
    },
    {
     "name": "stdout",
     "output_type": "stream",
     "text": [
      "Saint-Gobain Italia S.p.A.\n",
      "Isover mineral wool Arena – without facing\n",
      "Insulation\n",
      "Isover ARENA31, Isover ARENA32, Isover ARENA34\n",
      "IACG-400-07-01-2021\n",
      "https://www.isover.it/\n"
     ]
    },
    {
     "name": "stderr",
     "output_type": "stream",
     "text": [
      "C:\\Users\\USER\\AppData\\Local\\Temp\\ipykernel_35348\\2064196938.py:79: FutureWarning: The frame.append method is deprecated and will be removed from pandas in a future version. Use pandas.concat instead.\n",
      "  gc = gc.append(Dic, ignore_index=True)\n"
     ]
    },
    {
     "name": "stdout",
     "output_type": "stream",
     "text": [
      "Saint-Gobain Italia S.p.A.\n",
      "Isover mineral wool T – without facing\n",
      "Insulation\n",
      "Isover T-70, Isover T-70 Arrotolato, Isover T-100\n",
      "IACG-400-07-01B-2021\n",
      "https://www.isover.it/\n"
     ]
    },
    {
     "name": "stderr",
     "output_type": "stream",
     "text": [
      "C:\\Users\\USER\\AppData\\Local\\Temp\\ipykernel_35348\\2064196938.py:79: FutureWarning: The frame.append method is deprecated and will be removed from pandas in a future version. Use pandas.concat instead.\n",
      "  gc = gc.append(Dic, ignore_index=True)\n"
     ]
    },
    {
     "name": "stdout",
     "output_type": "stream",
     "text": [
      "Saint-Gobain Italia S.p.A.\n",
      "Isover mineral wool Arena | with bituminized kraft paper\n",
      "Insulation\n",
      "Isover ARENA31 K, Isover ARENA32 K\n",
      "IACG-400-07-02-2021\n",
      "https://www.isover.it/\n"
     ]
    },
    {
     "name": "stderr",
     "output_type": "stream",
     "text": [
      "C:\\Users\\USER\\AppData\\Local\\Temp\\ipykernel_35348\\2064196938.py:79: FutureWarning: The frame.append method is deprecated and will be removed from pandas in a future version. Use pandas.concat instead.\n",
      "  gc = gc.append(Dic, ignore_index=True)\n"
     ]
    },
    {
     "name": "stdout",
     "output_type": "stream",
     "text": [
      "Saint-Gobain Italia S.p.A.\n",
      "Isover mineral wool Arena | with aluminium kraft paper\n",
      "Insulation\n",
      "Isover ARENA31 Alu, Isover ARENA32 Alu\n",
      "IACG-400-07-03-2021\n",
      "https://www.isover.it/\n"
     ]
    },
    {
     "name": "stderr",
     "output_type": "stream",
     "text": [
      "C:\\Users\\USER\\AppData\\Local\\Temp\\ipykernel_35348\\2064196938.py:79: FutureWarning: The frame.append method is deprecated and will be removed from pandas in a future version. Use pandas.concat instead.\n",
      "  gc = gc.append(Dic, ignore_index=True)\n"
     ]
    },
    {
     "name": "stdout",
     "output_type": "stream",
     "text": [
      "Saint-Gobain Italia S.p.A.\n",
      "Isover glass wool 4+ | without facing and with glass veil\n",
      "Insulation\n",
      "Isover PAR 4+, Isover PAR PHONIC, Isover AcustiPAR 4+, Isover ARENA GOLD TWIN, Isover IBR N 4+, Isover IBR PHONIC N 4+, Isover EVO 4+, Isover RIO 4+, Isover RIO TWIN 4+, Isover MUPAN33 4+, Isover MUPAN 4+, Isover PAR GOLD 4+, Isover PAR GOLD N 4+, Isover XL 4+, Isover EXTRAWALL VV 4+, Isover EKOSOL N 4+\n",
      "IACG-400-07-04-2021B\n",
      "https://www.isover.it/\n"
     ]
    },
    {
     "name": "stderr",
     "output_type": "stream",
     "text": [
      "C:\\Users\\USER\\AppData\\Local\\Temp\\ipykernel_35348\\2064196938.py:79: FutureWarning: The frame.append method is deprecated and will be removed from pandas in a future version. Use pandas.concat instead.\n",
      "  gc = gc.append(Dic, ignore_index=True)\n"
     ]
    },
    {
     "name": "stdout",
     "output_type": "stream",
     "text": [
      "25\n",
      "Saint-Gobain Italia S.p.A.\n",
      "Isover glass wool 4+ | with aluminum kraft paper\n",
      "Insulation\n",
      "Isover EXTRAWALL 4+, Isover RIO 4+ ALU, Isover CLIMCOVER ROLL ALU 2 4+\n",
      "IACG-400-07-05-2021\n",
      "https://www.isover.it/\n"
     ]
    },
    {
     "name": "stderr",
     "output_type": "stream",
     "text": [
      "C:\\Users\\USER\\AppData\\Local\\Temp\\ipykernel_35348\\2064196938.py:79: FutureWarning: The frame.append method is deprecated and will be removed from pandas in a future version. Use pandas.concat instead.\n",
      "  gc = gc.append(Dic, ignore_index=True)\n"
     ]
    },
    {
     "name": "stdout",
     "output_type": "stream",
     "text": [
      "Saint-Gobain Italia S.p.A.\n",
      "Isover glass wool 4+ | with bituminized kraft paper\n",
      "Insulation\n",
      "Isover IBR K 4+, Isover EVO K 4+, Isover MUPAN33 K 4+, Isover MUPAN K 4+, Isover XL K 4+, Isover ISB K 4+\n",
      "IACG-400-07-06-2021\n",
      "https://www.isover.it/\n"
     ]
    },
    {
     "name": "stderr",
     "output_type": "stream",
     "text": [
      "C:\\Users\\USER\\AppData\\Local\\Temp\\ipykernel_35348\\2064196938.py:79: FutureWarning: The frame.append method is deprecated and will be removed from pandas in a future version. Use pandas.concat instead.\n",
      "  gc = gc.append(Dic, ignore_index=True)\n"
     ]
    },
    {
     "name": "stdout",
     "output_type": "stream",
     "text": [
      "Saint-Gobain Italia S.p.A.\n",
      "Gyproc Gyquadro A1\n",
      "Plasterboard\n",
      "Gyproc Gyquadro A1\n",
      "IAC-400-15-02-2021\n",
      "https://www.saint-gobain.it/\n"
     ]
    },
    {
     "name": "stderr",
     "output_type": "stream",
     "text": [
      "C:\\Users\\USER\\AppData\\Local\\Temp\\ipykernel_35348\\2064196938.py:79: FutureWarning: The frame.append method is deprecated and will be removed from pandas in a future version. Use pandas.concat instead.\n",
      "  gc = gc.append(Dic, ignore_index=True)\n"
     ]
    },
    {
     "name": "stdout",
     "output_type": "stream",
     "text": [
      "Saint-Gobain Italia S.p.A.\n",
      "Gyproc Glasroc® X\n",
      "Plasterboard\n",
      "Gyproc Glasroc® X\n",
      "IAC-400-15-03-2021\n",
      "https://www.saint-gobain.it/\n"
     ]
    },
    {
     "name": "stderr",
     "output_type": "stream",
     "text": [
      "C:\\Users\\USER\\AppData\\Local\\Temp\\ipykernel_35348\\2064196938.py:79: FutureWarning: The frame.append method is deprecated and will be removed from pandas in a future version. Use pandas.concat instead.\n",
      "  gc = gc.append(Dic, ignore_index=True)\n"
     ]
    },
    {
     "name": "stdout",
     "output_type": "stream",
     "text": [
      "Saint-Gobain Italia S.p.A.\n",
      "Gyproc Habito Silence Activ'Air®\n",
      "Plasterboard\n",
      "Gyproc Habito Silence Activ'Air®\n",
      "IAC-400-15-04-2021\n",
      "https://www.saint-gobain.it/\n"
     ]
    },
    {
     "name": "stderr",
     "output_type": "stream",
     "text": [
      "C:\\Users\\USER\\AppData\\Local\\Temp\\ipykernel_35348\\2064196938.py:79: FutureWarning: The frame.append method is deprecated and will be removed from pandas in a future version. Use pandas.concat instead.\n",
      "  gc = gc.append(Dic, ignore_index=True)\n"
     ]
    },
    {
     "name": "stdout",
     "output_type": "stream",
     "text": [
      "Saint-Gobain Italia S.p.A.\n",
      "Plasterboards according to EN 520\n",
      "Plasterboard\n",
      "Gyproc DuraGyp 13 Activ'Air®, Gyproc DuraGyp 15 Activ'Air®, Gyproc DuraGyp A1 13 Activ'Air®, Gyproc DuraGyp ECO 13 Activ'Air®, Gyproc Easy2 13 Activ'Air®, Gyproc Fireline 13, Gyproc Fireline 15, Gyproc Fireline 20, Gyproc Fireline 25, Gyproc Flex 6, Gyproc Gyquadro Activ'Air®, Gyproc Habito 13 Activ'Air®, Gyproc Habito 15 Activ'Air®, Gyproc Habito Hydro 13 Activ'Air®, Gyproc Habito Hydro 15 Activ'Air®, Gyproc Habito® Forte 13, Gyproc Habito® Forte Hydro 13, Gyproc Habito® Forte Hydro 15, Gyproc Hydro 13, Gyproc Hydro 15, Gyproc Hydro H1 13, Gyproc Hydro H1 15, Gyproc Lisaflam 13, Gyproc Lisaflam 15, Gyproc Lisaplac 13, Gyproc Lisaplac 15, Gyproc Thermotop27, Gyproc Wallboard 10, Gyproc Wallboard 13, Gyproc Wallboard 15, Gyproc Wallboard 18\n",
      "IACG-400-15-01-2021\n",
      "https://www.saint-gobain.it/\n"
     ]
    },
    {
     "name": "stderr",
     "output_type": "stream",
     "text": [
      "C:\\Users\\USER\\AppData\\Local\\Temp\\ipykernel_35348\\2064196938.py:79: FutureWarning: The frame.append method is deprecated and will be removed from pandas in a future version. Use pandas.concat instead.\n",
      "  gc = gc.append(Dic, ignore_index=True)\n"
     ]
    },
    {
     "name": "stdout",
     "output_type": "stream",
     "text": [
      "Saint-Gobain Placo Iberica SA\n",
      "Placo® X-Ray Protection\n",
      "Plasterboard\n",
      "Placo® X-Ray Protection\n",
      "IACG-400-10-06-2021B\n",
      "https://www.placo.es/\n"
     ]
    },
    {
     "name": "stderr",
     "output_type": "stream",
     "text": [
      "C:\\Users\\USER\\AppData\\Local\\Temp\\ipykernel_35348\\2064196938.py:79: FutureWarning: The frame.append method is deprecated and will be removed from pandas in a future version. Use pandas.concat instead.\n",
      "  gc = gc.append(Dic, ignore_index=True)\n"
     ]
    },
    {
     "name": "stdout",
     "output_type": "stream",
     "text": [
      "Saint-Gobain Placo Iberica SA\n",
      "VOLCASTIC®\n",
      "Levelling Compounds\n",
      "VOLCASTIC®\n",
      "IACG-400-10-22-2020\n",
      "https://www.placo.es/\n"
     ]
    },
    {
     "name": "stderr",
     "output_type": "stream",
     "text": [
      "C:\\Users\\USER\\AppData\\Local\\Temp\\ipykernel_35348\\2064196938.py:79: FutureWarning: The frame.append method is deprecated and will be removed from pandas in a future version. Use pandas.concat instead.\n",
      "  gc = gc.append(Dic, ignore_index=True)\n"
     ]
    },
    {
     "name": "stdout",
     "output_type": "stream",
     "text": [
      "Saint-Gobain Placo Iberica SA\n",
      "PLACA DE YESO LAMINADO PLACO®\n",
      "Plasterboard\n",
      "4PRO®, 4PRO® PPM, HABITO® 13, HABITO®15, Megaplac® 25, Megaplac® PPF, Placa Placo® BA 10, Placa Placo® BA 13, Placa Placo® BA 15, Placa Placo® BA 18, Placa BC 8 (PST 8), Placoflam PPF 13, Placoflam PPF 15, Placoimpact PIP 13, Placoimpact PIP 15, Placomarine PPM 13, Placomarine PPM 15, Placomarine PPM 18, Placophonique® PPH 13, Placophonique® PPH 15\n",
      "IACG-400-10-23-2021B\n",
      "https://www.placo.es/\n"
     ]
    },
    {
     "name": "stderr",
     "output_type": "stream",
     "text": [
      "C:\\Users\\USER\\AppData\\Local\\Temp\\ipykernel_35348\\2064196938.py:79: FutureWarning: The frame.append method is deprecated and will be removed from pandas in a future version. Use pandas.concat instead.\n",
      "  gc = gc.append(Dic, ignore_index=True)\n"
     ]
    },
    {
     "name": "stdout",
     "output_type": "stream",
     "text": [
      "Saint-Gobain Placo Iberica SA\n",
      "PROROC® MULTIFINISH\n",
      "Levelling Compounds\n",
      "PROROC® MULTIFINISH\n",
      "IACG-400-10-24-2020\n",
      "https://www.placo.es/\n"
     ]
    },
    {
     "name": "stderr",
     "output_type": "stream",
     "text": [
      "C:\\Users\\USER\\AppData\\Local\\Temp\\ipykernel_35348\\2064196938.py:79: FutureWarning: The frame.append method is deprecated and will be removed from pandas in a future version. Use pandas.concat instead.\n",
      "  gc = gc.append(Dic, ignore_index=True)\n"
     ]
    },
    {
     "name": "stdout",
     "output_type": "stream",
     "text": [
      "Saint-Gobain Placo Iberica SA\n",
      "PLACO® HERMETIC\n",
      "Levelling Compounds\n",
      "PLACO® HERMETIC\n",
      "IACG-400-10-25-2020\n",
      "https://www.placo.es/\n"
     ]
    },
    {
     "name": "stderr",
     "output_type": "stream",
     "text": [
      "C:\\Users\\USER\\AppData\\Local\\Temp\\ipykernel_35348\\2064196938.py:79: FutureWarning: The frame.append method is deprecated and will be removed from pandas in a future version. Use pandas.concat instead.\n",
      "  gc = gc.append(Dic, ignore_index=True)\n"
     ]
    },
    {
     "name": "stdout",
     "output_type": "stream",
     "text": [
      "Saint-Gobain Placo Iberica SA\n",
      "YESOPRO VOLCAN\n",
      "Levelling Compounds\n",
      "YESOPRO VOLCAN\n",
      "IACG-400-10-26-2020\n",
      "https://www.placo.es/\n"
     ]
    },
    {
     "name": "stderr",
     "output_type": "stream",
     "text": [
      "C:\\Users\\USER\\AppData\\Local\\Temp\\ipykernel_35348\\2064196938.py:79: FutureWarning: The frame.append method is deprecated and will be removed from pandas in a future version. Use pandas.concat instead.\n",
      "  gc = gc.append(Dic, ignore_index=True)\n"
     ]
    },
    {
     "name": "stdout",
     "output_type": "stream",
     "text": [
      "Saint-Gobain Placo Iberica SA\n",
      "YESOS Y PLASTERS PLACO®\n",
      "Levelling Compounds\n",
      "DURO THD®, ESCAYOLA CERÁMICA, IBERCOL®, IBERFINO®, IBERPLAST, IBERYOLA, LONGIPS, MECAFINO® BA, MECAFINO® BO, MECAFINO® PLUS, MECAFINO® MAX, MECAFINO® SUR, PASTAS DE AGARRE MAP, PASTAS DE AGARRE ADH, PERLINOR® DE PROYECTAR, PERLINOR® PLUS, PERLINOR® SUPER, PLACOFINISH®, PLACOSEC®, PLACOSTIC® CERÁMICO, PLACOSTIC® ESTÁNDAR, PLACOSTIC® EXTERIORES, PLACOSTIC® RENOVACIÓN, PROLITE®, PROYAL®, PROYAL® MAX, PROYAL® XXI, TABICOL®\n",
      "IACG-400-10-27-2022\n",
      "https://www.placo.es/\n"
     ]
    },
    {
     "name": "stderr",
     "output_type": "stream",
     "text": [
      "C:\\Users\\USER\\AppData\\Local\\Temp\\ipykernel_35348\\2064196938.py:79: FutureWarning: The frame.append method is deprecated and will be removed from pandas in a future version. Use pandas.concat instead.\n",
      "  gc = gc.append(Dic, ignore_index=True)\n"
     ]
    },
    {
     "name": "stdout",
     "output_type": "stream",
     "text": [
      "Saint-Gobain Placo Iberica SA\n",
      "PASTAS DE JUNTAS PLACO®\n",
      "Jointfillers\n",
      "PASTAS DE SECADO SN PASTA DE SECADO SN PREMIUM PASTA DE FRAGUADO PR30 PASTA DE FRAGUADO PR1 PASTA DE FRAGUADO PR2 PASTA DE FRAGUADO PR4 PASTA DE FRAGUADO PR HYDRO PASTA DE FRAGUADO PR MULTI\n",
      "IACG-400-10-28-2020\n",
      "https://www.placo.es/\n"
     ]
    },
    {
     "name": "stderr",
     "output_type": "stream",
     "text": [
      "C:\\Users\\USER\\AppData\\Local\\Temp\\ipykernel_35348\\2064196938.py:79: FutureWarning: The frame.append method is deprecated and will be removed from pandas in a future version. Use pandas.concat instead.\n",
      "  gc = gc.append(Dic, ignore_index=True)\n"
     ]
    },
    {
     "name": "stdout",
     "output_type": "stream",
     "text": [
      "Saint-Gobain Placo Iberica SA\n",
      "PLACA DE YESO LAMINADO PLACO® ACTIV’AIR®\n",
      "Plasterboard\n",
      "4PRO® Activ'Air® Activ'Air® BA 13\n",
      "IACG-400-10-29-2021\n",
      "https://www.placo.es/\n"
     ]
    },
    {
     "name": "stderr",
     "output_type": "stream",
     "text": [
      "C:\\Users\\USER\\AppData\\Local\\Temp\\ipykernel_35348\\2064196938.py:79: FutureWarning: The frame.append method is deprecated and will be removed from pandas in a future version. Use pandas.concat instead.\n",
      "  gc = gc.append(Dic, ignore_index=True)\n"
     ]
    },
    {
     "name": "stdout",
     "output_type": "stream",
     "text": [
      "Saint-Gobain Placo Iberica SA\n",
      "GYPREX® SIN VINILO\n",
      "Plasterboard\n",
      "GYPREX® SIN VINILO\n",
      "IACG-400-10-30-2021\n",
      "https://www.placo.es/\n"
     ]
    },
    {
     "name": "stderr",
     "output_type": "stream",
     "text": [
      "C:\\Users\\USER\\AppData\\Local\\Temp\\ipykernel_35348\\2064196938.py:79: FutureWarning: The frame.append method is deprecated and will be removed from pandas in a future version. Use pandas.concat instead.\n",
      "  gc = gc.append(Dic, ignore_index=True)\n"
     ]
    },
    {
     "name": "stdout",
     "output_type": "stream",
     "text": [
      "Saint-Gobain Placo Iberica SA\n",
      "Sistema Placo® ISOVER\n",
      "Wall System\n",
      "System containing at least one of the Placo® plasterboards listed below and mineral wool ISOVER Arena APTA, including treatment with Placo® joint filler Placo® SN or Placo® PR **, Placo® metal profiles and accessories***” * List of plasterboard included: Habito® 13 and Habito® 15 Megaplac® 25 and Megaplac® PPF Placophonique® PPH 13 and PPH 15 Placoflam PPF 13 and PPF 15 Placoimpact PIP 13 and PIP 15 Placomarine Placo® PPM 13, PPM 15 and PPM 18 Placa Placo® BA 8, BA 10, BA 13, BA 15 and BA 18 4PRO® and 4PRO® PPM Placo® X-Ray Protection Activ'Air® BA 13 4PRO® Activ'Air® **List of joint fillers included: Pastas de secado SN y SN Premium Pastas de fraguado PR13, PR1, PR2, PR4, PR HYDRO y PR MULTI Gypfill P X Ray Protection ***List of accessories: TTPC and TRPF Screws, and Placo® Joint Tape\n",
      "IACG-400-10-31-2021\n",
      "https://www.placo.es/\n"
     ]
    },
    {
     "name": "stderr",
     "output_type": "stream",
     "text": [
      "C:\\Users\\USER\\AppData\\Local\\Temp\\ipykernel_35348\\2064196938.py:79: FutureWarning: The frame.append method is deprecated and will be removed from pandas in a future version. Use pandas.concat instead.\n",
      "  gc = gc.append(Dic, ignore_index=True)\n"
     ]
    },
    {
     "name": "stdout",
     "output_type": "stream",
     "text": [
      "Saint-Gobain Weber GmbH\n",
      "Weber floor EP Beschichtungssystem für Innenräume\n",
      "Coating Systems\n",
      "weber.floor 4712, weber.tech 793, weber.prime 807, weber.floor 4741, weber.tech 796\n",
      "IACG-75-01-01-2020\n",
      "https://www.weber.de/\n"
     ]
    },
    {
     "name": "stderr",
     "output_type": "stream",
     "text": [
      "C:\\Users\\USER\\AppData\\Local\\Temp\\ipykernel_35348\\2064196938.py:79: FutureWarning: The frame.append method is deprecated and will be removed from pandas in a future version. Use pandas.concat instead.\n",
      "  gc = gc.append(Dic, ignore_index=True)\n"
     ]
    },
    {
     "name": "stdout",
     "output_type": "stream",
     "text": [
      "Saint-Gobain Weber GmbH\n",
      "Weber floor EP Beschichtungssystem mit Mattierungsfinish\n",
      "Coating Systems\n",
      "weber.floor 4712, weber.tech 793, weber.prime 807, weber.floor 4741, weber.tech 796, weber.floor 4774\n",
      "IACG-75-01-02-2020\n",
      "http://www.weber.de/\n"
     ]
    },
    {
     "name": "stderr",
     "output_type": "stream",
     "text": [
      "C:\\Users\\USER\\AppData\\Local\\Temp\\ipykernel_35348\\2064196938.py:79: FutureWarning: The frame.append method is deprecated and will be removed from pandas in a future version. Use pandas.concat instead.\n",
      "  gc = gc.append(Dic, ignore_index=True)\n"
     ]
    },
    {
     "name": "stdout",
     "output_type": "stream",
     "text": [
      "Saint-Gobain Weber GmbH\n",
      "Weber.floor wässriges Verlegesystem\n",
      "Coating Systems\n",
      "weber.floor 4725, weber.floor 4736, weber.tech 795\n",
      "IACG-75-01-03-2020\n",
      "http://www.weber.de/\n"
     ]
    },
    {
     "name": "stderr",
     "output_type": "stream",
     "text": [
      "C:\\Users\\USER\\AppData\\Local\\Temp\\ipykernel_35348\\2064196938.py:79: FutureWarning: The frame.append method is deprecated and will be removed from pandas in a future version. Use pandas.concat instead.\n",
      "  gc = gc.append(Dic, ignore_index=True)\n"
     ]
    },
    {
     "name": "stdout",
     "output_type": "stream",
     "text": [
      "San Marco Group - Novacolor\n",
      "Novacolor Waterbased Paint\n",
      "Wall Paints\n",
      "MATMOTION SUPREME MATT, MATMOTION SUPREME EGGSHELL, MATMOTION EXTRA MATT, MATMOTION EXTRA EGGSHELL, PURO_TITANIUM & VOC FREE\n",
      "IACG-442-01-02-2021\n",
      "https://www.novacolor.it/\n"
     ]
    },
    {
     "name": "stderr",
     "output_type": "stream",
     "text": [
      "C:\\Users\\USER\\AppData\\Local\\Temp\\ipykernel_35348\\2064196938.py:79: FutureWarning: The frame.append method is deprecated and will be removed from pandas in a future version. Use pandas.concat instead.\n",
      "  gc = gc.append(Dic, ignore_index=True)\n"
     ]
    },
    {
     "name": "stdout",
     "output_type": "stream",
     "text": [
      "San Marco Group - San Marco\n",
      "San Marco Waterbased Paint\n",
      "Wall Paints\n",
      "UNIMARC SMALTO MURALE SEMILUCIDO, UNIMARC SMALTO MURALE OPACO, ANTARTICA, SILVERCONFORT, PAENINSULA EGGSHELL, COLOREVIVO, PAENINSULA ULTRAMATT, SILDOMUS SANA, ITALA OPACA, ACRYLOSILOX, ACRYLOMAT PLUS, ACRYLOSATIN PLUS, ACRYLOVELOUR PLUS, MAESTRO PLUS\n",
      "IACG-442-01-01-2021\n",
      "https://san-marco.com/\n"
     ]
    },
    {
     "name": "stderr",
     "output_type": "stream",
     "text": [
      "C:\\Users\\USER\\AppData\\Local\\Temp\\ipykernel_35348\\2064196938.py:79: FutureWarning: The frame.append method is deprecated and will be removed from pandas in a future version. Use pandas.concat instead.\n",
      "  gc = gc.append(Dic, ignore_index=True)\n"
     ]
    },
    {
     "name": "stdout",
     "output_type": "stream",
     "text": [
      "Shandong Jiaming New Building Materials Co., Ltd\n",
      "Putty\n",
      "Levelling Compounds\n",
      "General Hua Healthy Putty, General Hua Negative oxygen ion putty, General Hua Water resistant putty, General Hua San er wu mu putty, General Hua Exterior wall putty, Yi Ping Fang Plant Putty, Yi Ping Fang Negative oxygen ion putty, Yi Ping Fang Water resistant putty, Yi Ping Fang Interior wall putty, Yi Ping Fang Exterior wall putty.\n",
      "IACG-430-01-01-2021\n",
      "https://www.sdjiaming.cn/\n"
     ]
    },
    {
     "name": "stderr",
     "output_type": "stream",
     "text": [
      "C:\\Users\\USER\\AppData\\Local\\Temp\\ipykernel_35348\\2064196938.py:79: FutureWarning: The frame.append method is deprecated and will be removed from pandas in a future version. Use pandas.concat instead.\n",
      "  gc = gc.append(Dic, ignore_index=True)\n"
     ]
    },
    {
     "name": "stdout",
     "output_type": "stream",
     "text": [
      "Shandong Jiaming New Building Materials Co., Ltd\n",
      "Gypsum\n",
      "Levelling Compounds\n",
      "General Hua Caulking gypsum, General Hua Stucco gypsum, YiPingFang Caulking gypsum, YiPingFang Stucco gypsum.\n",
      "IACG-430-01-02-2021\n",
      "https://www.sdjiaming.cn/\n"
     ]
    },
    {
     "name": "stderr",
     "output_type": "stream",
     "text": [
      "C:\\Users\\USER\\AppData\\Local\\Temp\\ipykernel_35348\\2064196938.py:79: FutureWarning: The frame.append method is deprecated and will be removed from pandas in a future version. Use pandas.concat instead.\n",
      "  gc = gc.append(Dic, ignore_index=True)\n"
     ]
    },
    {
     "name": "stdout",
     "output_type": "stream",
     "text": [
      "Shanghai Jinka Flooring Technology Co. Ltd.\n",
      "Jinka Click product\n",
      "Resilient Flooring\n",
      "Jinka Click product\n",
      "IACG-64-02-01-2020\n",
      "http://www.jinkaflooring.com/\n"
     ]
    },
    {
     "name": "stderr",
     "output_type": "stream",
     "text": [
      "C:\\Users\\USER\\AppData\\Local\\Temp\\ipykernel_35348\\2064196938.py:79: FutureWarning: The frame.append method is deprecated and will be removed from pandas in a future version. Use pandas.concat instead.\n",
      "  gc = gc.append(Dic, ignore_index=True)\n"
     ]
    },
    {
     "name": "stdout",
     "output_type": "stream",
     "text": [
      "25\n",
      "Shanghai Jinka Flooring Technology Co. Ltd.\n",
      "Jinka LVT product\n",
      "Resilient Flooring\n",
      "Jinka LVT product\n",
      "IACG-64-02-02-2020\n",
      "http://www.jinkaflooring.com/\n"
     ]
    },
    {
     "name": "stderr",
     "output_type": "stream",
     "text": [
      "C:\\Users\\USER\\AppData\\Local\\Temp\\ipykernel_35348\\2064196938.py:79: FutureWarning: The frame.append method is deprecated and will be removed from pandas in a future version. Use pandas.concat instead.\n",
      "  gc = gc.append(Dic, ignore_index=True)\n"
     ]
    },
    {
     "name": "stdout",
     "output_type": "stream",
     "text": [
      "Shanghai Jinka Flooring Technology Co. Ltd.\n",
      "Jinka innovative adhesive backed vinyl tile\n",
      "Resilient Flooring\n",
      "Jinka innovative adhesive backed vinyl tile\n",
      "IACG-64-02-03-2020\n",
      "http://www.jinkaflooring.com/\n"
     ]
    },
    {
     "name": "stderr",
     "output_type": "stream",
     "text": [
      "C:\\Users\\USER\\AppData\\Local\\Temp\\ipykernel_35348\\2064196938.py:79: FutureWarning: The frame.append method is deprecated and will be removed from pandas in a future version. Use pandas.concat instead.\n",
      "  gc = gc.append(Dic, ignore_index=True)\n"
     ]
    },
    {
     "name": "stdout",
     "output_type": "stream",
     "text": [
      "Shanghai Jinka Flooring Technology Co. Ltd.\n",
      "Jinka SVP\n",
      "Resilient Flooring\n",
      "Jinka SVP\n",
      "IACG-64-02-04-2020\n",
      "http://www.jinkaflooring.com/\n"
     ]
    },
    {
     "name": "stderr",
     "output_type": "stream",
     "text": [
      "C:\\Users\\USER\\AppData\\Local\\Temp\\ipykernel_35348\\2064196938.py:79: FutureWarning: The frame.append method is deprecated and will be removed from pandas in a future version. Use pandas.concat instead.\n",
      "  gc = gc.append(Dic, ignore_index=True)\n"
     ]
    },
    {
     "name": "stdout",
     "output_type": "stream",
     "text": [
      "Shanghai Jinka Flooring Technology Co. Ltd.\n",
      "Jinka PVC free\n",
      "Resilient Flooring\n",
      "Jinka PVC free\n",
      "IACG-64-02-07-2020\n",
      "http://www.jinkaflooring.com/\n"
     ]
    },
    {
     "name": "stderr",
     "output_type": "stream",
     "text": [
      "C:\\Users\\USER\\AppData\\Local\\Temp\\ipykernel_35348\\2064196938.py:79: FutureWarning: The frame.append method is deprecated and will be removed from pandas in a future version. Use pandas.concat instead.\n",
      "  gc = gc.append(Dic, ignore_index=True)\n"
     ]
    },
    {
     "name": "stdout",
     "output_type": "stream",
     "text": [
      "Shaw Europe Limited\n",
      "Taskworx\n",
      "Textile Flooring\n",
      "5T226 Ember, 5T227 Graph, 5T228 Roam, 5T229 Nook, 5T253 Colour Rectangle, 5T254 Colour Square, 5T262 Dream Tile, 5T264 Belong Tile, 5T266 Memory Tile, 5T283 Honest, 5T284 Identity, 5T285 Familiar, 5T289 Houndstooth, 5T290 Check, 5T291 Textile Loop, 5T292 Jacquard, 5T329 Convene, 5T330 Support, 5T331 Establish, 5T332 Arrange, 5T333 Array, 5T334 Offset, 5T335 Structure, 5T336 Intent, 5T337 Purpose, 5T338 Situation, 5T362 Endless, 5T363 Respond, 5T364 Observe, 5T365 Transform, 5T366 Respond Colour, 5T367 Observe Colour, 5T368 Transform Colour, 5T369 Boundless, 5T370 Source, 5T383 Complement, 5T384 Detail, 5T385 Feature, 5T386 Pixel Square, 5T387 Pixel Rectangle, 5T416 Beam, 5T417 Braid, 5T453 Fragment, 5T454 Stone.\n",
      "IACG-449-01-01-2022\n",
      "https://www.eurofins.com/consumer-product-testing/industries/construction-building/indoor-air-comfort/list-of-certified-products/%C2%A0https://www.shawcontract.com/en-gb\n"
     ]
    },
    {
     "name": "stderr",
     "output_type": "stream",
     "text": [
      "C:\\Users\\USER\\AppData\\Local\\Temp\\ipykernel_35348\\2064196938.py:79: FutureWarning: The frame.append method is deprecated and will be removed from pandas in a future version. Use pandas.concat instead.\n",
      "  gc = gc.append(Dic, ignore_index=True)\n"
     ]
    },
    {
     "name": "stdout",
     "output_type": "stream",
     "text": [
      "Shaw Europe Limited\n",
      "Comfortworx\n",
      "Textile Flooring\n",
      "C000W Graph Comfortwor, C001W Roam Comfortworx, C002W Nook Comfortworx, C003W Pixel Square Comfortworx, C004W Pixel Rectangle Comfortworx, C005W Honest Comfortworx, C006W Familiar Comfortworx, C007W Identity Comfortworx, C008W Beam Comfortworx, C009W Braid Comfortworx, C010W Observe Colour Comfortworx, C011W Endless Comfortworx, C012W Respond Colour Comfortworx, C013W Transform Colour Comfortworx, C014W Source Comfortworx, C015W Boundless Comfortworx, C018W Stone Comfortworx, C019W Fragment Comfortworx, C020W Textile Comfortworx, C021W Establish Comfortworx, C022W Belong Comfortworx, Arrange Comfortworx, Array Comfortworx, Check Comfortworx, Complement Comfortworx, Convene Comfortworx, Detail Comfortworx, Dream Comfortworx, Feature Comfortworx, Houndstooth Comfortworx, Intent Comfortworx, Jacquard Comfortworx, Memory Comfortworx, Observe Comfortworx, Offset Comfortworx, Purpose Comfortworx, Respond Comfortworx, Situation Comfortworx, Structure Comfortworx, Support Comfortworx, Transform Comfortworx.\n",
      "IACG-449-01-02-2022\n",
      "https://www.eurofins.com/consumer-product-testing/industries/construction-building/indoor-air-comfort/list-of-certified-products/%C2%A0https://www.shawcontract.com/en-gb\n"
     ]
    },
    {
     "name": "stderr",
     "output_type": "stream",
     "text": [
      "C:\\Users\\USER\\AppData\\Local\\Temp\\ipykernel_35348\\2064196938.py:79: FutureWarning: The frame.append method is deprecated and will be removed from pandas in a future version. Use pandas.concat instead.\n",
      "  gc = gc.append(Dic, ignore_index=True)\n"
     ]
    },
    {
     "name": "stdout",
     "output_type": "stream",
     "text": [
      "Sherwin-Williams\n",
      "Valspar Premium - Matt, Velour, Satin\n",
      "Wall Paints\n",
      "Valspar Premium - Matt, Velour, Satin\n",
      "IACG-454-01-01-2022\n",
      "https://www.valsparpaint.fr/\n"
     ]
    },
    {
     "name": "stderr",
     "output_type": "stream",
     "text": [
      "C:\\Users\\USER\\AppData\\Local\\Temp\\ipykernel_35348\\2064196938.py:79: FutureWarning: The frame.append method is deprecated and will be removed from pandas in a future version. Use pandas.concat instead.\n",
      "  gc = gc.append(Dic, ignore_index=True)\n"
     ]
    },
    {
     "name": "stdout",
     "output_type": "stream",
     "text": [
      "Sievert Baustoffe GmbH & Co. KG\n",
      "PROBAU\n",
      "Gypsum based products\n",
      "PROBAU- G15 Gips (EAN-Nummer 4004637210364) PROBAU Innenspachtel (EAN-Nummer 4004637292339) PROBAU Gips (EAN-Nummer 4004637210340) PROBAU Gips (EAN-Nummer 4004637210326) PROBAU Flächen- und Glättspachtel (EAN-Nummer 4004637292346) PROBAU Elektrikergips (EAN-Nummer 4004637210333)\n",
      "IACG-416-01-01-2020\n",
      "https://sievert.de/\n"
     ]
    },
    {
     "name": "stderr",
     "output_type": "stream",
     "text": [
      "C:\\Users\\USER\\AppData\\Local\\Temp\\ipykernel_35348\\2064196938.py:79: FutureWarning: The frame.append method is deprecated and will be removed from pandas in a future version. Use pandas.concat instead.\n",
      "  gc = gc.append(Dic, ignore_index=True)\n"
     ]
    },
    {
     "name": "stdout",
     "output_type": "stream",
     "text": [
      "Sika Pulastic\n",
      "Pulastic Classic\n",
      "Sports Flooring\n",
      "Pulastic Classic 60, Pulastic Classic 70, Pulastic Classic 80 light, Pulastic Classic 90, Pulastic Classic 100 light, Pulastic Classic 110, Pulastic Facelift Classic, Pulastic Upgrade Classic. The product group Pulastic Pure includes following components: Tacly ST Adhesive, Regupol shockpad, Foampad light, EG Porefiller, EG Plus Porefiller, GM 1500 self-levelling, Pulastic 221W waterbased coating.\n",
      "IAC-439-01-02-2021\n",
      "https://www.sika.nl/\n"
     ]
    },
    {
     "name": "stderr",
     "output_type": "stream",
     "text": [
      "C:\\Users\\USER\\AppData\\Local\\Temp\\ipykernel_35348\\2064196938.py:79: FutureWarning: The frame.append method is deprecated and will be removed from pandas in a future version. Use pandas.concat instead.\n",
      "  gc = gc.append(Dic, ignore_index=True)\n"
     ]
    },
    {
     "name": "stdout",
     "output_type": "stream",
     "text": [
      "Sika Pulastic\n",
      "Pulastic XLS\n",
      "Sports Flooring\n",
      "Pulastic Elite Performance 70 XLS, Pulastic Elite Comfort 20 XLS (UNO40), Pulastic 180 XLS. The product group Pulastic Pure includes following components: Tacly ST Adhesive, Regupol Shockpad, EG Plus Porefiller, GM 700 self-levelling compound, GM 1500 self-levelling compound, Pulastic 221W waterbased coating. Pulastic TS/W.\n",
      "IAC-439-01-03-2021\n",
      "https://www.sika.nl/\n"
     ]
    },
    {
     "name": "stderr",
     "output_type": "stream",
     "text": [
      "C:\\Users\\USER\\AppData\\Local\\Temp\\ipykernel_35348\\2064196938.py:79: FutureWarning: The frame.append method is deprecated and will be removed from pandas in a future version. Use pandas.concat instead.\n",
      "  gc = gc.append(Dic, ignore_index=True)\n"
     ]
    },
    {
     "name": "stdout",
     "output_type": "stream",
     "text": [
      "Sika Pulastic\n",
      "Pulastic Decosport\n",
      "Sports Flooring\n",
      "Facelift Woodtone, Pulastic 70 Woodtone (opw/speellokaal), Pulastic 90 Woodtone (opwaardering), Pulastic 110 Woodtone, Pulastic 110 Woodtone Comfort, Pulastic 150 Woodtone, Pulastic Elite Classic 70 Woodtone, Pulastic Elite Comfort 70 Woodtone (UNO 45), Pulastic Elite Performance 70 Woodtone, Pulastic Elite Performance 90 Woodtone. The product group Pulastic Pure includes following components: Tacly ST Adhesive, Regupol shockpad, EG Plus Porefiller, GM 1500 self-levelling, Pulastic 221W waterbased coating.\n",
      "IAC-439-01-04-2021\n",
      "https://www.sika.nl/\n"
     ]
    },
    {
     "name": "stderr",
     "output_type": "stream",
     "text": [
      "C:\\Users\\USER\\AppData\\Local\\Temp\\ipykernel_35348\\2064196938.py:79: FutureWarning: The frame.append method is deprecated and will be removed from pandas in a future version. Use pandas.concat instead.\n",
      "  gc = gc.append(Dic, ignore_index=True)\n"
     ]
    },
    {
     "name": "stdout",
     "output_type": "stream",
     "text": [
      "Sika Pulastic\n",
      "Pulastic Pure\n",
      "Sports Flooring\n",
      "Pulastic Pure 60, Pulastic Pure 70, Pulastic Pure 90, Pulastic Pure 110, Pulastic Pure 110 Comfort, Pulastic Pure 130, Pulastic Pure 150, Pulsatic Elite Classic 70 Pure, Pulastic Elite Performance 70 Pure, Pulastic Elite Performance 90 Pure, Pulastic Elite Comfort 70 Pure (UNO45), Pulastic Facelift Pure, Pulastic Upgrade Pure. The product group Pulastic Pure includes following components: Tacly ST Adhesive, EG Porefiller, EG Plus Porefiller, GM 4000 self-levelling compound, Pulastic 221W waterbased coating.\n",
      "IACG-439-01-01-2021\n",
      "https://www.sika.nl/\n"
     ]
    },
    {
     "name": "stderr",
     "output_type": "stream",
     "text": [
      "C:\\Users\\USER\\AppData\\Local\\Temp\\ipykernel_35348\\2064196938.py:79: FutureWarning: The frame.append method is deprecated and will be removed from pandas in a future version. Use pandas.concat instead.\n",
      "  gc = gc.append(Dic, ignore_index=True)\n"
     ]
    },
    {
     "name": "stdout",
     "output_type": "stream",
     "text": [
      "SKEMA SPA\n",
      "PARQUET IN ROVERE 2 E 3 STRATI – ENGINEERED OAK PARQUET\n",
      "Wooden Floorings\n",
      "PALLADIO 192, 15 mm; PALLADIO 152, 11 mm; PALLADIO S650, 15 mm\n",
      "IACG-411-01-01-2022\n",
      "https://www.skema.eu/\n"
     ]
    },
    {
     "name": "stderr",
     "output_type": "stream",
     "text": [
      "C:\\Users\\USER\\AppData\\Local\\Temp\\ipykernel_35348\\2064196938.py:79: FutureWarning: The frame.append method is deprecated and will be removed from pandas in a future version. Use pandas.concat instead.\n",
      "  gc = gc.append(Dic, ignore_index=True)\n"
     ]
    },
    {
     "name": "stdout",
     "output_type": "stream",
     "text": [
      "Société des Colorants du Sud-Ouest - UNIKALO\n",
      "AQUAVEA\n",
      "Wall Paints\n",
      "AQUAVEA IMPRESS, AQUAVEA MAT, AQUAVEA MAT base B+, AQUAVEA MAT base C, AQUAVEA MAT base D, AQUAVEA SATIN, AQUAVEA SATIN base B+, AQUAVEA SATIN base C, AQUAVEA SATIN base D, AQUAVEA VELOURS, AQUAVEA VELOURS base B+, AQUAVEA VELOURS base C, AQUAVEA VELOURS base D.\n",
      "IACG-431-01-01-2021\n",
      "https://unikalo.com/\n"
     ]
    },
    {
     "name": "stderr",
     "output_type": "stream",
     "text": [
      "C:\\Users\\USER\\AppData\\Local\\Temp\\ipykernel_35348\\2064196938.py:79: FutureWarning: The frame.append method is deprecated and will be removed from pandas in a future version. Use pandas.concat instead.\n",
      "  gc = gc.append(Dic, ignore_index=True)\n"
     ]
    },
    {
     "name": "stdout",
     "output_type": "stream",
     "text": [
      "SPS B.V.\n",
      "SPS Air Clean Matt Interior\n",
      "Wall paints\n",
      "SPS Air Clean Matt Interior\n",
      "IACG-343-01-01-2021\n",
      "http://www.spsbv.com/\n"
     ]
    },
    {
     "name": "stderr",
     "output_type": "stream",
     "text": [
      "C:\\Users\\USER\\AppData\\Local\\Temp\\ipykernel_35348\\2064196938.py:79: FutureWarning: The frame.append method is deprecated and will be removed from pandas in a future version. Use pandas.concat instead.\n",
      "  gc = gc.append(Dic, ignore_index=True)\n"
     ]
    },
    {
     "name": "stdout",
     "output_type": "stream",
     "text": [
      "Superglass Dämmstoffe\n",
      "Mineral Wool Insulation Superglass\n",
      "Insulation\n",
      "Akustikplatte AP 2, Kassettendämmplatte KP-035, Kassettendämmplatte KP-040, Klemmfilz KF 1, Klemmfilz KF 2, Klemmfilz KF 4, Trennwandfilz TF 1, Trennwandplatte TW 1, Trittschallplatte TS, Wärmedämmfilz WF 1, Wärmedämmfilz WF 2\n",
      "IACG-400-191-03-04-2021\n",
      "http://www.superglass.de/\n"
     ]
    },
    {
     "name": "stderr",
     "output_type": "stream",
     "text": [
      "C:\\Users\\USER\\AppData\\Local\\Temp\\ipykernel_35348\\2064196938.py:79: FutureWarning: The frame.append method is deprecated and will be removed from pandas in a future version. Use pandas.concat instead.\n",
      "  gc = gc.append(Dic, ignore_index=True)\n"
     ]
    },
    {
     "name": "stdout",
     "output_type": "stream",
     "text": [
      "Tapijtfabriek Belakos BV\n",
      "Richmond, Chelsea\n",
      "Textile Flooring\n",
      "Richmond, Chelsea\n",
      "IACG-365-01-01-2022\n",
      "https://www.belakosflooring.com/\n"
     ]
    },
    {
     "name": "stderr",
     "output_type": "stream",
     "text": [
      "C:\\Users\\USER\\AppData\\Local\\Temp\\ipykernel_35348\\2064196938.py:79: FutureWarning: The frame.append method is deprecated and will be removed from pandas in a future version. Use pandas.concat instead.\n",
      "  gc = gc.append(Dic, ignore_index=True)\n"
     ]
    },
    {
     "name": "stdout",
     "output_type": "stream",
     "text": [
      "Tapijtfabriek Belakos BV\n",
      "Solution Dyed Nylon Carpet\n",
      "Textile Flooring\n",
      "Aspen, Hampton\n",
      "IACG-365-01-02-2022\n",
      "https://www.belakosflooring.com/\n"
     ]
    },
    {
     "name": "stderr",
     "output_type": "stream",
     "text": [
      "C:\\Users\\USER\\AppData\\Local\\Temp\\ipykernel_35348\\2064196938.py:79: FutureWarning: The frame.append method is deprecated and will be removed from pandas in a future version. Use pandas.concat instead.\n",
      "  gc = gc.append(Dic, ignore_index=True)\n"
     ]
    },
    {
     "name": "stdout",
     "output_type": "stream",
     "text": [
      "Tapijtfabriek Belakos BV\n",
      "Belakos PVC: Attico, Palazzo, Rustico en Touchstone\n",
      "Resilient Flooring\n",
      "Belakos PVC: Attico, Palazzo, Rustico en Touchstone\n",
      "IACG-365-02-01-2021\n",
      "https://www.belakosflooring.com/\n"
     ]
    },
    {
     "name": "stderr",
     "output_type": "stream",
     "text": [
      "C:\\Users\\USER\\AppData\\Local\\Temp\\ipykernel_35348\\2064196938.py:79: FutureWarning: The frame.append method is deprecated and will be removed from pandas in a future version. Use pandas.concat instead.\n",
      "  gc = gc.append(Dic, ignore_index=True)\n"
     ]
    },
    {
     "name": "stdout",
     "output_type": "stream",
     "text": [
      "Tarkett France\n",
      "Tapiflex Habitat Genius\n",
      "Resilient Flooring\n",
      "\n",
      "IACG-30-04-05-2022\n",
      "https://www.tarkett.fr/\n"
     ]
    },
    {
     "name": "stderr",
     "output_type": "stream",
     "text": [
      "C:\\Users\\USER\\AppData\\Local\\Temp\\ipykernel_35348\\2064196938.py:79: FutureWarning: The frame.append method is deprecated and will be removed from pandas in a future version. Use pandas.concat instead.\n",
      "  gc = gc.append(Dic, ignore_index=True)\n"
     ]
    },
    {
     "name": "stdout",
     "output_type": "stream",
     "text": [
      "Tarkett Holding GmbH\n",
      "Tarkett Group 2\n",
      "Resilient Flooring\n",
      "Exclusive 225 T, City Line Comfort, Exclusive 300 T, Travel Line Acou\n",
      "IACG-30-03-02-2022\n",
      "https://www.tarkett.de/\n"
     ]
    },
    {
     "name": "stderr",
     "output_type": "stream",
     "text": [
      "C:\\Users\\USER\\AppData\\Local\\Temp\\ipykernel_35348\\2064196938.py:79: FutureWarning: The frame.append method is deprecated and will be removed from pandas in a future version. Use pandas.concat instead.\n",
      "  gc = gc.append(Dic, ignore_index=True)\n"
     ]
    },
    {
     "name": "stdout",
     "output_type": "stream",
     "text": [
      "Tarkett Holding GmbH\n",
      "Tarkett Group 4\n",
      "Resilient Flooring\n",
      "Authentic 150, Design 220 T, Equinoxe, Essentials 150, Essentials 200, Essentials 220 T, Essentials 240, Essentials 260, Essentials 260 T, Essentials 280T, Essentials 300, Essentials 300, Essentials 300+, Essentials 400, Exclusiv 240 , Exclusiv 260, Exclusiv 300, Exclusiv 300+, Exclusiv 320 T, Exclusive 150, Exclusive 280T, Focus, Iconik 120, ICONIK 150, ICONIK 200, ICONIK 220T, ICONIK 220Tex, ICONIK 240, ICONIK 260, ICONIK 260 D, ICONIK 260T, ICONIK 260Tex, ICONIK 280T, ICONIK 280Tex, ICONIK 300, ICONIK 300+, ICONIK 320T, ICONIK 320Tex, ICONIK 400, Iconik Essence, Nordic Stabil, Nordic Stabil-Plus, Optima, Optima, Spirit 150, Spirit 260, TERRA-FORCALQUIER 2-OCRE, Texstyle 220 T, Texstyle 280 T, TX 352S UNI ALGECO, TX Classic, TX Classic Stabil, Universe, Universe III, WK7J Hobby-Fendt\n",
      "IACG-30-03-04-2022\n",
      "https://www.tarkett.de/\n"
     ]
    },
    {
     "name": "stderr",
     "output_type": "stream",
     "text": [
      "C:\\Users\\USER\\AppData\\Local\\Temp\\ipykernel_35348\\2064196938.py:79: FutureWarning: The frame.append method is deprecated and will be removed from pandas in a future version. Use pandas.concat instead.\n",
      "  gc = gc.append(Dic, ignore_index=True)\n"
     ]
    },
    {
     "name": "stdout",
     "output_type": "stream",
     "text": [
      "Tarkett Holding GmbH\n",
      "Tarkett Group 6\n",
      "Resilient Flooring\n",
      "ID Inspiration 70, ID Inspiration 55, ID Inspiration 40, ID Mixonomi, ID Supernature\n",
      "IACG-30-03-06-2020\n",
      "https://www.tarkett.de/\n"
     ]
    },
    {
     "name": "stderr",
     "output_type": "stream",
     "text": [
      "C:\\Users\\USER\\AppData\\Local\\Temp\\ipykernel_35348\\2064196938.py:79: FutureWarning: The frame.append method is deprecated and will be removed from pandas in a future version. Use pandas.concat instead.\n",
      "  gc = gc.append(Dic, ignore_index=True)\n"
     ]
    },
    {
     "name": "stdout",
     "output_type": "stream",
     "text": [
      "Tarkett Holding GmbH\n",
      "Tarkett Group 13\n",
      "Resilient Flooring\n",
      "iD Revolution\n",
      "IACG-30-03-13-2020\n",
      "https://www.tarkett.de/\n"
     ]
    },
    {
     "name": "stderr",
     "output_type": "stream",
     "text": [
      "C:\\Users\\USER\\AppData\\Local\\Temp\\ipykernel_35348\\2064196938.py:79: FutureWarning: The frame.append method is deprecated and will be removed from pandas in a future version. Use pandas.concat instead.\n",
      "  gc = gc.append(Dic, ignore_index=True)\n"
     ]
    },
    {
     "name": "stdout",
     "output_type": "stream",
     "text": [
      "Tarkett S.p.A.\n",
      "Tarkett Linoleum\n",
      "Resilient Flooring\n",
      "Elafono (underlayer) Etrusco Silencio xf2, Etrusco xf2 Linoleum Bfl xf², Linoleum Conductive xf2, Linoleum SD Static Dissipative xf2 LinoRail HL3 Linosport Classic, Linosport xf2 Linowall Originale Essenza, Originale xf2 Sicuro R10 xf2 Style Elle xf2, Style Elle Silencio xf2, Style Emme xf2 Style Emme Acoustic Cork xf2, Style Emme Silencio xf2 Trentino xf2, Trentino Acoustic Cork xf2, Trentino Essenza, Trentino Silencio xf2 Veneto Acoustic Cork xf2, Veneto Essenza, Veneto Essenza Acoustic Cork Veneto Silencio xf2, Veneto xf2\n",
      "IACG-30-01-01-2021\n",
      "https://www.tarkett.it/\n"
     ]
    },
    {
     "name": "stderr",
     "output_type": "stream",
     "text": [
      "C:\\Users\\USER\\AppData\\Local\\Temp\\ipykernel_35348\\2064196938.py:79: FutureWarning: The frame.append method is deprecated and will be removed from pandas in a future version. Use pandas.concat instead.\n",
      "  gc = gc.append(Dic, ignore_index=True)\n"
     ]
    },
    {
     "name": "stdout",
     "output_type": "stream",
     "text": [
      "25\n",
      "TEC7\n",
      "TEC7\n",
      "Sealants\n",
      "TEC7 Aquastop Paste Aquastop Liquid Trans Clear Trans Inox X-Seal\n",
      "IACG-351-01-03-2020\n",
      "https://www.tec7.be/en\n"
     ]
    },
    {
     "name": "stderr",
     "output_type": "stream",
     "text": [
      "C:\\Users\\USER\\AppData\\Local\\Temp\\ipykernel_35348\\2064196938.py:79: FutureWarning: The frame.append method is deprecated and will be removed from pandas in a future version. Use pandas.concat instead.\n",
      "  gc = gc.append(Dic, ignore_index=True)\n"
     ]
    },
    {
     "name": "stdout",
     "output_type": "stream",
     "text": [
      "Timzo Tufting Industry\n",
      "Timzo Group PP\n",
      "Textile Flooring\n",
      "\n",
      "IACG-336-02-03-2022\n",
      "http://www.timzo.nl/\n"
     ]
    },
    {
     "name": "stderr",
     "output_type": "stream",
     "text": [
      "C:\\Users\\USER\\AppData\\Local\\Temp\\ipykernel_35348\\2064196938.py:79: FutureWarning: The frame.append method is deprecated and will be removed from pandas in a future version. Use pandas.concat instead.\n",
      "  gc = gc.append(Dic, ignore_index=True)\n"
     ]
    },
    {
     "name": "stdout",
     "output_type": "stream",
     "text": [
      "Tremco CPG Poland Sp. z o.o.\n",
      "Monopur Industry\n",
      "Resin based flooring\n",
      "Systems using at least 2 of the following compounds: Monopur® Industry Primer Monopur® Industry Scratchcoat Monopur® Industry SL 2 mm Monopur® Industry SL 4 mm Monopur® Industry SL 5 mm Monopur® Industry RT 6 mm and 9 mm Monopur® Industry Mortar 6 mm and 9 mm Monopur® Industry AD 6 mm and 9 mm Monopur® Industry SL cond Monopur® Industry Cove Mix Monopur® Industry Topcoat\n",
      "IACG-362-01-01B-2021\n",
      "https://www.cpg-europe.com/\n"
     ]
    },
    {
     "name": "stderr",
     "output_type": "stream",
     "text": [
      "C:\\Users\\USER\\AppData\\Local\\Temp\\ipykernel_35348\\2064196938.py:79: FutureWarning: The frame.append method is deprecated and will be removed from pandas in a future version. Use pandas.concat instead.\n",
      "  gc = gc.append(Dic, ignore_index=True)\n"
     ]
    },
    {
     "name": "stdout",
     "output_type": "stream",
     "text": [
      "Tremco CPG Poland Sp. z o.o.\n",
      "Flowfresh / Flowcrete\n",
      "Resin based flooring\n",
      "Systems using at least 2 of the following compounds: Primers: Flowfresh primer, Flowcrete SL/Scratchcoat, Flowcrete SL/Scratchcoat Quick Wear layers: Flowfresh SL, Flowfresh MF, Flowfresh RT, Flowfresh HF, Flowfresh HD, Flowfresh Mortar, Flowfresh ESD SL, Flowfresh Cove Flowcrete SL/Scratchcoat, Flowcrete MF, Flowcrete RT, Flowcrete HF, Flowcrete HD, Flowcrete Mortar, Flowcrete ESD SL, Flowcrete Cove Flowfresh SL Quick, Flowfresh MF Quick, Flowfresh RT Quick, Flowfresh HD Quick, Flowfresh Mortar Quick, Flowfresh HF Quick Flowcrete SL/Scratchcoat Quick, Flowcrete MF Quick, Flowcrete RT Quick, Flowcrete HD Quick, Flowcrete Mortar Quick, Flowcrete HF Quick Topcoats: Flowfresh Coating Matt, Flowcrete Coating Matt\n",
      "IACG-362-01-02-2021\n",
      "https://www.cpg-europe.com/\n"
     ]
    },
    {
     "name": "stderr",
     "output_type": "stream",
     "text": [
      "C:\\Users\\USER\\AppData\\Local\\Temp\\ipykernel_35348\\2064196938.py:79: FutureWarning: The frame.append method is deprecated and will be removed from pandas in a future version. Use pandas.concat instead.\n",
      "  gc = gc.append(Dic, ignore_index=True)\n"
     ]
    },
    {
     "name": "stdout",
     "output_type": "stream",
     "text": [
      "Tremco CPG Poland Sp. z o.o.\n",
      "Peran STB Public\n",
      "Resin based flooring\n",
      "Systems using at least 2 of the following compounds: Hydraseal DPM Peran STC LE Structure Peran STC LE\n",
      "IACG-362-01-03-2021\n",
      "https://www.cpg-europe.com/\n"
     ]
    },
    {
     "name": "stderr",
     "output_type": "stream",
     "text": [
      "C:\\Users\\USER\\AppData\\Local\\Temp\\ipykernel_35348\\2064196938.py:79: FutureWarning: The frame.append method is deprecated and will be removed from pandas in a future version. Use pandas.concat instead.\n",
      "  gc = gc.append(Dic, ignore_index=True)\n"
     ]
    },
    {
     "name": "stdout",
     "output_type": "stream",
     "text": [
      "Tremco CPG Poland Sp. z o.o.\n",
      "Deckshield ID\n",
      "Resin based flooring\n",
      "Systems using at least 2 of the following compounds: Deckshield SF Deckshield EM Deckshield Finish\n",
      "IACG-362-01-04-2021\n",
      "https://www.cpg-europe.com/\n"
     ]
    },
    {
     "name": "stderr",
     "output_type": "stream",
     "text": [
      "C:\\Users\\USER\\AppData\\Local\\Temp\\ipykernel_35348\\2064196938.py:79: FutureWarning: The frame.append method is deprecated and will be removed from pandas in a future version. Use pandas.concat instead.\n",
      "  gc = gc.append(Dic, ignore_index=True)\n"
     ]
    },
    {
     "name": "stdout",
     "output_type": "stream",
     "text": [
      "UNDRC BVBA\n",
      "NTGRATE Klic\n",
      "Resilient Flooring\n",
      "\n",
      "IACG-349-01-03-2020\n",
      "https://www.ntgrate.eu/\n"
     ]
    },
    {
     "name": "stderr",
     "output_type": "stream",
     "text": [
      "C:\\Users\\USER\\AppData\\Local\\Temp\\ipykernel_35348\\2064196938.py:79: FutureWarning: The frame.append method is deprecated and will be removed from pandas in a future version. Use pandas.concat instead.\n",
      "  gc = gc.append(Dic, ignore_index=True)\n"
     ]
    },
    {
     "name": "stdout",
     "output_type": "stream",
     "text": [
      "UNDRC BVBA\n",
      "NTGRATE Greenfelt Rolls and Tiles\n",
      "Resilient Flooring\n",
      "NTGRATE Greenfelt Rolls and Tiles\n",
      "IACG-349-01-04-2020\n",
      "https://www.ntgrate.eu/\n"
     ]
    },
    {
     "name": "stderr",
     "output_type": "stream",
     "text": [
      "C:\\Users\\USER\\AppData\\Local\\Temp\\ipykernel_35348\\2064196938.py:79: FutureWarning: The frame.append method is deprecated and will be removed from pandas in a future version. Use pandas.concat instead.\n",
      "  gc = gc.append(Dic, ignore_index=True)\n"
     ]
    },
    {
     "name": "stdout",
     "output_type": "stream",
     "text": [
      "Unikolegno.it Srl\n",
      "Uniko Parquet\n",
      "Wooden Floorings\n",
      "Linea Type 15 mm, Linea Type 11 mm, Linea Slim 15 mm, Linea Slim 11 mm, Linea Small 15 mm, Linea Small 11 mm, Linea Tris 15 mm, Linea Tris 11 mm, Linea Four 15 mm, Linea Four 11 mm, Linea Twenty 15 mm, Linea Twenty 11 mm, Linea Loft 15 mm, Linea Loft 11 mm, Linea Loft Classic 15 mm, Linea Loft Classic 11 mm, Quadrotta 15 mm All named products are untreated and have a lacquered finish (natural).\n",
      "IACG-414-01-01-2022\n",
      "http://www.unikolegno.it/?lang=en\n"
     ]
    },
    {
     "name": "stderr",
     "output_type": "stream",
     "text": [
      "C:\\Users\\USER\\AppData\\Local\\Temp\\ipykernel_35348\\2064196938.py:79: FutureWarning: The frame.append method is deprecated and will be removed from pandas in a future version. Use pandas.concat instead.\n",
      "  gc = gc.append(Dic, ignore_index=True)\n"
     ]
    },
    {
     "name": "stdout",
     "output_type": "stream",
     "text": [
      "uno form\n",
      "Veneer doors\n",
      "Kitchen furniture\n",
      "Avantgarde N2, Avantgarde R2, Classic finéret låge\n",
      "IACG-427-03-05-2021\n",
      "https://www.unoform.dk/\n"
     ]
    },
    {
     "name": "stderr",
     "output_type": "stream",
     "text": [
      "C:\\Users\\USER\\AppData\\Local\\Temp\\ipykernel_35348\\2064196938.py:79: FutureWarning: The frame.append method is deprecated and will be removed from pandas in a future version. Use pandas.concat instead.\n",
      "  gc = gc.append(Dic, ignore_index=True)\n"
     ]
    },
    {
     "name": "stdout",
     "output_type": "stream",
     "text": [
      "uno form\n",
      "Lacquered doors\n",
      "Kitchen furniture\n",
      "Avantgarde N1, Avantgarde R1\n",
      "IACG-427-03-06-2021\n",
      "https://www.unoform.dk/\n"
     ]
    },
    {
     "name": "stderr",
     "output_type": "stream",
     "text": [
      "C:\\Users\\USER\\AppData\\Local\\Temp\\ipykernel_35348\\2064196938.py:79: FutureWarning: The frame.append method is deprecated and will be removed from pandas in a future version. Use pandas.concat instead.\n",
      "  gc = gc.append(Dic, ignore_index=True)\n"
     ]
    },
    {
     "name": "stdout",
     "output_type": "stream",
     "text": [
      "uno form\n",
      "Laminate doors\n",
      "Kitchen furniture\n",
      "Avantgarde N6, Avantgarde N5, Classic laminat låge\n",
      "IACG-427-03-07-2021\n",
      "https://www.unoform.dk/\n"
     ]
    },
    {
     "name": "stderr",
     "output_type": "stream",
     "text": [
      "C:\\Users\\USER\\AppData\\Local\\Temp\\ipykernel_35348\\2064196938.py:79: FutureWarning: The frame.append method is deprecated and will be removed from pandas in a future version. Use pandas.concat instead.\n",
      "  gc = gc.append(Dic, ignore_index=True)\n"
     ]
    },
    {
     "name": "stdout",
     "output_type": "stream",
     "text": [
      "Ursa Deutschland GmbH\n",
      "URSA PUREONE\n",
      "Insulation\n",
      "PUREONE Dämmfilz: DF 31, DF 34, DF 38, DF 39; PUREONE Spannfilz: SF 31, SF 34, SF 39; PUREONE Trennwandfilz TWF 37; PUREONE Trennwandplatte: TWP 34, TWP 37; PUREONE Untersparrenfilz: USF 31, USF 34; PUREONE Kerndämmplatte KDP 34; PUREONE Holzrahmenfilz: HRF 31, HRF 34\n",
      "IACG-328-01-01-2022\n",
      "https://www.ursa.de/\n"
     ]
    },
    {
     "name": "stderr",
     "output_type": "stream",
     "text": [
      "C:\\Users\\USER\\AppData\\Local\\Temp\\ipykernel_35348\\2064196938.py:79: FutureWarning: The frame.append method is deprecated and will be removed from pandas in a future version. Use pandas.concat instead.\n",
      "  gc = gc.append(Dic, ignore_index=True)\n"
     ]
    },
    {
     "name": "stdout",
     "output_type": "stream",
     "text": [
      "URSA Insulation\n",
      "URSA WHITE BLOW-IN WOOL\n",
      "Insulation\n",
      "URSA PULS’R, URSA SOUFL’R, URSA THERMOCOUSTIC, URSA PURE FLOC, URSA PURE FLOC KD, URSA PURE FLOC KD XS\n",
      "IACG-451-01-01-2022\n",
      "https://www.ursa.com/\n"
     ]
    },
    {
     "name": "stderr",
     "output_type": "stream",
     "text": [
      "C:\\Users\\USER\\AppData\\Local\\Temp\\ipykernel_35348\\2064196938.py:79: FutureWarning: The frame.append method is deprecated and will be removed from pandas in a future version. Use pandas.concat instead.\n",
      "  gc = gc.append(Dic, ignore_index=True)\n"
     ]
    },
    {
     "name": "stdout",
     "output_type": "stream",
     "text": [
      "Van Besouw\n",
      "Van Besouw 2405\n",
      "Textile Flooring\n",
      "Van Besouw 2405\n",
      "IACG-410-01-01-2021\n",
      "https://besouw.nl/en/\n"
     ]
    },
    {
     "name": "stderr",
     "output_type": "stream",
     "text": [
      "C:\\Users\\USER\\AppData\\Local\\Temp\\ipykernel_35348\\2064196938.py:79: FutureWarning: The frame.append method is deprecated and will be removed from pandas in a future version. Use pandas.concat instead.\n",
      "  gc = gc.append(Dic, ignore_index=True)\n"
     ]
    },
    {
     "name": "stdout",
     "output_type": "stream",
     "text": [
      "VITEX S.A.\n",
      "VITEX CLASSIC\n",
      "Wall Paints\n",
      "VITEX CLASSIC White and all deliverable shades using VITEX COLORANTS and VITEX CLASSIC BASE WHITE, MEDIUM and TRANSPARENT\n",
      "IACG-385-02-01-2020\n",
      "https://www.vitex.gr/en/\n"
     ]
    },
    {
     "name": "stderr",
     "output_type": "stream",
     "text": [
      "C:\\Users\\USER\\AppData\\Local\\Temp\\ipykernel_35348\\2064196938.py:79: FutureWarning: The frame.append method is deprecated and will be removed from pandas in a future version. Use pandas.concat instead.\n",
      "  gc = gc.append(Dic, ignore_index=True)\n"
     ]
    },
    {
     "name": "stdout",
     "output_type": "stream",
     "text": [
      "VITEX S.A.\n",
      "VITEX eco\n",
      "Wall Paints\n",
      "VITEX eco White and all deliverable shades using VITEX COLORANTS and VITEX eco BASE WHITE, MEDIUM and TRANSPARENT\n",
      "IACG-385-02-02-2020\n",
      "https://www.vitex.gr/en/\n"
     ]
    },
    {
     "name": "stderr",
     "output_type": "stream",
     "text": [
      "C:\\Users\\USER\\AppData\\Local\\Temp\\ipykernel_35348\\2064196938.py:79: FutureWarning: The frame.append method is deprecated and will be removed from pandas in a future version. Use pandas.concat instead.\n",
      "  gc = gc.append(Dic, ignore_index=True)\n"
     ]
    },
    {
     "name": "stdout",
     "output_type": "stream",
     "text": [
      "VITEX S.A.\n",
      "VITEX CARE\n",
      "Wall Paints\n",
      "VITEX CARE White and all deliverable shades using VITEX COLORANTS and VITEX CARE BASE WHITE, MEDIUM and TRANSPARENT\n",
      "IACG-385-02-03-2020\n",
      "https://www.vitex.gr/en/\n"
     ]
    },
    {
     "name": "stderr",
     "output_type": "stream",
     "text": [
      "C:\\Users\\USER\\AppData\\Local\\Temp\\ipykernel_35348\\2064196938.py:79: FutureWarning: The frame.append method is deprecated and will be removed from pandas in a future version. Use pandas.concat instead.\n",
      "  gc = gc.append(Dic, ignore_index=True)\n"
     ]
    },
    {
     "name": "stdout",
     "output_type": "stream",
     "text": [
      "VITEX S.A.\n",
      "VITEX CARE EggShell\n",
      "Wall Paints\n",
      "VITEX CARE EggShell White and all deliverable shades using VITEX COLORANTS and VITEX CARE EggShell BASE WHITE, MEDIUM and TRANSPARENT\n",
      "IACG-385-02-04-2020\n",
      "https://www.vitex.gr/en/\n"
     ]
    },
    {
     "name": "stderr",
     "output_type": "stream",
     "text": [
      "C:\\Users\\USER\\AppData\\Local\\Temp\\ipykernel_35348\\2064196938.py:79: FutureWarning: The frame.append method is deprecated and will be removed from pandas in a future version. Use pandas.concat instead.\n",
      "  gc = gc.append(Dic, ignore_index=True)\n"
     ]
    },
    {
     "name": "stdout",
     "output_type": "stream",
     "text": [
      "VITEX S.A.\n",
      "ACRYLAN UNCO eco\n",
      "Wall Primers\n",
      "ACRYLAN UNCO eco\n",
      "IACG-385-02-05-2021\n",
      "https://www.vitex.gr/en/\n"
     ]
    },
    {
     "name": "stderr",
     "output_type": "stream",
     "text": [
      "C:\\Users\\USER\\AppData\\Local\\Temp\\ipykernel_35348\\2064196938.py:79: FutureWarning: The frame.append method is deprecated and will be removed from pandas in a future version. Use pandas.concat instead.\n",
      "  gc = gc.append(Dic, ignore_index=True)\n"
     ]
    },
    {
     "name": "stdout",
     "output_type": "stream",
     "text": [
      "VITEX S.A.\n",
      "VITEX with VAIRO\n",
      "Wall Paints\n",
      "VITEX with VAIRO White and all deliverable shades using VITEX COLORANTS and VITEX with VAIRO BASE WHITE, MEDIUM and TRANSPARENT\n",
      "IACG-385-02-06-2021\n",
      "https://www.vitex.gr/en/\n"
     ]
    },
    {
     "name": "stderr",
     "output_type": "stream",
     "text": [
      "C:\\Users\\USER\\AppData\\Local\\Temp\\ipykernel_35348\\2064196938.py:79: FutureWarning: The frame.append method is deprecated and will be removed from pandas in a future version. Use pandas.concat instead.\n",
      "  gc = gc.append(Dic, ignore_index=True)\n"
     ]
    },
    {
     "name": "stdout",
     "output_type": "stream",
     "text": [
      "VITEX S.A.\n",
      "GRIP 360 PRIMER\n",
      "Primers\n",
      "White which could be tinted as well to some deliverable shades using VITEX COLORANTS\n",
      "IACG-385-02-07-2021B\n",
      "https://www.vitex.gr/en/\n"
     ]
    },
    {
     "name": "stderr",
     "output_type": "stream",
     "text": [
      "C:\\Users\\USER\\AppData\\Local\\Temp\\ipykernel_35348\\2064196938.py:79: FutureWarning: The frame.append method is deprecated and will be removed from pandas in a future version. Use pandas.concat instead.\n",
      "  gc = gc.append(Dic, ignore_index=True)\n"
     ]
    },
    {
     "name": "stdout",
     "output_type": "stream",
     "text": [
      "VITEX S.A.\n",
      "VELATURA eco\n",
      "Primers\n",
      "White which could be tinted as well to some deliverable shades using VITEX COLORANTS\n",
      "IACG-385-02-08-2021\n",
      "https://www.vitex.gr/en/\n"
     ]
    },
    {
     "name": "stderr",
     "output_type": "stream",
     "text": [
      "C:\\Users\\USER\\AppData\\Local\\Temp\\ipykernel_35348\\2064196938.py:79: FutureWarning: The frame.append method is deprecated and will be removed from pandas in a future version. Use pandas.concat instead.\n",
      "  gc = gc.append(Dic, ignore_index=True)\n"
     ]
    },
    {
     "name": "stdout",
     "output_type": "stream",
     "text": [
      "VITEX S.A.\n",
      "AQUAVIT eco\n",
      "Paints\n",
      "AQUAVIT eco White and all deliverable shades using VITEX COLORANTS and AQUAVIT eco BASE WHITE and TRANSPARENT. Available in Gloss, Satin and Matt finish.\n",
      "IACG-385-02-09-2021\n",
      "https://www.vitex.gr/en/\n"
     ]
    },
    {
     "name": "stderr",
     "output_type": "stream",
     "text": [
      "C:\\Users\\USER\\AppData\\Local\\Temp\\ipykernel_35348\\2064196938.py:79: FutureWarning: The frame.append method is deprecated and will be removed from pandas in a future version. Use pandas.concat instead.\n",
      "  gc = gc.append(Dic, ignore_index=True)\n"
     ]
    },
    {
     "name": "stdout",
     "output_type": "stream",
     "text": [
      "Vivafloors BV\n",
      "Dry back / Herringbone\n",
      "Resilient Flooring\n",
      "L1610, L1620, L1630, L1640, L1710, L1720, L1730, L1740, L1750, L1810, L1820, L1830, L1840, L1850, L1910, L1920, L1930, L1940, L4202, L4203, L4204, L4205, L4302, L4303, L4510, L4520, L4530, L4540, L5100, L5200, L5300, L5500, L5600, L5700, L5800, L6501, L6504, L6810, L6820, L6830, L6840, L6850, L6860, L6870, L6880, L6910, L6920, L7810, L7820, L7830, L7840, L7850, L7860, LV7810, LV7850, LV7860, L8140, L8150, L8300, L8340, L8360, L8700, LV1910, LV1920, LV4530, LV4540, LV6810, LV6840, LV6850, LV6880, LV6930, LV8140, LV8360.\n",
      "IACG-397-01-01-2021B\n",
      "https://www.vivafloors.nl/\n"
     ]
    },
    {
     "name": "stderr",
     "output_type": "stream",
     "text": [
      "C:\\Users\\USER\\AppData\\Local\\Temp\\ipykernel_35348\\2064196938.py:79: FutureWarning: The frame.append method is deprecated and will be removed from pandas in a future version. Use pandas.concat instead.\n",
      "  gc = gc.append(Dic, ignore_index=True)\n"
     ]
    },
    {
     "name": "stdout",
     "output_type": "stream",
     "text": [
      "12\n",
      "Vivafloors BV\n",
      "Click-SPC\n",
      "Resilient Flooring\n",
      "C1610, C1620, C1630, C1640, C1710, C1720, C1730, C1740, C1750, C1810, C1820, C1830, C1840, C1850, C1910, C1920, C1930, C1940, C5001, C5002, C5003, C5004; C6910, C6920, CV6810, CV8360.\n",
      "IACG-397-01-02-2022\n",
      "https://www.vivafloors.nl/\n"
     ]
    },
    {
     "name": "stderr",
     "output_type": "stream",
     "text": [
      "C:\\Users\\USER\\AppData\\Local\\Temp\\ipykernel_35348\\2064196938.py:79: FutureWarning: The frame.append method is deprecated and will be removed from pandas in a future version. Use pandas.concat instead.\n",
      "  gc = gc.append(Dic, ignore_index=True)\n"
     ]
    },
    {
     "name": "stdout",
     "output_type": "stream",
     "text": [
      "Vivafloors BV\n",
      "Click-WPC\n",
      "Resilient Flooring\n",
      "C4202, C4203, C4204, C4205, C4302, C4303, C4510, C4520, C4530, C4540, C6501, C6504, C6810, C6820, C6830, C6840, C6850, C6860, C6870, C6880, C7810, C7820, C7830, C7840, C7850, C7860, C8140, C8150, C8300, C8340, C8360, C8700.\n",
      "IACG-397-01-03-2021B\n",
      "https://www.vivafloors.nl/\n"
     ]
    },
    {
     "name": "stderr",
     "output_type": "stream",
     "text": [
      "C:\\Users\\USER\\AppData\\Local\\Temp\\ipykernel_35348\\2064196938.py:79: FutureWarning: The frame.append method is deprecated and will be removed from pandas in a future version. Use pandas.concat instead.\n",
      "  gc = gc.append(Dic, ignore_index=True)\n"
     ]
    },
    {
     "name": "stdout",
     "output_type": "stream",
     "text": [
      "W. & L. Jordan GmbH\n",
      "Joka Designböden Klebe\n",
      "Resilient Flooring\n",
      "Joka Designböden Klebe\n",
      "IACG-71-02-01-2020\n",
      "https://www.joka.de/\n"
     ]
    },
    {
     "name": "stderr",
     "output_type": "stream",
     "text": [
      "C:\\Users\\USER\\AppData\\Local\\Temp\\ipykernel_35348\\2064196938.py:79: FutureWarning: The frame.append method is deprecated and will be removed from pandas in a future version. Use pandas.concat instead.\n",
      "  gc = gc.append(Dic, ignore_index=True)\n"
     ]
    },
    {
     "name": "stdout",
     "output_type": "stream",
     "text": [
      "W. & L. Jordan GmbH\n",
      "Joka Designböden Click\n",
      "Resilient Flooring\n",
      "Joka Designböden Click\n",
      "IACG-71-02-02-2020\n",
      "https://www.joka.de/\n"
     ]
    },
    {
     "name": "stderr",
     "output_type": "stream",
     "text": [
      "C:\\Users\\USER\\AppData\\Local\\Temp\\ipykernel_35348\\2064196938.py:79: FutureWarning: The frame.append method is deprecated and will be removed from pandas in a future version. Use pandas.concat instead.\n",
      "  gc = gc.append(Dic, ignore_index=True)\n"
     ]
    },
    {
     "name": "stdout",
     "output_type": "stream",
     "text": [
      "W. & L. Jordan GmbH\n",
      "Designböden 734 Sinero\n",
      "Resilient Flooring\n",
      "Designböden 734 Sinero\n",
      "IACG-71-02-04-2020\n",
      "None\n"
     ]
    },
    {
     "name": "stderr",
     "output_type": "stream",
     "text": [
      "C:\\Users\\USER\\AppData\\Local\\Temp\\ipykernel_35348\\2064196938.py:79: FutureWarning: The frame.append method is deprecated and will be removed from pandas in a future version. Use pandas.concat instead.\n",
      "  gc = gc.append(Dic, ignore_index=True)\n"
     ]
    },
    {
     "name": "stdout",
     "output_type": "stream",
     "text": [
      "W. & L. Jordan GmbH\n",
      "Designböden 40 - Click mit IXPE\n",
      "Resilient Flooring\n",
      "Designböden 40 - Click mit IXPE\n",
      "IACG-71-02-05-2020\n",
      "https://www.joka.de/\n"
     ]
    },
    {
     "name": "stderr",
     "output_type": "stream",
     "text": [
      "C:\\Users\\USER\\AppData\\Local\\Temp\\ipykernel_35348\\2064196938.py:79: FutureWarning: The frame.append method is deprecated and will be removed from pandas in a future version. Use pandas.concat instead.\n",
      "  gc = gc.append(Dic, ignore_index=True)\n"
     ]
    },
    {
     "name": "stdout",
     "output_type": "stream",
     "text": [
      "Zhejiang Hailide Flooring CO., Ltd\n",
      "Dryback/Herringbone\n",
      "Resilient Flooring\n",
      "Dryback/Herringbone\n",
      "IACG-425-01-01-2021\n",
      "http://www.floor.halead.com/\n"
     ]
    },
    {
     "name": "stderr",
     "output_type": "stream",
     "text": [
      "C:\\Users\\USER\\AppData\\Local\\Temp\\ipykernel_35348\\2064196938.py:79: FutureWarning: The frame.append method is deprecated and will be removed from pandas in a future version. Use pandas.concat instead.\n",
      "  gc = gc.append(Dic, ignore_index=True)\n"
     ]
    },
    {
     "name": "stdout",
     "output_type": "stream",
     "text": [
      "Zhejiang Hailide Flooring CO., Ltd\n",
      "CLICK WPC\n",
      "Resilient Flooring\n",
      "CLICK WPC\n",
      "IACG-425-01-02-2021\n",
      "http://www.floor.halead.com/\n"
     ]
    },
    {
     "name": "stderr",
     "output_type": "stream",
     "text": [
      "C:\\Users\\USER\\AppData\\Local\\Temp\\ipykernel_35348\\2064196938.py:79: FutureWarning: The frame.append method is deprecated and will be removed from pandas in a future version. Use pandas.concat instead.\n",
      "  gc = gc.append(Dic, ignore_index=True)\n"
     ]
    },
    {
     "name": "stdout",
     "output_type": "stream",
     "text": [
      "Zhejiang Hailide Flooring CO., Ltd\n",
      "CLICK SPC\n",
      "Resilient Flooring\n",
      "CLICK SPC\n",
      "IACG-425-01-03-2021\n",
      "http://www.floor.halead.com/\n"
     ]
    },
    {
     "name": "stderr",
     "output_type": "stream",
     "text": [
      "C:\\Users\\USER\\AppData\\Local\\Temp\\ipykernel_35348\\2064196938.py:79: FutureWarning: The frame.append method is deprecated and will be removed from pandas in a future version. Use pandas.concat instead.\n",
      "  gc = gc.append(Dic, ignore_index=True)\n"
     ]
    },
    {
     "name": "stdout",
     "output_type": "stream",
     "text": [
      "Zhejiang Kingdom New Material Group Co., Ltd\n",
      "LVT Flooring\n",
      "Resilient Flooring\n",
      "LVT Flooring\n",
      "IACG-373-01-01-2021\n",
      "https://www.kingdomflooring.com.cn/\n"
     ]
    },
    {
     "name": "stderr",
     "output_type": "stream",
     "text": [
      "C:\\Users\\USER\\AppData\\Local\\Temp\\ipykernel_35348\\2064196938.py:79: FutureWarning: The frame.append method is deprecated and will be removed from pandas in a future version. Use pandas.concat instead.\n",
      "  gc = gc.append(Dic, ignore_index=True)\n"
     ]
    },
    {
     "name": "stdout",
     "output_type": "stream",
     "text": [
      "Zhejiang Kingdom New Material Group Co., Ltd\n",
      "SPC Flooring\n",
      "Resilient Flooring\n",
      "SPC Flooring\n",
      "IACG-373-01-02-2021\n",
      "https://www.kingdomflooring.com.cn/\n"
     ]
    },
    {
     "name": "stderr",
     "output_type": "stream",
     "text": [
      "C:\\Users\\USER\\AppData\\Local\\Temp\\ipykernel_35348\\2064196938.py:79: FutureWarning: The frame.append method is deprecated and will be removed from pandas in a future version. Use pandas.concat instead.\n",
      "  gc = gc.append(Dic, ignore_index=True)\n"
     ]
    },
    {
     "name": "stdout",
     "output_type": "stream",
     "text": [
      "Zhejiang Kingdom New Material Group Co., Ltd\n",
      "ESPC Flooring\n",
      "Resilient Flooring\n",
      "ESPC Flooring\n",
      "IACG-373-01-03-2021\n",
      "https://www.kingdomflooring.com.cn/\n"
     ]
    },
    {
     "name": "stderr",
     "output_type": "stream",
     "text": [
      "C:\\Users\\USER\\AppData\\Local\\Temp\\ipykernel_35348\\2064196938.py:79: FutureWarning: The frame.append method is deprecated and will be removed from pandas in a future version. Use pandas.concat instead.\n",
      "  gc = gc.append(Dic, ignore_index=True)\n"
     ]
    }
   ],
   "source": [
    "for j in range(pages):\n",
    "    cc = driver.find_elements(By.CSS_SELECTOR,'#certificates > tbody > tr > td.sorting_1')\n",
    "    cc = len(cc)\n",
    "    print(cc)\n",
    "    aa ='table.dataTable.no-footer > tbody > tr:nth-child('\n",
    "    bb=1\n",
    "    cc2=') > td.sorting_1 > a'\n",
    "    for i in range(cc):\n",
    "        dd = aa+str(bb)+cc2\n",
    "        clk2 = driver.find_element(By.CSS_SELECTOR, dd)\n",
    "        driver.execute_script(\"arguments[0].click();\", clk2)\n",
    "        time.sleep(4)\n",
    "        k = 1\n",
    "        gg = driver.find_elements(By.CSS_SELECTOR,'#certificates > tbody > tr > td.sorting_1 > a')\n",
    "        gg = gg[i].get_attribute('href')\n",
    "        \n",
    "        pp = 'https://www.eurofins.com/consumer-product-testing/industries/construction-building/indoor-air-comfort/list-of-certified-products/'\n",
    "        tt = gg.replace(pp,\"\")\n",
    "        tt\n",
    "\n",
    "        for n in range(6):\n",
    "            y=str(k)\n",
    "            nn = ' > table > tbody > tr:nth-child('\n",
    "            uu = ') > td:nth-child(2)'\n",
    "            hh = tt+nn+y+uu\n",
    "            if k==1:\n",
    "                try:\n",
    "                    manuf = driver.find_element(By.CSS_SELECTOR,hh)\n",
    "                    manuf = manuf.text\n",
    "                except:\n",
    "                    manuf = 'None'\n",
    "                print(manuf)\n",
    "            elif k==2:\n",
    "                try:\n",
    "                    pgr = driver.find_element(By.CSS_SELECTOR,hh)\n",
    "                    pgr = pgr.text\n",
    "                except:\n",
    "                    pgr = 'None'\n",
    "                print(pgr)\n",
    "            elif k==3:\n",
    "                try:\n",
    "                    ptyp = driver.find_element(By.CSS_SELECTOR,hh)\n",
    "                    ptyp = ptyp.text\n",
    "                except:\n",
    "                    ptyp = 'None'\n",
    "                print(ptyp)\n",
    "            elif k==4:\n",
    "                try:\n",
    "                    spro = driver.find_element(By.CSS_SELECTOR,hh)\n",
    "                    spro = spro.text\n",
    "                except:\n",
    "                    spro = 'None'\n",
    "                print(spro)\n",
    "            elif k==5:\n",
    "                try:\n",
    "                    lcer = driver.find_element(By.CSS_SELECTOR,hh)\n",
    "                    lcer = lcer.text\n",
    "                except:\n",
    "                    lcer = 'None'\n",
    "                print(lcer) \n",
    "            else:\n",
    "                try:\n",
    "                    k=6\n",
    "                    y=str(k)\n",
    "                    nuu = ') > td:nth-child(2) > a'\n",
    "                    hh = tt+nn+y+nuu\n",
    "                    try:\n",
    "                        web = driver.find_element(By.CSS_SELECTOR,hh)\n",
    "                        web = web.get_attribute('href')\n",
    "                    except:\n",
    "                        web = 'None'\n",
    "                except:\n",
    "                    web = 'None'\n",
    "                print(web)\n",
    "            k = k+1\n",
    "            time.sleep(1)\n",
    "        Dic = {'Manufacturer':manuf,'Product Group':pgr,'Product Type':ptyp,\n",
    "                   'Single Products':spro,'Latest Certificate':lcer,'Manufacturer Homepage':web}\n",
    "        gc = gc.append(Dic, ignore_index=True)\n",
    "        time.sleep(2)\n",
    "        clk2 = driver.find_element(By.CSS_SELECTOR, dd)\n",
    "        driver.execute_script(\"arguments[0].click();\", clk2)\n",
    "        time.sleep(2)\n",
    "        bb = bb+1\n",
    "    clk5 = driver.find_element(By.CSS_SELECTOR,'#certificates_wrapper > div.dataTables_paginate.paging_simple_numbers > a.paginate_button.next')\n",
    "    driver.execute_script(\"arguments[0].click();\", clk5)\n",
    "    time.sleep(4)\n",
    "        "
   ]
  },
  {
   "cell_type": "code",
   "execution_count": 7,
   "id": "a7bacdb8",
   "metadata": {},
   "outputs": [
    {
     "data": {
      "text/html": [
       "<div>\n",
       "<style scoped>\n",
       "    .dataframe tbody tr th:only-of-type {\n",
       "        vertical-align: middle;\n",
       "    }\n",
       "\n",
       "    .dataframe tbody tr th {\n",
       "        vertical-align: top;\n",
       "    }\n",
       "\n",
       "    .dataframe thead th {\n",
       "        text-align: right;\n",
       "    }\n",
       "</style>\n",
       "<table border=\"1\" class=\"dataframe\">\n",
       "  <thead>\n",
       "    <tr style=\"text-align: right;\">\n",
       "      <th></th>\n",
       "      <th>Manufacturer</th>\n",
       "      <th>Product Group</th>\n",
       "      <th>Product Type</th>\n",
       "      <th>Single Products</th>\n",
       "      <th>Latest Certificate</th>\n",
       "      <th>Manufacturer Homepage</th>\n",
       "    </tr>\n",
       "  </thead>\n",
       "  <tbody>\n",
       "    <tr>\n",
       "      <th>0</th>\n",
       "      <td>NaN</td>\n",
       "      <td>NaN</td>\n",
       "      <td>NaN</td>\n",
       "      <td>NaN</td>\n",
       "      <td>NaN</td>\n",
       "      <td>NaN</td>\n",
       "    </tr>\n",
       "    <tr>\n",
       "      <th>1</th>\n",
       "      <td>Akzo Nobel Paints (Shanghai) Ltd.</td>\n",
       "      <td>Dulux Forest Breath Pure Eco-sense Series</td>\n",
       "      <td>Wall Paints</td>\n",
       "      <td>Dulux Forest Breath (Supreme) Pure Eco-sense B...</td>\n",
       "      <td>IACG-371-01-01-2021B</td>\n",
       "      <td>https://www.dulux.com.hk/</td>\n",
       "    </tr>\n",
       "    <tr>\n",
       "      <th>2</th>\n",
       "      <td>Altro</td>\n",
       "      <td>KOMPAKT</td>\n",
       "      <td>Resilient Flooring</td>\n",
       "      <td>Altro Operetta™ , Altro Transflor Wood™, Altro...</td>\n",
       "      <td>IACG-24-22-01-2021</td>\n",
       "      <td>http://www.altrodebolon.de/</td>\n",
       "    </tr>\n",
       "    <tr>\n",
       "      <th>3</th>\n",
       "      <td>Altro</td>\n",
       "      <td>AKUSTIK</td>\n",
       "      <td>Resilient Flooring</td>\n",
       "      <td>Altro Cantata™ adhesive-free, Altro Ensemble™,...</td>\n",
       "      <td>IACG-24-23-01-2021</td>\n",
       "      <td>http://www.altrodebolon.de/</td>\n",
       "    </tr>\n",
       "    <tr>\n",
       "      <th>4</th>\n",
       "      <td>Amtico International</td>\n",
       "      <td>Amtico Spacia, Amtico Form, Amtico Signature</td>\n",
       "      <td>Resilient Flooring</td>\n",
       "      <td>Amtico Spacia, Amtico Form, Amtico Signature</td>\n",
       "      <td>IACG-352-01-01-2020</td>\n",
       "      <td>https://www.amtico.com/</td>\n",
       "    </tr>\n",
       "    <tr>\n",
       "      <th>...</th>\n",
       "      <td>...</td>\n",
       "      <td>...</td>\n",
       "      <td>...</td>\n",
       "      <td>...</td>\n",
       "      <td>...</td>\n",
       "      <td>...</td>\n",
       "    </tr>\n",
       "    <tr>\n",
       "      <th>483</th>\n",
       "      <td>Zhejiang Hailide Flooring CO., Ltd</td>\n",
       "      <td>CLICK WPC</td>\n",
       "      <td>Resilient Flooring</td>\n",
       "      <td>CLICK WPC</td>\n",
       "      <td>IACG-425-01-02-2021</td>\n",
       "      <td>http://www.floor.halead.com/</td>\n",
       "    </tr>\n",
       "    <tr>\n",
       "      <th>484</th>\n",
       "      <td>Zhejiang Hailide Flooring CO., Ltd</td>\n",
       "      <td>CLICK SPC</td>\n",
       "      <td>Resilient Flooring</td>\n",
       "      <td>CLICK SPC</td>\n",
       "      <td>IACG-425-01-03-2021</td>\n",
       "      <td>http://www.floor.halead.com/</td>\n",
       "    </tr>\n",
       "    <tr>\n",
       "      <th>485</th>\n",
       "      <td>Zhejiang Kingdom New Material Group Co., Ltd</td>\n",
       "      <td>LVT Flooring</td>\n",
       "      <td>Resilient Flooring</td>\n",
       "      <td>LVT Flooring</td>\n",
       "      <td>IACG-373-01-01-2021</td>\n",
       "      <td>https://www.kingdomflooring.com.cn/</td>\n",
       "    </tr>\n",
       "    <tr>\n",
       "      <th>486</th>\n",
       "      <td>Zhejiang Kingdom New Material Group Co., Ltd</td>\n",
       "      <td>SPC Flooring</td>\n",
       "      <td>Resilient Flooring</td>\n",
       "      <td>SPC Flooring</td>\n",
       "      <td>IACG-373-01-02-2021</td>\n",
       "      <td>https://www.kingdomflooring.com.cn/</td>\n",
       "    </tr>\n",
       "    <tr>\n",
       "      <th>487</th>\n",
       "      <td>Zhejiang Kingdom New Material Group Co., Ltd</td>\n",
       "      <td>ESPC Flooring</td>\n",
       "      <td>Resilient Flooring</td>\n",
       "      <td>ESPC Flooring</td>\n",
       "      <td>IACG-373-01-03-2021</td>\n",
       "      <td>https://www.kingdomflooring.com.cn/</td>\n",
       "    </tr>\n",
       "  </tbody>\n",
       "</table>\n",
       "<p>488 rows × 6 columns</p>\n",
       "</div>"
      ],
      "text/plain": [
       "                                     Manufacturer  \\\n",
       "0                                             NaN   \n",
       "1               Akzo Nobel Paints (Shanghai) Ltd.   \n",
       "2                                           Altro   \n",
       "3                                           Altro   \n",
       "4                            Amtico International   \n",
       "..                                            ...   \n",
       "483            Zhejiang Hailide Flooring CO., Ltd   \n",
       "484            Zhejiang Hailide Flooring CO., Ltd   \n",
       "485  Zhejiang Kingdom New Material Group Co., Ltd   \n",
       "486  Zhejiang Kingdom New Material Group Co., Ltd   \n",
       "487  Zhejiang Kingdom New Material Group Co., Ltd   \n",
       "\n",
       "                                    Product Group        Product Type  \\\n",
       "0                                             NaN                 NaN   \n",
       "1       Dulux Forest Breath Pure Eco-sense Series         Wall Paints   \n",
       "2                                         KOMPAKT  Resilient Flooring   \n",
       "3                                         AKUSTIK  Resilient Flooring   \n",
       "4    Amtico Spacia, Amtico Form, Amtico Signature  Resilient Flooring   \n",
       "..                                            ...                 ...   \n",
       "483                                     CLICK WPC  Resilient Flooring   \n",
       "484                                     CLICK SPC  Resilient Flooring   \n",
       "485                                  LVT Flooring  Resilient Flooring   \n",
       "486                                  SPC Flooring  Resilient Flooring   \n",
       "487                                 ESPC Flooring  Resilient Flooring   \n",
       "\n",
       "                                       Single Products    Latest Certificate  \\\n",
       "0                                                  NaN                   NaN   \n",
       "1    Dulux Forest Breath (Supreme) Pure Eco-sense B...  IACG-371-01-01-2021B   \n",
       "2    Altro Operetta™ , Altro Transflor Wood™, Altro...    IACG-24-22-01-2021   \n",
       "3    Altro Cantata™ adhesive-free, Altro Ensemble™,...    IACG-24-23-01-2021   \n",
       "4         Amtico Spacia, Amtico Form, Amtico Signature   IACG-352-01-01-2020   \n",
       "..                                                 ...                   ...   \n",
       "483                                          CLICK WPC   IACG-425-01-02-2021   \n",
       "484                                          CLICK SPC   IACG-425-01-03-2021   \n",
       "485                                       LVT Flooring   IACG-373-01-01-2021   \n",
       "486                                       SPC Flooring   IACG-373-01-02-2021   \n",
       "487                                      ESPC Flooring   IACG-373-01-03-2021   \n",
       "\n",
       "                   Manufacturer Homepage  \n",
       "0                                    NaN  \n",
       "1              https://www.dulux.com.hk/  \n",
       "2            http://www.altrodebolon.de/  \n",
       "3            http://www.altrodebolon.de/  \n",
       "4                https://www.amtico.com/  \n",
       "..                                   ...  \n",
       "483         http://www.floor.halead.com/  \n",
       "484         http://www.floor.halead.com/  \n",
       "485  https://www.kingdomflooring.com.cn/  \n",
       "486  https://www.kingdomflooring.com.cn/  \n",
       "487  https://www.kingdomflooring.com.cn/  \n",
       "\n",
       "[488 rows x 6 columns]"
      ]
     },
     "execution_count": 7,
     "metadata": {},
     "output_type": "execute_result"
    }
   ],
   "source": [
    "gc"
   ]
  },
  {
   "cell_type": "code",
   "execution_count": 8,
   "id": "a8e791b1",
   "metadata": {},
   "outputs": [],
   "source": [
    "gc.to_excel('eurofins.xlsx')"
   ]
  },
  {
   "cell_type": "code",
   "execution_count": null,
   "id": "ceb407bc",
   "metadata": {},
   "outputs": [],
   "source": []
  }
 ],
 "metadata": {
  "kernelspec": {
   "display_name": "Python 3 (ipykernel)",
   "language": "python",
   "name": "python3"
  },
  "language_info": {
   "codemirror_mode": {
    "name": "ipython",
    "version": 3
   },
   "file_extension": ".py",
   "mimetype": "text/x-python",
   "name": "python",
   "nbconvert_exporter": "python",
   "pygments_lexer": "ipython3",
   "version": "3.9.12"
  }
 },
 "nbformat": 4,
 "nbformat_minor": 5
}
