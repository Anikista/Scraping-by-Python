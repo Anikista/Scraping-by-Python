{
 "cells": [
  {
   "cell_type": "code",
   "execution_count": 1,
   "id": "3229f0d5",
   "metadata": {},
   "outputs": [
    {
     "name": "stdout",
     "output_type": "stream",
     "text": [
      "\n"
     ]
    },
    {
     "name": "stderr",
     "output_type": "stream",
     "text": [
      "[WDM] - ====== WebDriver manager ======\n",
      "[WDM] - Current google-chrome version is 103.0.5060\n",
      "[WDM] - Get LATEST chromedriver version for 103.0.5060 google-chrome\n",
      "[WDM] - Driver [C:\\Users\\USER\\.wdm\\drivers\\chromedriver\\win32\\103.0.5060.53\\chromedriver.exe] found in cache\n",
      "C:\\Users\\USER\\AppData\\Local\\Temp\\ipykernel_3584\\3088977505.py:19: DeprecationWarning: executable_path has been deprecated, please pass in a Service object\n",
      "  driver = webdriver.Chrome(ChromeDriverManager().install())\n"
     ]
    }
   ],
   "source": [
    "import selenium                                                \n",
    "import pandas as pd \n",
    "import re\n",
    "from selenium import webdriver\n",
    "from selenium.common.exceptions import NoSuchElementException\n",
    "from selenium.common.exceptions import TimeoutException\n",
    "from selenium.webdriver.support import expected_conditions as EC\n",
    "from selenium.webdriver.support.ui import WebDriverWait\n",
    "from selenium.webdriver.common.by import By\n",
    "from selenium.webdriver.support import expected_conditions as EC\n",
    "from selenium.webdriver.chrome.options import Options\n",
    "import time\n",
    "from selenium.webdriver.common.action_chains import ActionChains\n",
    "import string\n",
    "import os, platform\n",
    "import requests\n",
    "from bs4 import BeautifulSoup\n",
    "from webdriver_manager.chrome import ChromeDriverManager      \n",
    "driver = webdriver.Chrome(ChromeDriverManager().install())\n",
    "#driver = webdriver.Chrome(executable_path='/Users/User/Upwork Project/PlanetX/chromedriver')\n",
    "driver.maximize_window()"
   ]
  },
  {
   "cell_type": "code",
   "execution_count": 2,
   "id": "690696f0",
   "metadata": {},
   "outputs": [],
   "source": [
    "url = 'https://www.greencouncil.org/hkgls4?page=3'\n",
    "driver.get(url)"
   ]
  },
  {
   "cell_type": "code",
   "execution_count": 3,
   "id": "1c7e31c1",
   "metadata": {},
   "outputs": [
    {
     "data": {
      "text/html": [
       "<div>\n",
       "<style scoped>\n",
       "    .dataframe tbody tr th:only-of-type {\n",
       "        vertical-align: middle;\n",
       "    }\n",
       "\n",
       "    .dataframe tbody tr th {\n",
       "        vertical-align: top;\n",
       "    }\n",
       "\n",
       "    .dataframe thead th {\n",
       "        text-align: right;\n",
       "    }\n",
       "</style>\n",
       "<table border=\"1\" class=\"dataframe\">\n",
       "  <thead>\n",
       "    <tr style=\"text-align: right;\">\n",
       "      <th></th>\n",
       "      <th>Product Name</th>\n",
       "      <th>Company Name</th>\n",
       "      <th>Product Category</th>\n",
       "      <th>HKGLS Code</th>\n",
       "      <th>Website</th>\n",
       "      <th>Telphone</th>\n",
       "      <th>Certification No</th>\n",
       "    </tr>\n",
       "  </thead>\n",
       "  <tbody>\n",
       "    <tr>\n",
       "      <th>0</th>\n",
       "      <td>NaN</td>\n",
       "      <td>NaN</td>\n",
       "      <td>NaN</td>\n",
       "      <td>NaN</td>\n",
       "      <td>NaN</td>\n",
       "      <td>NaN</td>\n",
       "      <td>NaN</td>\n",
       "    </tr>\n",
       "  </tbody>\n",
       "</table>\n",
       "</div>"
      ],
      "text/plain": [
       "  Product Name Company Name Product Category HKGLS Code Website Telphone  \\\n",
       "0          NaN          NaN              NaN        NaN     NaN      NaN   \n",
       "\n",
       "  Certification No  \n",
       "0              NaN  "
      ]
     },
     "execution_count": 3,
     "metadata": {},
     "output_type": "execute_result"
    }
   ],
   "source": [
    "Dic = {}\n",
    "gc= pd.DataFrame(data=Dic,index=[0], \n",
    "                columns=['Product Name',\n",
    "                        'Company Name',\n",
    "                         'Product Category',\n",
    "                        'HKGLS Code',\n",
    "                        'Website',\n",
    "                        'Telphone',\n",
    "                        'Certification No'])\n",
    "gc"
   ]
  },
  {
   "cell_type": "code",
   "execution_count": 4,
   "id": "7a701845",
   "metadata": {},
   "outputs": [
    {
     "name": "stdout",
     "output_type": "stream",
     "text": [
      "Inorganic Health Coating\n",
      "BEYURIA International Company Limited\n",
      "Paint\n",
      "GL-008-010\n",
      "None\n",
      "68028401\n",
      "Certification No.: HK-02289\n"
     ]
    },
    {
     "name": "stderr",
     "output_type": "stream",
     "text": [
      "C:\\Users\\USER\\AppData\\Local\\Temp\\ipykernel_3584\\4171891781.py:57: FutureWarning: The frame.append method is deprecated and will be removed from pandas in a future version. Use pandas.concat instead.\n",
      "  gc = gc.append(Dic, ignore_index=True)\n"
     ]
    },
    {
     "name": "stdout",
     "output_type": "stream",
     "text": [
      "Aqua Magic Under\n",
      "Kansai Paint Co., Ltd\n",
      "Paint\n",
      "GL-008-010\n",
      "http://www.kansai.com.hk/\n",
      "28911085\n",
      "Certification No.: HK-02293\n"
     ]
    },
    {
     "name": "stderr",
     "output_type": "stream",
     "text": [
      "C:\\Users\\USER\\AppData\\Local\\Temp\\ipykernel_3584\\4171891781.py:57: FutureWarning: The frame.append method is deprecated and will be removed from pandas in a future version. Use pandas.concat instead.\n",
      "  gc = gc.append(Dic, ignore_index=True)\n"
     ]
    },
    {
     "name": "stdout",
     "output_type": "stream",
     "text": [
      "Ales Texcoat\n",
      "Kansai Paint Co., Ltd\n",
      "Paint\n",
      "GL-008-010\n",
      "http://www.kansai.com.hk/\n",
      "28911085\n",
      "Certification No.: HK-02294\n"
     ]
    },
    {
     "name": "stderr",
     "output_type": "stream",
     "text": [
      "C:\\Users\\USER\\AppData\\Local\\Temp\\ipykernel_3584\\4171891781.py:57: FutureWarning: The frame.append method is deprecated and will be removed from pandas in a future version. Use pandas.concat instead.\n",
      "  gc = gc.append(Dic, ignore_index=True)\n"
     ]
    },
    {
     "name": "stdout",
     "output_type": "stream",
     "text": [
      "Decora Pallet H\n",
      "Kansai Paint Co., Ltd\n",
      "Paint\n",
      "GL-008-010\n",
      "http://www.kansai.com.hk/\n",
      "28911085\n",
      "Certification No.: HK-02295\n"
     ]
    },
    {
     "name": "stderr",
     "output_type": "stream",
     "text": [
      "C:\\Users\\USER\\AppData\\Local\\Temp\\ipykernel_3584\\4171891781.py:57: FutureWarning: The frame.append method is deprecated and will be removed from pandas in a future version. Use pandas.concat instead.\n",
      "  gc = gc.append(Dic, ignore_index=True)\n"
     ]
    },
    {
     "name": "stdout",
     "output_type": "stream",
     "text": [
      "Ales Retan W\n",
      "Kansai Paint Co., Ltd\n",
      "Paint\n",
      "GL-008-010\n",
      "http://www.kansai.com.hk/\n",
      "28911085\n",
      "Certification No.: HK-02296\n"
     ]
    },
    {
     "name": "stderr",
     "output_type": "stream",
     "text": [
      "C:\\Users\\USER\\AppData\\Local\\Temp\\ipykernel_3584\\4171891781.py:57: FutureWarning: The frame.append method is deprecated and will be removed from pandas in a future version. Use pandas.concat instead.\n",
      "  gc = gc.append(Dic, ignore_index=True)\n"
     ]
    },
    {
     "name": "stdout",
     "output_type": "stream",
     "text": [
      "Ales Shiquy\n",
      "Kansai Paint Co., Ltd\n",
      "Paint\n",
      "GL-008-010\n",
      "http://www.kansai.com.hk/\n",
      "28911085\n",
      "Certification No.: HK-02297\n"
     ]
    },
    {
     "name": "stderr",
     "output_type": "stream",
     "text": [
      "C:\\Users\\USER\\AppData\\Local\\Temp\\ipykernel_3584\\4171891781.py:57: FutureWarning: The frame.append method is deprecated and will be removed from pandas in a future version. Use pandas.concat instead.\n",
      "  gc = gc.append(Dic, ignore_index=True)\n"
     ]
    },
    {
     "name": "stdout",
     "output_type": "stream",
     "text": [
      "VinyDeluxe 555\n",
      "Kansai Paint Co., Ltd\n",
      "Paint\n",
      "GL-008-010\n",
      "http://www.kansai.com.hk/\n",
      "28911085\n",
      "Certification No.: HK-02298\n"
     ]
    },
    {
     "name": "stderr",
     "output_type": "stream",
     "text": [
      "C:\\Users\\USER\\AppData\\Local\\Temp\\ipykernel_3584\\4171891781.py:57: FutureWarning: The frame.append method is deprecated and will be removed from pandas in a future version. Use pandas.concat instead.\n",
      "  gc = gc.append(Dic, ignore_index=True)\n"
     ]
    },
    {
     "name": "stdout",
     "output_type": "stream",
     "text": [
      "Ales Acrylic W\n",
      "Kansai Paint Co., Ltd\n",
      "Paint\n",
      "GL-008-010\n",
      "http://www.kansai.com.hk/\n",
      "28911085\n",
      "Certification No.: HK-02299\n"
     ]
    },
    {
     "name": "stderr",
     "output_type": "stream",
     "text": [
      "C:\\Users\\USER\\AppData\\Local\\Temp\\ipykernel_3584\\4171891781.py:57: FutureWarning: The frame.append method is deprecated and will be removed from pandas in a future version. Use pandas.concat instead.\n",
      "  gc = gc.append(Dic, ignore_index=True)\n"
     ]
    },
    {
     "name": "stdout",
     "output_type": "stream",
     "text": [
      "Ales Eco Acrylic (for outdoor application only)\n",
      "Kansai Paint Co., Ltd\n",
      "Paint\n",
      "GL-008-010\n",
      "http://www.kansai.com.hk/\n",
      "28911085\n",
      "Certification No.: HK-02300\n"
     ]
    },
    {
     "name": "stderr",
     "output_type": "stream",
     "text": [
      "C:\\Users\\USER\\AppData\\Local\\Temp\\ipykernel_3584\\4171891781.py:57: FutureWarning: The frame.append method is deprecated and will be removed from pandas in a future version. Use pandas.concat instead.\n",
      "  gc = gc.append(Dic, ignore_index=True)\n"
     ]
    },
    {
     "name": "stdout",
     "output_type": "stream",
     "text": [
      "Ales Eco U\n",
      "Kansai Paint Co., Ltd\n",
      "Paint\n",
      "GL-008-010\n",
      "http://www.kansai.com.hk/\n",
      "28911085\n",
      "Certification No.: HK-02301\n"
     ]
    },
    {
     "name": "stderr",
     "output_type": "stream",
     "text": [
      "C:\\Users\\USER\\AppData\\Local\\Temp\\ipykernel_3584\\4171891781.py:57: FutureWarning: The frame.append method is deprecated and will be removed from pandas in a future version. Use pandas.concat instead.\n",
      "  gc = gc.append(Dic, ignore_index=True)\n"
     ]
    },
    {
     "name": "stdout",
     "output_type": "stream",
     "text": [
      "Ales Eco Si (for outdoor application only)\n",
      "Kansai Paint Co., Ltd\n",
      "Paint\n",
      "GL-008-010\n",
      "http://www.kansai.com.hk/\n",
      "28911085\n",
      "Certification No.: HK-02302\n"
     ]
    },
    {
     "name": "stderr",
     "output_type": "stream",
     "text": [
      "C:\\Users\\USER\\AppData\\Local\\Temp\\ipykernel_3584\\4171891781.py:57: FutureWarning: The frame.append method is deprecated and will be removed from pandas in a future version. Use pandas.concat instead.\n",
      "  gc = gc.append(Dic, ignore_index=True)\n"
     ]
    },
    {
     "name": "stdout",
     "output_type": "stream",
     "text": [
      "Aqua Crystal Clear (for outdoor application only)\n",
      "Kansai Paint Co., Ltd\n",
      "Paint\n",
      "GL-008-010\n",
      "http://www.kansai.com.hk/\n",
      "28911085\n",
      "Certification No.: HK-02303\n"
     ]
    },
    {
     "name": "stderr",
     "output_type": "stream",
     "text": [
      "C:\\Users\\USER\\AppData\\Local\\Temp\\ipykernel_3584\\4171891781.py:57: FutureWarning: The frame.append method is deprecated and will be removed from pandas in a future version. Use pandas.concat instead.\n",
      "  gc = gc.append(Dic, ignore_index=True)\n"
     ]
    },
    {
     "name": "stdout",
     "output_type": "stream",
     "text": [
      "High Presssure Decorative Laminates\n",
      "DM Lebensstil Limited\n",
      "Fibre Reinforced Home Décor Product\n",
      "GL-008-006\n",
      "http://www.dmleben.com/\n",
      "39983747\n",
      "Certification No.: HK-02197\n"
     ]
    },
    {
     "name": "stderr",
     "output_type": "stream",
     "text": [
      "C:\\Users\\USER\\AppData\\Local\\Temp\\ipykernel_3584\\4171891781.py:57: FutureWarning: The frame.append method is deprecated and will be removed from pandas in a future version. Use pandas.concat instead.\n",
      "  gc = gc.append(Dic, ignore_index=True)\n"
     ]
    },
    {
     "name": "stdout",
     "output_type": "stream",
     "text": [
      "GRANI QUEEN\n",
      "SKK (HK) Co. Ltd.\n",
      "Paint\n",
      "GL-008-010\n",
      "http://www.skkhk.com.hk/\n",
      "25293968\n",
      "Certification No.: HK-02292\n"
     ]
    },
    {
     "name": "stderr",
     "output_type": "stream",
     "text": [
      "C:\\Users\\USER\\AppData\\Local\\Temp\\ipykernel_3584\\4171891781.py:57: FutureWarning: The frame.append method is deprecated and will be removed from pandas in a future version. Use pandas.concat instead.\n",
      "  gc = gc.append(Dic, ignore_index=True)\n"
     ]
    },
    {
     "name": "stdout",
     "output_type": "stream",
     "text": [
      "SK SILICON CLEAR W (for outdoor application only)\n",
      "SKK (HK) Co. Ltd.\n",
      "Paint\n",
      "GL-008-010\n",
      "http://www.skkhk.com.hk/\n",
      "25293968\n",
      "Certification No.: HK-02291\n"
     ]
    },
    {
     "name": "stderr",
     "output_type": "stream",
     "text": [
      "C:\\Users\\USER\\AppData\\Local\\Temp\\ipykernel_3584\\4171891781.py:57: FutureWarning: The frame.append method is deprecated and will be removed from pandas in a future version. Use pandas.concat instead.\n",
      "  gc = gc.append(Dic, ignore_index=True)\n"
     ]
    },
    {
     "name": "stdout",
     "output_type": "stream",
     "text": [
      "GRANI QUEEN BASE\n",
      "SKK (HK) Co. Ltd.\n",
      "Paint\n",
      "GL-008-010\n",
      "http://www.skkhk.com.hk/\n",
      "25293968\n",
      "Certification No.: HK-02290\n"
     ]
    },
    {
     "name": "stderr",
     "output_type": "stream",
     "text": [
      "C:\\Users\\USER\\AppData\\Local\\Temp\\ipykernel_3584\\4171891781.py:57: FutureWarning: The frame.append method is deprecated and will be removed from pandas in a future version. Use pandas.concat instead.\n",
      "  gc = gc.append(Dic, ignore_index=True)\n"
     ]
    },
    {
     "name": "stdout",
     "output_type": "stream",
     "text": [
      "AKA 501 Aqua Urethane\n",
      "AKA Coating Company Limited\n",
      "Paint\n",
      "GL-008-010\n",
      "http://www.aka.com.hk/\n",
      "28661982\n",
      "Certification No.: HK-02288\n"
     ]
    },
    {
     "name": "stderr",
     "output_type": "stream",
     "text": [
      "C:\\Users\\USER\\AppData\\Local\\Temp\\ipykernel_3584\\4171891781.py:57: FutureWarning: The frame.append method is deprecated and will be removed from pandas in a future version. Use pandas.concat instead.\n",
      "  gc = gc.append(Dic, ignore_index=True)\n"
     ]
    },
    {
     "name": "stdout",
     "output_type": "stream",
     "text": [
      "PE Oxo-Biodegradable Plastic Packaging Bags\n",
      "SKYPAC Solutions Company Limited\n",
      "Oxo-biodegradable Plastic Products - Non Food / Drink\n",
      "GL-005-010\n",
      "None\n",
      "+86 18859210383\n",
      "Certification No.: HK-02287\n"
     ]
    },
    {
     "name": "stderr",
     "output_type": "stream",
     "text": [
      "C:\\Users\\USER\\AppData\\Local\\Temp\\ipykernel_3584\\4171891781.py:57: FutureWarning: The frame.append method is deprecated and will be removed from pandas in a future version. Use pandas.concat instead.\n",
      "  gc = gc.append(Dic, ignore_index=True)\n"
     ]
    },
    {
     "name": "stdout",
     "output_type": "stream",
     "text": [
      "PP Oxo-Biodegradable Plastic Packaging Films\n",
      "SKYPAC Solutions Company Limited\n",
      "Oxo-biodegradable Plastic Products - Non Food / Drink\n",
      "GL-005-010\n",
      "None\n",
      "+86 18859210383\n",
      "Certification No.: HK-02286\n"
     ]
    },
    {
     "name": "stderr",
     "output_type": "stream",
     "text": [
      "C:\\Users\\USER\\AppData\\Local\\Temp\\ipykernel_3584\\4171891781.py:57: FutureWarning: The frame.append method is deprecated and will be removed from pandas in a future version. Use pandas.concat instead.\n",
      "  gc = gc.append(Dic, ignore_index=True)\n"
     ]
    },
    {
     "name": "stdout",
     "output_type": "stream",
     "text": [
      "Oxo-Biodegradable Plastic Tableware\n",
      "Jafat Company Limited\n",
      "Oxo-biodegradable Plastic Products - Food / Drink\n",
      "GL-005-011\n",
      "http://www.jafat.com/\n",
      "27516103\n",
      "Certification No.: HK-02285\n"
     ]
    },
    {
     "name": "stderr",
     "output_type": "stream",
     "text": [
      "C:\\Users\\USER\\AppData\\Local\\Temp\\ipykernel_3584\\4171891781.py:57: FutureWarning: The frame.append method is deprecated and will be removed from pandas in a future version. Use pandas.concat instead.\n",
      "  gc = gc.append(Dic, ignore_index=True)\n"
     ]
    },
    {
     "name": "stdout",
     "output_type": "stream",
     "text": [
      "Lava Stucco\n",
      "Creativo Design & Contracting Co., Ltd.\n",
      "Paint\n",
      "GL-008-010\n",
      "http://www.creativo-ltd.com/\n",
      "31571898\n",
      "Certification No.: HK-02279\n"
     ]
    },
    {
     "name": "stderr",
     "output_type": "stream",
     "text": [
      "C:\\Users\\USER\\AppData\\Local\\Temp\\ipykernel_3584\\4171891781.py:57: FutureWarning: The frame.append method is deprecated and will be removed from pandas in a future version. Use pandas.concat instead.\n",
      "  gc = gc.append(Dic, ignore_index=True)\n"
     ]
    },
    {
     "name": "stdout",
     "output_type": "stream",
     "text": [
      "Liberty Metallic Paint\n",
      "Creativo Design & Contracting Co., Ltd.\n",
      "Paint\n",
      "GL-008-010\n",
      "http://www.creativo-ltd.com/\n",
      "31571898\n",
      "Certification No.: HK-02280\n"
     ]
    },
    {
     "name": "stderr",
     "output_type": "stream",
     "text": [
      "C:\\Users\\USER\\AppData\\Local\\Temp\\ipykernel_3584\\4171891781.py:57: FutureWarning: The frame.append method is deprecated and will be removed from pandas in a future version. Use pandas.concat instead.\n",
      "  gc = gc.append(Dic, ignore_index=True)\n"
     ]
    },
    {
     "name": "stdout",
     "output_type": "stream",
     "text": [
      "Marmorino Stucco\n",
      "Creativo Design & Contracting Co., Ltd.\n",
      "Paint\n",
      "GL-008-010\n",
      "http://www.creativo-ltd.com/\n",
      "31571898\n",
      "Certification No.: HK-02281\n"
     ]
    },
    {
     "name": "stderr",
     "output_type": "stream",
     "text": [
      "C:\\Users\\USER\\AppData\\Local\\Temp\\ipykernel_3584\\4171891781.py:57: FutureWarning: The frame.append method is deprecated and will be removed from pandas in a future version. Use pandas.concat instead.\n",
      "  gc = gc.append(Dic, ignore_index=True)\n"
     ]
    },
    {
     "name": "stdout",
     "output_type": "stream",
     "text": [
      "LENA EXCELLENT ROLLER\n",
      "SKK (HK) Co. Ltd.\n",
      "Paint\n",
      "GL-008-010\n",
      "http://www.skkhk.com.hk/\n",
      "25293968\n",
      "Certification No.: HK-02284\n"
     ]
    },
    {
     "name": "stderr",
     "output_type": "stream",
     "text": [
      "C:\\Users\\USER\\AppData\\Local\\Temp\\ipykernel_3584\\4171891781.py:57: FutureWarning: The frame.append method is deprecated and will be removed from pandas in a future version. Use pandas.concat instead.\n",
      "  gc = gc.append(Dic, ignore_index=True)\n"
     ]
    },
    {
     "name": "stdout",
     "output_type": "stream",
     "text": [
      "MIRAC SEALER ECO W\n",
      "SKK (HK) Co. Ltd.\n",
      "Paint\n",
      "GL-008-010\n",
      "http://www.skkhk.com.hk/\n",
      "25293968\n",
      "Certification No.: HK-02283\n"
     ]
    },
    {
     "name": "stderr",
     "output_type": "stream",
     "text": [
      "C:\\Users\\USER\\AppData\\Local\\Temp\\ipykernel_3584\\4171891781.py:57: FutureWarning: The frame.append method is deprecated and will be removed from pandas in a future version. Use pandas.concat instead.\n",
      "  gc = gc.append(Dic, ignore_index=True)\n"
     ]
    },
    {
     "name": "stdout",
     "output_type": "stream",
     "text": [
      "AKA 703 Aqua Borne Silicon\n",
      "AKA Coating Company Limited\n",
      "Paint\n",
      "GL-008-010\n",
      "http://www.aka.com.hk/\n",
      "28661982\n",
      "Certification No.: HK-02278\n"
     ]
    },
    {
     "name": "stderr",
     "output_type": "stream",
     "text": [
      "C:\\Users\\USER\\AppData\\Local\\Temp\\ipykernel_3584\\4171891781.py:57: FutureWarning: The frame.append method is deprecated and will be removed from pandas in a future version. Use pandas.concat instead.\n",
      "  gc = gc.append(Dic, ignore_index=True)\n"
     ]
    },
    {
     "name": "stdout",
     "output_type": "stream",
     "text": [
      "Nanoflex/Nanolux\n",
      "Nanoflex Lighting Limited\n",
      "Paint\n",
      "GL-008-010\n",
      "http://www.nanoflex.info/\n",
      "31023192\n",
      "Certification No.: HK-02277\n"
     ]
    },
    {
     "name": "stderr",
     "output_type": "stream",
     "text": [
      "C:\\Users\\USER\\AppData\\Local\\Temp\\ipykernel_3584\\4171891781.py:57: FutureWarning: The frame.append method is deprecated and will be removed from pandas in a future version. Use pandas.concat instead.\n",
      "  gc = gc.append(Dic, ignore_index=True)\n"
     ]
    },
    {
     "name": "stdout",
     "output_type": "stream",
     "text": [
      "Plastic bag\n",
      "Ka Lee Polybags Factory Limited\n",
      "Oxo-biodegradable Plastic Products - Food / Drink\n",
      "GL-005-011\n",
      "http://www.kaleebags.com.hk/\n",
      "24252899\n",
      "Certification No.: HK-02275\n"
     ]
    },
    {
     "name": "stderr",
     "output_type": "stream",
     "text": [
      "C:\\Users\\USER\\AppData\\Local\\Temp\\ipykernel_3584\\4171891781.py:57: FutureWarning: The frame.append method is deprecated and will be removed from pandas in a future version. Use pandas.concat instead.\n",
      "  gc = gc.append(Dic, ignore_index=True)\n"
     ]
    },
    {
     "name": "stdout",
     "output_type": "stream",
     "text": [
      "BIOFINE MATT\n",
      "SKK (HK) Co. Ltd.\n",
      "Paint\n",
      "GL-008-010\n",
      "http://www.skkhk.com.hk/\n",
      "25293968\n",
      "Certification No.: HK-02196\n"
     ]
    },
    {
     "name": "stderr",
     "output_type": "stream",
     "text": [
      "C:\\Users\\USER\\AppData\\Local\\Temp\\ipykernel_3584\\4171891781.py:57: FutureWarning: The frame.append method is deprecated and will be removed from pandas in a future version. Use pandas.concat instead.\n",
      "  gc = gc.append(Dic, ignore_index=True)\n"
     ]
    },
    {
     "name": "stdout",
     "output_type": "stream",
     "text": [
      "BIOFINE SEALER\n",
      "SKK (HK) Co. Ltd.\n",
      "Paint\n",
      "GL-008-010\n",
      "http://www.skkhk.com.hk/\n",
      "25293968\n",
      "Certification No.: HK-02195\n"
     ]
    },
    {
     "name": "stderr",
     "output_type": "stream",
     "text": [
      "C:\\Users\\USER\\AppData\\Local\\Temp\\ipykernel_3584\\4171891781.py:57: FutureWarning: The frame.append method is deprecated and will be removed from pandas in a future version. Use pandas.concat instead.\n",
      "  gc = gc.append(Dic, ignore_index=True)\n"
     ]
    },
    {
     "name": "stdout",
     "output_type": "stream",
     "text": [
      "COMPO SILICON W55\n",
      "SKK (HK) Co. Ltd.\n",
      "Paint\n",
      "GL-008-010\n",
      "http://www.skkhk.com.hk/\n",
      "25293968\n",
      "Certification No.: HK-02194\n"
     ]
    },
    {
     "name": "stderr",
     "output_type": "stream",
     "text": [
      "C:\\Users\\USER\\AppData\\Local\\Temp\\ipykernel_3584\\4171891781.py:57: FutureWarning: The frame.append method is deprecated and will be removed from pandas in a future version. Use pandas.concat instead.\n",
      "  gc = gc.append(Dic, ignore_index=True)\n"
     ]
    },
    {
     "name": "stdout",
     "output_type": "stream",
     "text": [
      "COOL TIGHT SI W\n",
      "SKK (HK) Co. Ltd.\n",
      "Paint\n",
      "GL-008-010\n",
      "http://www.skkhk.com.hk/\n",
      "25293968\n",
      "Certification No.: HK-02193\n"
     ]
    },
    {
     "name": "stderr",
     "output_type": "stream",
     "text": [
      "C:\\Users\\USER\\AppData\\Local\\Temp\\ipykernel_3584\\4171891781.py:57: FutureWarning: The frame.append method is deprecated and will be removed from pandas in a future version. Use pandas.concat instead.\n",
      "  gc = gc.append(Dic, ignore_index=True)\n"
     ]
    },
    {
     "name": "stdout",
     "output_type": "stream",
     "text": [
      "INTERMATT PLUS\n",
      "SKK (HK) Co. Ltd.\n",
      "Paint\n",
      "GL-008-010\n",
      "http://www.skkhk.com.hk/\n",
      "25293968\n",
      "Certification No.: HK-02192\n"
     ]
    },
    {
     "name": "stderr",
     "output_type": "stream",
     "text": [
      "C:\\Users\\USER\\AppData\\Local\\Temp\\ipykernel_3584\\4171891781.py:57: FutureWarning: The frame.append method is deprecated and will be removed from pandas in a future version. Use pandas.concat instead.\n",
      "  gc = gc.append(Dic, ignore_index=True)\n"
     ]
    },
    {
     "name": "stdout",
     "output_type": "stream",
     "text": [
      "LENALUCK\n",
      "SKK (HK) Co. Ltd.\n",
      "Paint\n",
      "GL-008-010\n",
      "http://www.skkhk.com.hk/\n",
      "25293968\n",
      "Certification No.: HK-02191\n"
     ]
    },
    {
     "name": "stderr",
     "output_type": "stream",
     "text": [
      "C:\\Users\\USER\\AppData\\Local\\Temp\\ipykernel_3584\\4171891781.py:57: FutureWarning: The frame.append method is deprecated and will be removed from pandas in a future version. Use pandas.concat instead.\n",
      "  gc = gc.append(Dic, ignore_index=True)\n"
     ]
    },
    {
     "name": "stdout",
     "output_type": "stream",
     "text": [
      "PLEASECOAT\n",
      "SKK (HK) Co. Ltd.\n",
      "Paint\n",
      "GL-008-010\n",
      "http://www.skkhk.com.hk/\n",
      "25293968\n",
      "Certification No.: HK-02190\n"
     ]
    },
    {
     "name": "stderr",
     "output_type": "stream",
     "text": [
      "C:\\Users\\USER\\AppData\\Local\\Temp\\ipykernel_3584\\4171891781.py:57: FutureWarning: The frame.append method is deprecated and will be removed from pandas in a future version. Use pandas.concat instead.\n",
      "  gc = gc.append(Dic, ignore_index=True)\n"
     ]
    },
    {
     "name": "stdout",
     "output_type": "stream",
     "text": [
      "Garbage Bag\n",
      "Kwong Wah Chemicals & Plastics Co., Ltd\n",
      "Oxo-biodegradable Plastic Products - Non Food / Drink\n",
      "GL-005-010\n",
      "None\n",
      "93196796 / 24753157\n",
      "Certification No.: HK-02217\n"
     ]
    },
    {
     "name": "stderr",
     "output_type": "stream",
     "text": [
      "C:\\Users\\USER\\AppData\\Local\\Temp\\ipykernel_3584\\4171891781.py:57: FutureWarning: The frame.append method is deprecated and will be removed from pandas in a future version. Use pandas.concat instead.\n",
      "  gc = gc.append(Dic, ignore_index=True)\n"
     ]
    },
    {
     "name": "stdout",
     "output_type": "stream",
     "text": [
      "Omega® Brand Decorative Laminate\n",
      "Hopewell Plastics Limited\n",
      "Fibre Reinforced Home Décor Product\n",
      "GL-008-006\n",
      "http://www.hopewellplastics.com/\n",
      "25493322\n",
      "Certification No.: HK-02104\n"
     ]
    },
    {
     "name": "stderr",
     "output_type": "stream",
     "text": [
      "C:\\Users\\USER\\AppData\\Local\\Temp\\ipykernel_3584\\4171891781.py:57: FutureWarning: The frame.append method is deprecated and will be removed from pandas in a future version. Use pandas.concat instead.\n",
      "  gc = gc.append(Dic, ignore_index=True)\n"
     ]
    },
    {
     "name": "stdout",
     "output_type": "stream",
     "text": [
      "Optimix TA328 Tile Adhesive (Flexible)\n",
      "Cement Connections Ltd.\n",
      "Adhesive\n",
      "GL-008-008\n",
      "http://www.optimix.com.hk/\n",
      "23955388\n",
      "Certification No.: HK-02097\n"
     ]
    },
    {
     "name": "stderr",
     "output_type": "stream",
     "text": [
      "C:\\Users\\USER\\AppData\\Local\\Temp\\ipykernel_3584\\4171891781.py:57: FutureWarning: The frame.append method is deprecated and will be removed from pandas in a future version. Use pandas.concat instead.\n",
      "  gc = gc.append(Dic, ignore_index=True)\n"
     ]
    },
    {
     "name": "stdout",
     "output_type": "stream",
     "text": [
      "Calcium Silicate Board\n",
      "Soben International (Asia Pacific) Ltd.\n",
      "Building Products Using Recycled Materials\n",
      "GL-008-009\n",
      "http://www.sobenboard.com/\n",
      "31732683\n",
      "Certification No.: HK-02084\n"
     ]
    },
    {
     "name": "stderr",
     "output_type": "stream",
     "text": [
      "C:\\Users\\USER\\AppData\\Local\\Temp\\ipykernel_3584\\4171891781.py:57: FutureWarning: The frame.append method is deprecated and will be removed from pandas in a future version. Use pandas.concat instead.\n",
      "  gc = gc.append(Dic, ignore_index=True)\n"
     ]
    },
    {
     "name": "stdout",
     "output_type": "stream",
     "text": [
      "Fibre Cement Reinforced Calcium Silicate Board\n",
      "Soben International (Asia Pacific) Ltd.\n",
      "Building Products Using Recycled Materials\n",
      "GL-008-009\n",
      "http://www.sobenboard.com/\n",
      "31732683\n",
      "Certification No.: HK-02085\n"
     ]
    },
    {
     "name": "stderr",
     "output_type": "stream",
     "text": [
      "C:\\Users\\USER\\AppData\\Local\\Temp\\ipykernel_3584\\4171891781.py:57: FutureWarning: The frame.append method is deprecated and will be removed from pandas in a future version. Use pandas.concat instead.\n",
      "  gc = gc.append(Dic, ignore_index=True)\n"
     ]
    },
    {
     "name": "stdout",
     "output_type": "stream",
     "text": [
      "i．wood仿木\n",
      "Ecomax Ltd\n",
      "Building Products Using Recycled Materials\n",
      "GL-008-009\n",
      "http://www.ecomax.hk/\n",
      "35823137\n",
      "Certification No.: HK-02272\n"
     ]
    },
    {
     "name": "stderr",
     "output_type": "stream",
     "text": [
      "C:\\Users\\USER\\AppData\\Local\\Temp\\ipykernel_3584\\4171891781.py:57: FutureWarning: The frame.append method is deprecated and will be removed from pandas in a future version. Use pandas.concat instead.\n",
      "  gc = gc.append(Dic, ignore_index=True)\n"
     ]
    },
    {
     "name": "stdout",
     "output_type": "stream",
     "text": [
      "WeatherPan\n",
      "Soben International (Asia Pacific) Ltd.\n",
      "Building Products Using Recycled Materials\n",
      "GL-008-009\n",
      "http://www.sobenboard.com/\n",
      "31732683\n",
      "Certification No.: HK-02139\n"
     ]
    },
    {
     "name": "stderr",
     "output_type": "stream",
     "text": [
      "C:\\Users\\USER\\AppData\\Local\\Temp\\ipykernel_3584\\4171891781.py:57: FutureWarning: The frame.append method is deprecated and will be removed from pandas in a future version. Use pandas.concat instead.\n",
      "  gc = gc.append(Dic, ignore_index=True)\n"
     ]
    },
    {
     "name": "stdout",
     "output_type": "stream",
     "text": [
      "Par Primer Sealer\n",
      "Kansai Paint Co., Ltd\n",
      "Paint\n",
      "GL-008-010\n",
      "http://www.kansai.com.hk/\n",
      "28911085\n",
      "Certification No.: HK-02257\n"
     ]
    },
    {
     "name": "stderr",
     "output_type": "stream",
     "text": [
      "C:\\Users\\USER\\AppData\\Local\\Temp\\ipykernel_3584\\4171891781.py:57: FutureWarning: The frame.append method is deprecated and will be removed from pandas in a future version. Use pandas.concat instead.\n",
      "  gc = gc.append(Dic, ignore_index=True)\n"
     ]
    },
    {
     "name": "stdout",
     "output_type": "stream",
     "text": [
      "Ales Aqua EPO Resin\n",
      "Kansai Paint Co., Ltd\n",
      "Paint\n",
      "GL-008-010\n",
      "http://www.kansai.com.hk/\n",
      "28911085\n",
      "Certification No.: HK-02255\n"
     ]
    },
    {
     "name": "stderr",
     "output_type": "stream",
     "text": [
      "C:\\Users\\USER\\AppData\\Local\\Temp\\ipykernel_3584\\4171891781.py:57: FutureWarning: The frame.append method is deprecated and will be removed from pandas in a future version. Use pandas.concat instead.\n",
      "  gc = gc.append(Dic, ignore_index=True)\n"
     ]
    },
    {
     "name": "stdout",
     "output_type": "stream",
     "text": [
      "Eco Cation Sealer\n",
      "Kansai Paint Co., Ltd\n",
      "Paint\n",
      "GL-008-010\n",
      "http://www.kansai.com.hk/\n",
      "28911085\n",
      "Certification No.: HK-02258\n"
     ]
    },
    {
     "name": "stderr",
     "output_type": "stream",
     "text": [
      "C:\\Users\\USER\\AppData\\Local\\Temp\\ipykernel_3584\\4171891781.py:57: FutureWarning: The frame.append method is deprecated and will be removed from pandas in a future version. Use pandas.concat instead.\n",
      "  gc = gc.append(Dic, ignore_index=True)\n"
     ]
    },
    {
     "name": "stdout",
     "output_type": "stream",
     "text": [
      "Ales Holder Z\n",
      "Kansai Paint Co., Ltd\n",
      "Paint\n",
      "GL-008-010\n",
      "http://www.kansai.com.hk/\n",
      "28911085\n",
      "Certification No.: HK-02254\n"
     ]
    },
    {
     "name": "stderr",
     "output_type": "stream",
     "text": [
      "C:\\Users\\USER\\AppData\\Local\\Temp\\ipykernel_3584\\4171891781.py:57: FutureWarning: The frame.append method is deprecated and will be removed from pandas in a future version. Use pandas.concat instead.\n",
      "  gc = gc.append(Dic, ignore_index=True)\n"
     ]
    },
    {
     "name": "stdout",
     "output_type": "stream",
     "text": [
      "Ales Tile Rough\n",
      "Kansai Paint Co., Ltd\n",
      "Paint\n",
      "GL-008-010\n",
      "http://www.kansai.com.hk/\n",
      "28911085\n",
      "Certification No.: HK-02253\n"
     ]
    },
    {
     "name": "stderr",
     "output_type": "stream",
     "text": [
      "C:\\Users\\USER\\AppData\\Local\\Temp\\ipykernel_3584\\4171891781.py:57: FutureWarning: The frame.append method is deprecated and will be removed from pandas in a future version. Use pandas.concat instead.\n",
      "  gc = gc.append(Dic, ignore_index=True)\n"
     ]
    },
    {
     "name": "stdout",
     "output_type": "stream",
     "text": [
      "Aqua Cera Fusso Topcoat (for outdoor application only)\n",
      "Kansai Paint Co., Ltd\n",
      "Paint\n",
      "GL-008-010\n",
      "http://www.kansai.com.hk/\n",
      "28911085\n",
      "Certification No.: HK-02247\n"
     ]
    },
    {
     "name": "stderr",
     "output_type": "stream",
     "text": [
      "C:\\Users\\USER\\AppData\\Local\\Temp\\ipykernel_3584\\4171891781.py:57: FutureWarning: The frame.append method is deprecated and will be removed from pandas in a future version. Use pandas.concat instead.\n",
      "  gc = gc.append(Dic, ignore_index=True)\n"
     ]
    },
    {
     "name": "stdout",
     "output_type": "stream",
     "text": [
      "Aqua Zolacoat EX\n",
      "Kansai Paint Co., Ltd\n",
      "Paint\n",
      "GL-008-010\n",
      "http://www.kansai.com.hk/\n",
      "28911085\n",
      "Certification No.: HK-02245\n"
     ]
    },
    {
     "name": "stderr",
     "output_type": "stream",
     "text": [
      "C:\\Users\\USER\\AppData\\Local\\Temp\\ipykernel_3584\\4171891781.py:57: FutureWarning: The frame.append method is deprecated and will be removed from pandas in a future version. Use pandas.concat instead.\n",
      "  gc = gc.append(Dic, ignore_index=True)\n"
     ]
    },
    {
     "name": "stdout",
     "output_type": "stream",
     "text": [
      "Nippon Paint Solareflect\n",
      "Nippon Paint (H.K.) Co., Ltd.\n",
      "Paint\n",
      "GL-008-010\n",
      "http://www.nipponpaint.com.hk/\n",
      "27468146\n",
      "Certification No.: HK-02183\n"
     ]
    },
    {
     "name": "stderr",
     "output_type": "stream",
     "text": [
      "C:\\Users\\USER\\AppData\\Local\\Temp\\ipykernel_3584\\4171891781.py:57: FutureWarning: The frame.append method is deprecated and will be removed from pandas in a future version. Use pandas.concat instead.\n",
      "  gc = gc.append(Dic, ignore_index=True)\n"
     ]
    },
    {
     "name": "stdout",
     "output_type": "stream",
     "text": [
      "Crown Emulsion\n",
      "Kansai Paint Co., Ltd\n",
      "Paint\n",
      "GL-008-010\n",
      "http://www.kansai.com.hk/\n",
      "28911085\n",
      "Certification No.: HK-02209\n"
     ]
    },
    {
     "name": "stderr",
     "output_type": "stream",
     "text": [
      "C:\\Users\\USER\\AppData\\Local\\Temp\\ipykernel_3584\\4171891781.py:57: FutureWarning: The frame.append method is deprecated and will be removed from pandas in a future version. Use pandas.concat instead.\n",
      "  gc = gc.append(Dic, ignore_index=True)\n"
     ]
    },
    {
     "name": "stdout",
     "output_type": "stream",
     "text": [
      "Goody Weather Top\n",
      "Kansai Paint Co., Ltd\n",
      "Paint\n",
      "GL-008-010\n",
      "http://www.kansai.com.hk/\n",
      "28911085\n",
      "Certification No.: HK-02206\n"
     ]
    },
    {
     "name": "stderr",
     "output_type": "stream",
     "text": [
      "C:\\Users\\USER\\AppData\\Local\\Temp\\ipykernel_3584\\4171891781.py:57: FutureWarning: The frame.append method is deprecated and will be removed from pandas in a future version. Use pandas.concat instead.\n",
      "  gc = gc.append(Dic, ignore_index=True)\n"
     ]
    },
    {
     "name": "stdout",
     "output_type": "stream",
     "text": [
      "SOFT SURF SG\n",
      "SKK (HK) Co. Ltd.\n",
      "Paint\n",
      "GL-008-010\n",
      "http://www.skkhk.com.hk/\n",
      "25293968\n",
      "Certification No.: HK-02232\n"
     ]
    },
    {
     "name": "stderr",
     "output_type": "stream",
     "text": [
      "C:\\Users\\USER\\AppData\\Local\\Temp\\ipykernel_3584\\4171891781.py:57: FutureWarning: The frame.append method is deprecated and will be removed from pandas in a future version. Use pandas.concat instead.\n",
      "  gc = gc.append(Dic, ignore_index=True)\n"
     ]
    },
    {
     "name": "stdout",
     "output_type": "stream",
     "text": [
      "Cosmo Silicone\n",
      "Kansai Paint Co., Ltd\n",
      "Paint\n",
      "GL-008-010\n",
      "http://www.kansai.com.hk/\n",
      "26121137\n",
      "Certification No.: HK-02203\n"
     ]
    },
    {
     "name": "stderr",
     "output_type": "stream",
     "text": [
      "C:\\Users\\USER\\AppData\\Local\\Temp\\ipykernel_3584\\4171891781.py:57: FutureWarning: The frame.append method is deprecated and will be removed from pandas in a future version. Use pandas.concat instead.\n",
      "  gc = gc.append(Dic, ignore_index=True)\n"
     ]
    },
    {
     "name": "stdout",
     "output_type": "stream",
     "text": [
      "Par Weather Si\n",
      "Kansai Paint Co., Ltd\n",
      "Paint\n",
      "GL-008-010\n",
      "http://www.kansai.com.hk/\n",
      "28911085\n",
      "Certification No.: HK-02208\n"
     ]
    },
    {
     "name": "stderr",
     "output_type": "stream",
     "text": [
      "C:\\Users\\USER\\AppData\\Local\\Temp\\ipykernel_3584\\4171891781.py:57: FutureWarning: The frame.append method is deprecated and will be removed from pandas in a future version. Use pandas.concat instead.\n",
      "  gc = gc.append(Dic, ignore_index=True)\n"
     ]
    },
    {
     "name": "stdout",
     "output_type": "stream",
     "text": [
      "SK CLEAR SEALER\n",
      "SKK (HK) Co. Ltd.\n",
      "Paint\n",
      "GL-008-010\n",
      "http://www.skkhk.com.hk/\n",
      "25293968\n",
      "Certification No.: HK-02213\n"
     ]
    },
    {
     "name": "stderr",
     "output_type": "stream",
     "text": [
      "C:\\Users\\USER\\AppData\\Local\\Temp\\ipykernel_3584\\4171891781.py:57: FutureWarning: The frame.append method is deprecated and will be removed from pandas in a future version. Use pandas.concat instead.\n",
      "  gc = gc.append(Dic, ignore_index=True)\n"
     ]
    },
    {
     "name": "stdout",
     "output_type": "stream",
     "text": [
      "Flower Matt Latex Paint 000 Series\n",
      "The China Paint Manufacturing Company (1932) Limited\n",
      "Paint\n",
      "GL-008-010\n",
      "http://www.chinapaint.com/\n",
      "27928766\n",
      "Certification No.: HK-02033\n"
     ]
    },
    {
     "name": "stderr",
     "output_type": "stream",
     "text": [
      "C:\\Users\\USER\\AppData\\Local\\Temp\\ipykernel_3584\\4171891781.py:57: FutureWarning: The frame.append method is deprecated and will be removed from pandas in a future version. Use pandas.concat instead.\n",
      "  gc = gc.append(Dic, ignore_index=True)\n"
     ]
    },
    {
     "name": "stdout",
     "output_type": "stream",
     "text": [
      "FUSSOLON W-OP\n",
      "SKK (HK) Co. Ltd.\n",
      "Paint\n",
      "GL-008-010\n",
      "http://www.skkhk.com.hk/\n",
      "25293968\n",
      "Certification No.: HK-02211\n"
     ]
    },
    {
     "name": "stderr",
     "output_type": "stream",
     "text": [
      "C:\\Users\\USER\\AppData\\Local\\Temp\\ipykernel_3584\\4171891781.py:57: FutureWarning: The frame.append method is deprecated and will be removed from pandas in a future version. Use pandas.concat instead.\n",
      "  gc = gc.append(Dic, ignore_index=True)\n"
     ]
    },
    {
     "name": "stdout",
     "output_type": "stream",
     "text": [
      "FUSSOLON W-OP MID-COAT\n",
      "SKK (HK) Co. Ltd.\n",
      "Paint\n",
      "GL-008-010\n",
      "http://www.skkhk.com.hk/\n",
      "25293968\n",
      "Certification No.: HK-02212\n"
     ]
    },
    {
     "name": "stderr",
     "output_type": "stream",
     "text": [
      "C:\\Users\\USER\\AppData\\Local\\Temp\\ipykernel_3584\\4171891781.py:57: FutureWarning: The frame.append method is deprecated and will be removed from pandas in a future version. Use pandas.concat instead.\n",
      "  gc = gc.append(Dic, ignore_index=True)\n"
     ]
    },
    {
     "name": "stdout",
     "output_type": "stream",
     "text": [
      "MIRAC SEALER W\n",
      "SKK (HK) Co. Ltd.\n",
      "Paint\n",
      "GL-008-010\n",
      "http://www.skkhk.com.hk/\n",
      "25293968\n",
      "Certification No.: HK-02198\n"
     ]
    },
    {
     "name": "stderr",
     "output_type": "stream",
     "text": [
      "C:\\Users\\USER\\AppData\\Local\\Temp\\ipykernel_3584\\4171891781.py:57: FutureWarning: The frame.append method is deprecated and will be removed from pandas in a future version. Use pandas.concat instead.\n",
      "  gc = gc.append(Dic, ignore_index=True)\n"
     ]
    },
    {
     "name": "stdout",
     "output_type": "stream",
     "text": [
      "Golden Flower Lotus-Effect Low Carbon Wall Finish GFA\n",
      "The China Paint Manufacturing Company (1932) Limited\n",
      "Paint\n",
      "GL-008-010\n",
      "http://www.chinapaint.com/\n",
      "27928766\n",
      "Certification No.: HK-02182\n"
     ]
    },
    {
     "name": "stderr",
     "output_type": "stream",
     "text": [
      "C:\\Users\\USER\\AppData\\Local\\Temp\\ipykernel_3584\\4171891781.py:57: FutureWarning: The frame.append method is deprecated and will be removed from pandas in a future version. Use pandas.concat instead.\n",
      "  gc = gc.append(Dic, ignore_index=True)\n"
     ]
    },
    {
     "name": "stdout",
     "output_type": "stream",
     "text": [
      "Cosmo Retan\n",
      "Kansai Paint Co., Ltd\n",
      "Paint\n",
      "GL-008-010\n",
      "http://www.kansai.com.hk/\n",
      "26121137\n",
      "Certification No.: HK-02202\n"
     ]
    },
    {
     "name": "stderr",
     "output_type": "stream",
     "text": [
      "C:\\Users\\USER\\AppData\\Local\\Temp\\ipykernel_3584\\4171891781.py:57: FutureWarning: The frame.append method is deprecated and will be removed from pandas in a future version. Use pandas.concat instead.\n",
      "  gc = gc.append(Dic, ignore_index=True)\n"
     ]
    },
    {
     "name": "stdout",
     "output_type": "stream",
     "text": [
      "Golden Flower Supreme Wall Finish GFW\n",
      "The China Paint Manufacturing Company (1932) Limited\n",
      "Paint\n",
      "GL-008-010\n",
      "http://www.chinapaint.com/\n",
      "27928766\n",
      "Certification No.: HK-02127\n"
     ]
    },
    {
     "name": "stderr",
     "output_type": "stream",
     "text": [
      "C:\\Users\\USER\\AppData\\Local\\Temp\\ipykernel_3584\\4171891781.py:57: FutureWarning: The frame.append method is deprecated and will be removed from pandas in a future version. Use pandas.concat instead.\n",
      "  gc = gc.append(Dic, ignore_index=True)\n"
     ]
    },
    {
     "name": "stdout",
     "output_type": "stream",
     "text": [
      "Print-Rite PRO-ECO Toner Cartridge\n",
      "Print-Rite.Unicorn Image Products Co., Ltd. of ZhuHai\n",
      "Ink and Toner Cartridges\n",
      "GL-005-002\n",
      "http://www.printritehk.com/en_product.asp\n",
      "86 0756 8682828-1550\n",
      "Certification No.: HK-02105\n"
     ]
    },
    {
     "name": "stderr",
     "output_type": "stream",
     "text": [
      "C:\\Users\\USER\\AppData\\Local\\Temp\\ipykernel_3584\\4171891781.py:57: FutureWarning: The frame.append method is deprecated and will be removed from pandas in a future version. Use pandas.concat instead.\n",
      "  gc = gc.append(Dic, ignore_index=True)\n"
     ]
    },
    {
     "name": "stdout",
     "output_type": "stream",
     "text": [
      "AKA 206 Water Borne Permeating Sealer\n",
      "AKA Coating Company Limited\n",
      "Paint\n",
      "GL-008-010\n",
      "http://www.aka.com.hk/\n",
      "28661982\n",
      "Certification No.: HK-02224\n"
     ]
    },
    {
     "name": "stderr",
     "output_type": "stream",
     "text": [
      "C:\\Users\\USER\\AppData\\Local\\Temp\\ipykernel_3584\\4171891781.py:57: FutureWarning: The frame.append method is deprecated and will be removed from pandas in a future version. Use pandas.concat instead.\n",
      "  gc = gc.append(Dic, ignore_index=True)\n"
     ]
    },
    {
     "name": "stdout",
     "output_type": "stream",
     "text": [
      "Oxo-biodegradable Plastic Products\n",
      "Chung Hing Plastic Bags Company Limited\n",
      "Oxo-biodegradable Plastic Products - Non Food / Drink\n",
      "GL-005-010\n",
      "None\n",
      "34268355\n",
      "Certification No.: HK-02216\n"
     ]
    },
    {
     "name": "stderr",
     "output_type": "stream",
     "text": [
      "C:\\Users\\USER\\AppData\\Local\\Temp\\ipykernel_3584\\4171891781.py:57: FutureWarning: The frame.append method is deprecated and will be removed from pandas in a future version. Use pandas.concat instead.\n",
      "  gc = gc.append(Dic, ignore_index=True)\n"
     ]
    },
    {
     "name": "stdout",
     "output_type": "stream",
     "text": [
      "Polybag\n",
      "Kan Lun Green Packaging Limited\n",
      "Oxo-biodegradable Plastic Products - Non Food / Drink\n",
      "GL-005-010\n",
      "http://www.polybag.com.hk/\n",
      "26060160\n",
      "Certification No.: HK-02218\n"
     ]
    },
    {
     "name": "stderr",
     "output_type": "stream",
     "text": [
      "C:\\Users\\USER\\AppData\\Local\\Temp\\ipykernel_3584\\4171891781.py:57: FutureWarning: The frame.append method is deprecated and will be removed from pandas in a future version. Use pandas.concat instead.\n",
      "  gc = gc.append(Dic, ignore_index=True)\n"
     ]
    },
    {
     "name": "stdout",
     "output_type": "stream",
     "text": [
      "Polybag\n",
      "Kan Lun Green Packaging Limited\n",
      "Oxo-biodegradable Plastic Products - Food / Drink\n",
      "GL-005-011\n",
      "None\n",
      "26060160\n",
      "Certification No.: HK-02219\n"
     ]
    },
    {
     "name": "stderr",
     "output_type": "stream",
     "text": [
      "C:\\Users\\USER\\AppData\\Local\\Temp\\ipykernel_3584\\4171891781.py:57: FutureWarning: The frame.append method is deprecated and will be removed from pandas in a future version. Use pandas.concat instead.\n",
      "  gc = gc.append(Dic, ignore_index=True)\n"
     ]
    },
    {
     "name": "stdout",
     "output_type": "stream",
     "text": [
      "P-Life Oxo-Biodegradable Plastic Additive\n",
      "P-Life Japan Inc.\n",
      "Oxo-biodegradable Plastic Products - Food / Drink\n",
      "GL-005-011\n",
      "http://www.p-life.com.hk/\n",
      "93022228\n",
      "Certification No.: HK-02199\n"
     ]
    },
    {
     "name": "stderr",
     "output_type": "stream",
     "text": [
      "C:\\Users\\USER\\AppData\\Local\\Temp\\ipykernel_3584\\4171891781.py:57: FutureWarning: The frame.append method is deprecated and will be removed from pandas in a future version. Use pandas.concat instead.\n",
      "  gc = gc.append(Dic, ignore_index=True)\n"
     ]
    },
    {
     "name": "stdout",
     "output_type": "stream",
     "text": [
      "AKA Tile Filler\n",
      "AKA Coating Company Limited\n",
      "Adhesive\n",
      "GL-008-008\n",
      "http://www.aka.com.hk/\n",
      "28661982\n",
      "Certification No.: HK-02263\n"
     ]
    },
    {
     "name": "stderr",
     "output_type": "stream",
     "text": [
      "C:\\Users\\USER\\AppData\\Local\\Temp\\ipykernel_3584\\4171891781.py:57: FutureWarning: The frame.append method is deprecated and will be removed from pandas in a future version. Use pandas.concat instead.\n",
      "  gc = gc.append(Dic, ignore_index=True)\n"
     ]
    },
    {
     "name": "stdout",
     "output_type": "stream",
     "text": [
      "Ales Magic Filler\n",
      "Kansai Paint Co., Ltd\n",
      "Adhesive\n",
      "GL-008-008\n",
      "http://www.kansai.com.hk/\n",
      "28911085\n",
      "Certification No.: HK-02244\n"
     ]
    },
    {
     "name": "stderr",
     "output_type": "stream",
     "text": [
      "C:\\Users\\USER\\AppData\\Local\\Temp\\ipykernel_3584\\4171891781.py:57: FutureWarning: The frame.append method is deprecated and will be removed from pandas in a future version. Use pandas.concat instead.\n",
      "  gc = gc.append(Dic, ignore_index=True)\n"
     ]
    },
    {
     "name": "stdout",
     "output_type": "stream",
     "text": [
      "SK TILE FILLER\n",
      "SKK (HK) Co. Ltd.\n",
      "Adhesive\n",
      "GL-008-008\n",
      "http://www.skkhk.com.hk/\n",
      "25293968\n",
      "Certification No.: HK-02229\n"
     ]
    },
    {
     "name": "stderr",
     "output_type": "stream",
     "text": [
      "C:\\Users\\USER\\AppData\\Local\\Temp\\ipykernel_3584\\4171891781.py:57: FutureWarning: The frame.append method is deprecated and will be removed from pandas in a future version. Use pandas.concat instead.\n",
      "  gc = gc.append(Dic, ignore_index=True)\n"
     ]
    },
    {
     "name": "stdout",
     "output_type": "stream",
     "text": [
      "AKA 308 Ecomaster\n",
      "AKA Coating Company Limited\n",
      "Paint\n",
      "GL-008-010\n",
      "http://www.aka.com.hk/\n",
      "28661982\n",
      "Certification No.: HK-02243\n"
     ]
    },
    {
     "name": "stderr",
     "output_type": "stream",
     "text": [
      "C:\\Users\\USER\\AppData\\Local\\Temp\\ipykernel_3584\\4171891781.py:57: FutureWarning: The frame.append method is deprecated and will be removed from pandas in a future version. Use pandas.concat instead.\n",
      "  gc = gc.append(Dic, ignore_index=True)\n"
     ]
    },
    {
     "name": "stdout",
     "output_type": "stream",
     "text": [
      "AKA 601 Wall Tile\n",
      "AKA Coating Company Limited\n",
      "Paint\n",
      "GL-008-010\n",
      "http://www.aka.com.hk/\n",
      "28661982\n",
      "Certification No.: HK-02242\n"
     ]
    },
    {
     "name": "stderr",
     "output_type": "stream",
     "text": [
      "C:\\Users\\USER\\AppData\\Local\\Temp\\ipykernel_3584\\4171891781.py:57: FutureWarning: The frame.append method is deprecated and will be removed from pandas in a future version. Use pandas.concat instead.\n",
      "  gc = gc.append(Dic, ignore_index=True)\n"
     ]
    },
    {
     "name": "stdout",
     "output_type": "stream",
     "text": [
      "AKA 605 Waterproof Membrane\n",
      "AKA Coating Company Limited\n",
      "Paint\n",
      "GL-008-010\n",
      "http://www.aka.com.hk/\n",
      "28661982\n",
      "Certification No.: HK-02241\n"
     ]
    },
    {
     "name": "stderr",
     "output_type": "stream",
     "text": [
      "C:\\Users\\USER\\AppData\\Local\\Temp\\ipykernel_3584\\4171891781.py:57: FutureWarning: The frame.append method is deprecated and will be removed from pandas in a future version. Use pandas.concat instead.\n",
      "  gc = gc.append(Dic, ignore_index=True)\n"
     ]
    },
    {
     "name": "stdout",
     "output_type": "stream",
     "text": [
      "AKA 8932 Fluorine Aura Low Sheen\n",
      "AKA Coating Company Limited\n",
      "Paint\n",
      "GL-008-010\n",
      "http://www.aka.com.hk/\n",
      "28661982\n",
      "Certification No.: HK-02225\n"
     ]
    },
    {
     "name": "stderr",
     "output_type": "stream",
     "text": [
      "C:\\Users\\USER\\AppData\\Local\\Temp\\ipykernel_3584\\4171891781.py:57: FutureWarning: The frame.append method is deprecated and will be removed from pandas in a future version. Use pandas.concat instead.\n",
      "  gc = gc.append(Dic, ignore_index=True)\n"
     ]
    },
    {
     "name": "stdout",
     "output_type": "stream",
     "text": [
      "AKA 205 Alkali Resistant Sealer\n",
      "AKA Coating Company Limited\n",
      "Paint\n",
      "GL-008-010\n",
      "http://www.aka.com.hk/\n",
      "28661982\n",
      "Certification No.: HK-02223\n"
     ]
    },
    {
     "name": "stderr",
     "output_type": "stream",
     "text": [
      "C:\\Users\\USER\\AppData\\Local\\Temp\\ipykernel_3584\\4171891781.py:57: FutureWarning: The frame.append method is deprecated and will be removed from pandas in a future version. Use pandas.concat instead.\n",
      "  gc = gc.append(Dic, ignore_index=True)\n"
     ]
    },
    {
     "name": "stdout",
     "output_type": "stream",
     "text": [
      "AKA 305 Enviroshield\n",
      "AKA Coating Company Limited\n",
      "Paint\n",
      "GL-008-010\n",
      "http://www.aka.com.hk/\n",
      "28661982\n",
      "Certification No.: HK-02222\n"
     ]
    },
    {
     "name": "stderr",
     "output_type": "stream",
     "text": [
      "C:\\Users\\USER\\AppData\\Local\\Temp\\ipykernel_3584\\4171891781.py:57: FutureWarning: The frame.append method is deprecated and will be removed from pandas in a future version. Use pandas.concat instead.\n",
      "  gc = gc.append(Dic, ignore_index=True)\n"
     ]
    },
    {
     "name": "stdout",
     "output_type": "stream",
     "text": [
      "Par In Sealer\n",
      "Kansai Paint Co., Ltd\n",
      "Paint\n",
      "GL-008-010\n",
      "http://www.kansai.com.hk/\n",
      "28911085\n",
      "Certification No.: HK-02261\n"
     ]
    },
    {
     "name": "stderr",
     "output_type": "stream",
     "text": [
      "C:\\Users\\USER\\AppData\\Local\\Temp\\ipykernel_3584\\4171891781.py:57: FutureWarning: The frame.append method is deprecated and will be removed from pandas in a future version. Use pandas.concat instead.\n",
      "  gc = gc.append(Dic, ignore_index=True)\n"
     ]
    },
    {
     "name": "stdout",
     "output_type": "stream",
     "text": [
      "Ales Lithin\n",
      "Kansai Paint Co., Ltd\n",
      "Paint\n",
      "GL-008-010\n",
      "http://www.kansai.com.hk/\n",
      "28911085\n",
      "Certification No.: HK-02260\n"
     ]
    },
    {
     "name": "stderr",
     "output_type": "stream",
     "text": [
      "C:\\Users\\USER\\AppData\\Local\\Temp\\ipykernel_3584\\4171891781.py:57: FutureWarning: The frame.append method is deprecated and will be removed from pandas in a future version. Use pandas.concat instead.\n",
      "  gc = gc.append(Dic, ignore_index=True)\n"
     ]
    },
    {
     "name": "stdout",
     "output_type": "stream",
     "text": [
      "EP Sealer (for outdoor application only)\n",
      "Kansai Paint Co., Ltd\n",
      "Paint\n",
      "GL-008-010\n",
      "http://www.kansai.com.hk/\n",
      "28911085\n",
      "Certification No.: HK-02259\n"
     ]
    },
    {
     "name": "stderr",
     "output_type": "stream",
     "text": [
      "C:\\Users\\USER\\AppData\\Local\\Temp\\ipykernel_3584\\4171891781.py:57: FutureWarning: The frame.append method is deprecated and will be removed from pandas in a future version. Use pandas.concat instead.\n",
      "  gc = gc.append(Dic, ignore_index=True)\n"
     ]
    },
    {
     "name": "stdout",
     "output_type": "stream",
     "text": [
      "Ales Eco Sealer\n",
      "Kansai Paint Co., Ltd\n",
      "Paint\n",
      "GL-008-010\n",
      "http://www.kansai.com.hk/\n",
      "28911085\n",
      "Certification No.: HK-02256\n"
     ]
    },
    {
     "name": "stderr",
     "output_type": "stream",
     "text": [
      "C:\\Users\\USER\\AppData\\Local\\Temp\\ipykernel_3584\\4171891781.py:57: FutureWarning: The frame.append method is deprecated and will be removed from pandas in a future version. Use pandas.concat instead.\n",
      "  gc = gc.append(Dic, ignore_index=True)\n"
     ]
    },
    {
     "name": "stdout",
     "output_type": "stream",
     "text": [
      "Ales Flon W (SRI) Topcoat (for outdoor application only)\n",
      "Kansai Paint Co., Ltd\n",
      "Paint\n",
      "GL-008-010\n",
      "http://www.kansai.com.hk/\n",
      "28911085\n",
      "Certification No.: HK-02249\n"
     ]
    },
    {
     "name": "stderr",
     "output_type": "stream",
     "text": [
      "C:\\Users\\USER\\AppData\\Local\\Temp\\ipykernel_3584\\4171891781.py:57: FutureWarning: The frame.append method is deprecated and will be removed from pandas in a future version. Use pandas.concat instead.\n",
      "  gc = gc.append(Dic, ignore_index=True)\n"
     ]
    },
    {
     "name": "stdout",
     "output_type": "stream",
     "text": [
      "Ales Cool Si\n",
      "Kansai Paint Co., Ltd\n",
      "Paint\n",
      "GL-008-010\n",
      "http://www.kansai.com.hk/\n",
      "28911085\n",
      "Certification No.: HK-02251\n"
     ]
    },
    {
     "name": "stderr",
     "output_type": "stream",
     "text": [
      "C:\\Users\\USER\\AppData\\Local\\Temp\\ipykernel_3584\\4171891781.py:57: FutureWarning: The frame.append method is deprecated and will be removed from pandas in a future version. Use pandas.concat instead.\n",
      "  gc = gc.append(Dic, ignore_index=True)\n"
     ]
    },
    {
     "name": "stdout",
     "output_type": "stream",
     "text": [
      "Aqua Zolacoat EX Binder\n",
      "Kansai Paint Co., Ltd\n",
      "Paint\n",
      "GL-008-010\n",
      "http://www.kansai.com.hk/\n",
      "28911085\n",
      "Certification No.: HK-02246\n"
     ]
    },
    {
     "name": "stderr",
     "output_type": "stream",
     "text": [
      "C:\\Users\\USER\\AppData\\Local\\Temp\\ipykernel_3584\\4171891781.py:57: FutureWarning: The frame.append method is deprecated and will be removed from pandas in a future version. Use pandas.concat instead.\n",
      "  gc = gc.append(Dic, ignore_index=True)\n"
     ]
    },
    {
     "name": "stdout",
     "output_type": "stream",
     "text": [
      "Ales Aqua Gloss (for outdoor application only)\n",
      "Kansai Paint Co., Ltd\n",
      "Paint\n",
      "GL-008-010\n",
      "http://www.kansai.com.hk/\n",
      "28911085\n",
      "Certification No.: HK-02252\n"
     ]
    },
    {
     "name": "stderr",
     "output_type": "stream",
     "text": [
      "C:\\Users\\USER\\AppData\\Local\\Temp\\ipykernel_3584\\4171891781.py:57: FutureWarning: The frame.append method is deprecated and will be removed from pandas in a future version. Use pandas.concat instead.\n",
      "  gc = gc.append(Dic, ignore_index=True)\n"
     ]
    },
    {
     "name": "stdout",
     "output_type": "stream",
     "text": [
      "Ales Flon W (SRI) Undercoat\n",
      "Kansai Paint Co., Ltd\n",
      "Paint\n",
      "GL-008-010\n",
      "http://www.kansai.com.hk/\n",
      "28911085\n",
      "Certification No.: HK-02250\n"
     ]
    },
    {
     "name": "stderr",
     "output_type": "stream",
     "text": [
      "C:\\Users\\USER\\AppData\\Local\\Temp\\ipykernel_3584\\4171891781.py:57: FutureWarning: The frame.append method is deprecated and will be removed from pandas in a future version. Use pandas.concat instead.\n",
      "  gc = gc.append(Dic, ignore_index=True)\n"
     ]
    },
    {
     "name": "stdout",
     "output_type": "stream",
     "text": [
      "Kanpe Emulsion V\n",
      "Kansai Paint Co., Ltd\n",
      "Paint\n",
      "GL-008-010\n",
      "http://www.kansai.com.hk/\n",
      "26121137\n",
      "Certification No.: HK-02204\n"
     ]
    },
    {
     "name": "stderr",
     "output_type": "stream",
     "text": [
      "C:\\Users\\USER\\AppData\\Local\\Temp\\ipykernel_3584\\4171891781.py:57: FutureWarning: The frame.append method is deprecated and will be removed from pandas in a future version. Use pandas.concat instead.\n",
      "  gc = gc.append(Dic, ignore_index=True)\n"
     ]
    },
    {
     "name": "stdout",
     "output_type": "stream",
     "text": [
      "Nippon Paint Dan Silicone Cera R\n",
      "Nippon Paint (H.K.) Co., Ltd.\n",
      "Paint\n",
      "GL-008-010\n",
      "http://www.nipponpaint.com.hk/\n",
      "27468146\n",
      "Certification No.: HK-02239\n"
     ]
    },
    {
     "name": "stderr",
     "output_type": "stream",
     "text": [
      "C:\\Users\\USER\\AppData\\Local\\Temp\\ipykernel_3584\\4171891781.py:57: FutureWarning: The frame.append method is deprecated and will be removed from pandas in a future version. Use pandas.concat instead.\n",
      "  gc = gc.append(Dic, ignore_index=True)\n"
     ]
    },
    {
     "name": "stdout",
     "output_type": "stream",
     "text": [
      "SUPER CERATIGHT F MID-COAT (for outdoor application only)\n",
      "SKK (HK) Co. Ltd.\n",
      "Paint\n",
      "GL-008-010\n",
      "http://www.skkhk.com.hk/\n",
      "25293968\n",
      "Certification No.: HK-02231\n"
     ]
    },
    {
     "name": "stderr",
     "output_type": "stream",
     "text": [
      "C:\\Users\\USER\\AppData\\Local\\Temp\\ipykernel_3584\\4171891781.py:57: FutureWarning: The frame.append method is deprecated and will be removed from pandas in a future version. Use pandas.concat instead.\n",
      "  gc = gc.append(Dic, ignore_index=True)\n"
     ]
    },
    {
     "name": "stdout",
     "output_type": "stream",
     "text": [
      "Nippon Paint Aquatec Fluorocarbon F100\n",
      "Nippon Paint (H.K.) Co., Ltd.\n",
      "Paint\n",
      "GL-008-010\n",
      "http://www.nipponpaint.com.hk/\n",
      "27468146\n",
      "Certification No.: HK-02162\n"
     ]
    },
    {
     "name": "stderr",
     "output_type": "stream",
     "text": [
      "C:\\Users\\USER\\AppData\\Local\\Temp\\ipykernel_3584\\4171891781.py:57: FutureWarning: The frame.append method is deprecated and will be removed from pandas in a future version. Use pandas.concat instead.\n",
      "  gc = gc.append(Dic, ignore_index=True)\n"
     ]
    },
    {
     "name": "stdout",
     "output_type": "stream",
     "text": [
      "SK PREMIUM SILICONE (for outdoor application only)\n",
      "SKK (HK) Co. Ltd.\n",
      "Paint\n",
      "GL-008-010\n",
      "http://www.skkhk.com.hk/\n",
      "25293968\n",
      "Certification No.: HK-02233\n"
     ]
    },
    {
     "name": "stderr",
     "output_type": "stream",
     "text": [
      "C:\\Users\\USER\\AppData\\Local\\Temp\\ipykernel_3584\\4171891781.py:57: FutureWarning: The frame.append method is deprecated and will be removed from pandas in a future version. Use pandas.concat instead.\n",
      "  gc = gc.append(Dic, ignore_index=True)\n"
     ]
    },
    {
     "name": "stdout",
     "output_type": "stream",
     "text": [
      "Aqua Cera Fusso Undercoat (for outdoor application only)\n",
      "Kansai Paint Co., Ltd\n",
      "Paint\n",
      "GL-008-010\n",
      "http://www.kansai.com.hk/\n",
      "28911085\n",
      "Certification No.: HK-02248\n"
     ]
    },
    {
     "name": "stderr",
     "output_type": "stream",
     "text": [
      "C:\\Users\\USER\\AppData\\Local\\Temp\\ipykernel_3584\\4171891781.py:57: FutureWarning: The frame.append method is deprecated and will be removed from pandas in a future version. Use pandas.concat instead.\n",
      "  gc = gc.append(Dic, ignore_index=True)\n"
     ]
    },
    {
     "name": "stdout",
     "output_type": "stream",
     "text": [
      "SUPER CERATIGHT F\n",
      "SKK (HK) Co. Ltd.\n",
      "Paint\n",
      "GL-008-010\n",
      "http://www.skkhk.com.hk/\n",
      "25293968\n",
      "Certification No.: HK-02230\n"
     ]
    },
    {
     "name": "stderr",
     "output_type": "stream",
     "text": [
      "C:\\Users\\USER\\AppData\\Local\\Temp\\ipykernel_3584\\4171891781.py:57: FutureWarning: The frame.append method is deprecated and will be removed from pandas in a future version. Use pandas.concat instead.\n",
      "  gc = gc.append(Dic, ignore_index=True)\n"
     ]
    },
    {
     "name": "stdout",
     "output_type": "stream",
     "text": [
      "Flower Water-Borne Acrylic Wall Finish 0200 Series\n",
      "The China Paint Manufacturing Company (1932) Limited\n",
      "Paint\n",
      "GL-008-010\n",
      "http://www.chinapaint.com/\n",
      "27928766\n",
      "Certification No.: HK-02028\n"
     ]
    },
    {
     "name": "stderr",
     "output_type": "stream",
     "text": [
      "C:\\Users\\USER\\AppData\\Local\\Temp\\ipykernel_3584\\4171891781.py:57: FutureWarning: The frame.append method is deprecated and will be removed from pandas in a future version. Use pandas.concat instead.\n",
      "  gc = gc.append(Dic, ignore_index=True)\n"
     ]
    },
    {
     "name": "stdout",
     "output_type": "stream",
     "text": [
      "Flower Archsite Emulsion Paint 0900HA Series\n",
      "The China Paint Manufacturing Company (1932) Limited\n",
      "Paint\n",
      "GL-008-010\n",
      "http://www.chinapaint.com/\n",
      "27928766\n",
      "Certification No.: HK-02027\n"
     ]
    },
    {
     "name": "stderr",
     "output_type": "stream",
     "text": [
      "C:\\Users\\USER\\AppData\\Local\\Temp\\ipykernel_3584\\4171891781.py:57: FutureWarning: The frame.append method is deprecated and will be removed from pandas in a future version. Use pandas.concat instead.\n",
      "  gc = gc.append(Dic, ignore_index=True)\n"
     ]
    },
    {
     "name": "stdout",
     "output_type": "stream",
     "text": [
      "Par Weather U\n",
      "Kansai Paint Co., Ltd\n",
      "Paint\n",
      "GL-008-010\n",
      "http://www.kansai.com.hk/\n",
      "28911085\n",
      "Certification No.: HK-02207\n"
     ]
    },
    {
     "name": "stderr",
     "output_type": "stream",
     "text": [
      "C:\\Users\\USER\\AppData\\Local\\Temp\\ipykernel_3584\\4171891781.py:57: FutureWarning: The frame.append method is deprecated and will be removed from pandas in a future version. Use pandas.concat instead.\n",
      "  gc = gc.append(Dic, ignore_index=True)\n"
     ]
    },
    {
     "name": "stdout",
     "output_type": "stream",
     "text": [
      "ACRISTAR SHIELD\n",
      "SKK (HK) Co. Ltd.\n",
      "Paint\n",
      "GL-008-010\n",
      "http://www.skkhk.com.hk/\n",
      "25293968\n",
      "Certification No.: HK-02210\n"
     ]
    },
    {
     "name": "stderr",
     "output_type": "stream",
     "text": [
      "C:\\Users\\USER\\AppData\\Local\\Temp\\ipykernel_3584\\4171891781.py:57: FutureWarning: The frame.append method is deprecated and will be removed from pandas in a future version. Use pandas.concat instead.\n",
      "  gc = gc.append(Dic, ignore_index=True)\n"
     ]
    },
    {
     "name": "stdout",
     "output_type": "stream",
     "text": [
      "Flower Premium Emulsion Paint 0100 Series\n",
      "The China Paint Manufacturing Company (1932) Limited\n",
      "Paint\n",
      "GL-008-010\n",
      "http://www.chinapaint.com/\n",
      "27928766\n",
      "Certification No.: HK-02030\n"
     ]
    },
    {
     "name": "stderr",
     "output_type": "stream",
     "text": [
      "C:\\Users\\USER\\AppData\\Local\\Temp\\ipykernel_3584\\4171891781.py:57: FutureWarning: The frame.append method is deprecated and will be removed from pandas in a future version. Use pandas.concat instead.\n",
      "  gc = gc.append(Dic, ignore_index=True)\n"
     ]
    }
   ],
   "source": [
    "cc = driver.find_elements(By.CSS_SELECTOR, '#TPASection_jyg0kgfl > div > div > div > div > div > section > div > ul > li > div > a')\n",
    "cc = len(cc)\n",
    "for i in range(cc):\n",
    "    clk = driver.find_elements(By.CSS_SELECTOR, '#TPASection_jyg0kgfl > div > div > div > div > div > section > div > ul > li > div > a')\n",
    "    clk = clk[i].get_attribute('href')\n",
    "    \n",
    "    # Switch to the New window\n",
    "    driver.execute_script(\"window.open('');\")\n",
    "    driver.switch_to.window(driver.window_handles[1])\n",
    "    driver.get(clk)\n",
    "    time.sleep(5)\n",
    "    \n",
    "    pnam = driver.find_element(By.CSS_SELECTOR,'#TPAMultiSection_jyg0kgsj > div > div > article > div._12vNY > section:nth-child(2) > div:nth-child(1) > h1')\n",
    "    pnam = pnam.text\n",
    "    print(pnam)  \n",
    "    \n",
    "    cnam = driver.find_element(By.CSS_SELECTOR, '#TPAMultiSection_jyg0kgsj > div > div > article > div._12vNY > section:nth-child(2) > div._3EQWi.fggS-.cell > div > ul > li:nth-child(1) > div > div')\n",
    "    cnam = cnam.text\n",
    "    print(cnam) \n",
    "    \n",
    "    pcat = driver.find_element(By.CSS_SELECTOR, '#TPAMultiSection_jyg0kgsj > div > div > article > div._12vNY > section:nth-child(2) > div._3EQWi.fggS-.cell > div > ul > li:nth-child(2) > div > div')\n",
    "    pcat = pcat.text\n",
    "    print(pcat) \n",
    "    \n",
    "    code = driver.find_element(By.CSS_SELECTOR, '#TPAMultiSection_jyg0kgsj > div > div > article > div._12vNY > section:nth-child(2) > div._3EQWi.fggS-.cell > div > ul > li:nth-child(3) > div > div')\n",
    "    code = code.text\n",
    "    print(code) \n",
    "    \n",
    "    try:\n",
    "        web = driver.find_element(By.CSS_SELECTOR, '#TPAMultiSection_jyg0kgsj > div > div > article > div._12vNY > section:nth-child(2) > div._3EQWi.fggS-.cell > div > ul > li:nth-child(4) > div > div > p > a')\n",
    "        web = web.get_attribute('href')\n",
    "        print(web) \n",
    "    except:\n",
    "        web = 'None'\n",
    "        print(web) \n",
    "    \n",
    "    try : \n",
    "        tel = driver.find_element(By.CSS_SELECTOR, '#TPAMultiSection_jyg0kgsj > div > div > article > div._12vNY > section:nth-child(2) > div._3EQWi.fggS-.cell > div > ul > li:nth-child(5) > div > div')\n",
    "        tel = tel.text\n",
    "        print(tel)\n",
    "    except:\n",
    "        tel = driver.find_element(By.CSS_SELECTOR, '#TPAMultiSection_jyg0kgsj > div > div > article > div._12vNY > section:nth-child(2) > div._3EQWi.fggS-.cell > div > ul > li:nth-child(5) > div > div > p')\n",
    "        tel = tel.text\n",
    "        print(tel)\n",
    "        \n",
    "    cno = driver.find_element(By.CSS_SELECTOR, '#TPAMultiSection_jyg0kgsj > div > div > article > div._12vNY > section:nth-child(1) > div._1FTz3.fggS-.cell > section > div > div > pre')\n",
    "    cno = cno.text\n",
    "    print(cno)\n",
    "    \n",
    "    Dic = {'Product Name':pnam,\n",
    "            'Company Name':cnam,\n",
    "            'Product Category':pcat,\n",
    "            'HKGLS Code':code,\n",
    "            'Website':web,\n",
    "            'Telphone':tel,\n",
    "            'Certification No':cno}\n",
    "    gc = gc.append(Dic, ignore_index=True)\n",
    "                 \n",
    "    \n",
    "    # Switch to the Previous window\n",
    "    driver.close()\n",
    "    driver.switch_to.window(driver.window_handles[0])\n",
    "\n",
    "    "
   ]
  },
  {
   "cell_type": "code",
   "execution_count": 5,
   "id": "b683a3f9",
   "metadata": {},
   "outputs": [
    {
     "data": {
      "text/html": [
       "<div>\n",
       "<style scoped>\n",
       "    .dataframe tbody tr th:only-of-type {\n",
       "        vertical-align: middle;\n",
       "    }\n",
       "\n",
       "    .dataframe tbody tr th {\n",
       "        vertical-align: top;\n",
       "    }\n",
       "\n",
       "    .dataframe thead th {\n",
       "        text-align: right;\n",
       "    }\n",
       "</style>\n",
       "<table border=\"1\" class=\"dataframe\">\n",
       "  <thead>\n",
       "    <tr style=\"text-align: right;\">\n",
       "      <th></th>\n",
       "      <th>Product Name</th>\n",
       "      <th>Company Name</th>\n",
       "      <th>Product Category</th>\n",
       "      <th>HKGLS Code</th>\n",
       "      <th>Website</th>\n",
       "      <th>Telphone</th>\n",
       "      <th>Certification No</th>\n",
       "    </tr>\n",
       "  </thead>\n",
       "  <tbody>\n",
       "    <tr>\n",
       "      <th>0</th>\n",
       "      <td>NaN</td>\n",
       "      <td>NaN</td>\n",
       "      <td>NaN</td>\n",
       "      <td>NaN</td>\n",
       "      <td>NaN</td>\n",
       "      <td>NaN</td>\n",
       "      <td>NaN</td>\n",
       "    </tr>\n",
       "    <tr>\n",
       "      <th>1</th>\n",
       "      <td>Inorganic Health Coating</td>\n",
       "      <td>BEYURIA International Company Limited</td>\n",
       "      <td>Paint</td>\n",
       "      <td>GL-008-010</td>\n",
       "      <td>None</td>\n",
       "      <td>68028401</td>\n",
       "      <td>Certification No.: HK-02289</td>\n",
       "    </tr>\n",
       "    <tr>\n",
       "      <th>2</th>\n",
       "      <td>Aqua Magic Under</td>\n",
       "      <td>Kansai Paint Co., Ltd</td>\n",
       "      <td>Paint</td>\n",
       "      <td>GL-008-010</td>\n",
       "      <td>http://www.kansai.com.hk/</td>\n",
       "      <td>28911085</td>\n",
       "      <td>Certification No.: HK-02293</td>\n",
       "    </tr>\n",
       "    <tr>\n",
       "      <th>3</th>\n",
       "      <td>Ales Texcoat</td>\n",
       "      <td>Kansai Paint Co., Ltd</td>\n",
       "      <td>Paint</td>\n",
       "      <td>GL-008-010</td>\n",
       "      <td>http://www.kansai.com.hk/</td>\n",
       "      <td>28911085</td>\n",
       "      <td>Certification No.: HK-02294</td>\n",
       "    </tr>\n",
       "    <tr>\n",
       "      <th>4</th>\n",
       "      <td>Decora Pallet H</td>\n",
       "      <td>Kansai Paint Co., Ltd</td>\n",
       "      <td>Paint</td>\n",
       "      <td>GL-008-010</td>\n",
       "      <td>http://www.kansai.com.hk/</td>\n",
       "      <td>28911085</td>\n",
       "      <td>Certification No.: HK-02295</td>\n",
       "    </tr>\n",
       "    <tr>\n",
       "      <th>...</th>\n",
       "      <td>...</td>\n",
       "      <td>...</td>\n",
       "      <td>...</td>\n",
       "      <td>...</td>\n",
       "      <td>...</td>\n",
       "      <td>...</td>\n",
       "      <td>...</td>\n",
       "    </tr>\n",
       "    <tr>\n",
       "      <th>95</th>\n",
       "      <td>Flower Water-Borne Acrylic Wall Finish 0200 Se...</td>\n",
       "      <td>The China Paint Manufacturing Company (1932) L...</td>\n",
       "      <td>Paint</td>\n",
       "      <td>GL-008-010</td>\n",
       "      <td>http://www.chinapaint.com/</td>\n",
       "      <td>27928766</td>\n",
       "      <td>Certification No.: HK-02028</td>\n",
       "    </tr>\n",
       "    <tr>\n",
       "      <th>96</th>\n",
       "      <td>Flower Archsite Emulsion Paint 0900HA Series</td>\n",
       "      <td>The China Paint Manufacturing Company (1932) L...</td>\n",
       "      <td>Paint</td>\n",
       "      <td>GL-008-010</td>\n",
       "      <td>http://www.chinapaint.com/</td>\n",
       "      <td>27928766</td>\n",
       "      <td>Certification No.: HK-02027</td>\n",
       "    </tr>\n",
       "    <tr>\n",
       "      <th>97</th>\n",
       "      <td>Par Weather U</td>\n",
       "      <td>Kansai Paint Co., Ltd</td>\n",
       "      <td>Paint</td>\n",
       "      <td>GL-008-010</td>\n",
       "      <td>http://www.kansai.com.hk/</td>\n",
       "      <td>28911085</td>\n",
       "      <td>Certification No.: HK-02207</td>\n",
       "    </tr>\n",
       "    <tr>\n",
       "      <th>98</th>\n",
       "      <td>ACRISTAR SHIELD</td>\n",
       "      <td>SKK (HK) Co. Ltd.</td>\n",
       "      <td>Paint</td>\n",
       "      <td>GL-008-010</td>\n",
       "      <td>http://www.skkhk.com.hk/</td>\n",
       "      <td>25293968</td>\n",
       "      <td>Certification No.: HK-02210</td>\n",
       "    </tr>\n",
       "    <tr>\n",
       "      <th>99</th>\n",
       "      <td>Flower Premium Emulsion Paint 0100 Series</td>\n",
       "      <td>The China Paint Manufacturing Company (1932) L...</td>\n",
       "      <td>Paint</td>\n",
       "      <td>GL-008-010</td>\n",
       "      <td>http://www.chinapaint.com/</td>\n",
       "      <td>27928766</td>\n",
       "      <td>Certification No.: HK-02030</td>\n",
       "    </tr>\n",
       "  </tbody>\n",
       "</table>\n",
       "<p>100 rows × 7 columns</p>\n",
       "</div>"
      ],
      "text/plain": [
       "                                         Product Name  \\\n",
       "0                                                 NaN   \n",
       "1                            Inorganic Health Coating   \n",
       "2                                    Aqua Magic Under   \n",
       "3                                        Ales Texcoat   \n",
       "4                                     Decora Pallet H   \n",
       "..                                                ...   \n",
       "95  Flower Water-Borne Acrylic Wall Finish 0200 Se...   \n",
       "96       Flower Archsite Emulsion Paint 0900HA Series   \n",
       "97                                      Par Weather U   \n",
       "98                                    ACRISTAR SHIELD   \n",
       "99          Flower Premium Emulsion Paint 0100 Series   \n",
       "\n",
       "                                         Company Name Product Category  \\\n",
       "0                                                 NaN              NaN   \n",
       "1               BEYURIA International Company Limited            Paint   \n",
       "2                               Kansai Paint Co., Ltd            Paint   \n",
       "3                               Kansai Paint Co., Ltd            Paint   \n",
       "4                               Kansai Paint Co., Ltd            Paint   \n",
       "..                                                ...              ...   \n",
       "95  The China Paint Manufacturing Company (1932) L...            Paint   \n",
       "96  The China Paint Manufacturing Company (1932) L...            Paint   \n",
       "97                              Kansai Paint Co., Ltd            Paint   \n",
       "98                                  SKK (HK) Co. Ltd.            Paint   \n",
       "99  The China Paint Manufacturing Company (1932) L...            Paint   \n",
       "\n",
       "    HKGLS Code                     Website  Telphone  \\\n",
       "0          NaN                         NaN       NaN   \n",
       "1   GL-008-010                        None  68028401   \n",
       "2   GL-008-010   http://www.kansai.com.hk/  28911085   \n",
       "3   GL-008-010   http://www.kansai.com.hk/  28911085   \n",
       "4   GL-008-010   http://www.kansai.com.hk/  28911085   \n",
       "..         ...                         ...       ...   \n",
       "95  GL-008-010  http://www.chinapaint.com/  27928766   \n",
       "96  GL-008-010  http://www.chinapaint.com/  27928766   \n",
       "97  GL-008-010   http://www.kansai.com.hk/  28911085   \n",
       "98  GL-008-010    http://www.skkhk.com.hk/  25293968   \n",
       "99  GL-008-010  http://www.chinapaint.com/  27928766   \n",
       "\n",
       "               Certification No  \n",
       "0                           NaN  \n",
       "1   Certification No.: HK-02289  \n",
       "2   Certification No.: HK-02293  \n",
       "3   Certification No.: HK-02294  \n",
       "4   Certification No.: HK-02295  \n",
       "..                          ...  \n",
       "95  Certification No.: HK-02028  \n",
       "96  Certification No.: HK-02027  \n",
       "97  Certification No.: HK-02207  \n",
       "98  Certification No.: HK-02210  \n",
       "99  Certification No.: HK-02030  \n",
       "\n",
       "[100 rows x 7 columns]"
      ]
     },
     "execution_count": 5,
     "metadata": {},
     "output_type": "execute_result"
    }
   ],
   "source": [
    "gc"
   ]
  },
  {
   "cell_type": "code",
   "execution_count": 6,
   "id": "e03145b8",
   "metadata": {},
   "outputs": [],
   "source": [
    "gc.to_excel('Green Council 16.07.22.xlsx')"
   ]
  }
 ],
 "metadata": {
  "kernelspec": {
   "display_name": "Python 3 (ipykernel)",
   "language": "python",
   "name": "python3"
  },
  "language_info": {
   "codemirror_mode": {
    "name": "ipython",
    "version": 3
   },
   "file_extension": ".py",
   "mimetype": "text/x-python",
   "name": "python",
   "nbconvert_exporter": "python",
   "pygments_lexer": "ipython3",
   "version": "3.9.12"
  }
 },
 "nbformat": 4,
 "nbformat_minor": 5
}
