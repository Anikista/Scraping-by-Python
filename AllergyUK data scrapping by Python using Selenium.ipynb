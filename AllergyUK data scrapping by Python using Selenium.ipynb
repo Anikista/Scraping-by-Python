{
 "cells": [
  {
   "cell_type": "code",
   "execution_count": 1,
   "id": "1bbcd030",
   "metadata": {},
   "outputs": [
    {
     "name": "stdout",
     "output_type": "stream",
     "text": [
      "\n"
     ]
    },
    {
     "name": "stderr",
     "output_type": "stream",
     "text": [
      "[WDM] - ====== WebDriver manager ======\n",
      "[WDM] - Current google-chrome version is 103.0.5060\n",
      "[WDM] - Get LATEST chromedriver version for 103.0.5060 google-chrome\n",
      "[WDM] - Driver [C:\\Users\\USER\\.wdm\\drivers\\chromedriver\\win32\\103.0.5060.53\\chromedriver.exe] found in cache\n",
      "C:\\Users\\USER\\AppData\\Local\\Temp\\ipykernel_3868\\74323366.py:19: DeprecationWarning: executable_path has been deprecated, please pass in a Service object\n",
      "  driver = webdriver.Chrome(ChromeDriverManager().install())\n"
     ]
    }
   ],
   "source": [
    "import selenium                                                \n",
    "import pandas as pd \n",
    "import re\n",
    "from selenium import webdriver\n",
    "from selenium.common.exceptions import NoSuchElementException\n",
    "from selenium.common.exceptions import TimeoutException\n",
    "from selenium.webdriver.support import expected_conditions as EC\n",
    "from selenium.webdriver.support.ui import WebDriverWait\n",
    "from selenium.webdriver.support import expected_conditions as EC\n",
    "from selenium.webdriver.chrome.options import Options\n",
    "from selenium.webdriver.common.by import By\n",
    "import time\n",
    "from selenium.webdriver.common.action_chains import ActionChains\n",
    "import string\n",
    "import os, platform\n",
    "import requests\n",
    "from bs4 import BeautifulSoup\n",
    "from webdriver_manager.chrome import ChromeDriverManager      \n",
    "driver = webdriver.Chrome(ChromeDriverManager().install())\n",
    "#driver = webdriver.Chrome(executable_path='/Users/User/Upwork Project/PlanetX/chromedriver')\n",
    "driver.maximize_window()"
   ]
  },
  {
   "cell_type": "code",
   "execution_count": 2,
   "id": "89616cae",
   "metadata": {},
   "outputs": [
    {
     "data": {
      "text/html": [
       "<div>\n",
       "<style scoped>\n",
       "    .dataframe tbody tr th:only-of-type {\n",
       "        vertical-align: middle;\n",
       "    }\n",
       "\n",
       "    .dataframe tbody tr th {\n",
       "        vertical-align: top;\n",
       "    }\n",
       "\n",
       "    .dataframe thead th {\n",
       "        text-align: right;\n",
       "    }\n",
       "</style>\n",
       "<table border=\"1\" class=\"dataframe\">\n",
       "  <thead>\n",
       "    <tr style=\"text-align: right;\">\n",
       "      <th></th>\n",
       "      <th>Product Name</th>\n",
       "      <th>Product Description</th>\n",
       "      <th>Approval</th>\n",
       "      <th>Product Type</th>\n",
       "      <th>Manufacturer</th>\n",
       "      <th>Telephone</th>\n",
       "      <th>Website</th>\n",
       "      <th>E-mail</th>\n",
       "      <th>Location</th>\n",
       "      <th>price</th>\n",
       "      <th>Product Category</th>\n",
       "    </tr>\n",
       "  </thead>\n",
       "  <tbody>\n",
       "    <tr>\n",
       "      <th>0</th>\n",
       "      <td>NaN</td>\n",
       "      <td>NaN</td>\n",
       "      <td>NaN</td>\n",
       "      <td>NaN</td>\n",
       "      <td>NaN</td>\n",
       "      <td>NaN</td>\n",
       "      <td>NaN</td>\n",
       "      <td>NaN</td>\n",
       "      <td>NaN</td>\n",
       "      <td>NaN</td>\n",
       "      <td>NaN</td>\n",
       "    </tr>\n",
       "  </tbody>\n",
       "</table>\n",
       "</div>"
      ],
      "text/plain": [
       "  Product Name Product Description Approval Product Type Manufacturer  \\\n",
       "0          NaN                 NaN      NaN          NaN          NaN   \n",
       "\n",
       "  Telephone Website E-mail Location price Product Category  \n",
       "0       NaN     NaN    NaN      NaN   NaN              NaN  "
      ]
     },
     "execution_count": 2,
     "metadata": {},
     "output_type": "execute_result"
    }
   ],
   "source": [
    "Dic = {}\n",
    "gc= pd.DataFrame(data=Dic,index=[0], \n",
    "                columns=['Product Name',\n",
    "                'Product Description',\n",
    "                'Approval',\n",
    "                'Product Type',\n",
    "                'Manufacturer',\n",
    "                'Telephone',\n",
    "                'Website',\n",
    "                'E-mail',\n",
    "                'Location',\n",
    "                'price',\n",
    "                'Product Category'])\n",
    "gc"
   ]
  },
  {
   "cell_type": "code",
   "execution_count": 3,
   "id": "0fda1905",
   "metadata": {},
   "outputs": [],
   "source": [
    "url = 'https://www.allergyuk.org/our-services/allergyuk-products/'\n",
    "driver.get(url)"
   ]
  },
  {
   "cell_type": "code",
   "execution_count": 4,
   "id": "1b8c7361",
   "metadata": {},
   "outputs": [
    {
     "name": "stdout",
     "output_type": "stream",
     "text": [
      "How many pages? 14\n"
     ]
    }
   ],
   "source": [
    "#input 14\n",
    "pages = input('How many pages? ')\n",
    "pages = int(pages)"
   ]
  },
  {
   "cell_type": "code",
   "execution_count": 5,
   "id": "65db26a9",
   "metadata": {},
   "outputs": [
    {
     "name": "stdout",
     "output_type": "stream",
     "text": [
      "OSIM uAlpine Smart 2\n",
      "Designed with the ultimate air purification in mind, uAlpine Smart 2 combines 6 potent types of air purification methods into 1 to thoroughly and completely clean the air.\n",
      "Seal of approval: Yes\n",
      "Type: Air Purifiers\n",
      "Manufacture: OSIM International Ltd\n",
      "tel:Please refer to www.osim.com\n",
      "https://www.osim.com/\n",
      "Location: UK, Worldwide\n",
      "Product Category: Efficiency reducing small particulates which may include allergens, bacteria, and viruses\n",
      "Price: Please refer to www.osim.com\n"
     ]
    },
    {
     "name": "stderr",
     "output_type": "stream",
     "text": [
      "C:\\Users\\USER\\AppData\\Local\\Temp\\ipykernel_3868\\89686676.py:105: FutureWarning: The frame.append method is deprecated and will be removed from pandas in a future version. Use pandas.concat instead.\n",
      "  gc = gc.append(Dic, ignore_index=True)\n"
     ]
    },
    {
     "name": "stdout",
     "output_type": "stream",
     "text": [
      "THOMAS AQUA+ Pet & Family\n",
      "THOMAS AQUA+ Technology: The perfect solution for allergy sufferers\n",
      "Seal of approval: Yes\n",
      "Type: Vacuum Cleaners & Accessories\n",
      "Manufacture: Robert Thomas\n",
      "None\n",
      "https://www.thomas-petandfamily.co.uk/\n",
      "Location: UK, Europe\n",
      "None\n",
      "None\n"
     ]
    },
    {
     "name": "stderr",
     "output_type": "stream",
     "text": [
      "C:\\Users\\USER\\AppData\\Local\\Temp\\ipykernel_3868\\89686676.py:105: FutureWarning: The frame.append method is deprecated and will be removed from pandas in a future version. Use pandas.concat instead.\n",
      "  gc = gc.append(Dic, ignore_index=True)\n"
     ]
    },
    {
     "name": "stdout",
     "output_type": "stream",
     "text": [
      "SHIELDME Hand Sanitiser 100ml\n",
      "SHIELD MIDDLE EAST is a leader in manufacturing hygienic solutions from natural resources as an alternative from current Chemical or Alcohol products.\n",
      "Seal of approval: Yes\n",
      "Type: Cleaning Products\n",
      "Manufacture: SHIELD MIDDLE EAST FZCO UAE\n",
      "tel:+971 4 815 1111\n",
      "https://www.shieldmeglobal.com/\n",
      "Location: UAE, Kuwait, Oman, Bahrain\n",
      "Product Category: Unlikely to Cause a Reaction, May be of Benefit\n",
      "Price: $4.5\n"
     ]
    },
    {
     "name": "stderr",
     "output_type": "stream",
     "text": [
      "C:\\Users\\USER\\AppData\\Local\\Temp\\ipykernel_3868\\89686676.py:105: FutureWarning: The frame.append method is deprecated and will be removed from pandas in a future version. Use pandas.concat instead.\n",
      "  gc = gc.append(Dic, ignore_index=True)\n"
     ]
    },
    {
     "name": "stdout",
     "output_type": "stream",
     "text": [
      "SHIELDME Disinfectant 5L\n",
      "SHIELD MIDDLE EAST is a leader in manufacturing hygienic solutions from natural resources as an alternative from current Chemical or Alcohol products.\n",
      "Allergy Friendly Product Award: Yes\n",
      "Type: Cleaning Products\n",
      "Manufacture: SHIELD MIDDLE EAST FZCO UAE\n",
      "tel:+971 4 815 1111\n",
      "https://www.shieldmeglobal.com/\n",
      "Location: UAE, Kuwait, Oman, Bahrain\n",
      "Product Category: Unlikely to Cause a Reaction, May be of Benefit\n",
      "Price: $45\n"
     ]
    },
    {
     "name": "stderr",
     "output_type": "stream",
     "text": [
      "C:\\Users\\USER\\AppData\\Local\\Temp\\ipykernel_3868\\89686676.py:105: FutureWarning: The frame.append method is deprecated and will be removed from pandas in a future version. Use pandas.concat instead.\n",
      "  gc = gc.append(Dic, ignore_index=True)\n"
     ]
    },
    {
     "name": "stdout",
     "output_type": "stream",
     "text": [
      "Natural Blossom Signature Wet Wipes, Natural Blossom Premium Wet Wipes\n",
      "Natural Blossom Signature & Premium wet wipes contain 99% purified water to provide an ultimate soft and gentle clean to baby’s hands, face, and bottom. Registered by Vegan Society and dermatologist tested.\n",
      "Allergy Friendly Product Award: Yes\n",
      "Type: Infant Care\n",
      "Manufacture: Heritage Ventures Co Ltd\n",
      "tel:07050044918\n",
      "http://www.1cmplus.com/\n",
      "Location: South Korea\n",
      "None\n",
      "Price: $3~$5 per pack\n"
     ]
    },
    {
     "name": "stderr",
     "output_type": "stream",
     "text": [
      "C:\\Users\\USER\\AppData\\Local\\Temp\\ipykernel_3868\\89686676.py:105: FutureWarning: The frame.append method is deprecated and will be removed from pandas in a future version. Use pandas.concat instead.\n",
      "  gc = gc.append(Dic, ignore_index=True)\n"
     ]
    },
    {
     "name": "stdout",
     "output_type": "stream",
     "text": [
      "LG AeroTower\n",
      "None\n",
      "Seal of approval: Yes\n",
      "Type: Air Purifiers\n",
      "Manufacture: LG Electronics Inc\n",
      "None\n",
      "https://www.lge.com/\n",
      "Location: UK, Worldwide\n",
      "None\n",
      "None\n"
     ]
    },
    {
     "name": "stderr",
     "output_type": "stream",
     "text": [
      "C:\\Users\\USER\\AppData\\Local\\Temp\\ipykernel_3868\\89686676.py:105: FutureWarning: The frame.append method is deprecated and will be removed from pandas in a future version. Use pandas.concat instead.\n",
      "  gc = gc.append(Dic, ignore_index=True)\n"
     ]
    },
    {
     "name": "stdout",
     "output_type": "stream",
     "text": [
      "Pledge® Fluffy Duster Starter Kit & Refills\n",
      "The Pledge Duster Starter Kit picks up unwanted particles like dust, dirt and lint. Bringing out the beauty in your home can be as quick and easy as a simple dusting. Pledge Dusters are made with long, fluffy fibres that remove dust and the allergens* in dust, dirt and lint with a few effortless swipes of the handle. Unlike a traditional feather duster, simply attach a disposable duster to the handle, dust your surfaces and toss away your dirty disposable dusters. This duster brush kit includes a duster handle and 2 disposable fluffy dusters. *From pet dander.\n",
      "Seal of approval: Yes\n",
      "Type: Cleaning Products\n",
      "Manufacture: SC Johnson\n",
      "tel:0800 353 353\n",
      "https://amzn.to/3k0v0zL\n",
      "Location: UK, Netherlands\n",
      "None\n",
      "Price: £2.50- £3\n"
     ]
    },
    {
     "name": "stderr",
     "output_type": "stream",
     "text": [
      "C:\\Users\\USER\\AppData\\Local\\Temp\\ipykernel_3868\\89686676.py:105: FutureWarning: The frame.append method is deprecated and will be removed from pandas in a future version. Use pandas.concat instead.\n",
      "  gc = gc.append(Dic, ignore_index=True)\n"
     ]
    },
    {
     "name": "stdout",
     "output_type": "stream",
     "text": [
      "Micro-Fresh 2611\n",
      "Micro-Fresh® is the global, trusted freshness brand which prevents bacteria and odours in products, keeping them fresher for longer. Micro-Fresh® is anti-allergy and anti-dust mite, tested and proven.\n",
      "Seal of approval: Yes\n",
      "Type: Textile Treatment\n",
      "Manufacture: Corium Solutions Limited Micro-Fresh International\n",
      "tel:+441162701333\n",
      "https://www.microfresh.com/%20\n",
      "Location: Worldwide, UK\n",
      "None\n",
      "None\n"
     ]
    },
    {
     "name": "stderr",
     "output_type": "stream",
     "text": [
      "C:\\Users\\USER\\AppData\\Local\\Temp\\ipykernel_3868\\89686676.py:105: FutureWarning: The frame.append method is deprecated and will be removed from pandas in a future version. Use pandas.concat instead.\n",
      "  gc = gc.append(Dic, ignore_index=True)\n"
     ]
    },
    {
     "name": "stdout",
     "output_type": "stream",
     "text": [
      "Vitex Care Paint\n",
      "Vitex Care Flat and Vitex Care Eggshell; Ultra-premium indoor wall paints.\n",
      "Seal of approval: Yes\n",
      "Type: Paints & Varnishes\n",
      "Manufacture: VITEX S.A\n",
      "tel:+302105589400\n",
      "https://www.vitex.gr/product/vitex-care/\n",
      "Location: Greece, Cyprus, Bulgaria, Serbia, Romania\n",
      "None\n",
      "Price: £ 7-10 / lit\n"
     ]
    },
    {
     "name": "stderr",
     "output_type": "stream",
     "text": [
      "C:\\Users\\USER\\AppData\\Local\\Temp\\ipykernel_3868\\89686676.py:105: FutureWarning: The frame.append method is deprecated and will be removed from pandas in a future version. Use pandas.concat instead.\n",
      "  gc = gc.append(Dic, ignore_index=True)\n"
     ]
    },
    {
     "name": "stdout",
     "output_type": "stream",
     "text": [
      "Coway Air purifier\n",
      "An architecture-inspired, premium design is used in the Noble Air Purifier. A 360-degree suction/discharge system with no space constraints is used, and the top plate can be redirected to suit the users’ needs. The patented 4-way multi-dimensional filter system has implemented strong cleaning performance by applying an ultra-fine dust collection filter, deodorization filter, and environment-specific air matching filter.\n",
      "Seal of approval: Yes\n",
      "Type: Air Purifiers\n",
      "Manufacture: Coway Co. Ltd\n",
      "tel:82-2-1588-5200 (KR)\n",
      "https://www.coway.com/\n",
      "Location: Korea\n",
      "None\n",
      "Price: 845~1440 $\n"
     ]
    },
    {
     "name": "stderr",
     "output_type": "stream",
     "text": [
      "C:\\Users\\USER\\AppData\\Local\\Temp\\ipykernel_3868\\89686676.py:105: FutureWarning: The frame.append method is deprecated and will be removed from pandas in a future version. Use pandas.concat instead.\n",
      "  gc = gc.append(Dic, ignore_index=True)\n"
     ]
    },
    {
     "name": "stdout",
     "output_type": "stream",
     "text": [
      "Allergy Care\n",
      "This is an anti-allergy bedding using natural active ingredient.\n",
      "Seal of approval: Yes\n",
      "Type: Bedding\n",
      "Manufacture: Baekhap Co. Ltd\n",
      "tel:82-2-6490-3000\n",
      "https://www.evezary.co.kr/\n",
      "Location: USA, South Korea, China\n",
      "None\n",
      "Price: $350\n"
     ]
    },
    {
     "name": "stderr",
     "output_type": "stream",
     "text": [
      "C:\\Users\\USER\\AppData\\Local\\Temp\\ipykernel_3868\\89686676.py:105: FutureWarning: The frame.append method is deprecated and will be removed from pandas in a future version. Use pandas.concat instead.\n",
      "  gc = gc.append(Dic, ignore_index=True)\n"
     ]
    },
    {
     "name": "stdout",
     "output_type": "stream",
     "text": [
      "Hotpoint Washing Machines\n",
      "STEAM: Hotpoint/Hotpoint Ariston/Ariston Washing Machines/Washer dryers take care of your laundry guaranteeing perfect hygiene and outstanding cleaning results. All Washing machines/washer dryers with Steam function eliminate fungi, bacteria and house dust mite by 100% from all cotton and synthetic fabrics, baby clothes, and bedding.\n",
      "Seal of approval: Yes\n",
      "Type: Laundry Appliances\n",
      "Manufacture: Indesit\n",
      "None\n",
      "https://www.hotpoint.co.uk/\n",
      "Location: UK, Ireland, Europe\n",
      "None\n",
      "Price: £449 - £699\n"
     ]
    },
    {
     "name": "stderr",
     "output_type": "stream",
     "text": [
      "C:\\Users\\USER\\AppData\\Local\\Temp\\ipykernel_3868\\89686676.py:105: FutureWarning: The frame.append method is deprecated and will be removed from pandas in a future version. Use pandas.concat instead.\n",
      "  gc = gc.append(Dic, ignore_index=True)\n"
     ]
    },
    {
     "name": "stdout",
     "output_type": "stream",
     "text": [
      "Hotpoint-Ariston Standard Condenser Tumble Dryer\n",
      "ANTI ALLERGY ACTION. New Hotpoint/Hotpoint-Ariston Tumble Dryers take care of your laundry guaranteeing you perfect hygiene and outstanding drying results. The special Anti Allergy Cycle provides a deep sterilization of your garments reducing the presence of house dust mite, fung and bacteria. It is an ideal solution to help reducing problems due to allergens.\n",
      "Seal of approval: Yes\n",
      "Type: Laundry Appliances\n",
      "Manufacture: Indesit\n",
      "None\n",
      "https://www.hotpoint.co.uk/\n",
      "Location: Worldwide, UK\n",
      "None\n",
      "Price: £379.00 - £449.00\n"
     ]
    },
    {
     "name": "stderr",
     "output_type": "stream",
     "text": [
      "C:\\Users\\USER\\AppData\\Local\\Temp\\ipykernel_3868\\89686676.py:105: FutureWarning: The frame.append method is deprecated and will be removed from pandas in a future version. Use pandas.concat instead.\n",
      "  gc = gc.append(Dic, ignore_index=True)\n"
     ]
    },
    {
     "name": "stdout",
     "output_type": "stream",
     "text": [
      "Tromm Styler\n",
      "The Styler, designed by LG Electronics, is a quick and easy way to sanitize, deodorize and remove wrinkles from your clothes.\n",
      "Seal of approval: Yes\n",
      "Type: Laundry Appliances\n",
      "Manufacture: LG Electronics Inc\n",
      "tel:82-2-3777-1114\n",
      "None\n",
      "Location: Korea, USA, CIS, Asia\n",
      "None\n",
      "Price: £1110.02\n"
     ]
    },
    {
     "name": "stderr",
     "output_type": "stream",
     "text": [
      "C:\\Users\\USER\\AppData\\Local\\Temp\\ipykernel_3868\\89686676.py:105: FutureWarning: The frame.append method is deprecated and will be removed from pandas in a future version. Use pandas.concat instead.\n",
      "  gc = gc.append(Dic, ignore_index=True)\n"
     ]
    },
    {
     "name": "stdout",
     "output_type": "stream",
     "text": [
      "LG Washing Machine\n",
      "Steam washing machine is a washing machine which has steam functions. Powerful steam has been scientifically proven to reduce House Dust Mite and Pollen allergens, and Bacteria by 99% in clothes, pillows and bedclothes.\n",
      "Seal of approval: Yes\n",
      "Type: Laundry Appliances\n",
      "Manufacture: LG Electronics Inc\n",
      "None\n",
      "None\n",
      "Location: Europe, UK, Asia\n",
      "None\n",
      "Price: £899\n"
     ]
    },
    {
     "name": "stderr",
     "output_type": "stream",
     "text": [
      "C:\\Users\\USER\\AppData\\Local\\Temp\\ipykernel_3868\\89686676.py:105: FutureWarning: The frame.append method is deprecated and will be removed from pandas in a future version. Use pandas.concat instead.\n",
      "  gc = gc.append(Dic, ignore_index=True)\n"
     ]
    },
    {
     "name": "stdout",
     "output_type": "stream",
     "text": [
      "LG Vacuum Cleaners (Bagless)\n",
      "Upgrade Dust Compression system. Simple Dust Compress Hygienic dust control. Prevents dust cloud when emptying bin. HEPA 13 Carbon Filter with SLG 5 Star.\n",
      "Seal of approval: Yes\n",
      "Type: Vacuum Cleaners & Accessories\n",
      "Manufacture: LG Electronics Inc\n",
      "None\n",
      "https://www.lge.com/\n",
      "Location: Worldwide, UK\n",
      "None\n",
      "Price: €200 - €400\n"
     ]
    },
    {
     "name": "stderr",
     "output_type": "stream",
     "text": [
      "C:\\Users\\USER\\AppData\\Local\\Temp\\ipykernel_3868\\89686676.py:105: FutureWarning: The frame.append method is deprecated and will be removed from pandas in a future version. Use pandas.concat instead.\n",
      "  gc = gc.append(Dic, ignore_index=True)\n"
     ]
    },
    {
     "name": "stdout",
     "output_type": "stream",
     "text": [
      "LG Top Loader Washing Machine\n",
      "LG’s New Innovative Hygienic Washer provides better washing performance, hygiene, and convenience with 6 motion DD, Inverter DD Motor, Heater, Tub Clean +, Full stainless steel Tub and Cutting-edge design.\n",
      "Seal of approval: Yes\n",
      "Type: Laundry Appliances\n",
      "Manufacture: LG Electronics Inc\n",
      "tel:0844 847 5454\n",
      "https://www.lg.com/\n",
      "Location: Middle East, Asia, South America\n",
      "None\n",
      "None\n"
     ]
    },
    {
     "name": "stderr",
     "output_type": "stream",
     "text": [
      "C:\\Users\\USER\\AppData\\Local\\Temp\\ipykernel_3868\\89686676.py:105: FutureWarning: The frame.append method is deprecated and will be removed from pandas in a future version. Use pandas.concat instead.\n",
      "  gc = gc.append(Dic, ignore_index=True)\n"
     ]
    },
    {
     "name": "stdout",
     "output_type": "stream",
     "text": [
      "LG Steam Washing Machine\n",
      "Steam washing machine is a washing machine which has steam functions. Powerful steam has been proven to kill and remove house dust mite, dog allergen, cat allergen & pollen allergen by 100.00% in clothes, pillows and bedclothes.\n",
      "Seal of approval: Yes\n",
      "Type: Laundry Appliances\n",
      "Manufacture: LG Electronics Inc\n",
      "tel:0870 873 5454\n",
      "https://www.lge.com/\n",
      "Location: Korea, Asia\n",
      "None\n",
      "None\n"
     ]
    },
    {
     "name": "stderr",
     "output_type": "stream",
     "text": [
      "C:\\Users\\USER\\AppData\\Local\\Temp\\ipykernel_3868\\89686676.py:105: FutureWarning: The frame.append method is deprecated and will be removed from pandas in a future version. Use pandas.concat instead.\n",
      "  gc = gc.append(Dic, ignore_index=True)\n"
     ]
    },
    {
     "name": "stdout",
     "output_type": "stream",
     "text": [
      "LG Steam Washing Machine\n",
      "Steam washing machine is a washing machine which has steam functions. Powerful steam has been proven to reduce 99.99% of house dust mite allergens, 99.53% of pollen allergen, and 99.9% of bacteria (K. pneumonia, S. aureus, and P. aeruginosa) in your clothes, pillows and bedclothes.\n",
      "Seal of approval: Yes\n",
      "Type: Laundry Appliances\n",
      "Manufacture: LG Electronics Inc\n",
      "tel:0870 873 5454\n",
      "https://www.lge.com/\n",
      "None\n",
      "None\n",
      "Price: £650.00\n"
     ]
    },
    {
     "name": "stderr",
     "output_type": "stream",
     "text": [
      "C:\\Users\\USER\\AppData\\Local\\Temp\\ipykernel_3868\\89686676.py:105: FutureWarning: The frame.append method is deprecated and will be removed from pandas in a future version. Use pandas.concat instead.\n",
      "  gc = gc.append(Dic, ignore_index=True)\n"
     ]
    },
    {
     "name": "stdout",
     "output_type": "stream",
     "text": [
      "LG Puricare™ 360 Single air purifier\n",
      "None\n",
      "Seal of approval: Yes\n",
      "Type: Air Purifiers\n",
      "Manufacture: LG Electronics Inc\n",
      "None\n",
      "https://www.lge.com/\n",
      "Location: Worldwide, UK\n",
      "Product Category: Efficiency reducing small particulates which may include allergens, bacteria, and viruses\n",
      "None\n"
     ]
    },
    {
     "name": "stderr",
     "output_type": "stream",
     "text": [
      "C:\\Users\\USER\\AppData\\Local\\Temp\\ipykernel_3868\\89686676.py:105: FutureWarning: The frame.append method is deprecated and will be removed from pandas in a future version. Use pandas.concat instead.\n",
      "  gc = gc.append(Dic, ignore_index=True)\n"
     ]
    },
    {
     "name": "stdout",
     "output_type": "stream",
     "text": [
      "LG PuriCare™ Wearable Air purifier\n",
      "Breathing in fresh and clean air has never been easier. LG’s new PuriCare™ wearable air purifier blocks harmful particles with HEPA filters for a breath of fresh air and the fans on each side adjust to the speed of your own breathing cycle- making breathing a breeze.\n",
      "Seal of approval: Yes\n",
      "Type: Air Purifiers\n",
      "Manufacture: LG Electronics Inc\n",
      "None\n",
      "https://www.lg.com/hk_en/puricare/lg-ap551awfa\n",
      "Location: Middle East, Asia, Panama, Colombia, India, Russia, Ukraine, Kasachstan, Argentina\n",
      "None\n",
      "None\n"
     ]
    },
    {
     "name": "stderr",
     "output_type": "stream",
     "text": [
      "C:\\Users\\USER\\AppData\\Local\\Temp\\ipykernel_3868\\89686676.py:105: FutureWarning: The frame.append method is deprecated and will be removed from pandas in a future version. Use pandas.concat instead.\n",
      "  gc = gc.append(Dic, ignore_index=True)\n"
     ]
    },
    {
     "name": "stdout",
     "output_type": "stream",
     "text": [
      "LG PuriCare™ 360 air purifier\n",
      "None\n",
      "Seal of approval: Yes\n",
      "Type: Air Purifiers\n",
      "Manufacture: LG Electronics Inc\n",
      "None\n",
      "https://www.lge.com/\n",
      "Location: Worldwide, UK\n",
      "Product Category: Efficiency reducing small particulates which may include allergens, bacteria, and viruses\n",
      "None\n"
     ]
    },
    {
     "name": "stderr",
     "output_type": "stream",
     "text": [
      "C:\\Users\\USER\\AppData\\Local\\Temp\\ipykernel_3868\\89686676.py:105: FutureWarning: The frame.append method is deprecated and will be removed from pandas in a future version. Use pandas.concat instead.\n",
      "  gc = gc.append(Dic, ignore_index=True)\n"
     ]
    },
    {
     "name": "stdout",
     "output_type": "stream",
     "text": [
      "LG DUAL Inverter Heat Pump Dryer\n",
      "LG DUAL Inverter Heat Pump Dryer provides the option to either save energy or time using Eco Hybrid™ technology. Low temperature dry can smoothen crease and reduce shrinkage. Allergy Care cycle certified by BAF (British Allergy Foundation) reduces 99.9% live house dust mites.\n",
      "Seal of approval: Yes\n",
      "Type: Laundry Appliances\n",
      "Manufacture: LG Electronics Inc\n",
      "tel:0844 847 5454\n",
      "https://www.lge.com/\n",
      "Location: UK, Europe, Asia, Middle East, USA, South America, Australia\n",
      "None\n",
      "Price: £899\n"
     ]
    },
    {
     "name": "stderr",
     "output_type": "stream",
     "text": [
      "C:\\Users\\USER\\AppData\\Local\\Temp\\ipykernel_3868\\89686676.py:105: FutureWarning: The frame.append method is deprecated and will be removed from pandas in a future version. Use pandas.concat instead.\n",
      "  gc = gc.append(Dic, ignore_index=True)\n"
     ]
    },
    {
     "name": "stdout",
     "output_type": "stream",
     "text": [
      "LG Air Purifier\n",
      "LG Air Purifier has powerful performance with 3 main filter system. The system is a technology of LG’s own. Powerful Filter System has been proven to kill house dust mites & mold by 100.00% in the air.\n",
      "Seal of approval: Yes\n",
      "Type: Air Purifiers\n",
      "Manufacture: LG Electronics Inc\n",
      "tel:82-10-7511-4767\n",
      "https://%20www.lge.com/\n",
      "Location: Europe, CIS, Asia, Middle East, UK\n",
      "None\n",
      "Price: £340\n"
     ]
    },
    {
     "name": "stderr",
     "output_type": "stream",
     "text": [
      "C:\\Users\\USER\\AppData\\Local\\Temp\\ipykernel_3868\\89686676.py:105: FutureWarning: The frame.append method is deprecated and will be removed from pandas in a future version. Use pandas.concat instead.\n",
      "  gc = gc.append(Dic, ignore_index=True)\n"
     ]
    },
    {
     "name": "stdout",
     "output_type": "stream",
     "text": [
      "LG Air purification kit for cassette air conditioner\n",
      "Efficient in reducing small particulates which may include allergens, bacteria and viruses.\n",
      "Seal of approval: Yes\n",
      "Type: Air Purifiers\n",
      "Manufacture: LG Electronics Inc\n",
      "None\n",
      "https://www.lghvacstory.com/\n",
      "Location: Worldwide, UK\n",
      "Product Category: Efficiency reducing small particulates which may include allergens, bacteria, and viruses\n",
      "None\n"
     ]
    },
    {
     "name": "stderr",
     "output_type": "stream",
     "text": [
      "C:\\Users\\USER\\AppData\\Local\\Temp\\ipykernel_3868\\89686676.py:105: FutureWarning: The frame.append method is deprecated and will be removed from pandas in a future version. Use pandas.concat instead.\n",
      "  gc = gc.append(Dic, ignore_index=True)\n"
     ]
    },
    {
     "name": "stdout",
     "output_type": "stream",
     "text": [
      "Coway Air Purifier\n",
      "Coway’s powerful filter system removes various indoor air pollutants that can threaten the health of your family.\n",
      "Seal of approval: Yes\n",
      "Type: Air Purifiers\n",
      "Manufacture: Coway Co. Ltd\n",
      "tel:82 2 2172 1624 (KR)%C2%A0\n",
      "https://www.coway.com/\n",
      "Location: Worldwide, UK\n",
      "None\n",
      "None\n"
     ]
    },
    {
     "name": "stderr",
     "output_type": "stream",
     "text": [
      "C:\\Users\\USER\\AppData\\Local\\Temp\\ipykernel_3868\\89686676.py:105: FutureWarning: The frame.append method is deprecated and will be removed from pandas in a future version. Use pandas.concat instead.\n",
      "  gc = gc.append(Dic, ignore_index=True)\n"
     ]
    },
    {
     "name": "stdout",
     "output_type": "stream",
     "text": [
      "Pura 100% Plastic-Free, Biodegradable Baby Wipes\n",
      "Pura’s non-flushable baby wipes are 100% plastic-free, biodegradable, vegan and cruelty free. They contain no nasties such as perfume, alcohol or chlorine, and are midwife and paediatrician approved.\n",
      "Allergy Friendly Product Award: Yes\n",
      "Type: Infant Care\n",
      "Manufacture: mypura.com\n",
      "tel:01829 708980\n",
      "https://mypura.com/products/eco-baby-wipes\n",
      "Location: UK, Ireland, Germany, Netherlands, Spain, France, Belguim\n",
      "Product Category: May be of Benefit, Unlikely to Cause a Reaction\n",
      "Price: £18.24\n"
     ]
    },
    {
     "name": "stderr",
     "output_type": "stream",
     "text": [
      "C:\\Users\\USER\\AppData\\Local\\Temp\\ipykernel_3868\\89686676.py:105: FutureWarning: The frame.append method is deprecated and will be removed from pandas in a future version. Use pandas.concat instead.\n",
      "  gc = gc.append(Dic, ignore_index=True)\n"
     ]
    },
    {
     "name": "stdout",
     "output_type": "stream",
     "text": [
      "Pura Eco Baby Nappies\n",
      "Affordable, eco-friendly and effective, Pura’s baby nappies strike the best possible balance between a happy planet and a happy baby\n",
      "Allergy Friendly Product Award: Yes\n",
      "Type: Infant Care\n",
      "Manufacture: mypura.com\n",
      "tel:01829 708980\n",
      "https://mypura.com/products/eco-baby-nappies\n",
      "Location: UK, Ireland, Netherlands, Germany, Spain, Belguim, France\n",
      "Product Category: May be of Benefit, Unlikely to Cause a Reaction\n",
      "Price: £16.90 - £30.10\n"
     ]
    },
    {
     "name": "stderr",
     "output_type": "stream",
     "text": [
      "C:\\Users\\USER\\AppData\\Local\\Temp\\ipykernel_3868\\89686676.py:105: FutureWarning: The frame.append method is deprecated and will be removed from pandas in a future version. Use pandas.concat instead.\n",
      "  gc = gc.append(Dic, ignore_index=True)\n"
     ]
    },
    {
     "name": "stdout",
     "output_type": "stream",
     "text": [
      "LG PuriCare™ Objet\n",
      "6-Step Filtration for Complete Protection : Our exceptional multi-filter system captures six different types of particles to deliver purer, cleaner air.\n",
      "Seal of approval: Yes\n",
      "Type: Air Purifiers\n",
      "Manufacture: LG Electronics Inc\n",
      "None\n",
      "https://www.lge.com/\n",
      "Location: Worldwide, UK\n",
      "Product Category: Efficiency reducing small particulates which may include allergens, bacteria, and viruses\n",
      "None\n"
     ]
    },
    {
     "name": "stderr",
     "output_type": "stream",
     "text": [
      "C:\\Users\\USER\\AppData\\Local\\Temp\\ipykernel_3868\\89686676.py:105: FutureWarning: The frame.append method is deprecated and will be removed from pandas in a future version. Use pandas.concat instead.\n",
      "  gc = gc.append(Dic, ignore_index=True)\n"
     ]
    },
    {
     "name": "stdout",
     "output_type": "stream",
     "text": [
      "LG Cordless Handstick Vacuum Cleaner (Cordzero A9 Kompressor)\n",
      "Powerful Suction for a Deep Clean\n",
      "Seal of approval: Yes\n",
      "Type: Vacuum Cleaners & Accessories\n",
      "Manufacture: LG Electronics Inc\n",
      "None\n",
      "https://www.lg.com/\n",
      "Location: Worldwide, UK\n",
      "None\n",
      "None\n"
     ]
    },
    {
     "name": "stderr",
     "output_type": "stream",
     "text": [
      "C:\\Users\\USER\\AppData\\Local\\Temp\\ipykernel_3868\\89686676.py:105: FutureWarning: The frame.append method is deprecated and will be removed from pandas in a future version. Use pandas.concat instead.\n",
      "  gc = gc.append(Dic, ignore_index=True)\n"
     ]
    },
    {
     "name": "stdout",
     "output_type": "stream",
     "text": [
      "LG Cordless Handstick Vacuum Cleaner (Cordzero A9)\n",
      "Powerful Cordless Freedom. Removable washable filters, one touch control, extendable pipe and ergonomics design.\n",
      "Seal of approval: Yes\n",
      "Type: Vacuum Cleaners & Accessories\n",
      "Manufacture: LG Electronics Inc\n",
      "None\n",
      "https://www.lg.com/\n",
      "Location: Worldwide, UK\n",
      "None\n",
      "None\n"
     ]
    },
    {
     "name": "stderr",
     "output_type": "stream",
     "text": [
      "C:\\Users\\USER\\AppData\\Local\\Temp\\ipykernel_3868\\89686676.py:105: FutureWarning: The frame.append method is deprecated and will be removed from pandas in a future version. Use pandas.concat instead.\n",
      "  gc = gc.append(Dic, ignore_index=True)\n"
     ]
    },
    {
     "name": "stdout",
     "output_type": "stream",
     "text": [
      "Woolroom Bedding\n",
      "Woolroom is the UK’s leading wool bedding specialist committed to help Britons achieve a natural night’s clean sleep.\n",
      "Seal of approval: Yes\n",
      "Type: Bedding\n",
      "Manufacture: Wool Room Ltd\n",
      "tel:01780 461 217\n",
      "https://www.thewoolroom.com/\n",
      "Location: UK, France, Germany, Benelux, Spain, Italy, USA, Canada\n",
      "None\n",
      "Price: £28.99 - £269.99\n"
     ]
    },
    {
     "name": "stderr",
     "output_type": "stream",
     "text": [
      "C:\\Users\\USER\\AppData\\Local\\Temp\\ipykernel_3868\\89686676.py:105: FutureWarning: The frame.append method is deprecated and will be removed from pandas in a future version. Use pandas.concat instead.\n",
      "  gc = gc.append(Dic, ignore_index=True)\n"
     ]
    },
    {
     "name": "stdout",
     "output_type": "stream",
     "text": [
      "Winix Plasmawave Air Purifier\n",
      "WINIX Air Purifiers offer superior air cleaning technology that are designed for capturing House Dust Mite, Pollen, Pet Dander, Smoke, Mould/ Fungi Spores, They all include a 99.97% effective True-HEPA Filter, Carbon Filters & Winix PlasmaWave® Technology.\n",
      "Seal of approval: Yes\n",
      "Type: Air Purifiers\n",
      "Manufacture: Winix Europe B.V\n",
      "tel:0330 100 5206\n",
      "https://sales@vybrasolutions.co.uk/\n",
      "Location: UK, Ireland, France, Netherlands, Belguim, Germany, Italy, Denmark, Sweden, Finland, Spain, Hungary, Austria, Czech Republic, Slovakia, Poland, USA, Canada\n",
      "None\n",
      "Price: £179.99 - £399.99\n"
     ]
    },
    {
     "name": "stderr",
     "output_type": "stream",
     "text": [
      "C:\\Users\\USER\\AppData\\Local\\Temp\\ipykernel_3868\\89686676.py:105: FutureWarning: The frame.append method is deprecated and will be removed from pandas in a future version. Use pandas.concat instead.\n",
      "  gc = gc.append(Dic, ignore_index=True)\n"
     ]
    },
    {
     "name": "stdout",
     "output_type": "stream",
     "text": [
      "Whirlpool Washing Machine with Freshcare + Cycle\n",
      "FreshCare+ takes care of garments inside the washing machine allowing the consumer not to unload the laundry right away after the cycle is over.\n",
      "Seal of approval: Yes\n",
      "Type: Laundry Appliances\n",
      "Manufacture: Whirlpool Europe S.r.l\n",
      "None\n",
      "https://www.whirlpool.com/\n",
      "Location: UK, France, Belguim, Netherlands\n",
      "None\n",
      "Price: €349 - €499\n"
     ]
    },
    {
     "name": "stderr",
     "output_type": "stream",
     "text": [
      "C:\\Users\\USER\\AppData\\Local\\Temp\\ipykernel_3868\\89686676.py:105: FutureWarning: The frame.append method is deprecated and will be removed from pandas in a future version. Use pandas.concat instead.\n",
      "  gc = gc.append(Dic, ignore_index=True)\n"
     ]
    },
    {
     "name": "stdout",
     "output_type": "stream",
     "text": [
      "Habitat Home Anti Allergy Bedding\n",
      "Fiber used in our Anti Allergy duvets is treated with biocidally active substance.This Anti Allergy treatment helps to reduce exposure to Live House Dust Mites, House Dust Mite Allergen, Fungi/Mould and Bacteria.\n",
      "Seal of approval: Yes\n",
      "Type: Bedding\n",
      "Manufacture: Wendre AS\n",
      "None\n",
      "None\n",
      "Location: UK, Estonia\n",
      "None\n",
      "Price: £11-£26\n"
     ]
    },
    {
     "name": "stderr",
     "output_type": "stream",
     "text": [
      "C:\\Users\\USER\\AppData\\Local\\Temp\\ipykernel_3868\\89686676.py:105: FutureWarning: The frame.append method is deprecated and will be removed from pandas in a future version. Use pandas.concat instead.\n",
      "  gc = gc.append(Dic, ignore_index=True)\n"
     ]
    },
    {
     "name": "stdout",
     "output_type": "stream",
     "text": [
      "WELLOSH Anti Allergy Bedding\n",
      "WELCRON’s anti Allergy range for the most effective protection against house dust mites caused by its high density fabric structure using microfiber fabric has an excellent softness and comfortable.\n",
      "Seal of approval: Yes\n",
      "Type: Bedding\n",
      "Manufacture: Welcron\n",
      "tel:82-(0)2-2107-6781\n",
      "https://www.welcron.com/\n",
      "Location: Worldwide, UK\n",
      "None\n",
      "Price: $50 - $500\n"
     ]
    },
    {
     "name": "stderr",
     "output_type": "stream",
     "text": [
      "C:\\Users\\USER\\AppData\\Local\\Temp\\ipykernel_3868\\89686676.py:105: FutureWarning: The frame.append method is deprecated and will be removed from pandas in a future version. Use pandas.concat instead.\n",
      "  gc = gc.append(Dic, ignore_index=True)\n"
     ]
    },
    {
     "name": "stdout",
     "output_type": "stream",
     "text": [
      "Waterful Choose Plastic Free Baby Wipes\n",
      "Waterful Plastic Free Baby Wipes contain 99.9% purified water, are dermatologically tested to be safe on sensitive skin and are approved by Allergy UK. Our wipes are also Cruelty free, Vegan and Gluten Free and contain no alcohol, fragrance or other nasties!.\n",
      "Allergy Friendly Product Award: Yes\n",
      "Type: Infant Care\n",
      "Manufacture: Waterful\n",
      "tel:+35318284261\n",
      "https://www.waterfulwipes.com/\n",
      "None\n",
      "Product Category: Reduced Allergen / Chemical Content, May be of Benefit, Skin Sensitivity, Unlikely to Cause a Reaction\n",
      "None\n"
     ]
    },
    {
     "name": "stderr",
     "output_type": "stream",
     "text": [
      "C:\\Users\\USER\\AppData\\Local\\Temp\\ipykernel_3868\\89686676.py:105: FutureWarning: The frame.append method is deprecated and will be removed from pandas in a future version. Use pandas.concat instead.\n",
      "  gc = gc.append(Dic, ignore_index=True)\n"
     ]
    },
    {
     "name": "stdout",
     "output_type": "stream",
     "text": [
      "Greener Cleaner\n",
      "Greener Cleaner® microfibre cleaning cloths use just water, requiring no chemicals. They make cleaning safe for you and your family and are approved for use by people affected by allergy.\n",
      "Allergy Friendly Product Award: Yes\n",
      "Type: Cleaning Products\n",
      "Manufacture: Vitality House Limited\n",
      "tel:+01306 881546\n",
      "https://www.greenerc.com/\n",
      "Location: UK, Canada, Hungary\n",
      "Product Category: Unlikely to Cause a Reaction, May be of Benefit\n",
      "Price: £2.49 singles, £4.99 twins, £7.99 4packs\n"
     ]
    },
    {
     "name": "stderr",
     "output_type": "stream",
     "text": [
      "C:\\Users\\USER\\AppData\\Local\\Temp\\ipykernel_3868\\89686676.py:105: FutureWarning: The frame.append method is deprecated and will be removed from pandas in a future version. Use pandas.concat instead.\n",
      "  gc = gc.append(Dic, ignore_index=True)\n"
     ]
    },
    {
     "name": "stdout",
     "output_type": "stream",
     "text": [
      "Vestel Washer/Dryer Machine with the Anti – Allergy Cycle\n",
      "Vestel washing machines and washer&dryers provide customer with a special program designed to significantly reduce common bacterias and allergens from the clothes.\n",
      "Seal of approval: Yes\n",
      "Type: Laundry Appliances\n",
      "Manufacture: Vestel Organize Sanayi Sanayi Ve Ticaret A.S.\n",
      "None\n",
      "https://www.vestel.com/\n",
      "Location: Germany, Georgia, Azerbaijan, Iran, Iraq, Armenia, Senegal, Congo, Jordan, Lebanon, Maldives\n",
      "None\n",
      "None\n"
     ]
    },
    {
     "name": "stderr",
     "output_type": "stream",
     "text": [
      "C:\\Users\\USER\\AppData\\Local\\Temp\\ipykernel_3868\\89686676.py:105: FutureWarning: The frame.append method is deprecated and will be removed from pandas in a future version. Use pandas.concat instead.\n",
      "  gc = gc.append(Dic, ignore_index=True)\n"
     ]
    },
    {
     "name": "stdout",
     "output_type": "stream",
     "text": [
      "Natural Acarsan® Anti-Dustmite Bedding\n",
      "Natural Acarsan® is an anti-dustmite brand owned by Velamen which gathers the natural anti-dustmite treatments with vegetable extracts applied to either fibres or fabrics.\n",
      "Seal of approval: Yes\n",
      "Type: Bedding\n",
      "Manufacture: Velamen, S.A.\n",
      "None\n",
      "None\n",
      "Location: Europe, UK, Asia, Africa\n",
      "None\n",
      "Price: £7 - £86\n"
     ]
    },
    {
     "name": "stderr",
     "output_type": "stream",
     "text": [
      "C:\\Users\\USER\\AppData\\Local\\Temp\\ipykernel_3868\\89686676.py:105: FutureWarning: The frame.append method is deprecated and will be removed from pandas in a future version. Use pandas.concat instead.\n",
      "  gc = gc.append(Dic, ignore_index=True)\n"
     ]
    },
    {
     "name": "stdout",
     "output_type": "stream",
     "text": [
      "Acarsan Anti Dust Mite Bedding\n",
      "Since VELAMEN, S.A. always looks for the wellbeing of its customers and specifically its restorative sleep, and after being aware of the increasing need of protection against dustmites, we developed the Acarsan® anti-dustmite brand.\n",
      "Seal of approval: Yes\n",
      "Type: Bedding\n",
      "Manufacture: Velamen, S.A.\n",
      "tel:+34 93 410 6061\n",
      "None\n",
      "Location: UK, Europe, Asia, Africa\n",
      "None\n",
      "Price: £7 - £86\n"
     ]
    },
    {
     "name": "stderr",
     "output_type": "stream",
     "text": [
      "C:\\Users\\USER\\AppData\\Local\\Temp\\ipykernel_3868\\89686676.py:105: FutureWarning: The frame.append method is deprecated and will be removed from pandas in a future version. Use pandas.concat instead.\n",
      "  gc = gc.append(Dic, ignore_index=True)\n"
     ]
    },
    {
     "name": "stdout",
     "output_type": "stream",
     "text": [
      "Vechro Paints\n",
      "SMALTOPLAST SILK\n",
      "Water based emulsion paint with eggshell finish.\n",
      "Seal of approval: Yes\n",
      "Type: Paints & Varnishes\n",
      "Manufacture: Vechro S.A.\n",
      "tel:0030 210 48 16 101\n",
      "http://www.vechro.gr/\n",
      "Location: Greece\n",
      "None\n",
      "Price: €6.00 - €6.50\n"
     ]
    },
    {
     "name": "stderr",
     "output_type": "stream",
     "text": [
      "C:\\Users\\USER\\AppData\\Local\\Temp\\ipykernel_3868\\89686676.py:105: FutureWarning: The frame.append method is deprecated and will be removed from pandas in a future version. Use pandas.concat instead.\n",
      "  gc = gc.append(Dic, ignore_index=True)\n"
     ]
    },
    {
     "name": "stdout",
     "output_type": "stream",
     "text": [
      "Troldtekt Acoustic Ceiling Panels\n",
      "Troldtekt acoustic wall and ceiling tiles are made from 100% natural materials; wood and cement. The panels provide excellent sound absorption in all types of building but also a healthy indoor climate as the panels contain no hazardous substances. Troldtekt panels are Cradle to Cradle certified in the category silver.\n",
      "Allergy Friendly Product Award: Yes\n",
      "Type: Ceiling Panels\n",
      "Manufacture: Troldtekt A/S\n",
      "None\n",
      "https://www.troldtekt.com/\n",
      "None\n",
      "Product Category: May be of Benefit, Unlikely to Cause a Reaction\n",
      "None\n"
     ]
    },
    {
     "name": "stderr",
     "output_type": "stream",
     "text": [
      "C:\\Users\\USER\\AppData\\Local\\Temp\\ipykernel_3868\\89686676.py:105: FutureWarning: The frame.append method is deprecated and will be removed from pandas in a future version. Use pandas.concat instead.\n",
      "  gc = gc.append(Dic, ignore_index=True)\n"
     ]
    },
    {
     "name": "stdout",
     "output_type": "stream",
     "text": [
      "Ultra-Fresh DW56 Textile Treatment\n",
      "Ultra-Fresh DW-56 is an antimicrobial technology engineered to provide highly effective, broad spectrum activity against bacteria, fungi and algae which may cause odour generation, discoloration and product degradation. Ultra-Fresh DW-56 treated articles have also been proven to have significantly lower dust mite populations as compared to untreated articles, resulting in fewer dust mite allergens.\n",
      "Seal of approval: Yes\n",
      "Type: Bedding\n",
      "Manufacture: Thomson Research Associates, Inc.\n",
      "tel:1-416-955-1881\n",
      "https://www.ultra-fresh.com%20%20%20/\n",
      "Location: Worldwide, UK\n",
      "None\n",
      "Price: Sold only to manufacturers.\n"
     ]
    },
    {
     "name": "stderr",
     "output_type": "stream",
     "text": [
      "C:\\Users\\USER\\AppData\\Local\\Temp\\ipykernel_3868\\89686676.py:105: FutureWarning: The frame.append method is deprecated and will be removed from pandas in a future version. Use pandas.concat instead.\n",
      "  gc = gc.append(Dic, ignore_index=True)\n"
     ]
    },
    {
     "name": "stdout",
     "output_type": "stream",
     "text": [
      "SpringBond Carpet Underlay\n",
      "SpringBond is created using hypo-allergenic fibres made from recycled PET including plastic bottles.  PET is a stable and virtually inert substance, is inherently flame resistant and anti-microbial as well as being hypoallergenic without the use of additional toxic chemicals and solvents that give off V.O.C’s which contribute to harmful indoor air pollution.\n",
      "Seal of approval: Yes\n",
      "Type: Floor / Coverings\n",
      "Manufacture: Texfelt Ltd\n",
      "tel:01274 905411\n",
      "https://www.springbond.co.uk/\n",
      "Location: UK, UAE, Middle East\n",
      "Product Category: Reduced Allergen / Chemical Content\n",
      "Price: From £9.99 per square metre\n"
     ]
    },
    {
     "name": "stderr",
     "output_type": "stream",
     "text": [
      "C:\\Users\\USER\\AppData\\Local\\Temp\\ipykernel_3868\\89686676.py:105: FutureWarning: The frame.append method is deprecated and will be removed from pandas in a future version. Use pandas.concat instead.\n",
      "  gc = gc.append(Dic, ignore_index=True)\n"
     ]
    },
    {
     "name": "stdout",
     "output_type": "stream",
     "text": [
      "TEKA Washing Machine with Allergy Safe Program\n",
      "The Teka’s new laundry range is composed by new efficient models with T-Inverter motors which means not just bigger savings but are also more durable appliances.\n",
      "Seal of approval: Yes\n",
      "Type: Laundry Appliances\n",
      "Manufacture: Teka\n",
      "None\n",
      "https://www.teka.com/\n",
      "Location: Spain, Portugal\n",
      "None\n",
      "None\n"
     ]
    },
    {
     "name": "stderr",
     "output_type": "stream",
     "text": [
      "C:\\Users\\USER\\AppData\\Local\\Temp\\ipykernel_3868\\89686676.py:105: FutureWarning: The frame.append method is deprecated and will be removed from pandas in a future version. Use pandas.concat instead.\n",
      "  gc = gc.append(Dic, ignore_index=True)\n"
     ]
    },
    {
     "name": "stdout",
     "output_type": "stream",
     "text": [
      "Tarkett Linoleum\n",
      "Tarkett’s Linoleum is a homogeneous floor and wall covering made of natural and environmentally friendly ingredients with natural bactericidal properties. Following the correct cleaning and maintenance procedures, Tarkett’s Linoleum eases the removal of allergens such as House Dust Mites, pollens, cat and dog dander, cockroaches and mould/fungi, while helping to improve indoor environments. Available in a wide choice of designs, colours and technical options, to satisfy any customer’s need, it is THE NATURAL CHOICE FOR PEOPLE AND THE ENVIRONMENT.\n",
      "Seal of approval: Yes\n",
      "Type: Floor / Coverings\n",
      "Manufacture: Tarkett S.p.A\n",
      "None\n",
      "https://bit.ly/3adOX0R\n",
      "Location: Worldwide, UK\n",
      "None\n",
      "Price: from £ 28/m²\n"
     ]
    },
    {
     "name": "stderr",
     "output_type": "stream",
     "text": [
      "C:\\Users\\USER\\AppData\\Local\\Temp\\ipykernel_3868\\89686676.py:105: FutureWarning: The frame.append method is deprecated and will be removed from pandas in a future version. Use pandas.concat instead.\n",
      "  gc = gc.append(Dic, ignore_index=True)\n"
     ]
    },
    {
     "name": "stdout",
     "output_type": "stream",
     "text": [
      "Omnisports (Sport Indoor) Floorcovering\n",
      "Omnisports is a vinyl sports floor that provides optimal comfort and performance. Approved by major sports federations, it is an ideal choice for high-performance multi-sports use (especially handball, basketball and volleyball) in middle school, high school and city hall gyms.\n",
      "Seal of approval: Yes\n",
      "Type: Floor / Coverings\n",
      "Manufacture: Tarkett France\n",
      "tel:+44 (0) 1622 854 040\n",
      "https://bit.ly/3adOX0R\n",
      "Location: Worldwide, UK\n",
      "None\n",
      "None\n"
     ]
    },
    {
     "name": "stderr",
     "output_type": "stream",
     "text": [
      "C:\\Users\\USER\\AppData\\Local\\Temp\\ipykernel_3868\\89686676.py:105: FutureWarning: The frame.append method is deprecated and will be removed from pandas in a future version. Use pandas.concat instead.\n",
      "  gc = gc.append(Dic, ignore_index=True)\n"
     ]
    },
    {
     "name": "stdout",
     "output_type": "stream",
     "text": [
      "Slumberdown Fresh & Healthy Anti - Allergy Bedding\n",
      "Slumberdown’s Fresh & Healthy range is a brand new anti-allergy bedding range, designed to protect against the symptoms of night time allergies and asthma.\n",
      "Seal of approval: Yes\n",
      "Type: Bedding\n",
      "Manufacture: Slumberdown\n",
      "None\n",
      "https://www.slumberdown.co.uk/\n",
      "Location: UK\n",
      "None\n",
      "Price: £9.99 - £29.99\n"
     ]
    },
    {
     "name": "stderr",
     "output_type": "stream",
     "text": [
      "C:\\Users\\USER\\AppData\\Local\\Temp\\ipykernel_3868\\89686676.py:105: FutureWarning: The frame.append method is deprecated and will be removed from pandas in a future version. Use pandas.concat instead.\n",
      "  gc = gc.append(Dic, ignore_index=True)\n"
     ]
    },
    {
     "name": "stdout",
     "output_type": "stream",
     "text": [
      "Silentnight Mattress\n",
      "Silentnight, the UK’s number one bed brand has launched the next generation of healthy mattresses using the power of probiotics.  Purotex® microcapsules release friendly bacteria into the fabric of the mattress to reduce mould and moisture – the 100% natural solution for a fresh, hygienic and dust-mite free mattress.\n",
      "Seal of approval: Yes\n",
      "Type: Beds & Mattresses\n",
      "Manufacture: Silentnight\n",
      "tel:01282 813 051\n",
      "https://www.silentnight.co.uk/\n",
      "Location: UK\n",
      "None\n",
      "Price: £200 - £1500\n"
     ]
    },
    {
     "name": "stderr",
     "output_type": "stream",
     "text": [
      "C:\\Users\\USER\\AppData\\Local\\Temp\\ipykernel_3868\\89686676.py:105: FutureWarning: The frame.append method is deprecated and will be removed from pandas in a future version. Use pandas.concat instead.\n",
      "  gc = gc.append(Dic, ignore_index=True)\n"
     ]
    },
    {
     "name": "stdout",
     "output_type": "stream",
     "text": [
      "Silentnight Anti-Allergy Bedding\n",
      "Silentnight’s anti-allergy bedding is filled with specially treated hollowfibre that helps to combat dust mites and bacteria to help you sleep more soundly. Covered in super soft microfibre, Silentnight’s anti-allergy bedding range features pillows, duvets, pillow/mattress protectors and toppers.\n",
      "Seal of approval: Yes\n",
      "Type: Bedding\n",
      "Manufacture: Silentnight\n",
      "tel:03303 322 575\n",
      "https://www.sleepypeople.com%20/\n",
      "Location: UK\n",
      "None\n",
      "Price: from £11.99\n"
     ]
    },
    {
     "name": "stderr",
     "output_type": "stream",
     "text": [
      "C:\\Users\\USER\\AppData\\Local\\Temp\\ipykernel_3868\\89686676.py:105: FutureWarning: The frame.append method is deprecated and will be removed from pandas in a future version. Use pandas.concat instead.\n",
      "  gc = gc.append(Dic, ignore_index=True)\n"
     ]
    },
    {
     "name": "stdout",
     "output_type": "stream",
     "text": [
      "Sharp Washing Machine & Washer Dryer\n",
      "Packed with innovative technologies, Sharp washing machines are designed For Life, helping to look after you and your loved ones with a range of innovations including our AllergySmart program, designed to effectively combat Allergens: House Dust Mite, Cat, Dog, Pollen, Fungi & Bacteria found in laundry.\n",
      "Seal of approval: Yes\n",
      "Type: Laundry Appliances\n",
      "Manufacture: Sharp Home Appliances\n",
      "None\n",
      "None\n",
      "Location: Europe\n",
      "None\n",
      "Price: €659.00 - €699.00\n"
     ]
    },
    {
     "name": "stderr",
     "output_type": "stream",
     "text": [
      "C:\\Users\\USER\\AppData\\Local\\Temp\\ipykernel_3868\\89686676.py:105: FutureWarning: The frame.append method is deprecated and will be removed from pandas in a future version. Use pandas.concat instead.\n",
      "  gc = gc.append(Dic, ignore_index=True)\n"
     ]
    },
    {
     "name": "stdout",
     "output_type": "stream",
     "text": [
      "Sharp Condenser Tumble Dryer\n",
      "Sharp Tumble Dryers provide customer with an allergy safe program designed to significantly reduce common bacteria and allergens from the clothes.\n",
      "Seal of approval: Yes\n",
      "Type: Laundry Appliances\n",
      "Manufacture: Sharp Home Appliances\n",
      "None\n",
      "None\n",
      "Location: UK, Europe\n",
      "None\n",
      "None\n"
     ]
    },
    {
     "name": "stderr",
     "output_type": "stream",
     "text": [
      "C:\\Users\\USER\\AppData\\Local\\Temp\\ipykernel_3868\\89686676.py:105: FutureWarning: The frame.append method is deprecated and will be removed from pandas in a future version. Use pandas.concat instead.\n",
      "  gc = gc.append(Dic, ignore_index=True)\n"
     ]
    },
    {
     "name": "stdout",
     "output_type": "stream",
     "text": [
      "Sharp Plasmacluster Air Purifier\n",
      "Endorsed Models\n",
      "Models with Humidifying Function:\n",
      "Seal of approval: Yes\n",
      "Type: Air Purifiers\n",
      "Manufacture: Sharp Electronics UK Ltd\n",
      "None\n",
      "https://www.sharp.co.uk/\n",
      "Location: UK, Europe, Russia, USA, Middle East, Africa, Asia\n",
      "None\n",
      "Price: £229 - £549\n"
     ]
    },
    {
     "name": "stderr",
     "output_type": "stream",
     "text": [
      "C:\\Users\\USER\\AppData\\Local\\Temp\\ipykernel_3868\\89686676.py:105: FutureWarning: The frame.append method is deprecated and will be removed from pandas in a future version. Use pandas.concat instead.\n",
      "  gc = gc.append(Dic, ignore_index=True)\n"
     ]
    },
    {
     "name": "stdout",
     "output_type": "stream",
     "text": [
      "Sebo Felix Upright Vacuum Cleaner Range (Bagged)\n",
      "Versatile and manoeuvrable.\n",
      "Seal of approval: Yes\n",
      "Type: Vacuum Cleaners & Accessories\n",
      "Manufacture: Sebo (UK) Ltd\n",
      "tel:01494 465 533\n",
      "https://www.sebo.co.uk/\n",
      "Location: UK, Ireland\n",
      "None\n",
      "Price: £319.90 - £384.90\n"
     ]
    },
    {
     "name": "stderr",
     "output_type": "stream",
     "text": [
      "C:\\Users\\USER\\AppData\\Local\\Temp\\ipykernel_3868\\89686676.py:105: FutureWarning: The frame.append method is deprecated and will be removed from pandas in a future version. Use pandas.concat instead.\n",
      "  gc = gc.append(Dic, ignore_index=True)\n"
     ]
    },
    {
     "name": "stdout",
     "output_type": "stream",
     "text": [
      "SEBO AUTOMATIC X ePower Upright Vacuum Cleaner Range (Bagged)\n",
      "Optimum Performance, Automatically.\n",
      "The SEBO AUTOMATIC X ePower range of vacuum cleaners combine excellent performance with brilliant ease of use and ultra-hygienic dust disposal. They go flat for reaching under furniture and feature an integrated hose and wand system. The Computer Control System ensures optimum performance, automatically.\n",
      "None\n",
      "Type: Vacuum Cleaners & Accessories\n",
      "Manufacture: Sebo (UK) Ltd\n",
      "tel:01494 465533\n",
      "https://www.sebo.co.uk/\n",
      "Location: UK, Ireland\n",
      "None\n",
      "Price: £299.90 - £399.90\n"
     ]
    },
    {
     "name": "stderr",
     "output_type": "stream",
     "text": [
      "C:\\Users\\USER\\AppData\\Local\\Temp\\ipykernel_3868\\89686676.py:105: FutureWarning: The frame.append method is deprecated and will be removed from pandas in a future version. Use pandas.concat instead.\n",
      "  gc = gc.append(Dic, ignore_index=True)\n"
     ]
    },
    {
     "name": "stdout",
     "output_type": "stream",
     "text": [
      "Sebo Airbelt K ePower Cylinder Vacuum Cleaner Range (Bagged)\n",
      "Small size, big performance\n",
      "Seal of approval: Yes\n",
      "Type: Vacuum Cleaners & Accessories\n",
      "Manufacture: Sebo (UK) Ltd\n",
      "tel:01494 465 533\n",
      "None\n",
      "Location: UK, Ireland\n",
      "None\n",
      "Price: £169.95 - £229.95\n"
     ]
    },
    {
     "name": "stderr",
     "output_type": "stream",
     "text": [
      "C:\\Users\\USER\\AppData\\Local\\Temp\\ipykernel_3868\\89686676.py:105: FutureWarning: The frame.append method is deprecated and will be removed from pandas in a future version. Use pandas.concat instead.\n",
      "  gc = gc.append(Dic, ignore_index=True)\n"
     ]
    },
    {
     "name": "stdout",
     "output_type": "stream",
     "text": [
      "Sealy Mattress\n",
      "Sealy is the world’s number one bed brand. Look out for the Smart Fibres icon to be guaranteed a sleep system that is cool, fresh, dry and hypoallergenic. Smart Fibres are the natural solution for eradicating house dust mites and more importantly offer relief to allergy and asthma sufferers alike.\n",
      "Seal of approval: Yes\n",
      "Type: Beds & Mattresses\n",
      "Manufacture: Sealy\n",
      "None\n",
      "https://www.sealy.co.uk/\n",
      "Location: UK\n",
      "None\n",
      "Price: £499 - £1599\n"
     ]
    },
    {
     "name": "stderr",
     "output_type": "stream",
     "text": [
      "C:\\Users\\USER\\AppData\\Local\\Temp\\ipykernel_3868\\89686676.py:105: FutureWarning: The frame.append method is deprecated and will be removed from pandas in a future version. Use pandas.concat instead.\n",
      "  gc = gc.append(Dic, ignore_index=True)\n"
     ]
    },
    {
     "name": "stdout",
     "output_type": "stream",
     "text": [
      "Sanitized® Fabric Treatment\n",
      "Sanitized® protects items from House Dust Mite, Bacterial growth and odours. In your home and in public spaces. Protects material and surfaces from House Dust Mite Mould, Mildew, Biofilm and Algae.  Offers comprehensive odour management. Sanitized® is specialized chemistry, and the employees of SANITIZED are experts in antimicrobial products, solutions and advice.\n",
      "Seal of approval: Yes\n",
      "Type: Bedding\n",
      "Manufacture: Sanitized AG\n",
      "tel:+41 34 427 16 16\n",
      "https://www.sanitized.com/\n",
      "Location: Worldwide, UK\n",
      "None\n",
      "None\n"
     ]
    },
    {
     "name": "stderr",
     "output_type": "stream",
     "text": [
      "C:\\Users\\USER\\AppData\\Local\\Temp\\ipykernel_3868\\89686676.py:105: FutureWarning: The frame.append method is deprecated and will be removed from pandas in a future version. Use pandas.concat instead.\n",
      "  gc = gc.append(Dic, ignore_index=True)\n"
     ]
    },
    {
     "name": "stdout",
     "output_type": "stream",
     "text": [
      "Samsung Washing Machine\n",
      "Instead of releasing steam from above, Samsung’s Steam cycle releases steam from the bottom of the laundry tub, saturating every item in the load to remove dirt and stains.\n",
      "Seal of approval: Yes\n",
      "Type: Laundry Appliances\n",
      "Manufacture: Samsung Electronics Co., Ltd\n",
      "None\n",
      "None\n",
      "Location: Russia, Kasachstan\n",
      "None\n",
      "None\n"
     ]
    },
    {
     "name": "stderr",
     "output_type": "stream",
     "text": [
      "C:\\Users\\USER\\AppData\\Local\\Temp\\ipykernel_3868\\89686676.py:105: FutureWarning: The frame.append method is deprecated and will be removed from pandas in a future version. Use pandas.concat instead.\n",
      "  gc = gc.append(Dic, ignore_index=True)\n"
     ]
    },
    {
     "name": "stdout",
     "output_type": "stream",
     "text": [
      "Samsung Stick Vacuum Cleaner Cord Free Battery Operated (Bagless)\n",
      "“Powerfully yet effortlessly cleans your entire home” High powered, but lightweight cordless stick cleaner offering great user convenience.\n",
      "Seal of approval: Yes\n",
      "Type: Vacuum Cleaners & Accessories\n",
      "Manufacture: Samsung Electronics Co., Ltd\n",
      "None\n",
      "https://www.samsung.com/uk\n",
      "Location: Korea, CIS\n",
      "None\n",
      "None\n"
     ]
    },
    {
     "name": "stderr",
     "output_type": "stream",
     "text": [
      "C:\\Users\\USER\\AppData\\Local\\Temp\\ipykernel_3868\\89686676.py:105: FutureWarning: The frame.append method is deprecated and will be removed from pandas in a future version. Use pandas.concat instead.\n",
      "  gc = gc.append(Dic, ignore_index=True)\n"
     ]
    },
    {
     "name": "stdout",
     "output_type": "stream",
     "text": [
      "Samsung SC88 Series Vacuum Cleaner (Bagless)\n",
      "SC88 series has super power performance. Specially designed brush & airflow structure, advanced super twin chamber system, upgraded filtration, and even optimized motor can help to keep maximum efficiency with minimum loss of air.\n",
      "Seal of approval: Yes\n",
      "Type: Vacuum Cleaners & Accessories\n",
      "Manufacture: Samsung Electronics Co., Ltd\n",
      "tel:0870 726 7864\n",
      "https://www.samsung.com/uk\n",
      "Location: Europe, USA, Korea, Russia, Middle East\n",
      "None\n",
      "Price: €199 - €239\n"
     ]
    },
    {
     "name": "stderr",
     "output_type": "stream",
     "text": [
      "C:\\Users\\USER\\AppData\\Local\\Temp\\ipykernel_3868\\89686676.py:105: FutureWarning: The frame.append method is deprecated and will be removed from pandas in a future version. Use pandas.concat instead.\n",
      "  gc = gc.append(Dic, ignore_index=True)\n"
     ]
    },
    {
     "name": "stdout",
     "output_type": "stream",
     "text": [
      "Samsung SC21F50 series Vacuum Cleaner (Bagged)\n",
      "F500G is powerful bagless vacuum cleaner while it maintains extreme suction power for a long time. It has 450W powerful suction motor, and it adapts cyclone force to keep high suction power much longer than conventional.\n",
      "Seal of approval: Yes\n",
      "Type: Vacuum Cleaners & Accessories\n",
      "Manufacture: Samsung Electronics Co., Ltd\n",
      "tel:0330 726 7864\n",
      "None\n",
      "Location: Worldwide\n",
      "None\n",
      "Price: €209 - €309\n"
     ]
    },
    {
     "name": "stderr",
     "output_type": "stream",
     "text": [
      "C:\\Users\\USER\\AppData\\Local\\Temp\\ipykernel_3868\\89686676.py:105: FutureWarning: The frame.append method is deprecated and will be removed from pandas in a future version. Use pandas.concat instead.\n",
      "  gc = gc.append(Dic, ignore_index=True)\n"
     ]
    },
    {
     "name": "stdout",
     "output_type": "stream",
     "text": [
      "Samsung Inverter Heat pump Dryer\n",
      "The Hygiene Care+ cycle can sanitize items without affecting the drying performance.\n",
      "Seal of approval: Yes\n",
      "Type: Laundry Appliances\n",
      "Manufacture: Samsung Electronics Co., Ltd\n",
      "None\n",
      "None\n",
      "Location: South Korea, Australia, China\n",
      "None\n",
      "Price: $1,000\n"
     ]
    },
    {
     "name": "stderr",
     "output_type": "stream",
     "text": [
      "C:\\Users\\USER\\AppData\\Local\\Temp\\ipykernel_3868\\89686676.py:105: FutureWarning: The frame.append method is deprecated and will be removed from pandas in a future version. Use pandas.concat instead.\n",
      "  gc = gc.append(Dic, ignore_index=True)\n"
     ]
    },
    {
     "name": "stdout",
     "output_type": "stream",
     "text": [
      "Samsung Hygiene Steam Washing Machine\n",
      "Hygienically clean your clothes without pre-treatments and remove ingrained dirt, bacteria and allergens.\n",
      "Seal of approval: Yes\n",
      "Type: Laundry Appliances\n",
      "Manufacture: Samsung Electronics Co., Ltd\n",
      "None\n",
      "None\n",
      "Location: UK, Europe, China, Middle East, South East Asia\n",
      "None\n",
      "Price: £449 ~ £1,379\n"
     ]
    },
    {
     "name": "stderr",
     "output_type": "stream",
     "text": [
      "C:\\Users\\USER\\AppData\\Local\\Temp\\ipykernel_3868\\89686676.py:105: FutureWarning: The frame.append method is deprecated and will be removed from pandas in a future version. Use pandas.concat instead.\n",
      "  gc = gc.append(Dic, ignore_index=True)\n"
     ]
    },
    {
     "name": "stdout",
     "output_type": "stream",
     "text": [
      "Samsung Hybrid Heat Pump Dryer\n",
      "Save time & energy with fast start drying\n",
      "Seal of approval: Yes\n",
      "Type: Laundry Appliances\n",
      "Manufacture: Samsung Electronics Co., Ltd\n",
      "None\n",
      "https://www.samsung.com/\n",
      "Location: Korea\n",
      "None\n",
      "Price: $1,658\n"
     ]
    },
    {
     "name": "stderr",
     "output_type": "stream",
     "text": [
      "C:\\Users\\USER\\AppData\\Local\\Temp\\ipykernel_3868\\89686676.py:105: FutureWarning: The frame.append method is deprecated and will be removed from pandas in a future version. Use pandas.concat instead.\n",
      "  gc = gc.append(Dic, ignore_index=True)\n"
     ]
    },
    {
     "name": "stdout",
     "output_type": "stream",
     "text": [
      "Samsung Heat Pump Clothes Dryer\n",
      "Energy efficient Heatpump Clothes Dryer with AI Control\n",
      "Seal of approval: Yes\n",
      "Type: Laundry Appliances\n",
      "Manufacture: Samsung Electronics Co., Ltd\n",
      "None\n",
      "https://www.samsung.com/\n",
      "Location: Europe, CIS, Middle East, South East Asia\n",
      "None\n",
      "Price: £ 899\n"
     ]
    },
    {
     "name": "stderr",
     "output_type": "stream",
     "text": [
      "C:\\Users\\USER\\AppData\\Local\\Temp\\ipykernel_3868\\89686676.py:105: FutureWarning: The frame.append method is deprecated and will be removed from pandas in a future version. Use pandas.concat instead.\n",
      "  gc = gc.append(Dic, ignore_index=True)\n"
     ]
    },
    {
     "name": "stdout",
     "output_type": "stream",
     "text": [
      "Samsung Cylinder Vacuum Cleaner (Bagless)\n",
      "A new concept of Motopn Sync VC with compact and light provides ultimate convenience.\n",
      "Seal of approval: Yes\n",
      "Type: Vacuum Cleaners & Accessories\n",
      "Manufacture: Samsung Electronics Co., Ltd\n",
      "tel:+82 2 2255 0114\n",
      "https://www.samsung.com/uk\n",
      "Location: Worldwide, UK\n",
      "None\n",
      "None\n"
     ]
    },
    {
     "name": "stderr",
     "output_type": "stream",
     "text": [
      "C:\\Users\\USER\\AppData\\Local\\Temp\\ipykernel_3868\\89686676.py:105: FutureWarning: The frame.append method is deprecated and will be removed from pandas in a future version. Use pandas.concat instead.\n",
      "  gc = gc.append(Dic, ignore_index=True)\n"
     ]
    },
    {
     "name": "stdout",
     "output_type": "stream",
     "text": [
      "Samsung Cylinder Force Extreme Suction Power Vacuum Cleaner (Bagless)\n",
      "Samsung Light & Compact VC4000\n",
      "Seal of approval: Yes\n",
      "Type: Vacuum Cleaners & Accessories\n",
      "Manufacture: Samsung Electronics Co., Ltd\n",
      "tel:+ 0330 726 7864\n",
      "https://www.samsung.com/uk\n",
      "Location: Worldwide, UK\n",
      "None\n",
      "None\n"
     ]
    },
    {
     "name": "stderr",
     "output_type": "stream",
     "text": [
      "C:\\Users\\USER\\AppData\\Local\\Temp\\ipykernel_3868\\89686676.py:105: FutureWarning: The frame.append method is deprecated and will be removed from pandas in a future version. Use pandas.concat instead.\n",
      "  gc = gc.append(Dic, ignore_index=True)\n"
     ]
    },
    {
     "name": "stdout",
     "output_type": "stream",
     "text": [
      "Samsung Air Dresser Dryer Cabinet\n",
      "Refresh and revitalize your clothes without washing. The Samsung AirDresser is a breath of fresh air in clothing care.\n",
      "Seal of approval: Yes\n",
      "Type: Laundry Appliances\n",
      "Manufacture: Samsung Electronics Co., Ltd\n",
      "None\n",
      "https://www.samsung.com/\n",
      "Location: Korea, Europe, South East Asia, Australia, New Zealand\n",
      "None\n",
      "Price: £1,999\n"
     ]
    },
    {
     "name": "stderr",
     "output_type": "stream",
     "text": [
      "C:\\Users\\USER\\AppData\\Local\\Temp\\ipykernel_3868\\89686676.py:105: FutureWarning: The frame.append method is deprecated and will be removed from pandas in a future version. Use pandas.concat instead.\n",
      "  gc = gc.append(Dic, ignore_index=True)\n"
     ]
    },
    {
     "name": "stdout",
     "output_type": "stream",
     "text": [
      "Allecell Anti - Allergy Bedding\n",
      "Allecell is a brand specialising in anti-allergy bedding products made from microfibres with high-density fabric structure for the most effective protection against house dust mites.\n",
      "Seal of approval: Yes\n",
      "Type: Bedding\n",
      "Manufacture: Saenal Co., Ltd\n",
      "tel:+82 314 254 763\n",
      "https://www.heirloom.co.kr/\n",
      "Location: South Korea\n",
      "None\n",
      "Price: $50.00 - $500.00\n"
     ]
    },
    {
     "name": "stderr",
     "output_type": "stream",
     "text": [
      "C:\\Users\\USER\\AppData\\Local\\Temp\\ipykernel_3868\\89686676.py:105: FutureWarning: The frame.append method is deprecated and will be removed from pandas in a future version. Use pandas.concat instead.\n",
      "  gc = gc.append(Dic, ignore_index=True)\n"
     ]
    },
    {
     "name": "stdout",
     "output_type": "stream",
     "text": [
      "Robert Thomas Twin XT Aqua & Anti Allergy Vacuum Aquafilter (Bagless)\n",
      "The new THOMAS generation with AQUA+Technology\n",
      "Seal of approval: Yes\n",
      "Type: Vacuum Cleaners & Accessories\n",
      "Manufacture: Robert Thomas\n",
      "tel:+49 2735 788 0\n",
      "https://www.whatvacuum.com/\n",
      "Location: UK, Germany, Austria, Belguim, Netherlands, Hungary, Poland, Turkey, Russia, Kasachstan, Ukraine\n",
      "None\n",
      "None\n"
     ]
    },
    {
     "name": "stderr",
     "output_type": "stream",
     "text": [
      "C:\\Users\\USER\\AppData\\Local\\Temp\\ipykernel_3868\\89686676.py:105: FutureWarning: The frame.append method is deprecated and will be removed from pandas in a future version. Use pandas.concat instead.\n",
      "  gc = gc.append(Dic, ignore_index=True)\n"
     ]
    },
    {
     "name": "stdout",
     "output_type": "stream",
     "text": [
      "Respro® Allergy™ Mask\n",
      "The Respro® Allergy™ mask has a filter which provides Hepa-type filtration against non toxic sub-micron particulate pollutants such as pollen, plant spores, pet dander, moulds and house dust mites. The Techno™ valves are made from Polypropylene with medical grade silicon rubber diaphragms (no latex).\n",
      "Allergy Friendly Product Award: Yes\n",
      "Type: Hay Fever Products\n",
      "Manufacture: Respro UK Ltd\n",
      "tel:0207 721 7300\n",
      "https://bit.ly/304ErHo\n",
      "Location: UK, Finland, Norway, USA, Japan, Mexico, Russia, Canada, Spain, Greece, China\n",
      "Product Category: May be of Benefit, Unlikely to Cause a Reaction\n",
      "None\n"
     ]
    },
    {
     "name": "stderr",
     "output_type": "stream",
     "text": [
      "C:\\Users\\USER\\AppData\\Local\\Temp\\ipykernel_3868\\89686676.py:105: FutureWarning: The frame.append method is deprecated and will be removed from pandas in a future version. Use pandas.concat instead.\n",
      "  gc = gc.append(Dic, ignore_index=True)\n"
     ]
    },
    {
     "name": "stdout",
     "output_type": "stream",
     "text": [
      "Bukang Raycop Anti-Bacterial Vacuum (Bagless)\n",
      "BUKANG’s revolutionary Raycop provides a 3-pronged attack to safely and efficiently help eradicate the millions of dust mites, their faeces and bacteria from beds.\n",
      "Seal of approval: Yes\n",
      "Type: Bed Cleaners\n",
      "Manufacture: Raycop Korea Inc.\n",
      "None\n",
      "https://www.raycop.com/\n",
      "Location: Asia, Australia, New Zealand, South Africa\n",
      "None\n",
      "Price: $249\n"
     ]
    },
    {
     "name": "stderr",
     "output_type": "stream",
     "text": [
      "C:\\Users\\USER\\AppData\\Local\\Temp\\ipykernel_3868\\89686676.py:105: FutureWarning: The frame.append method is deprecated and will be removed from pandas in a future version. Use pandas.concat instead.\n",
      "  gc = gc.append(Dic, ignore_index=True)\n"
     ]
    },
    {
     "name": "stdout",
     "output_type": "stream",
     "text": [
      "Waxed Mini Duster & Waxed Floor Duster\n",
      "RDI International Limited operates in the fast moving housewares, small electricals and automotive industries supplying major retail, mail order, TV and wholesale customers with innovative problem solving products.\n",
      "Allergy Friendly Product Award: Yes\n",
      "Type: Cleaning Products\n",
      "Manufacture: RDI International\n",
      "tel:0800 074 7788\n",
      "https://www.thinkrdi.com/\n",
      "Location: UK, USA\n",
      "Product Category: May be of Benefit, Unlikely to Cause a Reaction\n",
      "Price: £7.95 - £12.95\n"
     ]
    },
    {
     "name": "stderr",
     "output_type": "stream",
     "text": [
      "C:\\Users\\USER\\AppData\\Local\\Temp\\ipykernel_3868\\89686676.py:105: FutureWarning: The frame.append method is deprecated and will be removed from pandas in a future version. Use pandas.concat instead.\n",
      "  gc = gc.append(Dic, ignore_index=True)\n"
     ]
    },
    {
     "name": "stdout",
     "output_type": "stream",
     "text": [
      "Princess Vertical Garment and Fabric Steamers\n",
      "Steam cleaners are advised cleaning tools for everyone with allergies, asthma and high sensitivity for chemicals. Cleaning with high temperature steam eradicates all filth and bacteria and reduces all types of sensitivities. The Princess steam cleaners can help you diminish your allergic reaction and keeps the dust away!\n",
      "Seal of approval: Yes\n",
      "Type: Steam Appliances\n",
      "Manufacture: Princess Household Appliances\n",
      "None\n",
      "https://www.princess.nl/en/\n",
      "Location: Worldwide, UK\n",
      "None\n",
      "None\n"
     ]
    },
    {
     "name": "stderr",
     "output_type": "stream",
     "text": [
      "C:\\Users\\USER\\AppData\\Local\\Temp\\ipykernel_3868\\89686676.py:105: FutureWarning: The frame.append method is deprecated and will be removed from pandas in a future version. Use pandas.concat instead.\n",
      "  gc = gc.append(Dic, ignore_index=True)\n"
     ]
    },
    {
     "name": "stdout",
     "output_type": "stream",
     "text": [
      "Philips Powerpro Expert With Turbo Brush Head\n",
      "Philips PowerPro Expert is engineered for maximum cleaning performance that enables picking up and locking dirt, dust and allergens.\n",
      "Seal of approval: Yes\n",
      "Type: Vacuum Cleaners & Accessories\n",
      "Manufacture: Philips Consumer Lifestyle\n",
      "None\n",
      "None\n",
      "Location: Worldwide, UK\n",
      "None\n",
      "Price: $199.99 - $259.99\n"
     ]
    },
    {
     "name": "stderr",
     "output_type": "stream",
     "text": [
      "C:\\Users\\USER\\AppData\\Local\\Temp\\ipykernel_3868\\89686676.py:105: FutureWarning: The frame.append method is deprecated and will be removed from pandas in a future version. Use pandas.concat instead.\n",
      "  gc = gc.append(Dic, ignore_index=True)\n"
     ]
    },
    {
     "name": "stdout",
     "output_type": "stream",
     "text": [
      "Panasonic Air Purifier (with HEPA composite filters)\n",
      "The multi-filtration process of Panasonic air purifier is empowered by its HEPA Composite Filter. The filter not only can capture 0.3um particles up to 99.97%, it also consists of 3 kinds of technology, Super alleru-buster, Green Tea Catechin and Anti-bacteria Enzyme. It can inhibit allergen and bacteria effectively.\n",
      "None\n",
      "Type: Air Purifiers\n",
      "Manufacture: Panasonic Ecology Systems\n",
      "None\n",
      "None\n",
      "Location: Asia, Middle East, China\n",
      "None\n",
      "Price: $170 - $1037\n"
     ]
    },
    {
     "name": "stderr",
     "output_type": "stream",
     "text": [
      "C:\\Users\\USER\\AppData\\Local\\Temp\\ipykernel_3868\\89686676.py:105: FutureWarning: The frame.append method is deprecated and will be removed from pandas in a future version. Use pandas.concat instead.\n",
      "  gc = gc.append(Dic, ignore_index=True)\n"
     ]
    },
    {
     "name": "stdout",
     "output_type": "stream",
     "text": [
      "Panasonic Air Purifier (with composite filters)\n",
      "The multi-filtration process of Panasonic air purifier is empowered by its Composite Air Filter. The filter not only can capture tiny particles efficiently, it also consists of 3 kinds of technology, Super alleru-buster, Green Tea Catechin and Anti-bacteria Enzyme. It can inhibit allergen and bacteria effectively.\n",
      "Seal of approval: Yes\n",
      "Type: Air Purifiers\n",
      "Manufacture: Panasonic Ecology Systems\n",
      "None\n",
      "https://www.panasonic.com/\n",
      "Location: Asia, Middle East, China\n",
      "None\n",
      "Price: $170 - $1037\n"
     ]
    },
    {
     "name": "stderr",
     "output_type": "stream",
     "text": [
      "C:\\Users\\USER\\AppData\\Local\\Temp\\ipykernel_3868\\89686676.py:105: FutureWarning: The frame.append method is deprecated and will be removed from pandas in a future version. Use pandas.concat instead.\n",
      "  gc = gc.append(Dic, ignore_index=True)\n"
     ]
    },
    {
     "name": "stdout",
     "output_type": "stream",
     "text": [
      "KDK Air Purifier (with HEPA composite filters)\n",
      "The multi-filtration process of KDK air purifier is empowered by its HEPA Composite Filter. The filter not only can capture 0.3um particles up to 99.97%, it also consists of 3 kinds of technology, Super alleru-buster, Green Tea Catechin and Anti-bacteria Enzyme. It can inhibit allergen and bacteria effectively.\n",
      "Seal of approval: Yes\n",
      "Type: Air Purifiers\n",
      "Manufacture: Panasonic Ecology Systems\n",
      "None\n",
      "https://kdk.jp/\n",
      "Location: Asia, Middle East, Africa\n",
      "None\n",
      "Price: $170 - $1037\n"
     ]
    },
    {
     "name": "stderr",
     "output_type": "stream",
     "text": [
      "C:\\Users\\USER\\AppData\\Local\\Temp\\ipykernel_3868\\89686676.py:105: FutureWarning: The frame.append method is deprecated and will be removed from pandas in a future version. Use pandas.concat instead.\n",
      "  gc = gc.append(Dic, ignore_index=True)\n"
     ]
    },
    {
     "name": "stdout",
     "output_type": "stream",
     "text": [
      "Vaporetto Steam Cleaner Range\n",
      "Vaporetto is a steam cleaner which sanitises and does away with dust mites. It cleans with the strength of steam alone, eliminating inhalation and contact with chemical cleaning products.\n",
      "Seal of approval: Yes\n",
      "Type: Steam Appliances\n",
      "Manufacture: POLTI S.P.A\n",
      "tel:0845 1776584\n",
      "https://www.polti.com/\n",
      "Location: UK, Italy, France, Spain, Portugal, Germany, Mexico, USA\n",
      "None\n",
      "Price: £79.99 - £369.99\n"
     ]
    },
    {
     "name": "stderr",
     "output_type": "stream",
     "text": [
      "C:\\Users\\USER\\AppData\\Local\\Temp\\ipykernel_3868\\89686676.py:105: FutureWarning: The frame.append method is deprecated and will be removed from pandas in a future version. Use pandas.concat instead.\n",
      "  gc = gc.append(Dic, ignore_index=True)\n"
     ]
    },
    {
     "name": "stdout",
     "output_type": "stream",
     "text": [
      "Vaporetto Lecoaspira\n",
      "Vaporetto Lecoaspira is a steam cleaner with vacuum function. The benefits are that steam has been proven to kill household dust mites and denature the allergens they produce. The vacuum uses water filtration and EPA filter which capture 99.97% of dust to 0.3 microns.\n",
      "Seal of approval: Yes\n",
      "Type: Steam Appliances\n",
      "Manufacture: POLTI S.P.A\n",
      "tel:0845 1776584\n",
      "https://www.polti.com/\n",
      "Location: UK, Italy, France, Spain, Portugal, Germany, Mexico, USA\n",
      "None\n",
      "Price: £349.99 - £599.99\n"
     ]
    },
    {
     "name": "stderr",
     "output_type": "stream",
     "text": [
      "C:\\Users\\USER\\AppData\\Local\\Temp\\ipykernel_3868\\89686676.py:105: FutureWarning: The frame.append method is deprecated and will be removed from pandas in a future version. Use pandas.concat instead.\n",
      "  gc = gc.append(Dic, ignore_index=True)\n"
     ]
    },
    {
     "name": "stdout",
     "output_type": "stream",
     "text": [
      "My Happy Planet 100% Biodegradable Eco Wipes\n",
      "Our multi award winning wipes are 100% biodegradable, 100% compostable and 100% plastic-free.\n",
      "Allergy Friendly Product Award: Yes\n",
      "Type: Infant Care\n",
      "Manufacture: Opus Innovations Ltd\n",
      "tel:+44 1293 516150\n",
      "https://www.myhappyplanet.co.uk/\n",
      "None\n",
      "Product Category: Unlikely to Cause a Reaction, May be of Benefit\n",
      "Price: £1.80\n"
     ]
    },
    {
     "name": "stderr",
     "output_type": "stream",
     "text": [
      "C:\\Users\\USER\\AppData\\Local\\Temp\\ipykernel_3868\\89686676.py:105: FutureWarning: The frame.append method is deprecated and will be removed from pandas in a future version. Use pandas.concat instead.\n",
      "  gc = gc.append(Dic, ignore_index=True)\n"
     ]
    },
    {
     "name": "stdout",
     "output_type": "stream",
     "text": [
      "Aquaint - 100% Natural Sanitising Water\n",
      "Aquaint is a revolutionary 100% Natural Sanitising Water for Infant Hands, Skin, Mouth & More.\n",
      "Allergy Friendly Product Award: Yes\n",
      "Type: Infant Care\n",
      "Manufacture: Opus Innovations Ltd\n",
      "tel:+44 1293 516150\n",
      "https://www.aquaint-uk.com/\n",
      "Location: UK, Germany, Austria, Finland, Norway\n",
      "Product Category: May be of Benefit, Unlikely to Cause a Reaction\n",
      "Price: From £2.49 - £4.99\n"
     ]
    },
    {
     "name": "stderr",
     "output_type": "stream",
     "text": [
      "C:\\Users\\USER\\AppData\\Local\\Temp\\ipykernel_3868\\89686676.py:105: FutureWarning: The frame.append method is deprecated and will be removed from pandas in a future version. Use pandas.concat instead.\n",
      "  gc = gc.append(Dic, ignore_index=True)\n"
     ]
    },
    {
     "name": "stdout",
     "output_type": "stream",
     "text": [
      "Pro Plan LiveClear\n",
      "PRO PLAN® LIVECLEAR® is the world’s 1st and only cat food that reduces allergens (Fel d1) on cat hair from the 3rdweek of daily feeding* offering cat owners a safe and feline-friendly approach to reducing their exposure to cat allergens (Fel d1), whilst keeping cats in their homes and on their laps.\n",
      "Allergy Friendly Product Award: Yes\n",
      "Type: Pet Care\n",
      "Manufacture: Néstle Purina UK Commercial Operations Limited\n",
      "None\n",
      "https://www.purina.co.uk/proplan/liveclear\n",
      "Location: UK, France, Russia, USA\n",
      "Product Category: May be of Benefit\n",
      "Price: £22 for 1.4kg bag and £36.50 for 2.8kg bag\n"
     ]
    },
    {
     "name": "stderr",
     "output_type": "stream",
     "text": [
      "C:\\Users\\USER\\AppData\\Local\\Temp\\ipykernel_3868\\89686676.py:105: FutureWarning: The frame.append method is deprecated and will be removed from pandas in a future version. Use pandas.concat instead.\n",
      "  gc = gc.append(Dic, ignore_index=True)\n"
     ]
    },
    {
     "name": "stdout",
     "output_type": "stream",
     "text": [
      "Henry Allergy HVA160-1 Vacuum Cleaner (Bagged)\n",
      "Up to 1 in 3 of us suffers from dust-related allergies, but Henry Allergy is here to help! Much more than any ordinary vacuum cleaner, Henry Allergy is equipped with an advanced, 3-stage, HEPA13 filtration system, scientifically proven to reduce exposure to House Dust Mite and Cat Allergen.\n",
      "Seal of approval: Yes\n",
      "Type: Vacuum Cleaners & Accessories\n",
      "Manufacture: Numatic International\n",
      "tel:01460 269229\n",
      "https://www.myhenry.co.uk/\n",
      "Location: Worldwide, UK\n",
      "None\n",
      "Price: £199.99\n"
     ]
    },
    {
     "name": "stderr",
     "output_type": "stream",
     "text": [
      "C:\\Users\\USER\\AppData\\Local\\Temp\\ipykernel_3868\\89686676.py:105: FutureWarning: The frame.append method is deprecated and will be removed from pandas in a future version. Use pandas.concat instead.\n",
      "  gc = gc.append(Dic, ignore_index=True)\n"
     ]
    },
    {
     "name": "stdout",
     "output_type": "stream",
     "text": [
      "Nilfisk Elite Energy Classic UK Cylinder Vacuum (Bagged)\n",
      "The Nilfisk Elite is the perfect vacuum cleaner when you need strong suction, excellent filtration and user-friendly features. Very good machine features like the handle with remote control enables you to switch the machine on/off and adjust the suction level directly at the handle. The Nilfisk Elite is available in 3 different Energy ratings.\n",
      "Seal of approval: Yes\n",
      "Type: Vacuum Cleaners & Accessories\n",
      "Manufacture: Nilfisk A/S\n",
      "tel:+45 43238100\n",
      "https://www.nilfisk.com/\n",
      "Location: Europe\n",
      "None\n",
      "Price: £244.99\n"
     ]
    },
    {
     "name": "stderr",
     "output_type": "stream",
     "text": [
      "C:\\Users\\USER\\AppData\\Local\\Temp\\ipykernel_3868\\89686676.py:105: FutureWarning: The frame.append method is deprecated and will be removed from pandas in a future version. Use pandas.concat instead.\n",
      "  gc = gc.append(Dic, ignore_index=True)\n"
     ]
    },
    {
     "name": "stdout",
     "output_type": "stream",
     "text": [
      "NAROO Sports Masks\n",
      "With the aim to help people around the world pursue dynamic leisure lives, NAROO has developed the NAROO F-Series, a set of breathable face masks that filter. Intended for everyday use and for amateur and professional athletics, NAROO face covers protect people on the go in environments with pollen, dust, in hot or cold weather. They are easy-breathing and filter out environmental agents that cause breathing difficulties or trigger allergy.\n",
      "Allergy Friendly Product Award: Yes\n",
      "Type: Hay Fever Products\n",
      "Manufacture: NAROO CEM Ltd.\n",
      "tel:+82 10-3974-9776\n",
      "https://naroomask.com/\n",
      "Location: Worldwide\n",
      "Product Category: Unlikely to Cause a Reaction, May be of Benefit\n",
      "Price: £14.45 – £49.86\n"
     ]
    },
    {
     "name": "stderr",
     "output_type": "stream",
     "text": [
      "C:\\Users\\USER\\AppData\\Local\\Temp\\ipykernel_3868\\89686676.py:105: FutureWarning: The frame.append method is deprecated and will be removed from pandas in a future version. Use pandas.concat instead.\n",
      "  gc = gc.append(Dic, ignore_index=True)\n"
     ]
    },
    {
     "name": "stdout",
     "output_type": "stream",
     "text": [
      "Mulberry Silk, Silk Filled Duvet\n",
      "Too Hot ? Too Cold ? Allergies ?\n",
      "Seal of approval: Yes\n",
      "Type: Bedding\n",
      "Manufacture: Mulberry Silk\n",
      "tel:0141 611 9705\n",
      "https://www.arkayuk.co.uk/\n",
      "Location: UK, Canada, USA, Ireland, Europe, New Zealand, Australia\n",
      "None\n",
      "Price: £129.00 - £199.00\n"
     ]
    },
    {
     "name": "stderr",
     "output_type": "stream",
     "text": [
      "C:\\Users\\USER\\AppData\\Local\\Temp\\ipykernel_3868\\89686676.py:105: FutureWarning: The frame.append method is deprecated and will be removed from pandas in a future version. Use pandas.concat instead.\n",
      "  gc = gc.append(Dic, ignore_index=True)\n"
     ]
    },
    {
     "name": "stdout",
     "output_type": "stream",
     "text": [
      "Mitsubishi Electric Air Purifier\n",
      "Mitsubishi Electric Air Purifier collects 99% of air pollution substances which size are 0.3µm or less by high suction power and large HEPA filter.\n",
      "Seal of approval: Yes\n",
      "Type: Air Purifiers\n",
      "Manufacture: Mitsubishi Electric Home Applicance Co. Ltd\n",
      "None\n",
      "None\n",
      "Location: Japan, China, Russia, Spain, Italy, France, Germany, Poland\n",
      "None\n",
      "None\n"
     ]
    },
    {
     "name": "stderr",
     "output_type": "stream",
     "text": [
      "C:\\Users\\USER\\AppData\\Local\\Temp\\ipykernel_3868\\89686676.py:105: FutureWarning: The frame.append method is deprecated and will be removed from pandas in a future version. Use pandas.concat instead.\n",
      "  gc = gc.append(Dic, ignore_index=True)\n"
     ]
    },
    {
     "name": "stdout",
     "output_type": "stream",
     "text": [
      "Miele Complete C3 Cylinder Vacuum Cleaner (Bagged)\n",
      "The Complete HEPA 13 range is the perfect choice for anyone who suffers with dust mite and pollen allergies with a complete package – no compromise on power.\n",
      "Seal of approval: Yes\n",
      "Type: Vacuum Cleaners & Accessories\n",
      "Manufacture: Miele & Cie. KG\n",
      "tel:0330 160 6600\n",
      "https://www.miele.co.uk/\n",
      "Location: UK\n",
      "None\n",
      "Price: £230 - £300\n"
     ]
    },
    {
     "name": "stderr",
     "output_type": "stream",
     "text": [
      "C:\\Users\\USER\\AppData\\Local\\Temp\\ipykernel_3868\\89686676.py:105: FutureWarning: The frame.append method is deprecated and will be removed from pandas in a future version. Use pandas.concat instead.\n",
      "  gc = gc.append(Dic, ignore_index=True)\n"
     ]
    },
    {
     "name": "stdout",
     "output_type": "stream",
     "text": [
      "Mesure Nasal Reliever\n",
      "Nasal Reliever is a medical device based on the theory of phototherapy.\n",
      "Allergy Friendly Product Award: Yes\n",
      "Type: Hay Fever Products\n",
      "Manufacture: Mesure Technology\n",
      "None\n",
      "https://www.mesure.com.tw/\n",
      "Location: Worldwide\n",
      "Product Category: May be of Benefit, Unlikely to Cause a Reaction\n",
      "None\n"
     ]
    },
    {
     "name": "stderr",
     "output_type": "stream",
     "text": [
      "C:\\Users\\USER\\AppData\\Local\\Temp\\ipykernel_3868\\89686676.py:105: FutureWarning: The frame.append method is deprecated and will be removed from pandas in a future version. Use pandas.concat instead.\n",
      "  gc = gc.append(Dic, ignore_index=True)\n"
     ]
    },
    {
     "name": "stdout",
     "output_type": "stream",
     "text": [
      "Surcare\n",
      "Surcare products have been specifically developed with sensitive skin in mind and don’t contain unnecessary ingredients that could irritate skin – no enzymes, dyes, acids or perfumes. The products are dermatologically tested and approved and are suitable for allergy sufferers as they have been formulated to reduce exposure to allergens*.\n",
      "Seal of approval: Yes\n",
      "Type: Cleaning Products\n",
      "Manufacture: Mcbride\n",
      "tel:0345 604 6456\n",
      "https://www.surcare.co.uk/\n",
      "Location: UK, Ireland\n",
      "Product Category: Skin Sensitivity\n",
      "Price: From £1.00 - £6.00\n"
     ]
    },
    {
     "name": "stderr",
     "output_type": "stream",
     "text": [
      "C:\\Users\\USER\\AppData\\Local\\Temp\\ipykernel_3868\\89686676.py:105: FutureWarning: The frame.append method is deprecated and will be removed from pandas in a future version. Use pandas.concat instead.\n",
      "  gc = gc.append(Dic, ignore_index=True)\n"
     ]
    },
    {
     "name": "stdout",
     "output_type": "stream",
     "text": [
      "Tubelube\n",
      "Tubelube is a multi-purpose hygiene spray that kills 99.9% of bacteria in seconds. It contains just water and hypochlorous acid – a naturally occurring anti-viral/anti-bacterial that is produced by your body’s own immune system!\n",
      "Allergy Friendly Product Award: Yes\n",
      "Type: Personal Care\n",
      "Manufacture: Maypril Limited\n",
      "None\n",
      "https://www.tubelube.london/\n",
      "Location: UK\n",
      "Product Category: Unlikely to Cause a Reaction, May be of Benefit, Reduced Allergen / Chemical Content\n",
      "Price: £2.99 - £3.49\n"
     ]
    },
    {
     "name": "stderr",
     "output_type": "stream",
     "text": [
      "C:\\Users\\USER\\AppData\\Local\\Temp\\ipykernel_3868\\89686676.py:105: FutureWarning: The frame.append method is deprecated and will be removed from pandas in a future version. Use pandas.concat instead.\n",
      "  gc = gc.append(Dic, ignore_index=True)\n"
     ]
    },
    {
     "name": "stdout",
     "output_type": "stream",
     "text": [
      "Terra Wash+Mg, Eco Laundry Sachet\n",
      "Sold over 2 million pieces!  The Laundry Revolution from Japan!\n",
      "Allergy Friendly Product Award: Yes\n",
      "Type: Cleaning Products\n",
      "Manufacture: MK Enterprise Inc.\n",
      "tel:+81-3-6421-6273\n",
      "https://www.terrawashmg.com/\n",
      "Location: UK, USA, Italy, France, Germany, Canada, Spain, Netherlands, Romania, Baltic States, Saudi Arabia, UAE, Colombia, Costa Rica, Thailand, Philippines, Japan\n",
      "Product Category: Unlikely to Cause a Reaction, May be of Benefit\n",
      "Price: €49\n"
     ]
    },
    {
     "name": "stderr",
     "output_type": "stream",
     "text": [
      "C:\\Users\\USER\\AppData\\Local\\Temp\\ipykernel_3868\\89686676.py:105: FutureWarning: The frame.append method is deprecated and will be removed from pandas in a future version. Use pandas.concat instead.\n",
      "  gc = gc.append(Dic, ignore_index=True)\n"
     ]
    },
    {
     "name": "stdout",
     "output_type": "stream",
     "text": [
      "Garnier Micellar Water for Sensitive Skin\n",
      "Garnier Micellar Cleansing Water is an efficient and easy to use product that cleanses and removes make-up gently in 1 step.\n",
      "Seal of approval: Yes\n",
      "Type: Personal Care\n",
      "Manufacture: L’Oréal U.K. Limited\n",
      "tel:0800 085 4376\n",
      "https://bit.ly/3mpsbbK\n",
      "Location: UK\n",
      "Product Category: Skin Sensitivity\n",
      "Price: £5.99\n"
     ]
    },
    {
     "name": "stderr",
     "output_type": "stream",
     "text": [
      "C:\\Users\\USER\\AppData\\Local\\Temp\\ipykernel_3868\\89686676.py:105: FutureWarning: The frame.append method is deprecated and will be removed from pandas in a future version. Use pandas.concat instead.\n",
      "  gc = gc.append(Dic, ignore_index=True)\n"
     ]
    },
    {
     "name": "stdout",
     "output_type": "stream",
     "text": [
      "Lux Air Purifiers\n",
      "LUX’s unique “HEPALUX” air purification technology, Combine benefits of both HEPA filtration and Ionization system which featuring of High CADR, Low Noise & Power Consumption to meeting air cleaner’s basic requirement of operating on a 24 hours base.\n",
      "Seal of approval: Yes\n",
      "Type: Air Purifiers\n",
      "Manufacture: Lux Asia Pacific PTE Ltd\n",
      "None\n",
      "https://www.luxasiapacific.com/\n",
      "Location: Singapore, Taiwan, Thailand, Indonesia, Philippines, Korea, Brunei, Malaysia\n",
      "None\n",
      "None\n"
     ]
    },
    {
     "name": "stderr",
     "output_type": "stream",
     "text": [
      "C:\\Users\\USER\\AppData\\Local\\Temp\\ipykernel_3868\\89686676.py:105: FutureWarning: The frame.append method is deprecated and will be removed from pandas in a future version. Use pandas.concat instead.\n",
      "  gc = gc.append(Dic, ignore_index=True)\n"
     ]
    },
    {
     "name": "stdout",
     "output_type": "stream",
     "text": [
      "Lansinoh Lanolin Nipple Cream for Breastfeeding Mothers\n",
      "Lansinoh’s HPA® Lanolin has been developed for breastfeeding mothers to soothe and protect sore and cracked nipples.\n",
      "Seal of approval: Yes\n",
      "Type: Personal Care\n",
      "Manufacture: Lansinoh Laboratories\n",
      "tel:0113 259 1425\n",
      "https://www.lansinoh.co.uk/\n",
      "Location: UK, Australia, Austria, Belguim, Botswana, Brazil, Bulgaria, Canada, Costa Rica, Cyprus, Denmark, Finland, France, Germany, Hungary, Iceland, Israel, Italy, Luxembourg, Malta, Mexico, Netherlands, New Zealand, Northern Ireland, Norway, Poland, Portugal, Ireland, Romania, Russia, South Africa, Spain, Sweden, Switzerland, Turkey, USA\n",
      "None\n",
      "Price: £10.99\n"
     ]
    },
    {
     "name": "stderr",
     "output_type": "stream",
     "text": [
      "C:\\Users\\USER\\AppData\\Local\\Temp\\ipykernel_3868\\89686676.py:105: FutureWarning: The frame.append method is deprecated and will be removed from pandas in a future version. Use pandas.concat instead.\n",
      "  gc = gc.append(Dic, ignore_index=True)\n"
     ]
    },
    {
     "name": "stdout",
     "output_type": "stream",
     "text": [
      "Koh Universal Cleaner\n",
      "The Koh Universal Cleaner is an asthma and allergy friendly cleaning solution that removes the need for toxic fumes and harsh chemicals in the home. Thanks to green science and our unique pure water and mineral formulation, you can clean your entire home with one safe, effective and fragrance-free solution.\n",
      "Seal of approval: Yes\n",
      "Type: Cleaning Products\n",
      "Manufacture: Koh Europe Ltd\n",
      "tel:0800 368 8564\n",
      "https://www.koh.com/\n",
      "Location: UK, Australia\n",
      "Product Category: Reduced Allergen / Chemical Content\n",
      "Price: £19.99\n"
     ]
    },
    {
     "name": "stderr",
     "output_type": "stream",
     "text": [
      "C:\\Users\\USER\\AppData\\Local\\Temp\\ipykernel_3868\\89686676.py:105: FutureWarning: The frame.append method is deprecated and will be removed from pandas in a future version. Use pandas.concat instead.\n",
      "  gc = gc.append(Dic, ignore_index=True)\n"
     ]
    },
    {
     "name": "stdout",
     "output_type": "stream",
     "text": [
      "UV sterilized anti-mite vacuum cleaner\n",
      "This anti-mite vacuum cleaner is designed to remove dust mite and dust mite allergen from bed, sofa and mattress.\n",
      "Seal of approval: Yes\n",
      "Type: Bed Cleaners\n",
      "Manufacture: Kingclean Electric Co Ltd\n",
      "None\n",
      "https://www.jimmyglobal.com/\n",
      "Location: China, Europe, Thailand, Singapore\n",
      "None\n",
      "Price: $99.9\n"
     ]
    },
    {
     "name": "stderr",
     "output_type": "stream",
     "text": [
      "C:\\Users\\USER\\AppData\\Local\\Temp\\ipykernel_3868\\89686676.py:105: FutureWarning: The frame.append method is deprecated and will be removed from pandas in a future version. Use pandas.concat instead.\n",
      "  gc = gc.append(Dic, ignore_index=True)\n"
     ]
    },
    {
     "name": "stdout",
     "output_type": "stream",
     "text": [
      "Jimmy Bed Cleaner VC-B401\n",
      "This bed cleaner is designed to remove dust, dust mites, dust mite allergen from bed, sofa and mattress.\n",
      "Seal of approval: Yes\n",
      "Type: Bed Cleaners\n",
      "Manufacture: Kingclean Electric Co Ltd\n",
      "tel:86 512 68326271\n",
      "None\n",
      "Location: China, Europe\n",
      "None\n",
      "Price: $99.00\n"
     ]
    },
    {
     "name": "stderr",
     "output_type": "stream",
     "text": [
      "C:\\Users\\USER\\AppData\\Local\\Temp\\ipykernel_3868\\89686676.py:105: FutureWarning: The frame.append method is deprecated and will be removed from pandas in a future version. Use pandas.concat instead.\n",
      "  gc = gc.append(Dic, ignore_index=True)\n"
     ]
    },
    {
     "name": "stdout",
     "output_type": "stream",
     "text": [
      "Jimmy Bed Cleaner VC-B601\n",
      "This bed cleaner is designed to remove dust, dust mites, dust mite allergen from bed, sofa and mattress.\n",
      "Seal of approval: Yes\n",
      "Type: Bed Cleaners\n",
      "Manufacture: Kingclean Electric Co Ltd\n",
      "tel:86 512 68326271\n",
      "None\n",
      "Location: China\n",
      "None\n",
      "Price: $199.00\n"
     ]
    },
    {
     "name": "stderr",
     "output_type": "stream",
     "text": [
      "C:\\Users\\USER\\AppData\\Local\\Temp\\ipykernel_3868\\89686676.py:105: FutureWarning: The frame.append method is deprecated and will be removed from pandas in a future version. Use pandas.concat instead.\n",
      "  gc = gc.append(Dic, ignore_index=True)\n"
     ]
    },
    {
     "name": "stdout",
     "output_type": "stream",
     "text": [
      "Pima Cotton & Silk Intimate Apparel\n",
      "Our cotton bra, cotton knickers and silk lingerie are 100% pure silk lined and are made of superior quality Pima cotton and pure silk that are luxuriously soft, lightweight and breathable. They are also hypoallergenic, durable and comfortable.\n",
      "Allergy Friendly Product Award: Yes\n",
      "Type: Personal Care\n",
      "Manufacture: Juliemay\n",
      "tel:03301331876\n",
      "https://juliemay.co.uk/\n",
      "None\n",
      "Product Category: Unlikely to Cause a Reaction, May be of Benefit\n",
      "Price: £50.00- £70.00\n"
     ]
    },
    {
     "name": "stderr",
     "output_type": "stream",
     "text": [
      "C:\\Users\\USER\\AppData\\Local\\Temp\\ipykernel_3868\\89686676.py:105: FutureWarning: The frame.append method is deprecated and will be removed from pandas in a future version. Use pandas.concat instead.\n",
      "  gc = gc.append(Dic, ignore_index=True)\n"
     ]
    },
    {
     "name": "stdout",
     "output_type": "stream",
     "text": [
      "WaterWipes\n",
      "WaterWipes® baby wipes are the world’s purest baby wipes. They are made with 99.9% purified water and 0.1% grapefruit extract. WaterWipes® baby wipes are now 100% biodegradable**, plant-based and plastic free. A recent clinical study has shown WaterWipes® to be the No. 1 cleansing wipes helping against the cause of nappy rash*†.\n",
      "Allergy Friendly Product Award: Yes\n",
      "Type: Infant Care\n",
      "Manufacture: WaterWipes UC\n",
      "tel:+353 41 9877460\n",
      "https://www.waterwipes.com/\n",
      "Location: UK, Ireland\n",
      "Product Category: May be of Benefit, Unlikely to Cause a Reaction, Reduced Allergen / Chemical Content, Skin Sensitivity\n",
      "Price: £2.99 full RSP for 60 biodegradable wipes, when not on promotion\n"
     ]
    },
    {
     "name": "stderr",
     "output_type": "stream",
     "text": [
      "C:\\Users\\USER\\AppData\\Local\\Temp\\ipykernel_3868\\89686676.py:105: FutureWarning: The frame.append method is deprecated and will be removed from pandas in a future version. Use pandas.concat instead.\n",
      "  gc = gc.append(Dic, ignore_index=True)\n"
     ]
    },
    {
     "name": "stdout",
     "output_type": "stream",
     "text": [
      "O2 Nose Filters\n",
      "O2 Nose Filters are made with 3M Electrostatic filtration media for Allergy relief, preventing the inhalation of airborne pollution and allergens such as pollen, dust, mold, pet dander and more. The innovative filters are drug free and capture up to 90% of PM10 and up to 65% of PM2.5.\n",
      "Allergy Friendly Product Award: Yes\n",
      "Type: Hay Fever Products\n",
      "Manufacture: InformCare Ltd\n",
      "tel:07384 466 325\n",
      "https://www.informcare.co.uk/o2nosefilters/\n",
      "Location: UK, Ireland, Scandinavia, Europe, USA, Canada, Korea, UAE\n",
      "Product Category: May be of Benefit, Unlikely to Cause a Reaction\n",
      "Price: £9.99 for a box with 10 filters\n"
     ]
    },
    {
     "name": "stderr",
     "output_type": "stream",
     "text": [
      "C:\\Users\\USER\\AppData\\Local\\Temp\\ipykernel_3868\\89686676.py:105: FutureWarning: The frame.append method is deprecated and will be removed from pandas in a future version. Use pandas.concat instead.\n",
      "  gc = gc.append(Dic, ignore_index=True)\n"
     ]
    },
    {
     "name": "stdout",
     "output_type": "stream",
     "text": [
      "Hoover UltraMATT & Ultra Vortex (Bagless)\n",
      "The Hoover Ultra Vortex/UltraMatt is designed to eliminate dust mites from your mattresses and furniture. The Ultra Vortex/UltraMatt comes fitted with three cleaning modes; vacuum, roll & beat and UV-c lamp.\n",
      "Seal of approval: Yes\n",
      "Type: Bed Cleaners\n",
      "Manufacture: Hoover Limited\n",
      "tel:0800 1810 1810\n",
      "https://www.hoover.it/it_IT/battimaterasso/-/catalog/39300209/mbc500uv-011\n",
      "Location: UK, Europe\n",
      "None\n",
      "Price: £149.99\n"
     ]
    },
    {
     "name": "stderr",
     "output_type": "stream",
     "text": [
      "C:\\Users\\USER\\AppData\\Local\\Temp\\ipykernel_3868\\89686676.py:105: FutureWarning: The frame.append method is deprecated and will be removed from pandas in a future version. Use pandas.concat instead.\n",
      "  gc = gc.append(Dic, ignore_index=True)\n"
     ]
    },
    {
     "name": "stdout",
     "output_type": "stream",
     "text": [
      "Hitachi Air Purifier EP-PF120J\n",
      "Hitachi’s Allergy UK approved air purifier are available for the room size up to 84㎡ and have the unique design to fit any room corners which realizes the good air purifying performance.\n",
      "Seal of approval: Yes\n",
      "Type: Air Purifiers\n",
      "Manufacture: Hitachi\n",
      "tel:+81-3-3506-1628\n",
      "https://www.hitachi.com/\n",
      "Location: South East Asia, Middle East\n",
      "None\n",
      "Price: $1100\n"
     ]
    },
    {
     "name": "stderr",
     "output_type": "stream",
     "text": [
      "C:\\Users\\USER\\AppData\\Local\\Temp\\ipykernel_3868\\89686676.py:105: FutureWarning: The frame.append method is deprecated and will be removed from pandas in a future version. Use pandas.concat instead.\n",
      "  gc = gc.append(Dic, ignore_index=True)\n"
     ]
    },
    {
     "name": "stdout",
     "output_type": "stream",
     "text": [
      "Hitachi Front Loading Washing Machine\n",
      "Dirt, such as sebum, detergent residue, bacteria and black mould spores, gradually accumulates in places you can’t see.\n",
      "Seal of approval: Yes\n",
      "Type: Laundry Appliances\n",
      "Manufacture: Hitachi\n",
      "tel:+81-3-3506-1628\n",
      "https://bit.ly/3mxlFQk\n",
      "Location: Taiwan, China, Singapore\n",
      "None\n",
      "Price: $1700-$2300\n"
     ]
    },
    {
     "name": "stderr",
     "output_type": "stream",
     "text": [
      "C:\\Users\\USER\\AppData\\Local\\Temp\\ipykernel_3868\\89686676.py:105: FutureWarning: The frame.append method is deprecated and will be removed from pandas in a future version. Use pandas.concat instead.\n",
      "  gc = gc.append(Dic, ignore_index=True)\n"
     ]
    },
    {
     "name": "stdout",
     "output_type": "stream",
     "text": [
      "Hitachi Cylinder Vacuum Cleaner (Bagless)\n",
      "Easy Cleaning Anywhere:\n",
      "Seal of approval: Yes\n",
      "Type: Vacuum Cleaners & Accessories\n",
      "Manufacture: Hitachi\n",
      "tel:+81-3-3506-1604\n",
      "https://bit.ly/2YnC2XV\n",
      "Location: Asia, Middle East\n",
      "None\n",
      "Price: $200 - $300\n"
     ]
    },
    {
     "name": "stderr",
     "output_type": "stream",
     "text": [
      "C:\\Users\\USER\\AppData\\Local\\Temp\\ipykernel_3868\\89686676.py:105: FutureWarning: The frame.append method is deprecated and will be removed from pandas in a future version. Use pandas.concat instead.\n",
      "  gc = gc.append(Dic, ignore_index=True)\n"
     ]
    },
    {
     "name": "stdout",
     "output_type": "stream",
     "text": [
      "Hitachi Cylinder Vacuum Cleaner (Bagged)\n",
      "Hitachi’s Allergy UK approved bagged vacuum cleaner features high power up to 2300Watts. Furthermore, selected models are available for infrared remote control on the hand-sets and Multi-Angle head, a floor nozzle which rotates 180 degree to either side for easy cleaning in a compact-designed body.\n",
      "Seal of approval: Yes\n",
      "Type: Vacuum Cleaners & Accessories\n",
      "Manufacture: Hitachi\n",
      "tel:+81-3-3506-1644\n",
      "https://www.hitachi.com/\n",
      "Location: Middle East, South East Asia\n",
      "None\n",
      "None\n"
     ]
    },
    {
     "name": "stderr",
     "output_type": "stream",
     "text": [
      "C:\\Users\\USER\\AppData\\Local\\Temp\\ipykernel_3868\\89686676.py:105: FutureWarning: The frame.append method is deprecated and will be removed from pandas in a future version. Use pandas.concat instead.\n",
      "  gc = gc.append(Dic, ignore_index=True)\n"
     ]
    },
    {
     "name": "stdout",
     "output_type": "stream",
     "text": [
      "Hitachi Cyclonic Vacuum Cleaner (Bagless)\n",
      "Power Boost Cyclone features motorized auto drive head which has been made airtight to generate a high-speed air flow enabling powerful suction of dirt as well as wiping. Furthermore, dust, together with the allergens it contains, is compressed and separated, so you can dispose of it with one-touch operation using just one hand without coming into contact with it.\n",
      "Seal of approval: Yes\n",
      "Type: Vacuum Cleaners & Accessories\n",
      "Manufacture: Hitachi\n",
      "tel:+81-3-3506-1644\n",
      "https://www.hitachi-ap.com/index.html\n",
      "Location: South East Asia, Middle East\n",
      "None\n",
      "Price: $190 - $590\n"
     ]
    },
    {
     "name": "stderr",
     "output_type": "stream",
     "text": [
      "C:\\Users\\USER\\AppData\\Local\\Temp\\ipykernel_3868\\89686676.py:105: FutureWarning: The frame.append method is deprecated and will be removed from pandas in a future version. Use pandas.concat instead.\n",
      "  gc = gc.append(Dic, ignore_index=True)\n"
     ]
    },
    {
     "name": "stdout",
     "output_type": "stream",
     "text": [
      "Hitachi Cyclonic Cylinder Vacuum Cleaner (Bagged)\n",
      "Hitachi’s Allergy UK approved bagged vacuum cleaner features high power up to 2300Watts. Furthermore, selected models are available for infrared remote control on the hand-sets and Multi-Angle head, a floor nozzle which rotates 180 degree to either side for easy cleaning in a compact-designed body.\n",
      "Seal of approval: Yes\n",
      "Type: Vacuum Cleaners & Accessories\n",
      "Manufacture: Hitachi\n",
      "tel:+81-3-3506-1644\n",
      "https://www.hitachi.com/\n",
      "Location: South East Asia, Middle East\n",
      "None\n",
      "Price: $160 - $300\n"
     ]
    },
    {
     "name": "stderr",
     "output_type": "stream",
     "text": [
      "C:\\Users\\USER\\AppData\\Local\\Temp\\ipykernel_3868\\89686676.py:105: FutureWarning: The frame.append method is deprecated and will be removed from pandas in a future version. Use pandas.concat instead.\n",
      "  gc = gc.append(Dic, ignore_index=True)\n"
     ]
    },
    {
     "name": "stdout",
     "output_type": "stream",
     "text": [
      "Hitachi Big Drum Washing Machine Auto Self Clean Series\n",
      "Don’t remove dirt on the washing tub, stop it from building up! As you use your washing machine day after day, dirt, such as sebum, detergent residue, bacteria and black mould spores, gradually accumulates in places you can’t see. Hitachi’s new ‘Auto Self Clean’ washing machine automatically cleans itself when you do your laundry –  clean water at the bottom of the outer tub is pushed up to clean the entire tub before the final spin. Keep the washing tub clean, while you do your daily laundry!\n",
      "Seal of approval: Yes\n",
      "Type: Laundry Appliances\n",
      "Manufacture: Hitachi\n",
      "tel:+81-3-3506-1644 (Japan)\n",
      "https://www.hitachiconsumer.com.my/%20%C2%A0\n",
      "Location: South East Asia, Middle East\n",
      "None\n",
      "Price: From $650 - $950\n"
     ]
    },
    {
     "name": "stderr",
     "output_type": "stream",
     "text": [
      "C:\\Users\\USER\\AppData\\Local\\Temp\\ipykernel_3868\\89686676.py:105: FutureWarning: The frame.append method is deprecated and will be removed from pandas in a future version. Use pandas.concat instead.\n",
      "  gc = gc.append(Dic, ignore_index=True)\n"
     ]
    },
    {
     "name": "stdout",
     "output_type": "stream",
     "text": [
      "Hitachi Air Purifier EP-A9000\n",
      "Hitachi’s Allergy UK approved air purifier with newly designed glass touch panels are available for the room size up to 68m2 and air purifying and humidifying function.\n",
      "Seal of approval: Yes\n",
      "Type: Air Purifiers\n",
      "Manufacture: Hitachi\n",
      "tel:+81-3-3506-1644\n",
      "https://www.hitachi.com/\n",
      "Location: Singapore, Thailand, Vietnam, UAE, Asia, Middle East\n",
      "None\n",
      "Price: $1100\n"
     ]
    },
    {
     "name": "stderr",
     "output_type": "stream",
     "text": [
      "C:\\Users\\USER\\AppData\\Local\\Temp\\ipykernel_3868\\89686676.py:105: FutureWarning: The frame.append method is deprecated and will be removed from pandas in a future version. Use pandas.concat instead.\n",
      "  gc = gc.append(Dic, ignore_index=True)\n"
     ]
    },
    {
     "name": "stdout",
     "output_type": "stream",
     "text": [
      "Hitachi Air Purifier EP-A8000\n",
      "Hitachi’s Allergy UK approved air purifier are available for the room size up to 55m2 and air purifying and humidifying function.\n",
      "Seal of approval: Yes\n",
      "Type: Air Purifiers\n",
      "Manufacture: Hitachi\n",
      "tel:+81-3-3506-1644\n",
      "https://www.hitachi.com/\n",
      "Location: South East Asia, Middle East\n",
      "None\n",
      "Price: $900\n"
     ]
    },
    {
     "name": "stderr",
     "output_type": "stream",
     "text": [
      "C:\\Users\\USER\\AppData\\Local\\Temp\\ipykernel_3868\\89686676.py:105: FutureWarning: The frame.append method is deprecated and will be removed from pandas in a future version. Use pandas.concat instead.\n",
      "  gc = gc.append(Dic, ignore_index=True)\n"
     ]
    },
    {
     "name": "stdout",
     "output_type": "stream",
     "text": [
      "Hitachi Air Purifier EP-A5000\n",
      "Hitachi’s Allergy UK approved air purifier are available for the room size up to 33m2 and air purifying and humidifying function.\n",
      "Seal of approval: Yes\n",
      "Type: Air Purifiers\n",
      "Manufacture: Hitachi\n",
      "tel:+81-3-3506-1644\n",
      "https://www.hitachi.com/\n",
      "Location: South East Asia, Middle East\n",
      "None\n",
      "Price: $500\n"
     ]
    },
    {
     "name": "stderr",
     "output_type": "stream",
     "text": [
      "C:\\Users\\USER\\AppData\\Local\\Temp\\ipykernel_3868\\89686676.py:105: FutureWarning: The frame.append method is deprecated and will be removed from pandas in a future version. Use pandas.concat instead.\n",
      "  gc = gc.append(Dic, ignore_index=True)\n"
     ]
    },
    {
     "name": "stdout",
     "output_type": "stream",
     "text": [
      "Hitachi Air Purifier EP-A3000\n",
      "Hitachi’s Allergy UK approved air purifier are available for the room size up to 25m2 in a compact body, and features Allergen-Free Catechin Deodorizing EPA to catch thoroughly odours and pollen, and ready to remove PM2.5.\n",
      "Seal of approval: Yes\n",
      "Type: Air Purifiers\n",
      "Manufacture: Hitachi\n",
      "tel:+81-3-3506-1644\n",
      "https://www.hitachi.com/\n",
      "Location: South East Asia, Middle East\n",
      "None\n",
      "Price: $200\n"
     ]
    },
    {
     "name": "stderr",
     "output_type": "stream",
     "text": [
      "C:\\Users\\USER\\AppData\\Local\\Temp\\ipykernel_3868\\89686676.py:105: FutureWarning: The frame.append method is deprecated and will be removed from pandas in a future version. Use pandas.concat instead.\n",
      "  gc = gc.append(Dic, ignore_index=True)\n"
     ]
    },
    {
     "name": "stdout",
     "output_type": "stream",
     "text": [
      "Lefresh Sanitary Towel & Super-long Overnight Pads\n",
      "Designed to help moms provide the very best for their daughter.\n",
      "Seal of approval: Yes\n",
      "Type: Personal Care\n",
      "Manufacture: Heritage Ventures Co Ltd\n",
      "tel:+82 7070056953\n",
      "https://bit.ly/3adYs00\n",
      "Location: South Korea, USA\n",
      "Product Category: Skin Sensitivity, May be of Benefit, Unlikely to Cause a Reaction, Reduced Allergen / Chemical Content\n",
      "Price: $6.50\n"
     ]
    },
    {
     "name": "stderr",
     "output_type": "stream",
     "text": [
      "C:\\Users\\USER\\AppData\\Local\\Temp\\ipykernel_3868\\89686676.py:105: FutureWarning: The frame.append method is deprecated and will be removed from pandas in a future version. Use pandas.concat instead.\n",
      "  gc = gc.append(Dic, ignore_index=True)\n"
     ]
    },
    {
     "name": "stdout",
     "output_type": "stream",
     "text": [
      "HayMax™ Allergen Barrier Balms\n",
      "Hay Fever? Dust or Pet Allergy?\n",
      "Allergy Friendly Product Award: Yes\n",
      "Type: Hay Fever Products\n",
      "Manufacture: HayMax\n",
      "tel:01525 406600\n",
      "https://www.haymax.biz/\n",
      "Location: UK\n",
      "Product Category: Unlikely to Cause a Reaction, May be of Benefit\n",
      "Price: £6.99\n"
     ]
    },
    {
     "name": "stderr",
     "output_type": "stream",
     "text": [
      "C:\\Users\\USER\\AppData\\Local\\Temp\\ipykernel_3868\\89686676.py:105: FutureWarning: The frame.append method is deprecated and will be removed from pandas in a future version. Use pandas.concat instead.\n",
      "  gc = gc.append(Dic, ignore_index=True)\n"
     ]
    },
    {
     "name": "stdout",
     "output_type": "stream",
     "text": [
      "Natural Blossom Diapers\n",
      "Natural Blossom Super Thin Baby Diapers are made with SAP instead of pulp, so it’s lighter and thinner than other diapers. Because of strong absorption, you don’t have to worry about leakage and babies feel comfortable all the day.\n",
      "Allergy Friendly Product Award: Yes\n",
      "Type: Infant Care\n",
      "Manufacture: Happy Blossom Co., Ltd.\n",
      "tel:+821077 595846\n",
      "https://www.amazon.com/naturalblossom\n",
      "Location: South Korea, USA\n",
      "Product Category: May be of Benefit, Unlikely to Cause a Reaction\n",
      "Price: From £63.00 per box\n"
     ]
    },
    {
     "name": "stderr",
     "output_type": "stream",
     "text": [
      "C:\\Users\\USER\\AppData\\Local\\Temp\\ipykernel_3868\\89686676.py:105: FutureWarning: The frame.append method is deprecated and will be removed from pandas in a future version. Use pandas.concat instead.\n",
      "  gc = gc.append(Dic, ignore_index=True)\n"
     ]
    },
    {
     "name": "stdout",
     "output_type": "stream",
     "text": [
      "Little Softy Fragrance Free Baby Moisturiser\n",
      "This top-to-toe, fragrance-free moisturiser is suitable for newborns, sensitive skin and even those who may be prone to eczema. Good Bubble’s mildest, formulation contains nourishing shea butter, coconut oil and avocado oil to help protect and hydrate young and delicate skin. Clinicially tested and paediatrician approved.\n",
      "Allergy Friendly Product Award: Yes\n",
      "Type: Infant Care\n",
      "Manufacture: Good Bubble\n",
      "tel:0161 507 4996\n",
      "https://www.goodbubble.co.uk/\n",
      "Location: UK, Scandinavia, Malta, Lithuania, Czech Republic\n",
      "Product Category: May be of Benefit, Unlikely to Cause a Reaction\n",
      "Price: £3.19\n"
     ]
    },
    {
     "name": "stderr",
     "output_type": "stream",
     "text": [
      "C:\\Users\\USER\\AppData\\Local\\Temp\\ipykernel_3868\\89686676.py:105: FutureWarning: The frame.append method is deprecated and will be removed from pandas in a future version. Use pandas.concat instead.\n",
      "  gc = gc.append(Dic, ignore_index=True)\n"
     ]
    },
    {
     "name": "stdout",
     "output_type": "stream",
     "text": [
      "Forbo Marmoleum Floorcovering\n",
      "Thanks to its smooth surface, with the correct cleaning regime, Marmoleum will not harbour house dust mites which may help to improve indoor environments. Made from 97% natural raw materials including linseed oil, limestone and wood flour, Marmoleum also has inherent bacteriostatic properties.\n",
      "Seal of approval: Yes\n",
      "Type: Floor / Coverings\n",
      "Manufacture: Forbo Flooring\n",
      "tel:0800 731 2369\n",
      "https://www.forbo-flooring.co.uk/allergy\n",
      "None\n",
      "None\n",
      "None\n"
     ]
    },
    {
     "name": "stderr",
     "output_type": "stream",
     "text": [
      "C:\\Users\\USER\\AppData\\Local\\Temp\\ipykernel_3868\\89686676.py:105: FutureWarning: The frame.append method is deprecated and will be removed from pandas in a future version. Use pandas.concat instead.\n",
      "  gc = gc.append(Dic, ignore_index=True)\n"
     ]
    },
    {
     "name": "stdout",
     "output_type": "stream",
     "text": [
      "Forbo Flotex Flocked Flooring\n",
      "Live Well, Love Flock!\n",
      "Breathe easy in the knowledge you chose Flotex flocked flooring. Offering the warmth and comfort of a carpet combined with the durability and cleanability of a resilient floor covering, Flotex contributes to better indoor environments in which to live, work, learn and play.\n",
      "Seal of approval: Yes\n",
      "Type: Floor / Coverings\n",
      "Manufacture: Forbo Flooring\n",
      "tel:0800 731 2369\n",
      "https://www.forbo-flooring.co.uk/flotexallergy%C2%A0\n",
      "Location: UK\n",
      "None\n",
      "None\n"
     ]
    },
    {
     "name": "stderr",
     "output_type": "stream",
     "text": [
      "C:\\Users\\USER\\AppData\\Local\\Temp\\ipykernel_3868\\89686676.py:105: FutureWarning: The frame.append method is deprecated and will be removed from pandas in a future version. Use pandas.concat instead.\n",
      "  gc = gc.append(Dic, ignore_index=True)\n"
     ]
    },
    {
     "name": "stdout",
     "output_type": "stream",
     "text": [
      "E-Cloths\n",
      "We’re E-Cloth\n",
      "Allergy Friendly Product Award: Yes\n",
      "Type: Cleaning Products\n",
      "Manufacture: Enviroproducts\n",
      "tel:01892 893 131\n",
      "https://www.e-cloth.com/\n",
      "None\n",
      "Product Category: May be of Benefit, Unlikely to Cause a Reaction\n",
      "None\n"
     ]
    },
    {
     "name": "stderr",
     "output_type": "stream",
     "text": [
      "C:\\Users\\USER\\AppData\\Local\\Temp\\ipykernel_3868\\89686676.py:105: FutureWarning: The frame.append method is deprecated and will be removed from pandas in a future version. Use pandas.concat instead.\n",
      "  gc = gc.append(Dic, ignore_index=True)\n"
     ]
    },
    {
     "name": "stdout",
     "output_type": "stream",
     "text": [
      "Electrolux Pure Q9 & Q9-P Cordless Stick Vacuum Cleaner\n",
      "Grab, Go, Job done. The light in hand, powerful 2 in 1 vacuum designed to take the effort out of cleaning\n",
      "Seal of approval: Yes\n",
      "Type: Vacuum Cleaners & Accessories\n",
      "Manufacture: Electrolux Appliances AB\n",
      "None\n",
      "https://electrolux.com/\n",
      "Location: Korea, Japan, Taiwan, Australia, New Zealand, Thailand, Vietnam, Indonesia, Singapore, Malaysia, Hong Kong, South Africa, UAE, Kuwait, Jordan, Saudi Arabia, Oman, Bahrain, Morocco, Qatar, Denmark, Finland, Norway, Sweden, Coratia, Czech Republic, Estonia, Greece, Latvia, Poland, Romania, Slovakia, Turkey, France, Italy, Switzerland\n",
      "Product Category: Independently scientifically tested\n",
      "None\n"
     ]
    },
    {
     "name": "stderr",
     "output_type": "stream",
     "text": [
      "C:\\Users\\USER\\AppData\\Local\\Temp\\ipykernel_3868\\89686676.py:105: FutureWarning: The frame.append method is deprecated and will be removed from pandas in a future version. Use pandas.concat instead.\n",
      "  gc = gc.append(Dic, ignore_index=True)\n"
     ]
    },
    {
     "name": "stdout",
     "output_type": "stream",
     "text": [
      "Ecozone Laundry and Cleaning Collection\n",
      "The Ecozone laundry and cleaning collection was created to provide a healthier, toxin-free allergy friendly way of life.\n",
      "Allergy Friendly Product Award: Yes\n",
      "Type: Cleaning Products\n",
      "Manufacture: Ecozone Ltd\n",
      "None\n",
      "None\n",
      "Location: UK, Australia, Czech Republic, Denmark, Estonia, Finland, France, Germany, Hungary, Ireland, Italy, Latvia, Lithuania, Malta, Netherlands, New Zealand, Norway, Poland, Singapore, Romania, Slovakia, Slovenia, South Africa, Sweden\n",
      "Product Category: May be of Benefit, Unlikely to Cause a Reaction\n",
      "Price: From £1.99 - £19.99\n"
     ]
    },
    {
     "name": "stderr",
     "output_type": "stream",
     "text": [
      "C:\\Users\\USER\\AppData\\Local\\Temp\\ipykernel_3868\\89686676.py:105: FutureWarning: The frame.append method is deprecated and will be removed from pandas in a future version. Use pandas.concat instead.\n",
      "  gc = gc.append(Dic, ignore_index=True)\n"
     ]
    },
    {
     "name": "stdout",
     "output_type": "stream",
     "text": [
      "Ecover Zero\n",
      "Ecover Zero Laundry Liquid uses renewable plant-based, biodegradable ingredients that get stuck into dirt and stains.\n",
      "Seal of approval: Yes\n",
      "Type: Cleaning Products\n",
      "Manufacture: Ecover UK\n",
      "tel:03451 302230\n",
      "https://www.ecoverdirect.com/\n",
      "Location: UK\n",
      "Product Category: Skin Sensitivity\n",
      "Price: From £2.09 - £34.49\n"
     ]
    },
    {
     "name": "stderr",
     "output_type": "stream",
     "text": [
      "C:\\Users\\USER\\AppData\\Local\\Temp\\ipykernel_3868\\89686676.py:105: FutureWarning: The frame.append method is deprecated and will be removed from pandas in a future version. Use pandas.concat instead.\n",
      "  gc = gc.append(Dic, ignore_index=True)\n"
     ]
    },
    {
     "name": "stdout",
     "output_type": "stream",
     "text": [
      "Antimicrobial Alcohol-Free Hand Sanitiser\n",
      "Founded in 2004, EcoHydra is a well-established and trusted hand hygiene business whose hand sanitisers have been rigorously tested and are approved by the NHS.\n",
      "Allergy Friendly Product Award: Yes\n",
      "Type: Personal Care\n",
      "Manufacture: EcoHydra Technologies Limited\n",
      "tel:01895 778977\n",
      "https://ecohydra.com/collections/for-households\n",
      "Location: UK, EEA\n",
      "Product Category: May be of Benefit, Unlikely to Cause a Reaction, Reduced Allergen / Chemical Content\n",
      "Price: From £2.99\n"
     ]
    },
    {
     "name": "stderr",
     "output_type": "stream",
     "text": [
      "C:\\Users\\USER\\AppData\\Local\\Temp\\ipykernel_3868\\89686676.py:105: FutureWarning: The frame.append method is deprecated and will be removed from pandas in a future version. Use pandas.concat instead.\n",
      "  gc = gc.append(Dic, ignore_index=True)\n"
     ]
    },
    {
     "name": "stdout",
     "output_type": "stream",
     "text": [
      "Allergy Block Bedding Range\n",
      "The fabric weaved by high-density to minimize the porosity of the fabric and blocking the house dust mites, and has the advantage of always keeping the comfortable state to pass through air and moisture. Also it does not stimulate the skin upon contact.\n",
      "Seal of approval: Yes\n",
      "Type: Bedding\n",
      "Manufacture: Dawon Trading Inc\n",
      "tel:82-2-1588-5939\n",
      "https://www.dawonmall.com%20/\n",
      "Location: South Korea, China\n",
      "None\n",
      "Price: From £75.73 - £105.08\n"
     ]
    },
    {
     "name": "stderr",
     "output_type": "stream",
     "text": [
      "C:\\Users\\USER\\AppData\\Local\\Temp\\ipykernel_3868\\89686676.py:105: FutureWarning: The frame.append method is deprecated and will be removed from pandas in a future version. Use pandas.concat instead.\n",
      "  gc = gc.append(Dic, ignore_index=True)\n"
     ]
    },
    {
     "name": "stdout",
     "output_type": "stream",
     "text": [
      "Mamamy Wet Wipes – Unscented\n",
      "Mamamy wet wipe unscented from DHTI contains nutrition and safe antibacterial, with the use of paper lid that helps to separate each sheet and also to keep moisture and maximize protection from exposure to dry air, insure your babies health.\n",
      "Allergy Friendly Product Award: Yes\n",
      "Type: Infant Care\n",
      "Manufacture: Dong Hiep Trading and Investment Company Limited\n",
      "tel:+84 946 956 269\n",
      "https://www.mamamy.vn/\n",
      "Location: Vietnam, Taiwan, Cambodia\n",
      "None\n",
      "Price: €0,3 - €1,7\n"
     ]
    },
    {
     "name": "stderr",
     "output_type": "stream",
     "text": [
      "C:\\Users\\USER\\AppData\\Local\\Temp\\ipykernel_3868\\89686676.py:105: FutureWarning: The frame.append method is deprecated and will be removed from pandas in a future version. Use pandas.concat instead.\n",
      "  gc = gc.append(Dic, ignore_index=True)\n"
     ]
    },
    {
     "name": "stdout",
     "output_type": "stream",
     "text": [
      "Daikin Air Purifier\n",
      "A blend of new technology, improved performance and ultra-quiet operation, the Daikin streamer technology air purifier is designed to care for you by unobtrusively providing purified air to produce a healthy home environment.\n",
      "Seal of approval: Yes\n",
      "Type: Air Purifiers\n",
      "Manufacture: Daikin Airconditioning UK Ltd\n",
      "tel:01225 436236\n",
      "https://www.air-purifiers-uk.co.uk/\n",
      "Location: Europe, Middle East, Africa\n",
      "None\n",
      "Price: £359\n"
     ]
    },
    {
     "name": "stderr",
     "output_type": "stream",
     "text": [
      "C:\\Users\\USER\\AppData\\Local\\Temp\\ipykernel_3868\\89686676.py:105: FutureWarning: The frame.append method is deprecated and will be removed from pandas in a future version. Use pandas.concat instead.\n",
      "  gc = gc.append(Dic, ignore_index=True)\n"
     ]
    },
    {
     "name": "stdout",
     "output_type": "stream",
     "text": [
      "Miele Compact C2 Cylinder Vacuum Cleaner (Bagged)\n",
      "Lightweight and easy to use, the Miele Compact range ensures vacuuming your home is with ease. With tools on a VarioClip and a self-closing HyClean 3D Efficiency dustbag, these models also come with a HEPA 13 filter, which retains 99.999% of all dust particles; leaving your room and the ambient air hygienically clean.\n",
      "Seal of approval: Yes\n",
      "Type: Vacuum Cleaners & Accessories\n",
      "Manufacture: Miele & Cie. KG\n",
      "tel:0330 160 6600\n",
      "https://www.miele.co.uk/\n",
      "Location: UK\n",
      "None\n",
      "Price: £210 - £270\n"
     ]
    },
    {
     "name": "stderr",
     "output_type": "stream",
     "text": [
      "C:\\Users\\USER\\AppData\\Local\\Temp\\ipykernel_3868\\89686676.py:105: FutureWarning: The frame.append method is deprecated and will be removed from pandas in a future version. Use pandas.concat instead.\n",
      "  gc = gc.append(Dic, ignore_index=True)\n"
     ]
    },
    {
     "name": "stdout",
     "output_type": "stream",
     "text": [
      "Miele Blizzard CX1 Cylinder Vacuum Cleaner (Bagless)\n",
      "People with allergy should always wear protective items, such as a face mask and gloves when they empty a bagless vacuum cleaner, to reduce their exposure to allergens.\n",
      "Seal of approval: Yes\n",
      "Type: Vacuum Cleaners & Accessories\n",
      "Manufacture: Miele & Cie. KG\n",
      "tel:0330 160 6600\n",
      "https://www.miele.com/\n",
      "Location: UK, Asia, Europe, Australia, USA, Mexico, Russia\n",
      "None\n",
      "Price: Please refer to Miele.co.uk\n"
     ]
    },
    {
     "name": "stderr",
     "output_type": "stream",
     "text": [
      "C:\\Users\\USER\\AppData\\Local\\Temp\\ipykernel_3868\\89686676.py:105: FutureWarning: The frame.append method is deprecated and will be removed from pandas in a future version. Use pandas.concat instead.\n",
      "  gc = gc.append(Dic, ignore_index=True)\n"
     ]
    },
    {
     "name": "stdout",
     "output_type": "stream",
     "text": [
      "JIMMY bed cleaner B505/506/703 series\n",
      "This bed cleaner is designed to remove dust, dust mite, dust mite allergen from bed, sofa and mattress. It is a vacuum cleaner with an electric brushroll and UV-C light. The electric brushroll beats up dust, dust mite and dust mite allergen from bed and delivers them into dirt cup. The UV-C light kills bacteria when the machine moves .\n",
      "Seal of approval: Yes\n",
      "Type: Bed Cleaners\n",
      "Manufacture: Kingclean Electric Co Ltd\n",
      "None\n",
      "https://www.jimmyglobal.com/\n",
      "Location: China, Europe, Thailand, Singapore, Malaysia\n",
      "None\n",
      "Price: $149.99\n"
     ]
    },
    {
     "name": "stderr",
     "output_type": "stream",
     "text": [
      "C:\\Users\\USER\\AppData\\Local\\Temp\\ipykernel_3868\\89686676.py:105: FutureWarning: The frame.append method is deprecated and will be removed from pandas in a future version. Use pandas.concat instead.\n",
      "  gc = gc.append(Dic, ignore_index=True)\n"
     ]
    },
    {
     "name": "stdout",
     "output_type": "stream",
     "text": [
      "Olsson Haircare\n",
      "The OLSSON Sensitive professional high-performance haircare and styling range has been specially developed by Scandinavian hair care experts and designed for those suffering from sensitivities, asthma or allergies.\n",
      "Allergy Friendly Product Award: Yes\n",
      "Type: Personal Care\n",
      "Manufacture: HOSC Nordic ApS\n",
      "tel:01908 303691\n",
      "https://www.olssonhaircare.com/\n",
      "Location: UK, Italy, Germany\n",
      "None\n",
      "Price: £9.95-£12.95\n"
     ]
    },
    {
     "name": "stderr",
     "output_type": "stream",
     "text": [
      "C:\\Users\\USER\\AppData\\Local\\Temp\\ipykernel_3868\\89686676.py:105: FutureWarning: The frame.append method is deprecated and will be removed from pandas in a future version. Use pandas.concat instead.\n",
      "  gc = gc.append(Dic, ignore_index=True)\n"
     ]
    },
    {
     "name": "stdout",
     "output_type": "stream",
     "text": [
      "Coway Clothes Steriliser Cabinet\n",
      "The Coway Clothes Sterilizer Cabinet can reduce of Lives House Dust Mites,  Fungi/Mould and Bacteria\n",
      "Seal of approval: Yes\n",
      "Type: Laundry Appliances\n",
      "Manufacture: Coway Co. Ltd\n",
      "tel:82-21588-5200 (Korea)\n",
      "https://www.coway.co.kr/\n",
      "Location: Worldwide\n",
      "None\n",
      "Price: $2,150\n"
     ]
    },
    {
     "name": "stderr",
     "output_type": "stream",
     "text": [
      "C:\\Users\\USER\\AppData\\Local\\Temp\\ipykernel_3868\\89686676.py:105: FutureWarning: The frame.append method is deprecated and will be removed from pandas in a future version. Use pandas.concat instead.\n",
      "  gc = gc.append(Dic, ignore_index=True)\n"
     ]
    },
    {
     "name": "stdout",
     "output_type": "stream",
     "text": [
      "Cleanstation Air Cleaner\n",
      "Clean Station A series can deliver pure and clean air with zero particle count, a unique High Electric Field Plasma(HEFP) inside the filtration system, no matter how dirty the air is. People can enjoy sterilized and healthy air for better living.\n",
      "Seal of approval: Yes\n",
      "Type: Air Purifiers\n",
      "Manufacture: Cleanstation Technology Co Ltd\n",
      "tel:+886 2 27388493 (Taiwan)\n",
      "https://www.cleanstation.com.tw%20%20/\n",
      "Location: Taiwan\n",
      "None\n",
      "None\n"
     ]
    },
    {
     "name": "stderr",
     "output_type": "stream",
     "text": [
      "C:\\Users\\USER\\AppData\\Local\\Temp\\ipykernel_3868\\89686676.py:105: FutureWarning: The frame.append method is deprecated and will be removed from pandas in a future version. Use pandas.concat instead.\n",
      "  gc = gc.append(Dic, ignore_index=True)\n"
     ]
    },
    {
     "name": "stdout",
     "output_type": "stream",
     "text": [
      "Hoover H-PURIFIER 300/500/700\n",
      "H-PURIFIER is the connected air purifier designed by Hoover to provide you a superior and intelligent air purification experience in just three steps: detecting, filtering, spreading.\n",
      "None\n",
      "Type: Air Purifiers\n",
      "Manufacture: Candy Hoover Group SRL\n",
      "tel:03444995599\n",
      "https://www.hooverdirect.co.uk/\n",
      "Location: UK, Europe\n",
      "Product Category: Efficiency reducing small particulates which may include allergens, bacteria, and viruses\n",
      "None\n"
     ]
    },
    {
     "name": "stderr",
     "output_type": "stream",
     "text": [
      "C:\\Users\\USER\\AppData\\Local\\Temp\\ipykernel_3868\\89686676.py:105: FutureWarning: The frame.append method is deprecated and will be removed from pandas in a future version. Use pandas.concat instead.\n",
      "  gc = gc.append(Dic, ignore_index=True)\n"
     ]
    },
    {
     "name": "stdout",
     "output_type": "stream",
     "text": [
      "Mediclore (Gelatin Free), Anti-Adhesion Dressing, Bioabsorbable\n",
      "Mediclore Bioresorbable Adhesion Barrier is a sterile, singe use, polymeric gel. The gel is absorbable combination of sol-gel transition temperature-controllable polymer and chitosan which is non-pyrogenic and highly biocompatible.\n",
      "Allergy Friendly Product Award: Yes\n",
      "Type: Personal Care\n",
      "Manufacture: C G Bio Co. Ltd\n",
      "tel:+82 2 550 8300\n",
      "https://www.cgbio.co.kr/\n",
      "Location: Korea\n",
      "Product Category: May be of Benefit, Unlikely to Cause a Reaction\n",
      "Price: £82 = (110.100 KRW)\n"
     ]
    },
    {
     "name": "stderr",
     "output_type": "stream",
     "text": [
      "C:\\Users\\USER\\AppData\\Local\\Temp\\ipykernel_3868\\89686676.py:105: FutureWarning: The frame.append method is deprecated and will be removed from pandas in a future version. Use pandas.concat instead.\n",
      "  gc = gc.append(Dic, ignore_index=True)\n"
     ]
    },
    {
     "name": "stdout",
     "output_type": "stream",
     "text": [
      "Easyfoam Dressing\n",
      "EasyFoam™ is a thin and semipermeable polyurethane foam permitting efficient absorption of exudate while maintaining ideal moist environment for wound healing.\n",
      "Allergy Friendly Product Award: Yes\n",
      "Type: Personal Care\n",
      "Manufacture: C G Bio Co. Ltd\n",
      "tel:+82 31 732 0840\n",
      "https://www.cgbio.co.kr/en\n",
      "Location: Korea, China, Thailand, Philippines, Malaysia, Hong Kong\n",
      "Product Category: May be of Benefit, Unlikely to Cause a Reaction\n",
      "None\n"
     ]
    },
    {
     "name": "stderr",
     "output_type": "stream",
     "text": [
      "C:\\Users\\USER\\AppData\\Local\\Temp\\ipykernel_3868\\89686676.py:105: FutureWarning: The frame.append method is deprecated and will be removed from pandas in a future version. Use pandas.concat instead.\n",
      "  gc = gc.append(Dic, ignore_index=True)\n"
     ]
    },
    {
     "name": "stdout",
     "output_type": "stream",
     "text": [
      "Easydew MD Moisturizer\n",
      "Easydew MD Moisturizer is a product used to protect skin, such as burns and dry skin, where the skin barrier has been destroyed.\n",
      "None\n",
      "Type: Personal Care\n",
      "Manufacture: C G Bio Co. Ltd\n",
      "tel:+82 2 550 8300\n",
      "https://www.cgbio.co.kr/\n",
      "Location: Korea\n",
      "Product Category: May be of Benefit, Unlikely to Cause a Reaction\n",
      "Price: £27.00\n"
     ]
    },
    {
     "name": "stderr",
     "output_type": "stream",
     "text": [
      "C:\\Users\\USER\\AppData\\Local\\Temp\\ipykernel_3868\\89686676.py:105: FutureWarning: The frame.append method is deprecated and will be removed from pandas in a future version. Use pandas.concat instead.\n",
      "  gc = gc.append(Dic, ignore_index=True)\n"
     ]
    },
    {
     "name": "stdout",
     "output_type": "stream",
     "text": [
      "Easy Derm Plus\n",
      "EasyDerm plus are adhesive hydrocolloid dressings for the management of exuding wounds to provide moist environments.\n",
      "Allergy Friendly Product Award: Yes\n",
      "Type: Personal Care\n",
      "Manufacture: C G Bio Co. Ltd\n",
      "tel:+82 31 732 0840\n",
      "https://www.cgbio.co.kr/\n",
      "Location: South Korea\n",
      "Product Category: May be of Benefit, Unlikely to Cause a Reaction\n",
      "Price: $2.35 - $4.69\n"
     ]
    },
    {
     "name": "stderr",
     "output_type": "stream",
     "text": [
      "C:\\Users\\USER\\AppData\\Local\\Temp\\ipykernel_3868\\89686676.py:105: FutureWarning: The frame.append method is deprecated and will be removed from pandas in a future version. Use pandas.concat instead.\n",
      "  gc = gc.append(Dic, ignore_index=True)\n"
     ]
    },
    {
     "name": "stdout",
     "output_type": "stream",
     "text": [
      "CuraVAC\n",
      "CuraVAC is a dressing foam for the application of negative pressure wound therapy (NPWT) to facilitate the formation of granulation tissue.\n",
      "Allergy Friendly Product Award: Yes\n",
      "Type: Personal Care\n",
      "Manufacture: C G Bio Co. Ltd\n",
      "tel:+82 31 732 0840\n",
      "https://www.cgbio.co.kr/\n",
      "Location: Korea, China, Thailand, Philippines, Indonesia\n",
      "Product Category: May be of Benefit, Unlikely to Cause a Reaction\n",
      "None\n"
     ]
    },
    {
     "name": "stderr",
     "output_type": "stream",
     "text": [
      "C:\\Users\\USER\\AppData\\Local\\Temp\\ipykernel_3868\\89686676.py:105: FutureWarning: The frame.append method is deprecated and will be removed from pandas in a future version. Use pandas.concat instead.\n",
      "  gc = gc.append(Dic, ignore_index=True)\n"
     ]
    },
    {
     "name": "stdout",
     "output_type": "stream",
     "text": [
      "Panasonic Front Loading Washing Machine With Allergy Course\n",
      "Designed for easy allergen removal: get rid of mite & cedar pollen by simply using the “Allergy” programme. Washes clothes with hot 60°C/90°C water to keep fabrics extra hygienic by removing common household allergens that irritate sensitive skin. This washing programme reduces more than 99% of allergens from your laundry.\n",
      "Seal of approval: Yes\n",
      "Type: Laundry Appliances\n",
      "Manufacture: Branch of Panasonic Appliances Vietnam Co. Ltd in Hung Yen\n",
      "tel:+84 (321) 6251 700\n",
      "https://www.panasonic.com/vn/en/\n",
      "Location: Vietnam, Thailand, Singapore, Malaysia, Indonesia, Philippines, Australia, New Zealand\n",
      "None\n",
      "Price: $600 - $830\n"
     ]
    },
    {
     "name": "stderr",
     "output_type": "stream",
     "text": [
      "C:\\Users\\USER\\AppData\\Local\\Temp\\ipykernel_3868\\89686676.py:105: FutureWarning: The frame.append method is deprecated and will be removed from pandas in a future version. Use pandas.concat instead.\n",
      "  gc = gc.append(Dic, ignore_index=True)\n"
     ]
    },
    {
     "name": "stdout",
     "output_type": "stream",
     "text": [
      "Bokuk ECO MONO Electronic Blanket\n",
      "We now became a global brand by being nominated as the ‘best product’ by prominent media and consumer report.\n",
      "Seal of approval: Yes\n",
      "Type: Bedding\n",
      "Manufacture: Bokuk Electronics Inc\n",
      "tel:82-53-580-0651\n",
      "None\n",
      "Location: Worldwide\n",
      "None\n",
      "Price: $94.13 - $120.03\n"
     ]
    },
    {
     "name": "stderr",
     "output_type": "stream",
     "text": [
      "C:\\Users\\USER\\AppData\\Local\\Temp\\ipykernel_3868\\89686676.py:105: FutureWarning: The frame.append method is deprecated and will be removed from pandas in a future version. Use pandas.concat instead.\n",
      "  gc = gc.append(Dic, ignore_index=True)\n"
     ]
    },
    {
     "name": "stdout",
     "output_type": "stream",
     "text": [
      "PetalCleanse, FabriCleanse, HomeCleanse, AirCleanse\n",
      "A pet cleanser that removes from the coats of pets the allergens that cause rhinitis, allergic conjunctivitis, asthma, eczema & hives in humans.\n",
      "Allergy Friendly Product Award: Yes\n",
      "Type: Cleaning Products\n",
      "Manufacture: Bio-Life\n",
      "tel:01608 686 626 (UK)\n",
      "https://www.biolife-international.co.uk/\n",
      "Location: UK\n",
      "Product Category: May be of Benefit, Unlikely to Cause a Reaction\n",
      "Price: £9.95 - £11.95\n"
     ]
    },
    {
     "name": "stderr",
     "output_type": "stream",
     "text": [
      "C:\\Users\\USER\\AppData\\Local\\Temp\\ipykernel_3868\\89686676.py:105: FutureWarning: The frame.append method is deprecated and will be removed from pandas in a future version. Use pandas.concat instead.\n",
      "  gc = gc.append(Dic, ignore_index=True)\n"
     ]
    },
    {
     "name": "stdout",
     "output_type": "stream",
     "text": [
      "Bio–D Products\n",
      "Dishwasher Powder:\n",
      "Allergy Friendly Product Award: Yes\n",
      "Type: Cleaning Products\n",
      "Manufacture: Bio - D Ltd\n",
      "tel:01482 229950\n",
      "https://www.biod.co.uk/\n",
      "Location: UK\n",
      "Product Category: May be of Benefit, Unlikely to Cause a Reaction\n",
      "Price: £9.60, £2.45, £5.30, £3.20, £2.80, £8.45 1 kg\n"
     ]
    },
    {
     "name": "stderr",
     "output_type": "stream",
     "text": [
      "C:\\Users\\USER\\AppData\\Local\\Temp\\ipykernel_3868\\89686676.py:105: FutureWarning: The frame.append method is deprecated and will be removed from pandas in a future version. Use pandas.concat instead.\n",
      "  gc = gc.append(Dic, ignore_index=True)\n"
     ]
    },
    {
     "name": "stdout",
     "output_type": "stream",
     "text": [
      "B Sensible Waterproof Bedding\n",
      "2 in 1 Mattress Protector + Fitted Sheet.\n",
      "None\n",
      "Type: Bedding\n",
      "Manufacture: Bedding Industrial Begudà, S.L\n",
      "tel:(+34) 972 295514\n",
      "https://www.bsensible.com%20/%20www.bsensible.co.uk%C2%A0\n",
      "Location: Europe, USA, South America, Asia\n",
      "None\n",
      "Price: From £16 - £50\n"
     ]
    },
    {
     "name": "stderr",
     "output_type": "stream",
     "text": [
      "C:\\Users\\USER\\AppData\\Local\\Temp\\ipykernel_3868\\89686676.py:105: FutureWarning: The frame.append method is deprecated and will be removed from pandas in a future version. Use pandas.concat instead.\n",
      "  gc = gc.append(Dic, ignore_index=True)\n"
     ]
    },
    {
     "name": "stdout",
     "output_type": "stream",
     "text": [
      "Beko Washing Machine\n",
      "“The specially developed antiallergic BabyProtect+ program targets to provide antiallergic laundry for your sensitive skin and for your baby.\n",
      "Seal of approval: Yes\n",
      "Type: Laundry Appliances\n",
      "Manufacture: Arcelik AS\n",
      "tel:0090 216 585 8585\n",
      "https://www.arcelik.com.tr/\n",
      "Location: UK\n",
      "None\n",
      "None\n"
     ]
    },
    {
     "name": "stderr",
     "output_type": "stream",
     "text": [
      "C:\\Users\\USER\\AppData\\Local\\Temp\\ipykernel_3868\\89686676.py:105: FutureWarning: The frame.append method is deprecated and will be removed from pandas in a future version. Use pandas.concat instead.\n",
      "  gc = gc.append(Dic, ignore_index=True)\n"
     ]
    },
    {
     "name": "stdout",
     "output_type": "stream",
     "text": [
      "Beko Tumble Dryer\n",
      "You can have perfect and hygienic drying results thanks to Hygiene, Hygiene+, Babyprotect+ and Hygienic Drying textile programs.\n",
      "Seal of approval: Yes\n",
      "Type: Laundry Appliances\n",
      "Manufacture: Arcelik AS\n",
      "tel:+90 282 736 50 50\n",
      "https://www.beko.com/\n",
      "Location: Turkey\n",
      "None\n",
      "None\n"
     ]
    },
    {
     "name": "stderr",
     "output_type": "stream",
     "text": [
      "C:\\Users\\USER\\AppData\\Local\\Temp\\ipykernel_3868\\89686676.py:105: FutureWarning: The frame.append method is deprecated and will be removed from pandas in a future version. Use pandas.concat instead.\n",
      "  gc = gc.append(Dic, ignore_index=True)\n"
     ]
    },
    {
     "name": "stdout",
     "output_type": "stream",
     "text": [
      "Arcelik Tumble Dryer\n",
      "You can have perfect and hygienic drying results thanks to Hygiene, Hygiene+, Babyprotect+ and Hygienic Drying textile programs.\n",
      "Seal of approval: Yes\n",
      "Type: Laundry Appliances\n",
      "Manufacture: Arcelik AS\n",
      "tel:+90 282 736 50 50\n",
      "https://www.arcelik.com/\n",
      "Location: Turkey\n",
      "None\n",
      "None\n"
     ]
    },
    {
     "name": "stderr",
     "output_type": "stream",
     "text": [
      "C:\\Users\\USER\\AppData\\Local\\Temp\\ipykernel_3868\\89686676.py:105: FutureWarning: The frame.append method is deprecated and will be removed from pandas in a future version. Use pandas.concat instead.\n",
      "  gc = gc.append(Dic, ignore_index=True)\n"
     ]
    },
    {
     "name": "stdout",
     "output_type": "stream",
     "text": [
      "Oderase Deodorising Spray\n",
      "Oderase™ is the first fragrance-free odour erasing bathroom spray on the UK market.\n",
      "Allergy Friendly Product Award: Yes\n",
      "Type: Personal Care\n",
      "Manufacture: Aqdot Ltd\n",
      "tel:0044 1223 928 000\n",
      "None\n",
      "Location: UK\n",
      "Product Category: May be of Benefit, Unlikely to Cause a Reaction\n",
      "Price: £4.99\n"
     ]
    },
    {
     "name": "stderr",
     "output_type": "stream",
     "text": [
      "C:\\Users\\USER\\AppData\\Local\\Temp\\ipykernel_3868\\89686676.py:105: FutureWarning: The frame.append method is deprecated and will be removed from pandas in a future version. Use pandas.concat instead.\n",
      "  gc = gc.append(Dic, ignore_index=True)\n"
     ]
    },
    {
     "name": "stdout",
     "output_type": "stream",
     "text": [
      "Amway Atmosphere Sky Air Purifier\n",
      "The Atmosphere SkyTM air treatment system brings the next generation of clean air to homes around the world, from AtmosphereTM the world’s largest selling home air treatment product.\n",
      "Seal of approval: Yes\n",
      "Type: Air Purifiers\n",
      "Manufacture: Amway Corp.\n",
      "None\n",
      "https://www.amway.com/en_US/Atmosphere-Sky%E2%84%A2-Air-Treatment-System-p-120539\n",
      "Location: USA, Canada, Italy, Poland, Portugal, China, Taiwan, Hong Kong, Japan, South Korea, Thailand, Malaysia, Singapore, Indonesia, Germany, Austria, Spain\n",
      "None\n",
      "None\n"
     ]
    },
    {
     "name": "stderr",
     "output_type": "stream",
     "text": [
      "C:\\Users\\USER\\AppData\\Local\\Temp\\ipykernel_3868\\89686676.py:105: FutureWarning: The frame.append method is deprecated and will be removed from pandas in a future version. Use pandas.concat instead.\n",
      "  gc = gc.append(Dic, ignore_index=True)\n"
     ]
    },
    {
     "name": "stdout",
     "output_type": "stream",
     "text": [
      "Amway Atmosphere Mini Air Purifier\n",
      "The Atmosphere MiniTM  Air Treatment System utilizes an exclusive 3 in 1 filtration system to remove the smallest impurities and the slightest odors. The compact design also features a companion app, Atmosphere Connect, which allows users to control the unit, monitor filter life, order replacement filters, and track air quality.\n",
      "Seal of approval: Yes\n",
      "Type: Air Purifiers\n",
      "Manufacture: Amway Corp.\n",
      "None\n",
      "https://www.amway.com/\n",
      "Location: India, Japan, Thailand, Malaysia, Singapore, Hong Kong, Taiwan, Indonesia, USA\n",
      "None\n",
      "None\n"
     ]
    },
    {
     "name": "stderr",
     "output_type": "stream",
     "text": [
      "C:\\Users\\USER\\AppData\\Local\\Temp\\ipykernel_3868\\89686676.py:105: FutureWarning: The frame.append method is deprecated and will be removed from pandas in a future version. Use pandas.concat instead.\n",
      "  gc = gc.append(Dic, ignore_index=True)\n"
     ]
    },
    {
     "name": "stdout",
     "output_type": "stream",
     "text": [
      "Amway Atmosphere Drive Automobile Air Purifier\n",
      "The Atmosphere Drive™ Car Air Treatment System by Amway is a self-installed in-vehicle air purification system that leverages the proven Atmosphere™ filtration technology to provide users with fresh, safe air within the car.\n",
      "Seal of approval: Yes\n",
      "Type: Air Purifiers\n",
      "Manufacture: Amway Corp.\n",
      "None\n",
      "https://www.allergyuk.org/our-services/allergyuk-products/amway-atmosphere-drive-automobile-air-purifier/www.amway.com\n",
      "Location: China, Taiwan, Hong Kong, South Korea, Japan, Thailand, Malaysia, Singapore, India, Indonesia\n",
      "None\n",
      "None\n"
     ]
    },
    {
     "name": "stderr",
     "output_type": "stream",
     "text": [
      "C:\\Users\\USER\\AppData\\Local\\Temp\\ipykernel_3868\\89686676.py:105: FutureWarning: The frame.append method is deprecated and will be removed from pandas in a future version. Use pandas.concat instead.\n",
      "  gc = gc.append(Dic, ignore_index=True)\n"
     ]
    },
    {
     "name": "stdout",
     "output_type": "stream",
     "text": [
      "Allerman Anti Allergy Bedding\n",
      "Allerman’s Allergy X-Cover is a microfiber thread, preventing house dust mites to make clean and healthy environment for sleeping by minimizing the void fraction when weaving.\n",
      "Seal of approval: Yes\n",
      "Type: Bedding\n",
      "Manufacture: Allerman Co, Ltd\n",
      "tel:+82319222791\n",
      "https://www.allerman.com/\n",
      "Location: South Korea\n",
      "None\n",
      "Price: From $50.00 - $540.00\n"
     ]
    },
    {
     "name": "stderr",
     "output_type": "stream",
     "text": [
      "C:\\Users\\USER\\AppData\\Local\\Temp\\ipykernel_3868\\89686676.py:105: FutureWarning: The frame.append method is deprecated and will be removed from pandas in a future version. Use pandas.concat instead.\n",
      "  gc = gc.append(Dic, ignore_index=True)\n"
     ]
    },
    {
     "name": "stdout",
     "output_type": "stream",
     "text": [
      "Drosh Mens Clothing\n",
      "Drosh is a brand of the underwear clothes produced by the company.\n",
      "Allergy Friendly Product Award: Yes\n",
      "Type: Personal Care\n",
      "Manufacture: Ajlan Ben Abdulaziz Alajlan & Bros Co.\n",
      "tel:00966 11 4665555\n",
      "https://www.ajlanbros.com/\n",
      "Location: Saudi Arabia, Qatar, Bahrain, UAE, Oman, Kuwait, Iraq, Jordan\n",
      "Product Category: May be of Benefit, Unlikely to Cause a Reaction\n",
      "None\n"
     ]
    },
    {
     "name": "stderr",
     "output_type": "stream",
     "text": [
      "C:\\Users\\USER\\AppData\\Local\\Temp\\ipykernel_3868\\89686676.py:105: FutureWarning: The frame.append method is deprecated and will be removed from pandas in a future version. Use pandas.concat instead.\n",
      "  gc = gc.append(Dic, ignore_index=True)\n"
     ]
    },
    {
     "name": "stdout",
     "output_type": "stream",
     "text": [
      "Astex Pristine, Fully Encased\n",
      "Soft, supple, silent, breathable and lightweight. The fabric is not chemically treated and does not have plastic backing.\n",
      "Seal of approval: Yes\n",
      "Type: Bedding\n",
      "Manufacture: ACP Solutions (Astex Allergy Bedding)\n",
      "tel:01453 833345\n",
      "https://www.allergyuk.org/our-services/allergyuk-products/astex-pristine-fully-encased/www.astexallergybedding.co.uk/\n",
      "Location: UK\n",
      "None\n",
      "Price: From £143.50\n"
     ]
    },
    {
     "name": "stderr",
     "output_type": "stream",
     "text": [
      "C:\\Users\\USER\\AppData\\Local\\Temp\\ipykernel_3868\\89686676.py:105: FutureWarning: The frame.append method is deprecated and will be removed from pandas in a future version. Use pandas.concat instead.\n",
      "  gc = gc.append(Dic, ignore_index=True)\n"
     ]
    }
   ],
   "source": [
    "t=2\n",
    "for k in range(pages):\n",
    "    cc = driver.find_elements(By.CSS_SELECTOR, 'section > section.three-col.section > div > div > article > div > div.card-wrap > div > header > h3 > a')\n",
    "    cc = len(cc)\n",
    "    cc = int(cc)\n",
    "    \n",
    "    for i in range(cc):\n",
    "        \n",
    "        lnk = driver.find_elements(By.CSS_SELECTOR, 'section > section.three-col.section > div > div > article > div > div.card-wrap > div > header > h3 > a')\n",
    "        lnk = lnk[i].get_attribute('href')\n",
    "        \n",
    "        #nam = driver.find_elements(By.CSS_SELECTOR, 'section.hero-outer.hero-shape.section > div > header > div > h1.hero-title')\n",
    "        #nam = nam[i].text \n",
    "        \n",
    "        # Switch to the New window\n",
    "        driver.execute_script(\"window.open('');\")\n",
    "        driver.switch_to.window(driver.window_handles[1])\n",
    "        driver.get(lnk)\n",
    "        time.sleep(4)\n",
    "        \n",
    "        nam = driver.find_element(By.CSS_SELECTOR, 'section.hero-outer.hero-shape.section > div > header > div > h1')\n",
    "        nam = nam.text                               \n",
    "        print(nam)\n",
    "        \n",
    "        try:\n",
    "            des = driver.find_element(By.CSS_SELECTOR, 'div.main-section.single > div > div > div > p:nth-child(1)')\n",
    "            des = des.text\n",
    "        except:\n",
    "            des = 'None'\n",
    "        print(des)   \n",
    "        try:\n",
    "            appr = driver.find_element(By.CSS_SELECTOR, 'div.main-section.single > div > aside > ul:nth-child(1) > li.sidebar-meta-block.approval')\n",
    "            appr = appr.text\n",
    "        except:\n",
    "            appr = 'None'\n",
    "        print(appr)\n",
    "                    \n",
    "        try:\n",
    "            typ = driver.find_element(By.CSS_SELECTOR, 'div.main-section.single > div > aside > ul:nth-child(1) > li.sidebar-meta-block.type')\n",
    "            typ = typ.text\n",
    "        except:\n",
    "            typ = 'None'            \n",
    "        print(typ)\n",
    "        \n",
    "        try:\n",
    "            manuf = driver.find_element(By.CSS_SELECTOR, 'div.main-section.single > div > aside > ul:nth-child(1) > li.sidebar-meta-block.manufacture')\n",
    "            manuf = manuf.text\n",
    "        except:\n",
    "            manuf = 'None'\n",
    "        print(manuf)\n",
    "            \n",
    "        try:\n",
    "            tlp = driver.find_element(By.CSS_SELECTOR, 'div.main-section.single > div > aside > ul:nth-child(1) > li.sidebar-meta-block.telephone > a')\n",
    "            tlp = tlp.get_attribute('href')\n",
    "        except:\n",
    "            tlp = 'None' \n",
    "        print(tlp)\n",
    "            \n",
    "        try:\n",
    "            web = driver.find_element(By.CSS_SELECTOR, 'div.main-section.single > div > aside > ul:nth-child(1) > li.sidebar-meta-block.website > a')\n",
    "            web = web.get_attribute('href')\n",
    "        except:\n",
    "            web = 'None' \n",
    "        print(web)\n",
    "            \n",
    "        try:\n",
    "            mail = driver.find_element(By.CSS_SELECTOR, 'div.main-section.single > div > aside > ul:nth-child(1) > li.sidebar-meta-block.email')\n",
    "            mail = mail.text\n",
    "        except:\n",
    "            mail = 'None'\n",
    "            \n",
    "        try:\n",
    "            loc = driver.find_element(By.CSS_SELECTOR, 'div.main-section.single > div > aside > ul:nth-child(1) > li.sidebar-meta-block.location')\n",
    "            loc = loc.text\n",
    "        except:\n",
    "            loc = 'None' \n",
    "        print(loc)\n",
    "            \n",
    "        try:\n",
    "            pcat = driver.find_element(By.CSS_SELECTOR, 'div.main-section.single > div > aside > ul:nth-child(1) > li.sidebar-meta-block.product_category')\n",
    "            pcat = pcat.text\n",
    "        except:\n",
    "            pcat = 'None'\n",
    "        print(pcat)\n",
    "            \n",
    "        try:\n",
    "            prc = driver.find_element(By.CSS_SELECTOR, 'div.main-section.single > div > aside > ul:nth-child(1) > li.sidebar-meta-block.price')\n",
    "            prc = prc.text\n",
    "        except:\n",
    "            prc = 'None' \n",
    "        print(prc)\n",
    "            \n",
    "        Dic = {'Product Name': nam,\n",
    "                'Product Description': des,\n",
    "                'Approval': appr,\n",
    "                'Product Type': typ,\n",
    "                'Manufacturer': manuf,\n",
    "                'Telephone': tlp,\n",
    "                'Website': web,\n",
    "                'E-mail': mail,\n",
    "                'Location': loc,\n",
    "                'price': prc,\n",
    "                'Product Category': pcat\n",
    "                }    \n",
    "        gc = gc.append(Dic, ignore_index=True)\n",
    "        \n",
    "        # Switch to the Previous window\n",
    "        driver.close()\n",
    "        driver.switch_to.window(driver.window_handles[0])\n",
    "        \n",
    "    # Go to the Next Page\n",
    "    base = 'https://www.allergyuk.org/our-services/allergyuk-products/'\n",
    "    extra = 'page/'\n",
    "    n = str(t)\n",
    "    url = base+extra+n+'/'\n",
    "    driver.get(url)\n",
    "    time.sleep(5)\n",
    "    t = int(t)\n",
    "    t = t+1              "
   ]
  },
  {
   "cell_type": "code",
   "execution_count": 6,
   "id": "ee9e6063",
   "metadata": {},
   "outputs": [
    {
     "data": {
      "text/html": [
       "<div>\n",
       "<style scoped>\n",
       "    .dataframe tbody tr th:only-of-type {\n",
       "        vertical-align: middle;\n",
       "    }\n",
       "\n",
       "    .dataframe tbody tr th {\n",
       "        vertical-align: top;\n",
       "    }\n",
       "\n",
       "    .dataframe thead th {\n",
       "        text-align: right;\n",
       "    }\n",
       "</style>\n",
       "<table border=\"1\" class=\"dataframe\">\n",
       "  <thead>\n",
       "    <tr style=\"text-align: right;\">\n",
       "      <th></th>\n",
       "      <th>Product Name</th>\n",
       "      <th>Product Description</th>\n",
       "      <th>Approval</th>\n",
       "      <th>Product Type</th>\n",
       "      <th>Manufacturer</th>\n",
       "      <th>Telephone</th>\n",
       "      <th>Website</th>\n",
       "      <th>E-mail</th>\n",
       "      <th>Location</th>\n",
       "      <th>price</th>\n",
       "      <th>Product Category</th>\n",
       "    </tr>\n",
       "  </thead>\n",
       "  <tbody>\n",
       "    <tr>\n",
       "      <th>0</th>\n",
       "      <td>NaN</td>\n",
       "      <td>NaN</td>\n",
       "      <td>NaN</td>\n",
       "      <td>NaN</td>\n",
       "      <td>NaN</td>\n",
       "      <td>NaN</td>\n",
       "      <td>NaN</td>\n",
       "      <td>NaN</td>\n",
       "      <td>NaN</td>\n",
       "      <td>NaN</td>\n",
       "      <td>NaN</td>\n",
       "    </tr>\n",
       "    <tr>\n",
       "      <th>1</th>\n",
       "      <td>OSIM uAlpine Smart 2</td>\n",
       "      <td>Designed with the ultimate air purification in...</td>\n",
       "      <td>Seal of approval: Yes</td>\n",
       "      <td>Type: Air Purifiers</td>\n",
       "      <td>Manufacture: OSIM International Ltd</td>\n",
       "      <td>tel:Please refer to www.osim.com</td>\n",
       "      <td>https://www.osim.com/</td>\n",
       "      <td>Consumer email:Please refer to www.osim.com</td>\n",
       "      <td>Location: UK, Worldwide</td>\n",
       "      <td>Price: Please refer to www.osim.com</td>\n",
       "      <td>Product Category: Efficiency reducing small pa...</td>\n",
       "    </tr>\n",
       "    <tr>\n",
       "      <th>2</th>\n",
       "      <td>THOMAS AQUA+ Pet &amp; Family</td>\n",
       "      <td>THOMAS AQUA+ Technology: The perfect solution ...</td>\n",
       "      <td>Seal of approval: Yes</td>\n",
       "      <td>Type: Vacuum Cleaners &amp; Accessories</td>\n",
       "      <td>Manufacture: Robert Thomas</td>\n",
       "      <td>None</td>\n",
       "      <td>https://www.thomas-petandfamily.co.uk/</td>\n",
       "      <td>Consumer email:UK-SERVICE1@ROBERT-THOMAS.NET</td>\n",
       "      <td>Location: UK, Europe</td>\n",
       "      <td>None</td>\n",
       "      <td>None</td>\n",
       "    </tr>\n",
       "    <tr>\n",
       "      <th>3</th>\n",
       "      <td>SHIELDME Hand Sanitiser 100ml</td>\n",
       "      <td>SHIELD MIDDLE EAST is a leader in manufacturin...</td>\n",
       "      <td>Seal of approval: Yes</td>\n",
       "      <td>Type: Cleaning Products</td>\n",
       "      <td>Manufacture: SHIELD MIDDLE EAST FZCO UAE</td>\n",
       "      <td>tel:+971 4 815 1111</td>\n",
       "      <td>https://www.shieldmeglobal.com/</td>\n",
       "      <td>Consumer email:info@shieldmeglobal.com</td>\n",
       "      <td>Location: UAE, Kuwait, Oman, Bahrain</td>\n",
       "      <td>Price: $4.5</td>\n",
       "      <td>Product Category: Unlikely to Cause a Reaction...</td>\n",
       "    </tr>\n",
       "    <tr>\n",
       "      <th>4</th>\n",
       "      <td>SHIELDME Disinfectant 5L</td>\n",
       "      <td>SHIELD MIDDLE EAST is a leader in manufacturin...</td>\n",
       "      <td>Allergy Friendly Product Award: Yes</td>\n",
       "      <td>Type: Cleaning Products</td>\n",
       "      <td>Manufacture: SHIELD MIDDLE EAST FZCO UAE</td>\n",
       "      <td>tel:+971 4 815 1111</td>\n",
       "      <td>https://www.shieldmeglobal.com/</td>\n",
       "      <td>Consumer email:info@shieldmeglobal.com</td>\n",
       "      <td>Location: UAE, Kuwait, Oman, Bahrain</td>\n",
       "      <td>Price: $45</td>\n",
       "      <td>Product Category: Unlikely to Cause a Reaction...</td>\n",
       "    </tr>\n",
       "    <tr>\n",
       "      <th>...</th>\n",
       "      <td>...</td>\n",
       "      <td>...</td>\n",
       "      <td>...</td>\n",
       "      <td>...</td>\n",
       "      <td>...</td>\n",
       "      <td>...</td>\n",
       "      <td>...</td>\n",
       "      <td>...</td>\n",
       "      <td>...</td>\n",
       "      <td>...</td>\n",
       "      <td>...</td>\n",
       "    </tr>\n",
       "    <tr>\n",
       "      <th>154</th>\n",
       "      <td>Amway Atmosphere Mini Air Purifier</td>\n",
       "      <td>The Atmosphere MiniTM  Air Treatment System ut...</td>\n",
       "      <td>Seal of approval: Yes</td>\n",
       "      <td>Type: Air Purifiers</td>\n",
       "      <td>Manufacture: Amway Corp.</td>\n",
       "      <td>None</td>\n",
       "      <td>https://www.amway.com/</td>\n",
       "      <td>None</td>\n",
       "      <td>Location: India, Japan, Thailand, Malaysia, Si...</td>\n",
       "      <td>None</td>\n",
       "      <td>None</td>\n",
       "    </tr>\n",
       "    <tr>\n",
       "      <th>155</th>\n",
       "      <td>Amway Atmosphere Drive Automobile Air Purifier</td>\n",
       "      <td>The Atmosphere Drive™ Car Air Treatment System...</td>\n",
       "      <td>Seal of approval: Yes</td>\n",
       "      <td>Type: Air Purifiers</td>\n",
       "      <td>Manufacture: Amway Corp.</td>\n",
       "      <td>None</td>\n",
       "      <td>https://www.allergyuk.org/our-services/allergy...</td>\n",
       "      <td>None</td>\n",
       "      <td>Location: China, Taiwan, Hong Kong, South Kore...</td>\n",
       "      <td>None</td>\n",
       "      <td>None</td>\n",
       "    </tr>\n",
       "    <tr>\n",
       "      <th>156</th>\n",
       "      <td>Allerman Anti Allergy Bedding</td>\n",
       "      <td>Allerman’s Allergy X-Cover is a microfiber thr...</td>\n",
       "      <td>Seal of approval: Yes</td>\n",
       "      <td>Type: Bedding</td>\n",
       "      <td>Manufacture: Allerman Co, Ltd</td>\n",
       "      <td>tel:+82319222791</td>\n",
       "      <td>https://www.allerman.com/</td>\n",
       "      <td>None</td>\n",
       "      <td>Location: South Korea</td>\n",
       "      <td>Price: From $50.00 - $540.00</td>\n",
       "      <td>None</td>\n",
       "    </tr>\n",
       "    <tr>\n",
       "      <th>157</th>\n",
       "      <td>Drosh Mens Clothing</td>\n",
       "      <td>Drosh is a brand of the underwear clothes prod...</td>\n",
       "      <td>Allergy Friendly Product Award: Yes</td>\n",
       "      <td>Type: Personal Care</td>\n",
       "      <td>Manufacture: Ajlan Ben Abdulaziz Alajlan &amp; Bro...</td>\n",
       "      <td>tel:00966 11 4665555</td>\n",
       "      <td>https://www.ajlanbros.com/</td>\n",
       "      <td>Consumer email:ajlan@ajlanbros.com</td>\n",
       "      <td>Location: Saudi Arabia, Qatar, Bahrain, UAE, O...</td>\n",
       "      <td>None</td>\n",
       "      <td>Product Category: May be of Benefit, Unlikely ...</td>\n",
       "    </tr>\n",
       "    <tr>\n",
       "      <th>158</th>\n",
       "      <td>Astex Pristine, Fully Encased</td>\n",
       "      <td>Soft, supple, silent, breathable and lightweig...</td>\n",
       "      <td>Seal of approval: Yes</td>\n",
       "      <td>Type: Bedding</td>\n",
       "      <td>Manufacture: ACP Solutions (Astex Allergy Bedd...</td>\n",
       "      <td>tel:01453 833345</td>\n",
       "      <td>https://www.allergyuk.org/our-services/allergy...</td>\n",
       "      <td>None</td>\n",
       "      <td>Location: UK</td>\n",
       "      <td>Price: From £143.50</td>\n",
       "      <td>None</td>\n",
       "    </tr>\n",
       "  </tbody>\n",
       "</table>\n",
       "<p>159 rows × 11 columns</p>\n",
       "</div>"
      ],
      "text/plain": [
       "                                       Product Name  \\\n",
       "0                                               NaN   \n",
       "1                              OSIM uAlpine Smart 2   \n",
       "2                         THOMAS AQUA+ Pet & Family   \n",
       "3                     SHIELDME Hand Sanitiser 100ml   \n",
       "4                          SHIELDME Disinfectant 5L   \n",
       "..                                              ...   \n",
       "154              Amway Atmosphere Mini Air Purifier   \n",
       "155  Amway Atmosphere Drive Automobile Air Purifier   \n",
       "156                   Allerman Anti Allergy Bedding   \n",
       "157                             Drosh Mens Clothing   \n",
       "158                   Astex Pristine, Fully Encased   \n",
       "\n",
       "                                   Product Description  \\\n",
       "0                                                  NaN   \n",
       "1    Designed with the ultimate air purification in...   \n",
       "2    THOMAS AQUA+ Technology: The perfect solution ...   \n",
       "3    SHIELD MIDDLE EAST is a leader in manufacturin...   \n",
       "4    SHIELD MIDDLE EAST is a leader in manufacturin...   \n",
       "..                                                 ...   \n",
       "154  The Atmosphere MiniTM  Air Treatment System ut...   \n",
       "155  The Atmosphere Drive™ Car Air Treatment System...   \n",
       "156  Allerman’s Allergy X-Cover is a microfiber thr...   \n",
       "157  Drosh is a brand of the underwear clothes prod...   \n",
       "158  Soft, supple, silent, breathable and lightweig...   \n",
       "\n",
       "                                Approval                         Product Type  \\\n",
       "0                                    NaN                                  NaN   \n",
       "1                  Seal of approval: Yes                  Type: Air Purifiers   \n",
       "2                  Seal of approval: Yes  Type: Vacuum Cleaners & Accessories   \n",
       "3                  Seal of approval: Yes              Type: Cleaning Products   \n",
       "4    Allergy Friendly Product Award: Yes              Type: Cleaning Products   \n",
       "..                                   ...                                  ...   \n",
       "154                Seal of approval: Yes                  Type: Air Purifiers   \n",
       "155                Seal of approval: Yes                  Type: Air Purifiers   \n",
       "156                Seal of approval: Yes                        Type: Bedding   \n",
       "157  Allergy Friendly Product Award: Yes                  Type: Personal Care   \n",
       "158                Seal of approval: Yes                        Type: Bedding   \n",
       "\n",
       "                                          Manufacturer  \\\n",
       "0                                                  NaN   \n",
       "1                  Manufacture: OSIM International Ltd   \n",
       "2                           Manufacture: Robert Thomas   \n",
       "3             Manufacture: SHIELD MIDDLE EAST FZCO UAE   \n",
       "4             Manufacture: SHIELD MIDDLE EAST FZCO UAE   \n",
       "..                                                 ...   \n",
       "154                           Manufacture: Amway Corp.   \n",
       "155                           Manufacture: Amway Corp.   \n",
       "156                      Manufacture: Allerman Co, Ltd   \n",
       "157  Manufacture: Ajlan Ben Abdulaziz Alajlan & Bro...   \n",
       "158  Manufacture: ACP Solutions (Astex Allergy Bedd...   \n",
       "\n",
       "                            Telephone  \\\n",
       "0                                 NaN   \n",
       "1    tel:Please refer to www.osim.com   \n",
       "2                                None   \n",
       "3                 tel:+971 4 815 1111   \n",
       "4                 tel:+971 4 815 1111   \n",
       "..                                ...   \n",
       "154                              None   \n",
       "155                              None   \n",
       "156                  tel:+82319222791   \n",
       "157              tel:00966 11 4665555   \n",
       "158                  tel:01453 833345   \n",
       "\n",
       "                                               Website  \\\n",
       "0                                                  NaN   \n",
       "1                                https://www.osim.com/   \n",
       "2               https://www.thomas-petandfamily.co.uk/   \n",
       "3                      https://www.shieldmeglobal.com/   \n",
       "4                      https://www.shieldmeglobal.com/   \n",
       "..                                                 ...   \n",
       "154                             https://www.amway.com/   \n",
       "155  https://www.allergyuk.org/our-services/allergy...   \n",
       "156                          https://www.allerman.com/   \n",
       "157                         https://www.ajlanbros.com/   \n",
       "158  https://www.allergyuk.org/our-services/allergy...   \n",
       "\n",
       "                                           E-mail  \\\n",
       "0                                             NaN   \n",
       "1     Consumer email:Please refer to www.osim.com   \n",
       "2    Consumer email:UK-SERVICE1@ROBERT-THOMAS.NET   \n",
       "3          Consumer email:info@shieldmeglobal.com   \n",
       "4          Consumer email:info@shieldmeglobal.com   \n",
       "..                                            ...   \n",
       "154                                          None   \n",
       "155                                          None   \n",
       "156                                          None   \n",
       "157            Consumer email:ajlan@ajlanbros.com   \n",
       "158                                          None   \n",
       "\n",
       "                                              Location  \\\n",
       "0                                                  NaN   \n",
       "1                              Location: UK, Worldwide   \n",
       "2                                 Location: UK, Europe   \n",
       "3                 Location: UAE, Kuwait, Oman, Bahrain   \n",
       "4                 Location: UAE, Kuwait, Oman, Bahrain   \n",
       "..                                                 ...   \n",
       "154  Location: India, Japan, Thailand, Malaysia, Si...   \n",
       "155  Location: China, Taiwan, Hong Kong, South Kore...   \n",
       "156                              Location: South Korea   \n",
       "157  Location: Saudi Arabia, Qatar, Bahrain, UAE, O...   \n",
       "158                                       Location: UK   \n",
       "\n",
       "                                   price  \\\n",
       "0                                    NaN   \n",
       "1    Price: Please refer to www.osim.com   \n",
       "2                                   None   \n",
       "3                            Price: $4.5   \n",
       "4                             Price: $45   \n",
       "..                                   ...   \n",
       "154                                 None   \n",
       "155                                 None   \n",
       "156         Price: From $50.00 - $540.00   \n",
       "157                                 None   \n",
       "158                  Price: From £143.50   \n",
       "\n",
       "                                      Product Category  \n",
       "0                                                  NaN  \n",
       "1    Product Category: Efficiency reducing small pa...  \n",
       "2                                                 None  \n",
       "3    Product Category: Unlikely to Cause a Reaction...  \n",
       "4    Product Category: Unlikely to Cause a Reaction...  \n",
       "..                                                 ...  \n",
       "154                                               None  \n",
       "155                                               None  \n",
       "156                                               None  \n",
       "157  Product Category: May be of Benefit, Unlikely ...  \n",
       "158                                               None  \n",
       "\n",
       "[159 rows x 11 columns]"
      ]
     },
     "execution_count": 6,
     "metadata": {},
     "output_type": "execute_result"
    }
   ],
   "source": [
    "gc"
   ]
  },
  {
   "cell_type": "code",
   "execution_count": 7,
   "id": "7d1521a7",
   "metadata": {},
   "outputs": [],
   "source": [
    "gc.to_excel('AllergyUK.xlsx')"
   ]
  },
  {
   "cell_type": "code",
   "execution_count": null,
   "id": "ea9071fa",
   "metadata": {},
   "outputs": [],
   "source": [
    "re.sub(r'\\b\\w{1,3}\\b', '', 'The quick brown fox jumps over the lazy dog')"
   ]
  }
 ],
 "metadata": {
  "kernelspec": {
   "display_name": "Python 3 (ipykernel)",
   "language": "python",
   "name": "python3"
  },
  "language_info": {
   "codemirror_mode": {
    "name": "ipython",
    "version": 3
   },
   "file_extension": ".py",
   "mimetype": "text/x-python",
   "name": "python",
   "nbconvert_exporter": "python",
   "pygments_lexer": "ipython3",
   "version": "3.9.12"
  }
 },
 "nbformat": 4,
 "nbformat_minor": 5
}
